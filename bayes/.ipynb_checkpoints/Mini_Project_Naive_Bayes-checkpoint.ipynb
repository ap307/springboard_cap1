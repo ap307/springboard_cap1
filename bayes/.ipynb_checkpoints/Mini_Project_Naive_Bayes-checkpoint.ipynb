{
 "cells": [
  {
   "cell_type": "markdown",
   "metadata": {},
   "source": [
    "# Basic Text Classification with Naive Bayes\n",
    "***\n",
    "In the mini-project, you'll learn the basics of text analysis using a subset of movie reviews from the rotten tomatoes database. You'll also use a fundamental technique in Bayesian inference, called Naive Bayes. This mini-project is based on [Lab 10 of Harvard's CS109](https://github.com/cs109/2015lab10) class.  Please free to go to the original lab for additional exercises and solutions."
   ]
  },
  {
   "cell_type": "code",
   "execution_count": 1,
   "metadata": {
    "collapsed": false
   },
   "outputs": [
    {
     "name": "stderr",
     "output_type": "stream",
     "text": [
      "/Users/alessandropapa/anaconda/lib/python2.7/site-packages/sklearn/cross_validation.py:44: DeprecationWarning: This module was deprecated in version 0.18 in favor of the model_selection module into which all the refactored classes and functions are moved. Also note that the interface of the new CV iterators are different from that of this module. This module will be removed in 0.20.\n",
      "  \"This module will be removed in 0.20.\", DeprecationWarning)\n"
     ]
    }
   ],
   "source": [
    "%matplotlib inline\n",
    "import numpy as np\n",
    "import scipy as sp\n",
    "import matplotlib as mpl\n",
    "import matplotlib.cm as cm\n",
    "import matplotlib.pyplot as plt\n",
    "import pandas as pd\n",
    "import seaborn as sns\n",
    "from six.moves import range\n",
    "\n",
    "# Setup Pandas\n",
    "pd.set_option('display.width', 500)\n",
    "pd.set_option('display.max_columns', 100)\n",
    "pd.set_option('display.notebook_repr_html', True)\n",
    "\n",
    "# Setup Seaborn\n",
    "sns.set_style(\"whitegrid\")\n",
    "sns.set_context(\"poster\")\n",
    "\n",
    "# Setup sklearn\n",
    "from sklearn.model_selection import KFold, train_test_split\n",
    "from sklearn.naive_bayes import MultinomialNB\n",
    "from sklearn.ensemble import RandomForestClassifier\n",
    "from sklearn.linear_model import LogisticRegression\n",
    "\n",
    "# gensim modules\n",
    "from gensim import utils\n",
    "from gensim.models.doc2vec import LabeledSentence\n",
    "from gensim.models import Doc2Vec, Word2Vec\n",
    "\n",
    "# Setup nlkt\n",
    "from nltk import word_tokenize          \n",
    "from nltk.stem import WordNetLemmatizer \n",
    "class LemmaTokenizer(object):\n",
    "    def __init__(self):\n",
    "        self.wnl = WordNetLemmatizer()\n",
    "    def __call__(self, doc):\n",
    "        return [self.wnl.lemmatize(t) for t in word_tokenize(doc)]\n",
    "\n",
    "import string\n",
    "import xgboost as xgb"
   ]
  },
  {
   "cell_type": "markdown",
   "metadata": {},
   "source": [
    "# Table of Contents\n",
    "\n",
    "* [Rotten Tomatoes Dataset](#Rotten-Tomatoes-Dataset)\n",
    "    * [Explore](#Explore)\n",
    "* [The Vector Space Model and a Search Engine](#The-Vector-Space-Model-and-a-Search-Engine)\n",
    "    * [In Code](#In-Code)\n",
    "* [Naive Bayes](#Naive-Bayes)\n",
    "    * [Multinomial Naive Bayes and Other Likelihood Functions](#Multinomial-Naive-Bayes-and-Other-Likelihood-Functions)\n",
    "    * [Picking Hyperparameters for Naive Bayes and Text Maintenance](#Picking-Hyperparameters-for-Naive-Bayes-and-Text-Maintenance)\n",
    "* [Interpretation](#Interpretation)\n"
   ]
  },
  {
   "cell_type": "markdown",
   "metadata": {},
   "source": [
    "## Rotten Tomatoes Dataset"
   ]
  },
  {
   "cell_type": "code",
   "execution_count": 2,
   "metadata": {
    "collapsed": false
   },
   "outputs": [
    {
     "data": {
      "text/html": [
       "<div>\n",
       "<table border=\"1\" class=\"dataframe\">\n",
       "  <thead>\n",
       "    <tr style=\"text-align: right;\">\n",
       "      <th></th>\n",
       "      <th>critic</th>\n",
       "      <th>fresh</th>\n",
       "      <th>imdb</th>\n",
       "      <th>publication</th>\n",
       "      <th>quote</th>\n",
       "      <th>review_date</th>\n",
       "      <th>rtid</th>\n",
       "      <th>title</th>\n",
       "    </tr>\n",
       "  </thead>\n",
       "  <tbody>\n",
       "    <tr>\n",
       "      <th>1</th>\n",
       "      <td>Derek Adams</td>\n",
       "      <td>fresh</td>\n",
       "      <td>114709</td>\n",
       "      <td>Time Out</td>\n",
       "      <td>So ingenious in concept, design and execution ...</td>\n",
       "      <td>2009-10-04</td>\n",
       "      <td>9559</td>\n",
       "      <td>Toy story</td>\n",
       "    </tr>\n",
       "    <tr>\n",
       "      <th>2</th>\n",
       "      <td>Richard Corliss</td>\n",
       "      <td>fresh</td>\n",
       "      <td>114709</td>\n",
       "      <td>TIME Magazine</td>\n",
       "      <td>The year's most inventive comedy.</td>\n",
       "      <td>2008-08-31</td>\n",
       "      <td>9559</td>\n",
       "      <td>Toy story</td>\n",
       "    </tr>\n",
       "    <tr>\n",
       "      <th>3</th>\n",
       "      <td>David Ansen</td>\n",
       "      <td>fresh</td>\n",
       "      <td>114709</td>\n",
       "      <td>Newsweek</td>\n",
       "      <td>A winning animated feature that has something ...</td>\n",
       "      <td>2008-08-18</td>\n",
       "      <td>9559</td>\n",
       "      <td>Toy story</td>\n",
       "    </tr>\n",
       "    <tr>\n",
       "      <th>4</th>\n",
       "      <td>Leonard Klady</td>\n",
       "      <td>fresh</td>\n",
       "      <td>114709</td>\n",
       "      <td>Variety</td>\n",
       "      <td>The film sports a provocative and appealing st...</td>\n",
       "      <td>2008-06-09</td>\n",
       "      <td>9559</td>\n",
       "      <td>Toy story</td>\n",
       "    </tr>\n",
       "    <tr>\n",
       "      <th>5</th>\n",
       "      <td>Jonathan Rosenbaum</td>\n",
       "      <td>fresh</td>\n",
       "      <td>114709</td>\n",
       "      <td>Chicago Reader</td>\n",
       "      <td>An entertaining computer-generated, hyperreali...</td>\n",
       "      <td>2008-03-10</td>\n",
       "      <td>9559</td>\n",
       "      <td>Toy story</td>\n",
       "    </tr>\n",
       "  </tbody>\n",
       "</table>\n",
       "</div>"
      ],
      "text/plain": [
       "               critic  fresh    imdb     publication                                              quote review_date  rtid      title\n",
       "1         Derek Adams  fresh  114709        Time Out  So ingenious in concept, design and execution ...  2009-10-04  9559  Toy story\n",
       "2     Richard Corliss  fresh  114709   TIME Magazine                  The year's most inventive comedy.  2008-08-31  9559  Toy story\n",
       "3         David Ansen  fresh  114709        Newsweek  A winning animated feature that has something ...  2008-08-18  9559  Toy story\n",
       "4       Leonard Klady  fresh  114709         Variety  The film sports a provocative and appealing st...  2008-06-09  9559  Toy story\n",
       "5  Jonathan Rosenbaum  fresh  114709  Chicago Reader  An entertaining computer-generated, hyperreali...  2008-03-10  9559  Toy story"
      ]
     },
     "execution_count": 2,
     "metadata": {},
     "output_type": "execute_result"
    }
   ],
   "source": [
    "critics = pd.read_csv('./critics.csv')\n",
    "#let's drop rows with missing quotes\n",
    "critics = critics[~critics.quote.isnull()]\n",
    "critics.head()"
   ]
  },
  {
   "cell_type": "markdown",
   "metadata": {},
   "source": [
    "### Explore"
   ]
  },
  {
   "cell_type": "code",
   "execution_count": 3,
   "metadata": {
    "collapsed": false
   },
   "outputs": [
    {
     "name": "stdout",
     "output_type": "stream",
     "text": [
      "Number of reviews: 15561\n",
      "Number of critics: 623\n",
      "Number of movies:  1921\n"
     ]
    }
   ],
   "source": [
    "n_reviews = len(critics)\n",
    "n_movies = critics.rtid.unique().size\n",
    "n_critics = critics.critic.unique().size\n",
    "\n",
    "\n",
    "print(\"Number of reviews: {:d}\".format(n_reviews))\n",
    "print(\"Number of critics: {:d}\".format(n_critics))\n",
    "print(\"Number of movies:  {:d}\".format(n_movies))"
   ]
  },
  {
   "cell_type": "code",
   "execution_count": 4,
   "metadata": {
    "collapsed": false
   },
   "outputs": [
    {
     "data": {
      "image/png": "[encoded data removed]",
      "text/plain": [
       "<matplotlib.figure.Figure at 0x10cf2b2d0>"
      ]
     },
     "metadata": {},
     "output_type": "display_data"
    }
   ],
   "source": [
    "df = critics.copy()\n",
    "df['fresh'] = df.fresh == 'fresh'\n",
    "grp = df.groupby('critic')\n",
    "counts = grp.critic.count()  # number of reviews by each critic\n",
    "means = grp.fresh.mean()     # average freshness for each critic\n",
    "\n",
    "means[counts > 100].hist(bins=10, edgecolor='w', lw=1)\n",
    "plt.xlabel(\"Average Rating per critic\")\n",
    "plt.ylabel(\"Number of Critics\")\n",
    "plt.yticks([0, 2, 4, 6, 8, 10]);"
   ]
  },
  {
   "cell_type": "markdown",
   "metadata": {},
   "source": [
    "<div class=\"span5 alert alert-info\">\n",
    "<h3>Exercise Set I</h3>\n",
    "<br/>\n",
    "<b>Exercise:</b> Look at the histogram above. Tell a story about the average ratings per critic. What shape does the distribution look like? What is interesting about the distribution? What might explain these interesting things?\n",
    "</div>"
   ]
  },
  {
   "cell_type": "markdown",
   "metadata": {},
   "source": [
    "Distribution is cenetered above 0.5 and skewed towards more positive ratings. However the distribution appears almost bimodal, with one distribution (applied to a the smaller sub-population) centered around 0.5 and another distribuiton centered at 65-70% positive ratings. Indicates that reviewers could be categorized between groups which give as many \"fresh\" reviews as not, and others that tend towards more positive reviews than not. Worth investigating whether selection bias exists for the positively biased group (e.g. whether these reviewers seek out movies in genres / with actors that they are more positively disposed to prior to their review)."
   ]
  },
  {
   "cell_type": "markdown",
   "metadata": {},
   "source": [
    "## The Vector Space Model and a Search Engine"
   ]
  },
  {
   "cell_type": "markdown",
   "metadata": {},
   "source": [
    "All the diagrams here are snipped from [*Introduction to Information Retrieval* by Manning et. al.]( http://nlp.stanford.edu/IR-book/) which is a great resource on text processing. For additional information on text mining and natural language processing, see [*Foundations of Statistical Natural Language Processing* by Manning and Schutze](http://nlp.stanford.edu/fsnlp/).\n",
    "\n",
    "Also check out Python packages [`nltk`](http://www.nltk.org/), [`spaCy`](https://spacy.io/), [`pattern`](http://www.clips.ua.ac.be/pattern), and their associated resources. Also see [`word2vec`](https://en.wikipedia.org/wiki/Word2vec).\n",
    "\n",
    "Let us define the vector derived from document $d$ by $\\bar V(d)$. What does this mean? Each document is treated as a vector containing information about the words contained in it. Each vector has the same length and each entry \"slot\" in the vector contains some kind of data about the words that appear in the document such as presence/absence (1/0), count (an integer) or some other statistic. Each vector has the same length because each document shared the same vocabulary across the full collection of documents -- this collection is called a *corpus*.\n",
    "\n",
    "To define the vocabulary, we take a union of all words we have seen in all documents. We then just associate an array index with them. So \"hello\" may be at index 5 and \"world\" at index 99.\n",
    "\n",
    "Suppose we have the following corpus:\n",
    "\n",
    "`A Fox one day spied a beautiful bunch of ripe grapes hanging from a vine trained along the branches of a tree. The grapes seemed ready to burst with juice, and the Fox's mouth watered as he gazed longingly at them.`\n",
    "\n",
    "Suppose we treat each sentence as a document $d$. The vocabulary (often called the *lexicon*) is the following:\n",
    "\n",
    "$V = \\left\\{\\right.$ `a, along, and, as, at, beautiful, branches, bunch, burst, day, fox, fox's, from, gazed, grapes, hanging, he, juice, longingly, mouth, of, one, ready, ripe, seemed, spied, the, them, to, trained, tree, vine, watered, with`$\\left.\\right\\}$\n",
    "\n",
    "Then the document\n",
    "\n",
    "`A Fox one day spied a beautiful bunch of ripe grapes hanging from a vine trained along the branches of a tree`\n",
    "\n",
    "may be represented as the following sparse vector of word counts:\n",
    "\n",
    "$$\\bar V(d) = \\left( 4,1,0,0,0,1,1,1,0,1,1,0,1,0,1,1,0,0,0,0,2,1,0,1,0,0,1,0,0,0,1,1,0,0 \\right)$$\n",
    "\n",
    "or more succinctly as\n",
    "\n",
    "`[(0, 4), (1, 1), (5, 1), (6, 1), (7, 1), (9, 1), (10, 1), (12, 1), (14, 1), (15, 1), (20, 2), (21, 1), (23, 1),`\n",
    "`(26, 1), (30, 1), (31, 1)]`\n",
    "\n",
    "along with a dictionary\n",
    "\n",
    "``\n",
    "{\n",
    "    0: a, 1: along, 5: beautiful, 6: branches, 7: bunch, 9: day, 10: fox, 12: from, 14: grapes, \n",
    "    15: hanging, 19: mouth, 20: of, 21: one, 23: ripe, 24: seemed, 25: spied, 26: the, \n",
    "    30: tree, 31: vine, \n",
    "}\n",
    "``\n",
    "\n",
    "Then, a set of documents becomes, in the usual `sklearn` style, a sparse matrix with rows being sparse arrays representing documents and columns representing the features/words in the vocabulary.\n",
    "\n",
    "Notice that this representation loses the relative ordering of the terms in the document. That is \"cat ate rat\" and \"rat ate cat\" are the same. Thus, this representation is also known as the Bag-Of-Words representation.\n",
    "\n",
    "Here is another example, from the book quoted above, although the matrix is transposed here so that documents are columns:\n",
    "\n",
    "![novel terms](terms.png)\n",
    "\n",
    "Such a matrix is also catted a Term-Document Matrix. Here, the terms being indexed could be stemmed before indexing; for instance, `jealous` and `jealousy` after stemming are the same feature. One could also make use of other \"Natural Language Processing\" transformations in constructing the vocabulary. We could use Lemmatization, which reduces words to lemmas: work, working, worked would all reduce to work. We could remove \"stopwords\" from our vocabulary, such as common words like \"the\". We could look for particular parts of speech, such as adjectives. This is often done in Sentiment Analysis. And so on. It all depends on our application.\n",
    "\n",
    "From the book:\n",
    ">The standard way of quantifying the similarity between two documents $d_1$ and $d_2$  is to compute the cosine similarity of their vector representations $\\bar V(d_1)$ and $\\bar V(d_2)$:\n",
    "\n",
    "$$S_{12} = \\frac{\\bar V(d_1) \\cdot \\bar V(d_2)}{|\\bar V(d_1)| \\times |\\bar V(d_2)|}$$\n",
    "\n",
    "![Vector Space Model](vsm.png)\n",
    "\n",
    "\n",
    ">There is a far more compelling reason to represent documents as vectors: we can also view a query as a vector. Consider the query q = jealous gossip. This query turns into the unit vector $\\bar V(q)$ = (0, 0.707, 0.707) on the three coordinates below. \n",
    "\n",
    "![novel terms](terms2.png)\n",
    "\n",
    ">The key idea now: to assign to each document d a score equal to the dot product:\n",
    "\n",
    "$$\\bar V(q) \\cdot \\bar V(d)$$\n",
    "\n",
    "Then we can use this simple Vector Model as a Search engine."
   ]
  },
  {
   "cell_type": "markdown",
   "metadata": {},
   "source": [
    "### In Code"
   ]
  },
  {
   "cell_type": "code",
   "execution_count": 5,
   "metadata": {
    "collapsed": false
   },
   "outputs": [
    {
     "name": "stdout",
     "output_type": "stream",
     "text": [
      "Original text is\n",
      "Hop on pop\n",
      "Hop off pop\n",
      "Hop Hop hop\n",
      "\n",
      "Transformed text vector is \n",
      "[[1 0 1 1]\n",
      " [1 1 0 1]\n",
      " [3 0 0 0]]\n",
      "\n",
      "Words for each feature:\n",
      "[u'hop', u'off', u'on', u'pop']\n"
     ]
    }
   ],
   "source": [
    "from sklearn.feature_extraction.text import CountVectorizer\n",
    "\n",
    "text = ['Hop on pop', 'Hop off pop', 'Hop Hop hop']\n",
    "print(\"Original text is\\n{}\".format('\\n'.join(text)))\n",
    "\n",
    "vectorizer = CountVectorizer(min_df=0)\n",
    "\n",
    "# call `fit` to build the vocabulary\n",
    "vectorizer.fit(text)\n",
    "\n",
    "# call `transform` to convert text to a bag of words\n",
    "x = vectorizer.transform(text)\n",
    "\n",
    "# CountVectorizer uses a sparse array to save memory, but it's easier in this assignment to \n",
    "# convert back to a \"normal\" numpy array\n",
    "x = x.toarray()\n",
    "\n",
    "print(\"\")\n",
    "print(\"Transformed text vector is \\n{}\".format(x))\n",
    "\n",
    "# `get_feature_names` tracks which word is associated with each column of the transformed x\n",
    "print(\"\")\n",
    "print(\"Words for each feature:\")\n",
    "print(vectorizer.get_feature_names())\n",
    "\n",
    "# Notice that the bag of words treatment doesn't preserve information about the *order* of words, \n",
    "# just their frequency"
   ]
  },
  {
   "cell_type": "code",
   "execution_count": 6,
   "metadata": {
    "collapsed": false
   },
   "outputs": [
    {
     "name": "stdout",
     "output_type": "stream",
     "text": [
      "  (0, 0)\t1\n",
      "  (0, 2)\t1\n",
      "  (0, 3)\t1\n",
      "  (1, 0)\t1\n",
      "  (1, 1)\t1\n",
      "  (1, 3)\t1\n",
      "  (2, 0)\t3\n"
     ]
    }
   ],
   "source": [
    "print vectorizer.transform(text)"
   ]
  },
  {
   "cell_type": "code",
   "execution_count": 7,
   "metadata": {
    "collapsed": false
   },
   "outputs": [],
   "source": [
    "def make_xy(critics, vectorizer=None):\n",
    "    #Your code here    \n",
    "    if vectorizer is None:\n",
    "        vectorizer = CountVectorizer()\n",
    "    X = vectorizer.fit_transform(critics.quote)\n",
    "    X = X.tocsc()  # some versions of sklearn return COO format\n",
    "    y = (critics.fresh == 'fresh').values.astype(np.int)\n",
    "    X_cols = vectorizer.get_feature_names()\n",
    "    return X, y, X_cols\n",
    "X, y, X_cols = make_xy(critics)\n",
    "X = X.toarray()"
   ]
  },
  {
   "cell_type": "markdown",
   "metadata": {},
   "source": [
    "## Naive Bayes"
   ]
  },
  {
   "cell_type": "markdown",
   "metadata": {},
   "source": [
    "From Bayes' Theorem, we have that\n",
    "\n",
    "$$P(c \\vert f) = \\frac{P(c \\cap f)}{P(f)}$$\n",
    "\n",
    "where $c$ represents a *class* or category, and $f$ represents a feature vector, such as $\\bar V(d)$ as above. **We are computing the probability that a document (or whatever we are classifying) belongs to category *c* given the features in the document.** $P(f)$ is really just a normalization constant, so the literature usually writes Bayes' Theorem in context of Naive Bayes as\n",
    "\n",
    "$$P(c \\vert f) \\propto P(f \\vert c) P(c) $$\n",
    "\n",
    "$P(c)$ is called the *prior* and is simply the probability of seeing class $c$. But what is $P(f \\vert c)$? This is the probability that we see feature set $f$ given that this document is actually in class $c$. This is called the *likelihood* and comes from the data. One of the major assumptions of the Naive Bayes model is that the features are *conditionally independent* given the class. While the presence of a particular discriminative word may uniquely identify the document as being part of class $c$ and thus violate general feature independence, conditional independence means that the presence of that term is independent of all the other words that appear *within that class*. This is a very important distinction. Recall that if two events are independent, then:\n",
    "\n",
    "$$P(A \\cap B) = P(A) \\cdot P(B)$$\n",
    "\n",
    "Thus, conditional independence implies\n",
    "\n",
    "$$P(f \\vert c)  = \\prod_i P(f_i | c) $$\n",
    "\n",
    "where $f_i$ is an individual feature (a word in this example).\n",
    "\n",
    "To make a classification, we then choose the class $c$ such that $P(c \\vert f)$ is maximal.\n",
    "\n",
    "There is a small caveat when computing these probabilities. For [floating point underflow](http://nlp.stanford.edu/IR-book/html/htmledition/naive-bayes-text-classification-1.html) we change the product into a sum by going into log space. This is called the LogSumExp trick. So:\n",
    "\n",
    "$$\\log P(f \\vert c)  = \\sum_i \\log P(f_i \\vert c) $$\n",
    "\n",
    "There is another caveat. What if we see a term that didn't exist in the training data? This means that $P(f_i \\vert c) = 0$ for that term, and thus $P(f \\vert c)  = \\prod_i P(f_i | c) = 0$, which doesn't help us at all. Instead of using zeros, we add a small negligible value called $\\alpha$ to each count. This is called Laplace Smoothing.\n",
    "\n",
    "$$P(f_i \\vert c) = \\frac{N_{ic}+\\alpha}{N_c + \\alpha N_i}$$\n",
    "\n",
    "where $N_{ic}$ is the number of times feature $i$ was seen in class $c$, $N_c$ is the number of times class $c$ was seen and $N_i$ is the number of times feature $i$ was seen globally. $\\alpha$ is sometimes called a regularization parameter."
   ]
  },
  {
   "cell_type": "markdown",
   "metadata": {},
   "source": [
    "### Multinomial Naive Bayes and Other Likelihood Functions\n",
    "\n",
    "Since we are modeling word counts, we are using variation of Naive Bayes called Multinomial Naive Bayes. This is because the likelihood function actually takes the form of the multinomial distribution.\n",
    "\n",
    "$$P(f \\vert c) = \\frac{\\left( \\sum_i f_i \\right)!}{\\prod_i f_i!} \\prod_{f_i} P(f_i \\vert c)^{f_i} \\propto \\prod_{i} P(f_i \\vert c)$$\n",
    "\n",
    "where the nasty term out front is absorbed as a normalization constant such that probabilities sum to 1.\n",
    "\n",
    "There are many other variations of Naive Bayes, all which depend on what type of value $f_i$ takes. If $f_i$ is continuous, we may be able to use *Gaussian Naive Bayes*. First compute the mean and variance for each class $c$. Then the likelihood, $P(f \\vert c)$ is given as follows\n",
    "\n",
    "$$P(f_i = v \\vert c) = \\frac{1}{\\sqrt{2\\pi \\sigma^2_c}} e^{- \\frac{\\left( v - \\mu_c \\right)^2}{2 \\sigma^2_c}}$$"
   ]
  },
  {
   "cell_type": "markdown",
   "metadata": {},
   "source": [
    "<div class=\"span5 alert alert-info\">\n",
    "<h3>Exercise Set II</h3>\n",
    "\n",
    "<p><b>Exercise:</b> Implement a simple Naive Bayes classifier:</p>\n",
    "\n",
    "<ol>\n",
    "<li> split the data set into a training and test set\n",
    "<li> Use `scikit-learn`'s `MultinomialNB()` classifier with default parameters.\n",
    "<li> train the classifier over the training set and test on the test set\n",
    "<li> print the accuracy scores for both the training and the test sets\n",
    "</ol>\n",
    "\n",
    "What do you notice? Is this a good classifier? If not, why not?\n",
    "</div>"
   ]
  },
  {
   "cell_type": "code",
   "execution_count": 8,
   "metadata": {
    "collapsed": false
   },
   "outputs": [],
   "source": [
    "# Split data set\n",
    "X_train, X_test, y_train, y_test = train_test_split(X, y, test_size=0.3, random_state=1)"
   ]
  },
  {
   "cell_type": "code",
   "execution_count": 9,
   "metadata": {
    "collapsed": false
   },
   "outputs": [],
   "source": [
    "# Instantiate MultinomialNB classifier\n",
    "Mult_NB = MultinomialNB(alpha = 1)\n",
    "\n",
    "# Fit classifier\n",
    "Mult_NB.fit(X_train, y_train)\n",
    "\n",
    "# Predit score\n",
    "y_pred = Mult_NB.predict(X_test)"
   ]
  },
  {
   "cell_type": "code",
   "execution_count": 10,
   "metadata": {
    "collapsed": false
   },
   "outputs": [
    {
     "name": "stdout",
     "output_type": "stream",
     "text": [
      "0.924623576937\n"
     ]
    }
   ],
   "source": [
    "# Accuracy score on train data\n",
    "print Mult_NB.score(X_train, y_train)"
   ]
  },
  {
   "cell_type": "code",
   "execution_count": 11,
   "metadata": {
    "collapsed": false
   },
   "outputs": [
    {
     "name": "stdout",
     "output_type": "stream",
     "text": [
      "0.768258727779\n"
     ]
    }
   ],
   "source": [
    "# Accuracy score on test data\n",
    "print Mult_NB.score(X_test, y_test)"
   ]
  },
  {
   "cell_type": "markdown",
   "metadata": {},
   "source": [
    "A \"flip of the coin\" algorithm would achieve a score of 0.50. This classifier clealry improves on that, however the difference in perofrmance between applying the fittd model to train data vs. test data is significant. This points to possiblity that the model is over fitted, or that there are words in the test data not present in the train data that are skewing predictions."
   ]
  },
  {
   "cell_type": "markdown",
   "metadata": {},
   "source": [
    "### Picking Hyperparameters for Naive Bayes and Text Maintenance"
   ]
  },
  {
   "cell_type": "markdown",
   "metadata": {},
   "source": [
    "We need to know what value to use for $\\alpha$, and we also need to know which words to include in the vocabulary. As mentioned earlier, some words are obvious stopwords. Other words appear so infrequently that they serve as noise, and other words in addition to stopwords appear so frequently that they may also serve as noise."
   ]
  },
  {
   "cell_type": "markdown",
   "metadata": {},
   "source": [
    "First, let's find an appropriate value for `min_df` for the `CountVectorizer`. `min_df` can be either an integer or a float/decimal. If it is an integer, `min_df` represents the minimum number of documents a word must appear in for it to be included in the vocabulary. If it is a float, it represents the minimum *percentage* of documents a word must appear in to be included in the vocabulary. From the documentation:"
   ]
  },
  {
   "cell_type": "markdown",
   "metadata": {},
   "source": [
    ">min_df: When building the vocabulary ignore terms that have a document frequency strictly lower than the given threshold. This value is also called cut-off in the literature. If float, the parameter represents a proportion of documents, integer absolute counts. This parameter is ignored if vocabulary is not None."
   ]
  },
  {
   "cell_type": "markdown",
   "metadata": {},
   "source": [
    "<div class=\"span5 alert alert-info\">\n",
    "<h3>Exercise Set III</h3>\n",
    "\n",
    "<p><b>Exercise:</b> Construct the cumulative distribution of document frequencies (df). The $x$-axis is a document count $x_i$ and the $y$-axis is the percentage of words that appear less than $x_i$ times. For example, at $x=5$, plot a point representing the percentage or number of words that appear in 5 or fewer documents.</p>\n",
    "\n",
    "<p><b>Exercise:</b> Look for the point at which the curve begins climbing steeply. This may be a good value for `min_df`. If we were interested in also picking `max_df`, we would likely pick the value where the curve starts to plateau. What value did you choose?</p>\n",
    "</div>"
   ]
  },
  {
   "cell_type": "code",
   "execution_count": 12,
   "metadata": {
    "collapsed": false
   },
   "outputs": [
    {
     "data": {
      "text/html": [
       "<div>\n",
       "<table border=\"1\" class=\"dataframe\">\n",
       "  <thead>\n",
       "    <tr style=\"text-align: right;\">\n",
       "      <th></th>\n",
       "      <th>000</th>\n",
       "      <th>0014</th>\n",
       "      <th>007</th>\n",
       "      <th>044</th>\n",
       "      <th>07</th>\n",
       "      <th>10</th>\n",
       "      <th>100</th>\n",
       "      <th>101</th>\n",
       "      <th>102</th>\n",
       "      <th>104</th>\n",
       "      <th>105</th>\n",
       "      <th>108</th>\n",
       "      <th>10th</th>\n",
       "      <th>11</th>\n",
       "      <th>110</th>\n",
       "      <th>112</th>\n",
       "      <th>1138</th>\n",
       "      <th>114</th>\n",
       "      <th>118</th>\n",
       "      <th>11th</th>\n",
       "      <th>12</th>\n",
       "      <th>124</th>\n",
       "      <th>125</th>\n",
       "      <th>128</th>\n",
       "      <th>13</th>\n",
       "      <th>130</th>\n",
       "      <th>131</th>\n",
       "      <th>132</th>\n",
       "      <th>133</th>\n",
       "      <th>134</th>\n",
       "      <th>136</th>\n",
       "      <th>137</th>\n",
       "      <th>13th</th>\n",
       "      <th>14</th>\n",
       "      <th>141</th>\n",
       "      <th>145</th>\n",
       "      <th>15</th>\n",
       "      <th>153</th>\n",
       "      <th>15th</th>\n",
       "      <th>16</th>\n",
       "      <th>160</th>\n",
       "      <th>161</th>\n",
       "      <th>1660s</th>\n",
       "      <th>16mm</th>\n",
       "      <th>16th</th>\n",
       "      <th>17</th>\n",
       "      <th>17th</th>\n",
       "      <th>18</th>\n",
       "      <th>180</th>\n",
       "      <th>185</th>\n",
       "      <th>...</th>\n",
       "      <th>zellweger</th>\n",
       "      <th>zemeckis</th>\n",
       "      <th>zen</th>\n",
       "      <th>zero</th>\n",
       "      <th>zeroes</th>\n",
       "      <th>zest</th>\n",
       "      <th>zestfully</th>\n",
       "      <th>zesty</th>\n",
       "      <th>zeta</th>\n",
       "      <th>zhang</th>\n",
       "      <th>zhivago</th>\n",
       "      <th>ziggurats</th>\n",
       "      <th>zigs</th>\n",
       "      <th>zigzag</th>\n",
       "      <th>zigzags</th>\n",
       "      <th>zillion</th>\n",
       "      <th>zimmer</th>\n",
       "      <th>zing</th>\n",
       "      <th>zinger</th>\n",
       "      <th>zingers</th>\n",
       "      <th>zings</th>\n",
       "      <th>zingy</th>\n",
       "      <th>zinnemann</th>\n",
       "      <th>zinner</th>\n",
       "      <th>zip</th>\n",
       "      <th>zipper</th>\n",
       "      <th>zippo</th>\n",
       "      <th>zippy</th>\n",
       "      <th>zips</th>\n",
       "      <th>zirconium</th>\n",
       "      <th>zoe</th>\n",
       "      <th>zombie</th>\n",
       "      <th>zombies</th>\n",
       "      <th>zombified</th>\n",
       "      <th>zonca</th>\n",
       "      <th>zone</th>\n",
       "      <th>zoning</th>\n",
       "      <th>zoo</th>\n",
       "      <th>zoological</th>\n",
       "      <th>zoom</th>\n",
       "      <th>zooming</th>\n",
       "      <th>zooms</th>\n",
       "      <th>zorro</th>\n",
       "      <th>zorros</th>\n",
       "      <th>zowie</th>\n",
       "      <th>zucker</th>\n",
       "      <th>zweibel</th>\n",
       "      <th>zwick</th>\n",
       "      <th>zzzzzs</th>\n",
       "      <th>zzzzzzzzz</th>\n",
       "    </tr>\n",
       "  </thead>\n",
       "  <tbody>\n",
       "    <tr>\n",
       "      <th>0</th>\n",
       "      <td>0</td>\n",
       "      <td>0</td>\n",
       "      <td>0</td>\n",
       "      <td>0</td>\n",
       "      <td>0</td>\n",
       "      <td>0</td>\n",
       "      <td>0</td>\n",
       "      <td>0</td>\n",
       "      <td>0</td>\n",
       "      <td>0</td>\n",
       "      <td>0</td>\n",
       "      <td>0</td>\n",
       "      <td>0</td>\n",
       "      <td>0</td>\n",
       "      <td>0</td>\n",
       "      <td>0</td>\n",
       "      <td>0</td>\n",
       "      <td>0</td>\n",
       "      <td>0</td>\n",
       "      <td>0</td>\n",
       "      <td>0</td>\n",
       "      <td>0</td>\n",
       "      <td>0</td>\n",
       "      <td>0</td>\n",
       "      <td>0</td>\n",
       "      <td>0</td>\n",
       "      <td>0</td>\n",
       "      <td>0</td>\n",
       "      <td>0</td>\n",
       "      <td>0</td>\n",
       "      <td>0</td>\n",
       "      <td>0</td>\n",
       "      <td>0</td>\n",
       "      <td>0</td>\n",
       "      <td>0</td>\n",
       "      <td>0</td>\n",
       "      <td>0</td>\n",
       "      <td>0</td>\n",
       "      <td>0</td>\n",
       "      <td>0</td>\n",
       "      <td>0</td>\n",
       "      <td>0</td>\n",
       "      <td>0</td>\n",
       "      <td>0</td>\n",
       "      <td>0</td>\n",
       "      <td>0</td>\n",
       "      <td>0</td>\n",
       "      <td>0</td>\n",
       "      <td>0</td>\n",
       "      <td>0</td>\n",
       "      <td>...</td>\n",
       "      <td>0</td>\n",
       "      <td>0</td>\n",
       "      <td>0</td>\n",
       "      <td>0</td>\n",
       "      <td>0</td>\n",
       "      <td>0</td>\n",
       "      <td>0</td>\n",
       "      <td>0</td>\n",
       "      <td>0</td>\n",
       "      <td>0</td>\n",
       "      <td>0</td>\n",
       "      <td>0</td>\n",
       "      <td>0</td>\n",
       "      <td>0</td>\n",
       "      <td>0</td>\n",
       "      <td>0</td>\n",
       "      <td>0</td>\n",
       "      <td>0</td>\n",
       "      <td>0</td>\n",
       "      <td>0</td>\n",
       "      <td>0</td>\n",
       "      <td>0</td>\n",
       "      <td>0</td>\n",
       "      <td>0</td>\n",
       "      <td>0</td>\n",
       "      <td>0</td>\n",
       "      <td>0</td>\n",
       "      <td>0</td>\n",
       "      <td>0</td>\n",
       "      <td>0</td>\n",
       "      <td>0</td>\n",
       "      <td>0</td>\n",
       "      <td>0</td>\n",
       "      <td>0</td>\n",
       "      <td>0</td>\n",
       "      <td>0</td>\n",
       "      <td>0</td>\n",
       "      <td>0</td>\n",
       "      <td>0</td>\n",
       "      <td>0</td>\n",
       "      <td>0</td>\n",
       "      <td>0</td>\n",
       "      <td>0</td>\n",
       "      <td>0</td>\n",
       "      <td>0</td>\n",
       "      <td>0</td>\n",
       "      <td>0</td>\n",
       "      <td>0</td>\n",
       "      <td>0</td>\n",
       "      <td>0</td>\n",
       "    </tr>\n",
       "    <tr>\n",
       "      <th>1</th>\n",
       "      <td>0</td>\n",
       "      <td>0</td>\n",
       "      <td>0</td>\n",
       "      <td>0</td>\n",
       "      <td>0</td>\n",
       "      <td>0</td>\n",
       "      <td>0</td>\n",
       "      <td>0</td>\n",
       "      <td>0</td>\n",
       "      <td>0</td>\n",
       "      <td>0</td>\n",
       "      <td>0</td>\n",
       "      <td>0</td>\n",
       "      <td>0</td>\n",
       "      <td>0</td>\n",
       "      <td>0</td>\n",
       "      <td>0</td>\n",
       "      <td>0</td>\n",
       "      <td>0</td>\n",
       "      <td>0</td>\n",
       "      <td>0</td>\n",
       "      <td>0</td>\n",
       "      <td>0</td>\n",
       "      <td>0</td>\n",
       "      <td>0</td>\n",
       "      <td>0</td>\n",
       "      <td>0</td>\n",
       "      <td>0</td>\n",
       "      <td>0</td>\n",
       "      <td>0</td>\n",
       "      <td>0</td>\n",
       "      <td>0</td>\n",
       "      <td>0</td>\n",
       "      <td>0</td>\n",
       "      <td>0</td>\n",
       "      <td>0</td>\n",
       "      <td>0</td>\n",
       "      <td>0</td>\n",
       "      <td>0</td>\n",
       "      <td>0</td>\n",
       "      <td>0</td>\n",
       "      <td>0</td>\n",
       "      <td>0</td>\n",
       "      <td>0</td>\n",
       "      <td>0</td>\n",
       "      <td>0</td>\n",
       "      <td>0</td>\n",
       "      <td>0</td>\n",
       "      <td>0</td>\n",
       "      <td>0</td>\n",
       "      <td>...</td>\n",
       "      <td>0</td>\n",
       "      <td>0</td>\n",
       "      <td>0</td>\n",
       "      <td>0</td>\n",
       "      <td>0</td>\n",
       "      <td>0</td>\n",
       "      <td>0</td>\n",
       "      <td>0</td>\n",
       "      <td>0</td>\n",
       "      <td>0</td>\n",
       "      <td>0</td>\n",
       "      <td>0</td>\n",
       "      <td>0</td>\n",
       "      <td>0</td>\n",
       "      <td>0</td>\n",
       "      <td>0</td>\n",
       "      <td>0</td>\n",
       "      <td>0</td>\n",
       "      <td>0</td>\n",
       "      <td>0</td>\n",
       "      <td>0</td>\n",
       "      <td>0</td>\n",
       "      <td>0</td>\n",
       "      <td>0</td>\n",
       "      <td>0</td>\n",
       "      <td>0</td>\n",
       "      <td>0</td>\n",
       "      <td>0</td>\n",
       "      <td>0</td>\n",
       "      <td>0</td>\n",
       "      <td>0</td>\n",
       "      <td>0</td>\n",
       "      <td>0</td>\n",
       "      <td>0</td>\n",
       "      <td>0</td>\n",
       "      <td>0</td>\n",
       "      <td>0</td>\n",
       "      <td>0</td>\n",
       "      <td>0</td>\n",
       "      <td>0</td>\n",
       "      <td>0</td>\n",
       "      <td>0</td>\n",
       "      <td>0</td>\n",
       "      <td>0</td>\n",
       "      <td>0</td>\n",
       "      <td>0</td>\n",
       "      <td>0</td>\n",
       "      <td>0</td>\n",
       "      <td>0</td>\n",
       "      <td>0</td>\n",
       "    </tr>\n",
       "    <tr>\n",
       "      <th>2</th>\n",
       "      <td>0</td>\n",
       "      <td>0</td>\n",
       "      <td>0</td>\n",
       "      <td>0</td>\n",
       "      <td>0</td>\n",
       "      <td>0</td>\n",
       "      <td>0</td>\n",
       "      <td>0</td>\n",
       "      <td>0</td>\n",
       "      <td>0</td>\n",
       "      <td>0</td>\n",
       "      <td>0</td>\n",
       "      <td>0</td>\n",
       "      <td>0</td>\n",
       "      <td>0</td>\n",
       "      <td>0</td>\n",
       "      <td>0</td>\n",
       "      <td>0</td>\n",
       "      <td>0</td>\n",
       "      <td>0</td>\n",
       "      <td>0</td>\n",
       "      <td>0</td>\n",
       "      <td>0</td>\n",
       "      <td>0</td>\n",
       "      <td>0</td>\n",
       "      <td>0</td>\n",
       "      <td>0</td>\n",
       "      <td>0</td>\n",
       "      <td>0</td>\n",
       "      <td>0</td>\n",
       "      <td>0</td>\n",
       "      <td>0</td>\n",
       "      <td>0</td>\n",
       "      <td>0</td>\n",
       "      <td>0</td>\n",
       "      <td>0</td>\n",
       "      <td>0</td>\n",
       "      <td>0</td>\n",
       "      <td>0</td>\n",
       "      <td>0</td>\n",
       "      <td>0</td>\n",
       "      <td>0</td>\n",
       "      <td>0</td>\n",
       "      <td>0</td>\n",
       "      <td>0</td>\n",
       "      <td>0</td>\n",
       "      <td>0</td>\n",
       "      <td>0</td>\n",
       "      <td>0</td>\n",
       "      <td>0</td>\n",
       "      <td>...</td>\n",
       "      <td>0</td>\n",
       "      <td>0</td>\n",
       "      <td>0</td>\n",
       "      <td>0</td>\n",
       "      <td>0</td>\n",
       "      <td>0</td>\n",
       "      <td>0</td>\n",
       "      <td>0</td>\n",
       "      <td>0</td>\n",
       "      <td>0</td>\n",
       "      <td>0</td>\n",
       "      <td>0</td>\n",
       "      <td>0</td>\n",
       "      <td>0</td>\n",
       "      <td>0</td>\n",
       "      <td>0</td>\n",
       "      <td>0</td>\n",
       "      <td>0</td>\n",
       "      <td>0</td>\n",
       "      <td>0</td>\n",
       "      <td>0</td>\n",
       "      <td>0</td>\n",
       "      <td>0</td>\n",
       "      <td>0</td>\n",
       "      <td>0</td>\n",
       "      <td>0</td>\n",
       "      <td>0</td>\n",
       "      <td>0</td>\n",
       "      <td>0</td>\n",
       "      <td>0</td>\n",
       "      <td>0</td>\n",
       "      <td>0</td>\n",
       "      <td>0</td>\n",
       "      <td>0</td>\n",
       "      <td>0</td>\n",
       "      <td>0</td>\n",
       "      <td>0</td>\n",
       "      <td>0</td>\n",
       "      <td>0</td>\n",
       "      <td>0</td>\n",
       "      <td>0</td>\n",
       "      <td>0</td>\n",
       "      <td>0</td>\n",
       "      <td>0</td>\n",
       "      <td>0</td>\n",
       "      <td>0</td>\n",
       "      <td>0</td>\n",
       "      <td>0</td>\n",
       "      <td>0</td>\n",
       "      <td>0</td>\n",
       "    </tr>\n",
       "    <tr>\n",
       "      <th>3</th>\n",
       "      <td>0</td>\n",
       "      <td>0</td>\n",
       "      <td>0</td>\n",
       "      <td>0</td>\n",
       "      <td>0</td>\n",
       "      <td>0</td>\n",
       "      <td>0</td>\n",
       "      <td>0</td>\n",
       "      <td>0</td>\n",
       "      <td>0</td>\n",
       "      <td>0</td>\n",
       "      <td>0</td>\n",
       "      <td>0</td>\n",
       "      <td>0</td>\n",
       "      <td>0</td>\n",
       "      <td>0</td>\n",
       "      <td>0</td>\n",
       "      <td>0</td>\n",
       "      <td>0</td>\n",
       "      <td>0</td>\n",
       "      <td>0</td>\n",
       "      <td>0</td>\n",
       "      <td>0</td>\n",
       "      <td>0</td>\n",
       "      <td>0</td>\n",
       "      <td>0</td>\n",
       "      <td>0</td>\n",
       "      <td>0</td>\n",
       "      <td>0</td>\n",
       "      <td>0</td>\n",
       "      <td>0</td>\n",
       "      <td>0</td>\n",
       "      <td>0</td>\n",
       "      <td>0</td>\n",
       "      <td>0</td>\n",
       "      <td>0</td>\n",
       "      <td>0</td>\n",
       "      <td>0</td>\n",
       "      <td>0</td>\n",
       "      <td>0</td>\n",
       "      <td>0</td>\n",
       "      <td>0</td>\n",
       "      <td>0</td>\n",
       "      <td>0</td>\n",
       "      <td>0</td>\n",
       "      <td>0</td>\n",
       "      <td>0</td>\n",
       "      <td>0</td>\n",
       "      <td>0</td>\n",
       "      <td>0</td>\n",
       "      <td>...</td>\n",
       "      <td>0</td>\n",
       "      <td>0</td>\n",
       "      <td>0</td>\n",
       "      <td>0</td>\n",
       "      <td>0</td>\n",
       "      <td>0</td>\n",
       "      <td>0</td>\n",
       "      <td>0</td>\n",
       "      <td>0</td>\n",
       "      <td>0</td>\n",
       "      <td>0</td>\n",
       "      <td>0</td>\n",
       "      <td>0</td>\n",
       "      <td>0</td>\n",
       "      <td>0</td>\n",
       "      <td>0</td>\n",
       "      <td>0</td>\n",
       "      <td>0</td>\n",
       "      <td>0</td>\n",
       "      <td>0</td>\n",
       "      <td>0</td>\n",
       "      <td>0</td>\n",
       "      <td>0</td>\n",
       "      <td>0</td>\n",
       "      <td>0</td>\n",
       "      <td>0</td>\n",
       "      <td>0</td>\n",
       "      <td>0</td>\n",
       "      <td>0</td>\n",
       "      <td>0</td>\n",
       "      <td>0</td>\n",
       "      <td>0</td>\n",
       "      <td>0</td>\n",
       "      <td>0</td>\n",
       "      <td>0</td>\n",
       "      <td>0</td>\n",
       "      <td>0</td>\n",
       "      <td>0</td>\n",
       "      <td>0</td>\n",
       "      <td>0</td>\n",
       "      <td>0</td>\n",
       "      <td>0</td>\n",
       "      <td>0</td>\n",
       "      <td>0</td>\n",
       "      <td>0</td>\n",
       "      <td>0</td>\n",
       "      <td>0</td>\n",
       "      <td>0</td>\n",
       "      <td>0</td>\n",
       "      <td>0</td>\n",
       "    </tr>\n",
       "    <tr>\n",
       "      <th>4</th>\n",
       "      <td>0</td>\n",
       "      <td>0</td>\n",
       "      <td>0</td>\n",
       "      <td>0</td>\n",
       "      <td>0</td>\n",
       "      <td>0</td>\n",
       "      <td>0</td>\n",
       "      <td>0</td>\n",
       "      <td>0</td>\n",
       "      <td>0</td>\n",
       "      <td>0</td>\n",
       "      <td>0</td>\n",
       "      <td>0</td>\n",
       "      <td>0</td>\n",
       "      <td>0</td>\n",
       "      <td>0</td>\n",
       "      <td>0</td>\n",
       "      <td>0</td>\n",
       "      <td>0</td>\n",
       "      <td>0</td>\n",
       "      <td>0</td>\n",
       "      <td>0</td>\n",
       "      <td>0</td>\n",
       "      <td>0</td>\n",
       "      <td>0</td>\n",
       "      <td>0</td>\n",
       "      <td>0</td>\n",
       "      <td>0</td>\n",
       "      <td>0</td>\n",
       "      <td>0</td>\n",
       "      <td>0</td>\n",
       "      <td>0</td>\n",
       "      <td>0</td>\n",
       "      <td>0</td>\n",
       "      <td>0</td>\n",
       "      <td>0</td>\n",
       "      <td>0</td>\n",
       "      <td>0</td>\n",
       "      <td>0</td>\n",
       "      <td>0</td>\n",
       "      <td>0</td>\n",
       "      <td>0</td>\n",
       "      <td>0</td>\n",
       "      <td>0</td>\n",
       "      <td>0</td>\n",
       "      <td>0</td>\n",
       "      <td>0</td>\n",
       "      <td>0</td>\n",
       "      <td>0</td>\n",
       "      <td>0</td>\n",
       "      <td>...</td>\n",
       "      <td>0</td>\n",
       "      <td>0</td>\n",
       "      <td>0</td>\n",
       "      <td>0</td>\n",
       "      <td>0</td>\n",
       "      <td>0</td>\n",
       "      <td>0</td>\n",
       "      <td>0</td>\n",
       "      <td>0</td>\n",
       "      <td>0</td>\n",
       "      <td>0</td>\n",
       "      <td>0</td>\n",
       "      <td>0</td>\n",
       "      <td>0</td>\n",
       "      <td>0</td>\n",
       "      <td>0</td>\n",
       "      <td>0</td>\n",
       "      <td>0</td>\n",
       "      <td>0</td>\n",
       "      <td>0</td>\n",
       "      <td>0</td>\n",
       "      <td>0</td>\n",
       "      <td>0</td>\n",
       "      <td>0</td>\n",
       "      <td>0</td>\n",
       "      <td>0</td>\n",
       "      <td>0</td>\n",
       "      <td>0</td>\n",
       "      <td>0</td>\n",
       "      <td>0</td>\n",
       "      <td>0</td>\n",
       "      <td>0</td>\n",
       "      <td>0</td>\n",
       "      <td>0</td>\n",
       "      <td>0</td>\n",
       "      <td>0</td>\n",
       "      <td>0</td>\n",
       "      <td>0</td>\n",
       "      <td>0</td>\n",
       "      <td>0</td>\n",
       "      <td>0</td>\n",
       "      <td>0</td>\n",
       "      <td>0</td>\n",
       "      <td>0</td>\n",
       "      <td>0</td>\n",
       "      <td>0</td>\n",
       "      <td>0</td>\n",
       "      <td>0</td>\n",
       "      <td>0</td>\n",
       "      <td>0</td>\n",
       "    </tr>\n",
       "  </tbody>\n",
       "</table>\n",
       "<p>5 rows × 22417 columns</p>\n",
       "</div>"
      ],
      "text/plain": [
       "   000  0014  007  044  07  10  100  101  102  104  105  108  10th  11  110  112  1138  114  118  11th  12  124  125  128  13  130  131  132  133  134  136  137  13th  14  141  145  15  153  15th  16  160  161  1660s  16mm  16th  17  17th  18  180  185    ...      zellweger  zemeckis  zen  zero  zeroes  zest  zestfully  zesty  zeta  zhang  zhivago  ziggurats  zigs  zigzag  zigzags  zillion  zimmer  zing  zinger  zingers  zings  zingy  zinnemann  zinner  zip  zipper  zippo  zippy  zips  \\\n",
       "0    0     0    0    0   0   0    0    0    0    0    0    0     0   0    0    0     0    0    0     0   0    0    0    0   0    0    0    0    0    0    0    0     0   0    0    0   0    0     0   0    0    0      0     0     0   0     0   0    0    0    ...              0         0    0     0       0     0          0      0     0      0        0          0     0       0        0        0       0     0       0        0      0      0          0       0    0       0      0      0     0   \n",
       "1    0     0    0    0   0   0    0    0    0    0    0    0     0   0    0    0     0    0    0     0   0    0    0    0   0    0    0    0    0    0    0    0     0   0    0    0   0    0     0   0    0    0      0     0     0   0     0   0    0    0    ...              0         0    0     0       0     0          0      0     0      0        0          0     0       0        0        0       0     0       0        0      0      0          0       0    0       0      0      0     0   \n",
       "2    0     0    0    0   0   0    0    0    0    0    0    0     0   0    0    0     0    0    0     0   0    0    0    0   0    0    0    0    0    0    0    0     0   0    0    0   0    0     0   0    0    0      0     0     0   0     0   0    0    0    ...              0         0    0     0       0     0          0      0     0      0        0          0     0       0        0        0       0     0       0        0      0      0          0       0    0       0      0      0     0   \n",
       "3    0     0    0    0   0   0    0    0    0    0    0    0     0   0    0    0     0    0    0     0   0    0    0    0   0    0    0    0    0    0    0    0     0   0    0    0   0    0     0   0    0    0      0     0     0   0     0   0    0    0    ...              0         0    0     0       0     0          0      0     0      0        0          0     0       0        0        0       0     0       0        0      0      0          0       0    0       0      0      0     0   \n",
       "4    0     0    0    0   0   0    0    0    0    0    0    0     0   0    0    0     0    0    0     0   0    0    0    0   0    0    0    0    0    0    0    0     0   0    0    0   0    0     0   0    0    0      0     0     0   0     0   0    0    0    ...              0         0    0     0       0     0          0      0     0      0        0          0     0       0        0        0       0     0       0        0      0      0          0       0    0       0      0      0     0   \n",
       "\n",
       "   zirconium  zoe  zombie  zombies  zombified  zonca  zone  zoning  zoo  zoological  zoom  zooming  zooms  zorro  zorros  zowie  zucker  zweibel  zwick  zzzzzs  zzzzzzzzz  \n",
       "0          0    0       0        0          0      0     0       0    0           0     0        0      0      0       0      0       0        0      0       0          0  \n",
       "1          0    0       0        0          0      0     0       0    0           0     0        0      0      0       0      0       0        0      0       0          0  \n",
       "2          0    0       0        0          0      0     0       0    0           0     0        0      0      0       0      0       0        0      0       0          0  \n",
       "3          0    0       0        0          0      0     0       0    0           0     0        0      0      0       0      0       0        0      0       0          0  \n",
       "4          0    0       0        0          0      0     0       0    0           0     0        0      0      0       0      0       0        0      0       0          0  \n",
       "\n",
       "[5 rows x 22417 columns]"
      ]
     },
     "execution_count": 12,
     "metadata": {},
     "output_type": "execute_result"
    }
   ],
   "source": [
    "# Your turn.\n",
    "X_freq = pd.DataFrame(data = (X >= 1).astype(int), columns = X_cols)\n",
    "X_freq.head()"
   ]
  },
  {
   "cell_type": "code",
   "execution_count": 13,
   "metadata": {
    "collapsed": false
   },
   "outputs": [
    {
     "data": {
      "text/plain": [
       "the       9502\n",
       "and       7552\n",
       "of        7133\n",
       "is        5120\n",
       "to        4957\n",
       "it        4312\n",
       "in        3672\n",
       "that      3290\n",
       "but       2360\n",
       "with      2359\n",
       "this      2260\n",
       "film      2205\n",
       "movie     2128\n",
       "as        1987\n",
       "for       1966\n",
       "an        1739\n",
       "its       1661\n",
       "be        1319\n",
       "on        1307\n",
       "has       1254\n",
       "one       1234\n",
       "by        1217\n",
       "not       1173\n",
       "are       1064\n",
       "you       1056\n",
       "more      1041\n",
       "all       1011\n",
       "than      1008\n",
       "at         973\n",
       "about      951\n",
       "from       948\n",
       "his        945\n",
       "have       839\n",
       "like       824\n",
       "most       785\n",
       "so         774\n",
       "there      752\n",
       "what       694\n",
       "if         678\n",
       "or         674\n",
       "can        655\n",
       "good       654\n",
       "up         647\n",
       "story      646\n",
       "who        645\n",
       "into       628\n",
       "he         601\n",
       "much       594\n",
       "comedy     582\n",
       "out        579\n",
       "dtype: int64"
      ]
     },
     "execution_count": 13,
     "metadata": {},
     "output_type": "execute_result"
    }
   ],
   "source": [
    "# Check max used words, not normalized by number of documents\n",
    "X_freq_avg = X_freq.sum().sort_values(ascending = False) # / critics.shape[0]\n",
    "X_freq_avg.head(50)"
   ]
  },
  {
   "cell_type": "code",
   "execution_count": 14,
   "metadata": {
    "collapsed": false
   },
   "outputs": [
    {
     "data": {
      "text/plain": [
       "balmy           1\n",
       "earphones       1\n",
       "eberhardt       1\n",
       "dunker          1\n",
       "ducks           1\n",
       "balloons        1\n",
       "edification     1\n",
       "dunston         1\n",
       "bunyans         1\n",
       "duckling        1\n",
       "dunking         1\n",
       "earplugs        1\n",
       "edify           1\n",
       "bahamas         1\n",
       "cajuns          1\n",
       "bunyan          1\n",
       "bailey          1\n",
       "cake            1\n",
       "earrings        1\n",
       "callousness     1\n",
       "cad             1\n",
       "burstyn         1\n",
       "caddyshack      1\n",
       "baiter          1\n",
       "canonically     1\n",
       "cacophony       1\n",
       "butterscotch    1\n",
       "dumbfounded     1\n",
       "backes          1\n",
       "dwell           1\n",
       "               ..\n",
       "mametspeak      1\n",
       "mama            1\n",
       "malnourished    1\n",
       "manned          1\n",
       "mannerist       1\n",
       "marcus          1\n",
       "maoists         1\n",
       "marches         1\n",
       "marched         1\n",
       "march           1\n",
       "marcello        1\n",
       "marceau         1\n",
       "marbled         1\n",
       "marble          1\n",
       "marauders       1\n",
       "mara            1\n",
       "maori           1\n",
       "manwhore        1\n",
       "manny           1\n",
       "manufactures    1\n",
       "manufacture     1\n",
       "manual          1\n",
       "mantello        1\n",
       "mantell         1\n",
       "mansion         1\n",
       "mansell         1\n",
       "manors          1\n",
       "manor           1\n",
       "manoeuvres      1\n",
       "lasers          1\n",
       "dtype: int64"
      ]
     },
     "execution_count": 14,
     "metadata": {},
     "output_type": "execute_result"
    }
   ],
   "source": [
    "# Check that converstion occurred appropriately\n",
    "(X_freq_avg[X_freq_avg.values==1])"
   ]
  },
  {
   "cell_type": "code",
   "execution_count": 15,
   "metadata": {
    "collapsed": false
   },
   "outputs": [],
   "source": [
    "x_hist, F, counts = np.unique(X_freq_avg, return_index=True, return_counts=True)\n",
    "y_hist = np.cumsum(counts)"
   ]
  },
  {
   "cell_type": "code",
   "execution_count": 16,
   "metadata": {
    "collapsed": false
   },
   "outputs": [
    {
     "data": {
      "image/png": "[encoded data removed]",
      "text/plain": [
       "<matplotlib.figure.Figure at 0x11b61f7d0>"
      ]
     },
     "metadata": {},
     "output_type": "display_data"
    }
   ],
   "source": [
    "plt.plot(x_hist,y_hist)\n",
    "plt.xlabel(\"Number of times ocurring in reviews\")\n",
    "plt.ylabel(\"Number of words\")\n",
    "#plt.xlim(1, 10)\n",
    "plt.xscale('log')"
   ]
  },
  {
   "cell_type": "code",
   "execution_count": 17,
   "metadata": {
    "collapsed": true
   },
   "outputs": [],
   "source": [
    "# After word occurrence reaches approx. 1000 reviews, number of words rapily plateaus \n",
    "max_df = 1000\n",
    "\n",
    "# Exclude words which occurr on a small sample of reviews\n",
    "min_df = 5"
   ]
  },
  {
   "cell_type": "markdown",
   "metadata": {},
   "source": [
    "The parameter $\\alpha$ is chosen to be a small value that simply avoids having zeros in the probability computations. This value can sometimes be chosen arbitrarily with domain expertise, but we will use K-fold cross validation. In K-fold cross-validation, we divide the data into $K$ non-overlapping parts. We train on $K-1$ of the folds and test on the remaining fold. We then iterate, so that each fold serves as the test fold exactly once. The function `cv_score` performs the K-fold cross-validation algorithm for us, but we need to pass a function that measures the performance of the algorithm on each fold. "
   ]
  },
  {
   "cell_type": "code",
   "execution_count": 18,
   "metadata": {
    "collapsed": false
   },
   "outputs": [],
   "source": [
    "from sklearn.model_selection import KFold\n",
    "def cv_score(clf, X, y, scorefunc):\n",
    "    result = 0.\n",
    "    nfold = 5\n",
    "    for train, test in KFold(nfold).split(X): # split data into train/test groups, 5 times\n",
    "        clf.fit(X[train], y[train]) # fit the classifier, passed is as clf.\n",
    "        result += scorefunc(clf, X[test], y[test]) # evaluate score function on held-out data\n",
    "    return result / nfold # average"
   ]
  },
  {
   "cell_type": "markdown",
   "metadata": {},
   "source": [
    "We use the log-likelihood as the score here in `scorefunc`. The higher the log-likelihood, the better. Indeed, what we do in `cv_score` above is to implement the cross-validation part of `GridSearchCV`.\n",
    "\n",
    "The custom scoring function `scorefunc` allows us to use different metrics depending on the decision risk we care about (precision, accuracy, profit etc.) directly on the validation set. You will often find people using `roc_auc`, precision, recall, or `F1-score` as the scoring function."
   ]
  },
  {
   "cell_type": "code",
   "execution_count": 19,
   "metadata": {
    "collapsed": false
   },
   "outputs": [],
   "source": [
    "def log_likelihood(clf, x, y):\n",
    "    prob = clf.predict_log_proba(x)\n",
    "    rotten = y == 0\n",
    "    fresh = ~rotten\n",
    "    return prob[rotten, 0].sum() + prob[fresh, 1].sum()"
   ]
  },
  {
   "cell_type": "markdown",
   "metadata": {},
   "source": [
    "We'll cross-validate over the regularization parameter $\\alpha$."
   ]
  },
  {
   "cell_type": "markdown",
   "metadata": {},
   "source": [
    "Let's set up the train and test masks first, and then we can run the cross-validation procedure."
   ]
  },
  {
   "cell_type": "code",
   "execution_count": 20,
   "metadata": {
    "collapsed": false
   },
   "outputs": [],
   "source": [
    "# Looks like the original code is wrong - was setting the training size to 1 - 0.7 = 0.3\n",
    "\n",
    "from sklearn.model_selection import train_test_split\n",
    "_, itest = train_test_split(range(critics.shape[0]), train_size=0.7)\n",
    "#mask = np.zeros(critics.shape[0], dtype=np.bool)\n",
    "#mask[itest] = True\n",
    "mask = np.ones(critics.shape[0], dtype=np.bool)\n",
    "mask[itest] = False"
   ]
  },
  {
   "cell_type": "markdown",
   "metadata": {},
   "source": [
    "<div class=\"span5 alert alert-info\">\n",
    "<h3>Exercise Set IV</h3>\n",
    "\n",
    "<p><b>Exercise:</b> What does using the function `log_likelihood` as the score mean? What are we trying to optimize for?</p>\n",
    "\n",
    "<p><b>Exercise:</b> Without writing any code, what do you think would happen if you choose a value of $\\alpha$ that is too high?</p>\n",
    "\n",
    "<p><b>Exercise:</b> Using the skeleton code below, find the best values of the parameter `alpha`, and use the value of `min_df` you chose in the previous exercise set. Use the `cv_score` function above with the `log_likelihood` function for scoring.</p>\n",
    "</div>"
   ]
  },
  {
   "cell_type": "code",
   "execution_count": 21,
   "metadata": {
    "collapsed": false
   },
   "outputs": [
    {
     "name": "stdout",
     "output_type": "stream",
     "text": [
      "(15561, 6174)\n"
     ]
    }
   ],
   "source": [
    "from sklearn.naive_bayes import MultinomialNB\n",
    "\n",
    "#the grid of parameters to search over\n",
    "alphas = [.1, 1, 5, 10, 50]\n",
    "best_min_df = 5 # YOUR TURN: put your value of min_df here.\n",
    "\n",
    "#Find the best value for alpha and min_df, and the best classifier\n",
    "best_alpha = None\n",
    "maxscore=-np.inf\n",
    "\n",
    "#Moved out of loop, not clear why it was in it to begin with\n",
    "vectorizer = CountVectorizer(min_df=best_min_df)       \n",
    "Xthis, ythis, Xthis_cols = make_xy(critics, vectorizer)\n",
    "Xtrainthis = Xthis[mask]\n",
    "ytrainthis = ythis[mask]\n",
    "\n",
    "print Xthis.shape\n",
    "    \n",
    "for alpha in alphas: \n",
    "    GS_score = cv_score(MultinomialNB(alpha = alpha), Xtrainthis, ytrainthis, log_likelihood)\n",
    "    if GS_score > maxscore:\n",
    "        maxscore = GS_score\n",
    "        best_alpha = alpha"
   ]
  },
  {
   "cell_type": "code",
   "execution_count": 22,
   "metadata": {
    "collapsed": false
   },
   "outputs": [
    {
     "name": "stdout",
     "output_type": "stream",
     "text": [
      "alpha: 5\n"
     ]
    }
   ],
   "source": [
    "print(\"alpha: {}\".format(best_alpha))"
   ]
  },
  {
   "cell_type": "markdown",
   "metadata": {},
   "source": [
    "<div class=\"span5 alert alert-info\">\n",
    "<h3>Exercise Set V: Working with the Best Parameters</h3>\n",
    "\n",
    "<p><b>Exercise:</b> Using the best value of  `alpha` you just found, calculate the accuracy on the training and test sets. Is this classifier better? Why (not)?</p>\n",
    "\n",
    "</div>"
   ]
  },
  {
   "cell_type": "code",
   "execution_count": 23,
   "metadata": {
    "collapsed": false
   },
   "outputs": [
    {
     "name": "stdout",
     "output_type": "stream",
     "text": [
      "Accuracy on training data: 0.832997\n",
      "Accuracy on test data:     0.747269\n"
     ]
    }
   ],
   "source": [
    "vectorizer = CountVectorizer(min_df=best_min_df)\n",
    "X, y, X_cols = make_xy(critics, vectorizer)\n",
    "xtrain=X[mask]\n",
    "ytrain=y[mask]\n",
    "xtest=X[~mask]\n",
    "ytest=y[~mask]\n",
    "\n",
    "pd.DataFrame(X_cols).to_csv('./features_original.csv')\n",
    "\n",
    "clf = MultinomialNB(alpha=best_alpha).fit(xtrain, ytrain)\n",
    "\n",
    "#your turn. Print the accuracy on the test and training dataset\n",
    "training_accuracy = clf.score(xtrain, ytrain)\n",
    "test_accuracy = clf.score(xtest, ytest)\n",
    "\n",
    "print(\"Accuracy on training data: {:2f}\".format(training_accuracy))\n",
    "print(\"Accuracy on test data:     {:2f}\".format(test_accuracy))"
   ]
  },
  {
   "cell_type": "code",
   "execution_count": 24,
   "metadata": {
    "collapsed": false
   },
   "outputs": [
    {
     "name": "stdout",
     "output_type": "stream",
     "text": [
      "[[1007  890]\n",
      " [ 290 2482]]\n"
     ]
    }
   ],
   "source": [
    "from sklearn.metrics import confusion_matrix\n",
    "print(confusion_matrix(ytest, clf.predict(xtest)))"
   ]
  },
  {
   "cell_type": "markdown",
   "metadata": {},
   "source": [
    "Classifier is performing approximately the same in-sample as out-of-sample, and out-of-sample performance is the same as the original model but uses a more efficient feature space, so all things considered this model is likely better than the original."
   ]
  },
  {
   "cell_type": "markdown",
   "metadata": {},
   "source": [
    "## Interpretation"
   ]
  },
  {
   "cell_type": "markdown",
   "metadata": {},
   "source": [
    "### What are the strongly predictive features?\n",
    "\n",
    "We use a neat trick to identify strongly predictive features (i.e. words). \n",
    "\n",
    "* first, create a data set such that each row has exactly one feature. This is represented by the identity matrix.\n",
    "* use the trained classifier to make predictions on this matrix\n",
    "* sort the rows by predicted probabilities, and pick the top and bottom $K$ rows"
   ]
  },
  {
   "cell_type": "code",
   "execution_count": 25,
   "metadata": {
    "collapsed": false
   },
   "outputs": [
    {
     "name": "stdout",
     "output_type": "stream",
     "text": [
      "Good words\t     P(fresh | word)\n",
      "('         masterpiece', '0.90')\n",
      "('             delight', '0.90')\n",
      "('            touching', '0.89')\n",
      "('          remarkable', '0.89')\n",
      "('         intelligent', '0.88')\n",
      "('               witty', '0.87')\n",
      "('                rare', '0.87')\n",
      "('        entertaining', '0.87')\n",
      "('             kubrick', '0.86')\n",
      "('               smart', '0.86')\n",
      "Bad words\t     P(fresh | word)\n",
      "('            supposed', '0.24')\n",
      "('      disappointment', '0.23')\n",
      "('             tedious', '0.22')\n",
      "('            tiresome', '0.22')\n",
      "('               bland', '0.22')\n",
      "('           pointless', '0.21')\n",
      "('                dull', '0.19')\n",
      "('          uninspired', '0.19')\n",
      "('                lame', '0.17')\n",
      "('       unfortunately', '0.16')\n"
     ]
    }
   ],
   "source": [
    "words = np.array(vectorizer.get_feature_names())\n",
    "\n",
    "x = np.eye(xtest.shape[1])\n",
    "probs = clf.predict_log_proba(x)[:, 0]\n",
    "ind = np.argsort(probs)\n",
    "\n",
    "good_words = words[ind[:10]]\n",
    "bad_words = words[ind[-10:]]\n",
    "\n",
    "good_prob = probs[ind[:10]]\n",
    "bad_prob = probs[ind[-10:]]\n",
    "\n",
    "print(\"Good words\\t     P(fresh | word)\")\n",
    "for w, p in zip(good_words, good_prob):\n",
    "    print(\"{:>20}\".format(w), \"{:.2f}\".format(1 - np.exp(p)))\n",
    "    \n",
    "print(\"Bad words\\t     P(fresh | word)\")\n",
    "for w, p in zip(bad_words, bad_prob):\n",
    "    print(\"{:>20}\".format(w), \"{:.2f}\".format(1 - np.exp(p)))"
   ]
  },
  {
   "cell_type": "code",
   "execution_count": 26,
   "metadata": {
    "collapsed": false
   },
   "outputs": [
    {
     "name": "stdout",
     "output_type": "stream",
     "text": [
      "Good words\t     P(fresh | word)\n",
      "('               smart', '0.86')\n",
      "('             kubrick', '0.86')\n",
      "('        entertaining', '0.87')\n",
      "('                rare', '0.87')\n",
      "('               witty', '0.87')\n",
      "('         intelligent', '0.88')\n",
      "('          remarkable', '0.89')\n",
      "('            touching', '0.89')\n",
      "('             delight', '0.90')\n",
      "('         masterpiece', '0.90')\n",
      "Bad words\t     P(fresh | word)\n",
      "('       unfortunately', '0.16')\n",
      "('                lame', '0.17')\n",
      "('          uninspired', '0.19')\n",
      "('                dull', '0.19')\n",
      "('           pointless', '0.21')\n",
      "('            tiresome', '0.22')\n",
      "('               bland', '0.22')\n",
      "('             tedious', '0.22')\n",
      "('      disappointment', '0.23')\n",
      "('            supposed', '0.24')\n"
     ]
    }
   ],
   "source": [
    "words = np.array(vectorizer.get_feature_names())\n",
    "\n",
    "x = np.eye(xtest.shape[1])\n",
    "probs = clf.predict_log_proba(x)[:, 1]\n",
    "ind = np.argsort(probs)\n",
    "\n",
    "good_words = words[ind[-10:]]\n",
    "bad_words = words[ind[:10]]\n",
    "\n",
    "good_prob = probs[ind[-10:]]\n",
    "bad_prob = probs[ind[:10]]\n",
    "\n",
    "print(\"Good words\\t     P(fresh | word)\")\n",
    "for w, p in zip(good_words, good_prob):\n",
    "    print(\"{:>20}\".format(w), \"{:.2f}\".format(np.exp(p)))\n",
    "    \n",
    "print(\"Bad words\\t     P(fresh | word)\")\n",
    "for w, p in zip(bad_words, bad_prob):\n",
    "    print(\"{:>20}\".format(w), \"{:.2f}\".format(np.exp(p)))"
   ]
  },
  {
   "cell_type": "markdown",
   "metadata": {},
   "source": [
    "<div class=\"span5 alert alert-info\">\n",
    "<h3>Exercise Set VI</h3>\n",
    "\n",
    "<p><b>Exercise:</b> Why does this method work? What does the probability for each row in the identity matrix represent</p>\n",
    "\n",
    "</div>"
   ]
  },
  {
   "cell_type": "markdown",
   "metadata": {},
   "source": [
    "The probability of of a movie being fresh conditional on a single-word review"
   ]
  },
  {
   "cell_type": "markdown",
   "metadata": {},
   "source": [
    "The above exercise is an example of *feature selection*. There are many other feature selection methods. A list of feature selection methods available in `sklearn` is [here](http://scikit-learn.org/stable/modules/classes.html#module-sklearn.feature_selection). The most common feature selection technique for text mining is the chi-squared $\\left( \\chi^2 \\right)$ [method](http://nlp.stanford.edu/IR-book/html/htmledition/feature-selectionchi2-feature-selection-1.html)."
   ]
  },
  {
   "cell_type": "markdown",
   "metadata": {},
   "source": [
    "### Prediction Errors\n",
    "\n",
    "We can see mis-predictions as well."
   ]
  },
  {
   "cell_type": "code",
   "execution_count": 27,
   "metadata": {
    "collapsed": false
   },
   "outputs": [
    {
     "name": "stdout",
     "output_type": "stream",
     "text": [
      "Mis-predicted Rotten quotes\n",
      "---------------------------\n",
      "At best, it is fun. But \"fun\" is not an aesthetic experience: fun remains on the surface. I have nothing against the surface. But it belongs where it is and shouldn't be taken for anything else.\n",
      "\n",
      "If it's to be experienced at all, Return to Paradise is best seen as a lively piece of pulp, not a profound exploration of the vagaries of the human soul.\n",
      "\n",
      "David Lean's 1965 adaptation of Pasternak's romance of the Russian Revolution is intelligent and handsomely mounted, though it doesn't use its length to build to a particularly complex emotional effect.\n",
      "\n",
      "For all the pleasure there is in seeing effective, great-looking black women grappling with major life issues on screen, Waiting to Exhale is an uneven piece.\n",
      "\n",
      "Walken is one of the few undeniably charismatic male villains of recent years; he can generate a snakelike charm that makes his worst characters the most memorable, and here he operates on pure style.\n",
      "\n",
      "Mis-predicted Fresh quotes\n",
      "--------------------------\n",
      "It sounds stupid enough, and ultimately is, but the director, Bryan Bertino, stages The Strangers' early scenes with spooky panache.\n",
      "\n",
      "A kind of insane logic seems to connect the sketches, if you look hard enough, but mostly the movie seems to exist in the present and be willing to try anything for a laugh.\n",
      "\n",
      "Weighed down by a dull setup featuring Ralph 'Karate Kid' Macchio, the movie gets a much-needed charge from Pesci, a bundle of bandy-legged impudence as Macchio's lawyer cousin, Vincent Gambini.\n",
      "\n",
      "Though it's a good half hour too long, this overblown 1993 spin-off of the 60s TV show otherwise adds up to a pretty good suspense thriller.\n",
      "\n",
      "The gangland plot is flimsy (bad guy Peter Greene wears too much eyeliner), and the jokes are erratic, but it's a far better showcase for Carrey's comic-from-Uranus talent than Ace Ventura.\n",
      "\n"
     ]
    }
   ],
   "source": [
    "x, y, x_cols = make_xy(critics, vectorizer)\n",
    "\n",
    "prob = clf.predict_proba(x)[:, 0]\n",
    "predict = clf.predict(x)\n",
    "\n",
    "bad_rotten = np.argsort(prob[y == 0])[:5]\n",
    "bad_fresh = np.argsort(prob[y == 1])[-5:]\n",
    "\n",
    "print(\"Mis-predicted Rotten quotes\")\n",
    "print('---------------------------')\n",
    "for row in bad_rotten:\n",
    "    print(critics[y == 0].quote.iloc[row])\n",
    "    print(\"\")\n",
    "\n",
    "print(\"Mis-predicted Fresh quotes\")\n",
    "print('--------------------------')\n",
    "for row in bad_fresh:\n",
    "    print(critics[y == 1].quote.iloc[row])\n",
    "    print(\"\")"
   ]
  },
  {
   "cell_type": "markdown",
   "metadata": {},
   "source": [
    "<div class=\"span5 alert alert-info\">\n",
    "<h3>Exercise Set VII: Predicting the Freshness for a New Review</h3>\n",
    "<br/>\n",
    "<div>\n",
    "<b>Exercise:</b>\n",
    "<ul>\n",
    "<li> Using your best trained classifier, predict the freshness of the following sentence: *'This movie is not remarkable, touching, or superb in any way'*\n",
    "<li> Is the result what you'd expect? Why (not)?\n",
    "</ul>\n",
    "</div>\n",
    "</div>"
   ]
  },
  {
   "cell_type": "code",
   "execution_count": 28,
   "metadata": {
    "collapsed": false
   },
   "outputs": [
    {
     "name": "stdout",
     "output_type": "stream",
     "text": [
      "[[ 0.007447  0.992553]]\n",
      "[1]\n"
     ]
    }
   ],
   "source": [
    "#your turn\n",
    "vec = (\"This movie is not remarkable, touching, or superb in any way\")\n",
    "vec_trans = vectorizer.transform([vec])\n",
    "\n",
    "prob = clf.predict_proba(vec_trans)\n",
    "predict = clf.predict(vec_trans)\n",
    "\n",
    "print prob\n",
    "print predict"
   ]
  },
  {
   "cell_type": "markdown",
   "metadata": {},
   "source": [
    "Classifier is predicting that review is fresh. Not surprising as the classifier does not put words into context and the presence of positive words like remarkable, touching and superb will indicate a strongly positive review."
   ]
  },
  {
   "cell_type": "markdown",
   "metadata": {},
   "source": [
    "### Aside: TF-IDF Weighting for Term Importance\n",
    "\n",
    "TF-IDF stands for \n",
    "\n",
    "`Term-Frequency X Inverse Document Frequency`.\n",
    "\n",
    "In the standard `CountVectorizer` model above, we used just the term frequency in a document of words in our vocabulary. In TF-IDF, we weight this term frequency by the inverse of its popularity in all documents. For example, if the word \"movie\" showed up in all the documents, it would not have much predictive value. It could actually be considered a stopword. By weighing its counts by 1 divided by its overall frequency, we downweight it. We can then use this TF-IDF weighted features as inputs to any classifier. **TF-IDF is essentially a measure of term importance, and of how discriminative a word is in a corpus.** There are a variety of nuances involved in computing TF-IDF, mainly involving where to add the smoothing term to avoid division by 0, or log of 0 errors. The formula for TF-IDF in `scikit-learn` differs from that of most textbooks: \n",
    "\n",
    "$$\\mbox{TF-IDF}(t, d) = \\mbox{TF}(t, d)\\times \\mbox{IDF}(t) = n_{td} \\log{\\left( \\frac{\\vert D \\vert}{\\vert d : t \\in d \\vert} + 1 \\right)}$$\n",
    "\n",
    "where $n_{td}$ is the number of times term $t$ occurs in document $d$, $\\vert D \\vert$ is the number of documents, and $\\vert d : t \\in d \\vert$ is the number of documents that contain $t$"
   ]
  },
  {
   "cell_type": "code",
   "execution_count": 29,
   "metadata": {
    "collapsed": true
   },
   "outputs": [],
   "source": [
    "# http://scikit-learn.org/dev/modules/feature_extraction.html#text-feature-extraction\n",
    "# http://scikit-learn.org/dev/modules/classes.html#text-feature-extraction-ref\n",
    "from sklearn.feature_extraction.text import TfidfVectorizer\n",
    "tfidfvectorizer = TfidfVectorizer(min_df=1, stop_words='english')\n",
    "Xtfidf=tfidfvectorizer.fit_transform(critics.quote)"
   ]
  },
  {
   "cell_type": "markdown",
   "metadata": {},
   "source": [
    "<div class=\"span5 alert alert-info\">\n",
    "<h3>Exercise Set VIII: Enrichment</h3>\n",
    "\n",
    "<p>\n",
    "There are several additional things we could try. Try some of these as exercises:\n",
    "<ol>\n",
    "<li> Build a Naive Bayes model where the features are n-grams instead of words. N-grams are phrases containing n words next to each other: a bigram contains 2 words, a trigram contains 3 words, and 6-gram contains 6 words. This is useful because \"not good\" and \"so good\" mean very different things. On the other hand, as n increases, the model does not scale well since the feature set becomes more sparse.\n",
    "<li> Try a model besides Naive Bayes, one that would allow for interactions between words -- for example, a Random Forest classifier.\n",
    "<li> Try adding supplemental features -- information about genre, director, cast, etc.\n",
    "<li> Use word2vec or [Latent Dirichlet Allocation](https://en.wikipedia.org/wiki/Latent_Dirichlet_allocation) to group words into topics and use those topics for prediction.\n",
    "<li> Use TF-IDF weighting instead of word counts.\n",
    "</ol>\n",
    "</p>\n",
    "\n",
    "<b>Exercise:</b> Try a few of these ideas to improve the model (or any other ideas of your own). Implement here and report on the result.\n",
    "</div>"
   ]
  },
  {
   "cell_type": "markdown",
   "metadata": {
    "collapsed": true
   },
   "source": [
    "# 1. N-gram Vectorizer"
   ]
  },
  {
   "cell_type": "code",
   "execution_count": 30,
   "metadata": {
    "collapsed": false
   },
   "outputs": [],
   "source": [
    "def make_xy_n(critics, vectorizer=None, n_gram=(1, 3), min_df=5, tokenizer=None):\n",
    "    #Your code here    \n",
    "    if vectorizer is None:\n",
    "        vectorizer = CountVectorizer(min_df=min_df, ngram_range=n_gram, tokenizer=tokenizer)\n",
    "    X = vectorizer.fit_transform(critics.quote)\n",
    "    X = X.tocsc()  # some versions of sklearn return COO format\n",
    "    y = (critics.fresh == 'fresh').values.astype(np.int)\n",
    "    X_cols = vectorizer.get_feature_names()\n",
    "    return X, y, X_cols\n",
    "\n",
    "X, y, X_cols = make_xy_n(critics, tokenizer=None)\n",
    "X = X.toarray()"
   ]
  },
  {
   "cell_type": "code",
   "execution_count": 31,
   "metadata": {
    "collapsed": false
   },
   "outputs": [
    {
     "name": "stdout",
     "output_type": "stream",
     "text": [
      "(15561, 14748)\n"
     ]
    }
   ],
   "source": [
    "print X.shape\n",
    "pd.DataFrame(X_cols).to_csv('./n_gram_features.csv')"
   ]
  },
  {
   "cell_type": "code",
   "execution_count": 32,
   "metadata": {
    "collapsed": false
   },
   "outputs": [
    {
     "name": "stdout",
     "output_type": "stream",
     "text": [
      "Accuracy on training data: 0.854664\n",
      "Accuracy on test data:     0.749411\n"
     ]
    }
   ],
   "source": [
    "clf = MultinomialNB(alpha=best_alpha).fit(X[mask], y[mask])\n",
    "\n",
    "#your turn. Print the accuracy on the test and training dataset\n",
    "training_accuracy = clf.score(X[mask], y[mask])\n",
    "test_accuracy = clf.score(X[~mask], y[~mask])\n",
    "\n",
    "print(\"Accuracy on training data: {:2f}\".format(training_accuracy))\n",
    "print(\"Accuracy on test data:     {:2f}\".format(test_accuracy))"
   ]
  },
  {
   "cell_type": "markdown",
   "metadata": {
    "collapsed": true
   },
   "source": [
    "N-rgrams do not appear to work significantly better than bag of words in this excercise"
   ]
  },
  {
   "cell_type": "markdown",
   "metadata": {
    "collapsed": true
   },
   "source": [
    "# 2. Use word stemming together with ngram generation"
   ]
  },
  {
   "cell_type": "code",
   "execution_count": 33,
   "metadata": {
    "collapsed": false
   },
   "outputs": [],
   "source": [
    "X, y, X_cols = make_xy_n(critics, n_gram=(1, 3), tokenizer=LemmaTokenizer())\n",
    "X = X.toarray()"
   ]
  },
  {
   "cell_type": "code",
   "execution_count": 34,
   "metadata": {
    "collapsed": false
   },
   "outputs": [
    {
     "name": "stdout",
     "output_type": "stream",
     "text": [
      "Accuracy on training data: 0.918289\n",
      "Accuracy on test data:     0.766759\n"
     ]
    }
   ],
   "source": [
    "clf = MultinomialNB(alpha=0.1).fit(X[mask], y[mask])\n",
    "\n",
    "#your turn. Print the accuracy on the test and training dataset\n",
    "training_accuracy = clf.score(X[mask], y[mask])\n",
    "test_accuracy = clf.score(X[~mask], y[~mask])\n",
    "\n",
    "print(\"Accuracy on training data: {:2f}\".format(training_accuracy))\n",
    "print(\"Accuracy on test data:     {:2f}\".format(test_accuracy))"
   ]
  },
  {
   "cell_type": "code",
   "execution_count": 35,
   "metadata": {
    "collapsed": false
   },
   "outputs": [
    {
     "name": "stdout",
     "output_type": "stream",
     "text": [
      "(15561, 18007)\n"
     ]
    }
   ],
   "source": [
    "print X.shape\n",
    "pd.DataFrame(X_cols).to_csv('./n_gram_features_stemmed.csv')"
   ]
  },
  {
   "cell_type": "markdown",
   "metadata": {},
   "source": [
    "# 3. Use special character removal"
   ]
  },
  {
   "cell_type": "code",
   "execution_count": 36,
   "metadata": {
    "collapsed": false
   },
   "outputs": [],
   "source": [
    "critics_f = critics.copy()\n",
    "critics_f.quote = critics_f.quote.str.translate(string.maketrans(\"\",\"\"), string.punctuation.replace(\"'\",\"\"))"
   ]
  },
  {
   "cell_type": "code",
   "execution_count": 37,
   "metadata": {
    "collapsed": false
   },
   "outputs": [],
   "source": [
    "X, y, X_cols = make_xy_n(critics_f, tokenizer=None, n_gram=(1, 3))\n",
    "X = X.toarray()"
   ]
  },
  {
   "cell_type": "code",
   "execution_count": 38,
   "metadata": {
    "collapsed": false
   },
   "outputs": [
    {
     "name": "stdout",
     "output_type": "stream",
     "text": [
      "Accuracy on training data: 0.909383\n",
      "Accuracy on test data:     0.763975\n"
     ]
    }
   ],
   "source": [
    "clf = MultinomialNB(alpha=0.1).fit(X[mask], y[mask])\n",
    "\n",
    "#your turn. Print the accuracy on the test and training dataset\n",
    "training_accuracy = clf.score(X[mask], y[mask])\n",
    "test_accuracy = clf.score(X[~mask], y[~mask])\n",
    "\n",
    "print(\"Accuracy on training data: {:2f}\".format(training_accuracy))\n",
    "print(\"Accuracy on test data:     {:2f}\".format(test_accuracy))"
   ]
  },
  {
   "cell_type": "code",
   "execution_count": 39,
   "metadata": {
    "collapsed": false
   },
   "outputs": [
    {
     "name": "stdout",
     "output_type": "stream",
     "text": [
      "(15561, 14276)\n"
     ]
    }
   ],
   "source": [
    "print X.shape\n",
    "pd.DataFrame(X_cols).to_csv('./n_gram_features_stemmed_char.csv')"
   ]
  },
  {
   "cell_type": "markdown",
   "metadata": {},
   "source": [
    "# 4. Test Random Forest Classifier"
   ]
  },
  {
   "cell_type": "code",
   "execution_count": null,
   "metadata": {
    "collapsed": true
   },
   "outputs": [],
   "source": [
    "X, y, X_cols = make_xy_n(critics, n_gram=(1, 3), tokenizer=LemmaTokenizer())\n",
    "X = X.toarray()"
   ]
  },
  {
   "cell_type": "code",
   "execution_count": null,
   "metadata": {
    "collapsed": false
   },
   "outputs": [],
   "source": [
    "clf = RandomForestClassifier().fit(X[mask], y[mask])\n",
    "\n",
    "#your turn. Print the accuracy on the test and training dataset\n",
    "training_accuracy = clf.score(X[mask], y[mask])\n",
    "test_accuracy = clf.score(X[~mask], y[~mask])\n",
    "\n",
    "print(\"Accuracy on training data: {:2f}\".format(training_accuracy))\n",
    "print(\"Accuracy on test data:     {:2f}\".format(test_accuracy))"
   ]
  },
  {
   "cell_type": "code",
   "execution_count": null,
   "metadata": {
    "collapsed": true
   },
   "outputs": [],
   "source": [
    "# Random forest is significantly overfitting with default parameters, try manual tuning"
   ]
  },
  {
   "cell_type": "code",
   "execution_count": null,
   "metadata": {
    "collapsed": false
   },
   "outputs": [],
   "source": [
    "mod_RFC = RandomForestClassifier(max_features=None,\n",
    "                                 max_depth=50,\n",
    "                                 oob_score=True,\n",
    "                                 n_jobs=-2,\n",
    "                                 n_estimators=20,\n",
    "                                 random_state=1,\n",
    "                                verbose=True)\n",
    "\n",
    "clf = mod_RFC.fit(X[mask], y[mask])\n",
    "\n",
    "#your turn. Print the accuracy on the test and training dataset\n",
    "training_accuracy = clf.score(X[mask], y[mask])\n",
    "test_accuracy = clf.score(X[~mask], y[~mask])\n",
    "\n",
    "print(\"Accuracy on training data: {:2f}\".format(training_accuracy))\n",
    "print(\"Accuracy on test data:     {:2f}\".format(test_accuracy))\n",
    "print(\"Accuracy on OOB data:      {:2f}\".format(clf.oob_score_))"
   ]
  },
  {
   "cell_type": "markdown",
   "metadata": {
    "collapsed": true
   },
   "source": [
    "# 5. xGBoost classifier"
   ]
  },
  {
   "cell_type": "code",
   "execution_count": null,
   "metadata": {
    "collapsed": true
   },
   "outputs": [],
   "source": [
    "X, y, X_cols = make_xy_n(critics, n_gram=(1, 3), tokenizer=LemmaTokenizer())\n",
    "X = X.toarray()"
   ]
  },
  {
   "cell_type": "code",
   "execution_count": null,
   "metadata": {
    "collapsed": false
   },
   "outputs": [],
   "source": [
    "XGB_class = xgb.XGBClassifier(max_depth=25,\n",
    "                              objective='binary:logistic',\n",
    "                              n_estimators=500,\n",
    "                              nthread=-1,\n",
    "                              silent=False,\n",
    "                              learning_rate=0.05).fit(X[mask], y[mask])\n",
    "\n",
    "clf = XGB_class.fit(X[mask], y[mask], eval_metric='error', verbose=True)\n",
    "\n",
    "#your turn. Print the accuracy on the test and training dataset\n",
    "training_accuracy = clf.score(X[mask], y[mask])\n",
    "test_accuracy = clf.score(X[~mask], y[~mask])\n",
    "\n",
    "print(\"Accuracy on training data: {:2f}\".format(training_accuracy))\n",
    "print(\"Accuracy on test data:     {:2f}\".format(test_accuracy))"
   ]
  },
  {
   "cell_type": "markdown",
   "metadata": {},
   "source": [
    "# 6. Use TF-IDF weighting instead of word counts."
   ]
  },
  {
   "cell_type": "code",
   "execution_count": 40,
   "metadata": {
    "collapsed": true
   },
   "outputs": [],
   "source": [
    "X, y, X_cols = make_xy_n(critics, vectorizer=tfidfvectorizer, tokenizer=None)\n",
    "X = X.toarray()"
   ]
  },
  {
   "cell_type": "code",
   "execution_count": 41,
   "metadata": {
    "collapsed": false
   },
   "outputs": [
    {
     "name": "stdout",
     "output_type": "stream",
     "text": [
      "(15561, 22125)\n"
     ]
    }
   ],
   "source": [
    "print X.shape\n",
    "pd.DataFrame(X_cols).to_csv('./n_gram_TF-IDF_features.csv')"
   ]
  },
  {
   "cell_type": "code",
   "execution_count": 42,
   "metadata": {
    "collapsed": false
   },
   "outputs": [
    {
     "name": "stdout",
     "output_type": "stream",
     "text": [
      "Accuracy on training data: 0.950790\n",
      "Accuracy on test data:     0.740844\n"
     ]
    }
   ],
   "source": [
    "clf = MultinomialNB(alpha=0.1).fit(X[mask], y[mask])\n",
    "\n",
    "#your turn. Print the accuracy on the test and training dataset\n",
    "training_accuracy = clf.score(X[mask], y[mask])\n",
    "test_accuracy = clf.score(X[~mask], y[~mask])\n",
    "\n",
    "print(\"Accuracy on training data: {:2f}\".format(training_accuracy))\n",
    "print(\"Accuracy on test data:     {:2f}\".format(test_accuracy))"
   ]
  },
  {
   "cell_type": "code",
   "execution_count": 43,
   "metadata": {
    "collapsed": false
   },
   "outputs": [
    {
     "data": {
      "text/plain": [
       "geezer             0.219363\n",
       "reunite            0.225549\n",
       "fils               0.226873\n",
       "falk               0.226873\n",
       "curioisity         0.226873\n",
       "pere               0.226873\n",
       "gazzara            0.226873\n",
       "voom               0.228213\n",
       "suzanne            0.229619\n",
       "tobin              0.229619\n",
       "handheld           0.230196\n",
       "wipes              0.230196\n",
       "crane              0.230196\n",
       "coloring           0.230196\n",
       "pans               0.230196\n",
       "marceau            0.231733\n",
       "insignts           0.232003\n",
       "employee           0.232003\n",
       "hanneli            0.232003\n",
       "gies               0.232003\n",
       "miep               0.232003\n",
       "goslar             0.232003\n",
       "ossie              0.233578\n",
       "beetle             0.233793\n",
       "impudence          0.234875\n",
       "bandy              0.234875\n",
       "gambini            0.234875\n",
       "androgynously      0.235571\n",
       "moss               0.235571\n",
       "partnered          0.235571\n",
       "                    ...    \n",
       "kind              60.224784\n",
       "isn               62.747001\n",
       "does              64.080037\n",
       "thriller          66.102049\n",
       "films             67.487353\n",
       "new               68.873676\n",
       "doesn             72.195368\n",
       "makes             73.261972\n",
       "entertaining      73.664665\n",
       "work              76.312024\n",
       "picture           76.688174\n",
       "little            77.783666\n",
       "characters        77.935000\n",
       "way               78.290479\n",
       "great             78.994602\n",
       "action            79.203286\n",
       "make              83.360769\n",
       "fun               85.988238\n",
       "director          89.126641\n",
       "movies            92.856728\n",
       "just              95.067198\n",
       "time             103.319884\n",
       "funny            111.721907\n",
       "best             115.014830\n",
       "story            116.724919\n",
       "comedy           118.511028\n",
       "good             137.879888\n",
       "like             138.590520\n",
       "film             306.724174\n",
       "movie            312.896543\n",
       "dtype: float64"
      ]
     },
     "execution_count": 43,
     "metadata": {},
     "output_type": "execute_result"
    }
   ],
   "source": [
    "pd.DataFrame(X, columns=X_cols).sum().sort_values()"
   ]
  },
  {
   "cell_type": "markdown",
   "metadata": {},
   "source": [
    "# 7. Doc2Vec"
   ]
  },
  {
   "cell_type": "code",
   "execution_count": 63,
   "metadata": {
    "collapsed": true
   },
   "outputs": [],
   "source": [
    "critics_f = critics.copy()\n",
    "critics_f.quote = critics_f.quote.str.translate(string.maketrans(\"\",\"\"), string.punctuation.replace(\"'\",\"\"))\n",
    "\n",
    "n_features = 200"
   ]
  },
  {
   "cell_type": "code",
   "execution_count": 64,
   "metadata": {
    "collapsed": false
   },
   "outputs": [
    {
     "data": {
      "text/plain": [
       "'!\"#$%&()*+,-./:;<=>?@[\\\\]^_`{|}~'"
      ]
     },
     "execution_count": 64,
     "metadata": {},
     "output_type": "execute_result"
    }
   ],
   "source": [
    "string.punctuation.replace(\"'\",\"\")"
   ]
  },
  {
   "cell_type": "code",
   "execution_count": 65,
   "metadata": {
    "collapsed": false
   },
   "outputs": [],
   "source": [
    "class LabeledLineSentence(object):\n",
    "    def __init__(self, paragraph_array):\n",
    "        self.paragraph_array = paragraph_array\n",
    "        \n",
    "    def __iter__(self):\n",
    "        for review, line in enumerate(self.paragraph_array):\n",
    "            yield LabeledSentence(utils.to_unicode(line).lower().split(), ['row_' + '%s' % review])\n",
    "    \n",
    "    def to_array(self):\n",
    "        self.sentences = []\n",
    "        for review, line in enumerate(self.paragraph_array):\n",
    "            self.sentences.append(LabeledSentence(utils.to_unicode(line).lower().split(), ['row_' + '%s' % review]))\n",
    "        return self.sentences\n",
    "    \n",
    "    def to_array_nolabel(self):\n",
    "        self.sentences = []\n",
    "        for review, line in enumerate(self.paragraph_array):\n",
    "            self.sentences.append(utils.to_unicode(line).lower().split())\n",
    "        return self.sentences\n",
    "    \n",
    "    def sentences_perm(self):\n",
    "        np.random.shuffle(self.sentences)\n",
    "        return self.sentences"
   ]
  },
  {
   "cell_type": "code",
   "execution_count": 66,
   "metadata": {
    "collapsed": false
   },
   "outputs": [],
   "source": [
    "sentences = LabeledLineSentence(critics_f.quote)\n",
    "model = Doc2Vec(min_count=5, dm=1, window=10, size=n_features, sample=1e-2, negative=5, workers=-1, iter=200)\n",
    "model.build_vocab(sentences)"
   ]
  },
  {
   "cell_type": "code",
   "execution_count": 67,
   "metadata": {
    "collapsed": false
   },
   "outputs": [
    {
     "data": {
      "text/plain": [
       "0"
      ]
     },
     "execution_count": 67,
     "metadata": {},
     "output_type": "execute_result"
    }
   ],
   "source": [
    "model.train(sentences, total_examples=model.corpus_count, epochs=model.iter)"
   ]
  },
  {
   "cell_type": "code",
   "execution_count": 68,
   "metadata": {
    "collapsed": false
   },
   "outputs": [
    {
     "name": "stdout",
     "output_type": "stream",
     "text": [
      "15560\r"
     ]
    }
   ],
   "source": [
    "y = (critics_f.fresh == 'fresh').values.astype(np.int)\n",
    "\n",
    "X = np.zeros((len(mask), n_features))\n",
    "\n",
    "for i in range(len(mask)):\n",
    "    print '{0}\\r'.format(i),\n",
    "    X[i] = model.docvecs['row_' + '%s' % i]\n",
    "    #X[i] = model.infer_vector(sentences.to_array()[i].words)"
   ]
  },
  {
   "cell_type": "code",
   "execution_count": 69,
   "metadata": {
    "collapsed": false
   },
   "outputs": [
    {
     "name": "stdout",
     "output_type": "stream",
     "text": [
      "Accuracy on training data: 0.616048\n",
      "Accuracy on test data:     0.593703\n"
     ]
    }
   ],
   "source": [
    "clf = LogisticRegression().fit(X[mask], y[mask])\n",
    "\n",
    "#your turn. Print the accuracy on the test and training dataset\n",
    "training_accuracy = clf.score(X[mask], y[mask])\n",
    "test_accuracy = clf.score(X[~mask], y[~mask])\n",
    "\n",
    "print(\"Accuracy on training data: {:2f}\".format(training_accuracy))\n",
    "print(\"Accuracy on test data:     {:2f}\".format(test_accuracy))"
   ]
  },
  {
   "cell_type": "code",
   "execution_count": 70,
   "metadata": {
    "collapsed": false
   },
   "outputs": [
    {
     "data": {
      "text/plain": [
       "[TaggedDocument(words=[u'so', u'ingenious', u'in', u'concept', u'design', u'and', u'execution', u'that', u'you', u'could', u'watch', u'it', u'on', u'a', u'postage', u'stampsized', u'screen', u'and', u'still', u'be', u'engulfed', u'by', u'its', u'charm'], tags=['row_0']),\n",
       " TaggedDocument(words=[u'the', u\"year's\", u'most', u'inventive', u'comedy'], tags=['row_1']),\n",
       " TaggedDocument(words=[u'a', u'winning', u'animated', u'feature', u'that', u'has', u'something', u'for', u'everyone', u'on', u'the', u'age', u'spectrum'], tags=['row_2']),\n",
       " TaggedDocument(words=[u'the', u'film', u'sports', u'a', u'provocative', u'and', u'appealing', u'story', u\"that's\", u'every', u'bit', u'the', u'equal', u'of', u'this', u'technical', u'achievement'], tags=['row_3']),\n",
       " TaggedDocument(words=[u'an', u'entertaining', u'computergenerated', u'hyperrealist', u'animation', u'feature', u'1995', u\"that's\", u'also', u'in', u'effect', u'a', u'toy', u'catalog'], tags=['row_4']),\n",
       " TaggedDocument(words=[u'as', u'lion', u'king', u'did', u'before', u'it', u'toy', u'story', u'revived', u'the', u'art', u'of', u'american', u\"children's\", u'animation', u'and', u'ushered', u'in', u'a', u'set', u'of', u'smart', u'movies', u'that', u'entertained', u'children', u'and', u'their', u'parents', u\"it's\", u'a', u'landmark', u'movie', u'and', u\"doesn't\", u'get', u'old', u'with', u'frequent', u'repetition'], tags=['row_5']),\n",
       " TaggedDocument(words=[u'the', u'film', u'will', u'probably', u'be', u'more', u'fully', u'appreciated', u'by', u'adults', u\"who'll\", u'love', u'the', u'snappy', u'knowing', u'verbal', u'gags', u'the', u'vivid', u'deftly', u'defined', u'characters', u'and', u'the', u'overall', u'conceptual', u'sophistication'], tags=['row_6']),\n",
       " TaggedDocument(words=[u'children', u'will', u'enjoy', u'a', u'new', u'take', u'on', u'the', u'irresistible', u'idea', u'of', u'toys', u'coming', u'to', u'life', u'adults', u'will', u'marvel', u'at', u'a', u'witty', u'script', u'and', u'utterly', u'brilliant', u'anthropomorphism'], tags=['row_7']),\n",
       " TaggedDocument(words=[u'although', u'its', u'computergenerated', u'imagery', u'is', u'impressive', u'the', u'major', u'surprise', u'of', u'this', u'bright', u'foray', u'into', u'a', u'new', u'kind', u'of', u'animation', u'is', u'how', u'much', u'cleverness', u'has', u'been', u'invested', u'in', u'story', u'and', u'dialogue'], tags=['row_8']),\n",
       " TaggedDocument(words=[u'how', u'perfect', u'that', u'two', u'of', u'the', u'most', u'popular', u'funny', u'guys', u'around', u'tom', u'hanks', u'and', u'tim', u'allen', u'speak', u'for', u'the', u'lead', u'boytoys'], tags=['row_9']),\n",
       " TaggedDocument(words=[u'the', u'result', u'is', u'a', u'visionary', u'rollercoaster', u'ride', u'of', u'a', u'movie'], tags=['row_10']),\n",
       " TaggedDocument(words=[u\"disney's\", u'witty', u'wondrously', u'imaginative', u'allcomputergenerated', u'cartoon', u'is', u'far', u'and', u'away', u'the', u'best', u'of', u'the', u'new', u'holiday', u'movies', u'in', u'town'], tags=['row_11']),\n",
       " TaggedDocument(words=[u\"disney's\", u'first', u'computermade', u'animated', u'feature', u'is', u'a', u'3d', u'eye', u'popper'], tags=['row_12']),\n",
       " TaggedDocument(words=[u'the', u'script', u'by', u'lasseter', u'pete', u'docter', u'andrew', u'stanton', u'and', u'joe', u'ranft', u'is', u'filled', u'with', u'clever', u'gags', u'that', u'keep', u'the', u'two', u'heroes', u'at', u'each', u\"other's\", u'throats', u'and', u'the', u'plot', u'on', u'fast', u'forward'], tags=['row_13']),\n",
       " TaggedDocument(words=[u'the', u'one', u'big', u'negative', u'about', u'toy', u'story', u'involves', u\"disney's\", u'overcommercialization'], tags=['row_14']),\n",
       " TaggedDocument(words=[u'technically', u'toy', u'story', u'is', u'nearly', u'flawless'], tags=['row_15']),\n",
       " TaggedDocument(words=[u\"it's\", u'a', u'nice', u'change', u'of', u'pace', u'to', u'see', u'the', u'studio', u'draw', u'magic', u'from', u'this', u'modern', u'tale', u'about', u'ordinary', u'20thcentury', u'kid', u'andy', u'and', u'his', u'eagertoplease', u'playthings'], tags=['row_16']),\n",
       " TaggedDocument(words=[u'i', u'can', u'hardly', u'imagine', u'having', u'more', u'fun', u'at', u'the', u'movies', u'than', u'i', u'did', u'at', u'toy', u'story', u'the', u'miraculous', u'new', u'disney', u'feature', u\"that's\", u'the', u'first', u'fulllength', u'animated', u'film', u'to', u'be', u'produced', u'entirely', u'on', u'computer'], tags=['row_17']),\n",
       " TaggedDocument(words=[u'the', u'great', u'voice', u'acting', u'the', u'visual', u'puns', u'all', u'added', u'up', u'to', u'an', u'animation', u'game', u'changer'], tags=['row_18']),\n",
       " TaggedDocument(words=[u'a', u'gloomy', u'specialeffects', u'extravaganza', u'filled', u'with', u'grotesque', u'images', u'generating', u'fear', u'and', u'despair'], tags=['row_19']),\n",
       " TaggedDocument(words=[u'a', u'calculated', u'but', u'very', u'entertaining', u'special', u'effects', u'extravaganza'], tags=['row_20']),\n",
       " TaggedDocument(words=[u'walter', u'matthau', u'and', u'jack', u'lemmon', u'are', u'awfully', u'good', u'at', u'this', u'sort', u'of', u'thing'], tags=['row_21']),\n",
       " TaggedDocument(words=[u'mediocre', u'regrettably'], tags=['row_22']),\n",
       " TaggedDocument(words=[u'just', u\"don't\", u'expect', u'their', u'bickering', u'to', u'be', u'on', u'the', u'level', u'of', u'neil', u'simon', u'and', u'you', u\"won't\", u'be', u'disappointed'], tags=['row_23']),\n",
       " TaggedDocument(words=[u'while', u'it', u\"won't\", u'come', u'close', u'to', u'my', u'top', u'10', u'best', u'list', u'for', u'1993', u'it', u'will', u'be', u'right', u'up', u'there', u'among', u'the', u'pictures', u'that', u'i', u'had', u'the', u'most', u'fun', u'watching'], tags=['row_24']),\n",
       " TaggedDocument(words=[u'the', u'movie', u'is', u'too', u'pat', u'and', u'practiced', u'to', u'really', u'be', u'convincing', u'and', u'the', u'progress', u'of', u\"ariel's\", u'relationships', u'with', u'the', u'two', u'grumps', u'seems', u'dictated', u'mostly', u'by', u'the', u'needs', u'of', u'the', u'screenplay'], tags=['row_25']),\n",
       " TaggedDocument(words=[u'if', u'you', u'poke', u'through', u\"grumpy's\", u'cheap', u'sentimentality', u\"you'll\", u'find', u'a', u'worthy', u'picture', u'somewhere'], tags=['row_26']),\n",
       " TaggedDocument(words=[u'never', u'escapes', u'the', u'queasy', u'aura', u'of', u'melrose', u'place', u'just', u'another', u'story', u'about', u'beautiful', u'people', u'with', u'small', u'problems'], tags=['row_27']),\n",
       " TaggedDocument(words=[u'a', u'pleasant', u'if', u'undemanding', u'piece', u'of', u'work', u'that', u'is', u'diverting', u'to', u'sit', u'through', u'though', u'it', u\"won't\", u'stand', u'up', u'to', u'any', u'kind', u'of', u'rigorous', u'examination'], tags=['row_28']),\n",
       " TaggedDocument(words=[u'you', u'want', u'the', u'movie', u'to', u'stomp', u'and', u'rejoice', u'and', u'cry', u'like', u'a', u'fool', u'instead', u'it', u'meanders', u'and', u'lollygags', u'occasionally', u'flaring', u'up', u'then', u'sputtering', u'again'], tags=['row_29']),\n",
       " TaggedDocument(words=[u'this', u'sistercelebratory', u'adaptation', u'of', u'terry', u\"mcmillan's\", u'bestselling', u'book', u'is', u'frequently', u'delightful'], tags=['row_30']),\n",
       " TaggedDocument(words=[u'the', u'malebashing', u'taken', u'to', u'an', u'extreme', u'in', u'waiting', u'to', u'exhale', u'is', u'starting', u'to', u'seem', u'a', u'little', u'like', u'crack', u'for', u'the', u'female', u'psyche', u'exhilarating', u'in', u'the', u'short', u'term', u'but', u'ultimately', u'crippling', u'and', u'dangerous'], tags=['row_31']),\n",
       " TaggedDocument(words=[u'whitaker', u'clumsily', u'mishandles', u'what', u'should', u'be', u'a', u\"'you\", u'go', u\"girl'\", u'tour', u'de', u'force'], tags=['row_32']),\n",
       " TaggedDocument(words=[u'with', u'one', u'possible', u'exception', u'none', u'of', u'its', u'women', u'is', u'at', u'all', u'likable'], tags=['row_33']),\n",
       " TaggedDocument(words=[u'for', u'all', u'the', u'pleasure', u'there', u'is', u'in', u'seeing', u'effective', u'greatlooking', u'black', u'women', u'grappling', u'with', u'major', u'life', u'issues', u'on', u'screen', u'waiting', u'to', u'exhale', u'is', u'an', u'uneven', u'piece'], tags=['row_34']),\n",
       " TaggedDocument(words=[u'with', u'the', u'exception', u'of', u'bernadine', u'i', u'never', u'felt', u'anything', u'for', u'the', u'women', u'populating', u'this', u'film', u'as', u'they', u'failed', u'to', u'capture', u'my', u'interest', u'or', u'sympathy'], tags=['row_35']),\n",
       " TaggedDocument(words=[u'an', u'escapist', u'fantasy', u'that', u'women', u'in', u'the', u'audience', u'can', u'enjoy', u'by', u'musing', u\"'i\", u'wish', u'i', u'had', u'her', u\"problems'\", u'and', u'her', u'car', u'house', u'wardrobe', u'figure', u'and', u'men', u'even', u'wrong', u'men'], tags=['row_36']),\n",
       " TaggedDocument(words=[u'martin', u'keaton', u'and', u'cinematographer', u'william', u'a', u'fraker', u'put', u'this', u'retro', u'fluff', u'over', u'better', u'than', u'expected', u'early', u'on', u'but', u'hour', u'2', u'is', u'only', u'for', u'those', u'who', u\"don't\", u'want', u'their', u'equilibriums', u'rattled', u'by', u'surprises'], tags=['row_37']),\n",
       " TaggedDocument(words=[u'heat', u'occupies', u'an', u'exalted', u'position', u'among', u'the', u'countless', u'contemporary', u'crime', u'films'], tags=['row_38']),\n",
       " TaggedDocument(words=[u'robert', u'de', u\"niro's\", u'last', u'great', u'role', u'before', u'he', u'devoted', u'himself', u'to', u'selfparody'], tags=['row_39']),\n",
       " TaggedDocument(words=[u'this', u'is', u'simply', u'the', u'best', u'american', u'crime', u'movie', u'and', u'indeed', u'one', u'of', u'the', u'finest', u'movies', u'period', u'in', u'over', u'a', u'decade'], tags=['row_40']),\n",
       " TaggedDocument(words=[u'as', u'heat', u'progresses', u'its', u'sensational', u'looks', u'pale', u'beside', u'storytelling', u'weaknesses', u'that', u'expose', u'the', u'more', u'soulless', u'aspects', u'of', u'this', u'catandmouse', u'crime', u'tale'], tags=['row_41']),\n",
       " TaggedDocument(words=[u'michael', u'mann', u'and', u'a', u'superlative', u'cast', u'have', u'taken', u'a', u'classic', u'heist', u'movie', u'rife', u'with', u'familiar', u'genre', u'elements', u'and', u'turned', u'it', u'into', u'a', u'sleek', u'accomplished', u'piece', u'of', u'work', u'meticulously', u'controlled', u'and', u'completely', u'involving'], tags=['row_42']),\n",
       " TaggedDocument(words=[u'for', u'a', u'film', u'that', u'deserves', u'oscars', u'for', u'photography', u'editing', u'sound', u'and', u'arguably', u'scoring', u'heat', u'is', u'packed', u'with', u'unforgettable', u'subcharacters'], tags=['row_43']),\n",
       " TaggedDocument(words=[u'all', u'this', u'adds', u'good', u'weight', u'and', u'tension', u'to', u'the', u'movie', u'and', u'provides', u'a', u'lot', u'of', u'very', u'good', u'actors', u'with', u'the', u'opportunity', u'to', u'do', u'honest', u'probing', u'work', u'in', u'a', u'context', u'where', u'typically', u'less', u'will', u'do'], tags=['row_44']),\n",
       " TaggedDocument(words=[u'all', u'the', u'squealing', u'tires', u'flying', u'bullets', u'and', u'falling', u'bodies', u'cannot', u'save', u'heat', u'from', u'drowning', u'in', u'its', u'own', u'banalities'], tags=['row_45']),\n",
       " TaggedDocument(words=[u'michael', u\"mann's\", u'writing', u'and', u'direction', u'elevate', u'this', u'material', u\"it's\", u'not', u'just', u'an', u'action', u'picture'], tags=['row_46']),\n",
       " TaggedDocument(words=[u'a', u'colossal', u'disappointment'], tags=['row_47']),\n",
       " TaggedDocument(words=[u'if', u\"there's\", u'one', u'thing', u'michael', u'mann', u'knows', u'how', u'to', u'do', u\"it's\", u'create', u'tension'], tags=['row_48']),\n",
       " TaggedDocument(words=[u'heat', u'generates', u'lots', u'of', u'energy', u'but', u'gives', u'off', u'little', u'light'], tags=['row_49']),\n",
       " TaggedDocument(words=[u'as', u'with', u'his', u'other', u'works', u'mann', u'binds', u'sound', u'music', u'and', u'pictures', u'into', u'one', u'hypnotic', u'triaxial', u'cable', u'and', u'plugs', u'it', u'right', u'into', u'your', u'brain', u'he', u'makes', u'this', u'almostthreehour', u'experience', u'practically', u'glide', u'by'], tags=['row_50']),\n",
       " TaggedDocument(words=[u'boosters', u'and', u'touts', u'use', u'the', u'term', u\"'major\", u\"movie'\", u'so', u'often', u'that', u\"it's\", u'more', u'likely', u'to', u'generate', u'yawns', u'than', u'excitement', u'at', u'this', u'point', u'back', u'to', u'basics', u'heat', u'is', u'a', u'major', u'movie', u'with', u'major', u'stars', u'doing', u'major', u'acting'], tags=['row_51']),\n",
       " TaggedDocument(words=[u'this', u'is', u'the', u'first', u'time', u'de', u'niro', u'and', u'pacino', u'have', u'acted', u'together', u'and', u'each', u'gives', u'a', u'strong', u'watertight', u'performance'], tags=['row_52']),\n",
       " TaggedDocument(words=[u'the', u'cop', u'crime', u'stuff', u'that', u'makes', u'up', u'the', u'bulk', u'of', u'the', u'movie', u'is', u'well', u'thought', u'out', u'and', u'well', u'directed'], tags=['row_53']),\n",
       " TaggedDocument(words=[u'heat', u'has', u'an', u'impressively', u'strong', u'script', u'by', u'mann', u'and', u'he', u'backs', u'it', u'up', u'with', u'gorgeous', u'filmmaking'], tags=['row_54']),\n",
       " TaggedDocument(words=[u'heat', u'is', u'an', u\"''epic''\", u'that', u'feels', u'like', u'a', u'stunt'], tags=['row_55']),\n",
       " TaggedDocument(words=[u'this', u'is', u'never', u'less', u'than', u'glittering', u'entertainment', u'but', u'somehow', u'a', u'certain', u'measure', u'of', u'lead', u'has', u'found', u'its', u'way', u'into', u'the', u'formula'], tags=['row_56']),\n",
       " TaggedDocument(words=[u'script', u'is', u'long', u'on', u'glibly', u'quipping', u'dialog', u'dropped', u'with', u'a', u'seemingly', u'casual', u'air', u'and', u'broadly', u'played', u'situations', u'the', u'splendid', u'trouping', u'delivers', u'them', u'style', u'leavening', u'the', u'chuckles', u'are', u'tugs', u'at', u'the', u'heart'], tags=['row_57']),\n",
       " TaggedDocument(words=[u\"wilder's\", u'tastelessness', u'now', u'seems', u'his', u'major', u'artistic', u'strength'], tags=['row_58']),\n",
       " TaggedDocument(words=[u\"it's\", u'a', u'cinderella', u'story', u'that', u'gets', u'turned', u'on', u'its', u'head', u'a', u'satire', u'about', u'breaking', u'down', u'class', u'and', u'emotional', u'barriers', u'and', u'a', u'confrontation', u'between', u'new', u'world', u'callousness', u'and', u'old', u'world', u'humanity'], tags=['row_59']),\n",
       " TaggedDocument(words=[u'hampered', u'by', u'an', u'unimaginative', u'script', u'nevertheless', u'manages', u'to', u'be', u'a', u'thoroughly', u'charming', u'delightfully', u'romantic', u'variation', u'of', u'the', u'cinderella', u'story'], tags=['row_60']),\n",
       " TaggedDocument(words=[u'it', u'is', u'a', u'story', u'as', u'light', u'as', u'a', u'feather', u'and', u'as', u'old', u'as', u\"yesterday's\", u'news', u'as', u'transparent', u'as', u'a', u'society', u'column', u'item', u'and', u'as', u'smug', u'as', u'a', u'foreignmade', u'car', u'but', u'mr', u'wilderhas', u'made', u'it', u'into', u'a', u'commentary', u'as', u'crisp', u'as', u'a', u'screed', u'in', u'a', u'smart', u'magazine'], tags=['row_61']),\n",
       " TaggedDocument(words=[u'a', u'joyless', u'lump'], tags=['row_62']),\n",
       " TaggedDocument(words=[u'reuniting', u'hyams', u'and', u'van', u'damme', u'director', u'and', u'star', u'of', u'timecop', u'this', u'spectacular', u'nailbiter', u'exploits', u'their', u'combined', u'if', u'limited', u'abilities', u'to', u'the', u'full'], tags=['row_63']),\n",
       " TaggedDocument(words=[u'offers', u'aboveaverage', u'pyrotechnics', u'a', u'body', u'count', u'that', u'steadily', u'mounts', u'and', u'plenty', u'of', u'handtohand', u'combat'], tags=['row_64']),\n",
       " TaggedDocument(words=[u'sudden', u'death', u'is', u'one', u'of', u'the', u'best', u'action', u'thrillers', u'of', u'1995', u\"it's\", u'also', u'the', u'film', u'jeanclaude', u'van', u'damme', u'has', u'been', u'building', u'up', u'to', u'for', u'10', u'years'], tags=['row_65']),\n",
       " TaggedDocument(words=[u'despite', u'the', u'elaborate', u'stunts', u'gogogo', u'direction', u'from', u'peter', u'hyams', u'plus', u'buttkicking', u'and', u'surprise', u'goalie', u'action', u'from', u'van', u'damme', u'death', u'deserves', u'the', u'hockeypuck', u'booby', u'prize', u'forgetting', u'its', u'jollies', u'by', u'putting', u'kids', u'in', u'jeopardy'], tags=['row_66']),\n",
       " TaggedDocument(words=[u'a', u'treat', u'for', u'jeanclaude', u'van', u'damme', u'fans', u'a', u'superior', u'action', u'thriller', u'loaded', u'with', u'jawdropping', u'stunts', u'and', u'special', u'effects', u'and', u'strong', u'in', u'production', u'values'], tags=['row_67']),\n",
       " TaggedDocument(words=[u'sudden', u'death', u\"isn't\", u'about', u'common', u'sense', u\"it's\", u'about', u'the', u'manipulation', u'of', u'action', u'and', u'specialeffects', u'sequences', u'to', u'create', u'a', u'thriller', u'effect', u'and', u'at', u'that', u\"it's\", u'pretty', u'good'], tags=['row_68']),\n",
       " TaggedDocument(words=[u'though', u'the', u'climactic', u'duel', u'atop', u'the', u'arena', u'roof', u'is', u'patently', u'absurd', u\"it's\", u'also', u'exciting', u'as', u'events', u'go', u'into', u'suddendeath', u'overtime', u'just', u'like', u'the', u'game', u'being', u'played', u'below'], tags=['row_69']),\n",
       " TaggedDocument(words=[u'van', u'damme', u'races', u'against', u'time', u'trying', u'to', u'thwart', u'boothe', u'and', u'defuse', u'all', u'the', u'bombs', u'but', u'in', u'the', u'hands', u'of', u'director', u'peter', u'hyams', u'these', u'are', u'just', u'banal', u'actionmovie', u'chores'], tags=['row_70']),\n",
       " TaggedDocument(words=[u'about', u'the', u'best', u'thing', u'that', u'can', u'be', u'said', u'about', u'this', u'movie', u'is', u'that', u'the', u'action', u'scenes', u'directed', u'by', u'peter', u'hyams', u'are', u'choreographed', u'with', u'flair', u'unfortunately', u'the', u'material', u'connecting', u'them', u'is', u'worthless'], tags=['row_71']),\n",
       " TaggedDocument(words=[u'brosnan', u'however', u'looks', u'set', u'to', u'stay', u\"he'll\", u'never', u'recapture', u'the', u'amused', u'cool', u'of', u'the', u'young', u'sean', u'connery', u'but', u'he', u'does', u'overcome', u'the', u'handicap', u'of', u'looking', u'like', u'a', u'humorless', u'male', u'model'], tags=['row_72']),\n",
       " TaggedDocument(words=[u'i', u\"don't\", u'know', u'whether', u'the', u'bond', u'series', u'has', u'a', u'future', u'but', u'if', u'xenia', u'onatopp', u'ever', u'returns', u'to', u'try', u'for', u'world', u'domination', u'he', u'may', u'finally', u'get', u'a', u'battle', u'worth', u'fighting'], tags=['row_73']),\n",
       " TaggedDocument(words=[u\"there's\", u'something', u'a', u'mite', u'pathetic', u'about', u'our', u'culture', u'still', u'clinging', u'to', u'007', u'but', u\"it's\", u'hard', u'to', u'deny', u'that', u'this', u'is', u'one', u'of', u'the', u'most', u'entertaining', u'entries', u'in', u'the', u'bond', u'cycle'], tags=['row_74']),\n",
       " TaggedDocument(words=[u'richard', u'kiel', u'you', u'are', u'missed'], tags=['row_75']),\n",
       " TaggedDocument(words=[u'among', u'the', u'better', u'of', u'the', u'17', u'bonds', u'and', u'perhaps', u'more', u'important', u'for', u\"today's\", u'audience', u'a', u'dynamic', u'action', u'entry', u'in', u'its', u'own', u'right', u'this', u'first', u'007', u'adventure', u'in', u'six', u'years', u'breathes', u'fresh', u'creative', u'and', u'commercial', u'life', u'into', u'the', u'33yearold', u'series'], tags=['row_76']),\n",
       " TaggedDocument(words=[u'director', u'campbell', u'keeps', u'matters', u'bowling', u'along', u'and', u'even', u'manages', u'to', u'recapture', u'something', u'of', u'the', u'look', u'of', u'the', u'earlier', u'films'], tags=['row_77']),\n",
       " TaggedDocument(words=[u'suffers', u'the', u'blahs'], tags=['row_78']),\n",
       " TaggedDocument(words=[u'supercharged', u'with', u'spectacular', u'thundering', u'brainnumbing', u'fun'], tags=['row_79']),\n",
       " TaggedDocument(words=[u'they', u'have', u'given', u'james', u'a', u'new', u'car', u'here', u'but', u\"it's\", u'the', u'same', u'old', u'vanity', u'plate', u'the', u'one', u'that', u'should', u'read', u'je', u'me', u'souviens'], tags=['row_80']),\n",
       " TaggedDocument(words=[u'a', u'reasonable', u'facsimile', u'more', u'than', u'any', u'kind', u'of', u'original', u'and', u\"it's\", u'hard', u'not', u'to', u'feel', u'a', u'certain', u'weariness', u'while', u'watching', u'it', u'unfold'], tags=['row_81']),\n",
       " TaggedDocument(words=[u\"it's\", u'bs', u'babes', u'and', u'stunts', u'and', u\"that's\", u'where', u'goldeneye', u'excels'], tags=['row_82']),\n",
       " TaggedDocument(words=[u'directed', u'with', u'topdollar', u'proficiency', u'and', u'some', u'real', u'wit'], tags=['row_83']),\n",
       " TaggedDocument(words=[u'perhaps', u'the', u'best', u'entry', u'in', u'the', u'series', u'since', u'the', u'spy', u'who', u'loved', u'me'], tags=['row_84']),\n",
       " TaggedDocument(words=[u'watching', u'the', u'film', u'i', u'got', u'caught', u'up', u'in', u'the', u'special', u'effects', u'and', u'the', u'neat', u'stunts', u'and', u'i', u'observed', u'with', u'a', u'certain', u'satisfaction', u\"bond's\", u'belated', u'entry', u'into', u'a', u'more', u'modern', u'world'], tags=['row_85']),\n",
       " TaggedDocument(words=[u'part', u'romantic', u'comedy', u'part', u'capracorny', u'political', u'drama', u'this', u'movie', u'exudes', u'so', u'much', u'sympathy', u'it', u'sweats'], tags=['row_86']),\n",
       " TaggedDocument(words=[u'with', u'great', u'looks', u'a', u'dandy', u'supporting', u'cast', u'a', u'zingerfilled', u'screenplay', u'by', u'aaron', u'sorkin', u'and', u'mr', u'douglas', u'twinkling', u'merrily', u'in', u'the', u'oval', u'office', u'the', u'american', u'president', u'is', u'sunny', u'enough', u'to', u'make', u'the', u'real', u'presidency', u'pale', u'by', u'comparison'], tags=['row_87']),\n",
       " TaggedDocument(words=[u'genial', u'and', u'entertaining', u'if', u'not', u'notably', u'inspired'], tags=['row_88']),\n",
       " TaggedDocument(words=[u'genial', u'middlebrow', u'fare', u'that', u'coasts', u'a', u'long', u'way', u'on', u'the', u'charm', u'of', u'its', u'two', u'stars'], tags=['row_89']),\n",
       " TaggedDocument(words=[u'as', u'bustling', u'and', u'impassioned', u'as', u'the', u'best', u'sturges', u'and', u'capra', u'movies'], tags=['row_90']),\n",
       " TaggedDocument(words=[u'neither', u'bad', u'nor', u'unwatchable', u'the', u'american', u'president', u'is', u'nevertheless', u'the', u'second', u'straight', u'disappointment', u'from', u'director', u'rob', u'reiner'], tags=['row_91']),\n",
       " TaggedDocument(words=[u'you', u\"can't\", u'dislike', u'this', u'movie', u'but', u'you', u\"won't\", u'be', u'swept', u'away', u'by', u'it', u'either'], tags=['row_92']),\n",
       " TaggedDocument(words=[u'the', u'american', u'president', u'will', u'make', u'you', u'laugh', u'and', u'make', u'you', u'smile', u'but', u'it', u'probably', u\"won't\", u'make', u'you', u'change', u'your', u'vote'], tags=['row_93']),\n",
       " TaggedDocument(words=[u'a', u'shrewd', u'new', u'depiction', u'of', u\"'office\", u\"sex'\", u'as', u'well', u'as', u'an', u'utterly', u'positive', u'view', u'of', u'the', u'idea', u'that', u'a', u\"president's\", u'character', u'is', u'important'], tags=['row_94']),\n",
       " TaggedDocument(words=[u'apart', u'from', u'its', u'tooobvious', u'political', u'bias', u'the', u'american', u'president', u'has', u'romance', u'in', u'its', u'heart', u'smarts', u'in', u'abundance', u'and', u'class', u'to', u'spare'], tags=['row_95']),\n",
       " TaggedDocument(words=[u'great', u'entertainment'], tags=['row_96']),\n",
       " TaggedDocument(words=[u'a', u'wellmodulated', u'charmer'], tags=['row_97']),\n",
       " TaggedDocument(words=[u'the', u'american', u'president', u'becomes', u'a', u'pretty', u'darn', u'entertaining', u'and', u'affecting', u'movie', u'after', u'its', u'first', u'simpering', u'20', u'minutes'], tags=['row_98']),\n",
       " TaggedDocument(words=[u'frothy'], tags=['row_99']),\n",
       " TaggedDocument(words=[u\"'capraesque'\", u'has', u'inevitably', u'been', u'affixed', u'to', u'the', u'american', u'president', u'but', u'that', u'phrase', u'with', u'its', u'implications', u'of', u'facile', u'hokum', u\"doesn't\", u'do', u'the', u'film', u'justice'], tags=['row_100']),\n",
       " TaggedDocument(words=[u'painless', u'fun'], tags=['row_101']),\n",
       " TaggedDocument(words=[u'a', u'super', u'cast', u'injects', u'it', u'with', u'teddy', u'roosevelt', u'vitality'], tags=['row_102']),\n",
       " TaggedDocument(words=[u'when', u'it', u'comes', u'right', u'down', u'to', u'it', u'high', u'office', u'does', u'not', u'guarantee', u'high', u'comedy'], tags=['row_103']),\n",
       " TaggedDocument(words=[u'the', u'image', u'of', u'a', u'chief', u'executive', u'as', u'moonstruck', u'single', u'guy', u'taps', u'something', u'buoyant', u'and', u'touching', u'in', u'our', u'collective', u'democratic', u'imagination', u'and', u'douglas', u'wearing', u'a', u'fastbreak', u'smile', u'in', u'place', u'of', u'his', u'usual', u'frown', u'strikes', u'a', u'tender', u'rapport', u'with', u'bening'], tags=['row_104']),\n",
       " TaggedDocument(words=[u'either', u'this', u'is', u'the', u'lamest', u'mel', u'brooks', u'comedy', u'ever', u'or', u\"it's\", u'too', u'close', u'to', u'other', u'contenders', u'to', u'make', u'much', u'difference'], tags=['row_105']),\n",
       " TaggedDocument(words=[u'the', u'only', u'real', u'sparks', u'are', u'set', u'off', u'by', u'macnicol', u'as', u'renfield', u'the', u'solicitor', u'who', u'develops', u'a', u'taste', u'for', u'flies', u'and', u'spiders', u'after', u'being', u'bitten', u'by', u'dracula'], tags=['row_106']),\n",
       " TaggedDocument(words=[u'brooks', u'as', u'van', u'helsing', u'is', u'one', u'of', u'the', u'more', u'successful', u'aspects', u'but', u'he', u\"hasn't\", u'imbued', u'in', u'his', u'stock', u'company', u'a', u'similar', u'ability', u'to', u'rise', u'above', u'their', u'underwritten', u'roles'], tags=['row_107']),\n",
       " TaggedDocument(words=[u'slight', u'but', u'amusing'], tags=['row_108']),\n",
       " TaggedDocument(words=[u'not', u'to', u'venture', u'forth', u'some', u'sort', u'of', u'radical', u'idea', u'but', u\"aren't\", u'comedies', u'supposed', u'to', u'have', u'jokes'], tags=['row_109']),\n",
       " TaggedDocument(words=[u\"it's\", u'a', u'toothless', u'parody', u'that', u'misses', u'more', u'often', u'than', u'it', u'hits'], tags=['row_110']),\n",
       " TaggedDocument(words=[u'this', u'time', u'unfortunately', u\"he's\", u'sucking', u'on', u'a', u'dry', u'vein'], tags=['row_111']),\n",
       " TaggedDocument(words=[u'if', u'any', u'movie', u'proves', u'that', u'mel', u\"brooks'\", u'genius', u'for', u'skewering', u'creaky', u'genres', u'has', u'evaporated', u\"it's\", u'this', u'anemic', u'attempt', u'to', u'draw', u'new', u'blood', u'from', u'lowflying', u'vampire', u'high', u'jinks'], tags=['row_112']),\n",
       " TaggedDocument(words=[u'dracula', u'is', u'anemic', u'and', u'mediocre', u'with', u'only', u'one', u'or', u'two', u'moments', u'to', u'remind', u'you', u'of', u'the', u'former', u'funnier', u'brooks'], tags=['row_113']),\n",
       " TaggedDocument(words=[u'nielsen', u'makes', u'a', u'dapper', u'and', u'calmly', u'inept', u'dracula', u'but', u\"it's\", u\"brooks'\", u'irrepressible', u'and', u'oblivious', u'van', u'helsing', u\"who's\", u'the', u'main', u'attraction'], tags=['row_114']),\n",
       " TaggedDocument(words=[u'the', u'love', u'story', u'is', u'pure', u'mush', u'not', u'helped', u'by', u'the', u'bland', u'voice', u'work', u'done', u'by', u'kevin', u'bacon', u'as', u'balto', u'and', u'bridget', u'fonda', u'as', u'dainty', u'husky', u'jenna'], tags=['row_115']),\n",
       " TaggedDocument(words=[u'as', u'wayward', u'and', u'selfregarding', u'as', u'its', u'subject', u'the', u'film', u'long', u'overstays', u'its', u'welcome'], tags=['row_116']),\n",
       " TaggedDocument(words=[u'what', u'it', u'finally', u'adds', u'up', u'to', u'is', u'a', u'huge', u'mixed', u'bag', u'of', u'waxworks', u'and', u'daring', u'a', u'film', u'that', u'is', u'furiously', u'ambitious', u'even', u'when', u'it', u'goes', u'flat', u'and', u'startling', u'even', u'when', u'it', u'settles', u'for', u'eerie', u'movieoftheweek', u'mimicry'], tags=['row_117']),\n",
       " TaggedDocument(words=[u'without', u'question', u'nixon', u'dwarfs', u'everything', u'in', u'the', u'american', u'cinema', u'since', u\"schindler's\", u'list'], tags=['row_118']),\n",
       " TaggedDocument(words=[u'nixon', u'starts', u'like', u'a', u'horror', u'movie', u'on', u'a', u'dark', u'and', u'stormy', u'night', u'with', u'the', u'president', u'prowling', u'around', u'a', u'room', u'of', u'the', u'white', u'house', u'like', u'dracula', u'in', u'his', u'lair'], tags=['row_119']),\n",
       " TaggedDocument(words=[u'nixon', u'far', u'overstays', u'its', u'welcome', u'with', u'an', u'increasingly', u'tedious', u'final', u'hour', u'devoted', u'largely', u'to', u'slogging', u'through', u'the', u'minutiae', u'of', u'watergate'], tags=['row_120']),\n",
       " TaggedDocument(words=[u'factual', u'or', u'not', u\"there's\", u'no', u'denying', u'that', u'nixon', u'has', u'moments', u'when', u'it', u'is', u'nothing', u'short', u'of', u'compelling'], tags=['row_121']),\n",
       " TaggedDocument(words=[u\"there's\", u'no', u'compelling', u'structure', u'or', u'viewpoint', u'to', u'hold', u'the', u'picture', u'together'], tags=['row_122']),\n",
       " TaggedDocument(words=[u'the', u'problem', u'here', u\"isn't\", u'accuracy', u\"it's\", u'absurdity'], tags=['row_123']),\n",
       " TaggedDocument(words=[u'thoughts', u'of', u'hamlet', u'macbeth', u'and', u'king', u'lear', u'come', u'to', u'mind', u'here', u'again', u'is', u'a', u'ruler', u'destroyed', u'by', u'his', u'fatal', u'flaws', u\"there's\", u'something', u'almost', u'majestic', u'about', u'the', u'process', u'as', u'nixon', u'goes', u'down', u'in', u'this', u'film', u'there', u'is', u'no', u'gloating', u'but', u'a', u'watery', u'sigh', u'as', u'of', u'a', u'great', u'ship'], tags=['row_124']),\n",
       " TaggedDocument(words=[u'thoughtful', u'wellresearched', u'and', u'carefully', u'modulated', u'the', u'film', u'also', u'marks', u'director', u'oliver', u\"stone's\", u'coming', u'of', u'age'], tags=['row_125']),\n",
       " TaggedDocument(words=[u'rich', u'dense', u'and', u'complex'], tags=['row_126']),\n",
       " TaggedDocument(words=[u'the', u'picture', u'is', u'a', u'case', u'study'], tags=['row_127']),\n",
       " TaggedDocument(words=[u'casting', u'anthony', u'hopkins', u'was', u'a', u'stroke', u'of', u'unexpected', u'genius'], tags=['row_128']),\n",
       " TaggedDocument(words=[u\"stone's\", u'no', u'shakespeare', u'and', u'neither', u'are', u'his', u'screenwriters'], tags=['row_129']),\n",
       " TaggedDocument(words=[u'joan', u'allen', u'goes', u'beyond', u'her', u'chilling', u'physical', u'resemblance', u'to', u'pat', u'nixon', u'toward', u'serious', u'oscar', u'worthiness'], tags=['row_130']),\n",
       " TaggedDocument(words=[u'i', u'never', u'felt', u'that', u'i', u'was', u'seeing', u'the', u'darkness', u'reaching', u'out', u'to', u'the', u'darkness', u'as', u'nixon', u'was', u'once', u'described'], tags=['row_131']),\n",
       " TaggedDocument(words=[u'real', u'life', u'if', u\"it's\", u'real', u'nixon', u'is', u'more', u'dramatic', u'than', u'an', u'oliver', u'stone', u'movie'], tags=['row_132']),\n",
       " TaggedDocument(words=[u'if', u'the', u'sight', u'of', u'halfnaked', u'tattooed', u'sailors', u'firing', u'cannons', u'at', u'each', u'other', u'shivers', u'your', u'timbers', u'climb', u'aboard', u'even', u'passable', u'pirate', u'movies', u\"don't\", u'sail', u'by', u'every', u'day'], tags=['row_133']),\n",
       " TaggedDocument(words=[u'stone', u'seems', u'to', u'be', u'trying', u'to', u'enter', u'a', u'more', u'passionate', u'movie', u'where', u'a', u'neurotic', u'gold', u'digger', u'could', u'at', u'least', u'have', u'a', u'good', u'time', u'by', u'the', u'end', u'of', u'casino', u'for', u'all', u'its', u'craftsmanly', u'bravura', u'you', u'may', u'want', u'to', u'join', u'her'], tags=['row_134']),\n",
       " TaggedDocument(words=[u'so', u'long', u'as', u'casino', u'stays', u'focused', u'on', u'the', u'excesses', u'of', u'language', u'of', u'violence', u'of', u'ambition', u'in', u'the', u'lifestyles', u'of', u'the', u'rich', u'and', u'infamous', u'it', u'remains', u'a', u'smart', u'knowing', u'if', u'often', u'repetitive', u'spectacle'], tags=['row_135']),\n",
       " TaggedDocument(words=[u'simultaneously', u'quite', u'watchable', u'and', u'passionless'], tags=['row_136']),\n",
       " TaggedDocument(words=[u'martin', u\"scorsese's\", u'intimate', u'epic', u'about', u'money', u'sex', u'and', u'brute', u'force', u'is', u'a', u'grandly', u'conceived', u'study', u'of', u'what', u'happens', u'to', u'goodfellas', u'from', u'the', u'mean', u'streets', u'when', u'they', u'outstrip', u'their', u'wildest', u'dreams', u'and', u'achieve', u'the', u'pinnacle', u'of', u'wealth', u'and', u'power'], tags=['row_137']),\n",
       " TaggedDocument(words=[u\"it's\", u'not', u'the', u\"actors'\", u'fault', u'that', u'no', u'one', u'is', u'able', u'to', u'break', u'through', u'the', u\"film's\", u'gorgeous', u'but', u'chilly', u'surface', u'you', u'watch', u'casino', u'with', u'respect', u'and', u'appreciation', u'reveling', u'in', u'its', u'documentary', u'sense', u'of', u'detail'], tags=['row_138']),\n",
       " TaggedDocument(words=[u'scorsese', u'may', u'be', u'flailing', u'here', u'but', u'scorsese', u'flailing', u'is', u'more', u'formidable', u'than', u'most', u'directors', u'at', u'the', u'top', u'of', u'their', u'form'], tags=['row_139']),\n",
       " TaggedDocument(words=[u'the', u'result', u'sadly', u'is', u'that', u'contradiction', u'in', u'terms', u'a', u'dull', u'scorsese', u'movie'], tags=['row_140']),\n",
       " TaggedDocument(words=[u'of', u'all', u'the', u'bravura', u'visual', u'effects', u'in', u'martin', u\"scorsese's\", u'dazzlingly', u'stylish', u'casino', u\"it's\", u'a', u'glimpse', u'of', u'ordinary', u'people', u'that', u'delivers', u'the', u'greatest', u'jolt'], tags=['row_141']),\n",
       " TaggedDocument(words=[u\"it's\", u'an', u'ambitious', u'film', u'but', u'also', u'a', u'scattered', u'unfocused', u'one'], tags=['row_142']),\n",
       " TaggedDocument(words=[u'visually', u'impressive', u'splendidly', u'performed', u'thematically', u'significant', u'this', u'is', u'a', u'movie', u'in', u'full', u'possession', u'of', u'every', u'key', u'cinematic', u'asset', u'except', u'one', u'a', u'solid', u'script'], tags=['row_143']),\n",
       " TaggedDocument(words=[u'a', u'vegas', u'masterpiece'], tags=['row_144']),\n",
       " TaggedDocument(words=[u'martin', u'scorsese', u'is', u'a', u'master', u'filmmaker', u'so', u'skilled', u'in', u'the', u'manipulation', u'of', u'imagery', u'he', u'might', u'be', u'the', u'most', u'proficient', u'of', u'active', u'american', u'directors'], tags=['row_145']),\n",
       " TaggedDocument(words=[u'after', u'coming', u'out', u'gangbusters', u'in', u'its', u'first', u'and', u'finest', u'hour', u'the', u'180minute', u'movie', u'loses', u'all', u'its', u'chips', u'in', u'the', u'remaining', u'two'], tags=['row_146']),\n",
       " TaggedDocument(words=[u'martin', u\"scorsese's\", u'fascinating', u'new', u'film', u'casino', u'knows', u'a', u'lot', u'about', u'the', u\"mafia's\", u'relationship', u'with', u'las', u'vegas'], tags=['row_147']),\n",
       " TaggedDocument(words=[u'in', u'every', u'way', u'from', u'the', u'fantastic', u'sets', u'rich', u'dialogue', u'and', u'unapologetic', u'violence', u'to', u'the', u'wellportrayed', u'characters', u'and', u'themes', u'of', u'loyalty', u'and', u'betrayal', u'casino', u'is', u'pure', u'scorsese'], tags=['row_148']),\n",
       " TaggedDocument(words=[u'whether', u'you', u'find', u'it', u'exhilarating', u'expendable', u'or', u'exhausting', u'and', u'you', u'will', u'find', u'it', u'exhausting', u'martin', u\"scorsese's\", u'casino', u'is', u'the', u'spectacular', u'last', u'word', u'on', u'urban', u'sprawl'], tags=['row_149']),\n",
       " TaggedDocument(words=[u\"thompson's\", u'script', u'manages', u'the', u'neat', u'trick', u'of', u'preserving', u'the', u'necessary', u'niceties', u'and', u'decorum', u'of', u'civilized', u'behavior', u'of', u'the', u'time', u'while', u'still', u'cutting', u'to', u'the', u'dramatic', u'quick'], tags=['row_150']),\n",
       " TaggedDocument(words=[u'i', u\"can't\", u'say', u'i', u'remembered', u'this', u'1995', u'feature', u'too', u'clearly', u'a', u'couple', u'of', u'days', u'later', u'but', u'i', u'certainly', u'had', u'a', u'good', u'time', u'as', u'i', u'watched', u'it'], tags=['row_151']),\n",
       " TaggedDocument(words=[u'thompson', u'and', u'winslet', u'give', u'fine', u'performances', u'ably', u'supported', u'by', u'the', u'rest', u'of', u'the', u'ensemble'], tags=['row_152']),\n",
       " TaggedDocument(words=[u'we', u'need', u'no', u'further', u'proof', u'that', u'this', u'material', u'is', u'ageless'], tags=['row_153']),\n",
       " TaggedDocument(words=[u'the', u'sensibility', u'may', u'be', u'a', u'bit', u'off', u'but', u'there', u'is', u'more', u'than', u'enough', u'sense', u'involved', u'in', u'this', u'midatlantic', u'austen', u'to', u'make', u'up', u'the', u'difference'], tags=['row_154']),\n",
       " TaggedDocument(words=[u'the', u'film', u'is', u'packed', u'with', u'pleasing', u'performances', u'by', u'stagetrained', u'actors'], tags=['row_155']),\n",
       " TaggedDocument(words=[u'told', u'with', u'deft', u'skill', u'and', u'a', u'pleasantly', u'humorous', u'romantic', u'touch'], tags=['row_156']),\n",
       " TaggedDocument(words=[u\"it's\", u'bliss'], tags=['row_157']),\n",
       " TaggedDocument(words=[u'a', u'triumph', u'for', u\"taiwan's\", u'most', u'famous', u'director', u'ang', u'lee'], tags=['row_158']),\n",
       " TaggedDocument(words=[u\"thompson's\", u'script', u'hits', u'its', u'peak', u'by', u'keeping', u\"austen's\", u'voice', u'yet', u'finding', u'the', u'satirical', u'smirk', u'behind', u'it'], tags=['row_159']),\n",
       " TaggedDocument(words=[u'sense', u'and', u'sensibility', u'is', u'funny', u'expansive', u'and', u'a', u'delight', u'to', u'spend', u'company', u'with'], tags=['row_160']),\n",
       " TaggedDocument(words=[u'the', u'movie', u'is', u'good', u'fun', u'boasting', u'a', u'dozen', u'vivid', u'characters', u'and', u'two', u'that', u'moviegoers', u'will', u'take', u'to', u'heart'], tags=['row_161']),\n",
       " TaggedDocument(words=[u'sense', u'and', u'sensibility', u'is', u'an', u'enjoyable', u'film', u'and', u'yet', u'it', u'left', u'me', u'somehow', u'unsatisfied'], tags=['row_162']),\n",
       " TaggedDocument(words=[u'demonstrates', u'how', u'little', u'humankind', u'has', u'evolved', u'in', u'matters', u'of', u'the', u'heart'], tags=['row_163']),\n",
       " TaggedDocument(words=[u'exquisitely', u'detailed', u'and', u'impeccably', u'acted'], tags=['row_164']),\n",
       " TaggedDocument(words=[u'an', u'exuberant', u'well', u'crafted', u'film', u'that', u'gets', u'the', u'audience', u'involved', u'on', u'a', u'gut', u'level'], tags=['row_165']),\n",
       " TaggedDocument(words=[u'the', u'results', u'are', u'mainly', u'awful', u'and', u'even', u'roth', u'got', u'saddled', u'with', u'a', u'mannered', u'part', u'that', u'he', u\"can't\", u'comfortably', u'play'], tags=['row_166']),\n",
       " TaggedDocument(words=[u'four', u'of', u'the', u'hottest', u'indie', u'directorsanders', u'rockwell', u'tarantino', u'and', u'rodriguesmiss', u'a', u'unique', u'opportunity', u'to', u'display', u'their', u'idiosyncratic', u'talents', u'resulting', u'in', u'a', u'tedious', u'anthology', u'in', u'which', u'2', u'segments', u'are', u'inept', u'one', u'barely', u'decent', u'and', u'one', u'ok', u'guess', u'whose'], tags=['row_167']),\n",
       " TaggedDocument(words=[u'they', u'should', u'have', u'called', u'this', u'one', u'room', u'and', u'released', u'it', u'as', u'a', u'rodriguez', u'short'], tags=['row_168']),\n",
       " TaggedDocument(words=[u'the', u'less', u'said', u'about', u'this', u'careerdenting', u'fiasco', u'the', u'better'], tags=['row_169']),\n",
       " TaggedDocument(words=[u'sounds', u'better', u'than', u'it', u'is'], tags=['row_170']),\n",
       " TaggedDocument(words=[u'four', u'rooms', u'has', u'been', u'cut', u'substantially', u'since', u'a', u'disastrous', u'september', u'reception', u'at', u'the', u'toronto', u'film', u'festival', u'though', u\"it's\", u'hard', u'to', u'imagine', u'it', u'running', u'any', u'longer'], tags=['row_171']),\n",
       " TaggedDocument(words=[u'the', u'four', u'segments', u'are', u'widely', u'different', u'in', u'quality', u'on', u'the', u'useful', u'scale', u'of', u'the', u'michelin', u'guides', u'one', u'is', u'worth', u'a', u'trip', u'another', u'is', u'worth', u'a', u'detour', u'and', u'the', u'other', u'two', u'are', u'a', u'colossal', u'waste', u'of', u'bandwidth'], tags=['row_172']),\n",
       " TaggedDocument(words=[u'four', u'rooms', u'asserts', u'itself', u'as', u'a', u'goof', u'so', u'laboriously', u'and', u'aggressively', u'that', u'you', u'almost', u'feel', u'pinned', u'back', u'in', u'your', u'seat'], tags=['row_173']),\n",
       " TaggedDocument(words=[u'the', u'result', u'is', u'a', u'batch', u'of', u'shrill', u'selfindulgent', u'sketches', u'that', u'turn', u'so', u'wretched', u'in', u'spots', u'you', u'start', u'to', u'wonder', u'if', u'the', u'filmmakers', u'wanted', u'them', u'to', u'be', u'bad'], tags=['row_174']),\n",
       " TaggedDocument(words=[u'the', u'segments', u'are', u'uniformly', u'weak'], tags=['row_175']),\n",
       " TaggedDocument(words=[u'four', u'rooms', u'has', u'to', u'be', u'one', u'of', u\"1995's\", u'major', u'disappointments'], tags=['row_176']),\n",
       " TaggedDocument(words=[u\"there's\", u'so', u'little', u'to', u'watch', u'besides', u'carrey', u'in', u'fact', u'it', u'makes', u'you', u'actually', u'miss', u'gasp', u'sean', u'young', u'from', u'ace', u'1'], tags=['row_177']),\n",
       " TaggedDocument(words=[u'bounces', u'along', u'with', u'a', u'lame', u'script', u'and', u'inconsistent', u'pace'], tags=['row_178']),\n",
       " TaggedDocument(words=[u'hardly', u'worth', u'the', u'fouryear', u'wait'], tags=['row_179']),\n",
       " TaggedDocument(words=[u'more', u'viscerally', u'charged', u'than', u'speed', u'and', u'hipper', u'than', u'die', u'hard', u'with', u'a', u'vengeance', u'the', u'movie', u'is', u'a', u'careening', u'screeching', u'joyride', u'that', u'showers', u'sparks', u'like', u'fireworks'], tags=['row_180']),\n",
       " TaggedDocument(words=[u'money', u'train', u'is', u'a', u'bythenumbers', u'actionbuddy', u'picture', u'and', u'few', u'directors', u'run', u'through', u'those', u'numbers', u'as', u'smoothly', u'as', u'joseph', u'ruben'], tags=['row_181']),\n",
       " TaggedDocument(words=[u'even', u'if', u'they', u'only', u'charged', u'a', u'token', u'it', u'would', u'be', u'too', u'much'], tags=['row_182']),\n",
       " TaggedDocument(words=[u\"it's\", u'stupid', u'but', u'also', u'breezier', u'than', u'the', u\"year's\", u'other', u'12score', u'releases', u'not', u'worth', u'a', u'second', u'look'], tags=['row_183']),\n",
       " TaggedDocument(words=[u'a', u'big', u'noisy', u'headache', u'of', u'a', u'movie'], tags=['row_184']),\n",
       " TaggedDocument(words=[u'hollywood', u'has', u'been', u'in', u'love', u'with', u'mobsters', u'since', u'the', u'beginning', u'of', u'movies', u'but', u'the', u'other', u'side', u'of', u'the', u'equation', u'has', u'seldom', u'been', u'considered', u'that', u'is', u'until', u'now'], tags=['row_185']),\n",
       " TaggedDocument(words=[u'a', u'drolly', u'offbeat', u'look', u'at', u'hollywood', u'mores', u'dedicated', u'to', u'the', u'proposition', u'that', u'the', u'best', u'preparation', u'for', u'becoming', u'a', u'film', u'producer', u'is', u'a', u'stint', u'in', u'the', u'criminal', u'underworld'], tags=['row_186']),\n",
       " TaggedDocument(words=[u'an', u'entertaining', u'comedythriller', u'adapted', u'by', u'scott', u'frank', u'from', u'the', u'elmore', u'leonard', u'bestseller', u'and', u'directed', u'with', u'bounce', u'if', u'not', u'much', u'nuance', u'by', u'barry', u'sonnenfeld'], tags=['row_187']),\n",
       " TaggedDocument(words=[u'everything', u'clicks'], tags=['row_188']),\n",
       " TaggedDocument(words=[u\"it's\", u'part', u'of', u'the', u'joke', u'here', u'that', u'chili', u'is', u'a', u'diehard', u'cineaste', u'and', u'loves', u'reminiscing', u'about', u'smart', u'stylish', u'toughguy', u'films', u'he', u'has', u'enjoyed', u'get', u'shorty', u'belongs', u'on', u'that', u'list'], tags=['row_189']),\n",
       " TaggedDocument(words=[u\"it's\", u'travolta', u'smooth', u'commanding', u'handsome', u'as', u'ever', u'a', u'cool', u'rhythmic', u'bop', u'in', u'his', u'walk', u'who', u'owns', u'the', u'film'], tags=['row_190']),\n",
       " TaggedDocument(words=[u'the', u'result', u'is', u'one', u'of', u'the', u'best', u'movies', u'of', u'the', u'year', u'and', u'by', u'far', u'the', u'most', u'entertaining'], tags=['row_191']),\n",
       " TaggedDocument(words=[u'in', u'the', u'category', u'of', u'amiable', u'diversions', u\"it's\", u'awfully', u'tough', u'to', u'improve', u'on'], tags=['row_192']),\n",
       " TaggedDocument(words=[u'irresistibly', u'charming'], tags=['row_193']),\n",
       " TaggedDocument(words=[u'minor', u'but', u'amusingly', u'droll'], tags=['row_194']),\n",
       " TaggedDocument(words=[u'one', u'of', u'the', u'pleasures', u'of', u'get', u'shorty', u'is', u'watching', u'the', u'way', u'the', u'plot', u'moves', u'effortlessly', u'from', u'crime', u'to', u'the', u'movies', u'not', u'a', u'long', u'distance', u'since', u'both', u'industries', u'are', u'based', u'on', u'fear', u'greed', u'creativity', u'and', u'intimidation'], tags=['row_195']),\n",
       " TaggedDocument(words=[u'this', u'comic', u'potboiler', u'about', u'gangsters', u'in', u'hollywood', u'would', u'be', u'a', u'great', u'piece', u'of', u'fun', u'even', u'without', u'travolta', u'but', u'as', u'a', u'loan', u'shark', u'from', u'miami', u'with', u'a', u'charming', u'bedside', u'manner', u'and', u'bigtime', u'movie', u'dreams', u'he', u'raises', u'the', u'fun', u'quotient', u'into', u'the', u'sublime'], tags=['row_196']),\n",
       " TaggedDocument(words=[u'while', u\"it's\", u'quite', u'possible', u'for', u'the', u'cinematically', u'unaware', u'to', u'enjoy', u'this', u'film', u'this', u'is', u'a', u'real', u'treat', u'for', u'movie', u'buffs', u'the', u'story', u'is', u'as', u'much', u'about', u'the', u'love', u'of', u'motion', u'pictures', u'as', u'it', u'is', u'about', u'gangsters'], tags=['row_197']),\n",
       " TaggedDocument(words=[u'copycat', u'despite', u'two', u'toughbabe', u'leads', u'to', u'kill', u'for', u'flies', u'in', u'more', u'directions', u'than', u'scattered', u'kitty', u'litter'], tags=['row_198']),\n",
       " TaggedDocument(words=[u'a', u'garish', u'and', u'poorly', u'filmed', u'chopsocky', u'frolic', u'that', u'makes', u'about', u'as', u'much', u'sense', u'as', u'an', u'escher', u'painting', u'viewed', u'through', u'vaselinesmudged', u'raybans'], tags=['row_199']),\n",
       " TaggedDocument(words=[u'perhaps', u'such', u'phenomenal', u'slaughter', u'is', u'best', u'left', u'to', u'the', u'imagination'], tags=['row_200']),\n",
       " TaggedDocument(words=[u'the', u'problem', u'is', u'that', u'the', u'fight', u'sequences', u'the', u'only', u'reason', u'anyone', u'sees', u'a', u'movie', u'like', u'this', u'in', u'the', u'first', u'place', u'are', u'muddy', u'chaotic', u'and', u'boring', u'even', u'diehard', u'fans', u'of', u'this', u'genre', u'would', u'be', u'well', u'advised', u'to', u'skip', u'this', u'one'], tags=['row_201']),\n",
       " TaggedDocument(words=[u'this', u'saga', u'set', u'in', u'berlin', u'is', u'more', u'committed', u'to', u'its', u'bloodletting', u'than', u'to', u'any', u'of', u'its', u'characters'], tags=['row_202']),\n",
       " TaggedDocument(words=[u'a', u'movie', u'that', u'provides', u'plenty', u'of', u'jolts', u'but', u'precious', u'little', u'pleasure'], tags=['row_203']),\n",
       " TaggedDocument(words=[u'this', u'movie', u'knows', u'exactly', u'what', u'it', u'is', u'gonzo', u'silliness', u'about', u'bodies', u'turned', u'into', u'human', u'salsa'], tags=['row_204']),\n",
       " TaggedDocument(words=[u\"shouldn't\", u'throwing', u'stars', u'be', u'silent', u'if', u\"they're\", u'gonna', u'sound', u'like', u'gunshots', u'why', u'not', u'just', u'use', u'guns'], tags=['row_205']),\n",
       " TaggedDocument(words=[u\"it's\", u'a', u'gorefest', u'a', u'borefest', u'and', u'a', u'snorefest'], tags=['row_206']),\n",
       " TaggedDocument(words=[u'thanks', u'to', u'the', u\"movie's\", u'dire', u'script', u'flat', u'performances', u'and', u'excessively', u'slick', u'trickedout', u'fight', u'scenes', u'it', u'gets', u'increasingly', u'hard', u'to', u'care', u'about', u'anything', u'that', u'goes', u'on', u'here', u'even', u'when', u'it', u'happens', u'to', u'be', u'visible', u'without', u'the', u'use', u'of', u'nightvision', u'goggles'], tags=['row_207']),\n",
       " TaggedDocument(words=[u'this', u'one', u'is', u'simply', u'a', u'diverting', u'uncommonly', u'violent', u'action', u'flick', u'no', u'need', u'for', u'an', u'extended', u'critical', u'postmortem', u'except', u'to', u'say', u'the', u'wachowski', u\"brothers'\", u'trademark', u'seems', u'to', u'have', u'turned', u'into', u'a', u'designer', u'brand', u'dedicated', u'to', u'producing', u'inexpensive', u'knockoffs'], tags=['row_208']),\n",
       " TaggedDocument(words=[u'rain', u'is', u'a', u'very', u'talented', u'slaughterer', u'he', u'could', u'kill', u'you', u'with', u'a', u'pair', u'of', u'tweezers', u'a', u'hair', u'dryer', u'two', u'bananas', u'whatever', u'be', u'glad', u\"he's\", u'a', u'good', u'ninja'], tags=['row_209']),\n",
       " TaggedDocument(words=[u'when', u'a', u\"movie's\", u'first', u'scene', u'shows', u'one', u'thug', u'getting', u'the', u'top', u'of', u'his', u'head', u'sliced', u'off', u'and', u'another', u'being', u'chopped', u'diagonally', u'in', u'half', u'you', u'know', u\"you're\", u'not', u'in', u'for', u'much', u'of', u'a', u'dramatic', u'crescendo'], tags=['row_210']),\n",
       " TaggedDocument(words=[u\"what's\", u'a', u'recovering', u'ninja', u'assassin', u'to', u'do', u'why', u'paint', u'the', u'screen', u'bright', u'red', u'of', u'course', u'splatter', u'it', u'on', u\"we're\", u'talking', u'streaks', u'and', u'rivers', u'of', u'blood', u'bloody', u'swords', u'bloody', u'clothes', u'and', u'my', u'personal', u'favorite', u'bloody', u'stumps'], tags=['row_211']),\n",
       " TaggedDocument(words=[u'ninja', u'assassin', u'lives', u'in', u'the', u'moment', u'a', u'visceral', u'gouge', u'of', u'a', u'picture', u'and', u'sections', u'of', u'it', u'move', u'so', u'fast', u'and', u'are', u'so', u'intriguingly', u'dimly', u'lit', u'that', u'you', u'have', u'to', u'use', u'your', u'imagination', u'a', u'bit', u'to', u'discern', u\"what's\", u'happening'], tags=['row_212']),\n",
       " TaggedDocument(words=[u'heads', u'may', u'roll', u'torsos', u'get', u'severed', u'and', u'geysers', u'of', u'blood', u'spurt', u'but', u'no', u'amount', u'of', u\"cgi'd\", u'gore', u'can', u'save', u\"'assassin'\", u'from', u'being', u'dramatically', u'lame', u'visually', u'impaired', u'and', u'kinetically', u'flatfooted'], tags=['row_213']),\n",
       " TaggedDocument(words=[u'the', u'credits', u'for', u'ninja', u'assassin', u'list', u'two', u'screenwriters', u'and', u'one', u'director', u'but', u\"it's\", u'fair', u'to', u'say', u'the', u'movie', u'has', u'come', u'straight', u'out', u'of', u'a', u'box'], tags=['row_214']),\n",
       " TaggedDocument(words=[u'this', u'amateurish', u'action', u'flick', u'is', u'so', u'lacking', u'in', u'personality', u'or', u'punch', u'it', u'ought', u'to', u'be', u'titled', u'v', u'for', u'video', u'store', u'discount', u'bin'], tags=['row_215']),\n",
       " TaggedDocument(words=[u\"let's\", u'be', u'honest', u'killing', u'is', u'this', u\"film's\", u'business', u'and', u'business', u'is', u'good'], tags=['row_216']),\n",
       " TaggedDocument(words=[u'mcteigue', u'can', u'barely', u'shoot', u'straight', u'and', u'the', u'editing', u'is', u'so', u'hacky', u'you', u'have', u'to', u'take', u'the', u'stunts', u'and', u'fight', u'choreography', u'on', u'faith'], tags=['row_217']),\n",
       " TaggedDocument(words=[u'performed', u'to', u'the', u'hilt', u'by', u'flanery', u'and', u'filmed', u'with', u'conviction', u'by', u'victor', u'salva', u'the', u'movie', u'is', u'finally', u'too', u'solemn', u'to', u'survive', u'its', u'pushy', u'musical', u'strings'], tags=['row_218']),\n",
       " TaggedDocument(words=[u\"we're\", u'not', u'talking', u'high', u'morally', u'instructive', u'tragedy', u'here', u'just', u'a', u'hard', u'lesson', u'in', u'postmodernist', u'outlawry', u'and', u'its', u'sad', u'little', u'anarchies'], tags=['row_219']),\n",
       " TaggedDocument(words=[u'the', u'film', u'pulls', u'no', u'punches', u'takes', u'no', u'prisoners', u'and', u'flies', u'in', u'the', u'face', u'of', u'feelgood', u'pictures'], tags=['row_220']),\n",
       " TaggedDocument(words=[u'the', u'plot', u'goes', u'nowhere', u'but', u'under', u'the', u'pornographic', u'circumstances', u'figgis', u'cage', u'and', u'shue', u'all', u'do', u'fine', u'jobs'], tags=['row_221']),\n",
       " TaggedDocument(words=[u'it', u'certainly', u'has', u'the', u'courage', u'of', u'its', u'convictions'], tags=['row_222']),\n",
       " TaggedDocument(words=[u'small', u'searing', u'film'], tags=['row_223']),\n",
       " TaggedDocument(words=[u'a', u'uniquely', u'hypnotic', u'and', u'haunting', u'love', u'story', u'sparked', u'by', u'nicolas', u'cage', u'and', u'elisabeth', u'shue', u'at', u'their', u'career', u'best'], tags=['row_224']),\n",
       " TaggedDocument(words=[u'a', u'film', u'laden', u'with', u'virtues', u'but', u'difficult', u'to', u'embrace'], tags=['row_225']),\n",
       " TaggedDocument(words=[u'nicolas', u'cage', u'who', u'has', u'a', u'track', u'record', u'of', u'immersing', u'himself', u'in', u'parts', u'gives', u'one', u'of', u'the', u\"year's\", u'most', u'powerful', u'acting', u'turns'], tags=['row_226']),\n",
       " TaggedDocument(words=[u'cage', u'a', u'resourceful', u'and', u'daring', u'actor', u'has', u'never', u'been', u'better'], tags=['row_227']),\n",
       " TaggedDocument(words=[u'tough', u'to', u'watch', u'but', u'haunting', u'enough', u'to', u'deserve', u'its', u'initial', u'praise'], tags=['row_228']),\n",
       " TaggedDocument(words=[u'a', u'highly', u'engaging', u'attempt', u'at', u\"shakespeare's\", u'most', u'domestic', u'tragedy'], tags=['row_229']),\n",
       " TaggedDocument(words=[u'mr', u\"branagh's\", u'superb', u'performanceguarantees', u'this', u'film', u'an', u'immediacy', u'that', u'any', u'audience', u'will', u'understand'], tags=['row_230']),\n",
       " TaggedDocument(words=[u'davies', u'has', u'done', u'an', u'admirable', u'job', u'of', u'condensing', u'the', u'sprawling', u'action'], tags=['row_231']),\n",
       " TaggedDocument(words=[u'parker', u'has', u'shown', u'how', u'involving', u'and', u'moving', u'shakespeare', u'can', u'still', u'be', u'on', u'the', u'screen'], tags=['row_232']),\n",
       " TaggedDocument(words=[u'parker', u'whose', u'screenplay', u'strips', u'down', u'the', u'original', u'play', u'merely', u'produces', u'a', u'lackluster', u'essence'], tags=['row_233']),\n",
       " TaggedDocument(words=[u'for', u'sheer', u'impact', u'this', u'othello', u'can', u'stand', u'sidebyside', u'with', u'the', u'versions', u'brought', u'to', u'the', u'screen', u'by', u'orson', u'welles', u'as', u'restored', u'in', u'1992', u'and', u'lawrence', u'olivier'], tags=['row_234']),\n",
       " TaggedDocument(words=[u'the', u'movie', u'is', u'roughly', u'on', u'the', u'same', u'cinematic', u'level', u'as', u'the', u'mel', u'gibson', u'hamlet', u'though', u'it', u'tends', u'to', u'get', u'under', u'your', u'skin', u'a', u'little', u'more', u'once', u'it', u'gets', u'rolling'], tags=['row_235']),\n",
       " TaggedDocument(words=[u'will', u'not', u'give', u'its', u'viewers', u'much', u'of', u'an', u'idea', u'of', u'the', u'shakespeare', u'play', u'and', u'may', u'inadvertently', u'give', u'them', u'other', u'ideas', u'about', u'interracial', u'love', u'that', u'were', u'not', u'much', u'on', u\"shakespeare's\", u'mind'], tags=['row_236']),\n",
       " TaggedDocument(words=[u'passion', u'like', u'outpourings', u'of', u'iambic', u'pentameter', u\"isn't\", u'part', u'of', u'this', u\"picture's\", u'equation'], tags=['row_237']),\n",
       " TaggedDocument(words=[u'the', u'real', u'question', u'is', u'could', u'director', u'oliver', u'parker', u'have', u'done', u'worse'], tags=['row_238']),\n",
       " TaggedDocument(words=[u'now', u'and', u'then', u'is', u'successful', u'but', u'only', u'now', u'and', u'then'], tags=['row_239']),\n",
       " TaggedDocument(words=[u'the', u'film', u'offers', u'the', u'same', u'pleasures', u'as', u'an', u'austen', u'novel', u'as', u'the', u'audience', u'sinks', u'into', u'a', u'comforting', u'orderly', u'world', u'where', u'lifeshattering', u'disruptions', u'are', u'handled', u'with', u'elegant', u'ease'], tags=['row_240']),\n",
       " TaggedDocument(words=[u'austen', u'fans', u'prepare', u'to', u'be', u'swept', u'away'], tags=['row_241']),\n",
       " TaggedDocument(words=[u\"michell's\", u'approach', u'to', u'persuasion', u'indicates', u'that', u'he', u'is', u'the', u'rarest', u'of', u'literary', u'translators', u'one', u'who', u'is', u'genuinely', u'interested', u'in', u'a', u\"work's\", u'themes', u'its', u'characters', u'and', u'what', u'the', u'author', u'has', u'to', u'say', u'about', u'the', u'world', u'in', u'which', u'they', u'exist'], tags=['row_242']),\n",
       " TaggedDocument(words=[u\"there's\", u'a', u'wonderful', u'unhurried', u'delicacy', u'about', u'persuasion', u'roger', u\"mitchell's\", u'adaptation', u'of', u'jane', u\"austen's\", u'final', u'novel'], tags=['row_243']),\n",
       " TaggedDocument(words=[u'persuasion', u'is', u'jane', u'without', u'pain', u'ez', u'austen', u\"it's\", u'a', u'delight'], tags=['row_244']),\n",
       " TaggedDocument(words=[u'much', u'of', u'the', u\"movie's\", u'emotional', u'work', u'has', u'to', u'be', u'done', u'byfaces', u'and', u'eyes', u'while', u'other', u'people', u'speak', u'of', u'other', u'things', u'and', u'to', u'see', u'that', u'happening', u'is', u'frustrating', u'because', u'it', u'happens', u'so', u'slowly', u'and', u'romantic', u'because', u'it', u'happens', u'at', u'all'], tags=['row_245']),\n",
       " TaggedDocument(words=[u'vanessa', u'redgrave', u'has', u'never', u'been', u'more', u'likable', u'on', u'screen', u'than', u'in', u'her', u'buoyantly', u'athletic', u'turn', u'here'], tags=['row_246']),\n",
       " TaggedDocument(words=[u'set', u'in', u'a', u'wondrously', u'seedy', u'waterfront', u'world', u'populated', u'with', u'runaway', u'children', u'and', u'grotesque', u'sinister', u'adults', u'it', u'glistens', u'with', u'dense', u'fantasies', u'technological', u'feats', u'that', u'make', u'the', u'catchphrase', u'state', u'of', u'the', u'art', u'seem', u'antique'], tags=['row_247']),\n",
       " TaggedDocument(words=[u'the', u'emotions', u'seem', u'almost', u'as', u'manufactured', u'as', u'the', u'sets'], tags=['row_248']),\n",
       " TaggedDocument(words=[u'with', u'each', u'frame', u'filled', u'to', u'bursting', u'point', u'with', u'visual', u'detail', u'and', u'multiplaned', u'design', u'plus', u'razorsharp', u'cutting', u'that', u'often', u'eliminates', u'transitions', u\"it's\", u'not', u'a', u'movie', u'you', u'can', u'afford', u'to', u'take', u'your', u'eyes', u'off', u'for', u'a', u'second'], tags=['row_249']),\n",
       " TaggedDocument(words=[u'extraordinary'], tags=['row_250']),\n",
       " TaggedDocument(words=[u'watching', u'the', u'film', u'is', u'like', u'leafing', u'through', u'a', u'giant', u'sketchbook', u'crammed', u'with', u'intriguing', u'ideas', u'that', u\"can't\", u'all', u'be', u'comfortably', u'fitted', u'into', u'the', u'same', u'master', u'plan'], tags=['row_251']),\n",
       " TaggedDocument(words=[u'the', u'city', u'of', u'lost', u'children', u'is', u'a', u'stunningly', u'surreal', u'fantasy', u'a', u'fable', u'of', u'longing', u'and', u'danger', u'of', u'heroic', u'deeds', u'and', u'bravery', u'set', u'in', u'a', u'brilliantly', u'realized', u'world', u'of', u'its', u'own', u'it', u'is', u'one', u'of', u'the', u'most', u'audacious', u'original', u'films', u'of', u'the', u'year'], tags=['row_252']),\n",
       " TaggedDocument(words=[u'the', u'city', u'of', u'lost', u'children', u'is', u'a', u'series', u'of', u'associated', u'visual', u'stimuli', u'so', u'imaginative', u'and', u'omnivorous', u'that', u'their', u'spectacle', u'has', u'the', u'effect', u'of', u'wearing', u'us', u'out', u'nevertheless', u'if', u'you', u'think', u'of', u'yourself', u'as', u'warped', u'you', u'really', u'must', u'see', u'this'], tags=['row_253']),\n",
       " TaggedDocument(words=[u'the', u'city', u'of', u'lost', u'children', u'is', u'as', u'visually', u'striking', u'and', u'daringly', u'offbeat', u'as', u'its', u'predecessor'], tags=['row_254']),\n",
       " TaggedDocument(words=[u'children', u\"hasn't\", u'enough', u'of', u'a', u'human', u'dimension', u'to', u'be', u\"'fun'\", u'itself', u'but', u\"it's\", u'still', u'warped', u'enough', u'to', u'amuse', u'anyone', u'with', u'a', u'tilted', u'frame', u'of', u'mind'], tags=['row_255']),\n",
       " TaggedDocument(words=[u'the', u'french', u'fantasy', u'adventure', u'the', u'city', u'of', u'lost', u'children', u'is', u'a', u'dark', u'phantasmagoria', u'so', u'visually', u'amazing', u'and', u'provocative', u'yet', u'dense', u'and', u'confusing', u'that', u'viewers', u'may', u'need', u'to', u'see', u'it', u'more', u'than', u'once', u'to', u'take', u'it', u'all', u'in'], tags=['row_256']),\n",
       " TaggedDocument(words=[u'many', u'people', u'will', u'probably', u'not', u'find', u'themselves', u'sympathetic', u'to', u'this', u\"movie's\", u'overachieving', u'technological', u'pretensions', u'while', u'others', u'will', u'find', u'it', u'the', u'best', u'film', u'in', u'months', u'or', u'years'], tags=['row_257']),\n",
       " TaggedDocument(words=[u'shanghai', u'triad', u'concludes', u'the', u'sublime', u'sevenmovie', u'collaboration', u'of', u'chinese', u'filmmaker', u'zhang', u'yimou', u'and', u'actress', u'gong', u'li', u'with', u'a', u'bang', u'worthy', u'of', u'the', u'most', u'jubilant', u'new', u\"year's\", u'eve'], tags=['row_258']),\n",
       " TaggedDocument(words=[u'pfeiffer', u'gives', u'a', u'funny', u'scrappy', u'performance', u'that', u'makes', u'you', u'feel', u'a', u'committed', u\"teacher's\", u'fire', u'to', u'make', u'a', u'difference'], tags=['row_259']),\n",
       " TaggedDocument(words=[u'the', u'tale', u'screenwriter', u'ronald', u'bass', u'came', u'up', u'with', u'and', u'the', u'way', u'director', u'john', u'n', u'smith', u'tells', u'it', u'is', u'stereotypical', u'predictable', u'and', u'simplified', u'to', u'the', u'point', u'of', u'meaninglessness'], tags=['row_260']),\n",
       " TaggedDocument(words=[u'if', u'only', u'the', u'filmmakers', u'had', u'used', u'some', u'subtlety', u'in', u'telling', u'the', u'story', u'they', u'could', u'have', u'done', u'right', u'by', u'the', u'real', u'louanne', u'johnson'], tags=['row_261']),\n",
       " TaggedDocument(words=[u'what', u'makes', u'it', u'work', u'is', u'the', u'integrity', u'of', u\"pfeiffer's\", u'performance', u'and', u\"smith's\", u'direction', u'and', u'the', u'high', u'spirits', u'of', u'the', u'young', u'racially', u'diverse', u'supporting', u'cast'], tags=['row_262']),\n",
       " TaggedDocument(words=[u'the', u'movie', u'pretends', u'to', u'show', u'poor', u'black', u'kids', u'being', u'bribed', u'into', u'literacy', u'by', u'dylan', u'and', u'candy', u'bars', u'but', u'actually', u'it', u'is', u'the', u'crossover', u'white', u'audience', u'that', u'is', u'being', u'bribed', u'with', u'mindcandy', u'in', u'the', u'form', u'of', u'safe', u'words', u'by', u'the', u'two', u'dylans'], tags=['row_263']),\n",
       " TaggedDocument(words=[u'a', u'nofrills', u'singleminded', u'drama', u'driven', u'by', u\"pfeiffer's\", u'totally', u'committed', u'performance'], tags=['row_264']),\n",
       " TaggedDocument(words=[u'the', u'movie', u'has', u'real', u'emotional', u'and', u'reportorial', u'credibility', u'a', u'prime', u'source', u'of', u'its', u'power'], tags=['row_265']),\n",
       " TaggedDocument(words=[u'pfeiffer', u'has', u'a', u'lot', u'of', u'good', u'moments', u'as', u'johnson'], tags=['row_266']),\n",
       " TaggedDocument(words=[u'stay', u'home', u'and', u'watch', u'welcome', u'back', u'kotter', u\"it's\", u'more', u'enlightening'], tags=['row_267']),\n",
       " TaggedDocument(words=[u'pfieffer', u'is', u'absurdly', u'miscast', u'sly', u'stallone', u'would', u'make', u'a', u'more', u'plausible', u'mr', u'chips', u'than', u'the', u'frail', u'squeaky', u'actress', u'does', u'a', u'nineyear', u'veteran', u'of', u'the', u'marine', u'corps'], tags=['row_268']),\n",
       " TaggedDocument(words=[u'this', u'40minute', u'epic', u'about', u'mountain', u'survival', u'in', u'the', u'wake', u'of', u'a', u'plane', u'crash', u'is', u'like', u'sitting', u'through', u'alive', u'again', u'though', u'in', u'this', u'case', u'there', u\"isn't\", u'anything', u'for', u'the', u'hero', u'to', u'eat'], tags=['row_269']),\n",
       " TaggedDocument(words=[u'babe', u'is', u'not', u'strictly', u'speaking', u'a', u\"kid's\", u'movie', u'it', u'is', u'a', u'preposterously', u'funny', u'fable', u'that', u'strikes', u'a', u'chord', u'with', u'adults', u'too'], tags=['row_270']),\n",
       " TaggedDocument(words=[u'for', u'children', u'the', u'movie', u'will', u'play', u'like', u'a', u'storybook', u'come', u'to', u'life', u'adults', u'at', u'first', u'will', u'marvel', u'at', u'the', u'special', u'effects', u'and', u'puppetry', u'but', u'ultimately', u\"they'll\", u'be', u'won', u'over', u'by', u'the', u'nuances', u'of', u'a', u'story', u'that', u'finds', u'a', u'fresh', u'way', u'to', u'deliver', u'a', u'timeless', u'message'], tags=['row_271']),\n",
       " TaggedDocument(words=[u'a', u'film', u'that', u'is', u'exceptional', u'in', u'its', u'technical', u'effects', u'and', u'its', u'graceful', u'ability', u'to', u'entertain'], tags=['row_272']),\n",
       " TaggedDocument(words=[u\"it's\", u'a', u'comedy', u'of', u'animal', u'manners', u'that', u'is', u'much', u'funnier', u'and', u'much', u'cannier', u'than', u'any', u'recent', u'movie', u'about', u'human', u'relationships', u'a', u'lovely', u'stubbornly', u'idiosyncratic', u'fable', u'of', u'aspiration', u'and', u'survival'], tags=['row_273']),\n",
       " TaggedDocument(words=[u'it', u'has', u'a', u'surprising', u'charm'], tags=['row_274']),\n",
       " TaggedDocument(words=[u'australian', u'director', u'chris', u'noonan', u'and', u'producer', u'george', u'miller', u'show', u'what', u'real', u'talent', u'and', u'imagination', u'can', u'do', u'even', u'without', u'bigname', u'humans', u'as', u'costars'], tags=['row_275']),\n",
       " TaggedDocument(words=[u'the', u'characters', u'both', u'animal', u'and', u'human', u'are', u'solidly', u'conceived', u'and', u'the', u'storytelling', u'and', u'visuals', u'are', u'expertly', u'fashioned'], tags=['row_276']),\n",
       " TaggedDocument(words=[u'a', u'dazzling', u'family', u'entertainment', u'with', u'enormous', u'charm', u'that', u'utilizes', u'breathtaking', u'technical', u'innovation'], tags=['row_277']),\n",
       " TaggedDocument(words=[u'charming', u'eccentric', u'and', u'very', u'amusing'], tags=['row_278']),\n",
       " TaggedDocument(words=[u'a', u'lovely', u'intelligent', u'gem', u'of', u'grated', u'entertainment', u'that', u'is', u'also', u'ribtickling', u'funny'], tags=['row_279']),\n",
       " TaggedDocument(words=[u'if', u'only', u'people', u'would', u'be', u'more', u'like', u'these', u'animals', u'the', u'world', u'though', u'hardly', u'saner', u'would', u'certainly', u'be', u'a', u'lot', u'more', u'fun'], tags=['row_280']),\n",
       " TaggedDocument(words=[u'the', u'underlying', u'tricks', u'are', u'never', u'allowed', u'to', u'upstage', u'the', u'story', u'in', u'all', u'its', u'humble', u'sweetness'], tags=['row_281']),\n",
       " TaggedDocument(words=[u'a', u'silk', u'purse', u'among', u\"children's\", u'entertainment'], tags=['row_282']),\n",
       " TaggedDocument(words=[u'the', u'movie', u'directed', u'by', u'chris', u'noonan', u'who', u'wrote', u'the', u'screenplay', u'with', u'george', u'miller', u'takes', u'a', u\"child'seye\", u'view', u'of', u'a', u'world', u'that', u'is', u'photographed', u'to', u'look', u'like', u'a', u'storybook', u'come', u'to', u'life'], tags=['row_283']),\n",
       " TaggedDocument(words=[u'a', u'hilarious', u'fantasy', u'about', u'a', u'plucky', u'piglet', u'that', u'learns', u'how', u'to', u'tend', u'sheep', u'babe', u'is', u'a', u'barnyard', u'charmer'], tags=['row_284']),\n",
       " TaggedDocument(words=[u'babe', u'is', u'a', u'movie', u'made', u'with', u'charm', u'and', u'wit', u'and', u'unlike', u'some', u'family', u'movies', u'it', u'does', u'not', u'condescend', u'not', u'for', u'a', u'second'], tags=['row_285']),\n",
       " TaggedDocument(words=[u'through', u'a', u'mixture', u'of', u'imaginative', u'storytelling', u'impressive', u'animatronics', u'and', u'irresistible', u'cuteness', u'babe', u'casts', u'a', u'spell', u'over', u'all', u'viewers', u'young', u'old', u'or', u'somewhere', u'in', u'between'], tags=['row_286']),\n",
       " TaggedDocument(words=[u'the', u'leads', u'do', u'physically', u'resemble', u'their', u'reallife', u'prototypes', u'judging', u'from', u'last', u\"year's\", u'coffeetable', u'book', u'on', u\"carrington's\", u'art', u'and', u'personal', u'circle', u'but', u'the', u\"snail's\", u'pacing', u'vague', u'writing', u'and', u'thompson', u'herself', u'leave', u'a', u'fatal', u'void'], tags=['row_287']),\n",
       " TaggedDocument(words=[u'tim', u\"robbins's\", u'balanced', u'yet', u'uncompromising', u'approach', u'refuses', u'to', u'judge', u'any', u'of', u'the', u'characters', u'including', u'the', u'killer', u'superlatively', u'played', u'by', u'sean', u'penn', u'instead', u'giving', u'each', u'a', u'fair', u'chance', u'to', u'present', u'their', u'case', u'with', u'dignity', u'and', u'respect'], tags=['row_288']),\n",
       " TaggedDocument(words=[u'an', u'intelligent', u'balanced', u'devastating', u'movie'], tags=['row_289']),\n",
       " TaggedDocument(words=[u'takes', u'us', u'along', u'on', u'the', u'reluctant', u'difficult', u'essentially', u'spiritual', u'journey', u'these', u'two', u'unlikely', u'people', u'make', u'together'], tags=['row_290']),\n",
       " TaggedDocument(words=[u'dead', u'man', u'walking', u'could', u'easily', u'be', u'manipulative', u'or', u'exploitative', u'but', u\"it's\", u'neither', u'instead', u'this', u'is', u'hardhitting', u'drama', u'that', u'neither', u'accepts', u'nor', u'offers', u'quarter'], tags=['row_291']),\n",
       " TaggedDocument(words=[u'a', u'thoughtprovoking', u'drama', u'not', u'to', u'be', u'missed', u'or', u'dismissed'], tags=['row_292']),\n",
       " TaggedDocument(words=[u'robbins', u'who', u'also', u'wrote', u'the', u'script', u'is', u'no', u'truman', u'capote', u'let', u'alone', u'a', u'victor', u'hugo', u'and', u'his', u'film', u'trips', u'up', u'constantly', u'on', u'indecisiveness', u'about', u'what', u'it', u'is', u\"he's\", u'trying', u'to', u'say'], tags=['row_293']),\n",
       " TaggedDocument(words=[u'it', u'will', u'send', u'you', u'home', u'with', u'more', u'than', u'a', u'few', u'long', u'thoughts'], tags=['row_294']),\n",
       " TaggedDocument(words=[u'is', u'the', u'finest', u'least', u'compromised', u'film', u'about', u'capital', u'punishment', u'ever', u'advancing', u'a', u'gently', u'stated', u\"'anti'\", u'view', u'but', u'going', u'the', u'extra', u'100', u'miles', u'to', u'give', u'victims', u'their', u'due'], tags=['row_295']),\n",
       " TaggedDocument(words=[u'absorbing', u'surprising', u'technically', u'superb', u'and', u'worth', u'talking', u'about', u'for', u'a', u'long', u'time', u'afterward'], tags=['row_296']),\n",
       " TaggedDocument(words=[u'robbins', u'and', u'susan', u'sarandon', u'have', u'crafted', u'a', u'film', u'that', u'transcends', u'its', u'own', u'political', u'message', u'by', u'a', u'scrupulous', u'attention', u'to', u'detail'], tags=['row_297']),\n",
       " TaggedDocument(words=[u\"don't\", u'go', u'unadvised', u'and', u\"don't\", u'plan', u'anything', u'too', u'frivolous', u'for', u'right', u'afterwards', u'but', u'do', u'go'], tags=['row_298']),\n",
       " TaggedDocument(words=[u'a', u'daring', u'stand', u'and', u'a', u'daring', u'uncompromised', u'film'], tags=['row_299']),\n",
       " TaggedDocument(words=[u'its', u'objectivity', u'is', u'what', u'makes', u'it', u'so', u'controversial', u'and', u'fascinating'], tags=['row_300']),\n",
       " TaggedDocument(words=[u'acting', u'rarely', u'gets', u'better', u'than', u'this'], tags=['row_301']),\n",
       " TaggedDocument(words=[u'penn', u'gives', u'an', u'astonishing', u'performance', u'and', u'delivers', u'exactly', u'what', u'dead', u'man', u'walking', u'needs'], tags=['row_302']),\n",
       " TaggedDocument(words=[u'the', u'picture', u'is', u'cloudy', u'in', u'intent'], tags=['row_303']),\n",
       " TaggedDocument(words=[u'sarandon', u'who', u'won', u'the', u'oscar', u'for', u'best', u'actress', u'for', u'this', u'role', u'is', u'superb', u'but', u'penn', u'is', u'extraordinary'], tags=['row_304']),\n",
       " TaggedDocument(words=[u'its', u'final', u'moments', u'leave', u'us', u'awash', u'in', u'emotion'], tags=['row_305']),\n",
       " TaggedDocument(words=[u'employing', u'3d', u'and', u'pse', u'sound', u'then', u'projected', u'on', u'a', u'screen', u'that', u'suggests', u'a', u'small', u'skyscraper', u'the', u'new', u'show', u'at', u'west', u'side', u\"manhattan's\", u'sony', u'imax', u'theater', u'is', u'visually', u'speaking', u'nothing', u'but', u'a', u'clear', u'day', u'but', u'it', u'definitely', u'put', u'me', u'in', u'scatmode'], tags=['row_306']),\n",
       " TaggedDocument(words=[u'the', u\"film's\", u'underlying', u'sentiment', u'is', u'conveyed', u'effectively', u'if', u'obviously'], tags=['row_307']),\n",
       " TaggedDocument(words=[u'alas', u'the', u'olsen', u'girls', u'are', u'not', u'immediately', u'heartwarming'], tags=['row_308']),\n",
       " TaggedDocument(words=[u'under', u'the', u'direction', u'of', u'andy', u'tennant', u'the', u'olsen', u'sisters', u'lay', u'on', u'the', u'ickypoo', u'cuteness', u'with', u'several', u'trowels', u'often', u'delivering', u'their', u'lines', u'as', u'though', u'they', u'were', u'reciting', u'the', u'alphabet'], tags=['row_309']),\n",
       " TaggedDocument(words=[u'a', u'harmless', u'caper', u'that', u'ought', u'to', u'thrill', u'girls', u'under', u'12', u'and', u'offer', u'modest', u'diversion', u'to', u'their', u'parents'], tags=['row_310']),\n",
       " TaggedDocument(words=[u'writer', u'deborah', u'dean', u'davis', u'and', u'director', u'andy', u'tennant', u'are', u'fully', u'aware', u'of', u'the', u'absolute', u'predictability', u'of', u'their', u'material', u'and', u'therefore', u'make', u'the', u'getting', u'to', u'an', u'inevitable', u'ending', u'as', u'much', u'fun', u'as', u'possible'], tags=['row_311']),\n",
       " TaggedDocument(words=[u'a', u'rote', u'variation', u'on', u'mark', u\"twain's\", u'the', u'prince', u'and', u'the', u'pauper', u'that', u'is', u'marginally', u'salvaged', u'by', u'those', u'spunky', u'olsen', u'twins', u'from', u\"abc's\", u'full', u'house'], tags=['row_312']),\n",
       " TaggedDocument(words=[u\"it's\", u'so', u'featherbrained', u'and', u'lightweight', u'it', u'almost', u'elevates', u'its', u'inconsequence', u'into', u'a', u'style'], tags=['row_313']),\n",
       " TaggedDocument(words=[u'with', u'their', u'perilously', u'wide', u'walter', u'keane', u'eyes', u'the', u'olsen', u'twins', u'are', u'cute', u'enough', u'but', u'compared', u'with', u'other', u'child', u'performers', u'their', u'charms', u'seem', u'forced'], tags=['row_314']),\n",
       " TaggedDocument(words=[u'especially', u'heartrending', u'thanks', u'to', u'superb', u'performances', u'by', u'james', u'earl', u'jones', u'and', u'richard', u'harris'], tags=['row_315']),\n",
       " TaggedDocument(words=[u'a', u'surefire', u'crowdpleaser', u'among', u'recent', u'shakespeare', u'movies'], tags=['row_316']),\n",
       " TaggedDocument(words=[u'in', u'a', u'shamelessly', u'entertaining', u'display', u'of', u'acting', u'brilliance', u'mckellen', u\"'plays'\", u'the', u\"demon's\", u'good', u'arm', u'as', u'if', u'it', u'were', u'a', u'stradivarius', u'executing', u'one', u'showy', u'stunt', u'after', u'another'], tags=['row_317']),\n",
       " TaggedDocument(words=[u'this', u'triumphant', u'take', u'on', u'the', u'crookback', u'king', u'is', u'as', u'different', u'from', u\"olivier's\", u\"'50s\", u'historical', u'pageant', u'as', u'chalk', u'is', u'from', u'malmsey'], tags=['row_318']),\n",
       " TaggedDocument(words=[u'it', u'is', u'all', u'in', u'the', u'grand', u'manner', u'of', u'shakespearean', u'tragedies'], tags=['row_319']),\n",
       " TaggedDocument(words=[u'this', u'is', u'shakespeare', u'exciting', u'enough', u'for', u'even', u'the', u'most', u'dubious', u'which', u'after', u'all', u'is', u'no', u'less', u'than', u'the', u'man', u'deserves'], tags=['row_320']),\n",
       " TaggedDocument(words=[u'the', u'updating', u'is', u'the', u'kind', u'of', u'fanciful', u'exercise', u'far', u'better', u'suited', u'to', u'the', u'stage', u'than', u'to', u'the', u'literal', u'confines', u'of', u'the', u'screen'], tags=['row_321']),\n",
       " TaggedDocument(words=[u'combines', u'a', u'shrewd', u'understanding', u'of', u'shakespeare', u'with', u'a', u'healthy', u'lowbrow', u'approach', u'to', u'cinema'], tags=['row_322']),\n",
       " TaggedDocument(words=[u\"mckellen's\", u'enormous', u'performance', u'as', u'richard', u'represents', u'the', u\"film's\", u'biggest', u'tinkering', u'with', u'theatrical', u'canon'], tags=['row_323']),\n",
       " TaggedDocument(words=[u'the', u'actors', u'are', u'uniformly', u'good', u'including', u\"broadbent's\", u'unctuous', u'buckingham', u'and', u\"hawthorne's\", u'sweet', u'unsuspecting', u'clarence'], tags=['row_324']),\n",
       " TaggedDocument(words=[u'while', u'this', u'curious', u'clash', u'between', u'a', u'nearmodern', u'setting', u'and', u'the', u'much', u'older', u'source', u'material', u'might', u'seem', u'confounding', u'it', u'actually', u'serves', u'to', u'energize', u'the', u'play', u'as', u'well', u'as', u'making', u'it', u'more', u'palatable', u'to', u'presentday', u'audiences'], tags=['row_325']),\n",
       " TaggedDocument(words=[u'dead', u'presidents', u'may', u'eventually', u'box', u'itself', u'into', u'a', u'narrative', u'dead', u'end', u'but', u'its', u'muscular', u'engagement', u'of', u'weighty', u'themes', u'and', u'explosive', u'situations', u'makes', u'it', u'a', u'powerful', u'drama'], tags=['row_326']),\n",
       " TaggedDocument(words=[u'there', u'are', u'intriguing', u'aspects', u'to', u'this', u'yarn', u'and', u'the', u'brothers', u'can', u'choreograph', u'a', u'scene', u'but', u'you', u'get', u'the', u'impression', u'that', u'they', u'learned', u'all', u'they', u'know', u'from', u'other', u'movies', u'the', u'blood', u'and', u'guts', u'is', u'gratuitous'], tags=['row_327']),\n",
       " TaggedDocument(words=[u'like', u'those', u'overreaching', u'sophomore', u'term', u'papers', u'we', u'can', u'all', u'laugh', u'at', u'now', u'this', u'disappointing', u'film', u'may', u'free', u'the', u'hughes', u'brothers', u'to', u'move', u'on', u'to', u'fresher', u'more', u'inspired', u'work'], tags=['row_328']),\n",
       " TaggedDocument(words=[u\"it's\", u'an', u'overly', u'ambitious', u'effort', u'that', u'strains', u'to', u'work', u'as', u'a', u'comingofage', u'drama', u'a', u'1960s', u'period', u'piece', u'and', u'a', u'searing', u'comment', u'on', u'the', u'way', u'african', u'american', u'gis', u'went', u'largely', u'unappreciated', u'for', u'their', u'war', u'efforts'], tags=['row_329']),\n",
       " TaggedDocument(words=[u'what', u'emerges', u'is', u'an', u'uneasy', u'blend', u'of', u'didacticism', u'and', u'juicedup', u'bloodletting', u'the', u'brothers', u\"don't\", u'know', u'when', u'to', u'stop', u'with', u'the', u'exploding', u'squibs', u'that', u'bury', u'the', u\"film's\", u'message', u'and', u'its', u'good', u'intentions'], tags=['row_330']),\n",
       " TaggedDocument(words=[u'made', u'with', u'fluid', u'skill', u'and', u'a', u'passion', u'for', u'storytelling', u'its', u'tale', u'of', u'how', u'the', u'vietnam', u'war', u'and', u'american', u'society', u'affect', u'a', u'black', u'marine', u'remains', u'accessible', u'while', u'confounding', u'expectations'], tags=['row_331']),\n",
       " TaggedDocument(words=[u'dead', u'presidents', u'is', u'like', u'a', u'shotgun', u'blast', u'in', u'the', u'face', u\"it's\", u'that', u'powerful', u'that', u'lethal', u'that', u'ugly'], tags=['row_332']),\n",
       " TaggedDocument(words=[u'people', u'of', u'any', u'color', u'can', u'sympathize', u'with', u'the', u'plight', u'of', u'anthony', u'curtis', u'and', u'understand', u'if', u'not', u'agree', u'with', u'the', u'eventual', u'choices', u'life', u'forces', u'him', u'to', u'make'], tags=['row_333']),\n",
       " TaggedDocument(words=[u'messy', u'but', u'mesmerizing'], tags=['row_334']),\n",
       " TaggedDocument(words=[u'unfortunately', u'the', u'story', u'manages', u'to', u'be', u'intense', u'and', u'very', u'bloody', u'heartfelt', u'and', u'superficial', u'all', u'at', u'the', u'same', u'time'], tags=['row_335']),\n",
       " TaggedDocument(words=[u'here', u'is', u'a', u'film', u'that', u'feels', u'incomplete', u'as', u'if', u'its', u'last', u'step', u'is', u'into', u'thin', u'air', u'scene', u'by', u'scene', u'you', u'feel', u'its', u'skill', u'but', u'you', u'leave', u'the', u'theater', u'wondering', u'about', u'the', u'meaning', u'of', u'it', u'all'], tags=['row_336']),\n",
       " TaggedDocument(words=[u'engaging', u'if', u'uneven'], tags=['row_337']),\n",
       " TaggedDocument(words=[u'since', u'the', u'robust', u'17thcentury', u'picaresque', u'tale', u'is', u'not', u'enjoying', u'any', u'current', u'vogue', u'the', u'success', u'of', u'restoration', u'can', u'be', u'considered', u'a', u'very', u'pleasant', u'surprise'], tags=['row_338']),\n",
       " TaggedDocument(words=[u'the', u'film', u'is', u'overcome', u'by', u'the', u'rumbling', u'workings', u'of', u'a', u'creaky', u'plot', u'as', u'the', u'story', u'grows', u'more', u'serious'], tags=['row_339']),\n",
       " TaggedDocument(words=[u'the', u'movie', u'takes', u'on', u'a', u'somber', u'fitful', u'atmosphere', u'of', u'straining', u'epic', u'proportions', u'but', u'it', u'strays', u'into', u'an', u'episodic', u'bog', u'that', u'leaves', u'it', u'gasping', u'for', u'dramatic', u'life'], tags=['row_340']),\n",
       " TaggedDocument(words=[u'lively', u'lavish', u'and', u'grandly', u'acted', u'pageant'], tags=['row_341']),\n",
       " TaggedDocument(words=[u'while', u'this', u'sly', u'and', u'sumptuous', u'new', u'film', u'offers', u'just', u'the', u'single', u'word', u'as', u'its', u'title', u'it', u'will', u'make', u'you', u'think', u'of', u'all', u'you', u'learned', u'about', u'restoration', u'comedy', u'and', u'drama', u'in', u'that', u'longago', u'history', u'of', u'the', u'theater', u'101', u'course'], tags=['row_342']),\n",
       " TaggedDocument(words=[u'solid', u'entertainment', u'especially', u'in', u'a', u'season', u'when', u\"hollywood's\", u'releases', u'are', u'repeatedly', u'causing', u'grimaces'], tags=['row_343']),\n",
       " TaggedDocument(words=[u'what', u'virtues', u'the', u'movie', u'has', u'are', u'cosmetic'], tags=['row_344']),\n",
       " TaggedDocument(words=[u'a', u'garishly', u'gilded', u'gloriously', u'overstuffed', u'costume', u'drama'], tags=['row_345']),\n",
       " TaggedDocument(words=[u'restoration', u'avoids', u'the', u'pitfalls', u'of', u'pious', u'historical', u'reconstructions', u'and', u'plunges', u'right', u'into', u'the', u'cauldron'], tags=['row_346']),\n",
       " TaggedDocument(words=[u'where', u'others', u'have', u'sunk', u'in', u'the', u'mire', u'of', u'imitation', u'director', u'paul', u'anderson', u'and', u'writer', u'kevin', u'droney', u'effect', u'a', u'viable', u'balance', u'between', u'exquisitely', u'choreographed', u'action', u'and', u'ironic', u'visual', u'and', u'verbal', u'counterpoint'], tags=['row_347']),\n",
       " TaggedDocument(words=[u'british', u'director', u'anderson', u'does', u'a', u'fair', u'job', u'with', u'what', u'he', u'was', u'given', u'four', u'goodlooking', u'leads', u'some', u'very', u'impressive', u'sfx', u'babylonian', u'sets', u'a', u'bonecrunching', u'soundtrack', u'and', u'a', u'battery', u'of', u'wellchoreographed', u'fights'], tags=['row_348']),\n",
       " TaggedDocument(words=[u'the', u'most', u'intriguing', u'is', u'a', u'glassyeyed', u'follower', u'whose', u'right', u'hand', u'shoots', u'out', u'a', u'hissing', u'reptile', u'that', u'can', u'extend', u'itself', u'for', u'miles', u'exotic', u'creatures', u'like', u'these', u'make', u'watching', u'mortal', u'kombat', u'feel', u'like', u'being', u'in', u'a', u'hightech', u'fun', u'house'], tags=['row_349']),\n",
       " TaggedDocument(words=[u'likely', u'to', u'satisfy', u'only', u'the', u'core', u'audience', u'already', u'hooked', u'on', u'video', u'and', u'arcade', u'games', u'and', u'even', u\"that's\", u'not', u'a', u'sure', u'thing'], tags=['row_350']),\n",
       " TaggedDocument(words=[u'the', u'movie', u'has', u'everything', u'a', u'teenage', u'boy', u'could', u'want', u'everything', u'that', u'is', u'but', u'an', u'interesting', u'plot', u'decent', u'dialogue', u'and', u'compelling', u'acting'], tags=['row_351']),\n",
       " TaggedDocument(words=[u'the', u'movie', u'that', u'most', u'nearly', u'approximates', u'a', u'video', u'game', u'lots', u'of', u'action', u'no', u'plot', u'eyecatching', u'computer', u'effects', u'and', u'a', u'dollop', u'of', u'violence'], tags=['row_352']),\n",
       " TaggedDocument(words=[u'just', u'looks', u'and', u'plays', u'a', u'lot', u'like', u'johnny', u'mnemonic', u'double', u'dragon', u'and', u'other', u'videogameinspired', u'mayhemfilled', u'messes'], tags=['row_353']),\n",
       " TaggedDocument(words=[u'len', u'wiseman', u'handles', u'many', u'of', u'the', u'setpieces', u'with', u'flair', u'and', u'tension'], tags=['row_354']),\n",
       " TaggedDocument(words=[u\"it's\", u'not', u'remotely', u'plausible', u'but', u'with', u\"willis'\", u'mcclane', u'leaping', u'onto', u'the', u'tailfins', u'of', u'passing', u'jet', u'fighters', u'and', u'bringing', u'down', u'helicopters', u'by', u'launching', u'police', u'cars', u'at', u'them', u\"there's\", u'enough', u'stuff', u'blowing', u'up', u'that', u'action', u'fans', u\"won't\", u'mind', u'much'], tags=['row_355']),\n",
       " TaggedDocument(words=[u'the', u'bad', u\"guys'\", u'omnipotence', u'at', u'nearly', u'every', u'turn', u'dilutes', u'the', u\"film's\", u'suspense'], tags=['row_356']),\n",
       " TaggedDocument(words=[u'an', u'enjoyable', u'pop', u'projection', u'of', u'post911', u'anxiety', u'that', u'said', u'it', u'also', u'makes', u'you', u'nostalgic', u'for', u'the', u'days', u'when', u'irresponsible', u'action', u'movies', u\"didn't\", u'have', u'to', u'deal', u'with', u'it'], tags=['row_357']),\n",
       " TaggedDocument(words=[u\"what's\", u'the', u'fourth', u'die', u'hard', u'called', u'i', u'keep', u'forgetting', u'die', u'hard', u'with', u'a', u'pension', u'die', u'hardened', u'arteries', u'die', u'laughing'], tags=['row_358']),\n",
       " TaggedDocument(words=[u'movie', u'characters', u'like', u'mcclane', u'are', u'the', u'paul', u'bunyans', u'and', u'john', u'henrys', u'and', u'pecos', u'bills', u'of', u'our', u'age', u'the', u'stuff', u'of', u'tall', u'tales', u'spun', u'with', u'the', u'technology', u'of', u'an', u'age', u'whose', u'campfires', u'are', u'found', u'in', u'multiplexes', u'with', u'stadium', u'seating'], tags=['row_359']),\n",
       " TaggedDocument(words=[u'the', u'rookie', u'mistakes', u'are', u'legion'], tags=['row_360']),\n",
       " TaggedDocument(words=[u'willis', u'should', u'not', u'be', u'the', u'victim', u'of', u'facile', u'stereotyping', u'he', u'brings', u'more', u'heart', u'and', u'humor', u'to', u'apocalyptic', u'pulp', u'fiction', u'than', u'any', u'other', u'actor', u'i', u'can', u'think', u'of', u'offhand'], tags=['row_361']),\n",
       " TaggedDocument(words=[u'far', u'from', u'the', u'crass', u'justforthemoney', u'sequel', u'it', u'appeared', u'to', u'be', u'on', u'paper', u\"it's\", u'a', u'genuine', u'blast'], tags=['row_362']),\n",
       " TaggedDocument(words=[u'terrific', u'entertainment', u'and', u'startlingly', u'shrewd', u'in', u'the', u'bargain', u'a', u'combination', u'of', u'minimalist', u'performances', u'interestingly', u'minimalist', u'and', u'maximalist', u'stunts', u'that', u'make', u'you', u'laugh', u'as', u'you', u'gape', u'at', u'their', u'thunderous', u'extravagance'], tags=['row_363']),\n",
       " TaggedDocument(words=[u'easily', u'the', u'best', u'in', u'the', u'series', u'since', u'the', u'first', u'one'], tags=['row_364']),\n",
       " TaggedDocument(words=[u'the', u'real', u'intrigue', u'has', u'to', u'do', u'with', u'whether', u'mcclane', u\"'a\", u'timex', u'watch', u'in', u'a', u'digital', u\"age'\", u'per', u'the', u'lead', u'baddie', u'timothy', u'olyphant', u'can', u'log', u'in', u'to', u'2007'], tags=['row_365']),\n",
       " TaggedDocument(words=[u\"willis'\", u'john', u'mcclane', u'with', u'that', u'sly', u'sideways', u'smile', u'is', u'like', u'an', u'old', u'acquaintance', u'you', u\"don't\", u'mind', u'running', u'into', u'he', u'may', u'be', u'older', u'and', u'balder', u'but', u\"he's\", u'none', u'the', u'worse', u'for', u'the', u'wear', u'and', u'he', u'can', u'still', u'take', u'a', u'punch'], tags=['row_366']),\n",
       " TaggedDocument(words=[u'live', u'free', u'or', u'die', u'hard', u'may', u'work', u'better', u'for', u'an', u'audience', u'that', u\"doesn't\", u'know', u'much', u'about', u'the', u'series', u'than', u'it', u'will', u'for', u'die', u'hard', u'die', u'hards', u'who', u'will', u'be', u'wondering', u'who', u'that', u'impersonator', u'is', u'and', u'what', u'he', u'did', u'with', u'the', u'real', u'john', u'mcclane'], tags=['row_367']),\n",
       " TaggedDocument(words=[u'this', u'paradox', u'comes', u'with', u'an', u'attendant', u'fallacy', u'that', u'the', u'best', u'way', u'to', u'solve', u'the', u'static', u'problem', u'is', u'to', u'make', u'the', u'stunts', u'even', u'larger', u'the', u'bangs', u'even', u'bigger', u'wrong', u'more', u'action', u'just', u'stops', u'the', u'film', u'longer'], tags=['row_368']),\n",
       " TaggedDocument(words=[u'it', u'is', u'a', u'movie', u'born', u'to', u'be', u'forgottenexcept', u'as', u'something', u'that', u'against', u'your', u'better', u'judgment', u'you', u'had', u'a', u'pretty', u'good', u'time', u'watching', u'back', u'in', u'the', u'summer', u'of', u\"'07\"], tags=['row_369']),\n",
       " TaggedDocument(words=[u'live', u'free', u'or', u'die', u'hard', u'is', u'indeed', u'a', u'worthy', u'successor', u'to', u'the', u'original', u'not', u'perhaps', u'quite', u'as', u'good', u'but', u'close'], tags=['row_370']),\n",
       " TaggedDocument(words=[u'the', u'post911', u'technoterrorist', u'stuff', u'works', u'the', u'fights', u'are', u'creative', u'and', u'funny', u'and', u'willis', u'is', u'in', u'top', u'form', u'in', u'his', u'careerdefining', u'role'], tags=['row_371']),\n",
       " TaggedDocument(words=[u'sorry', u'boys', u'after', u'two', u'decades', u'the', u'first', u'film', u'still', u'does', u'more', u'with', u'one', u'skyscraper', u'than', u'live', u'free', u'or', u'die', u'hard', u'does', u'with', u'an', u'entire', u'country'], tags=['row_372']),\n",
       " TaggedDocument(words=[u'that', u'this', u'implausible', u'stew', u'works', u'as', u'well', u'as', u'it', u'does', u'is', u'in', u'part', u'a', u'tribute', u'to', u'the', u'unlikely', u'but', u'enjoyable', u'rapport', u'that', u'forms', u'between', u'old', u'school', u'mcclane', u'and', u'his', u'youthful', u'computersavvy', u'companion'], tags=['row_373']),\n",
       " TaggedDocument(words=[u'despite', u'its', u'hardsell', u'coming', u'attraction', u'and', u'potsmoking', u'granny', u'singing', u'rock', u'oldies', u'how', u'to', u'make', u'an', u'american', u'quilt', u'turns', u'out', u'to', u'be', u'a', u'wealth', u'of', u'oldstyle', u'hollywood', u'magic'], tags=['row_374']),\n",
       " TaggedDocument(words=[u'the', u'greatest', u'movie', u'ever', u'made', u'about', u'warriors', u'and', u'battle'], tags=['row_375']),\n",
       " TaggedDocument(words=[u'again', u'and', u'again', u'kurosawa', u'sends', u'a', u'dark', u'thrill', u'through', u'his', u'audience', u'with', u'a', u'touch', u'of', u'sensuous', u'physical', u'reality'], tags=['row_376']),\n",
       " TaggedDocument(words=[u\"kurosawa's\", u'film', u'is', u'a', u'model', u'of', u'longform', u'construction', u'ably', u'fitting', u'its', u'asides', u'and', u'anecdotes', u'into', u'a', u'powerful', u'suspense', u'structure', u'that', u'endures', u'for', u'all', u'of', u'the', u\"film's\", u'208', u'minutes'], tags=['row_377']),\n",
       " TaggedDocument(words=[u'besides', u'the', u'wellmanned', u'battlescenes', u'the', u'pic', u'has', u'a', u'good', u'feeling', u'for', u'characterization', u'and', u'time'], tags=['row_378']),\n",
       " TaggedDocument(words=[u'the', u'epic', u'action', u'scenes', u'involving', u'cavalry', u'and', u'samurai', u'are', u'still', u'without', u'peer'], tags=['row_379']),\n",
       " TaggedDocument(words=[u'seven', u'samurai', u'is', u'an', u'unforgettable', u'masterpiece', u'the', u'work', u'of', u'one', u'of', u'the', u\"world's\", u'greatest', u'filmmakers', u'at', u'the', u'height', u'of', u'his', u'powers'], tags=['row_380']),\n",
       " TaggedDocument(words=[u'kurosawa', u'has', u'loaded', u'his', u'film', u'with', u'unusual', u'and', u'exciting', u'physical', u'incidents', u'and', u'made', u'the', u'whole', u'thing', u'graphic', u'in', u'a', u'hard', u'realistic', u'western', u'style'], tags=['row_381']),\n",
       " TaggedDocument(words=[u'the', u'archetypal', u'action', u'classic'], tags=['row_382']),\n",
       " TaggedDocument(words=[u'the', u'greatest', u'action', u'movie', u'ever', u'made'], tags=['row_383']),\n",
       " TaggedDocument(words=[u'moves', u'like', u'hot', u'mercury', u'and', u'it', u'draws', u'a', u'viewer', u'so', u'thoroughly', u'into', u'its', u'world', u'that', u'real', u'life', u'can', u'seem', u'thick', u'and', u'dull', u'when', u'the', u'lights', u'come', u'up'], tags=['row_384']),\n",
       " TaggedDocument(words=[u'rich', u'in', u'detail', u'vivid', u'in', u'characterization', u'leisurely', u'in', u'exposition', u'this', u'207minute', u'epic', u'is', u'bravura', u'filmmaking'], tags=['row_385']),\n",
       " TaggedDocument(words=[u'akira', u\"kurosawa's\", u'the', u'seven', u'samurai', u'1954', u'is', u'not', u'only', u'a', u'great', u'film', u'in', u'its', u'own', u'right', u'but', u'the', u'source', u'of', u'a', u'genre', u'that', u'would', u'flow', u'through', u'the', u'rest', u'of', u'the', u'century'], tags=['row_386']),\n",
       " TaggedDocument(words=[u'just', u'about', u'everything', u'in', u'this', u'lavish', u'animated', u'feature', u'is', u'for', u'the', u'pigtail', u'set'], tags=['row_387']),\n",
       " TaggedDocument(words=[u'a', u'handsome', u'deeply', u'felt', u'even', u'more', u'deeply', u'reverent', u'animated', u'musical'], tags=['row_388']),\n",
       " TaggedDocument(words=[u'overall', u'this', u'seems', u'like', u'a', u'reasonable', u'stab', u'at', u'an', u'impossible', u'agenda'], tags=['row_389']),\n",
       " TaggedDocument(words=[u'all', u'disney', u'has', u'really', u'done', u'in', u'its', u'disappointing', u'33rd', u'animated', u'feature', u'is', u'revive', u'the', u'stereotype', u'of', u'the', u'noble', u'savage'], tags=['row_390']),\n",
       " TaggedDocument(words=[u'the', u'disney', u'artists', u'have', u'created', u'a', u'vivid', u'palette', u'for', u'the', u'picture'], tags=['row_391']),\n",
       " TaggedDocument(words=[u'why', u'make', u'a', u'disney', u'cartoon', u'and', u'take', u'all', u'the', u'fun', u'out', u'of', u'it'], tags=['row_392']),\n",
       " TaggedDocument(words=[u'pocahontas', u\"can't\", u'get', u'stirred', u'dramatically', u'for', u'political', u'correctness', u'the', u'finale', u'will', u'please', u'nobody', u'and', u'the', u'songs', u'are', u'duff', u'that', u'said', u'there', u'are', u'enough', u'incidental', u'felicities', u'to', u'pass', u'the', u'time', u'pleasantly'], tags=['row_393']),\n",
       " TaggedDocument(words=[u'any', u'damage', u'such', u'revisionist', u'history', u'may', u'impose', u'on', u'young', u'minds', u'is', u'offset', u'by', u'the', u'honestly', u'inspiring', u'thoughts', u'pocahontas', u'offers'], tags=['row_394']),\n",
       " TaggedDocument(words=[u\"disney's\", u'33rd', u'animated', u'feature', u'and', u'its', u'first', u'with', u'characters', u'based', u'on', u'real', u'people', u'is', u'a', u'stunning', u'movie', u'with', u'clever', u'twists', u'vivid', u'characterizations', u'insightful', u'songs', u'and', u'a', u'surprising', u'harvest', u'of', u'revisionist', u'history'], tags=['row_395']),\n",
       " TaggedDocument(words=[u'disney', u'deserves', u'praise', u'for', u'raising', u'the', u'ante', u'on', u'its', u'ambitions', u'in', u'animation', u'next', u'time', u'though', u'a', u'little', u'less', u'civics', u'lesson', u'and', u'a', u'little', u'more', u'heart'], tags=['row_396']),\n",
       " TaggedDocument(words=[u'adult', u'viewers', u'spoiled', u'by', u'what', u'has', u'come', u'before', u'may', u'feel', u'that', u'this', u'film', u'which', u'relates', u'the', u'legendary', u'romance', u'between', u'a', u\"chief's\", u'daughter', u'and', u'english', u'adventurer', u'john', u'smith', u'in', u'the', u'new', u'world', u'is', u'more', u'bythenumbers', u'than', u'inspired'], tags=['row_397']),\n",
       " TaggedDocument(words=[u'as', u'for', u'the', u'songs', u\"they're\", u'guaranteed', u'to', u'keep', u'your', u'shoes', u'glued', u'to', u'the', u'floor'], tags=['row_398']),\n",
       " TaggedDocument(words=[u'imagine', u'a', u'cult', u'disney', u'cartoon', u'for', u'this', u'may', u'be', u'it'], tags=['row_399']),\n",
       " TaggedDocument(words=[u'taking', u'advantage', u'of', u'the', u\"studio's\", u'breathtakingly', u'intricate', u'animation', u'directors', u'mike', u'gabriel', u'and', u'eric', u'goldberg', u'have', u'breathed', u'vitality', u'into', u'this', u'the', u'fifth', u\"'new\", u\"wave'\", u'disney', u'animated', u'picture'], tags=['row_400']),\n",
       " TaggedDocument(words=[u'pocahontas', u'is', u'the', u'bestlooking', u'of', u'the', u'modern', u'disney', u'animated', u'features', u'and', u'one', u'of', u'the', u'more', u'thoughtful', u'it', u'is', u'about', u'real', u'issues', u'even', u'if', u'it', u'treats', u'them', u'with', u'naive', u'idealism'], tags=['row_401']),\n",
       " TaggedDocument(words=[u'it', u'is', u'so', u'focused', u'on', u'its', u'own', u'boldness', u'its', u'daretoshock', u'sensuality', u'the', u'film', u'got', u'an', u'nc17', u'from', u'the', u'mpaa', u'but', u'is', u'being', u'released', u'unrated', u'that', u'nothing', u'else', u'comes', u'through'], tags=['row_402']),\n",
       " TaggedDocument(words=[u'when', u'night', u'is', u'falling', u'has', u'too', u'many', u'unintended', u'laughs', u'for', u'its', u'passion', u'to', u'be', u'convincing'], tags=['row_403']),\n",
       " TaggedDocument(words=[u'rozema', u'is', u'a', u'fabulist', u'with', u'a', u'strong', u'visual', u'sense', u'and', u'she', u'creates', u'a', u'distinctive', u'enclosed', u'world', u'to', u'illustrate', u\"camille's\", u'odyssey'], tags=['row_404']),\n",
       " TaggedDocument(words=[u'symbols', u'are', u'supposed', u'to', u'be', u'subtle', u'but', u'rozema', u'is', u'intent', u'upon', u'bludgeoning', u'the', u'audience', u'with', u'them'], tags=['row_405']),\n",
       " TaggedDocument(words=[u'an', u'imaginative', u'entertaining', u'crime', u'mystery', u'with', u'plenty', u'of', u'nerve', u'and', u'vigor'], tags=['row_406']),\n",
       " TaggedDocument(words=[u'if', u'the', u'pleasures', u'of', u'the', u'usual', u'suspects', u'are', u'the', u'more', u'superficial', u'ones', u'of', u'ingenuity', u'and', u'style', u'those', u'are', u'abundantly', u'available', u'the', u'twists', u'and', u'turns', u'of', u'the', u'plot', u'are', u'an', u'awful', u'lot', u'of', u'fun', u'while', u'the', u'ending', u'is', u'genuinely', u'satisfying', u'and', u'surprising'], tags=['row_407']),\n",
       " TaggedDocument(words=[u'in', u'a', u'season', u'of', u'fat', u'blockbusters', u'a', u'picture', u'as', u'brainy', u'bitter', u'and', u'compact', u'as', u'this', u'one', u'comes', u'as', u'a', u'shock', u'and', u'a', u'treat'], tags=['row_408']),\n",
       " TaggedDocument(words=[u\"it's\", u'a', u'nerveshredding', u'suspense', u'movie', u'about', u'corruption', u'a', u'bravura', u\"actor's\", u'show', u'full', u'of', u'deliciously', u'twisted', u'cops', u'and', u'robbers', u'and', u'a', u'complex', u'riddle', u'packed', u'with', u'unexpected', u'turns'], tags=['row_409']),\n",
       " TaggedDocument(words=[u'for', u'many', u'true', u'movie', u'fiends', u'noir', u'is', u'the', u'key', u'american', u'movie', u'type', u'and', u'the', u'most', u'fun', u'when', u\"it's\", u'done', u'right', u'the', u'usual', u'suspects', u'is', u'done', u'right'], tags=['row_410']),\n",
       " TaggedDocument(words=[u'i', u\"didn't\", u'believe', u'this', u'story', u'for', u'a', u'minute', u'even', u'in', u'movie', u'terms', u'though', u\"it's\", u'less', u'offensive', u'than', u'a', u'piece', u'of', u'junk', u'like', u'apt', u'pupil', u\"singer's\", u'subsequent', u'feature'], tags=['row_411']),\n",
       " TaggedDocument(words=[u'a', u'terrific', u'cast', u'of', u'exciting', u'actors', u'socks', u'over', u'this', u'absorbingly', u'complicated', u'yarn', u\"that's\", u'been', u'spun', u'in', u'seductively', u'slick', u'fashion', u'by', u'director', u'bryan', u'singer'], tags=['row_412']),\n",
       " TaggedDocument(words=[u'singer', u'creates', u'a', u'classy', u'thoughtprovoking', u'mystery', u'that', u'is', u'pleasingly', u'oldfashioned', u'and', u'absolutely', u'modern', u'in', u'the', u'sly', u'slightly', u'selfconscious', u'play', u'it', u'makes', u'with', u'myth', u'and', u'methods', u'of', u'storytelling'], tags=['row_413']),\n",
       " TaggedDocument(words=[u'this', u'movie', u'finally', u\"isn't\", u'anything', u'more', u'than', u'an', u'intricate', u'feat', u'of', u'gamesmanship', u'but', u\"it's\", u'still', u'quite', u'something', u'to', u'see'], tags=['row_414']),\n",
       " TaggedDocument(words=[u'the', u'usual', u'suspects', u'is', u'the', u'freshest', u'funniest', u'and', u'scariest', u'crime', u'thriller', u'to', u'come', u'along', u'since', u'pulp', u'fiction'], tags=['row_415']),\n",
       " TaggedDocument(words=[u'but', u'like', u'a', u'tale', u'from', u'the', u'arabian', u'nights', u'told', u'for', u'the', u'sheer', u'pleasure', u'of', u'storytelling', u'this', u'elegant', u'puzzle', u'not', u'only', u'enjoys', u'showing', u'off', u'it', u'also', u'has', u'something', u'to', u'show'], tags=['row_416']),\n",
       " TaggedDocument(words=[u'nothing', u'is', u'what', u'it', u'seems', u'in', u'this', u'layered', u'velvety', u'movie', u'which', u'was', u'shot', u'in', u'handsome', u'widescreen', u'format', u'the', u'truth', u'keeps', u'shifting', u'and', u'nothing', u'matters', u'either'], tags=['row_417']),\n",
       " TaggedDocument(words=[u'the', u'usual', u'suspects', u'is', u'an', u'accomplished', u'synthesis', u'of', u'noir', u'elements', u'and', u'as', u'such', u'is', u'an', u'entertaining', u'entry', u'to', u'the', u'genre'], tags=['row_418']),\n",
       " TaggedDocument(words=[u'next', u'to', u'the', u'steady', u'diet', u'of', u'hollywood', u'formula', u'contrived', u'plots', u'and', u'situations', u'a', u'regular', u'moviegoer', u'can', u'spot', u'a', u'mile', u'off', u'the', u'usual', u'suspects', u'is', u'something', u'quite', u'different', u'a', u'movie', u\"that's\", u'smarter', u'than', u'you', u'are'], tags=['row_419']),\n",
       " TaggedDocument(words=[u'after', u'i', u'first', u'saw', u'the', u'film', u'i', u'recommended', u'it', u'to', u'people', u'as', u'an', u'entertaining', u'and', u'commercial', u'crime', u'thriller', u'a', u'standard', u'story', u'done', u'very', u'well', u'and', u'then', u'i', u'saw', u'it', u'again', u'the', u'movie', u'is', u'so', u'much', u'better', u'the', u'second', u'time'], tags=['row_420']),\n",
       " TaggedDocument(words=[u'the', u'twist', u'at', u'the', u'end', u'is', u'a', u'corker', u'but', u'crucial', u'questions', u'remain', u'unanswered', u\"what's\", u'interesting', u'though', u'is', u'how', u'little', u'this', u'intrudes', u'on', u'our', u'enjoyment'], tags=['row_421']),\n",
       " TaggedDocument(words=[u'director', u'bryan', u'singer', u'gives', u'his', u'film', u'enough', u'surface', u'flash', u'to', u'entertain', u'future', u'latenight', u'cable', u'possibilities'], tags=['row_422']),\n",
       " TaggedDocument(words=[u'as', u'entertainment', u'the', u'film', u'is', u'a', u'lukewarm', u'experience', u'but', u'as', u'a', u'piece', u'of', u'construction', u'the', u'usual', u'suspects', u'is', u'a', u'slick', u'bit', u'of', u'business'], tags=['row_423']),\n",
       " TaggedDocument(words=[u'lots', u'of', u'fun', u'and', u'a', u'very', u'handsome', u'widescreen', u'production', u'by', u'director', u'bryan', u'singer', u'who', u'cowrote', u'the', u'original', u'script', u'with', u'onceandfuture', u'partner', u'and', u'exprivate', u'detective', u'christopher', u'mcquarrie'], tags=['row_424']),\n",
       " TaggedDocument(words=[u'once', u'again', u'my', u'comprehension', u'began', u'to', u'slip', u'and', u'finally', u'i', u'wrote', u'down', u\"'to\", u'the', u'degree', u'that', u'i', u'do', u'understand', u'i', u\"don't\", u\"care'\"], tags=['row_425']),\n",
       " TaggedDocument(words=[u'were', u'mira', u\"sorvino's\", u'allredeeming', u'possibly', u'best', u'listbound', u'performance', u'to', u'melt', u'away', u'it', u'would', u'immediately', u'be', u'obvious', u'how', u'malnourished', u'this', u'amiably', u'minor', u'effort', u'is'], tags=['row_426']),\n",
       " TaggedDocument(words=[u'the', u'confused', u'script', u'trades', u'in', u'such', u'heavy', u'topics', u'as', u'alcoholism', u'and', u'child', u'sexual', u'abuse', u'but', u'every', u'dramatic', u'scene', u'plays', u'like', u'one', u'of', u'those', u'schmaltzy', u'happy', u'days', u'moments', u'that', u'inevitably', u'drew', u'a', u'big', u\"'awwwwww'\", u'from', u'the', u'studio', u'audience'], tags=['row_427']),\n",
       " TaggedDocument(words=[u'the', u'film', u'is', u'unforgivable'], tags=['row_428']),\n",
       " TaggedDocument(words=[u'time', u'for', u'a', u'new', u'book', u'by', u'jane', u'fonda', u'and', u'this', u'time', u'i', u'expect', u'a', u'full', u'chapter', u'on', u'how', u'she', u'got', u'snookered', u'into', u'doing', u'georgia', u'rule'], tags=['row_429']),\n",
       " TaggedDocument(words=[u'the', u'central', u'problem', u'with', u'the', u'movie', u\"isn't\", u'that', u'it', u'deals', u'with', u'several', u'hotbutton', u'topics', u'but', u'that', u'it', u'addresses', u'them', u'with', u'a', u'shocking', u'lack', u'of', u'emotional', u'honesty'], tags=['row_430']),\n",
       " TaggedDocument(words=[u'georgia', u'rule', u\"doesn't\", u'make', u'you', u'feel', u'good', u'it', u'makes', u'you', u'queasy'], tags=['row_431']),\n",
       " TaggedDocument(words=[u\"you'd\", u'think', u'that', u'decree', u'no', u'1', u'for', u'a', u'movie', u'about', u'rules', u'would', u'be', u'to', u'know', u'exactly', u'what', u'kind', u'of', u'picture', u\"you're\", u'making', u'and', u'selling', u'georgia', u'rule', u'fails', u'that', u'basic', u'test', u'and', u'a', u'whole', u'lot', u'of', u'other', u'ones', u'besides'], tags=['row_432']),\n",
       " TaggedDocument(words=[u'as', u'an', u'acting', u'showcase', u'the', u'supporting', u'roles', u'are', u'as', u'rich', u'as', u'the', u'leads', u'georgia', u'rule', u'is', u'undeniably', u'one', u'of', u'the', u\"year's\", u'best', u'american', u'dramedies'], tags=['row_433']),\n",
       " TaggedDocument(words=[u\"it's\", u'a', u'creepy', u'tonedeaf', u'movie', u'about', u'three', u'generations', u'of', u'women'], tags=['row_434']),\n",
       " TaggedDocument(words=[u'a', u'murky', u'blend', u'of', u'melodrama', u'and', u'comedy'], tags=['row_435']),\n",
       " TaggedDocument(words=[u'do', u'not', u'take', u'your', u'mom', u'to', u'georgia', u'rule', u'unless', u\"she's\", u'roseanne', u'barr', u'you', u'may', u'expect', u'a', u'threegenerational', u'chick', u'flick', u'but', u'what', u'you', u'get', u'is', u'a', u'childrape', u'comedy'], tags=['row_436']),\n",
       " TaggedDocument(words=[u'misguided', u'at', u'best', u'and', u'repellent', u'at', u'worst'], tags=['row_437']),\n",
       " TaggedDocument(words=[u'you', u'can', u'see', u'what', u'they', u'are', u'striving', u'for', u'but', u'georgia', u'rule', u'is', u'so', u'artificial', u'it', u'feels', u'like', u'more', u'of', u'a', u'flow', u'chart', u'than', u'a', u'slice', u'of', u'life'], tags=['row_438']),\n",
       " TaggedDocument(words=[u'not', u'to', u'excuse', u'her', u'apparent', u'lack', u'of', u'professionalism', u'but', u'can', u'you', u'blame', u'lohan', u'for', u'showing', u'up', u'to', u'work', u'in', u'bad', u'shape'], tags=['row_439']),\n",
       " TaggedDocument(words=[u'if', u'there', u'is', u'a', u\"'what\", u'were', u'they', u\"thinking'\", u'hall', u'of', u'shame', u\"there's\", u'a', u'whole', u'wall', u'preserved', u'for', u'georgia', u'rule', u'a', u'feelgood', u'mothersanddaughters', u'comedy', u'about', u'child', u'sexual', u'abuse'], tags=['row_440']),\n",
       " TaggedDocument(words=[u\"there's\", u'little', u'gussied', u'up', u'in', u'this', u'surprisingly', u'tart', u'motherchildgrandchild', u'reunion', u'picture', u'written', u'by', u'mark', u'andrus'], tags=['row_441']),\n",
       " TaggedDocument(words=[u\"it's\", u'a', u'shame', u\"lohan's\", u'best', u'work', u'to', u'date', u'is', u'bogged', u'down', u'in', u'a', u'film', u'that', u'wants', u'to', u'be', u'in', u'the', u'same', u'league', u'as', u'terms', u'of', u'endearment', u'but', u'is', u'only', u'marginally', u'better', u'than', u'divine', u'secrets', u'of', u'the', u'yaya', u'sisterhood'], tags=['row_442']),\n",
       " TaggedDocument(words=[u'georgia', u'rule', u'is', u'a', u'bad', u'idea', u'dreadfully', u'executed', u'on', u'golden', u'pond', u'with', u'fellatio', u'jokes', u'and', u'whimsical', u'incest', u'melodrama', u'and', u'fonda', u'playing', u'her', u'dad', u'who', u'more', u'and', u'more', u'she', u'eerily', u'resembles'], tags=['row_443']),\n",
       " TaggedDocument(words=[u'certain', u'words', u'should', u'be', u'reserved', u'for', u'special', u'occasions', u\"'abysmal'\", u'is', u'one', u'of', u'them', u'and', u'georgia', u'rule', u'is', u'as', u'special', u'as', u'such', u'occasions', u'get'], tags=['row_444']),\n",
       " TaggedDocument(words=[u\"foster's\", u'second', u'directorial', u'effort', u'is', u'a', u'vividly', u'drawn', u'if', u'too', u'episodic', u'portrait', u'of', u'an', u'eccentric', u'family', u'well', u'acted', u'by', u'the', u'entire', u'cast', u'especially', u'holly', u'hunter', u'and', u'robery', u'downey', u'jr'], tags=['row_445']),\n",
       " TaggedDocument(words=[u'a', u'modest', u'film', u'in', u'every', u'sense', u'which', u'pushes', u'the', u'gags', u'too', u'hard'], tags=['row_446']),\n",
       " TaggedDocument(words=[u'spirited', u'but', u'uneven'], tags=['row_447']),\n",
       " TaggedDocument(words=[u'neither', u'caustic', u'nor', u'sentimental', u\"it's\", u'a', u'film', u'that', u'maybe', u'half', u'the', u'people', u'on', u'earth', u'have', u'at', u'one', u'time', u'considered', u'writing'], tags=['row_448']),\n",
       " TaggedDocument(words=[u'foster', u'keeps', u'the', u'party', u'hopping', u'although', u'more', u'dark', u'humor', u'would', u'have', u'helped', u'before', u'she', u'winds', u'it', u'down', u'with', u'sentiment', u'and', u'bromides'], tags=['row_449']),\n",
       " TaggedDocument(words=[u'foster', u'and', u'richter', u'of', u'course', u'want', u'to', u'do', u'more', u'than', u'make', u'audiences', u'laugh', u'they', u'want', u'us', u'to', u'be', u'touched', u'by', u'their', u\"characters'\", u'humanity', u'and', u'take', u'an', u'interest', u'in', u'a', u'budding', u'romance', u'but', u'that', u'rarely', u'is', u'the', u'case'], tags=['row_450']),\n",
       " TaggedDocument(words=[u'with', u'many', u'of', u'the', u'conversations', u'going', u'on', u'simultaneously', u\"it's\", u'difficult', u'sometimes', u'even', u'impossible', u'to', u'know', u'who', u'is', u'saying', u'what', u'and', u'to', u'whom'], tags=['row_451']),\n",
       " TaggedDocument(words=[u'with', u'her', u'keen', u\"actor's\", u'instincts', u'foster', u'piles', u'on', u'plenty', u'for', u'her', u'terrific', u'cast', u'to', u'chew', u'on', u'and', u'for', u'us', u'to', u'savor'], tags=['row_452']),\n",
       " TaggedDocument(words=[u'the', u'movie', u'which', u'is', u'about', u'the', u'thanksgiving', u'family', u'reunion', u'from', u'hell', u'is', u'not', u'exactly', u'a', u'comedy', u'and', u'yet', u'not', u'a', u'drama', u'either', u'like', u'many', u'family', u'reunions', u'it', u'has', u'a', u'little', u'of', u'both', u'elements', u'and', u'the', u'strong', u'sense', u'that', u'madness', u'is', u'being', u'held', u'just', u'out', u'of', u'sight'], tags=['row_453']),\n",
       " TaggedDocument(words=[u'aside', u'from', u'a', u'few', u'effective', u'lowkey', u'scenes', u'the', u'movie', u\"doesn't\", u'involve', u'the', u'viewer'], tags=['row_454']),\n",
       " TaggedDocument(words=[u'the', u'postman', u'il', u'postino', u'is', u'slight', u'but', u\"it's\", u'tough', u'to', u'imagine', u'anyone', u'not', u'liking', u'it'], tags=['row_455']),\n",
       " TaggedDocument(words=[u'this', u'idealized', u'tribute', u'to', u'a', u'charismatic', u'teacher', u'who', u'devotes', u'himself', u'to', u'music', u'appreciation', u'has', u'the', u'same', u'oldfashioned', u'texture', u'and', u'sticky', u'sentimentality', u'as', u'goodbye', u'mr', u'chips', u'of', u'1939', u'but', u'dreyfuss', u'gives', u'an', u'effective', u'surprisingly', u'restrained', u'performance'], tags=['row_456']),\n",
       " TaggedDocument(words=[u'an', u'overwrought', u'disney', u'weeper'], tags=['row_457']),\n",
       " TaggedDocument(words=[u'full', u'of', u'very', u'obvious', u'spoofery', u'and', u'funnier', u'in', u'concept', u'than', u'in', u'execution'], tags=['row_458']),\n",
       " TaggedDocument(words=[u'a', u'freeforall', u'comic', u'spoof', u'that', u'brings', u'the', u\"'hood'\", u'genre', u'of', u'hollywood', u'films', u'full', u'circle'], tags=['row_459']),\n",
       " TaggedDocument(words=[u'rude', u'crude', u'and', u'outrageous'], tags=['row_460']),\n",
       " TaggedDocument(words=[u'outrageous', u'is', u'the', u'key', u'word', u'here', u'in', u'many', u'successful', u'scenes', u'the', u'wayans', u'deftly', u'play', u'on', u'our', u'assumptions', u'and', u'cliches'], tags=['row_461']),\n",
       " TaggedDocument(words=[u'things', u'might', u'be', u'bad', u'the', u'movie', u'suggests', u'but', u\"they're\", u'not', u'so', u'bad', u'you', u\"can't\", u'laugh'], tags=['row_462']),\n",
       " TaggedDocument(words=[u'an', u'aimless', u'romanticcomedy', u'caper'], tags=['row_463']),\n",
       " TaggedDocument(words=[u'despite', u'the', u'advances', u'humankind', u'has', u'made', u'since', u'dragging', u'itself', u'out', u'of', u'the', u'primordial', u'ooze', u'shore', u'is', u'a', u'successful', u'comedian'], tags=['row_464']),\n",
       " TaggedDocument(words=[u'even', u'with', u'the', u'low', u'expectations', u'any', u'reasonable', u'viewer', u'brings', u'to', u'a', u'shore', u'flick', u'this', u'rates', u'only', u'stupidplus'], tags=['row_465']),\n",
       " TaggedDocument(words=[u\"it's\", u'not', u'by', u'any', u'means', u'inspired', u'madness'], tags=['row_466']),\n",
       " TaggedDocument(words=[u'inept', u'in', u'almost', u'every', u'respect'], tags=['row_467']),\n",
       " TaggedDocument(words=[u'america', u'faces', u'the', u'very', u'real', u'prospect', u'that', u'pauly', u'shore', u'is', u'the', u'most', u'annoying', u'comic', u'alive'], tags=['row_468']),\n",
       " TaggedDocument(words=[u'a', u'spoof', u'of', u'ecoconsciousness', u'starring', u'oneman', u'toxic', u'spill', u'pauly', u'shore'], tags=['row_469']),\n",
       " TaggedDocument(words=[u'no', u'one', u'is', u'going', u'to', u'see', u'lawnmower', u'man', u'2', u'for', u'the', u'acting', u'however', u'the', u'film', u'rises', u'or', u'falls', u'on', u'its', u'special', u'effects'], tags=['row_470']),\n",
       " TaggedDocument(words=[u'mowing', u'the', u'lawn', u'might', u'be', u'more', u'involving', u'than', u'watching', u'this', u'subpar', u'scifi', u'sequel', u'which', u'manages', u'to', u'be', u'complicated', u'and', u'witless', u'at', u'the', u'same', u'time'], tags=['row_471']),\n",
       " TaggedDocument(words=[u'if', u'king', u'of', u'the', u'hill', u\"couldn't\", u'draw', u'patrons', u'despite', u'appearing', u'on', u'tons', u'of', u'10best', u'lists', u\"what's\", u'a', u'comparably', u'themed', u'smallchange', u'remembrance', u'gonna', u'do'], tags=['row_472']),\n",
       " TaggedDocument(words=[u'imagine', u'two', u'movies', u'plucked', u'from', u'opposite', u'sides', u'of', u'the', u'video', u'store'], tags=['row_473']),\n",
       " TaggedDocument(words=[u'a', u'deliriously', u'trashy', u'exuberantly', u'vulgar', u'lavishly', u'appointed', u'exploitation', u'picture', u'this', u'weird', u'combo', u'of', u'roadkill', u'movie', u'and', u'martialarts', u'vampire', u'gorefest', u'is', u'made', u'to', u'order', u'for', u'the', u'stimulation', u'of', u'teenage', u'boys'], tags=['row_474']),\n",
       " TaggedDocument(words=[u'on', u'a', u'mindless', u'exploitation', u'level', u'this', u'is', u'pretty', u'good', u'but', u'on', u'other', u'levels', u'it', u'seems', u'to', u'make', u'promises', u'that', u'it', u'fails', u'to', u'deliver', u'on'], tags=['row_475']),\n",
       " TaggedDocument(words=[u'a', u'tired', u'humorless', u'pastiche', u'of', u'various', u'exploitation', u'genres', u'that', u'is', u'not', u'the', u'least', u'bit', u'imaginative', u'in', u'its', u'campy', u'deconstruction', u'of', u'conventions'], tags=['row_476']),\n",
       " TaggedDocument(words=[u'rodriguez', u'has', u'a', u'lot', u'of', u'fun', u'dreaming', u'up', u'cool', u'ways', u'to', u'kill', u'people', u\"he's\", u'making', u'this', u'his', u\"life's\", u'work', u'but', u'he', u'also', u'gets', u'something', u'resembling', u'a', u'performance', u'from', u'tarantino', u'and', u'transforms', u'clooney', u'into', u'a', u'fullfledged', u'movie', u'star'], tags=['row_477']),\n",
       " TaggedDocument(words=[u'mr', u'rodriguez', u'demonstrates', u'his', u'talents', u'more', u'clearly', u'than', u'ever', u\"he's\", u'visually', u'inventive', u'quickwitted', u'and', u'a', u'fabulous', u'editor', u'while', u'still', u'hampering', u'himself', u'with', u'sophomoric', u'material'], tags=['row_478']),\n",
       " TaggedDocument(words=[u'the', u'picture', u'shows', u'what', u'happens', u'when', u'a', u'writer', u'tarantino', u'and', u'a', u'director', u'rodriguez', u'come', u'together', u'and', u'reinforce', u'each', u\"other's\", u'worst', u'tendencies', u'and', u'misconceptions'], tags=['row_479']),\n",
       " TaggedDocument(words=[u'as', u'the', u'bloodsuckers', u'attack', u'our', u\"'heroes'\", u'again', u'and', u'again', u'you', u'feel', u'like', u\"you're\", u'watching', u'a', u'video', u'game', u'from', u'dusk', u'to', u'dawn'], tags=['row_480']),\n",
       " TaggedDocument(words=[u\"it's\", u'great', u'fun', u'but', u'certainly', u'not', u'great', u'art'], tags=['row_481']),\n",
       " TaggedDocument(words=[u'the', u'sickest', u'most', u'perverted', u'movie', u'within', u'memory', u'guiltily', u'i', u'liked', u'it', u'but', u'what', u'the', u'hell', u'is', u'it'], tags=['row_482']),\n",
       " TaggedDocument(words=[u'the', u'movie', u'which', u'treats', u'you', u'with', u'contempt', u'for', u'even', u'watching', u'it', u'is', u'a', u'monument', u'to', u'its', u'own', u'lack', u'of', u'imagination'], tags=['row_483']),\n",
       " TaggedDocument(words=[u'an', u'enjoyable', u'movie'], tags=['row_484']),\n",
       " TaggedDocument(words=[u'one', u'could', u'scavenge', u'the', u'thesaurus', u'to', u'find', u'synonyms', u'for', u\"'awkward'\", u'to', u'describe', u\"crawford's\", u'performance'], tags=['row_485']),\n",
       " TaggedDocument(words=[u'crawford', u'packs', u'a', u'phallic', u'pistol', u'and', u'traipses', u'through', u'the', u'rain', u'in', u'a', u'transparent', u'slip', u'share', u'the', u'fantasy', u'babe'], tags=['row_486']),\n",
       " TaggedDocument(words=[u'the', u'lamest', u'modelturnedactress', u'movie', u'since', u'lauren', u'hutton', u'costarred', u'with', u'evel', u'knievel', u'in', u'the', u'misbegotten', u'viva', u'knievel'], tags=['row_487']),\n",
       " TaggedDocument(words=[u'howlingly', u'bad', u'so', u'awful', u'in', u'fact', u'that', u'it', u'can', u'actually', u'be', u'enjoyed', u'on', u'a', u'certain', u'level'], tags=['row_488']),\n",
       " TaggedDocument(words=[u'the', u'movie', u'is', u'fast', u'slick', u'and', u'dumb', u'as', u'a', u'post'], tags=['row_489']),\n",
       " TaggedDocument(words=[u'works', u'as', u'a', u'thriller', u'for', u'anyone', u'who', u'lives', u'entirely', u'in', u'the', u'present', u'those', u'with', u'longer', u'memories', u'will', u'find', u'the', u'film', u'grows', u'increasingly', u'funny', u'as', u'it', u'rolls', u'along'], tags=['row_490']),\n",
       " TaggedDocument(words=[u'will', u'ferrell', u'has', u'become', u'the', u'most', u'unlikely', u'embodiment', u'of', u'wholesome', u'family', u'fun', u'since', u'fred', u'macmurray', u'gave', u'up', u'film', u'noir', u'for', u'my', u'three', u'sons'], tags=['row_491']),\n",
       " TaggedDocument(words=[u'barely', u'watchable'], tags=['row_492']),\n",
       " TaggedDocument(words=[u'a', u'zero', u'but', u'the', u'title', u'describes', u'how', u'the', u'audience', u'is', u'likely', u'to', u'react', u'perfectly'], tags=['row_493']),\n",
       " TaggedDocument(words=[u'ferrell', u'is', u'one', u'of', u'the', u\"film's\", u'few', u'bright', u'lights', u\"it's\", u'a', u'shame', u'to', u'hide', u'that', u'subversive', u'beacon', u'under', u'a', u'bushel', u'of', u'dully', u'inspirational', u'sports', u'movie', u'cliches'], tags=['row_494']),\n",
       " TaggedDocument(words=[u'as', u'lazy', u'bloated', u'and', u'tvscreen', u'friendly', u'as', u'shameless', u'promos', u'come'], tags=['row_495']),\n",
       " TaggedDocument(words=[u'if', u\"you're\", u'into', u'will', u'ferrell'], tags=['row_496']),\n",
       " TaggedDocument(words=[u'it', u'just', u'plods', u'along', u'harmless', u'but', u'lifeless', u'going', u'exactly', u'where', u'you', u'think', u\"it's\", u'going'], tags=['row_497']),\n",
       " TaggedDocument(words=[u'sit', u'in', u'a', u'room', u'by', u'yourself', u'look', u'at', u'a', u'blank', u'screen', u'for', u'90', u'minutes', u'and', u\"you'll\", u'have', u'more', u'of', u'a', u'chance', u'of', u'laughing', u'at', u'your', u'own', u'thoughts', u'than', u'you', u'will', u'at', u'this', u'movie'], tags=['row_498']),\n",
       " TaggedDocument(words=[u'stop', u'me', u'if', u\"you've\", u'heard', u'this', u'before'], tags=['row_499']),\n",
       " TaggedDocument(words=[u'silly', u'mindless', u'and', u'derivative', u'but', u'duvall', u'brings', u'some', u'bite', u'to', u'the', u'proceedings', u'and', u'ferrell', u'is', u'dependably', u'amusing'], tags=['row_500']),\n",
       " TaggedDocument(words=[u'both', u'duvall', u'and', u'mike', u'ditka', u'who', u'plays', u'himself', u'and', u'helps', u'coach', u\"phil's\", u'team', u'spend', u'too', u'much', u'of', u'the', u'movie', u'on', u'the', u'bench', u'and', u'while', u\"they're\", u'there', u'the', u'jokes', u'run', u'thin'], tags=['row_501']),\n",
       " TaggedDocument(words=[u'even', u'a', u'soccersavvy', u'audience', u'has', u'better', u'things', u'to', u'do', u'like', u'instilling', u'unsportsmanlike', u'behavior', u'in', u'their', u'kids', u'or', u'sabotaging', u'rival', u'teams'], tags=['row_502']),\n",
       " TaggedDocument(words=[u'most', u'of', u'the', u'time', u'the', u'kids', u'go', u'along', u'most', u'of', u'the', u'time', u'we', u'do', u'too'], tags=['row_503']),\n",
       " TaggedDocument(words=[u'a', u'limping', u'string', u'of', u'laboured', u'sight', u'gags', u'and', u'sentimental', u'cliches'], tags=['row_504']),\n",
       " TaggedDocument(words=[u\"doesn't\", u'quite', u'deliver', u'the', u'comedy', u'goods', u'but', u'it', u'plays', u'well', u'in', u'spurts', u'and', u'thanks', u'to', u'ferrell', u'remains', u'slightly', u'offkilter'], tags=['row_505']),\n",
       " TaggedDocument(words=[u'the', u'sort', u'of', u'almostthere', u'family', u'movie', u'for', u'which', u'halfstars', u'exist', u'in', u'ratings'], tags=['row_506']),\n",
       " TaggedDocument(words=[u'rather', u'shakily', u'directed', u'by', u'jesse', u'son', u'of', u'bob', u'dylan', u'who', u'possibly', u'knows', u'something', u'about', u'largerthanlife', u'fathers'], tags=['row_507']),\n",
       " TaggedDocument(words=[u'the', u'kind', u'of', u'movie', u'that', u'makes', u'you', u'wonder', u'why', u'anyone', u'would', u'even', u'bother', u'making', u'it', u'in', u'the', u'first', u'place'], tags=['row_508']),\n",
       " TaggedDocument(words=[u'a', u'good', u'script', u'is', u'the', u'most', u'essential', u'ingredient', u'for', u'a', u'good', u'movie', u'hiring', u'a', u'comedian', u\"isn't\", u'enough'], tags=['row_509']),\n",
       " TaggedDocument(words=[u'without', u'a', u'doubt', u'the', u'most', u'emotionally', u'powerful', u'and', u'handsomely', u'mounted', u'production', u'of', u'the', u'story', u'yet'], tags=['row_510']),\n",
       " TaggedDocument(words=[u'the', u\"movie's\", u'whole', u'virtuous', u'conception', u'of', u'jean', u'valjean', u'sticks', u'in', u'my', u'craw', u\"he's\", u'haunted', u'and', u'hunted', u'but', u'he', u'reeks', u'of', u'a', u'reasoned', u'noble', u'superiority', u\"that's\", u'a', u'pretty', u'sterile', u'quality', u'in', u'the', u'hero', u'of', u'an', u'epic'], tags=['row_511']),\n",
       " TaggedDocument(words=[u'with', u'a', u'firstrate', u'cast', u'and', u'a', u'venerable', u'storytelling', u'style', u'it', u'fluently', u'condenses', u'victor', u\"hugo's\", u'epic', u'novel', u'and', u'retrieves', u'some', u'of', u'its', u'suspenseful', u'momentum'], tags=['row_512']),\n",
       " TaggedDocument(words=[u'towering', u'over', u'the', u'entire', u'film', u'is', u'liam', u'neeson', u'the', u'irish', u'actor', u'who', u'seems', u'at', u'home', u'in', u'any', u'kind', u'of', u'picture', u'whether', u'it', u'transpires', u'in', u'contemporary', u'america', u'world', u'war', u'ii', u'germany', u'or', u'centuriesago', u'scotland'], tags=['row_513']),\n",
       " TaggedDocument(words=[u'it', u'never', u'sinks', u'but', u'it', u'never', u'really', u'soars', u'either', u'though', u'here', u'and', u'there', u'it', u'hits', u'a', u'powerful', u'moment'], tags=['row_514']),\n",
       " TaggedDocument(words=[u'it', u'contains', u'the', u'moments', u'of', u'high', u'drama', u'clearly', u'outlines', u'all', u'the', u'motivations', u'is', u'easy', u'to', u'follow', u'and', u'lacks', u'only', u'passion', u'a', u'story', u'filled', u'with', u'outrage', u'and', u'idealism', u'becomes', u'somehow', u'merely', u'picturesque'], tags=['row_515']),\n",
       " TaggedDocument(words=[u\"don't\", u'blame', u'the', u'leads', u'but', u'the', u'movie', u'has', u'less', u'emotional', u'resonance', u'than', u'an', u'old', u'ftd', u'florist', u'commercial', u'with', u'merlin', u'olsen'], tags=['row_516']),\n",
       " TaggedDocument(words=[u'a', u'moronic', u'buddy', u'comedy', u'with', u'a', u'fuzzywuzzy', u'coating'], tags=['row_517']),\n",
       " TaggedDocument(words=[u'based', u'on', u'a', u'short', u'story', u'by', u'the', u'great', u'nutball', u'scifi', u'writer', u'philip', u'k', u'dick', u'screamers', u'is', u'more', u'like', u'a', u'highpitched', u'ripoff', u'of', u'alien'], tags=['row_518']),\n",
       " TaggedDocument(words=[u'a', u'fun', u'fastpaced', u'futuristic', u'thriller', u'with', u'enough', u'jolts', u'per', u'frame', u'to', u'keep', u'even', u'the', u'most', u'impatient', u'action', u'fan', u'happy'], tags=['row_519']),\n",
       " TaggedDocument(words=[u'the', u'design', u'and', u'effects', u'teams', u'have', u'lent', u'scale', u'and', u'impact', u'to', u'the', u'futuristic', u'locations', u'and', u'sets', u'if', u'only', u\"duguay's\", u'flashy', u'aimless', u'direction', u'had', u'succeeded', u'in', u'filling', u'these', u'barren', u'wastes', u'and', u'antiseptic', u'interiors', u'with', u'something', u'resembling', u'human', u'life'], tags=['row_520']),\n",
       " TaggedDocument(words=[u'until', u'it', u'succumbs', u'to', u'one', u'cliche', u'too', u'many', u'screamers', u'which', u'was', u'directed', u'by', u'christian', u'duguay', u'does', u'an', u'efficient', u'job', u'of', u'generating', u'a', u'stomachknotting', u'tension'], tags=['row_521']),\n",
       " TaggedDocument(words=[u\"there's\", u'nothing', u'exhilarating', u'or', u'enjoyable', u'in', u'any', u'of', u'this'], tags=['row_522']),\n",
       " TaggedDocument(words=[u'screamers', u'oozes', u'atmosphere', u\"it's\", u'a', u'dark', u'film', u'that', u'borrows', u'heavily', u'from', u'the', u'likes', u'of', u'the', u'alien', u'films', u'dune', u'blade', u'runner', u'and', u'john', u\"carpenter's\", u'updated', u'the', u'thing'], tags=['row_523']),\n",
       " TaggedDocument(words=[u'a', u'pile', u'of', u'recycled', u'space', u'junk', u'it', u'alienates', u'even', u'while', u'flinging', u'body', u'parts', u'into', u'the', u\"audience's\", u'yawning', u'faces'], tags=['row_524']),\n",
       " TaggedDocument(words=[u\"it's\", u'not', u'exactly', u'a', u'bad', u'movie', u\"it's\", u'made', u'with', u'a', u'certain', u'imagination', u'and', u'intelligence', u'but', u'its', u'future', u'is', u'so', u'grungy', u'and', u'grim', u'it', u'makes', u'our', u'current', u'mess', u'look', u'like', u'utopia'], tags=['row_525']),\n",
       " TaggedDocument(words=[u'in', u'its', u'last', u'minutes', u'screamers', u'becomes', u'the', u'last', u'thing', u'it', u'intends', u'to', u'be', u'laughable'], tags=['row_526']),\n",
       " TaggedDocument(words=[u'as', u'recorded', u'in', u'the', u'great', u'wealth', u'of', u'documentary', u'footage', u'ofteringer', u'has', u'assembled', u'the', u'cheekbones', u'slowly', u'collapse', u'and', u'the', u'blue', u'eyes', u'become', u'watery', u'their', u'owner', u'becoming', u'more', u'and', u'more', u'dependent', u'on', u'hard', u'drugs', u'and', u'fast', u'living'], tags=['row_527']),\n",
       " TaggedDocument(words=[u'with', u'extraordinary', u'technique', u'ofteringer', u'paints', u'a', u'moody', u'melancholy', u'picture', u'of', u'a', u'legend', u'who', u'decayed', u'into', u'the', u'ghost', u'of', u'herself'], tags=['row_528']),\n",
       " TaggedDocument(words=[u'that', u'voyeuristic', u'fascination', u'with', u'doomed', u'glamour', u'is', u'one', u'of', u'the', u'guilty', u'pleasures', u'of', u'susanne', u\"ofteringer's\", u'utterly', u'haunting', u'documentary', u'film', u'nico', u'icon'], tags=['row_529']),\n",
       " TaggedDocument(words=[u'nicoicon', u'is', u'more', u'than', u'the', u'investigation', u'of', u'a', u'doomed', u'celebrity', u\"it's\", u'also', u'a', u'mirror', u'reflecting', u'her', u'friends', u'her', u'audience', u'and', u'pop', u'culture'], tags=['row_530']),\n",
       " TaggedDocument(words=[u'though', u'nico', u'icon', u'is', u'replete', u'with', u'fascinating', u'tidbits', u'about', u'the', u'modelturned', u\"singer's\", u'opinions', u'and', u'lovers', u'it', u'does', u'little', u'to', u'bring', u'us', u'understanding', u'of', u'the', u'real', u'person'], tags=['row_531']),\n",
       " TaggedDocument(words=[u'the', u'movie', u'has', u'no', u'moral', u'or', u'message', u'does', u'not', u'attempt', u'to', u'rehabilitate', u'nico', u'as', u'an', u'antiheroine', u'and', u'finds', u'mostly', u'emptiness', u'and', u'sadness', u'in', u'her', u'life', u'i', u'have', u'a', u'feeling', u'nico', u'would', u'have', u'enjoyed', u'it'], tags=['row_532']),\n",
       " TaggedDocument(words=[u'though', u'penn', u\"doesn't\", u'always', u'seem', u'to', u'know', u'where', u\"he's\", u'going', u'his', u'movie', u\"doesn't\", u'altogether', u'miss', u'its', u'destination'], tags=['row_533']),\n",
       " TaggedDocument(words=[u'moore', u'needs', u'the', u'juror', u'like', u'she', u'needs', u'another', u'scarlet', u'letter', u'the', u\"'dfordopey'\", u'here', u'is', u'hanging', u'down', u'to', u\"everyone's\", u'knees'], tags=['row_534']),\n",
       " TaggedDocument(words=[u'by', u'putting', u'itself', u'in', u'sync', u'with', u'the', u'rhythms', u'of', u'everyday', u'life', u'it', u'offers', u'a', u'reminder', u'that', u'the', u'simplest', u'forms', u'of', u'filmmaking', u'can', u'be', u'the', u'most', u'satisfying'], tags=['row_535']),\n",
       " TaggedDocument(words=[u'we', u'need', u'to', u'fall', u'in', u'love', u'with', u'razieh', u'to', u'see', u'the', u'film', u'properly', u'and', u'we', u'do'], tags=['row_536']),\n",
       " TaggedDocument(words=[u'panahi', u'has', u'much', u'the', u'same', u'kind', u'of', u'talent', u'a', u'concern', u'to', u'make', u'his', u'film', u'a', u'kind', u'of', u'home', u'for', u'its', u'characters', u'but', u'he', u'has', u'not', u'yet', u'found', u\"kiarostami's\", u'secret', u'how', u'to', u'find', u'and', u'hold', u'the', u'still', u'point', u'of', u'the', u'turning', u'world'], tags=['row_537']),\n",
       " TaggedDocument(words=[u'raziah', u'takes', u'everything', u'at', u'face', u'value', u'forcing', u'us', u'to', u'look', u'again', u'at', u'people', u'and', u'situations', u'we', u'would', u'immediately', u'judge', u'as', u'good', u'or', u'bad', u'reason', u'enough', u'to', u'see', u'this', u'film'], tags=['row_538']),\n",
       " TaggedDocument(words=[u'panahi', u'brings', u'film', u'back', u'to', u'its', u'elemental', u'magic'], tags=['row_539']),\n",
       " TaggedDocument(words=[u'memorably', u'simple', u'memorably', u'resonant'], tags=['row_540']),\n",
       " TaggedDocument(words=[u'there', u'are', u'long', u'stretches', u'of', u'well', u'real', u'time'], tags=['row_541']),\n",
       " TaggedDocument(words=[u'those', u'with', u'the', u'patience', u'to', u'sit', u'through', u'all', u'eightyfive', u'minutes', u'will', u'uncover', u'a', u'sublime', u'unconventionally', u'engrossing', u'story'], tags=['row_542']),\n",
       " TaggedDocument(words=[u'yet', u'another', u'debut', u'about', u'urban', u'lowlifes', u'filmed', u'by', u'wannabe', u'tarantinos', u'denver', u'boasts', u'a', u'distinctive', u'personality', u'and', u'a', u'colorful', u'cast', u'that', u'any', u'police', u'lineup', u'would', u'be', u'proud', u'to', u'call', u'its', u'own'], tags=['row_543']),\n",
       " TaggedDocument(words=[u'odd', u'feminist', u'fun'], tags=['row_544']),\n",
       " TaggedDocument(words=[u'here', u'is', u'female', u'empowerment', u'as', u\"you've\", u'never', u'seen', u'it', u'on', u'screen', u'before', u'with', u'the', u'narrative', u'daring', u'to', u'make', u'no', u'compromises', u'at', u'all'], tags=['row_545']),\n",
       " TaggedDocument(words=[u'written', u'and', u'directed', u'with', u'quirky', u'charm', u'by', u'marleen', u'gorris'], tags=['row_546']),\n",
       " TaggedDocument(words=[u'pleasant', u'if', u'tooprecious'], tags=['row_547']),\n",
       " TaggedDocument(words=[u'this', u'is', u'the', u'rare', u'film', u'that', u'does', u'actually', u'succeed', u'in', u'suggesting', u'the', u'experience', u'of', u'a', u'lifetime'], tags=['row_548']),\n",
       " TaggedDocument(words=[u'gorris', u'has', u'fashioned', u'a', u'rare', u'and', u'wonderful', u'world', u'capable', u'of', u'provoking', u'both', u'laughter', u'and', u'tears', u'sometimes', u'at', u'the', u'same', u'time'], tags=['row_549']),\n",
       " TaggedDocument(words=[u'even', u'if', u'gorris', u'is', u'too', u'optimistic', u'i', u'am', u'glad', u'her', u'movie', u'made', u'me', u'feel', u'hopeful', u'and', u'cheerful'], tags=['row_550']),\n",
       " TaggedDocument(words=[u\"it's\", u'an', u'ambitious', u'project', u'this', u'telling', u'of', u'a', u'whole', u'life', u'as', u'well', u'as', u'its', u'consequences', u'and', u'gorris', u'manages', u'to', u'pull', u'it', u'off'], tags=['row_551']),\n",
       " TaggedDocument(words=[u'antonia', u'is', u'obviously', u'our', u'point', u'person', u'here', u'but', u\"she's\", u'such', u'a', u'sour', u'pickle', u'that', u'you', u'never', u'get', u'to', u'ease', u'into', u'her', u'story'], tags=['row_552']),\n",
       " TaggedDocument(words=[u'based', u'on', u'clifton', u\"taulbert's\", u'book', u'this', u'sensitive', u'memory', u'film', u'about', u'the', u\"author's\", u'coming', u'of', u'age', u'in', u'the', u'segregated', u'south', u'is', u'an', u'emotionally', u'quiet', u'saga', u'plaved', u'against', u'a', u'tumultuous', u'era', u'in', u'black', u'communal', u'life'], tags=['row_553']),\n",
       " TaggedDocument(words=[u'though', u'the', u'film', u'exhibits', u'a', u'vaguely', u'nostalgic', u'tone', u\"it's\", u'hardly', u'sugarcoated', u'displaying', u'an', u'increasingly', u'discernible', u'edge', u'to', u'its', u'portrayal', u'of', u'racist', u'realities'], tags=['row_554']),\n",
       " TaggedDocument(words=[u'no', u'matter', u'what', u'you', u'think', u'this', u'adaptation', u'of', u'as', u\"byatt's\", u'novella', u'morpho', u'eugenia', u'sounds', u'like', u\"it's\", u'better', u'and', u'certainly', u'kinkier', u'than', u'your', u'best', u'parlorgame', u'guess'], tags=['row_555']),\n",
       " TaggedDocument(words=[u'the', u'filmmakers', u'take', u'a', u'rather', u'facile', u'anachronistic', u'oprahesque', u'approach', u'toward', u'the', u\"boys'\", u'feelings', u'about', u'their', u'families', u'and', u'the', u\"skipper's\", u'role', u'as', u'a', u'tough', u'loveminded', u'surrogate', u'father'], tags=['row_556']),\n",
       " TaggedDocument(words=[u'this', u'particular', u'landlubber', u'felt', u'like', u'jelly', u'for', u'the', u'rest', u'of', u'the', u'day', u'notwithstanding', u'the', u'hokey', u'courtroom', u'showdown', u'that', u'closes', u'the', u'picture'], tags=['row_557']),\n",
       " TaggedDocument(words=[u'despite', u'great', u'scenery', u'the', u'distinctive', u'visual', u'ideas', u'of', u'mr', u'scott', u'alien', u'blade', u'runner', u'and', u'the', u'strong', u'dramatic', u'presence', u'of', u'mr', u'bridges', u'most', u'of', u'white', u'squall', u'remains', u'listless', u'and', u'tame'], tags=['row_558']),\n",
       " TaggedDocument(words=[u'typically', u'bridges', u'gives', u'a', u'deftly', u'understated', u'performance', u'uncluttered', u'by', u'vanity', u'or', u'shallow', u'pathos', u'no', u'wonder', u\"he's\", u'not', u'a', u'star'], tags=['row_559']),\n",
       " TaggedDocument(words=[u'the', u'20', u'or', u'so', u'minutes', u'we', u'spend', u'with', u'the', u'albatross', u'in', u'the', u'squall', u'is', u'high', u'adventure', u'to', u'be', u'sure', u'everything', u'else', u'is', u'ballast'], tags=['row_560']),\n",
       " TaggedDocument(words=[u'far', u'too', u'much', u'of', u'this', u'handsomely', u'mounted', u'adventure', u'is', u'devoted', u'to', u'routinely', u'dramatized', u'adolescent', u'minutiae'], tags=['row_561']),\n",
       " TaggedDocument(words=[u'the', u'heavyhandedness', u'of', u'these', u'final', u'scenes', u'will', u'probably', u'ruin', u'the', u'movie', u'for', u'some', u'people', u'while', u'others', u'will', u'enjoy', u'its', u'earnestness', u'and', u'energy', u'count', u'me', u'among', u'the', u'latter', u'group'], tags=['row_562']),\n",
       " TaggedDocument(words=[u'director', u'ridley', u'scott', u'who', u'more', u'than', u'anyone', u'else', u'founded', u'post1960s', u'visceral', u'filmmaking', u'is', u'at', u'the', u'top', u'of', u'his', u'form', u'in', u'white', u'squall'], tags=['row_563']),\n",
       " TaggedDocument(words=[u'the', u\"movie's\", u'a', u'shipload', u'of', u'comingofage', u'blather', u'supplemented', u'with', u'enough', u'rollingsea', u'footage', u'to', u'make', u'the', u'audience', u'yearn', u'for', u'both', u'dramamine', u'and', u'a', u'decent', u'drowning', u'scene'], tags=['row_564']),\n",
       " TaggedDocument(words=[u'this', u'film', u'offers', u'just', u'about', u'everything', u'including', u'a', u'twentyminute', u'whiteknuckle', u'sequence', u'and', u'a', u'chance', u'to', u'shed', u'a', u'few', u'tears', u'in', u'short', u\"it's\", u'firstrate', u'entertainment'], tags=['row_565']),\n",
       " TaggedDocument(words=[u'although', u'only', u'slightly', u'more', u'than', u'two', u'hours', u'the', u'film', u'seems', u'becalmed', u'for', u'days', u'in', u'what', u'seems', u'a', u'dramatic', u'doldrum'], tags=['row_566']),\n",
       " TaggedDocument(words=[u'i', u'enjoyed', u'the', u'movie', u'for', u'the', u'sheer', u'physical', u'exuberance', u'of', u'its', u'adventure'], tags=['row_567']),\n",
       " TaggedDocument(words=[u'this', u'rousing', u'salute', u'to', u'the', u'power', u'of', u'the', u'elements', u'the', u'lost', u'innocence', u'of', u'the', u'kennedy', u'era', u'and', u'the', u'goodness', u'of', u'young', u'men', u'when', u'they', u'are', u'allowed', u'to', u'ripen', u'with', u'their', u'shirts', u'off', u'is', u'above', u'all', u'a', u'tone', u'poem'], tags=['row_568']),\n",
       " TaggedDocument(words=[u\"it's\", u'a', u'firstclass', u'stylish', u'farce', u'with', u'a', u'brisk', u'pace', u'and', u'cool', u'wit'], tags=['row_569']),\n",
       " TaggedDocument(words=[u'an', u'unruly', u'orangutan', u'plus', u'an', u'opulent', u'hotel', u'setting', u'equals', u'a', u'natural', u'disaster', u'or', u'in', u'this', u'case', u'a', u\"kids'\", u'movie'], tags=['row_570']),\n",
       " TaggedDocument(words=[u'there', u\"isn't\", u'much', u'of', u'a', u'story', u'the', u'minimal', u'plot', u'exists', u'exclusively', u'to', u'get', u'the', u'orangutan', u'dunston', u'played', u'by', u'sam', u'into', u'as', u'many', u'odd', u'potentiallycomic', u'circumstances', u'as', u'possible'], tags=['row_571']),\n",
       " TaggedDocument(words=[u'the', u'performances', u'may', u'be', u'uneven', u'but', u'the', u'flawed', u'characters', u'are', u'believable', u'the', u'sheep', u'surprisingly', u'scary', u'and', u'the', u'animal', u'antics', u'often', u'laughoutloud', u'funny'], tags=['row_572']),\n",
       " TaggedDocument(words=[u'this', u'lurid', u'lunacy', u'from', u'new', u'zealand', u'is', u'a', u'horrorhumor', u'crossbreed', u'of', u'animal', u'lore', u'and', u'giddy', u'gore'], tags=['row_573']),\n",
       " TaggedDocument(words=[u'anyone', u'lacking', u'a', u'taste', u'for', u'red', u'meat', u'will', u'likely', u'say', u'bah', u'to', u'the', u'onejoke', u'juiciness', u'of', u'black', u'sheep', u'but', u'ovine', u'enthusiasts', u'will', u'be', u'licking', u'their', u'chops'], tags=['row_574']),\n",
       " TaggedDocument(words=[u'stunning', u'vistas', u'of', u'new', u\"zealand's\", u'rolling', u'countryside', u\"aren't\", u'enough', u'to', u'carry', u'this', u'lame', u'2006', u'horror', u'spoof', u'about', u'a', u'lab', u'experiment', u'gone', u'awry'], tags=['row_575']),\n",
       " TaggedDocument(words=[u'the', u'most', u'gruesomely', u'satisfying', u'spectacle', u'for', u'hardcore', u'environmentalists', u'would', u'be', u'that', u'of', u'a', u'group', u'of', u'foreign', u'investors', u'in', u'the', u'evil', u'enterprise', u'being', u'gobbled', u'up', u'by', u'a', u'flock', u'of', u'rampaging', u'sheep'], tags=['row_576']),\n",
       " TaggedDocument(words=[u'black', u'sheep', u'never', u'rises', u'above', u'sensation', u'and', u'splatter', u'or', u'goes', u'beyond', u'the', u'one', u'thing', u'it', u'does', u'best', u'it', u'bites'], tags=['row_577']),\n",
       " TaggedDocument(words=[u'black', u'sheep', u'is', u'never', u'very', u'frightening', u'but', u\"it's\", u'clever', u'and', u'fun', u'with', u'a', u'memorable', u'amount', u'of', u'humor', u'and', u'gore', u'imagine', u'if', u'the', u'monty', u'python', u'folks', u'made', u'the', u'killer', u'rabbit', u'part', u'from', u'holy', u'grail', u'into', u'a', u'fulllength', u'movie'], tags=['row_578']),\n",
       " TaggedDocument(words=[u'like', u'snakes', u'on', u'a', u'plane', u'the', u'whole', u'movie', u'is', u'essentially', u'contained', u'within', u'the', u'title', u'all', u'the', u'picture', u'itself', u'does', u'is', u'to', u'repeat', u'that', u'concept', u'for', u'87', u'minutes'], tags=['row_579']),\n",
       " TaggedDocument(words=[u\"it's\", u'the', u'triumph', u'of', u'the', u'lambs'], tags=['row_580']),\n",
       " TaggedDocument(words=[u'i', u'suspect', u'director', u'jonathan', u\"king's\", u'next', u'film', u'will', u'be', u'better'], tags=['row_581']),\n",
       " TaggedDocument(words=[u'a', u'strenuous', u'goof', u'one', u'that', u'will', u'test', u'your', u'tolerance', u'for', u'the', u'violence', u'of', u'the', u'lambs'], tags=['row_582']),\n",
       " TaggedDocument(words=[u'i', u'pretty', u'much', u'hated', u'it', u'like', u'the', u'zombie', u'spoof', u'fido', u'from', u'a', u'couple', u'of', u'weeks', u'ago', u'this', u'is', u'a', u'onejoke', u'movie', u'and', u'the', u'one', u'joke', u'gets', u'old', u'fast'], tags=['row_583']),\n",
       " TaggedDocument(words=[u'only', u'a', u'12yearold', u'boy', u'would', u'view', u'this', u'collection', u'of', u'squishy', u'grotesqueries', u'and', u'squirting', u'arteries', u'as', u'perfect', u'fridaynight', u'entertainment'], tags=['row_584']),\n",
       " TaggedDocument(words=[u'black', u'sheep', u'is', u'essentially', u'a', u'silly', u'grisly', u'elaboration', u'of', u'a', u'simple', u'idea', u'what', u'if', u'sheep', u'started', u'feasting', u'on', u'human', u'flesh', u'and', u'turning', u'their', u'victims', u'into', u'huge', u'ovine', u'zombies'], tags=['row_585']),\n",
       " TaggedDocument(words=[u'a', u'onejoke', u'skit', u'that', u'trots', u'in', u'a', u'straight', u'line', u'and', u'your', u'enjoyment', u'of', u'it', u'will', u'depend', u'entirely', u'on', u'how', u'many', u'times', u'you', u'need', u'to', u'see', u'gonzo', u'sheep', u'rip', u'out', u'human', u'entrails'], tags=['row_586']),\n",
       " TaggedDocument(words=[u'rife', u'with', u'bloody', u'gore', u'and', u'funny', u'gags'], tags=['row_587']),\n",
       " TaggedDocument(words=[u\"it's\", u'still', u'relatively', u'early', u'in', u'2007', u'but', u'this', u'wry', u'comedy', u'about', u'sheep', u'gone', u'baaaaad', u'promises', u'to', u'be', u'the', u'best', u'vampireflesheating', u'livestock', u'movie', u'of', u'the', u'year'], tags=['row_588']),\n",
       " TaggedDocument(words=[u'absurdly', u'magnificently', u'gruesome'], tags=['row_589']),\n",
       " TaggedDocument(words=[u'the', u'most', u'preposterous', u'movie', u'in', u'theaters', u\"isn't\", u'the', u'ace', u'ventura', u'sequel', u'or', u'even', u'money', u'train', u'but', u'this', u'wannabe', u'nailbiter'], tags=['row_590']),\n",
       " TaggedDocument(words=[u'the', u'film', u'is', u'too', u'mannered', u'too', u'stuffy'], tags=['row_591']),\n",
       " TaggedDocument(words=[u'sluggish', u'and', u'interminable', u'mary', u'reilly', u'makes', u'good', u'on', u'little', u'of', u'its', u'potential', u'to', u'be', u'disturbing', u'and', u'none', u'of', u'its', u'chance', u'to', u'be', u'emotionally', u'involving'], tags=['row_592']),\n",
       " TaggedDocument(words=[u'unfortunately', u'your', u'response', u'to', u'the', u'bizarre', u'story', u'of', u'terror', u'and', u'lust', u'that', u'dare', u'not', u'speak', u'their', u'name', u'is', u'pretty', u'well', u'limited', u'to', u\"roberts'\", u'response', u'which', u'is', u'in', u'turn', u'limited', u'by', u'her', u'technique'], tags=['row_593']),\n",
       " TaggedDocument(words=[u'a', u'perversely', u'courageous', u'disaster', u'that', u'audiences', u'will', u'simply', u'hate'], tags=['row_594']),\n",
       " TaggedDocument(words=[u'mary', u'reilly', u'is', u'haunting', u'not', u'only', u'because', u'of', u'its', u'foggy', u'shadowy', u'settings', u'but', u'because', u'of', u'the', u'questions', u'it', u'encourages', u'us', u'to', u'ask', u'about', u'ourselves', u'and', u'others'], tags=['row_595']),\n",
       " TaggedDocument(words=[u'mary', u'reilly', u'works', u'as', u'gothic', u'melodrama', u'because', u'it', u'understands', u'the', u'genre', u'so', u'well'], tags=['row_596']),\n",
       " TaggedDocument(words=[u'the', u'story', u'lacks', u'purpose'], tags=['row_597']),\n",
       " TaggedDocument(words=[u'director', u'frears', u'seems', u'more', u'interested', u'in', u'the', u'atmosphere', u'than', u'the', u'narrative'], tags=['row_598']),\n",
       " TaggedDocument(words=[u'vampire', u'in', u'brooklyn', u'is', u'neither', u'funny', u'nor', u'frightening', u'and', u'comes', u'up', u'a', u'tedious', u'middleroad', u'hybrid', u'from', u'veteran', u'scaremeister', u'wes', u'craven', u'who', u'directed'], tags=['row_599']),\n",
       " TaggedDocument(words=[u'neither', u'as', u'good', u'as', u'it', u'might', u'be', u'nor', u'as', u'bad', u'as', u'you', u'might', u'expect'], tags=['row_600']),\n",
       " TaggedDocument(words=[u'to', u'call', u'this', u'a', u'comedy', u'is', u'a', u'sign', u'of', u'optimism', u'to', u'call', u'it', u'a', u'comeback', u'for', u'murphy', u'is', u'a', u'sign', u'of', u'blind', u'faith'], tags=['row_601']),\n",
       " TaggedDocument(words=[u\"murphy's\", u'pale', u'efforts', u'are', u'enough', u'to', u'make', u'one', u'fondly', u'recall', u'blacula', u'now', u'that', u'was', u'one', u'sucker', u'who', u'knew', u'how', u'to', u'make', u'a', u'film', u'that', u\"didn't\"], tags=['row_602']),\n",
       " TaggedDocument(words=[u\"they're\", u'no', u'match', u'though', u'for', u'the', u'crushing', u'disappointment', u'of', u'having', u'to', u'watch', u'murphy', u'on', u'the', u'comic', u'sidelines', u\"it's\", u'like', u'going', u'to', u'a', u'barbra', u'streisand', u'concert', u'and', u'being', u'asked', u'to', u'listen', u'with', u'her', u'while', u'the', u'rhythm', u'section', u'sings'], tags=['row_603']),\n",
       " TaggedDocument(words=[u\"doesn't\", u'live', u'up', u'to', u'its', u'promise', u'or', u'premise'], tags=['row_604']),\n",
       " TaggedDocument(words=[u'this', u'modern', u'fable', u'is', u'little', u'more', u'than', u'a', u'murphy', u'potboiler', u'something', u'to', u'while', u'away', u'a', u'couple', u'of', u'hours', u'rather', u'than', u'fondly', u'remember'], tags=['row_605']),\n",
       " TaggedDocument(words=[u'craven', u\"can't\", u'keep', u'the', u'comic', u'elements', u'in', u'balance', u'with', u'the', u'horror', u'and', u'as', u'a', u'result', u\"there's\", u'no', u'tension', u'or', u'dramatic', u'pull'], tags=['row_606']),\n",
       " TaggedDocument(words=[u'beautiful', u'girls', u'is', u'always', u'in', u'touch', u'with', u'reality', u'but', u'never', u'drowned', u'in', u'it'], tags=['row_607']),\n",
       " TaggedDocument(words=[u'this', u'startlingly', u'uneventful', u'compendium', u'of', u'thickheaded', u'boytalk', u'and', u'female', u'tolerance', u'squanders', u'a', u'fine', u'cast', u'on', u'incredibly', u'ordinary', u'characters', u'and', u'situations'], tags=['row_608']),\n",
       " TaggedDocument(words=[u'women', u'may', u'be', u'unimpressed', u'but', u'men', u'will', u'squirm', u'with', u'recognition'], tags=['row_609']),\n",
       " TaggedDocument(words=[u\"it's\", u'the', u'women', u'who', u'break', u'the', u'monotony', u'of', u'this', u'dudesinflux', u'saga'], tags=['row_610']),\n",
       " TaggedDocument(words=[u'in', u'a', u'relationship', u'that', u'skirts', u'bad', u'taste', u'hutton', u'and', u'portman', u'make', u'tender', u'movie', u'magic', u'giving', u'this', u'bigscreen', u'spin', u'on', u'friends', u'its', u'only', u'moments', u'of', u'true', u'romantic', u'yearning'], tags=['row_611']),\n",
       " TaggedDocument(words=[u'the', u'dialogue', u\"isn't\", u'the', u'only', u'problem', u'with', u'beautiful', u'girls', u'the', u'characters', u'are', u'bad', u'too'], tags=['row_612']),\n",
       " TaggedDocument(words=[u\"what's\", u'nicest', u'about', u'the', u'film', u'is', u'the', u'way', u'it', u'treasures', u'the', u'good', u'feelings', u'people', u'can', u'have', u'for', u'one', u'another'], tags=['row_613']),\n",
       " TaggedDocument(words=[u'hutton', u'understated', u'but', u'not', u'bland', u'for', u'a', u'change', u'gives', u'his', u'best', u'performance', u'in', u'years'], tags=['row_614']),\n",
       " TaggedDocument(words=[u'portman', u'a', u'budding', u'knockout', u'is', u'scenestealingly', u'good', u'even', u'in', u'an', u'overly', u'showy', u'role'], tags=['row_615']),\n",
       " TaggedDocument(words=[u'the', u'movie', u'is', u'wry', u'touching', u'and', u'fun', u'to', u'sit', u'through'], tags=['row_616']),\n",
       " TaggedDocument(words=[u'portman', u'was', u'memorable', u'as', u'the', u'little', u'girl', u'in', u'the', u'professional', u'but', u'her', u'work', u'here', u'throws', u'off', u'an', u'eeriness', u'in', u'its', u'revelation', u'of', u'such', u'huge', u'talent', u'in', u'one', u'so', u'young'], tags=['row_617']),\n",
       " TaggedDocument(words=[u'borrowing', u'heavily', u'from', u'other', u'better', u'films', u'director', u'ted', u'demme', u'and', u'screenwriter', u'scott', u'rosenberg', u'give', u'each', u'of', u'their', u'male', u'protagonists', u'a', u'case', u'of', u'commitment', u'angst'], tags=['row_618']),\n",
       " TaggedDocument(words=[u'the', u'movie', u'lacks', u'the', u'stature', u'or', u'consistency', u'to', u'be', u'truly', u'beautiful', u'but', u'you', u'know', u'it', u'is', u'kind', u'of', u'cute'], tags=['row_619']),\n",
       " TaggedDocument(words=[u'there', u'is', u'absolutely', u'nothing', u'going', u'on', u'in', u'beautiful', u'girls', u'that', u'you', u\"haven't\", u'seen', u'in', u'any', u'other', u'artistic', u'endeavor', u'in', u'which', u'untethered', u'young', u'men', u'and', u'women', u'bound', u'by', u'geography', u'and', u'fortified', u'by', u'beer', u'shamble', u'their', u'way', u'toward', u'overdue', u'maturity'], tags=['row_620']),\n",
       " TaggedDocument(words=[u'directed', u'with', u'the', u'keen', u'action', u'instincts', u'woo', u'brought', u'to', u'the', u'killer', u'hardboiled', u'and', u'other', u'cult', u'causes', u'from', u'his', u'career', u'in', u'hong', u'kong'], tags=['row_621']),\n",
       " TaggedDocument(words=[u'an', u'inoffensive', u'trifle'], tags=['row_622']),\n",
       " TaggedDocument(words=[u'writerdirector', u'mathieu', u'kassovitz', u'mines', u'so', u'much', u'tension', u'and', u'pointed', u'dialogue', u'from', u'a', u'low', u'budget', u'and', u'deceptively', u'simple', u'premise', u'that', u'you', u'wonder', u'why', u'so', u'much', u'of', u'current', u\"hollywood's\", u'own', u'social', u'realism', u'ends', u'up', u'shooting', u'50', u'million', u'blanks'], tags=['row_623']),\n",
       " TaggedDocument(words=[u'hate', u'is', u'i', u'suppose', u'a', u'generation', u'x', u'film', u'whatever', u'that', u'means', u'but', u'more', u'mature', u'and', u'insightful', u'than', u'the', u'american', u'gen', u'x', u'movies'], tags=['row_624']),\n",
       " TaggedDocument(words=[u\"jaglom's\", u'concentrated', u'approach', u'serves', u'up', u'some', u'insight', u'to', u'be', u'sure', u'but', u'the', u'movie', u'states', u'its', u'case', u'in', u'the', u'first', u'10', u'minutes', u'and', u'then', u'proceeds', u'to', u'run', u'out', u'of', u'things', u'to', u'say', u'almost', u'as', u'quickly', u'as', u'the', u'women', u'in', u'this', u'movie', u'think', u\"they've\", u'run', u'out', u'of', u'things', u'to', u'wear'], tags=['row_625']),\n",
       " TaggedDocument(words=[u'alleges', u'support', u'of', u'women', u'yet', u'fetishizes', u'their', u'objects', u'instead', u'of', u'their', u'relationships'], tags=['row_626']),\n",
       " TaggedDocument(words=[u'henry', u\"jaglom's\", u'going', u'shopping', u'is', u'a', u'nifty', u'little', u'oddity', u'another', u'of', u'his', u'unlikely', u'entertaining', u'movie', u'hybrids'], tags=['row_627']),\n",
       " TaggedDocument(words=[u\"it's\", u'the', u'last', u'and', u'least', u'successful', u'of', u'indie', u'director', u'henry', u\"jaglom's\", u'trilogy', u'looking', u'at', u'female', u'issues'], tags=['row_628']),\n",
       " TaggedDocument(words=[u'the', u'trouble', u'with', u'going', u'shopping', u'is', u'that', u\"it's\", u'clogged', u'with', u'personalities', u'and', u'styles', u'that', u\"don't\", u'congeal'], tags=['row_629']),\n",
       " TaggedDocument(words=[u'going', u'shopping', u'can', u'make', u'a', u'wonderful', u'outing', u'for', u'girlfriends', u\"it's\", u'fun'], tags=['row_630']),\n",
       " TaggedDocument(words=[u'going', u'shopping', u'is', u'sharp', u'and', u'funny', u'about', u'all', u'the', u'things', u'that', u'shopping', u'can', u'mean', u'to', u'the', u'women', u'who', u'live', u'to', u'do', u'it', u'and', u'even', u'to', u'those', u'who', u\"don't\"], tags=['row_631']),\n",
       " TaggedDocument(words=[u'at', u'times', u'movies', u'seem', u'rife', u'with', u'misogyny', u'yet', u'jaglom', u'consistently', u'expresses', u'a', u'love', u'for', u'women', u'in', u'his', u'films'], tags=['row_632']),\n",
       " TaggedDocument(words=[u'inadvertently', u'reduces', u'women', u'to', u'a', u'variety', u'of', u'cliches', u'probably', u'reinforcing', u'many', u\"men's\", u'worst', u'fears'], tags=['row_633']),\n",
       " TaggedDocument(words=[u'not', u'only', u'is', u'indulgence', u'a', u'frequent', u'subject', u'for', u'jaglom', u'it', u'also', u'sums', u'up', u'what', u'his', u'movies', u'do', u'and', u'what', u'they', u'demand', u'from', u'their', u'audience', u'sometimes', u'to', u'tedious', u'degrees'], tags=['row_634']),\n",
       " TaggedDocument(words=[u'none', u'of', u'these', u'is', u'a', u'character', u'you', u'want', u'to', u'spend', u'much', u'time', u'with', u'and', u'even', u'with', u'the', u'diverting', u'guest', u'appearances', u'this', u'is', u'still', u'strictly', u'discount', u'merchandise'], tags=['row_635']),\n",
       " TaggedDocument(words=[u'comes', u'as', u'close', u'as', u'any', u'film', u'to', u'explaining', u'what', u'the', u'deal', u'is', u'with', u'women', u'and', u'shopping'], tags=['row_636']),\n",
       " TaggedDocument(words=[u'has', u'enough', u'moments', u'of', u'insight', u'to', u'blunt', u'charges', u'of', u'sexist', u'stereotyping'], tags=['row_637']),\n",
       " TaggedDocument(words=[u'zeroes', u'in', u'on', u'retail', u'mania', u'with', u'a', u'flimsy', u'wire', u'hanger', u'of', u'a', u'premise'], tags=['row_638']),\n",
       " TaggedDocument(words=[u'going', u'shoppinghas', u'enough', u'smart', u'knowing', u'touches', u'and', u'enough', u'easy', u'spontaneity', u'among', u'its', u'wellchosen', u'actors', u'to', u'make', u'you', u'wish', u'it', u'added', u'up', u'to', u'more', u'than', u'what', u'it', u'turns', u'out', u'to', u'be', u'a', u'flighty', u'motormouthed', u'cinematic', u'divertissement'], tags=['row_639']),\n",
       " TaggedDocument(words=[u'henry', u'jaglom', u'completes', u'his', u'informal', u'trilogy', u'on', u'estrogenlaced', u'obsessions', u'with', u'this', u'seriocomic', u'exploration', u'of', u'women', u'and', u'clothes'], tags=['row_640']),\n",
       " TaggedDocument(words=[u'henry', u\"jaglom's\", u'latest', u'study', u'of', u'contemporary', u'female', u'obsessions', u'among', u'a', u'noxious', u'clan', u'of', u'west', u'la', u'bourgeoisie', u'is', u'of', u'more', u'pathological', u'than', u'cinematic', u'interest'], tags=['row_641']),\n",
       " TaggedDocument(words=[u'a', u'superior', u'example', u'of', u'ambush', u'journalism'], tags=['row_642']),\n",
       " TaggedDocument(words=[u'its', u'chief', u'pleasure', u'is', u'the', u'acting', u'of', u'the', u'big', u'cast', u'notably', u'pacino', u'at', u'55', u'he', u'has', u'a', u'haggard', u'lifewrestling', u'beauty', u'and', u'a', u'street', u'eloquence', u'that', u'has', u'more', u'innocence', u'than', u'de', u'niro', u'and', u'more', u'sincerity', u'than', u'nicholson'], tags=['row_643']),\n",
       " TaggedDocument(words=[u'a', u'watchable', u'but', u'never', u'pulsating', u'portrait', u'of', u'mayoral', u'wheelingdealing'], tags=['row_644']),\n",
       " TaggedDocument(words=[u'works', u'on', u'its', u'own', u'modest', u'limited', u'terms', u'and', u'despite', u'the', u'obvious', u'fun', u'involved', u'never', u'feels', u'selfindulgent'], tags=['row_645']),\n",
       " TaggedDocument(words=[u'i', u\"can't\", u'recommend', u'the', u'film', u\"it's\", u'too', u'unwound', u'and', u'indulgent', u'but', u'i', u'have', u'a', u'certain', u'affection', u'for', u'it', u'and', u\"i'm\", u'looking', u'forward', u'to', u'whatever', u'anderson', u'and', u'the', u'wilsons', u'do', u'next'], tags=['row_646']),\n",
       " TaggedDocument(words=[u'a', u'mildly', u'facetious', u'tone', u'limits', u\"anderson's\", u'film', u'to', u'the', u'lightweight', u'but', u'the', u'collective', u'enthusiasm', u'behind', u'this', u'debut', u'effort', u'still', u'comes', u'through'], tags=['row_647']),\n",
       " TaggedDocument(words=[u'a', u'little', u'deal', u'this', u'movie', u'is', u'like', u'a', u'bottle', u'rocket', u'itself', u'a', u'big', u'bang', u'for', u'the', u'money'], tags=['row_648']),\n",
       " TaggedDocument(words=[u'gets', u'by', u'on', u'quirky', u'charm', u'and', u'slacker', u'chic', u'but', u'just', u'barely'], tags=['row_649']),\n",
       " TaggedDocument(words=[u'starts', u'and', u'finishes', u'strong', u'but', u'somewhere', u'in', u'the', u'middle', u'it', u'loses', u'its', u'focus', u'and', u'its', u'way'], tags=['row_650']),\n",
       " TaggedDocument(words=[u'a', u'hilarious', u'inventive', u'and', u'goofy', u'breath', u'of', u'fresh', u'air'], tags=['row_651']),\n",
       " TaggedDocument(words=[u'a', u'grueling', u'numbing', u'black', u'hole'], tags=['row_652']),\n",
       " TaggedDocument(words=[u'the', u'hip', u'smart', u'yarn', u'has', u'a', u'bite', u'not', u'seen', u'in', u'american', u'movies', u'since', u'the', u'war', u'of', u'the', u'roses'], tags=['row_653']),\n",
       " TaggedDocument(words=[u'a', u'dreadful', u'movie'], tags=['row_654']),\n",
       " TaggedDocument(words=[u'this', u'is', u'a', u'romantic', u'comedy', u'parody', u'but', u'how', u'can', u'you', u'satirize', u'something', u\"that's\", u'a', u'comedy', u'to', u'begin', u'with', u'if', u'this', u'motion', u'picture', u'is', u'an', u'example', u'not', u'only', u\"can't\", u'it', u'be', u'done', u'but', u'the', u'result', u'is', u'downright', u'ugly'], tags=['row_655']),\n",
       " TaggedDocument(words=[u'a', u'sour', u'listless', u'debunking', u'of', u'romantic', u'comedies'], tags=['row_656']),\n",
       " TaggedDocument(words=[u'like', u'its', u'title', u'character', u'mr', u'wrong', u\"doesn't\", u'know', u'when', u'to', u'quit'], tags=['row_657']),\n",
       " TaggedDocument(words=[u'as', u'directed', u'sloppily', u'by', u'nick', u'castle', u'this', u'comedy', u'barely', u'lets', u'its', u'main', u'characters', u'develop', u'even', u'though', u'either', u'of', u'them', u'could', u'be', u'great', u'fun'], tags=['row_658']),\n",
       " TaggedDocument(words=[u'pullman', u'who', u'can', u'usually', u'shade', u'a', u'character', u'so', u'subtly', u'between', u'sweetie', u'and', u'sucker', u'is', u'made', u'to', u'veer', u'manically', u'into', u'jerkhood', u'for', u'no', u'particular', u'reason', u'except', u'that', u'the', u'filmmakers', u\"couldn't\", u'come', u'up', u'with', u'anything', u'smarter', u'to', u'propel', u'this', u'galumphing', u'caper', u'along'], tags=['row_659']),\n",
       " TaggedDocument(words=[u'a', u'bgrade', u'murder', u'mystery', u'with', u'a', u'scifi', u'twist'], tags=['row_660']),\n",
       " TaggedDocument(words=[u'a', u'onejoke', u'caddyshack', u'for', u'the', u'blitzed', u'and', u'jaded'], tags=['row_661']),\n",
       " TaggedDocument(words=[u'there', u'are', u'about', u'three', u'minutes', u'of', u'funny', u'material', u'in', u'happy', u'gilmore', u'and', u'pretty', u'much', u'all', u'of', u'them', u'are', u'in', u'the', u'trailer'], tags=['row_662']),\n",
       " TaggedDocument(words=[u'superior', u'disposable', u'comedy'], tags=['row_663']),\n",
       " TaggedDocument(words=[u'it', u'may', u'smell', u'awful', u'from', u'a', u'distance', u'especially', u'if', u'you', u'have', u'low', u'tolerance', u'for', u'lowbrow', u'humor', u'but', u'up', u'close', u'this', u'yarn', u'about', u'an', u'unlikely', u'golf', u'star', u'is', u'fairly', u'painless'], tags=['row_664']),\n",
       " TaggedDocument(words=[u'you', u\"don't\", u'feel', u'that', u'sandler', u'and', u'director', u'dennis', u'dugan', u'are', u'trying', u'for', u'the', u'kind', u'of', u'subversiveness', u'that', u'might', u'just', u'make', u\"happy's\", u'brutal', u'anarchy', u'more', u'effective'], tags=['row_665']),\n",
       " TaggedDocument(words=[u\"happy's\", u'tantrums', u'which', u'the', u'movie', u'pretends', u'are', u'liberating', u'explosions', u'of', u'selfexpression', u\"aren't\", u'nearly', u'maniacal', u'enough', u'to', u'reach', u'comic', u'delirium'], tags=['row_666']),\n",
       " TaggedDocument(words=[u'sandler', u'plays', u'this', u'a', u'lot', u'smarter', u'than', u'say', u'a', u'jim', u'carrey', u'character', u'and', u'with', u'less', u'slapstick', u'still', u'this', u'is', u'not', u'delicate', u'subtle', u'stuff', u\"it's\", u'smart', u'lowbrow', u'and', u'only', u'for', u'those', u'who', u'like', u'their', u'humor', u'a', u'bit', u'offbeat'], tags=['row_667']),\n",
       " TaggedDocument(words=[u'the', u'story', u'has', u'all', u'the', u'thickness', u'of', u'a', u'welltrimmed', u'green', u'but', u\"it's\", u'a', u'decent', u'excuse', u'for', u'some', u'heady', u'sight', u'gags'], tags=['row_668']),\n",
       " TaggedDocument(words=[u'the', u'happy', u'gilmore', u'character', u'is', u'strange', u'i', u'guess', u'we', u'are', u'supposed', u'to', u'like', u'him'], tags=['row_669']),\n",
       " TaggedDocument(words=[u'happy', u'gilmore', u'may', u'not', u'be', u'an', u'ace', u'in', u'the', u'hole', u'but', u'it', u'beats', u'par', u'by', u'a', u'long', u'shot'], tags=['row_670']),\n",
       " TaggedDocument(words=[u\"sandler's\", u'movie', u'is', u'worth', u'a', u'few', u'laughs', u'but', u'not', u'many', u'of', u'the', u'comic', u'sequences', u'are', u'original', u'and', u'even', u'fewer', u'are', u'inspired'], tags=['row_671']),\n",
       " TaggedDocument(words=[u'with', u'eastwood', u'as', u'kincaid', u'and', u'meryl', u'streep', u'as', u'francesca', u'this', u'carefully', u'observant', u'love', u'story', u'turns', u\"waller's\", u'poplit', u'passion', u'into', u'screen', u'art'], tags=['row_672']),\n",
       " TaggedDocument(words=[u'bridges', u'is', u'an', u'admirable', u'achievement', u'one', u'that', u'probably', u'does', u'more', u'to', u'reposition', u'its', u'maker', u'as', u'someone', u'who', u'can', u'carry', u'a', u'movie', u'without', u'carrying', u'a', u'gun', u'than', u'as', u'the', u'directorstar', u'of', u'a', u'love', u'story', u'for', u'the', u'loving', u'care', u'set'], tags=['row_673']),\n",
       " TaggedDocument(words=[u'the', u'result', u'if', u'rather', u'thin', u'and', u'certainly', u'far', u'from', u'a', u'masterpiece', u'is', u'nevertheless', u'quite', u'lovely', u'this', u'affecting', u'little', u'film', u'is', u'easily', u'one', u'of', u\"eastwood's\", u'best', u'efforts', u'as', u'a', u'director'], tags=['row_674']),\n",
       " TaggedDocument(words=[u'the', u'two', u\"leads'\", u'sly', u'comic', u'rhythm', u'is', u'miles', u'removed', u'from', u'the', u\"book's\", u'failing', u'solemnity'], tags=['row_675']),\n",
       " TaggedDocument(words=[u\"eastwood's\", u'bridges', u'has', u'the', u'energy', u'and', u'spontaneity', u'of', u'a', u'picture', u'that', u'was', u'shot', u'quickly', u'and', u'that', u'serves', u'the', u'material', u'well', u'because', u'it', u'removes', u'the', u'solemnity', u'that', u'could', u'stiffle', u'a', u'modern', u'classic'], tags=['row_676']),\n",
       " TaggedDocument(words=[u'despite', u'all', u'his', u'craft', u'and', u'sincerity', u'eastwood', u'and', u'screenwriter', u'richard', u'lagravenese', u\"can't\", u'quite', u'turn', u'robert', u'james', u\"waller's\", u'cardboard', u'bestseller', u'into', u'flesh', u'and', u'bone'], tags=['row_677']),\n",
       " TaggedDocument(words=[u'bridges', u'is', u'an', u'oldfashioned', u\"women's\", u'film', u'that', u'pits', u'the', u\"heroine's\", u'romantic', u'urges', u'against', u'her', u'matriarchal', u'duties', u'in', u'fact', u'the', u'film', u'is', u'at', u'its', u'dramatic', u'best', u'when', u'francesca', u'is', u'finally', u'obliged', u'like', u'sophie', u'to', u'make', u'her', u'choice'], tags=['row_678']),\n",
       " TaggedDocument(words=[u'streep', u'makes', u'her', u'character', u'known', u'in', u'no', u'time', u'flat', u'intelligence', u'humor', u'blocked', u'ambition', u'selfirony', u\"they're\", u'all', u'contained', u'in', u\"francesca's\", u'quick', u'response', u'when', u'robert', u'asks', u'if', u'she', u'has', u'any', u'plans', u'for', u'the', u'afternoon'], tags=['row_679']),\n",
       " TaggedDocument(words=[u'meryl', u'streep', u'and', u'clint', u'eastwood', u'as', u\"waller's\", u'tenderly', u'plaintive', u'heartland', u'lovers', u'are', u'so', u'visually', u'and', u'spiritually', u'right', u'they', u'seem', u'to', u'have', u'walked', u'right', u'off', u'the', u'page'], tags=['row_680']),\n",
       " TaggedDocument(words=[u'what', u'follows', u'is', u'essentially', u'gothicromantic', u'bunk', u'but', u\"there's\", u'a', u'nicely', u'stylized', u'belowthesurface', u'courtship', u'between', u'the', u'performers', u'they', u'make', u'you', u'forget', u'that', u'at', u'their', u'very', u'core', u'they', u'are', u'hackneyed', u'creations'], tags=['row_681']),\n",
       " TaggedDocument(words=[u'madison', u'county', u'is', u\"eastwood's\", u'gift', u'to', u'women', u'to', u'francesca', u'to', u'all', u'the', u'girls', u\"he's\", u'loved', u'before', u'and', u'to', u'streep', u'who', u'alchemizes', u'literary', u'mawkishness', u'into', u'intelligent', u'movie', u'passion'], tags=['row_682']),\n",
       " TaggedDocument(words=[u'given', u'the', u'intelligent', u'restraint', u'of', u'the', u'treatment', u'this', u'is', u'about', u'as', u'fine', u'an', u'adaptation', u'of', u'this', u'material', u'as', u'one', u'could', u'hope', u'for'], tags=['row_683']),\n",
       " TaggedDocument(words=[u'immaculately', u'performed', u'and', u'assembled', u'with', u'wit', u'and', u'sensitivity', u'this', u'is', u'one', u'of', u'the', u'most', u'satisfying', u'weepies', u'in', u'years'], tags=['row_684']),\n",
       " TaggedDocument(words=[u'limited', u'by', u'the', u'vapidity', u'of', u'this', u'material', u'while', u'he', u'trims', u'its', u'excesses', u'with', u'the', u'requisite', u'machete', u'mr', u'eastwood', u'locates', u'a', u'moving', u'elegiac', u'love', u'story', u'at', u'the', u'heart', u'of', u'mr', u\"waller's\", u'selfcongratulatory', u'overkill'], tags=['row_685']),\n",
       " TaggedDocument(words=[u'what', u'the', u'movie', u'does', u'that', u'the', u'book', u\"couldn't\", u'do', u'is', u'tap', u'into', u'the', u'poignancy', u'that', u'comes', u'of', u'seeing', u'two', u'stars', u'who', u'used', u'to', u'be', u'young', u'and', u'beautiful', u'suddenly', u'looking', u'very', u'mortal'], tags=['row_686']),\n",
       " TaggedDocument(words=[u'screenwriter', u'lagravenese', u'ought', u'to', u'get', u'the', u'croix', u'de', u'guerre', u'for', u'doing', u'battle', u'with', u\"waller's\", u'fatuous', u'prose', u'and', u'paring', u'bridges', u'down', u'to', u'its', u'most', u'appealing', u'fantasy', u'romance', u'essence'], tags=['row_687']),\n",
       " TaggedDocument(words=[u'the', u'bridges', u'of', u'madison', u'county', u'is', u'a', u'beautiful', u'film', u'not', u'only', u'in', u'the', u'way', u'it', u'was', u'photographed', u'but', u'for', u'the', u'manner', u'through', u'which', u'the', u'characters', u'are', u'revealed', u'to', u'us'], tags=['row_688']),\n",
       " TaggedDocument(words=[u\"i've\", u'seen', u'the', u'movie', u'twice', u'now', u'and', u'was', u'even', u'more', u'involved', u'the', u'second', u'time', u'because', u'i', u'was', u'able', u'to', u'pay', u'more', u'attention', u'to', u'the', u'nuances', u'of', u'voice', u'and', u'gesture'], tags=['row_689']),\n",
       " TaggedDocument(words=[u'the', u'gap', u'between', u'touchyfeely', u'and', u'touching', u\"isn't\", u'easy', u'to', u'span', u'so', u'credit', u'judicious', u'pruning', u'on', u'the', u'one', u'hand', u'and', u'a', u'beefedup', u'script', u'on', u'the', u'other', u'for', u'getting', u'perhaps', u'the', u'best', u'possible', u'movie', u'out', u'of', u'robert', u'james', u\"waller's\", u'the', u'bridges', u'of', u'madison', u'county'], tags=['row_690']),\n",
       " TaggedDocument(words=[u'geena', u'davis', u'and', u'renny', u'harlin', u\"couldn't\", u'cut', u'it', u'with', u'cutthroat', u'island', u'steven', u'spielberg', u'nearly', u'got', u'the', u'hook', u'for', u'hook', u'but', u'leave', u'it', u'to', u'miss', u'piggy', u'and', u'kermit', u'to', u'discover', u'uncharted', u'gold', u'in', u'the', u'shipwreckedpirate', u'genre'], tags=['row_691']),\n",
       " TaggedDocument(words=[u'in', u'this', u'mix', u'of', u'historical', u'tragedy', u'and', u'hip', u'adventure', u'gibson', u'may', u'be', u'as', u'galvanic', u'a', u'movie', u'swashbuckler', u'as', u'errol', u'flynn', u'and', u'burt', u'lancaster', u'were', u'in', u'their', u'day'], tags=['row_692']),\n",
       " TaggedDocument(words=[u'the', u'political', u'argument', u'that', u'ensues', u'is', u'pretty', u'dull', u'but', u'the', u'battle', u'scenes', u'are', u'the', u'loudest', u'and', u'most', u'convincing', u'in', u'years', u'gibson', u'has', u'learned', u'from', u'kurosawa', u'in', u'lending', u'a', u'clarifying', u'thrust', u'to', u'what', u'is', u'essentially', u'chaos'], tags=['row_693']),\n",
       " TaggedDocument(words=[u'braveheart', u'looks', u'like', u'a', u'true', u'epic', u'even', u'if', u'it', u'is', u'both', u'bloody', u'and', u'bloody', u'long'], tags=['row_694']),\n",
       " TaggedDocument(words=[u'a', u'huge', u'bloody', u'and', u'sprawling', u'epic', u'braveheart', u'is', u'the', u'sort', u'of', u'massive', u'vanity', u'piece', u'that', u'would', u'be', u'easy', u'to', u'disparage', u'if', u'it', u\"didn't\", u'essentially', u'deliver'], tags=['row_695']),\n",
       " TaggedDocument(words=[u'pure', u'hokum'], tags=['row_696']),\n",
       " TaggedDocument(words=[u'though', u'the', u'film', u'dawdles', u'a', u'bit', u'with', u'the', u'shimmery', u'dappled', u'love', u'stuff', u'involving', u'wallace', u'with', u'a', u'scottish', u'peasant', u'and', u'a', u'french', u'princess', u'the', u'action', u'will', u'pin', u'you', u'to', u'your', u'seat'], tags=['row_697']),\n",
       " TaggedDocument(words=[u'as', u'a', u'filmmaker', u'gibson', u'lacks', u'the', u'epic', u'gift', u'but', u'the', u'movie', u'scripted', u'by', u'randall', u'no', u'relation', u'wallace', u'works', u'on', u'a', u'fairly', u'basic', u'level', u'as', u'a', u'hisstheenglish', u'medieval', u'western'], tags=['row_698']),\n",
       " TaggedDocument(words=[u'braveheart', u'opts', u'to', u'turn', u'cowardly', u'settling', u'for', u'the', u'magnification', u'of', u\"gibson's\", u'idol', u'status', u'forfeiting', u'the', u'complex', u'more', u'nebulous', u'magnificence', u'of', u'the', u'real', u'sir', u'william', u'wallace', u'and', u'virtually', u'excising', u'the', u'strategic', u'brilliance', u'of', u'robert', u'the', u'bruce'], tags=['row_699']),\n",
       " TaggedDocument(words=[u\"there's\", u'a', u'matteroffact', u'grittiness', u'about', u'braveheart', u'that', u'infects', u'even', u'its', u'occasional', u'touches', u'of', u'mysticism', u'and', u'photogenic', u'romance'], tags=['row_700']),\n",
       " TaggedDocument(words=[u'at', u'times', u'the', u'film', u'seems', u'an', u'obsessive', u'ode', u'to', u'mel', u'gibson', u'machismo'], tags=['row_701']),\n",
       " TaggedDocument(words=[u\"gibson's\", u'raw', u'energy', u'and', u'storytelling', u'power', u'in', u'braveheart', u'are', u'undeniable', u'if', u'the', u'film', u\"doesn't\", u'meet', u'his', u'ambitions', u\"it's\", u'because', u'he', u'set', u'the', u'bar', u'so', u'high'], tags=['row_702']),\n",
       " TaggedDocument(words=[u'with', u'its', u'clashing', u'armies', u'heartstopping', u'action', u'and', u'grand', u'sense', u'of', u'romance', u'this', u'is', u'the', u'sort', u'of', u'film', u\"it's\", u'a', u'pleasure', u'to', u'see', u'and', u'review'], tags=['row_703']),\n",
       " TaggedDocument(words=[u'an', u'action', u'epic', u'with', u'the', u'spirit', u'of', u'the', u'hollywood', u'swordplay', u'classics', u'and', u'the', u'grungy', u'ferocity', u'of', u'the', u'road', u'warrior'], tags=['row_704']),\n",
       " TaggedDocument(words=[u'a', u'rambling', u'disappointment'], tags=['row_705']),\n",
       " TaggedDocument(words=[u'one', u'of', u'the', u'most', u'spectacular', u'entertainments', u'in', u'years'], tags=['row_706']),\n",
       " TaggedDocument(words=[u'gibson', u'has', u'created', u'a', u'completely', u'adequate', u'modern', u'facsimile', u'of', u'the', u'classic', u'romantic', u'epic'], tags=['row_707']),\n",
       " TaggedDocument(words=[u'though', u'lumpy', u'and', u'even', u'redundant', u'braveheart', u'constantly', u'rebounds', u'on', u'some', u'bold', u'note'], tags=['row_708']),\n",
       " TaggedDocument(words=[u'everybody', u'knows', u'that', u'a', u'nonblubbering', u'clause', u'is', u'standard', u'in', u'all', u'movie', u\"stars'\", u'contracts', u'too', u'bad', u'there', u\"isn't\", u'one', u'banning', u'selfindulgence', u'when', u'they', u'direct'], tags=['row_709']),\n",
       " TaggedDocument(words=[u'it', u'takes', u'a', u'real', u'star', u'to', u'make', u'suffering', u'this', u'sexy'], tags=['row_710']),\n",
       " TaggedDocument(words=[u\"it's\", u'a', u'powerful', u'film', u'and', u'a', u'terrific', u'showcase', u'for', u'the', u'versatility', u'of', u'star', u'robert', u'de', u'niro'], tags=['row_711']),\n",
       " TaggedDocument(words=[u'bickle', u'is', u'complex', u'intriguing', u'and', u'never', u'onenote'], tags=['row_712']),\n",
       " TaggedDocument(words=[u'like', u'werner', u\"herzog's\", u'aguirre', u'or', u\"coppola's\", u'apocalypse', u'now', u'taxi', u'driver', u'is', u'auteurist', u'psychodrama'], tags=['row_713']),\n",
       " TaggedDocument(words=[u'scorsese', u'seems', u'to', u'need', u'scripts', u'with', u'welldesigned', u'humor', u'and', u'performers', u'with', u'the', u'spirit', u'of', u'ellen', u'burstyn', u'to', u'compensate', u'for', u'what', u'seems', u'to', u'be', u'a', u'fundamentally', u'depressed', u'view', u'of', u'life', u'and', u'the', u'belief', u'that', u'sobriety', u'is', u'the', u'equivalent', u'of', u'seriousness'], tags=['row_714']),\n",
       " TaggedDocument(words=[u'new', u'york', u'may', u'have', u'changed', u'but', u'taxi', u'driver', u'is', u'as', u'powerful', u'and', u'painful', u'as', u'ever'], tags=['row_715']),\n",
       " TaggedDocument(words=[u'martin', u\"scorsese's\", u'historymaking', u'scald', u'is', u'truly', u'a', u'phenomenon', u'from', u'another', u'day', u'and', u'age', u'which', u'is', u'to', u'say', u'imagine', u'a', u'likeminded', u'film', u'of', u'this', u'decade', u'killing', u'at', u'the', u'box', u'office', u'and', u'getting', u'nommed', u'for', u'best', u'picture'], tags=['row_716']),\n",
       " TaggedDocument(words=[u'you', u'may', u'want', u'to', u'argue', u'with', u'taxi', u'driver', u'at', u'the', u'end', u'and', u'with', u'good', u'reason', u'but', u'it', u\"won't\", u'be', u'a', u'waste', u'of', u'time'], tags=['row_717']),\n",
       " TaggedDocument(words=[u'since', u'the', u'mid1970s', u'the', u'movie', u'has', u'become', u'presciently', u'emblematic', u'of', u'our', u'emotionally', u'diseased', u'violenceprone', u'culture'], tags=['row_718']),\n",
       " TaggedDocument(words=[u'the', u'heart', u'and', u'soul', u'of', u'taxi', u'driver', u'are', u'twisted', u'in', u'a', u'way', u'that', u\"can't\", u'be', u'faked', u'or', u'copied'], tags=['row_719']),\n",
       " TaggedDocument(words=[u'one', u'of', u'the', u'best', u'and', u'most', u'powerful', u'of', u'all', u'films'], tags=['row_720']),\n",
       " TaggedDocument(words=[u'a', u'masterful', u'psychological', u'study', u'the', u'depth', u'of', u'which', u'can', u'only', u'fully', u'be', u'appreciated', u'on', u'repeat', u'viewings'], tags=['row_721']),\n",
       " TaggedDocument(words=[u'perhaps', u'the', u'most', u'formally', u'ravishingas', u'well', u'as', u'the', u'most', u'morally', u'and', u'ideologically', u'problematicfilm', u'ever', u'directed', u'by', u'martin', u'scorsese', u'the', u'1976', u'taxi', u'driver', u'remains', u'a', u'disturbing', u'landmark', u'for', u'the', u'kind', u'of', u'voluptuous', u'doublethink', u'it', u'helped', u'ratify'], tags=['row_722']),\n",
       " TaggedDocument(words=[u\"chan's\", u'insistence', u'on', u'his', u'own', u'fallibility', u'and', u'vulnerability', u'taken', u'with', u'virtuoso', u'scenes', u'like', u'the', u'fight', u'involving', u'101', u'domestic', u'appliances', u'shows', u'why', u'he', u'means', u'more', u'to', u'his', u'countless', u'fans', u'than', u'six', u'us', u'action', u'stars', u'put', u'together'], tags=['row_723']),\n",
       " TaggedDocument(words=[u\"it's\", u'light', u'on', u'plot', u'and', u'character', u'but', u'the', u'stunts', u'are', u'well', u'staged'], tags=['row_724']),\n",
       " TaggedDocument(words=[u'for', u'once', u'a', u\"film's\", u'ad', u'line', u'has', u'a', u'whiff', u'of', u'truth', u'about', u'it', u\"'no\", u'fear', u'no', u'stuntman', u'no', u\"equal'\"], tags=['row_725']),\n",
       " TaggedDocument(words=[u'the', u'fun', u'of', u'rumble', u'in', u'the', u'bronx', u'is', u'watching', u'chan', u'build', u'up', u'one', u'inventive', u'and', u'offthewall', u'action', u'scene', u'after', u'another'], tags=['row_726']),\n",
       " TaggedDocument(words=[u'an', u'awkward', u'hybrid', u'of', u'asian', u'and', u'american', u'film', u'techniques'], tags=['row_727']),\n",
       " TaggedDocument(words=[u'the', u'whole', u'point', u'is', u'jackie', u'chan', u'and', u'like', u'astaire', u'and', u'rogers', u'he', u'does', u'what', u'he', u'does', u'better', u'than', u'anybody'], tags=['row_728']),\n",
       " TaggedDocument(words=[u\"it's\", u'not', u'often', u'you', u'find', u'a', u'movie', u'as', u'exciting', u'and', u'awful', u'as', u'rumble', u'in', u'the', u'bronx'], tags=['row_729']),\n",
       " TaggedDocument(words=[u'unlike', u'most', u'action', u'stars', u'chan', u'understands', u'acting', u'his', u'face', u'is', u'as', u'flexible', u'as', u'his', u'body', u'and', u'when', u\"he's\", u'moving', u\"he's\", u'like', u'a', u'violent', u'supercharged', u'combination', u'of', u'gene', u'kelly', u'fred', u'astaire', u'and', u'buster', u'keaton'], tags=['row_730']),\n",
       " TaggedDocument(words=[u'you', u'can', u'smirk', u'at', u'rumble', u'and', u'deny', u'its', u'pedigree', u'with', u'some', u'justification', u'as', u'long', u'as', u'you', u'concede', u'that', u\"it's\", u'10', u'times', u'more', u'fun', u'to', u'watch', u'than', u'before', u'and', u'after', u'and', u'mary', u'reilly', u'put', u'together'], tags=['row_731']),\n",
       " TaggedDocument(words=[u'aweinspiring'], tags=['row_732']),\n",
       " TaggedDocument(words=[u'the', u'very', u'medium', u'of', u'the', u'moving', u'picture', u'exists', u'to', u'create', u'the', u'suspension', u'of', u'disbelief', u'and', u'there', u'is', u'no', u'greater', u'live', u'performer', u'than', u'chan', u'to', u'make', u'us', u'believe', u'you', u'can', u'beat', u'up', u'a', u'street', u'gang', u'with', u'a', u'linen', u'jacket', u'and', u'refrigerators'], tags=['row_733']),\n",
       " TaggedDocument(words=[u'a', u'giddy', u'triple', u'somersault', u'of', u'a', u'film', u'that', u'makes', u'no', u'sense', u'whatsoever', u'although', u'in', u'its', u'best', u'moments', u'it', u'is', u'as', u'much', u'fun', u'to', u'watch', u'as', u'a', u'deathdefying', u'circus', u'act'], tags=['row_734']),\n",
       " TaggedDocument(words=[u'more', u'than', u'a', u'martial', u'arts', u'whiz', u'the', u'41yearold', u'chan', u'possesses', u'the', u'comic', u'timing', u'of', u'a', u'born', u'clown', u'the', u'grace', u'of', u'a', u'broadway', u'hoofer', u'and', u'the', u'daredevil', u'bravado', u'of', u'an', u'evel', u'knievel'], tags=['row_735']),\n",
       " TaggedDocument(words=[u'the', u'film', u'may', u'look', u'amateurish', u'but', u'the', u'camerawork', u'is', u'fluid', u'the', u'best', u'to', u'catch', u\"chan's\", u'choreography'], tags=['row_736']),\n",
       " TaggedDocument(words=[u'as', u'the', u'star', u'cheerfully', u'camouflages', u'massive', u'bandages', u'on', u'a', u'twisted', u'ankle', u'we', u'also', u'get', u'a', u'glimpse', u'of', u'just', u'how', u'far', u'chan', u'is', u'willing', u'to', u'go', u'to', u'please', u'his', u'audience'], tags=['row_737']),\n",
       " TaggedDocument(words=[u'as', u'the', u'guy', u'who', u'cleans', u'up', u'a', u'ghetto', u'helps', u'a', u'crippled', u'kid', u'and', u'does', u'battle', u'with', u'a', u'rampaging', u'hovercraft', u'chan', u'shows', u'off', u'the', u'muscle', u'of', u'a', u'superhero', u'and', u'the', u'charm', u'of', u'a', u'deft', u'comedian'], tags=['row_738']),\n",
       " TaggedDocument(words=[u'chan', u'doing', u'everything', u'at', u'once', u'including', u'all', u'his', u'own', u'stunts', u'has', u'an', u'infectious', u'energy', u'that', u'will', u'help', u'to', u'remind', u'you', u'why', u'you', u'love', u'movies'], tags=['row_739']),\n",
       " TaggedDocument(words=[u'despite', u'meryl', u'streep', u'liam', u'neeson', u'and', u'the', u'usually', u'estimable', u'edward', u'furlong', u'this', u'nonevent', u'huffs', u'and', u'puffs', u'to', u'attain', u'even', u'the', u'level', u'of', u'an', u'ordinary', u'motion', u'picture'], tags=['row_740']),\n",
       " TaggedDocument(words=[u'new', u'insignts', u'about', u\"anne's\", u'spicy', u'personality', u'and', u'immense', u'curiosity', u'are', u'revealed', u'by', u'holocaust', u'survivors', u'hanneli', u'goslar', u'and', u'particularly', u'miep', u'gies', u'an', u'office', u'employee', u'of', u\"anne's\", u'father', u'who', u'was', u'one', u'of', u'the', u'main', u'helpers', u'to', u'the', u'families', u'in', u'hiding'], tags=['row_741']),\n",
       " TaggedDocument(words=[u'just', u'when', u'you', u'might', u'well', u'have', u'thought', u'that', u'pretty', u'much', u'all', u'had', u'been', u'said', u'and', u'done', u'about', u'anne', u'frank', u'this', u'film', u'makes', u'us', u'realize', u'how', u'much', u'there', u'still', u'is', u'to', u'know', u'about', u'her', u'and', u'her', u'times'], tags=['row_742']),\n",
       " TaggedDocument(words=[u'remarkable', u'deeply', u'moving', u'work', u'that', u'attempts', u'to', u'answer', u'the', u'haunting', u'question', u'who', u'was', u'anne', u'frank'], tags=['row_743']),\n",
       " TaggedDocument(words=[u'if', u'the', u'story', u'of', u'each', u'of', u\"hitler's\", u'victims', u'was', u'told', u'with', u'the', u'sensitivity', u'and', u'power', u'of', u'anne', u'frank', u'remembered', u'there', u'would', u'not', u'be', u'enough', u'buckets', u'in', u'the', u'world', u'to', u'hold', u'all', u'the', u'tears'], tags=['row_744']),\n",
       " TaggedDocument(words=[u\"anne's\", u'story', u'of', u'courage', u'in', u'the', u'face', u'of', u'horrendous', u'circumstances', u'is', u'a', u'fine', u'legacy', u'and', u'anne', u'frank', u'remembered', u'reaffirms', u'how', u'relevant', u'her', u'message', u'is', u'today'], tags=['row_745']),\n",
       " TaggedDocument(words=[u'the', u\"film's\", u'accumulated', u'force', u'is', u'a', u'testament', u'to', u'the', u'power', u'of', u'understatement'], tags=['row_746']),\n",
       " TaggedDocument(words=[u'anne', u'frank', u'remembered', u'tells', u'the', u'audience', u'very', u'little', u'about', u'anne', u'but', u'the', u'film', u'speaks', u'volumes', u'concerning', u'the', u'problematic', u'aspects', u'of', u'holocaust', u'representation'], tags=['row_747']),\n",
       " TaggedDocument(words=[u'in', u'the', u\"film's\", u'most', u'extraordinary', u'discovery', u'we', u'see', u'the', u'only', u'existing', u'film', u'footage', u'of', u'anne', u'frank', u'taken', u'one', u'day', u'in', u'1941', u'before', u'the', u'franks', u'went', u'into', u'hiding'], tags=['row_748']),\n",
       " TaggedDocument(words=[u'if', u'this', u'is', u'not', u'the', u'best', u'film', u'about', u'the', u'holocaust', u'it', u'does', u'strongly', u'chronicle', u'the', u'sad', u'fate', u'of', u'one', u'of', u'its', u'most', u'famous', u'victims'], tags=['row_749']),\n",
       " TaggedDocument(words=[u'the', u'interviews', u'constitute', u'the', u'emotional', u'backbone', u'the', u'mere', u'existence', u'of', u'these', u'survivors', u'is', u'eloquent', u'testimony', u'to', u'events', u'so', u'cruel', u'they', u'defy', u'belief'], tags=['row_750']),\n",
       " TaggedDocument(words=[u'of', u'all', u'the', u'movies', u'and', u'television', u'productions', u'that', u'have', u'told', u'her', u'story', u'this', u'is', u'the', u'most', u'valuable', u'and', u'satisfying'], tags=['row_751']),\n",
       " TaggedDocument(words=[u'in', u'retracing', u'the', u'short', u'life', u'and', u'grotesque', u'death', u'of', u'the', u\"century's\", u'best', u'known', u'diarist', u'anna', u'frank', u'it', u'has', u'its', u'own', u'private', u'dignity'], tags=['row_752']),\n",
       " TaggedDocument(words=[u'a', u'tender', u'elaborately', u'detailed', u'account', u'of', u'a', u'life', u'curtailed'], tags=['row_753']),\n",
       " TaggedDocument(words=[u'an', u'accomplishment', u'a', u'genuinely', u'humbling', u'one'], tags=['row_754']),\n",
       " TaggedDocument(words=[u'the', u'film', u'adds', u'little', u'to', u'previous', u'factual', u'knowledge', u'but', u'it', u'deepens', u'our', u'connections', u'with', u'the', u'story', u'through', u'the', u'power', u'of', u'film', u'itself'], tags=['row_755']),\n",
       " TaggedDocument(words=[u'a', u'bleak', u'annoyingly', u'quirky', u'genx', u'recasting', u'of', u'the', u'when', u'harry', u'met', u'sally', u'notion', u'that', u'true', u'love', u'is', u'based', u'on', u'friendship'], tags=['row_756']),\n",
       " TaggedDocument(words=[u'all', u'coy', u'grins', u'and', u'daffy', u'mugging', u'mr', u'stiller', u'plays', u'the', u'role', u'as', u'if', u'aspiring', u'to', u'become', u'the', u'elliott', u'gould', u'of', u'his', u'generation', u'compared', u'with', u'jumping', u'off', u'the', u'brooklyn', u'bridge', u\"that's\", u'a', u'reasonable', u'goal'], tags=['row_757']),\n",
       " TaggedDocument(words=[u'if', u'lucy', u'fell', u'is', u'funnier', u'more', u'often', u'than', u'not', u'and', u'when', u\"it's\", u'not', u'being', u'funny', u\"it's\", u'at', u'least', u'being', u'strange', u\"i'll\", u'take', u'strange', u'over', u'what', u'most', u'majordistributor', u'comedies', u'are', u'when', u\"they're\", u'not', u'being', u'funny'], tags=['row_758']),\n",
       " TaggedDocument(words=[u'there', u'is', u'an', u'affectation', u'that', u'i', u'find', u'particularly', u'annoying', u'and', u'that', u'is', u'when', u'people', u'choose', u'to', u'perform', u'at', u'a', u'level', u'below', u'their', u'natural', u'intelligence'], tags=['row_759']),\n",
       " TaggedDocument(words=[u\"it's\", u'airy', u'fluffy', u'and', u'ultimately', u'uninteresting'], tags=['row_760']),\n",
       " TaggedDocument(words=[u'if', u'lucy', u'fell', u'should', u'be', u'a', u'chore', u'and', u'yet', u'i', u'kept', u'catching', u'myself', u'having', u'a', u'good', u'time'], tags=['row_761']),\n",
       " TaggedDocument(words=[u'sadly', u'the', u'story', u'is', u'nowhere', u'as', u'original', u'as', u'the', u'details', u'and', u'performances'], tags=['row_762']),\n",
       " TaggedDocument(words=[u'a', u'disappointingly', u'superficial', u'romantic', u'comedy', u\"there's\", u'no', u'chemistry', u'between', u'any', u'of', u'the', u'characters', u'the', u'acting', u'is', u'mediocre', u'with', u'schaeffer', u'and', u'parker', u'exhibiting', u'no', u'screen', u'presence'], tags=['row_763']),\n",
       " TaggedDocument(words=[u'overlong', u'and', u'overreaching'], tags=['row_764']),\n",
       " TaggedDocument(words=[u'in', u'boomerang', u'eddie', u'murphy', u'straitjackets', u'himself', u'in', u'an', u'illfitting', u'comedy', u'vehicle', u\"that's\", u'desperately', u'in', u'need', u'of', u'a', u'reality', u'check'], tags=['row_765']),\n",
       " TaggedDocument(words=[u'the', u'general', u'idea', u'is', u'to', u'exploit', u'a', u'certain', u'amount', u'of', u'role', u'reversal', u'and', u'reginald', u'hudlin', u'who', u'directed', u'house', u'party', u'does', u'a', u'fairly', u'good', u'job', u'of', u'making', u'this', u'fun'], tags=['row_766']),\n",
       " TaggedDocument(words=[u'the', u'film', u'is', u'far', u'too', u'slick', u'to', u'be', u'ineffective', u'but', u'its', u'attempts', u'to', u'play', u'with', u'the', u'sexwar', u'theme', u'are', u'often', u'unbelievably', u'crass'], tags=['row_767']),\n",
       " TaggedDocument(words=[u\"there's\", u'something', u'paradoxical', u'about', u'the', u'ease', u'he', u'radiates', u'in', u'playing', u'a', u'man', u'who', u'is', u'supposed', u'to', u'be', u'a', u'smashing', u'success', u'as', u'an', u'underdog', u'mr', u'murphy', u'worked', u'much', u'harder'], tags=['row_768']),\n",
       " TaggedDocument(words=[u'for', u'all', u'the', u'sex', u'talk', u'in', u'boomerang', u\"there's\", u'very', u'little', u'nudity', u'the', u'only', u'thing', u'naked', u'is', u\"murphy's\", u'vanity'], tags=['row_769']),\n",
       " TaggedDocument(words=[u'boomerang', u'is', u'the', u'funniest', u'most', u'sophisticated', u'movie', u'of', u'eddie', u\"murphy's\", u'career'], tags=['row_770']),\n",
       " TaggedDocument(words=[u'whatever', u'murphy', u'was', u'thinking', u'during', u'the', u'dark', u'days', u'of', u'his', u'career', u'slump', u'it', u'seems', u'to', u'have', u'paid', u'off', u'handsomely'], tags=['row_771']),\n",
       " TaggedDocument(words=[u'murphy', u'gives', u'his', u'most', u'appealing', u'performance', u'to', u'date', u'using', u'his', u'smug', u'selfsatisfied', u'sly', u'smile', u'as', u'a', u'joke', u'on', u'his', u'own', u'wellknown', u'screen', u'persona'], tags=['row_772']),\n",
       " TaggedDocument(words=[u'as', u'fresh', u'as', u'falling', u'rain', u'a', u'pair', u'of', u'love', u'stories', u'full', u'of', u'pain', u'and', u'humor'], tags=['row_773']),\n",
       " TaggedDocument(words=[u\"it's\", u'interesting', u'enough', u'to', u'watch', u'for', u'most', u'of', u'its', u'length', u'because', u'of', u\"wong's\", u'incisive', u'camera', u'work', u'and', u'his', u'intense', u'immersion', u'of', u'the', u'hong', u'kong', u'night', u'culture'], tags=['row_774']),\n",
       " TaggedDocument(words=[u'this', u'is', u'the', u'kind', u'of', u'movie', u\"you'll\", u'relate', u'to', u'if', u'you', u'love', u'film', u'itself', u'rather', u'than', u'its', u'surface', u'aspects', u'such', u'as', u'story', u'and', u'stars'], tags=['row_775']),\n",
       " TaggedDocument(words=[u'once', u'the', u'viewer', u'gets', u'past', u'bouts', u'of', u'confusion', u'the', u'film', u'demands', u'more', u'than', u'one', u'viewing', u'the', u'result', u'is', u'a', u'uniquely', u'memorable', u'look', u'at', u'the', u'ties', u'that', u'bind', u'all', u'people'], tags=['row_776']),\n",
       " TaggedDocument(words=[u'a', u'frenetic', u'oneway', u'ride', u'through', u'the', u'land', u'of', u'vaporous', u'plot', u'with', u'stops', u'along', u'the', u'way', u'at', u'irritatingly', u'cute', u'extended', u'metaphor', u'city'], tags=['row_777']),\n",
       " TaggedDocument(words=[u'more', u'impressive', u'than', u'engaging'], tags=['row_778']),\n",
       " TaggedDocument(words=[u'a', u'movie', u'that', u'has', u\"tarantino's\", u'brand', u'of', u'kinetic', u'eccentric', u'energy', u'but', u\"that's\", u'much', u'more', u'soulful'], tags=['row_779']),\n",
       " TaggedDocument(words=[u'the', u'movie', u'is', u'not', u'as', u'special', u'as', u'cinema', u'paradiso', u'but', u'in', u'its', u'own', u'way', u'it', u'is', u'enchanted', u'too', u'mother', u'of', u'god', u'what', u'faces'], tags=['row_780']),\n",
       " TaggedDocument(words=[u'the', u'central', u'story', u'belatedly', u'introduced', u'may', u'prove', u'rudely', u'downbeat', u'for', u'viewers', u'who', u'lapped', u'up', u\"paradiso's\", u'sentiment'], tags=['row_781']),\n",
       " TaggedDocument(words=[u'david', u'o', u'russell', u'has', u'a', u'twisted', u'mind', u'i', u'like', u'that', u'in', u'a', u'man'], tags=['row_782']),\n",
       " TaggedDocument(words=[u'this', u'whackedout', u'road', u'comedy', u'about', u'a', u'young', u\"man's\", u'search', u'for', u'his', u'real', u'parents', u'takes', u'any', u'number', u'of', u'unexpected', u'turns', u'most', u'of', u'them', u'bitingly', u'funny'], tags=['row_783']),\n",
       " TaggedDocument(words=[u'the', u'neurotic', u'frenzy', u'threatens', u'to', u'annoy', u'but', u\"russell's\", u'edgy', u'abbreviated', u'style', u'generates', u'farcical', u'comic', u'friction', u'without', u'sacrificing', u'character'], tags=['row_784']),\n",
       " TaggedDocument(words=[u'there', u'are', u'conventions', u'in', u'this', u'sort', u'of', u'story', u'and', u'russell', u'seems', u'to', u'violate', u'most', u'of', u'them', u'he', u'allows', u'the', u'peculiarities', u'of', u'his', u'characters', u'to', u'lead', u'them', u'away', u'from', u'the', u'plot', u'line', u'and', u'into', u'perplexities', u'of', u'their', u'own'], tags=['row_785']),\n",
       " TaggedDocument(words=[u'hang', u'on', u'and', u'prepare', u'to', u'laugh', u'continually'], tags=['row_786']),\n",
       " TaggedDocument(words=[u'the', u'perpetual', u'motion', u'is', u'a', u'deliciously', u'hysterical', u'rush', u'this', u'offbeat', u'documentarylike', u'comedy', u'becomes', u'geometrically', u'funnier', u'as', u'it', u'goes', u'along'], tags=['row_787']),\n",
       " TaggedDocument(words=[u'a', u'wonderfully', u'mad', u'odyssey', u'of', u'a', u'movie', u'in', u'which', u'a', u'man', u'sets', u'out', u'to', u'find', u'his', u'biological', u'parents', u'and', u'winds', u'up', u'meeting', u'more', u'weirdos', u'than', u'alice', u'found', u'down', u'the', u'rabbit', u'hole'], tags=['row_788']),\n",
       " TaggedDocument(words=[u'the', u'film', u\"isn't\", u'wrenching', u'enough', u'to', u'do', u'it', u'justice'], tags=['row_789']),\n",
       " TaggedDocument(words=[u'if', u'parker', u'had', u'aimed', u'more', u'at', u'capturing', u'the', u\"author's\", u'unique', u'voice', u'and', u'worried', u'less', u'about', u'getting', u'the', u'details', u'right', u'his', u'movie', u'might', u'have', u'been', u'extraordinary'], tags=['row_790']),\n",
       " TaggedDocument(words=[u'there', u'is', u'in', u'the', u'film', u'a', u'beauty', u'and', u'ambition', u'rare', u'in', u'most', u'current', u'movies'], tags=['row_791']),\n",
       " TaggedDocument(words=[u'mostly', u'misses', u'the', u'humor', u'lyricism', u'and', u'emotional', u'charge', u'of', u'frank', u\"mccourt's\", u'magical', u'and', u'magnificent', u'memoir'], tags=['row_792']),\n",
       " TaggedDocument(words=[u'watson', u'the', u'queen', u'of', u'sufferingfemale', u'roles', u'is', u'as', u'good', u'as', u'ever'], tags=['row_793']),\n",
       " TaggedDocument(words=[u\"angela's\", u'ashes', u'is', u'the', u'soggiest', u'dud', u'of', u'all', u'the', u'major', u'holiday', u'releases'], tags=['row_794']),\n",
       " TaggedDocument(words=[u'mostly', u\"it's\", u'a', u'series', u'of', u'visits', u'to', u'the', u'welfare', u'line'], tags=['row_795']),\n",
       " TaggedDocument(words=[u'lacking', u'a', u'heart'], tags=['row_796']),\n",
       " TaggedDocument(words=[u'the', u'film', u'is', u'too', u'often', u'trapped', u'in', u'its', u'own', u'reverence', u'and', u'solemnity'], tags=['row_797']),\n",
       " TaggedDocument(words=[u\"i'm\", u'sure', u'the', u'producers', u'of', u\"angela's\", u'ashes', u'meant', u'well', u'but', u'they', u'got', u'the', u'wrong', u'guy', u'to', u'direct', u'it'], tags=['row_798']),\n",
       " TaggedDocument(words=[u'primitive', u'peoples', u'or', u'so', u\"it's\", u'said', u'resist', u'being', u'photographed', u'believing', u'that', u'the', u'creation', u'of', u'an', u'image', u'robs', u'them', u'of', u'their', u'souls', u'a', u'quaint', u'notion', u'perhaps', u'but', u'how', u'else', u'can', u'you', u'explain', u\"what's\", u'happened', u'to', u\"angela's\", u'ashes'], tags=['row_799']),\n",
       " TaggedDocument(words=[u'for', u'all', u'its', u'fidelity', u'to', u'the', u'spirit', u'and', u'in', u'extended', u'passages', u'to', u'the', u'letter', u'of', u\"mccourt's\", u'book', u'however', u\"parker's\", u'film', u'falls', u'short'], tags=['row_800']),\n",
       " TaggedDocument(words=[u\"there's\", u'a', u'compelling', u'momentum', u'to', u\"angela's\", u'ashes', u'alan', u\"parker's\", u'very', u'faithful', u'if', u'poetically', u'subordinate', u'version', u'of', u\"mccourt's\", u'book', u'which', u'imposed', u'elegance', u'on', u'squalor', u'and', u'intelligence', u'on', u'the', u'indolence', u'cultivated', u'by', u'poverty'], tags=['row_801']),\n",
       " TaggedDocument(words=[u'the', u'movie', u'has', u'an', u'odd', u'feeling', u'both', u'lush', u'and', u'listless', u\"it's\", u'enough', u'to', u'make', u'us', u'believe', u\"allen's\", u'comic', u'batteries', u'need', u'recharging'], tags=['row_802']),\n",
       " TaggedDocument(words=[u'the', u'romance', u'between', u'cw', u'and', u'betty', u'ann', u\"doesn't\", u'have', u'much', u'ardor', u'repressed', u'or', u'otherwise'], tags=['row_803']),\n",
       " TaggedDocument(words=[u'midlevel', u'prettybutnot', u'hugelyfunny', u'allen', u'film'], tags=['row_804']),\n",
       " TaggedDocument(words=[u\"it's\", u'evidently', u'important', u'to', u'allen', u'to', u'work', u'work', u'work', u'but', u\"he's\", u'starting', u'to', u'make', u'his', u'movies', u'by', u'rote', u'instead', u'of', u'passion'], tags=['row_805']),\n",
       " TaggedDocument(words=[u\"allen's\", u'let', u'his', u'guard', u'down', u'and', u'has', u'allowed', u'himself', u'and', u'his', u'audience', u'to', u'relax', u'something', u'that', u\"doesn't\", u'often', u'happen', u'when', u'the', u'specters', u'of', u'class', u'and', u'european', u'art', u'hover', u'over', u'his', u'pictures'], tags=['row_806']),\n",
       " TaggedDocument(words=[u'despite', u'an', u'appealing', u'even', u'ingenious', u'premise', u'scorpion', u'is', u'another', u'quippy', u'but', u'uninspired', u'comedy'], tags=['row_807']),\n",
       " TaggedDocument(words=[u'the', u'director', u'may', u'be', u'coasting', u'with', u'jade', u'scorpion', u'but', u'audiences', u'will', u'likely', u'have', u'too', u'much', u'fun', u'to', u'care'], tags=['row_808']),\n",
       " TaggedDocument(words=[u'many', u'of', u'the', u'jokes', u'fall', u'flat', u'and', u'the', u'film', u'has', u'a', u'musty', u'smell', u'about', u'it', u'like', u'an', u'apartment', u'someone', u'has', u'been', u'living', u'in', u'for', u'too', u'long', u'yet', u'the', u'picture', u'plays', u'out', u'pleasantly', u'and', u'allen', u'creates', u'a', u'world', u\"that's\", u'easy', u'to', u'inhabit'], tags=['row_809']),\n",
       " TaggedDocument(words=[u'in', u'spite', u'of', u'its', u'dated', u'ways', u'or', u'perhaps', u'because', u'of', u'them', u'it', u'just', u'may', u'be', u'the', u'most', u'youthful', u'film', u\"you'll\", u'see', u'this', u'summer'], tags=['row_810']),\n",
       " TaggedDocument(words=[u'about', u'as', u'insignificant', u'as', u'a', u'movie', u'can', u'be', u'without', u'blowing', u'right', u'off', u'the', u'screen'], tags=['row_811']),\n",
       " TaggedDocument(words=[u'the', u'frothiest', u'funniest', u'comedy', u'he', u'has', u'made', u'since', u'manhattan', u'murder', u'mystery'], tags=['row_812']),\n",
       " TaggedDocument(words=[u'enormous', u'fun'], tags=['row_813']),\n",
       " TaggedDocument(words=[u'this', u'new', u'one', u'has', u'a', u'clever', u'premise', u'is', u'wellacted', u'and', u'has', u'a', u'polished', u'deliberately', u'antiquated', u'look', u'but', u'it', u'elicits', u'more', u'shrugs', u'than', u'laughs'], tags=['row_814']),\n",
       " TaggedDocument(words=[u'feels', u'like', u'an', u'exercise', u'in', u'seasoned', u'craft', u'with', u'an', u'occasional', u'good', u'line', u'which', u\"can't\", u'help', u'seeming', u'hugely', u'lacking', u'in', u'ambition', u\"there's\", u'a', u'prevailing', u'sense', u'that', u'the', u'wind', u'has', u'gone', u'out', u'of', u\"allen's\", u'artistic', u'sails'], tags=['row_815']),\n",
       " TaggedDocument(words=[u'the', u'title', u'is', u'to', u'be', u'sure', u'delightful', u'but', u'the', u'movie', u'itself', u'is', u'finally', u'a', u'trifle'], tags=['row_816']),\n",
       " TaggedDocument(words=[u'in', u'nearly', u'four', u'decades', u'of', u'filmmaking', u'woody', u'allen', u'has', u'been', u'hilarious', u'brilliant', u'maddening', u'contrary', u'and', u'unsettling', u'never', u'though', u'has', u'he', u'been', u'so', u'ordinary'], tags=['row_817']),\n",
       " TaggedDocument(words=[u'the', u'movie', u'is', u'a', u'pleasure', u'to', u'watch', u'the', u'craft', u'is', u'voluptuous', u'to', u'regard', u'but', u'the', u'curse', u'of', u'the', u'jade', u'scorpion', u'lacks', u'the', u'elusive', u'zing', u'of', u'inspiration'], tags=['row_818']),\n",
       " TaggedDocument(words=[u\"there's\", u'nothing', u'major', u'here', u'certainly', u'nothing', u'on', u'the', u'order', u'of', u'my', u'favorite', u'among', u\"allen's\", u'retro', u'workouts', u'of', u'the', u'past', u'decade', u'bullets', u'over', u'broadway', u'but', u\"it's\", u'entertaining', u'all', u'the', u'same'], tags=['row_819']),\n",
       " TaggedDocument(words=[u\"it's\", u'goodnatured', u'innocuous', u'frivolity', u'that', u'should', u'raise', u'a', u'few', u'smiles', u'and', u'generate', u'good', u'but', u'not', u'great', u'spring', u'box', u'office'], tags=['row_820']),\n",
       " TaggedDocument(words=[u'he', u'construction', u'is', u'so', u'ramshackle', u'or', u'the', u'mood', u'so', u'pc', u'that', u'the', u'filmmakers', u'put', u'a', u'woman', u'holly', u'on', u'board', u'then', u\"can't\", u'find', u'a', u'thing', u'to', u'do', u'with', u'her'], tags=['row_821']),\n",
       " TaggedDocument(words=[u'a', u'soggy', u'sub', u'sandwich', u'layered', u'with', u'cheesy', u'action', u'stale', u'jokes', u'and', u'gungho', u'baloney'], tags=['row_822']),\n",
       " TaggedDocument(words=[u'the', u'tone', u'of', u'the', u'acting', u'which', u'is', u'set', u'by', u'mr', u\"grammer's\", u'blandly', u'laidback', u'performance', u'is', u'all', u'wrong', u'for', u'a', u'genre', u'that', u'demands', u'overthetop', u'hamming'], tags=['row_823']),\n",
       " TaggedDocument(words=[u'more', u'laidback', u'here', u'than', u'he', u'is', u'on', u'television', u'grammer', u'seems', u'to', u'barely', u'break', u'a', u'sweat'], tags=['row_824']),\n",
       " TaggedDocument(words=[u'after', u'that', u'auspicious', u'opening', u'it', u'sinks'], tags=['row_825']),\n",
       " TaggedDocument(words=[u'there', u'are', u'occasional', u'laughs', u'but', u'as', u'with', u'most', u'movies', u'that', u'think', u\"they're\", u'funnier', u'than', u'they', u'actually', u'are', u'most', u'of', u'the', u'jokes', u'fall', u'flat'], tags=['row_826']),\n",
       " TaggedDocument(words=[u'levinson', u'has', u'written', u'and', u'directed', u'in', u'many', u'genres', u'but', u'rarely', u'has', u'he', u'made', u'a', u'film', u'as', u'indecisive', u'and', u'diffident', u'as', u'man', u'of', u'the', u'year'], tags=['row_827']),\n",
       " TaggedDocument(words=[u'a', u'surprisingly', u'complex', u'and', u'dark', u'satire', u'that', u'skewers', u'the', u'media', u'as', u'well', u'as', u'the', u'political', u'process'], tags=['row_828']),\n",
       " TaggedDocument(words=[u'man', u'of', u'the', u'year', u'makes', u'telling', u'points', u'and', u'has', u'a', u'lot', u'to', u'say', u'but', u'it', u'loses', u'its', u'voice', u'along', u'with', u'its', u'consistency', u'around', u'the', u'midway', u'point', u'and', u'that', u'will', u'likely', u'make', u'it', u'an', u'alsoran', u'in', u'the', u'box', u'office', u'race'], tags=['row_829']),\n",
       " TaggedDocument(words=[u\"it's\", u'a', u'comedy', u'a', u'political', u'thriller', u'a', u'love', u'story', u'barry', u\"levinson's\", u'man', u'of', u'the', u'year', u'tries', u'to', u'be', u'all', u'things', u'to', u'all', u'people', u'and', u'fails', u'on', u'every', u'count', u'a', u'little', u'like', u'the', u'generic', u'ineffectual', u'politicians', u\"it's\", u'pretending', u'to', u'excoriate'], tags=['row_830']),\n",
       " TaggedDocument(words=[u'a', u'few', u'observations', u'about', u'the', u'hollowness', u'of', u'party', u'politics', u'plus', u'robin', u'williams', u'doing', u'lots', u'of', u'funny', u'shtick', u'as', u'a', u'jon', u'stewartlike', u'comic', u'running', u'for', u'president', u'have', u'been', u'thrown', u'together', u'with', u'low', u'regard', u'for', u'logic', u'or', u'consistent', u'tone'], tags=['row_831']),\n",
       " TaggedDocument(words=[u'barry', u\"levinson's\", u'man', u'of', u'the', u'year', u'squanders', u'a', u'promising', u'premise', u\"it's\", u'ultimately', u'overlong', u'underwritten', u'and', u'strangely', u'unfunny'], tags=['row_832']),\n",
       " TaggedDocument(words=[u'a', u'genreless', u'imaginative', u'riff', u'by', u'an', u'intelligent', u'filmmaker', u'on', u'the', u'state', u'of', u'the', u'country'], tags=['row_833']),\n",
       " TaggedDocument(words=[u\"it's\", u'a', u'nearly', u'tonedeaf', u'satire', u'of', u'american', u'politics', u'and', u'the', u'culture', u'of', u'celebrity', u'a', u'comedy', u'without', u'enough', u'laughs', u'a', u'satire', u'without', u'enough', u'bite'], tags=['row_834']),\n",
       " TaggedDocument(words=[u'only', u'in', u'filmmaking', u'does', u'one', u'very', u'good', u'idea', u'plus', u'another', u'very', u'good', u'idea', u'sometimes', u'add', u'up', u'to', u'one', u'lessthangreat', u'picture'], tags=['row_835']),\n",
       " TaggedDocument(words=[u'man', u'of', u'the', u'year', u'is', u'longer', u'than', u'the', u'fdr', u'administration', u'less', u'funny', u'than', u'calvin', u'coolidge', u'and', u'deader', u'than', u'abe', u'lincoln'], tags=['row_836']),\n",
       " TaggedDocument(words=[u'a', u'few', u'moments', u'do', u'not', u'make', u'a', u'new', u'mr', u'smith', u'goes', u'to', u'washington', u'frank', u'capra', u'can', u'continue', u'to', u'rest', u'in', u'peace'], tags=['row_837']),\n",
       " TaggedDocument(words=[u'the', u'second', u'half', u'of', u'man', u'of', u'the', u'year', u'bears', u'practically', u'no', u'relation', u'to', u'the', u'irreverent', u'comedy', u'the', u\"movie's\", u'trailer', u'sells', u'you', u'much', u'like', u'a', u'politician', u'who', u\"doesn't\", u'keep', u'any', u'of', u'the', u'promises', u'that', u'lured', u'you', u'to', u'vote', u'for', u'him'], tags=['row_838']),\n",
       " TaggedDocument(words=[u'man', u'of', u'the', u'year', u\"isn't\", u'movie', u'of', u'the', u'year', u'it', u'might', u'have', u'been', u'an', u'ironic', u'condemnation', u'of', u'electoral', u'fraud', u'and', u'the', u'malignant', u'sway', u'of', u'corporate', u'profits', u'but', u'for', u'a', u'while', u'anyway', u'it', u'had', u'my', u'vote'], tags=['row_839']),\n",
       " TaggedDocument(words=[u'man', u'of', u'the', u'year', u'is', u'a', u'moderately', u'funny', u'little', u'movie', u'that', u\"isn't\", u'pointed', u'enough', u'to', u'successfully', u'skewer', u'its', u'political', u'targets'], tags=['row_840']),\n",
       " TaggedDocument(words=[u'man', u'of', u'the', u'year', u'is', u'a', u'wellintentioned', u'mess', u'a', u'dated', u'yukitup', u'sloppy', u'civics', u'lesson', u'with', u'such', u'a', u'lack', u'of', u'conviction', u'that', u'it', u'backs', u'away', u'from', u'the', u'very', u'questions', u'it', u'poses'], tags=['row_841']),\n",
       " TaggedDocument(words=[u'no', u'one', u'will', u'mistake', u'man', u'of', u'the', u'year', u'for', u'movie', u'of', u'the', u'year', u'but', u'it', u'says', u'some', u'things', u'worth', u'being', u'said', u'without', u'the', u'usual', u'straight', u'face'], tags=['row_842']),\n",
       " TaggedDocument(words=[u'man', u'of', u'the', u'year', u'starts', u'out', u'funny', u'at', u'least', u\"that's\", u'the', u'intention', u'and', u'then', u'morphs', u'into', u'a', u'kind', u'of', u'paranoid', u'thriller', u'neither', u'one', u'of', u'the', u\"movie's\", u'split', u'personalities', u'is', u'particularly', u'good'], tags=['row_843']),\n",
       " TaggedDocument(words=[u\"there's\", u'a', u'preston', u'sturges', u'lesson', u'in', u'man', u'of', u'the', u'year', u'entertaining', u'folks', u'is', u'its', u'own', u'civic', u'duty', u'at', u'times', u'making', u'citizens', u'laugh', u'and', u'think', u'might', u'be', u'the', u'most', u'honorable', u'profession', u'of', u'all'], tags=['row_844']),\n",
       " TaggedDocument(words=[u'a', u'disappointing', u'american', u'debut', u'of', u'the', u'hong', u'kong', u'cult', u'director', u'john', u'woo', u'is', u'a', u'decent', u'action', u'vehicle', u'by', u'standards', u'of', u'its', u'star', u'jeanclaude', u'van', u'damme', u'but', u'hampered', u'by', u'a', u'b', u'script', u'and', u'flat', u'characters', u'it', u\"doesn't\", u'bear', u\"woo's\", u'auteurist', u'signature', u'and', u'unique', u'vision'], tags=['row_845']),\n",
       " TaggedDocument(words=[u\"it's\", u'what', u'hollywood', u'wanted', u'woo', u'for', u'bigger', u'brighter', u'explosions'], tags=['row_846']),\n",
       " TaggedDocument(words=[u'presenting', u'mr', u'van', u'damme', u'as', u'reverentially', u'as', u'sergio', u'leone', u'did', u'the', u'young', u'clint', u'eastwood', u'mr', u'woo', u'displays', u'a', u'real', u'aptitude', u'for', u'malignant', u'mischief', u'which', u'is', u'this', u\"story's\", u'stock', u'in', u'trade'], tags=['row_847']),\n",
       " TaggedDocument(words=[u'even', u'when', u'the', u'acting', u'is', u'hammy', u'notably', u'wilford', u\"brimley's\", u'turn', u'as', u\"chance's\", u'cajun', u'uncle', u'woo', u'stages', u'every', u'fight', u'with', u'hypnotic', u'grace'], tags=['row_848']),\n",
       " TaggedDocument(words=[u'woo', u'a', u'master', u'of', u'stylized', u'violence', u'and', u'explosive', u'action', u'has', u'had', u'to', u'buy', u'into', u\"america's\", u'fascination', u'with', u'explosive', u'effects', u'and', u'reaction', u'something', u'gets', u'lost', u'in', u'the', u'transition'], tags=['row_849']),\n",
       " TaggedDocument(words=[u'its', u'characters', u'are', u'poorlydeveloped', u'the', u'plot', u'is', u'the', u'pinnacle', u'of', u'absurdity', u'and', u'the', u'acting', u'at', u'best', u'is', u'well', u'overthetop', u'nevertheless', u'on', u'the', u'most', u'basic', u'visceral', u'level', u'the', u'film', u'succeeds'], tags=['row_850']),\n",
       " TaggedDocument(words=[u'essentially', u'hard', u'target', u'is', u'a', u'riskaverse', u'van', u'damme', u'vehicle', u'steered', u'by', u'many', u'hands', u'and', u'set', u'on', u'tracks', u'leading', u'directly', u'to', u'the', u'delivery', u'entrances', u'of', u'the', u\"country's\", u'video', u'stores'], tags=['row_851']),\n",
       " TaggedDocument(words=[u'is', u'it', u'worse', u'as', u'a', u'love', u'story', u'or', u'as', u'a', u'drama', u'about', u'the', u'sorry', u'state', u'of', u'television', u'news', u'the', u'answer', u\"it's\", u'a', u'tie'], tags=['row_852']),\n",
       " TaggedDocument(words=[u'this', u'is', u'one', u'of', u'those', u'untaxing', u'timekillers', u'where', u'you', u'spend', u'a', u'lot', u'of', u'time', u'pondering', u'which', u'of', u'its', u\"actress's\", u'changing', u'hairstyles', u'you', u'like', u'best'], tags=['row_853']),\n",
       " TaggedDocument(words=[u'this', u\"isn't\", u'the', u'supreme', u'masterpiece', u'it', u'might', u'have', u'been', u'but', u\"nichols's\", u'direction', u'is', u'very', u'polished', u'and', u'some', u'of', u'the', u'lines', u'and', u'details', u'are', u'awfully', u'funny'], tags=['row_854']),\n",
       " TaggedDocument(words=[u'if', u'the', u'birdcage', u\"isn't\", u'exactly', u'the', u'mike', u'nicholselaine', u'may', u'movie', u'of', u'our', u'dreams', u'it', u'does', u'manage', u'to', u'transform', u'what', u'was', u'formerly', u'a', u'campy', u'bit', u'of', u'french', u'fluff', u'into', u'one', u'of', u'the', u'loopiest', u'most', u'hysterical', u'familyvalues', u'movies', u'ever', u'made'], tags=['row_855']),\n",
       " TaggedDocument(words=[u'the', u'birdcage', u'is', u'a', u'scream'], tags=['row_856']),\n",
       " TaggedDocument(words=[u'it', u\"doesn't\", u'so', u'much', u'champion', u'diversity', u'as', u'celebrate', u'conformity'], tags=['row_857']),\n",
       " TaggedDocument(words=[u'a', u'glossy', u'miscalculation', u'with', u'nathan', u'lane', u'and', u'robin', u'williams'], tags=['row_858']),\n",
       " TaggedDocument(words=[u'basically', u'the', u\"movie's\", u'an', u'extended', u'setup', u'for', u'a', u'dinnertable', u'comedy', u'of', u'errors', u'in', u'which', u'the', u'mismatched', u'relatives', u'confront', u'one', u'another', u'in', u'a', u'nerveracking', u'test', u'of', u'appearances'], tags=['row_859']),\n",
       " TaggedDocument(words=[u'one', u'of', u'those', u'rare', u'motion', u'pictures', u'with', u'sidesplitting', u'laughs', u'where', u'the', u'humor', u'never', u'stays', u'dormant', u'for', u'long'], tags=['row_860']),\n",
       " TaggedDocument(words=[u'far', u'less', u'plastic', u'than', u'most', u'crossdressing', u'comedies'], tags=['row_861']),\n",
       " TaggedDocument(words=[u'what', u'makes', u'mike', u\"nichols'\", u'version', u'more', u'than', u'just', u'a', u'retread', u'is', u'good', u'casting', u'in', u'the', u'key', u'roles', u'and', u'a', u'wicked', u'screenplay', u'by', u'elaine', u'may', u'who', u'keeps', u'the', u'original', u'story', u'but', u'adds', u'little', u'zingers', u'here', u'and', u'there'], tags=['row_862']),\n",
       " TaggedDocument(words=[u'an', u'american', u'remake', u'with', u'plenty', u'of', u'new', u'pizazz'], tags=['row_863']),\n",
       " TaggedDocument(words=[u'the', u'beauty', u'of', u'the', u'birdcage', u'is', u'that', u'its', u'jokes', u'and', u'its', u'message', u'are', u'one', u'and', u'the', u'same', u'these', u'characters', u\"couldn't\", u'change', u'themselves', u'if', u'they', u'tried', u'and', u'only', u'a', u'fool', u'would', u'want', u'them', u'to'], tags=['row_864']),\n",
       " TaggedDocument(words=[u'the', u'cops', u'never', u'seem', u'to', u'know', u'what', u\"they're\", u'doing', u'but', u'then', u'neither', u'do', u'the', u'filmmakers', u'though', u'i', u\"can't\", u'imagine', u'that', u'casual', u'audiences', u'will', u'care', u'since', u'there', u'are', u'plenty', u'of', u'big', u'explosions', u'at', u'the', u'end', u'to', u'reward', u'them'], tags=['row_865']),\n",
       " TaggedDocument(words=[u'even', u'when', u\"it's\", u'not', u'particularly', u'funny', u'their', u'interplay', u'is', u'engaging', u'and', u'their', u'lively', u'raucous', u'personalities', u'keep', u'the', u'proceedings', u'punchy', u'and', u'watchable', u'for', u'the', u'slightly', u'overlong', u'running', u'time'], tags=['row_866']),\n",
       " TaggedDocument(words=[u'unfortunately', u'the', u'movie', u'is', u'a', u'couple', u'of', u'rewrites', u'short', u'of', u\"'developed'\", u'and', u'the', u'thriller', u'configurations', u'are', u'stale'], tags=['row_867']),\n",
       " TaggedDocument(words=[u'this', u'film', u\"isn't\", u'aiming', u'for', u'hightoned', u'drama', u'just', u'highenergy', u'entertainment', u'which', u'is', u'what', u'it', u'delivers'], tags=['row_868']),\n",
       " TaggedDocument(words=[u\"it's\", u'all', u'specialeffects', u'noise', u'and', u'nonsense'], tags=['row_869']),\n",
       " TaggedDocument(words=[u'given', u'how', u'much', u'good', u'bad', u'boys', u'is', u'going', u'to', u'do', u'for', u'martin', u\"lawrence's\", u'feature', u'career', u\"it's\", u'a', u'pity', u'the', u'film', u\"couldn't\", u'do', u'any', u'more', u'for', u'itself'], tags=['row_870']),\n",
       " TaggedDocument(words=[u'a', u'good', u\"halfhour's\", u'worth', u'of', u'nonsense', u'in', u'the', u'middle', u'keeps', u'bad', u'boys', u'from', u'being', u'little', u'better', u'than', u'a', u'break', u'even', u'proposition'], tags=['row_871']),\n",
       " TaggedDocument(words=[u'this', u'movie', u'is', u'so', u'goodlooking', u'it', u'deserves', u'a', u'decent', u'screenplay', u'instead', u'of', u'one', u'more', u'lope', u'down', u'memory', u'lane'], tags=['row_872']),\n",
       " TaggedDocument(words=[u'even', u'by', u'the', u'lowlow', u'standards', u'of', u'cheap', u'action', u'flicks', u'this', u\"one's\", u'bad', u'boys'], tags=['row_873']),\n",
       " TaggedDocument(words=[u'bad', u'boys', u'is', u'relentless', u'formulaic', u'fodder', u'for', u'the', u'explosionstarved', u\"it's\", u'loud', u'shallow', u'sexist', u'and', u'a', u'complete', u'waste', u'of', u'time'], tags=['row_874']),\n",
       " TaggedDocument(words=[u'bad', u'boys', u'takes', u'the', u'oftentraveled', u'road', u'and', u'leads', u'the', u'audience', u'to', u'a', u'dead', u'end'], tags=['row_875']),\n",
       " TaggedDocument(words=[u'of', u'course', u'the', u'simpsonbruckheimer', u'approach', u'may', u'still', u'work', u'at', u'the', u'box', u'office', u'the', u'only', u'place', u'it', u'ever', u'really', u'mattered', u'anyway', u'by', u'now', u'though', u\"i'd\", u'like', u'to', u'think', u'most', u'moviegoers', u'have', u'had', u'a', u'permanent', u'overdose'], tags=['row_876']),\n",
       " TaggedDocument(words=[u'harmless', u'family', u'fare', u'might', u'be', u'deemed', u'politically', u'correct', u'for', u'its', u'concern', u'for', u'endangered', u'species', u'but', u'whitewashing', u'of', u'chinese', u'regime', u'will', u'strike', u'adults', u'as', u'somewhat', u'bizarre'], tags=['row_877']),\n",
       " TaggedDocument(words=[u'pandas', u'are', u'many', u'things', u'adorable', u'fuzzballs', u'voracious', u'eaters', u'vanishing', u'species', u'but', u'as', u'actors', u'they', u'are', u'black', u'and', u'white', u'and', u'dull', u'all', u'over', u'which', u'the', u'amazing', u'panda', u'adventure', u'demonstrates', u'all', u'too', u'well'], tags=['row_878']),\n",
       " TaggedDocument(words=[u'for', u'those', u'few', u'soulfreezing', u'moments', u'you', u'get', u'a', u'glimpse', u'of', u'the', u'great', u'actor', u'leonardo', u'dicaprio', u'is', u'going', u'to', u'be'], tags=['row_879']),\n",
       " TaggedDocument(words=[u'significantly', u'the', u'movie', u'keeps', u'the', u\"hero's\", u'reformation', u'offscreen', u'as', u'well', u'as', u'unexplained', u\"it's\", u'more', u'interested', u'in', u'shock', u'effects', u'than', u'in', u'candor', u'or', u'elucidation'], tags=['row_880']),\n",
       " TaggedDocument(words=[u'the', u'angelfaced', u'dicaprio', u'is', u'a', u'gifted', u'actor', u'but', u'he', u'lacks', u'the', u'authority', u'and', u'physical', u'presence', u'to', u'keep', u'us', u'with', u'him'], tags=['row_881']),\n",
       " TaggedDocument(words=[u'the', u'star', u'shines', u'but', u'the', u'movie', u'is', u'hard', u'to', u'watch'], tags=['row_882']),\n",
       " TaggedDocument(words=[u'you', u'leave', u'the', u'basketball', u'diaries', u'believing', u'that', u'leonardo', u'dicaprio', u'can', u'do', u'anything'], tags=['row_883']),\n",
       " TaggedDocument(words=[u'although', u'it', u'masquerades', u'as', u'a', u'cautionary', u'tale', u'about', u'the', u'horrors', u'of', u'heroin', u'this', u'epic', u'of', u'teenage', u'angst', u'is', u'more', u'accurately', u'seen', u'as', u'a', u'reverential', u'wallow', u'in', u'the', u'gutter', u'of', u'selfabsorption'], tags=['row_884']),\n",
       " TaggedDocument(words=[u'amazingly', u'though', u'even', u'with', u\"kalvert's\", u'lack', u'of', u'style', u'and', u'vision', u'the', u'greatness', u'of', u\"dicaprio's\", u'performance', u'is', u'undiminished'], tags=['row_885']),\n",
       " TaggedDocument(words=[u'will', u'there', u'ever', u'be', u'a', u'market', u'for', u'a', u'movie', u'about', u'a', u'character', u'who', u'hurries', u'past', u'his', u'drug', u'phase', u'because', u'he', u\"can't\", u'wait', u'to', u'tell', u'you', u'what', u'he', u'did', u'after', u'he', u'pulled', u'his', u'act', u'together', u'probably', u'not'], tags=['row_886']),\n",
       " TaggedDocument(words=[u'facile', u'escapes', u'are', u'rejected', u'and', u'the', u'resolution', u'is', u'acceptable', u'because', u'we', u'can', u'believe', u'it', u'in', u'fact', u\"that's\", u'the', u'reason', u'this', u'film', u'works', u'as', u'well', u'as', u'it', u'does', u'credibility'], tags=['row_887']),\n",
       " TaggedDocument(words=[u'dicaprio', u'goes', u'as', u'far', u'into', u'the', u'hell', u'of', u'drug', u'abuse', u'as', u'any', u'actor', u'ever', u'has', u'and', u'comes', u'out', u'a', u'star'], tags=['row_888']),\n",
       " TaggedDocument(words=[u'a', u'movie', u'for', u'masochists', u'an', u'unrelentingly', u'ugly', u\"'just\", u'say', u\"no'\", u'propaganda', u'movie', u'it', u'might', u'have', u'been', u'bankrolled', u'by', u'nancy', u'reagan'], tags=['row_889']),\n",
       " TaggedDocument(words=[u'dicaprio', u'has', u'so', u'much', u'presence', u'that', u'he', u'almost', u'saves', u'the', u'day', u'but', u'this', u'is', u'a', u'movie', u\"that'll\", u'make', u'you', u'want', u'to', u'opt', u'for', u'jim', u\"carrey's\", u'the', u'basketball', u'diaries'], tags=['row_890']),\n",
       " TaggedDocument(words=[u'it', u'ranges', u'from', u'awkward', u'to', u'excruciating'], tags=['row_891']),\n",
       " TaggedDocument(words=[u'this', u'sort', u'of', u'thing', u'was', u'done', u'much', u'better', u'by', u'the', u'british', u'years', u'ago', u'in', u'the', u'full', u'monty', u'and', u'calendar', u'girls', u\"there's\", u'really', u'no', u'call', u'for', u'an', u'american', u'rehash'], tags=['row_892']),\n",
       " TaggedDocument(words=[u'do', u'not', u'waste', u'your', u'time', u'with', u'the', u'amateurs'], tags=['row_893']),\n",
       " TaggedDocument(words=[u'there', u'are', u'no', u'laughs', u'to', u'be', u'found', u'in', u'writerdirector', u'michael', u\"traeger's\", u'wouldbe', u'comedy', u'the', u'amateurs', u'but', u'there', u'is', u'one', u'big', u'mystery', u'how', u'actors', u'of', u'this', u'caliber', u'could', u'have', u'been', u'convinced', u'to', u'take', u'part'], tags=['row_894']),\n",
       " TaggedDocument(words=[u'as', u'a', u'writer', u'traeger', u'is', u'consternatingly', u'adolescent', u'and', u'glib'], tags=['row_895']),\n",
       " TaggedDocument(words=[u\"you'll\", u'notice', u'that', u'the', u'actors', u'are', u'way', u'overqualified', u'for', u'this', u'nonsense', u'but', u'the', u'kick', u'they', u'get', u'out', u'of', u'one', u'another', u'is', u'what', u'pulls', u'you', u'in'], tags=['row_896']),\n",
       " TaggedDocument(words=[u'if', u\"there's\", u'something', u'hypocritically', u'coy', u'about', u'a', u'sex', u'comedy', u'without', u'sex', u'let', u'alone', u'a', u'porn', u'industry', u'without', u'victims', u\"there's\", u'also', u'something', u'refreshing', u'about', u'the', u\"characters'\", u'unabashed', u'good', u'nature', u'at', u'least', u'until', u'the', u'grievously', u'saccharine', u'finale'], tags=['row_897']),\n",
       " TaggedDocument(words=[u'even', u'if', u'you', u'know', u'how', u'it', u'all', u'turned', u'out', u'and', u'you', u'should', u'this', u'amazing', u'journey', u'is', u'harrowing', u'and', u'exhilarating'], tags=['row_898']),\n",
       " TaggedDocument(words=[u'the', u'film', u'succeeds', u'brilliantly', u'at', u'organizing', u'great', u'gobs', u'of', u'information', u'into', u'powerful', u'drama'], tags=['row_899']),\n",
       " TaggedDocument(words=[u'hanks', u'is', u'a', u'terrific', u'choice', u'for', u'the', u'lead', u'because', u'he', u'can', u'appear', u'strong', u'and', u'military', u'without', u'slipping', u'over', u'into', u'sgt', u'rock', u'corniness'], tags=['row_900']),\n",
       " TaggedDocument(words=[u'apollo', u'13', u'one', u'of', u'the', u'most', u'exciting', u'adventure', u'movies', u'of', u'the', u'year', u'proves', u'that', u'science', u'history', u'can', u'be', u'just', u'as', u'thrilling', u'as', u'science', u'fiction'], tags=['row_901']),\n",
       " TaggedDocument(words=[u'howard', u'is', u'not', u'above', u'pushing', u'buttons', u'of', u'his', u'own', u'and', u'milking', u'the', u'big', u'moments', u'but', u'they', u'are', u'indeed', u'big', u'moments', u'and', u'the', u'manipulation', u'is', u'not', u'intrusive', u'he', u'has', u'made', u'a', u'cando', u'movie', u'for', u'our', u\"can'tdo\", u'age'], tags=['row_902']),\n",
       " TaggedDocument(words=[u'the', u'film', u'despite', u'its', u'raggedness', u'is', u'stirring', u'in', u'the', u'end', u'this', u'failed', u'mission', u'seems', u'like', u'the', u'most', u'impressive', u'achievement', u'of', u'the', u'entire', u'space', u'program', u'a', u'triumph', u'not', u'of', u'planning', u'but', u'of', u'inspired', u'improvisation'], tags=['row_903']),\n",
       " TaggedDocument(words=[u'this', u'meticulous', u'but', u'ultimately', u'rather', u'pedestrian', u'drama', u'gradually', u'won', u'me', u'over', u'as', u'a', u'minor', u'if', u'watchable', u'example', u'of', u'the', u'victory', u'through', u'defeat', u'brand', u'of', u'military', u'heroism', u'that', u'john', u'ford', u'specialized', u'in'], tags=['row_904']),\n",
       " TaggedDocument(words=[u'selfconscious', u'about', u'its', u'heroism', u'with', u'portrayals', u'that', u'lean', u'toward', u'the', u'glib', u'and', u'the', u'professionally', u'uplifting', u'the', u'film', u'milks', u'our', u'sympathies', u'too', u'readily', u'to', u'be', u'emotionally', u'convincing'], tags=['row_905']),\n",
       " TaggedDocument(words=[u'this', u'engrossing', u'account', u'of', u'the', u\"nation's\", u'most', u'perilous', u'moon', u'shot', u'embodies', u'what', u'many', u'people', u'consider', u'to', u'be', u'oldfashioned', u'american', u'virtues', u'in', u'a', u'virtually', u'pristine', u'state'], tags=['row_906']),\n",
       " TaggedDocument(words=[u'apollo', u'13', u'ron', u\"howard's\", u'soaring', u'salute', u'to', u'space', u'exploration', u'lifts', u'off', u'with', u'a', u'payload', u'of', u'the', u'right', u'stuffcourage', u'cando', u'grace', u'under', u'pressure', u'and', u'other', u'qualities', u'derided', u'as', u'machismo', u'by', u'some', u'and', u'applauded', u'as', u'oldfashioned', u'values', u'by', u'others'], tags=['row_907']),\n",
       " TaggedDocument(words=[u'major', u'rousing', u'thoroughly', u'professional', u'hollywood', u'entertainment', u'that', u'will', u'dazzle', u'you', u'with', u'its', u'recreations', u'of', u'historical', u'events', u'take', u'you', u'inside', u'the', u'space', u'capsule', u'and', u'the', u'houston', u'command', u'center', u'and', u'leave', u'you', u'wondering', u'where', u'our', u'heroes', u'have', u'gone'], tags=['row_908']),\n",
       " TaggedDocument(words=[u'for', u'a', u\"'space\", u\"movie'\", u'both', u'the', u'special', u'effects', u'and', u'photography', u'are', u'surprisingly', u'pedestrian', u'where', u'it', u'scores', u'is', u'in', u'subtly', u'restating', u'traditional', u'notions', u'of', u'male', u'heroism'], tags=['row_909']),\n",
       " TaggedDocument(words=[u'playing', u'the', u'tough', u'commanding', u'jim', u'lovell', u'is', u'a', u'substantial', u'stretch', u'for', u'mr', u'hanks', u'but', u'as', u'usual', u'his', u'seeming', u'ingenuousness', u'overshadows', u'all', u'else', u'about', u'the', u'role', u\"there's\", u'not', u'a', u'false', u'move', u'to', u'anything', u'he', u'does', u'on', u'screen'], tags=['row_910']),\n",
       " TaggedDocument(words=[u'if', u'you', u'thought', u'tom', u'hanks', u'was', u'just', u'an', u'ordinary', u'bigscreen', u'star', u'wait', u'until', u\"you've\", u'seen', u'him', u'eight', u'stories', u'tall'], tags=['row_911']),\n",
       " TaggedDocument(words=[u'the', u'special', u'effects', u'and', u'many', u'scenes', u'of', u'weightlessness', u'look', u'as', u'good', u'or', u'better', u'than', u'in', u'the', u'original', u'while', u'the', u'oscarwinning', u'sound', u'and', u'james', u\"horner's\", u'rousing', u'score', u'make', u'good', u'use', u'of', u'the', u'hefty', u'audio', u'system'], tags=['row_912']),\n",
       " TaggedDocument(words=[u'the', u'rerelease', u'of', u'ron', u\"howard's\", u'apollo', u'13', u'in', u'the', u'imax', u'format', u'proves', u'absolutely', u'that', u'really', u'really', u'really', u'good', u'things', u'can', u'come', u'in', u'enormous', u'packages'], tags=['row_913']),\n",
       " TaggedDocument(words=[u'on', u'a', u'purely', u'pictorial', u'level', u'this', u'is', u'one', u'of', u'the', u'bestlooking', u'imax', u'movies', u'ever'], tags=['row_914']),\n",
       " TaggedDocument(words=[u'blowing', u'up', u'some', u'35mm', u'films', u'to', u'an', u'image', u'10', u'times', u'larger', u'could', u'magnify', u'their', u'plot', u'faults', u'and', u'performance', u'shortcomings', u'but', u'apollo', u'13', u'with', u'its', u'taut', u'cast', u'script', u'and', u'direction', u'profits', u'from', u'the', u'process'], tags=['row_915']),\n",
       " TaggedDocument(words=[u\"it's\", u'a', u'great', u'american', u'adventure', u'and', u'a', u'wonderful', u'film', u'to', u'bring', u'to', u'imax'], tags=['row_916']),\n",
       " TaggedDocument(words=[u\"it's\", u'easily', u\"howard's\", u'best', u'film'], tags=['row_917']),\n",
       " TaggedDocument(words=[u'rob', u'roy', u'has', u'its', u'diversions', u'but', u'they', u'are', u'unfortunately', u'outweighed', u'by', u'some', u'heavy', u'baggage', u'that', u'contains', u'not', u'enough', u'of', u'substance'], tags=['row_918']),\n",
       " TaggedDocument(words=[u'neeson', u'makes', u'a', u'less', u'dashing', u'action', u'hero', u'than', u'did', u'daylewis', u'but', u'he', u'brings', u'enough', u'gravitas', u'to', u'his', u'role', u'to', u'endow', u'his', u'love', u'for', u'his', u'wife', u'mary', u'lange', u'and', u'his', u'conflict', u'with', u'cunningham', u'with', u'real', u'emotional', u'punch'], tags=['row_919']),\n",
       " TaggedDocument(words=[u'rob', u'roy', u'is', u'best', u'watched', u'for', u'local', u'color', u'and', u'for', u'its', u'hearty', u'hotblooded', u'stars'], tags=['row_920']),\n",
       " TaggedDocument(words=[u'with', u'such', u'a', u'cast', u'and', u'the', u'setting', u'of', u'the', u'highlands', u'plus', u'a', u'story', u'with', u'a', u'gold', u'mine', u'of', u'dramatic', u'potential', u'it', u'is', u'a', u'puzzle', u'why', u'rob', u'roy', u'is', u'so', u'uninvolving'], tags=['row_921']),\n",
       " TaggedDocument(words=[u'you', u'always', u'know', u'where', u\"it's\", u'going', u'even', u'as', u'it', u'meanders', u'for', u'two', u'and', u'a', u'half', u'hours', u'getting', u'there'], tags=['row_922']),\n",
       " TaggedDocument(words=[u'no', u'more', u'than', u'moderately', u'satisfying'], tags=['row_923']),\n",
       " TaggedDocument(words=[u'director', u'michael', u'catonjones', u'and', u'sharp', u'both', u'scotsmen', u'are', u'so', u'caught', u'up', u'in', u'the', u'legend', u'that', u'they', u\"don't\", u'seem', u'to', u'notice', u'that', u'rr', u'is', u'about', u'as', u'heroic', u'as', u'a', u'hatful', u'of', u'haggis'], tags=['row_924']),\n",
       " TaggedDocument(words=[u'strange', u'i', u'thought', u'i', u'had', u'seen', u'enough', u'sword', u'fights', u'in', u'movies', u'to', u'last', u'a', u'lifetime', u'but', u'i', u'was', u'wrong'], tags=['row_925']),\n",
       " TaggedDocument(words=[u'as', u'embodied', u'by', u'liam', u'neeson', u'rob', u'roy', u'is', u'a', u'tremendous', u'protagonist', u'a', u'naive', u'man', u'whose', u'belief', u'in', u'honor', u'and', u'whose', u'love', u'for', u'a', u'woman', u'family', u'and', u'clan', u'make', u'him', u'a', u'figure', u'to', u'cheer', u'for'], tags=['row_926']),\n",
       " TaggedDocument(words=[u'if', u\"you're\", u'in', u'a', u'forgiving', u'campy', u'frame', u'of', u'mind', u'which', u'i', u'must', u'have', u'been', u'the', u'night', u'i', u'saw', u'this', u\"there's\", u'cheap', u'pleasure', u'to', u'be', u'gained', u'from', u'the', u'experience'], tags=['row_927']),\n",
       " TaggedDocument(words=[u'as', u'a', u'standalone', u'film', u'this', u\"doesn't\", u'work', u'but', u'viewed', u'through', u'the', u'prism', u'of', u'the', u'original', u'it', u'offers', u'some', u'twisted', u'selfconscious', u'pleasures'], tags=['row_928']),\n",
       " TaggedDocument(words=[u'stupefyingly', u'lackluster'], tags=['row_929']),\n",
       " TaggedDocument(words=[u'like', u'many', u'sequels', u'this', u'is', u'actually', u'a', u'remake', u'and', u'it', u'suffers', u'from', u'the', u'law', u'of', u'diminishing', u'returns'], tags=['row_930']),\n",
       " TaggedDocument(words=[u'the', u'plot', u'already', u'mired', u'in', u'nonsensical', u'backstory', u'collapses', u'with', u'the', u'lateinning', u'introduction', u'of', u'a', u'tired', u'metafictional', u'device', u'not', u'to', u'mention', u'a', u'wildly', u'lunging', u'usual', u'suspects', u'twist'], tags=['row_931']),\n",
       " TaggedDocument(words=[u'basic', u'instinct', u'2', u'has', u'a', u'stylish', u'look', u'and', u'a', u'few', u'sexy', u'moments', u'but', u'the', u'plot', u'goes', u'from', u'confusing', u'to', u'implausible', u'to', u'absolutely', u'ludicrous', u'in', u'the', u'final', u'sequence'], tags=['row_932']),\n",
       " TaggedDocument(words=[u'even', u'the', u'ice', u'pick', u'looks', u'like', u'it', u'really', u\"doesn't\", u'want', u'to', u'be', u'there'], tags=['row_933']),\n",
       " TaggedDocument(words=[u'the', u'1992', u'phenomenon', u'was', u'creepy', u'tense', u'and', u'sexually', u'charged', u'in', u'a', u'bold', u'yet', u'tawdry', u'way', u'this', u'sequel', u'lacks', u'even', u'a', u'shred', u'of', u'those', u'elements'], tags=['row_934']),\n",
       " TaggedDocument(words=[u'if', u\"you're\", u'trying', u'to', u'reinvigorate', u'the', u'art', u'of', u'the', u'stylish', u'thriller', u'the', u'movie', u'you', u'come', u'up', u'with', u'needs', u'to', u'be', u'stylish', u'and', u'it', u'needs', u'to', u'be', u'thrilling', u'basic', u'instinct', u'2', u'written', u'by', u'leora', u'barish', u'and', u'henry', u'bean', u'and', u'directed', u'by', u'michael', u'catonjones', u'is', u'neither'], tags=['row_935']),\n",
       " TaggedDocument(words=[u'despite', u'all', u'the', u'heavy', u'breathing', u'and', u'mood', u'lighting', u'basic', u'instinct', u'2', u'is', u'so', u'dull', u'that', u'you', u'might', u'find', u'yourself', u'easily', u'distracted', u'by', u'side', u'issues'], tags=['row_936']),\n",
       " TaggedDocument(words=[u'what', u'basic', u'instinct', u'2', u'is', u'missing', u'besides', u'any', u'of', u'the', u'trashy', u'good', u'fun', u'of', u'the', u'original', u'is', u'a', u'subtitle', u\"here's\", u'a', u'suggestion', u'a', u\"girl's\", u'guide', u'to', u'dressing', u'for', u'her', u'shrink'], tags=['row_937']),\n",
       " TaggedDocument(words=[u'this', u'film', u'is', u'unable', u'to', u'involve', u'entertain', u'or', u'titillate', u'basically', u'it', u'stinks'], tags=['row_938']),\n",
       " TaggedDocument(words=[u\"stone's\", u'purring', u'snarling', u'bedroom', u'kink', u'is', u'embarrassing'], tags=['row_939']),\n",
       " TaggedDocument(words=[u'but', u'the', u'movie', u'is', u'a', u'baroque', u'little', u'mystery', u'of', u'so', u'little', u'mystery', u'or', u'consequence', u'that', u\"you're\", u'literally', u'sitting', u'there', u'waiting', u'for', u'the', u'next', u'full', u'body', u'cavity', u'search'], tags=['row_940']),\n",
       " TaggedDocument(words=[u'at', u'this', u'point', u'there', u'are', u'inflatable', u'toys', u'that', u'are', u'livelier', u'than', u'stone', u'but', u'how', u'can', u'you', u'tell', u'the', u'difference', u'basic', u'instinct', u'2', u'is', u'not', u'an', u'erotic', u'thriller', u\"it's\", u'taxidermy'], tags=['row_941']),\n",
       " TaggedDocument(words=[u'as', u'with', u'the', u'first', u'film', u'bi2', u'abounds', u'with', u'red', u'herrings', u'and', u'misdirection', u'and', u'comes', u'up', u'with', u'an', u'equally', u'ambiguous', u'did', u'she', u'or', u\"didn't\", u'she', u'ending', u'but', u'there', u'are', u'problems', u'here', u'beyond', u'its', u'staleness'], tags=['row_942']),\n",
       " TaggedDocument(words=[u'few', u'expected', u'basic', u'instinct', u'2', u'to', u'be', u'very', u'good', u'but', u'no', u'one', u'expected', u'it', u'to', u'be', u'this', u'boring'], tags=['row_943']),\n",
       " TaggedDocument(words=[u'using', u'the', u'same', u'basic', u'plot', u'as', u\"1992's\", u'original', u'bi2', u'feels', u'less', u'like', u'a', u'sequel', u'than', u'a', u'remake', u'whose', u'shelf', u'life', u'has', u'expired'], tags=['row_944']),\n",
       " TaggedDocument(words=[u'the', u'only', u'real', u'intrigue', u'comes', u'in', u'the', u\"film's\", u'risky', u'flirtation', u'with', u'high', u'camp'], tags=['row_945']),\n",
       " TaggedDocument(words=[u'the', u'original', u'movie', u'lacked', u'sense', u'but', u'it', u'did', u'possess', u'that', u'sizzle', u'this', u'one', u'has', u'neither'], tags=['row_946']),\n",
       " TaggedDocument(words=[u'in', u'the', u'end', u'this', u'is', u'a', u'movie', u'that', u'makes', u'the', u'original', u'basic', u'instinct', u'look', u'good', u'and', u'in', u'a', u'way', u\"that's\", u'quite', u'a', u'feat'], tags=['row_947']),\n",
       " TaggedDocument(words=[u'by', u'now', u'jim', u'carrey', u'is', u'doing', u'sarcastic', u'takes', u'on', u'his', u'own', u'sarcasm', u'and', u\"there's\", u'something', u'funny', u'and', u'a', u'little', u'scary', u'in', u'that'], tags=['row_948']),\n",
       " TaggedDocument(words=[u'joel', u'schumacher', u'submits', u'to', u'the', u'wagnerian', u'bombast', u'with', u'an', u'overly', u'busy', u'surface', u'and', u'the', u'script', u'by', u'lee', u'and', u'janet', u'scott', u'batchler', u'and', u'akiva', u'goldsman', u'basically', u'runs', u'through', u'the', u'formula', u'as', u'if', u\"it's\", u'a', u'checklist'], tags=['row_949']),\n",
       " TaggedDocument(words=[u'as', u'for', u'kilmer', u'he', u'gamely', u'steps', u'into', u'the', u'dual', u'batmanwayne', u'role', u'but', u\"can't\", u'get', u'much', u'traction', u'finding', u'as', u'michael', u'keaton', u'had', u'that', u'beyond', u'a', u'stern', u'jaw', u\"there's\", u'not', u'much', u'to', u'be', u'done', u'with', u'it', u'since', u'the', u'suit', u'does', u'most', u'of', u'the', u'work'], tags=['row_950']),\n",
       " TaggedDocument(words=[u'the', u'second', u'sequel', u'to', u'tim', u\"burton's\", u'1989', u'blockbuster', u'makes', u'its', u'predecessors', u'appear', u'models', u'of', u'subtlety', u'and', u'coherence'], tags=['row_951']),\n",
       " TaggedDocument(words=[u'the', u'film', u'recovers', u'from', u'that', u'initial', u'confusion', u'to', u'get', u'stronger', u'as', u'it', u'goes', u'along', u'and', u'to', u'shape', u'up', u'as', u'a', u'freeform', u'playground', u'for', u'its', u'various', u'masquerading', u'stars'], tags=['row_952']),\n",
       " TaggedDocument(words=[u'batman', u'forever', u'is', u'in', u'and', u'out', u'but', u'wins', u'in', u'the', u'end', u'by', u'staying', u'true', u'to', u'its', u'unbridled', u'comic', u'spirit'], tags=['row_953']),\n",
       " TaggedDocument(words=[u'this', u'loud', u'and', u'boisterous', u'comic', u'book', u'confidential', u'is', u'serviceable', u'enough', u'to', u'satisfy'], tags=['row_954']),\n",
       " TaggedDocument(words=[u\"it's\", u'lighter', u'brighter', u'funnier', u'fasterpaced', u'and', u'a', u'whole', u'lot', u'more', u'colorful', u'than', u'before'], tags=['row_955']),\n",
       " TaggedDocument(words=[u\"it's\", u'great', u'bubble', u'gum', u'for', u'the', u'eyes'], tags=['row_956']),\n",
       " TaggedDocument(words=[u'carrey', u'lights', u'up', u'an', u'otherwise', u'overscripted', u'overfrenetic', u'potboiler'], tags=['row_957']),\n",
       " TaggedDocument(words=[u'minds', u'in', u'neutral', u'zoning', u'out', u'on', u'the', u'eye', u'candy'], tags=['row_958']),\n",
       " TaggedDocument(words=[u'the', u'highs', u'jim', u\"carrey's\", u'riddler', u'hands', u'down'], tags=['row_959']),\n",
       " TaggedDocument(words=[u'a', u'grand', u'scale', u'effort', u\"that's\", u'more', u'aweinspiring', u'than', u'completely', u'successful', u'as', u'entertainment'], tags=['row_960']),\n",
       " TaggedDocument(words=[u\"kilmer's\", u'good', u'not', u'surprisingly', u'but', u'he', u\"doesn't\", u'get', u'to', u'do', u'a', u'lot'], tags=['row_961']),\n",
       " TaggedDocument(words=[u'bigger', u'battier', u'and', u'better'], tags=['row_962']),\n",
       " TaggedDocument(words=[u'a', u'delicacy', u'a', u'passionate', u'and', u'compassionate', u'study', u'of', u'erotica'], tags=['row_963']),\n",
       " TaggedDocument(words=[u'it', u'is', u'possibly', u'the', u'bestknown', u'erotic', u'film', u'of', u'modern', u'times', u'perhaps', u'the', u'best'], tags=['row_964']),\n",
       " TaggedDocument(words=[u'of', u'all', u'the', u'supposedly', u'challenging', u'attractions', u'playing', u'locally', u'in', u'our', u'supposedly', u'more', u'enlightened', u'era', u'the', u'most', u'compellingly', u'erotic', u'and', u'entertaining', u'spectacle', u'is', u'still', u'provided', u'by', u'belle', u'de', u'jour'], tags=['row_965']),\n",
       " TaggedDocument(words=[u'this', u'silly', u'little', u'masterpiece', u'regards', u'deneuve', u'as', u'the', u'goddess', u'of', u'light', u'she', u'really', u'was', u'a', u'figment', u'of', u'our', u'collective', u'appetite', u'for', u'the', u'unreal'], tags=['row_966']),\n",
       " TaggedDocument(words=[u'every', u'detail', u'has', u'been', u'so', u'carefully', u'thought', u'out', u'that', u'seeing', u'it', u'again', u'is', u'like', u'seeing', u'it', u'in', u'another', u'key'], tags=['row_967']),\n",
       " TaggedDocument(words=[u'a', u'wise', u'enormously', u'enjoyable', u'film', u'about', u'the', u'power', u'of', u'fantasy', u'a', u'toast', u'to', u'the', u'importance', u'of', u'dreams'], tags=['row_968']),\n",
       " TaggedDocument(words=[u'much', u'of', u'the', u'film', u'works', u'because', u'of', u'the', u'capable', u'acting', u'of', u'deneuve'], tags=['row_969']),\n",
       " TaggedDocument(words=[u'the', u'director', u'may', u'have', u'been', u'ahead', u'of', u'his', u'time', u'but', u'he', u'displays', u'no', u'more', u'compassion', u'for', u'his', u'characters', u'than', u'a', u'psycho', u'killer', u'shows', u'for', u'his', u'victims'], tags=['row_970']),\n",
       " TaggedDocument(words=[u'in', u'attempting', u'to', u'make', u'its', u'politics', u'palatable', u'as', u'entertainment', u'the', u'film', u'has', u'grafted', u'them', u'onto', u'a', u'boatload', u'of', u'hollywood', u'implausibilities', u'whose', u'excesses', u'cripple', u'believability'], tags=['row_971']),\n",
       " TaggedDocument(words=[u'as', u'an', u'exercise', u'in', u'art', u'or', u'even', u'polemics', u'beyond', u'rangoon', u'is', u'beyond', u'redemption', u'but', u'still', u'works', u'its', u'occasional', u'magic', u'with', u'extraordinary', u'flair'], tags=['row_972']),\n",
       " TaggedDocument(words=[u'yet', u'one', u'more', u'film', u'that', u'defines', u'third', u'world', u'political', u'unrest', u'through', u'its', u'effect', u'on', u'a', u'white', u'liberal'], tags=['row_973']),\n",
       " TaggedDocument(words=[u\"boorman's\", u'metaphysical', u'musings', u'might', u'work', u'if', u'he', u'integrated', u'them', u'more', u'fully', u'into', u'his', u'film', u'instead', u'of', u'making', u'them', u'secondary', u'to', u'action', u'sequences'], tags=['row_974']),\n",
       " TaggedDocument(words=[u\"it's\", u'fascinating', u'and', u'rewarding', u'to', u'watch', u'arquette', u'evolve', u'with', u'much', u'credibility', u'from', u'her', u'own', u'personal', u'state', u'of', u'immaturity', u'to', u'a', u'state', u'of', u'full', u'growth'], tags=['row_975']),\n",
       " TaggedDocument(words=[u'a', u'rare', u'film', u'one', u'that', u'is', u'intelligent', u'emotional', u'and', u'exciting'], tags=['row_976']),\n",
       " TaggedDocument(words=[u'because', u'the', u'film', u'is', u'well', u'acted', u'and', u'directed', u'and', u'the', u'malaysian', u'locations', u'are', u'exotic', u'and', u'seductive', u'i', u'got', u'involved', u'even', u'though', u'the', u'story', u'was', u'so', u'clearly', u'concocted'], tags=['row_977']),\n",
       " TaggedDocument(words=[u'an', u'odd', u'movie', u'brilliant', u'in', u'places', u'but', u'frustrating', u'all', u'the', u'same'], tags=['row_978']),\n",
       " TaggedDocument(words=[u'besides', u'being', u'an', u'intelligent', u'and', u'gripping', u'thriller', u'with', u'a', u'solid', u'grounding', u'in', u'real', u'recent', u'historical', u'events', u'beyond', u'rangoon', u'also', u'gives', u'moviegoers', u'a', u'rare', u'opportunity', u'to', u'watch', u'a', u'female', u'hero'], tags=['row_979']),\n",
       " TaggedDocument(words=[u'the', u'best', u'thing', u'you', u'can', u'say', u'about', u'this', u'scattershot', u'political', u'satire', u'is', u'that', u'the', u'late', u'john', u\"candy's\", u'nexttolast', u'picture', u'is', u'relatively', u'funnier', u'and', u'less', u'depressing', u'than', u'his', u'valedictory', u'wagons', u'east'], tags=['row_980']),\n",
       " TaggedDocument(words=[u'a', u'fairy', u'tale', u'with', u'the', u'soul', u'of', u'a', u'rerun'], tags=['row_981']),\n",
       " TaggedDocument(words=[u\"it's\", u'not', u'clear', u'why', u'steven', u\"spielberg's\", u'amblin', u'decided', u'to', u'make', u'a', u'liveaction', u'entertainment', u'starring', u'the', u'least', u'interesting', u'and', u'most', u'saccharine', u'of', u'all', u'50s', u'cartoon', u'characters'], tags=['row_982']),\n",
       " TaggedDocument(words=[u'once', u'the', u'audience', u'has', u'become', u'inured', u'to', u'the', u'wideeyed', u'protagonist', u'and', u'impressive', u'digitized', u'effects', u\"there's\", u'little', u'sense', u'of', u'wonder', u'or', u'awe', u'to', u'be', u'found'], tags=['row_983']),\n",
       " TaggedDocument(words=[u'the', u'set', u'design', u'however', u'merely', u'disguises', u'what', u'is', u'in', u'fact', u'an', u'intimate', u'and', u'likeable', u'picture'], tags=['row_984']),\n",
       " TaggedDocument(words=[u\"casper's\", u'movie', u'is', u'not', u'the', u'cleverest', u'one', u'around', u'but', u'its', u'hero', u'may', u'be', u'the', u'most', u'lovable'], tags=['row_985']),\n",
       " TaggedDocument(words=[u'this', u\"doesn't\", u'usually', u'happen', u'to', u'me', u'but', u'15', u'minutes', u'before', u'the', u'end', u'of', u'casper', u'i', u'suddenly', u'realized', u'that', u'if', u'i', u\"didn't\", u'take', u'a', u'deep', u'breath', u'i', u'was', u'going', u'to', u'start', u'sobbing'], tags=['row_986']),\n",
       " TaggedDocument(words=[u'as', u'a', u'technical', u'achievement', u\"it's\", u'impressive', u'and', u'entertaining', u'and', u'there', u'is', u'even', u'a', u'little', u'winsome', u'philosophy'], tags=['row_987']),\n",
       " TaggedDocument(words=[u'as', u'expected', u'it', u'features', u'extraspectral', u'effects', u'slews', u'of', u'celebrity', u'guest', u'shots', u'and', u'splendidly', u'decorated', u'sets', u'for', u'all', u'of', u'that', u'though', u'the', u'film', u'is', u'duller', u'than', u'a', u'dead', u\"man's\", u'eyes'], tags=['row_988']),\n",
       " TaggedDocument(words=[u'without', u'the', u'talent', u'of', u'ricci', u'casper', u'would', u'have', u'been', u'a', u'truly', u'barren', u'motion', u'picture', u'as', u'it', u'is', u\"it's\", u'still', u'not', u'very', u'good'], tags=['row_989']),\n",
       " TaggedDocument(words=[u'the', u'horror', u'the', u'horror'], tags=['row_990']),\n",
       " TaggedDocument(words=[u'casper', u'moves', u'like', u'a', u'dirge', u'especially', u'when', u'it', u'sinks', u'into', u'a', u'meditation', u'on', u'death', u'a', u'la', u'ghost', u'as', u'specter', u'spectacles', u'go', u'casper', u'is', u'a', u'bit', u'of', u'a', u'ghost', u'bust'], tags=['row_991']),\n",
       " TaggedDocument(words=[u'there', u'is', u'a', u'force', u'and', u'focus', u'in', u\"lee's\", u'work', u'an', u'absence', u'of', u'intellectual', u'posturing', u'and', u'a', u'willingness', u'to', u'let', u'his', u'material', u'speak', u'for', u'itself', u'that', u'he', u'has', u'not', u'achieved', u'before'], tags=['row_992']),\n",
       " TaggedDocument(words=[u'the', u'performances', u'are', u'strong', u'but', u'the', u'spectator', u'often', u'feels', u'adrift', u'in', u'an', u'overly', u'busy', u'intrigue'], tags=['row_993']),\n",
       " TaggedDocument(words=[u'a', u'study', u'of', u'the', u'urban', u'dopedealing', u'culture', u'and', u'its', u'toll', u'on', u'everyone', u'who', u'comes', u'in', u'contact', u'with', u'it', u'the', u'picture', u'has', u'an', u\"insider's\", u'feel', u'that', u'is', u'constantly', u'undercut', u'by', u'the', u\"filmmaker's\", u'impulse', u'to', u'editorialize'], tags=['row_994']),\n",
       " TaggedDocument(words=[u'the', u'result', u'is', u'a', u'more', u'sober', u'mournful', u'and', u'meditative', u'expressionism', u'than', u\"you'd\", u'expect', u\"that's\", u'not', u'to', u'say', u'the', u'film', u\"isn't\", u'suspenseful', u'but', u'the', u\"director's\", u'distaste', u'for', u'the', u'inner', u\"city's\", u'gun', u'culture', u'is', u'clear', u'to', u'see', u'superbly', u'acted'], tags=['row_995']),\n",
       " TaggedDocument(words=[u'helping', u'make', u'these', u'points', u'is', u'as', u'strong', u'a', u'cast', u'as', u'lee', u'has', u'yet', u'worked', u'with'], tags=['row_996']),\n",
       " TaggedDocument(words=[u'has', u'the', u'strengths', u'of', u'spike', u\"lee's\", u'best', u'work', u'without', u'the', u'preachiness', u'and', u'gimmicky', u'camera', u'moves', u'of', u'his', u'weakest'], tags=['row_997']),\n",
       " TaggedDocument(words=[u'clockers', u'thunders', u'home', u'with', u'the', u'bruising', u'urgency', u'of', u'a', u'story', u'that', u'needs', u'to', u'be', u'told'], tags=['row_998']),\n",
       " TaggedDocument(words=[u'a', u'real', u'wicked', u'thrill'], tags=['row_999']),\n",
       " ...]"
      ]
     },
     "execution_count": 70,
     "metadata": {},
     "output_type": "execute_result"
    }
   ],
   "source": [
    "sentences.to_array()"
   ]
  },
  {
   "cell_type": "code",
   "execution_count": 71,
   "metadata": {
    "collapsed": false
   },
   "outputs": [
    {
     "data": {
      "text/plain": [
       "6139"
      ]
     },
     "execution_count": 71,
     "metadata": {},
     "output_type": "execute_result"
    }
   ],
   "source": [
    "len(model.wv.vocab)"
   ]
  },
  {
   "cell_type": "code",
   "execution_count": 72,
   "metadata": {
    "collapsed": false
   },
   "outputs": [
    {
     "data": {
      "text/plain": [
       "15561"
      ]
     },
     "execution_count": 72,
     "metadata": {},
     "output_type": "execute_result"
    }
   ],
   "source": [
    "model.corpus_count"
   ]
  },
  {
   "cell_type": "code",
   "execution_count": 73,
   "metadata": {
    "collapsed": false
   },
   "outputs": [
    {
     "data": {
      "text/plain": [
       "[(u'dozen', 0.2619978189468384),\n",
       " (u'telling', 0.25772571563720703),\n",
       " (u'believable', 0.24974673986434937),\n",
       " (u'brutal', 0.2302302122116089),\n",
       " (u'worked', 0.22075548768043518),\n",
       " (u'reveal', 0.21611137688159943),\n",
       " (u'carefully', 0.21411347389221191),\n",
       " (u'stilted', 0.2122310996055603),\n",
       " (u'highconcept', 0.21039822697639465),\n",
       " (u'brims', 0.2089766561985016)]"
      ]
     },
     "execution_count": 73,
     "metadata": {},
     "output_type": "execute_result"
    }
   ],
   "source": [
    "model.most_similar('strong')"
   ]
  },
  {
   "cell_type": "code",
   "execution_count": 74,
   "metadata": {
    "collapsed": false
   },
   "outputs": [
    {
     "data": {
      "text/plain": [
       "array([ -1.53093832e-03,  -2.41917884e-03,  -6.73120667e-04,\n",
       "        -9.80710174e-05,   2.41151522e-03,   3.53731506e-04,\n",
       "         8.86008900e-04,   1.41157536e-03,   1.39391387e-03,\n",
       "         4.12393565e-05,   4.88697842e-04,   1.94228592e-03,\n",
       "         2.30788789e-03,  -7.26286846e-04,  -1.16391084e-03,\n",
       "        -4.77254915e-04,  -1.40340952e-03,  -1.17157015e-03,\n",
       "        -1.45959028e-03,   1.59321609e-03,  -1.58318772e-03,\n",
       "         7.39920069e-04,  -3.16088990e-04,  -9.24362277e-04,\n",
       "        -3.58157558e-04,  -1.86286133e-03,   9.43797932e-04,\n",
       "         4.49519575e-04,   1.87075886e-04,  -2.31416617e-03,\n",
       "        -1.43198785e-03,   1.24186379e-04,   1.54430594e-03,\n",
       "         2.26083538e-03,   2.12554191e-03,  -2.19440297e-03,\n",
       "         1.11446076e-03,  -2.09428859e-03,   3.46210727e-05,\n",
       "        -7.06431863e-04,   1.65769656e-04,  -2.47008982e-03,\n",
       "        -2.17263983e-03,   2.14464101e-03,   2.19249967e-04,\n",
       "        -1.22015458e-03,  -2.42933980e-04,  -1.78566901e-03,\n",
       "        -2.02655909e-03,  -2.12367577e-03,   1.76017615e-03,\n",
       "         4.92321793e-04,  -1.66825193e-05,   2.16770382e-03,\n",
       "        -2.01574207e-04,   1.18442916e-03,   2.05323054e-03,\n",
       "        -1.14321557e-03,  -1.22708923e-04,   1.17325643e-03,\n",
       "         2.40429328e-03,  -6.95796218e-04,   4.15552873e-04,\n",
       "        -3.89920315e-04,   2.07101088e-03,   3.07004142e-04,\n",
       "         1.39584078e-03,   1.17789372e-03,   1.46406598e-03,\n",
       "        -1.79690856e-03,   3.95248862e-05,   4.86588047e-04,\n",
       "        -1.72759977e-03,   1.67757319e-03,  -7.29030755e-04,\n",
       "         1.28184480e-03,  -3.74475145e-04,  -1.96696003e-03,\n",
       "         1.71108532e-03,  -1.40763749e-03,  -9.50816553e-04,\n",
       "        -4.88452555e-04,   2.08770111e-03,  -2.19497248e-03,\n",
       "        -2.22972548e-03,   1.23281294e-04,  -1.02629550e-04,\n",
       "        -6.94855524e-04,  -1.95573457e-03,   1.10217521e-03,\n",
       "        -1.26456423e-03,   2.33879848e-03,  -8.46424315e-04,\n",
       "        -9.61193698e-04,  -2.11404846e-03,  -2.41291127e-03,\n",
       "         5.71256562e-04,   9.71038535e-04,  -1.92992005e-03,\n",
       "        -1.68991252e-03,   3.31353251e-04,   3.22196021e-04,\n",
       "        -2.37238928e-04,  -9.23298430e-05,   2.32773600e-03,\n",
       "        -1.31360383e-03,  -1.04628433e-03,   1.42128975e-03,\n",
       "         2.32746403e-04,   1.60994867e-04,  -1.96242076e-03,\n",
       "         2.02011550e-03,  -4.85202181e-04,  -6.45316963e-04,\n",
       "        -6.67816726e-04,  -9.93190552e-05,   2.47234222e-03,\n",
       "         1.15932187e-03,   1.68185111e-03,  -7.21506716e-04,\n",
       "         1.10917131e-03,   6.04903616e-04,   2.75991697e-05,\n",
       "         3.35222838e-04,   1.40708021e-03,  -7.12025678e-04,\n",
       "        -7.67262420e-04,   3.54233955e-04,   1.79033109e-03,\n",
       "         1.96177932e-03,   7.07936997e-04,   2.08756607e-03,\n",
       "         2.13358924e-03,  -3.73268267e-04,  -6.11239579e-04,\n",
       "        -2.31791520e-03,  -1.60295225e-03,  -1.21909427e-03,\n",
       "        -7.25365710e-04,   7.92661856e-04,  -2.02587340e-03,\n",
       "        -2.34556239e-04,  -1.06362673e-03,  -1.89152954e-03,\n",
       "         5.62793168e-04,   1.71922869e-03,  -1.76927575e-03,\n",
       "        -1.02468417e-03,  -2.21075374e-03,  -1.02643669e-03,\n",
       "         1.74414844e-03,  -1.95061602e-03,  -8.45286413e-04,\n",
       "         3.14943492e-04,   1.70876959e-03,  -7.65757111e-04,\n",
       "         2.17096251e-03,   9.66668769e-04,  -7.31288164e-04,\n",
       "        -1.96056371e-03,  -3.55626573e-04,  -2.10732993e-04,\n",
       "        -1.35897880e-03,   9.00310348e-04,   7.01513083e-04,\n",
       "         1.79023203e-03,   2.05786829e-03,  -1.13466848e-03,\n",
       "        -3.66634522e-05,  -1.85164303e-04,   1.92680291e-03,\n",
       "         1.10724394e-03,   1.83253700e-03,   4.59791918e-04,\n",
       "        -1.10106613e-03,   1.25190080e-03,   2.47770804e-03,\n",
       "         2.31219316e-03,   8.42059031e-04,   2.00901204e-03,\n",
       "        -1.16589875e-03,  -6.95106399e-04,   1.34738931e-03,\n",
       "        -1.00561441e-03,  -2.11334715e-04,   3.71839706e-04,\n",
       "        -8.46694689e-04,   2.44160672e-03,   1.16540655e-03,\n",
       "        -1.15720870e-03,  -1.92307879e-03,   1.35388656e-03,\n",
       "        -7.71389168e-04,   6.49824797e-04,   1.13650553e-04,\n",
       "         1.62524602e-03,  -1.26885029e-03,  -1.26095244e-03,\n",
       "        -1.49261439e-03,   2.20906222e-03], dtype=float32)"
      ]
     },
     "execution_count": 74,
     "metadata": {},
     "output_type": "execute_result"
    }
   ],
   "source": [
    "model.docvecs[\"row_0\"]"
   ]
  },
  {
   "cell_type": "code",
   "execution_count": 75,
   "metadata": {
    "collapsed": false
   },
   "outputs": [
    {
     "data": {
      "text/plain": [
       "array([ -1.84452467e-04,  -2.39830068e-03,  -1.40151812e-03,\n",
       "        -1.21808541e-03,  -1.25918246e-03,   1.66816346e-03,\n",
       "        -1.66533154e-03,  -2.48500379e-03,  -1.32048575e-04,\n",
       "        -1.97572564e-03,  -1.79376814e-03,   9.28475871e-04,\n",
       "        -2.41006934e-03,  -5.95714606e-04,   7.35913287e-04,\n",
       "         2.31294218e-03,  -1.77885871e-03,   5.15043328e-04,\n",
       "        -2.82406312e-04,  -5.36477601e-04,   1.65399665e-03,\n",
       "         1.35336386e-03,   1.06384454e-03,   2.85590184e-04,\n",
       "         1.91971462e-03,   1.61611801e-03,  -5.00707480e-04,\n",
       "        -7.59440591e-04,   2.36282567e-03,   1.54589198e-03,\n",
       "         1.88784394e-03,   1.65642530e-03,   2.21337331e-03,\n",
       "        -1.11630571e-03,  -1.01981498e-03,   3.60067294e-04,\n",
       "        -7.18149124e-04,   5.12084458e-04,   4.54752269e-04,\n",
       "        -1.42989727e-03,   2.74876977e-04,   1.70583650e-03,\n",
       "        -1.84564653e-03,  -1.27349887e-03,  -2.13138387e-03,\n",
       "        -7.21236400e-04,   1.27321214e-03,   1.26511964e-03,\n",
       "         5.16424305e-04,  -1.68829667e-03,   2.24487344e-03,\n",
       "         1.29201729e-03,  -2.32560746e-03,   9.43330990e-04,\n",
       "        -1.64505630e-03,  -1.46615796e-03,  -2.11877748e-03,\n",
       "        -6.84781582e-04,   8.41309258e-04,   2.40525883e-03,\n",
       "        -2.05214159e-03,  -7.47951635e-05,   1.40293175e-03,\n",
       "        -3.39123042e-04,   7.82583083e-04,   1.88942894e-03,\n",
       "         4.36093251e-06,  -1.03542442e-03,  -1.40207252e-04,\n",
       "        -1.43022556e-03,   4.53657209e-04,  -1.45642774e-03,\n",
       "         8.68939562e-04,   5.22314513e-04,   1.05884753e-03,\n",
       "        -1.22798397e-03,  -1.59192691e-03,  -1.79808389e-03,\n",
       "         2.38012150e-03,   2.02782848e-03,  -2.06283759e-03,\n",
       "         2.08256883e-03,   2.13170145e-03,  -2.01943074e-03,\n",
       "         1.57711597e-03,  -2.21441127e-03,   5.55514183e-04,\n",
       "         1.81884493e-03,  -1.84943224e-03,  -1.75763376e-03,\n",
       "        -1.67102524e-04,   1.80464168e-03,   2.06232513e-03,\n",
       "         2.21317844e-03,   8.07322940e-05,   2.33384268e-03,\n",
       "        -1.89688266e-03,   1.61752116e-03,   2.39955029e-03,\n",
       "         7.49160245e-04,   2.13403278e-03,  -4.76227258e-04,\n",
       "        -9.12035233e-04,   1.80546730e-03,   3.46120156e-04,\n",
       "         2.12765974e-03,   4.96895518e-04,  -2.08783965e-03,\n",
       "        -1.18403276e-03,   1.49387901e-03,   8.10959609e-05,\n",
       "         5.39113651e-04,  -1.50109373e-03,   1.77938561e-03,\n",
       "        -2.00890913e-03,   1.63308461e-03,   7.22880883e-04,\n",
       "         1.49739860e-03,   2.22072192e-03,  -5.37209969e-04,\n",
       "         1.67510833e-03,   7.08838110e-04,  -1.54609513e-03,\n",
       "        -1.37329436e-04,   1.79305277e-03,   1.61242287e-03,\n",
       "        -2.44513154e-03,  -2.20278604e-03,   1.20846485e-03,\n",
       "         1.13309477e-04,  -1.39151711e-03,   1.79957668e-03,\n",
       "         2.45374704e-05,   1.21168210e-03,   1.72848918e-03,\n",
       "         1.65885210e-03,  -3.01860739e-04,   1.24577945e-03,\n",
       "        -1.85884640e-03,   4.47479746e-04,  -2.30199122e-03,\n",
       "        -2.03272537e-03,   4.41012206e-04,   3.37063655e-04,\n",
       "         1.38071226e-03,  -1.41015893e-03,  -2.28290097e-03,\n",
       "        -1.12677750e-03,   2.38838117e-03,  -8.04329698e-04,\n",
       "        -4.20506141e-04,   2.46557803e-03,   8.07995209e-04,\n",
       "         2.40847497e-04,  -1.24104333e-03,   6.50661939e-04,\n",
       "        -8.62123212e-04,   1.41084101e-03,  -9.51970811e-04,\n",
       "        -1.32455304e-03,  -1.16875442e-03,  -1.77557103e-03,\n",
       "         2.33146874e-03,   2.30696681e-03,   1.83910516e-03,\n",
       "        -8.02269322e-04,  -7.04958336e-04,   1.38302648e-03,\n",
       "         1.45992916e-03,  -2.40080548e-03,  -2.42119702e-03,\n",
       "         8.65706592e-04,   2.35890737e-03,   7.21193617e-04,\n",
       "        -1.29944750e-03,  -2.24463781e-03,  -7.81919865e-04,\n",
       "         1.48456625e-03,   9.30074602e-04,  -3.01817898e-04,\n",
       "         9.31206334e-04,   1.15734329e-04,   1.33352086e-03,\n",
       "         1.72684761e-03,   2.38692597e-03,  -5.93695207e-04,\n",
       "        -1.05674588e-03,  -6.80519443e-04,  -5.56695159e-04,\n",
       "         1.61910441e-03,  -2.57829728e-04,  -7.02856574e-04,\n",
       "        -1.40819419e-03,  -2.25183438e-03,   1.06956344e-03,\n",
       "         1.06146513e-03,   1.69652433e-03,   2.29641632e-03,\n",
       "        -1.46750093e-03,   2.37973034e-03], dtype=float32)"
      ]
     },
     "execution_count": 75,
     "metadata": {},
     "output_type": "execute_result"
    }
   ],
   "source": [
    "model.infer_vector(sentences.to_array()[0].words)"
   ]
  },
  {
   "cell_type": "code",
   "execution_count": null,
   "metadata": {
    "collapsed": true
   },
   "outputs": [],
   "source": []
  },
  {
   "cell_type": "markdown",
   "metadata": {},
   "source": [
    "# 7. Word2Vec"
   ]
  },
  {
   "cell_type": "code",
   "execution_count": 76,
   "metadata": {
    "collapsed": true
   },
   "outputs": [],
   "source": [
    "sentences_nolabel = sentences.to_array_nolabel()"
   ]
  },
  {
   "cell_type": "code",
   "execution_count": 77,
   "metadata": {
    "collapsed": false
   },
   "outputs": [],
   "source": [
    "num_features = 400    # Word vector dimensionality                      \n",
    "min_word_count = 5   # Minimum word count                        \n",
    "num_workers = 4       # Number of threads to run in parallel\n",
    "context = 20          # Context window size                                                                                    \n",
    "downsampling = 1e-1   # Downsample setting for frequent words"
   ]
  },
  {
   "cell_type": "code",
   "execution_count": 78,
   "metadata": {
    "collapsed": false
   },
   "outputs": [],
   "source": [
    "model_w = Word2Vec(sentences.to_array_nolabel(), workers=num_workers, size=num_features, sg=1,\n",
    "                            min_count = min_word_count, window = context, sample = downsampling)"
   ]
  },
  {
   "cell_type": "code",
   "execution_count": 84,
   "metadata": {
    "collapsed": false
   },
   "outputs": [
    {
     "data": {
      "text/plain": [
       "[(u'somebody', 0.9557816386222839),\n",
       " (u'hear', 0.9443709850311279),\n",
       " (u'stop', 0.9426016807556152),\n",
       " (u'stay', 0.9421113729476929),\n",
       " (u'thinking', 0.9378712177276611),\n",
       " (u'throw', 0.937653660774231),\n",
       " (u'heard', 0.936614990234375),\n",
       " (u'buy', 0.9314950108528137),\n",
       " (u'read', 0.929196834564209),\n",
       " (u'wish', 0.9273146390914917)]"
      ]
     },
     "execution_count": 84,
     "metadata": {},
     "output_type": "execute_result"
    }
   ],
   "source": [
    "model_w.most_similar(\"hate\")"
   ]
  },
  {
   "cell_type": "code",
   "execution_count": 80,
   "metadata": {
    "collapsed": false
   },
   "outputs": [
    {
     "name": "stdout",
     "output_type": "stream",
     "text": [
      "15560\r"
     ]
    }
   ],
   "source": [
    "y = (critics_f.fresh == 'fresh').values.astype(np.int)\n",
    "\n",
    "X = np.zeros((len(mask), num_features))\n",
    "\n",
    "for i in range(len(mask)):\n",
    "    print '{0}\\r'.format(i),\n",
    "    for item in sentences_nolabel[i]:\n",
    "        if item in model_w.wv.vocab:\n",
    "            X[i] = X[i] + model_w[item]\n",
    "    #X[i] = X[i] / len(sentences_nolabel[i])\n",
    "    \n",
    "    #X[i] = model.docvecs['row_' + '%s' % i]\n",
    "    #X[i] = model.infer_vector(sentences.to_array()[i].words)"
   ]
  },
  {
   "cell_type": "code",
   "execution_count": 81,
   "metadata": {
    "collapsed": false
   },
   "outputs": [
    {
     "name": "stdout",
     "output_type": "stream",
     "text": [
      "Accuracy on training data: 0.709695\n",
      "Accuracy on test data:     0.689655\n"
     ]
    }
   ],
   "source": [
    "clf = LogisticRegression().fit(X[mask], y[mask])\n",
    "#clf = LogisticRegression().fit(X[np.random.shuffle(mask)], y[mask])\n",
    "\n",
    "#your turn. Print the accuracy on the test and training dataset\n",
    "training_accuracy = clf.score(X[mask], y[mask])\n",
    "test_accuracy = clf.score(X[~mask], y[~mask])\n",
    "\n",
    "print(\"Accuracy on training data: {:2f}\".format(training_accuracy))\n",
    "print(\"Accuracy on test data:     {:2f}\".format(test_accuracy))"
   ]
  },
  {
   "cell_type": "code",
   "execution_count": null,
   "metadata": {
    "collapsed": true
   },
   "outputs": [],
   "source": []
  },
  {
   "cell_type": "code",
   "execution_count": null,
   "metadata": {
    "collapsed": true
   },
   "outputs": [],
   "source": []
  },
  {
   "cell_type": "code",
   "execution_count": null,
   "metadata": {
    "collapsed": true
   },
   "outputs": [],
   "source": []
  },
  {
   "cell_type": "code",
   "execution_count": null,
   "metadata": {
    "collapsed": true
   },
   "outputs": [],
   "source": []
  },
  {
   "cell_type": "code",
   "execution_count": null,
   "metadata": {
    "collapsed": true
   },
   "outputs": [],
   "source": []
  }
 ],
 "metadata": {
  "kernelspec": {
   "display_name": "Python 2",
   "language": "python",
   "name": "python2"
  },
  "language_info": {
   "codemirror_mode": {
    "name": "ipython",
    "version": 2
   },
   "file_extension": ".py",
   "mimetype": "text/x-python",
   "name": "python",
   "nbconvert_exporter": "python",
   "pygments_lexer": "ipython2",
   "version": "2.7.13"
  }
 },
 "nbformat": 4,
 "nbformat_minor": 0
}
