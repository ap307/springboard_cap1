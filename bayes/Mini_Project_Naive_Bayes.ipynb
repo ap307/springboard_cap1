{
 "cells": [
  {
   "cell_type": "markdown",
   "metadata": {},
   "source": [
    "# Basic Text Classification with Naive Bayes\n",
    "***\n",
    "In the mini-project, you'll learn the basics of text analysis using a subset of movie reviews from the rotten tomatoes database. You'll also use a fundamental technique in Bayesian inference, called Naive Bayes. This mini-project is based on [Lab 10 of Harvard's CS109](https://github.com/cs109/2015lab10) class.  Please free to go to the original lab for additional exercises and solutions."
   ]
  },
  {
   "cell_type": "code",
   "execution_count": 50,
   "metadata": {
    "collapsed": false
   },
   "outputs": [],
   "source": [
    "%matplotlib inline\n",
    "import numpy as np\n",
    "import scipy as sp\n",
    "import matplotlib as mpl\n",
    "import matplotlib.cm as cm\n",
    "import matplotlib.pyplot as plt\n",
    "import pandas as pd\n",
    "import seaborn as sns\n",
    "from six.moves import range\n",
    "\n",
    "# Setup Pandas\n",
    "pd.set_option('display.width', 500)\n",
    "pd.set_option('display.max_columns', 100)\n",
    "pd.set_option('display.notebook_repr_html', True)\n",
    "\n",
    "# Setup Seaborn\n",
    "sns.set_style(\"whitegrid\")\n",
    "sns.set_context(\"poster\")\n",
    "\n",
    "# Setup sklearn\n",
    "from sklearn.model_selection import KFold, train_test_split, GridSearchCV\n",
    "from sklearn.naive_bayes import MultinomialNB\n",
    "from sklearn.ensemble import RandomForestClassifier\n",
    "from sklearn.linear_model import LogisticRegression\n",
    "from sklearn.feature_extraction.text import TfidfVectorizer\n",
    "from sklearn.model_selection import train_test_split\n",
    "from sklearn.preprocessing import MinMaxScaler\n",
    "from sklearn.metrics import accuracy_score\n",
    "\n",
    "# gensim modules\n",
    "from gensim import utils\n",
    "from gensim.models.doc2vec import TaggedDocument\n",
    "from gensim.models import Doc2Vec, Word2Vec\n",
    "\n",
    "# Setup nlkt\n",
    "from nltk import word_tokenize          \n",
    "from nltk.stem import WordNetLemmatizer \n",
    "class LemmaTokenizer(object):\n",
    "    def __init__(self):\n",
    "        self.wnl = WordNetLemmatizer()\n",
    "    def __call__(self, doc):\n",
    "        return [self.wnl.lemmatize(t) for t in word_tokenize(doc)]\n",
    "\n",
    "import string\n",
    "import xgboost as xgb\n",
    "\n",
    "import logging\n",
    "logging.basicConfig(format='%(asctime)s : %(levelname)s : %(message)s', level=logging.INFO)"
   ]
  },
  {
   "cell_type": "code",
   "execution_count": 51,
   "metadata": {
    "collapsed": false
   },
   "outputs": [],
   "source": [
    "class D2V_LabeledLineSentence(object):\n",
    "    def __init__(self, paragraph_array):\n",
    "        self.paragraph_array = paragraph_array\n",
    "        \n",
    "    def __iter__(self):\n",
    "        for review, line in enumerate(self.paragraph_array.reviews):\n",
    "            encoded = str(line).split()\n",
    "            yield TaggedDocument(encoded, tag_map[self.paragraph_array.sentiment[review]])\n",
    "    \n",
    "    def to_array(self):\n",
    "        self.sentences = []\n",
    "        for review, line in enumerate(self.paragraph_array.reviews):\n",
    "            encoded = str(line).split()\n",
    "            self.sentences.append(TaggedDocument(encoded, tag_map[self.paragraph_array.sentiment[review]]))\n",
    "        return self.sentences\n",
    "    \n",
    "    def to_array_nolabel(self):\n",
    "        self.sentences = []\n",
    "        for review, line in enumerate(self.paragraph_array.reviews):\n",
    "            encoded = str(line).split()\n",
    "            self.sentences.append(encoded)\n",
    "        return self.sentences\n",
    "    \n",
    "    def sentences_perm(self):\n",
    "        np.random.shuffle(self.sentences)\n",
    "        return self.sentences"
   ]
  },
  {
   "cell_type": "code",
   "execution_count": 52,
   "metadata": {
    "collapsed": true
   },
   "outputs": [],
   "source": [
    "class W2V_LabeledLineSentence(object):\n",
    "    def __init__(self, paragraph_array):\n",
    "        self.paragraph_array = paragraph_array\n",
    "        \n",
    "    def __iter__(self):\n",
    "        for review, line in enumerate(self.paragraph_array):\n",
    "            encoded = str(line).split()\n",
    "            yield self.sentences.append(encoded)\n",
    "    \n",
    "    def to_array_nolabel(self):\n",
    "        self.sentences = []\n",
    "        for review, line in enumerate(self.paragraph_array):\n",
    "            encoded = str(line).split()\n",
    "            self.sentences.append(encoded)\n",
    "        return self.sentences\n",
    "    \n",
    "    def sentences_perm(self):\n",
    "        np.random.shuffle(self.sentences)\n",
    "        return self.sentences"
   ]
  },
  {
   "cell_type": "markdown",
   "metadata": {},
   "source": [
    "# Table of Contents\n",
    "\n",
    "* [Rotten Tomatoes Dataset](#Rotten-Tomatoes-Dataset)\n",
    "    * [Explore](#Explore)\n",
    "* [The Vector Space Model and a Search Engine](#The-Vector-Space-Model-and-a-Search-Engine)\n",
    "    * [In Code](#In-Code)\n",
    "* [Naive Bayes](#Naive-Bayes)\n",
    "    * [Multinomial Naive Bayes and Other Likelihood Functions](#Multinomial-Naive-Bayes-and-Other-Likelihood-Functions)\n",
    "    * [Picking Hyperparameters for Naive Bayes and Text Maintenance](#Picking-Hyperparameters-for-Naive-Bayes-and-Text-Maintenance)\n",
    "* [Interpretation](#Interpretation)\n"
   ]
  },
  {
   "cell_type": "markdown",
   "metadata": {},
   "source": [
    "## Rotten Tomatoes Dataset"
   ]
  },
  {
   "cell_type": "code",
   "execution_count": 53,
   "metadata": {
    "collapsed": false
   },
   "outputs": [
    {
     "data": {
      "text/html": [
       "<div>\n",
       "<table border=\"1\" class=\"dataframe\">\n",
       "  <thead>\n",
       "    <tr style=\"text-align: right;\">\n",
       "      <th></th>\n",
       "      <th>critic</th>\n",
       "      <th>fresh</th>\n",
       "      <th>imdb</th>\n",
       "      <th>publication</th>\n",
       "      <th>quote</th>\n",
       "      <th>review_date</th>\n",
       "      <th>rtid</th>\n",
       "      <th>title</th>\n",
       "    </tr>\n",
       "  </thead>\n",
       "  <tbody>\n",
       "    <tr>\n",
       "      <th>1</th>\n",
       "      <td>Derek Adams</td>\n",
       "      <td>fresh</td>\n",
       "      <td>114709</td>\n",
       "      <td>Time Out</td>\n",
       "      <td>So ingenious in concept, design and execution ...</td>\n",
       "      <td>2009-10-04</td>\n",
       "      <td>9559</td>\n",
       "      <td>Toy story</td>\n",
       "    </tr>\n",
       "    <tr>\n",
       "      <th>2</th>\n",
       "      <td>Richard Corliss</td>\n",
       "      <td>fresh</td>\n",
       "      <td>114709</td>\n",
       "      <td>TIME Magazine</td>\n",
       "      <td>The year's most inventive comedy.</td>\n",
       "      <td>2008-08-31</td>\n",
       "      <td>9559</td>\n",
       "      <td>Toy story</td>\n",
       "    </tr>\n",
       "    <tr>\n",
       "      <th>3</th>\n",
       "      <td>David Ansen</td>\n",
       "      <td>fresh</td>\n",
       "      <td>114709</td>\n",
       "      <td>Newsweek</td>\n",
       "      <td>A winning animated feature that has something ...</td>\n",
       "      <td>2008-08-18</td>\n",
       "      <td>9559</td>\n",
       "      <td>Toy story</td>\n",
       "    </tr>\n",
       "    <tr>\n",
       "      <th>4</th>\n",
       "      <td>Leonard Klady</td>\n",
       "      <td>fresh</td>\n",
       "      <td>114709</td>\n",
       "      <td>Variety</td>\n",
       "      <td>The film sports a provocative and appealing st...</td>\n",
       "      <td>2008-06-09</td>\n",
       "      <td>9559</td>\n",
       "      <td>Toy story</td>\n",
       "    </tr>\n",
       "    <tr>\n",
       "      <th>5</th>\n",
       "      <td>Jonathan Rosenbaum</td>\n",
       "      <td>fresh</td>\n",
       "      <td>114709</td>\n",
       "      <td>Chicago Reader</td>\n",
       "      <td>An entertaining computer-generated, hyperreali...</td>\n",
       "      <td>2008-03-10</td>\n",
       "      <td>9559</td>\n",
       "      <td>Toy story</td>\n",
       "    </tr>\n",
       "  </tbody>\n",
       "</table>\n",
       "</div>"
      ],
      "text/plain": [
       "               critic  fresh    imdb     publication                                              quote review_date  rtid      title\n",
       "1         Derek Adams  fresh  114709        Time Out  So ingenious in concept, design and execution ...  2009-10-04  9559  Toy story\n",
       "2     Richard Corliss  fresh  114709   TIME Magazine                  The year's most inventive comedy.  2008-08-31  9559  Toy story\n",
       "3         David Ansen  fresh  114709        Newsweek  A winning animated feature that has something ...  2008-08-18  9559  Toy story\n",
       "4       Leonard Klady  fresh  114709         Variety  The film sports a provocative and appealing st...  2008-06-09  9559  Toy story\n",
       "5  Jonathan Rosenbaum  fresh  114709  Chicago Reader  An entertaining computer-generated, hyperreali...  2008-03-10  9559  Toy story"
      ]
     },
     "execution_count": 53,
     "metadata": {},
     "output_type": "execute_result"
    }
   ],
   "source": [
    "critics = pd.read_csv('./critics.csv')\n",
    "#let's drop rows with missing quotes\n",
    "critics = critics[~critics.quote.isnull()]\n",
    "critics.head()"
   ]
  },
  {
   "cell_type": "code",
   "execution_count": 54,
   "metadata": {
    "collapsed": false
   },
   "outputs": [],
   "source": [
    "# Looks like the original code is wrong - was setting the training size to 1 - 0.7 = 0.3\n",
    "_, itest = train_test_split(range(critics.shape[0]), train_size=0.7)\n",
    "#mask = np.zeros(critics.shape[0], dtype=np.bool)\n",
    "#mask[itest] = True\n",
    "mask = np.ones(critics.shape[0], dtype=np.bool)\n",
    "mask[itest] = False"
   ]
  },
  {
   "cell_type": "markdown",
   "metadata": {},
   "source": [
    "### Explore"
   ]
  },
  {
   "cell_type": "code",
   "execution_count": 55,
   "metadata": {
    "collapsed": false
   },
   "outputs": [
    {
     "name": "stdout",
     "output_type": "stream",
     "text": [
      "Number of reviews: 15561\n",
      "Number of critics: 623\n",
      "Number of movies:  1921\n"
     ]
    }
   ],
   "source": [
    "n_reviews = len(critics)\n",
    "n_movies = critics.rtid.unique().size\n",
    "n_critics = critics.critic.unique().size\n",
    "\n",
    "\n",
    "print(\"Number of reviews: {:d}\".format(n_reviews))\n",
    "print(\"Number of critics: {:d}\".format(n_critics))\n",
    "print(\"Number of movies:  {:d}\".format(n_movies))"
   ]
  },
  {
   "cell_type": "code",
   "execution_count": 56,
   "metadata": {
    "collapsed": false
   },
   "outputs": [
    {
     "data": {
      "image/png": "[encoded data removed]",
      "text/plain": [
       "<matplotlib.figure.Figure at 0x10af3dd8>"
      ]
     },
     "metadata": {},
     "output_type": "display_data"
    }
   ],
   "source": [
    "df = critics.copy()\n",
    "df['fresh'] = df.fresh == 'fresh'\n",
    "grp = df.groupby('critic')\n",
    "counts = grp.critic.count()  # number of reviews by each critic\n",
    "means = grp.fresh.mean()     # average freshness for each critic\n",
    "\n",
    "means[counts > 100].hist(bins=10, edgecolor='w', lw=1)\n",
    "plt.xlabel(\"Average Rating per critic\")\n",
    "plt.ylabel(\"Number of Critics\")\n",
    "plt.yticks([0, 2, 4, 6, 8, 10]);"
   ]
  },
  {
   "cell_type": "markdown",
   "metadata": {},
   "source": [
    "<div class=\"span5 alert alert-info\">\n",
    "<h3>Exercise Set I</h3>\n",
    "<br/>\n",
    "<b>Exercise:</b> Look at the histogram above. Tell a story about the average ratings per critic. What shape does the distribution look like? What is interesting about the distribution? What might explain these interesting things?\n",
    "</div>"
   ]
  },
  {
   "cell_type": "markdown",
   "metadata": {},
   "source": [
    "Distribution is cenetered above 0.5 and skewed towards more positive ratings. However the distribution appears almost bimodal, with one distribution (applied to a the smaller sub-population) centered around 0.5 and another distribuiton centered at 65-70% positive ratings. Indicates that reviewers could be categorized between groups which give as many \"fresh\" reviews as not, and others that tend towards more positive reviews than not. Worth investigating whether selection bias exists for the positively biased group (e.g. whether these reviewers seek out movies in genres / with actors that they are more positively disposed to prior to their review)."
   ]
  },
  {
   "cell_type": "markdown",
   "metadata": {},
   "source": [
    "## The Vector Space Model and a Search Engine"
   ]
  },
  {
   "cell_type": "markdown",
   "metadata": {},
   "source": [
    "All the diagrams here are snipped from [*Introduction to Information Retrieval* by Manning et. al.]( http://nlp.stanford.edu/IR-book/) which is a great resource on text processing. For additional information on text mining and natural language processing, see [*Foundations of Statistical Natural Language Processing* by Manning and Schutze](http://nlp.stanford.edu/fsnlp/).\n",
    "\n",
    "Also check out Python packages [`nltk`](http://www.nltk.org/), [`spaCy`](https://spacy.io/), [`pattern`](http://www.clips.ua.ac.be/pattern), and their associated resources. Also see [`word2vec`](https://en.wikipedia.org/wiki/Word2vec).\n",
    "\n",
    "Let us define the vector derived from document $d$ by $\\bar V(d)$. What does this mean? Each document is treated as a vector containing information about the words contained in it. Each vector has the same length and each entry \"slot\" in the vector contains some kind of data about the words that appear in the document such as presence/absence (1/0), count (an integer) or some other statistic. Each vector has the same length because each document shared the same vocabulary across the full collection of documents -- this collection is called a *corpus*.\n",
    "\n",
    "To define the vocabulary, we take a union of all words we have seen in all documents. We then just associate an array index with them. So \"hello\" may be at index 5 and \"world\" at index 99.\n",
    "\n",
    "Suppose we have the following corpus:\n",
    "\n",
    "`A Fox one day spied a beautiful bunch of ripe grapes hanging from a vine trained along the branches of a tree. The grapes seemed ready to burst with juice, and the Fox's mouth watered as he gazed longingly at them.`\n",
    "\n",
    "Suppose we treat each sentence as a document $d$. The vocabulary (often called the *lexicon*) is the following:\n",
    "\n",
    "$V = \\left\\{\\right.$ `a, along, and, as, at, beautiful, branches, bunch, burst, day, fox, fox's, from, gazed, grapes, hanging, he, juice, longingly, mouth, of, one, ready, ripe, seemed, spied, the, them, to, trained, tree, vine, watered, with`$\\left.\\right\\}$\n",
    "\n",
    "Then the document\n",
    "\n",
    "`A Fox one day spied a beautiful bunch of ripe grapes hanging from a vine trained along the branches of a tree`\n",
    "\n",
    "may be represented as the following sparse vector of word counts:\n",
    "\n",
    "$$\\bar V(d) = \\left( 4,1,0,0,0,1,1,1,0,1,1,0,1,0,1,1,0,0,0,0,2,1,0,1,0,0,1,0,0,0,1,1,0,0 \\right)$$\n",
    "\n",
    "or more succinctly as\n",
    "\n",
    "`[(0, 4), (1, 1), (5, 1), (6, 1), (7, 1), (9, 1), (10, 1), (12, 1), (14, 1), (15, 1), (20, 2), (21, 1), (23, 1),`\n",
    "`(26, 1), (30, 1), (31, 1)]`\n",
    "\n",
    "along with a dictionary\n",
    "\n",
    "``\n",
    "{\n",
    "    0: a, 1: along, 5: beautiful, 6: branches, 7: bunch, 9: day, 10: fox, 12: from, 14: grapes, \n",
    "    15: hanging, 19: mouth, 20: of, 21: one, 23: ripe, 24: seemed, 25: spied, 26: the, \n",
    "    30: tree, 31: vine, \n",
    "}\n",
    "``\n",
    "\n",
    "Then, a set of documents becomes, in the usual `sklearn` style, a sparse matrix with rows being sparse arrays representing documents and columns representing the features/words in the vocabulary.\n",
    "\n",
    "Notice that this representation loses the relative ordering of the terms in the document. That is \"cat ate rat\" and \"rat ate cat\" are the same. Thus, this representation is also known as the Bag-Of-Words representation.\n",
    "\n",
    "Here is another example, from the book quoted above, although the matrix is transposed here so that documents are columns:\n",
    "\n",
    "![novel terms](terms.png)\n",
    "\n",
    "Such a matrix is also catted a Term-Document Matrix. Here, the terms being indexed could be stemmed before indexing; for instance, `jealous` and `jealousy` after stemming are the same feature. One could also make use of other \"Natural Language Processing\" transformations in constructing the vocabulary. We could use Lemmatization, which reduces words to lemmas: work, working, worked would all reduce to work. We could remove \"stopwords\" from our vocabulary, such as common words like \"the\". We could look for particular parts of speech, such as adjectives. This is often done in Sentiment Analysis. And so on. It all depends on our application.\n",
    "\n",
    "From the book:\n",
    ">The standard way of quantifying the similarity between two documents $d_1$ and $d_2$  is to compute the cosine similarity of their vector representations $\\bar V(d_1)$ and $\\bar V(d_2)$:\n",
    "\n",
    "$$S_{12} = \\frac{\\bar V(d_1) \\cdot \\bar V(d_2)}{|\\bar V(d_1)| \\times |\\bar V(d_2)|}$$\n",
    "\n",
    "![Vector Space Model](vsm.png)\n",
    "\n",
    "\n",
    ">There is a far more compelling reason to represent documents as vectors: we can also view a query as a vector. Consider the query q = jealous gossip. This query turns into the unit vector $\\bar V(q)$ = (0, 0.707, 0.707) on the three coordinates below. \n",
    "\n",
    "![novel terms](terms2.png)\n",
    "\n",
    ">The key idea now: to assign to each document d a score equal to the dot product:\n",
    "\n",
    "$$\\bar V(q) \\cdot \\bar V(d)$$\n",
    "\n",
    "Then we can use this simple Vector Model as a Search engine."
   ]
  },
  {
   "cell_type": "markdown",
   "metadata": {},
   "source": [
    "### In Code"
   ]
  },
  {
   "cell_type": "code",
   "execution_count": 57,
   "metadata": {
    "collapsed": false
   },
   "outputs": [
    {
     "name": "stdout",
     "output_type": "stream",
     "text": [
      "Original text is\n",
      "Hop on pop\n",
      "Hop off pop\n",
      "Hop Hop hop\n",
      "\n",
      "Transformed text vector is \n",
      "[[1 0 1 1]\n",
      " [1 1 0 1]\n",
      " [3 0 0 0]]\n",
      "\n",
      "Words for each feature:\n",
      "[u'hop', u'off', u'on', u'pop']\n"
     ]
    }
   ],
   "source": [
    "from sklearn.feature_extraction.text import CountVectorizer\n",
    "\n",
    "text = ['Hop on pop', 'Hop off pop', 'Hop Hop hop']\n",
    "print(\"Original text is\\n{}\".format('\\n'.join(text)))\n",
    "\n",
    "vectorizer = CountVectorizer(min_df=0)\n",
    "\n",
    "# call `fit` to build the vocabulary\n",
    "vectorizer.fit(text)\n",
    "\n",
    "# call `transform` to convert text to a bag of words\n",
    "x = vectorizer.transform(text)\n",
    "\n",
    "# CountVectorizer uses a sparse array to save memory, but it's easier in this assignment to \n",
    "# convert back to a \"normal\" numpy array\n",
    "x = x.toarray()\n",
    "\n",
    "print(\"\")\n",
    "print(\"Transformed text vector is \\n{}\".format(x))\n",
    "\n",
    "# `get_feature_names` tracks which word is associated with each column of the transformed x\n",
    "print(\"\")\n",
    "print(\"Words for each feature:\")\n",
    "print(vectorizer.get_feature_names())\n",
    "\n",
    "# Notice that the bag of words treatment doesn't preserve information about the *order* of words, \n",
    "# just their frequency"
   ]
  },
  {
   "cell_type": "code",
   "execution_count": 58,
   "metadata": {
    "collapsed": false
   },
   "outputs": [
    {
     "name": "stdout",
     "output_type": "stream",
     "text": [
      "  (0, 0)\t1\n",
      "  (0, 2)\t1\n",
      "  (0, 3)\t1\n",
      "  (1, 0)\t1\n",
      "  (1, 1)\t1\n",
      "  (1, 3)\t1\n",
      "  (2, 0)\t3\n"
     ]
    }
   ],
   "source": [
    "print vectorizer.transform(text)"
   ]
  },
  {
   "cell_type": "code",
   "execution_count": 59,
   "metadata": {
    "collapsed": false
   },
   "outputs": [],
   "source": [
    "def make_xy(critics, vectorizer=None):\n",
    "    #Your code here    \n",
    "    if vectorizer is None:\n",
    "        vectorizer = CountVectorizer()\n",
    "    X = vectorizer.fit_transform(critics.quote)\n",
    "    X = X.tocsc()  # some versions of sklearn return COO format\n",
    "    y = (critics.fresh == 'fresh').values.astype(np.int)\n",
    "    X_cols = vectorizer.get_feature_names()\n",
    "    return X, y, X_cols\n",
    "X, y, X_cols = make_xy(critics)\n",
    "X = X.toarray()"
   ]
  },
  {
   "cell_type": "markdown",
   "metadata": {},
   "source": [
    "## Naive Bayes"
   ]
  },
  {
   "cell_type": "markdown",
   "metadata": {},
   "source": [
    "From Bayes' Theorem, we have that\n",
    "\n",
    "$$P(c \\vert f) = \\frac{P(c \\cap f)}{P(f)}$$\n",
    "\n",
    "where $c$ represents a *class* or category, and $f$ represents a feature vector, such as $\\bar V(d)$ as above. **We are computing the probability that a document (or whatever we are classifying) belongs to category *c* given the features in the document.** $P(f)$ is really just a normalization constant, so the literature usually writes Bayes' Theorem in context of Naive Bayes as\n",
    "\n",
    "$$P(c \\vert f) \\propto P(f \\vert c) P(c) $$\n",
    "\n",
    "$P(c)$ is called the *prior* and is simply the probability of seeing class $c$. But what is $P(f \\vert c)$? This is the probability that we see feature set $f$ given that this document is actually in class $c$. This is called the *likelihood* and comes from the data. One of the major assumptions of the Naive Bayes model is that the features are *conditionally independent* given the class. While the presence of a particular discriminative word may uniquely identify the document as being part of class $c$ and thus violate general feature independence, conditional independence means that the presence of that term is independent of all the other words that appear *within that class*. This is a very important distinction. Recall that if two events are independent, then:\n",
    "\n",
    "$$P(A \\cap B) = P(A) \\cdot P(B)$$\n",
    "\n",
    "Thus, conditional independence implies\n",
    "\n",
    "$$P(f \\vert c)  = \\prod_i P(f_i | c) $$\n",
    "\n",
    "where $f_i$ is an individual feature (a word in this example).\n",
    "\n",
    "To make a classification, we then choose the class $c$ such that $P(c \\vert f)$ is maximal.\n",
    "\n",
    "There is a small caveat when computing these probabilities. For [floating point underflow](http://nlp.stanford.edu/IR-book/html/htmledition/naive-bayes-text-classification-1.html) we change the product into a sum by going into log space. This is called the LogSumExp trick. So:\n",
    "\n",
    "$$\\log P(f \\vert c)  = \\sum_i \\log P(f_i \\vert c) $$\n",
    "\n",
    "There is another caveat. What if we see a term that didn't exist in the training data? This means that $P(f_i \\vert c) = 0$ for that term, and thus $P(f \\vert c)  = \\prod_i P(f_i | c) = 0$, which doesn't help us at all. Instead of using zeros, we add a small negligible value called $\\alpha$ to each count. This is called Laplace Smoothing.\n",
    "\n",
    "$$P(f_i \\vert c) = \\frac{N_{ic}+\\alpha}{N_c + \\alpha N_i}$$\n",
    "\n",
    "where $N_{ic}$ is the number of times feature $i$ was seen in class $c$, $N_c$ is the number of times class $c$ was seen and $N_i$ is the number of times feature $i$ was seen globally. $\\alpha$ is sometimes called a regularization parameter."
   ]
  },
  {
   "cell_type": "markdown",
   "metadata": {},
   "source": [
    "### Multinomial Naive Bayes and Other Likelihood Functions\n",
    "\n",
    "Since we are modeling word counts, we are using variation of Naive Bayes called Multinomial Naive Bayes. This is because the likelihood function actually takes the form of the multinomial distribution.\n",
    "\n",
    "$$P(f \\vert c) = \\frac{\\left( \\sum_i f_i \\right)!}{\\prod_i f_i!} \\prod_{f_i} P(f_i \\vert c)^{f_i} \\propto \\prod_{i} P(f_i \\vert c)$$\n",
    "\n",
    "where the nasty term out front is absorbed as a normalization constant such that probabilities sum to 1.\n",
    "\n",
    "There are many other variations of Naive Bayes, all which depend on what type of value $f_i$ takes. If $f_i$ is continuous, we may be able to use *Gaussian Naive Bayes*. First compute the mean and variance for each class $c$. Then the likelihood, $P(f \\vert c)$ is given as follows\n",
    "\n",
    "$$P(f_i = v \\vert c) = \\frac{1}{\\sqrt{2\\pi \\sigma^2_c}} e^{- \\frac{\\left( v - \\mu_c \\right)^2}{2 \\sigma^2_c}}$$"
   ]
  },
  {
   "cell_type": "markdown",
   "metadata": {},
   "source": [
    "<div class=\"span5 alert alert-info\">\n",
    "<h3>Exercise Set II</h3>\n",
    "\n",
    "<p><b>Exercise:</b> Implement a simple Naive Bayes classifier:</p>\n",
    "\n",
    "<ol>\n",
    "<li> split the data set into a training and test set\n",
    "<li> Use `scikit-learn`'s `MultinomialNB()` classifier with default parameters.\n",
    "<li> train the classifier over the training set and test on the test set\n",
    "<li> print the accuracy scores for both the training and the test sets\n",
    "</ol>\n",
    "\n",
    "What do you notice? Is this a good classifier? If not, why not?\n",
    "</div>"
   ]
  },
  {
   "cell_type": "code",
   "execution_count": 60,
   "metadata": {
    "collapsed": false
   },
   "outputs": [],
   "source": [
    "# Split data set\n",
    "X_train, X_test, y_train, y_test = train_test_split(X, y, test_size=0.3, random_state=1)"
   ]
  },
  {
   "cell_type": "code",
   "execution_count": 61,
   "metadata": {
    "collapsed": false
   },
   "outputs": [],
   "source": [
    "# Instantiate MultinomialNB classifier\n",
    "Mult_NB = MultinomialNB(alpha = 1)\n",
    "\n",
    "# Fit classifier\n",
    "Mult_NB.fit(X_train, y_train)\n",
    "\n",
    "# Predit score\n",
    "y_pred = Mult_NB.predict(X_test)"
   ]
  },
  {
   "cell_type": "code",
   "execution_count": 62,
   "metadata": {
    "collapsed": false
   },
   "outputs": [
    {
     "name": "stdout",
     "output_type": "stream",
     "text": [
      "0.924623576937\n"
     ]
    }
   ],
   "source": [
    "# Accuracy score on train data\n",
    "print Mult_NB.score(X_train, y_train)"
   ]
  },
  {
   "cell_type": "code",
   "execution_count": 63,
   "metadata": {
    "collapsed": false
   },
   "outputs": [
    {
     "name": "stdout",
     "output_type": "stream",
     "text": [
      "0.768258727779\n"
     ]
    }
   ],
   "source": [
    "# Accuracy score on test data\n",
    "print Mult_NB.score(X_test, y_test)"
   ]
  },
  {
   "cell_type": "markdown",
   "metadata": {},
   "source": [
    "A \"flip of the coin\" algorithm would achieve a score of 0.50. This classifier clealry improves on that, however the difference in perofrmance between applying the fittd model to train data vs. test data is significant. This points to possiblity that the model is over fitted, or that there are words in the test data not present in the train data that are skewing predictions."
   ]
  },
  {
   "cell_type": "markdown",
   "metadata": {},
   "source": [
    "### Picking Hyperparameters for Naive Bayes and Text Maintenance"
   ]
  },
  {
   "cell_type": "markdown",
   "metadata": {},
   "source": [
    "We need to know what value to use for $\\alpha$, and we also need to know which words to include in the vocabulary. As mentioned earlier, some words are obvious stopwords. Other words appear so infrequently that they serve as noise, and other words in addition to stopwords appear so frequently that they may also serve as noise."
   ]
  },
  {
   "cell_type": "markdown",
   "metadata": {},
   "source": [
    "First, let's find an appropriate value for `min_df` for the `CountVectorizer`. `min_df` can be either an integer or a float/decimal. If it is an integer, `min_df` represents the minimum number of documents a word must appear in for it to be included in the vocabulary. If it is a float, it represents the minimum *percentage* of documents a word must appear in to be included in the vocabulary. From the documentation:"
   ]
  },
  {
   "cell_type": "markdown",
   "metadata": {},
   "source": [
    ">min_df: When building the vocabulary ignore terms that have a document frequency strictly lower than the given threshold. This value is also called cut-off in the literature. If float, the parameter represents a proportion of documents, integer absolute counts. This parameter is ignored if vocabulary is not None."
   ]
  },
  {
   "cell_type": "markdown",
   "metadata": {},
   "source": [
    "<div class=\"span5 alert alert-info\">\n",
    "<h3>Exercise Set III</h3>\n",
    "\n",
    "<p><b>Exercise:</b> Construct the cumulative distribution of document frequencies (df). The $x$-axis is a document count $x_i$ and the $y$-axis is the percentage of words that appear less than $x_i$ times. For example, at $x=5$, plot a point representing the percentage or number of words that appear in 5 or fewer documents.</p>\n",
    "\n",
    "<p><b>Exercise:</b> Look for the point at which the curve begins climbing steeply. This may be a good value for `min_df`. If we were interested in also picking `max_df`, we would likely pick the value where the curve starts to plateau. What value did you choose?</p>\n",
    "</div>"
   ]
  },
  {
   "cell_type": "code",
   "execution_count": 64,
   "metadata": {
    "collapsed": false
   },
   "outputs": [
    {
     "data": {
      "text/html": [
       "<div>\n",
       "<table border=\"1\" class=\"dataframe\">\n",
       "  <thead>\n",
       "    <tr style=\"text-align: right;\">\n",
       "      <th></th>\n",
       "      <th>000</th>\n",
       "      <th>0014</th>\n",
       "      <th>007</th>\n",
       "      <th>044</th>\n",
       "      <th>07</th>\n",
       "      <th>10</th>\n",
       "      <th>100</th>\n",
       "      <th>101</th>\n",
       "      <th>102</th>\n",
       "      <th>104</th>\n",
       "      <th>105</th>\n",
       "      <th>108</th>\n",
       "      <th>10th</th>\n",
       "      <th>11</th>\n",
       "      <th>110</th>\n",
       "      <th>112</th>\n",
       "      <th>1138</th>\n",
       "      <th>114</th>\n",
       "      <th>118</th>\n",
       "      <th>11th</th>\n",
       "      <th>12</th>\n",
       "      <th>124</th>\n",
       "      <th>125</th>\n",
       "      <th>128</th>\n",
       "      <th>13</th>\n",
       "      <th>130</th>\n",
       "      <th>131</th>\n",
       "      <th>132</th>\n",
       "      <th>133</th>\n",
       "      <th>134</th>\n",
       "      <th>136</th>\n",
       "      <th>137</th>\n",
       "      <th>13th</th>\n",
       "      <th>14</th>\n",
       "      <th>141</th>\n",
       "      <th>145</th>\n",
       "      <th>15</th>\n",
       "      <th>153</th>\n",
       "      <th>15th</th>\n",
       "      <th>16</th>\n",
       "      <th>160</th>\n",
       "      <th>161</th>\n",
       "      <th>1660s</th>\n",
       "      <th>16mm</th>\n",
       "      <th>16th</th>\n",
       "      <th>17</th>\n",
       "      <th>17th</th>\n",
       "      <th>18</th>\n",
       "      <th>180</th>\n",
       "      <th>185</th>\n",
       "      <th>...</th>\n",
       "      <th>zellweger</th>\n",
       "      <th>zemeckis</th>\n",
       "      <th>zen</th>\n",
       "      <th>zero</th>\n",
       "      <th>zeroes</th>\n",
       "      <th>zest</th>\n",
       "      <th>zestfully</th>\n",
       "      <th>zesty</th>\n",
       "      <th>zeta</th>\n",
       "      <th>zhang</th>\n",
       "      <th>zhivago</th>\n",
       "      <th>ziggurats</th>\n",
       "      <th>zigs</th>\n",
       "      <th>zigzag</th>\n",
       "      <th>zigzags</th>\n",
       "      <th>zillion</th>\n",
       "      <th>zimmer</th>\n",
       "      <th>zing</th>\n",
       "      <th>zinger</th>\n",
       "      <th>zingers</th>\n",
       "      <th>zings</th>\n",
       "      <th>zingy</th>\n",
       "      <th>zinnemann</th>\n",
       "      <th>zinner</th>\n",
       "      <th>zip</th>\n",
       "      <th>zipper</th>\n",
       "      <th>zippo</th>\n",
       "      <th>zippy</th>\n",
       "      <th>zips</th>\n",
       "      <th>zirconium</th>\n",
       "      <th>zoe</th>\n",
       "      <th>zombie</th>\n",
       "      <th>zombies</th>\n",
       "      <th>zombified</th>\n",
       "      <th>zonca</th>\n",
       "      <th>zone</th>\n",
       "      <th>zoning</th>\n",
       "      <th>zoo</th>\n",
       "      <th>zoological</th>\n",
       "      <th>zoom</th>\n",
       "      <th>zooming</th>\n",
       "      <th>zooms</th>\n",
       "      <th>zorro</th>\n",
       "      <th>zorros</th>\n",
       "      <th>zowie</th>\n",
       "      <th>zucker</th>\n",
       "      <th>zweibel</th>\n",
       "      <th>zwick</th>\n",
       "      <th>zzzzzs</th>\n",
       "      <th>zzzzzzzzz</th>\n",
       "    </tr>\n",
       "  </thead>\n",
       "  <tbody>\n",
       "    <tr>\n",
       "      <th>0</th>\n",
       "      <td>0</td>\n",
       "      <td>0</td>\n",
       "      <td>0</td>\n",
       "      <td>0</td>\n",
       "      <td>0</td>\n",
       "      <td>0</td>\n",
       "      <td>0</td>\n",
       "      <td>0</td>\n",
       "      <td>0</td>\n",
       "      <td>0</td>\n",
       "      <td>0</td>\n",
       "      <td>0</td>\n",
       "      <td>0</td>\n",
       "      <td>0</td>\n",
       "      <td>0</td>\n",
       "      <td>0</td>\n",
       "      <td>0</td>\n",
       "      <td>0</td>\n",
       "      <td>0</td>\n",
       "      <td>0</td>\n",
       "      <td>0</td>\n",
       "      <td>0</td>\n",
       "      <td>0</td>\n",
       "      <td>0</td>\n",
       "      <td>0</td>\n",
       "      <td>0</td>\n",
       "      <td>0</td>\n",
       "      <td>0</td>\n",
       "      <td>0</td>\n",
       "      <td>0</td>\n",
       "      <td>0</td>\n",
       "      <td>0</td>\n",
       "      <td>0</td>\n",
       "      <td>0</td>\n",
       "      <td>0</td>\n",
       "      <td>0</td>\n",
       "      <td>0</td>\n",
       "      <td>0</td>\n",
       "      <td>0</td>\n",
       "      <td>0</td>\n",
       "      <td>0</td>\n",
       "      <td>0</td>\n",
       "      <td>0</td>\n",
       "      <td>0</td>\n",
       "      <td>0</td>\n",
       "      <td>0</td>\n",
       "      <td>0</td>\n",
       "      <td>0</td>\n",
       "      <td>0</td>\n",
       "      <td>0</td>\n",
       "      <td>...</td>\n",
       "      <td>0</td>\n",
       "      <td>0</td>\n",
       "      <td>0</td>\n",
       "      <td>0</td>\n",
       "      <td>0</td>\n",
       "      <td>0</td>\n",
       "      <td>0</td>\n",
       "      <td>0</td>\n",
       "      <td>0</td>\n",
       "      <td>0</td>\n",
       "      <td>0</td>\n",
       "      <td>0</td>\n",
       "      <td>0</td>\n",
       "      <td>0</td>\n",
       "      <td>0</td>\n",
       "      <td>0</td>\n",
       "      <td>0</td>\n",
       "      <td>0</td>\n",
       "      <td>0</td>\n",
       "      <td>0</td>\n",
       "      <td>0</td>\n",
       "      <td>0</td>\n",
       "      <td>0</td>\n",
       "      <td>0</td>\n",
       "      <td>0</td>\n",
       "      <td>0</td>\n",
       "      <td>0</td>\n",
       "      <td>0</td>\n",
       "      <td>0</td>\n",
       "      <td>0</td>\n",
       "      <td>0</td>\n",
       "      <td>0</td>\n",
       "      <td>0</td>\n",
       "      <td>0</td>\n",
       "      <td>0</td>\n",
       "      <td>0</td>\n",
       "      <td>0</td>\n",
       "      <td>0</td>\n",
       "      <td>0</td>\n",
       "      <td>0</td>\n",
       "      <td>0</td>\n",
       "      <td>0</td>\n",
       "      <td>0</td>\n",
       "      <td>0</td>\n",
       "      <td>0</td>\n",
       "      <td>0</td>\n",
       "      <td>0</td>\n",
       "      <td>0</td>\n",
       "      <td>0</td>\n",
       "      <td>0</td>\n",
       "    </tr>\n",
       "    <tr>\n",
       "      <th>1</th>\n",
       "      <td>0</td>\n",
       "      <td>0</td>\n",
       "      <td>0</td>\n",
       "      <td>0</td>\n",
       "      <td>0</td>\n",
       "      <td>0</td>\n",
       "      <td>0</td>\n",
       "      <td>0</td>\n",
       "      <td>0</td>\n",
       "      <td>0</td>\n",
       "      <td>0</td>\n",
       "      <td>0</td>\n",
       "      <td>0</td>\n",
       "      <td>0</td>\n",
       "      <td>0</td>\n",
       "      <td>0</td>\n",
       "      <td>0</td>\n",
       "      <td>0</td>\n",
       "      <td>0</td>\n",
       "      <td>0</td>\n",
       "      <td>0</td>\n",
       "      <td>0</td>\n",
       "      <td>0</td>\n",
       "      <td>0</td>\n",
       "      <td>0</td>\n",
       "      <td>0</td>\n",
       "      <td>0</td>\n",
       "      <td>0</td>\n",
       "      <td>0</td>\n",
       "      <td>0</td>\n",
       "      <td>0</td>\n",
       "      <td>0</td>\n",
       "      <td>0</td>\n",
       "      <td>0</td>\n",
       "      <td>0</td>\n",
       "      <td>0</td>\n",
       "      <td>0</td>\n",
       "      <td>0</td>\n",
       "      <td>0</td>\n",
       "      <td>0</td>\n",
       "      <td>0</td>\n",
       "      <td>0</td>\n",
       "      <td>0</td>\n",
       "      <td>0</td>\n",
       "      <td>0</td>\n",
       "      <td>0</td>\n",
       "      <td>0</td>\n",
       "      <td>0</td>\n",
       "      <td>0</td>\n",
       "      <td>0</td>\n",
       "      <td>...</td>\n",
       "      <td>0</td>\n",
       "      <td>0</td>\n",
       "      <td>0</td>\n",
       "      <td>0</td>\n",
       "      <td>0</td>\n",
       "      <td>0</td>\n",
       "      <td>0</td>\n",
       "      <td>0</td>\n",
       "      <td>0</td>\n",
       "      <td>0</td>\n",
       "      <td>0</td>\n",
       "      <td>0</td>\n",
       "      <td>0</td>\n",
       "      <td>0</td>\n",
       "      <td>0</td>\n",
       "      <td>0</td>\n",
       "      <td>0</td>\n",
       "      <td>0</td>\n",
       "      <td>0</td>\n",
       "      <td>0</td>\n",
       "      <td>0</td>\n",
       "      <td>0</td>\n",
       "      <td>0</td>\n",
       "      <td>0</td>\n",
       "      <td>0</td>\n",
       "      <td>0</td>\n",
       "      <td>0</td>\n",
       "      <td>0</td>\n",
       "      <td>0</td>\n",
       "      <td>0</td>\n",
       "      <td>0</td>\n",
       "      <td>0</td>\n",
       "      <td>0</td>\n",
       "      <td>0</td>\n",
       "      <td>0</td>\n",
       "      <td>0</td>\n",
       "      <td>0</td>\n",
       "      <td>0</td>\n",
       "      <td>0</td>\n",
       "      <td>0</td>\n",
       "      <td>0</td>\n",
       "      <td>0</td>\n",
       "      <td>0</td>\n",
       "      <td>0</td>\n",
       "      <td>0</td>\n",
       "      <td>0</td>\n",
       "      <td>0</td>\n",
       "      <td>0</td>\n",
       "      <td>0</td>\n",
       "      <td>0</td>\n",
       "    </tr>\n",
       "    <tr>\n",
       "      <th>2</th>\n",
       "      <td>0</td>\n",
       "      <td>0</td>\n",
       "      <td>0</td>\n",
       "      <td>0</td>\n",
       "      <td>0</td>\n",
       "      <td>0</td>\n",
       "      <td>0</td>\n",
       "      <td>0</td>\n",
       "      <td>0</td>\n",
       "      <td>0</td>\n",
       "      <td>0</td>\n",
       "      <td>0</td>\n",
       "      <td>0</td>\n",
       "      <td>0</td>\n",
       "      <td>0</td>\n",
       "      <td>0</td>\n",
       "      <td>0</td>\n",
       "      <td>0</td>\n",
       "      <td>0</td>\n",
       "      <td>0</td>\n",
       "      <td>0</td>\n",
       "      <td>0</td>\n",
       "      <td>0</td>\n",
       "      <td>0</td>\n",
       "      <td>0</td>\n",
       "      <td>0</td>\n",
       "      <td>0</td>\n",
       "      <td>0</td>\n",
       "      <td>0</td>\n",
       "      <td>0</td>\n",
       "      <td>0</td>\n",
       "      <td>0</td>\n",
       "      <td>0</td>\n",
       "      <td>0</td>\n",
       "      <td>0</td>\n",
       "      <td>0</td>\n",
       "      <td>0</td>\n",
       "      <td>0</td>\n",
       "      <td>0</td>\n",
       "      <td>0</td>\n",
       "      <td>0</td>\n",
       "      <td>0</td>\n",
       "      <td>0</td>\n",
       "      <td>0</td>\n",
       "      <td>0</td>\n",
       "      <td>0</td>\n",
       "      <td>0</td>\n",
       "      <td>0</td>\n",
       "      <td>0</td>\n",
       "      <td>0</td>\n",
       "      <td>...</td>\n",
       "      <td>0</td>\n",
       "      <td>0</td>\n",
       "      <td>0</td>\n",
       "      <td>0</td>\n",
       "      <td>0</td>\n",
       "      <td>0</td>\n",
       "      <td>0</td>\n",
       "      <td>0</td>\n",
       "      <td>0</td>\n",
       "      <td>0</td>\n",
       "      <td>0</td>\n",
       "      <td>0</td>\n",
       "      <td>0</td>\n",
       "      <td>0</td>\n",
       "      <td>0</td>\n",
       "      <td>0</td>\n",
       "      <td>0</td>\n",
       "      <td>0</td>\n",
       "      <td>0</td>\n",
       "      <td>0</td>\n",
       "      <td>0</td>\n",
       "      <td>0</td>\n",
       "      <td>0</td>\n",
       "      <td>0</td>\n",
       "      <td>0</td>\n",
       "      <td>0</td>\n",
       "      <td>0</td>\n",
       "      <td>0</td>\n",
       "      <td>0</td>\n",
       "      <td>0</td>\n",
       "      <td>0</td>\n",
       "      <td>0</td>\n",
       "      <td>0</td>\n",
       "      <td>0</td>\n",
       "      <td>0</td>\n",
       "      <td>0</td>\n",
       "      <td>0</td>\n",
       "      <td>0</td>\n",
       "      <td>0</td>\n",
       "      <td>0</td>\n",
       "      <td>0</td>\n",
       "      <td>0</td>\n",
       "      <td>0</td>\n",
       "      <td>0</td>\n",
       "      <td>0</td>\n",
       "      <td>0</td>\n",
       "      <td>0</td>\n",
       "      <td>0</td>\n",
       "      <td>0</td>\n",
       "      <td>0</td>\n",
       "    </tr>\n",
       "    <tr>\n",
       "      <th>3</th>\n",
       "      <td>0</td>\n",
       "      <td>0</td>\n",
       "      <td>0</td>\n",
       "      <td>0</td>\n",
       "      <td>0</td>\n",
       "      <td>0</td>\n",
       "      <td>0</td>\n",
       "      <td>0</td>\n",
       "      <td>0</td>\n",
       "      <td>0</td>\n",
       "      <td>0</td>\n",
       "      <td>0</td>\n",
       "      <td>0</td>\n",
       "      <td>0</td>\n",
       "      <td>0</td>\n",
       "      <td>0</td>\n",
       "      <td>0</td>\n",
       "      <td>0</td>\n",
       "      <td>0</td>\n",
       "      <td>0</td>\n",
       "      <td>0</td>\n",
       "      <td>0</td>\n",
       "      <td>0</td>\n",
       "      <td>0</td>\n",
       "      <td>0</td>\n",
       "      <td>0</td>\n",
       "      <td>0</td>\n",
       "      <td>0</td>\n",
       "      <td>0</td>\n",
       "      <td>0</td>\n",
       "      <td>0</td>\n",
       "      <td>0</td>\n",
       "      <td>0</td>\n",
       "      <td>0</td>\n",
       "      <td>0</td>\n",
       "      <td>0</td>\n",
       "      <td>0</td>\n",
       "      <td>0</td>\n",
       "      <td>0</td>\n",
       "      <td>0</td>\n",
       "      <td>0</td>\n",
       "      <td>0</td>\n",
       "      <td>0</td>\n",
       "      <td>0</td>\n",
       "      <td>0</td>\n",
       "      <td>0</td>\n",
       "      <td>0</td>\n",
       "      <td>0</td>\n",
       "      <td>0</td>\n",
       "      <td>0</td>\n",
       "      <td>...</td>\n",
       "      <td>0</td>\n",
       "      <td>0</td>\n",
       "      <td>0</td>\n",
       "      <td>0</td>\n",
       "      <td>0</td>\n",
       "      <td>0</td>\n",
       "      <td>0</td>\n",
       "      <td>0</td>\n",
       "      <td>0</td>\n",
       "      <td>0</td>\n",
       "      <td>0</td>\n",
       "      <td>0</td>\n",
       "      <td>0</td>\n",
       "      <td>0</td>\n",
       "      <td>0</td>\n",
       "      <td>0</td>\n",
       "      <td>0</td>\n",
       "      <td>0</td>\n",
       "      <td>0</td>\n",
       "      <td>0</td>\n",
       "      <td>0</td>\n",
       "      <td>0</td>\n",
       "      <td>0</td>\n",
       "      <td>0</td>\n",
       "      <td>0</td>\n",
       "      <td>0</td>\n",
       "      <td>0</td>\n",
       "      <td>0</td>\n",
       "      <td>0</td>\n",
       "      <td>0</td>\n",
       "      <td>0</td>\n",
       "      <td>0</td>\n",
       "      <td>0</td>\n",
       "      <td>0</td>\n",
       "      <td>0</td>\n",
       "      <td>0</td>\n",
       "      <td>0</td>\n",
       "      <td>0</td>\n",
       "      <td>0</td>\n",
       "      <td>0</td>\n",
       "      <td>0</td>\n",
       "      <td>0</td>\n",
       "      <td>0</td>\n",
       "      <td>0</td>\n",
       "      <td>0</td>\n",
       "      <td>0</td>\n",
       "      <td>0</td>\n",
       "      <td>0</td>\n",
       "      <td>0</td>\n",
       "      <td>0</td>\n",
       "    </tr>\n",
       "    <tr>\n",
       "      <th>4</th>\n",
       "      <td>0</td>\n",
       "      <td>0</td>\n",
       "      <td>0</td>\n",
       "      <td>0</td>\n",
       "      <td>0</td>\n",
       "      <td>0</td>\n",
       "      <td>0</td>\n",
       "      <td>0</td>\n",
       "      <td>0</td>\n",
       "      <td>0</td>\n",
       "      <td>0</td>\n",
       "      <td>0</td>\n",
       "      <td>0</td>\n",
       "      <td>0</td>\n",
       "      <td>0</td>\n",
       "      <td>0</td>\n",
       "      <td>0</td>\n",
       "      <td>0</td>\n",
       "      <td>0</td>\n",
       "      <td>0</td>\n",
       "      <td>0</td>\n",
       "      <td>0</td>\n",
       "      <td>0</td>\n",
       "      <td>0</td>\n",
       "      <td>0</td>\n",
       "      <td>0</td>\n",
       "      <td>0</td>\n",
       "      <td>0</td>\n",
       "      <td>0</td>\n",
       "      <td>0</td>\n",
       "      <td>0</td>\n",
       "      <td>0</td>\n",
       "      <td>0</td>\n",
       "      <td>0</td>\n",
       "      <td>0</td>\n",
       "      <td>0</td>\n",
       "      <td>0</td>\n",
       "      <td>0</td>\n",
       "      <td>0</td>\n",
       "      <td>0</td>\n",
       "      <td>0</td>\n",
       "      <td>0</td>\n",
       "      <td>0</td>\n",
       "      <td>0</td>\n",
       "      <td>0</td>\n",
       "      <td>0</td>\n",
       "      <td>0</td>\n",
       "      <td>0</td>\n",
       "      <td>0</td>\n",
       "      <td>0</td>\n",
       "      <td>...</td>\n",
       "      <td>0</td>\n",
       "      <td>0</td>\n",
       "      <td>0</td>\n",
       "      <td>0</td>\n",
       "      <td>0</td>\n",
       "      <td>0</td>\n",
       "      <td>0</td>\n",
       "      <td>0</td>\n",
       "      <td>0</td>\n",
       "      <td>0</td>\n",
       "      <td>0</td>\n",
       "      <td>0</td>\n",
       "      <td>0</td>\n",
       "      <td>0</td>\n",
       "      <td>0</td>\n",
       "      <td>0</td>\n",
       "      <td>0</td>\n",
       "      <td>0</td>\n",
       "      <td>0</td>\n",
       "      <td>0</td>\n",
       "      <td>0</td>\n",
       "      <td>0</td>\n",
       "      <td>0</td>\n",
       "      <td>0</td>\n",
       "      <td>0</td>\n",
       "      <td>0</td>\n",
       "      <td>0</td>\n",
       "      <td>0</td>\n",
       "      <td>0</td>\n",
       "      <td>0</td>\n",
       "      <td>0</td>\n",
       "      <td>0</td>\n",
       "      <td>0</td>\n",
       "      <td>0</td>\n",
       "      <td>0</td>\n",
       "      <td>0</td>\n",
       "      <td>0</td>\n",
       "      <td>0</td>\n",
       "      <td>0</td>\n",
       "      <td>0</td>\n",
       "      <td>0</td>\n",
       "      <td>0</td>\n",
       "      <td>0</td>\n",
       "      <td>0</td>\n",
       "      <td>0</td>\n",
       "      <td>0</td>\n",
       "      <td>0</td>\n",
       "      <td>0</td>\n",
       "      <td>0</td>\n",
       "      <td>0</td>\n",
       "    </tr>\n",
       "  </tbody>\n",
       "</table>\n",
       "<p>5 rows × 22417 columns</p>\n",
       "</div>"
      ],
      "text/plain": [
       "   000  0014  007  044  07  10  100  101  102  104  105  108  10th  11  110  112  1138  114  118  11th  12  124  125  128  13  130  131  132  133  134  136  137  13th  14  141  145  15  153  15th  16  160  161  1660s  16mm  16th  17  17th  18  180  185    ...      zellweger  zemeckis  zen  zero  zeroes  zest  zestfully  zesty  zeta  zhang  zhivago  ziggurats  zigs  zigzag  zigzags  zillion  zimmer  zing  zinger  zingers  zings  zingy  zinnemann  zinner  zip  zipper  zippo  zippy  zips  \\\n",
       "0    0     0    0    0   0   0    0    0    0    0    0    0     0   0    0    0     0    0    0     0   0    0    0    0   0    0    0    0    0    0    0    0     0   0    0    0   0    0     0   0    0    0      0     0     0   0     0   0    0    0    ...              0         0    0     0       0     0          0      0     0      0        0          0     0       0        0        0       0     0       0        0      0      0          0       0    0       0      0      0     0   \n",
       "1    0     0    0    0   0   0    0    0    0    0    0    0     0   0    0    0     0    0    0     0   0    0    0    0   0    0    0    0    0    0    0    0     0   0    0    0   0    0     0   0    0    0      0     0     0   0     0   0    0    0    ...              0         0    0     0       0     0          0      0     0      0        0          0     0       0        0        0       0     0       0        0      0      0          0       0    0       0      0      0     0   \n",
       "2    0     0    0    0   0   0    0    0    0    0    0    0     0   0    0    0     0    0    0     0   0    0    0    0   0    0    0    0    0    0    0    0     0   0    0    0   0    0     0   0    0    0      0     0     0   0     0   0    0    0    ...              0         0    0     0       0     0          0      0     0      0        0          0     0       0        0        0       0     0       0        0      0      0          0       0    0       0      0      0     0   \n",
       "3    0     0    0    0   0   0    0    0    0    0    0    0     0   0    0    0     0    0    0     0   0    0    0    0   0    0    0    0    0    0    0    0     0   0    0    0   0    0     0   0    0    0      0     0     0   0     0   0    0    0    ...              0         0    0     0       0     0          0      0     0      0        0          0     0       0        0        0       0     0       0        0      0      0          0       0    0       0      0      0     0   \n",
       "4    0     0    0    0   0   0    0    0    0    0    0    0     0   0    0    0     0    0    0     0   0    0    0    0   0    0    0    0    0    0    0    0     0   0    0    0   0    0     0   0    0    0      0     0     0   0     0   0    0    0    ...              0         0    0     0       0     0          0      0     0      0        0          0     0       0        0        0       0     0       0        0      0      0          0       0    0       0      0      0     0   \n",
       "\n",
       "   zirconium  zoe  zombie  zombies  zombified  zonca  zone  zoning  zoo  zoological  zoom  zooming  zooms  zorro  zorros  zowie  zucker  zweibel  zwick  zzzzzs  zzzzzzzzz  \n",
       "0          0    0       0        0          0      0     0       0    0           0     0        0      0      0       0      0       0        0      0       0          0  \n",
       "1          0    0       0        0          0      0     0       0    0           0     0        0      0      0       0      0       0        0      0       0          0  \n",
       "2          0    0       0        0          0      0     0       0    0           0     0        0      0      0       0      0       0        0      0       0          0  \n",
       "3          0    0       0        0          0      0     0       0    0           0     0        0      0      0       0      0       0        0      0       0          0  \n",
       "4          0    0       0        0          0      0     0       0    0           0     0        0      0      0       0      0       0        0      0       0          0  \n",
       "\n",
       "[5 rows x 22417 columns]"
      ]
     },
     "execution_count": 64,
     "metadata": {},
     "output_type": "execute_result"
    }
   ],
   "source": [
    "# Your turn.\n",
    "X_freq = pd.DataFrame(data = (X >= 1).astype(int), columns = X_cols)\n",
    "X_freq.head()"
   ]
  },
  {
   "cell_type": "code",
   "execution_count": 65,
   "metadata": {
    "collapsed": false
   },
   "outputs": [
    {
     "data": {
      "text/plain": [
       "the       9502\n",
       "and       7552\n",
       "of        7133\n",
       "is        5120\n",
       "to        4957\n",
       "it        4312\n",
       "in        3672\n",
       "that      3290\n",
       "but       2360\n",
       "with      2359\n",
       "this      2260\n",
       "film      2205\n",
       "movie     2128\n",
       "as        1987\n",
       "for       1966\n",
       "an        1739\n",
       "its       1661\n",
       "be        1319\n",
       "on        1307\n",
       "has       1254\n",
       "one       1234\n",
       "by        1217\n",
       "not       1173\n",
       "are       1064\n",
       "you       1056\n",
       "more      1041\n",
       "all       1011\n",
       "than      1008\n",
       "at         973\n",
       "about      951\n",
       "from       948\n",
       "his        945\n",
       "have       839\n",
       "like       824\n",
       "most       785\n",
       "so         774\n",
       "there      752\n",
       "what       694\n",
       "if         678\n",
       "or         674\n",
       "can        655\n",
       "good       654\n",
       "up         647\n",
       "story      646\n",
       "who        645\n",
       "into       628\n",
       "he         601\n",
       "much       594\n",
       "comedy     582\n",
       "out        579\n",
       "dtype: int64"
      ]
     },
     "execution_count": 65,
     "metadata": {},
     "output_type": "execute_result"
    }
   ],
   "source": [
    "# Check max used words, not normalized by number of documents\n",
    "X_freq_avg = X_freq.sum().sort_values(ascending = False) # / critics.shape[0]\n",
    "X_freq_avg.head(50)"
   ]
  },
  {
   "cell_type": "code",
   "execution_count": 66,
   "metadata": {
    "collapsed": false
   },
   "outputs": [
    {
     "data": {
      "text/plain": [
       "balmy           1\n",
       "earphones       1\n",
       "eberhardt       1\n",
       "dunker          1\n",
       "ducks           1\n",
       "balloons        1\n",
       "edification     1\n",
       "dunston         1\n",
       "bunyans         1\n",
       "duckling        1\n",
       "dunking         1\n",
       "earplugs        1\n",
       "edify           1\n",
       "bahamas         1\n",
       "cajuns          1\n",
       "bunyan          1\n",
       "bailey          1\n",
       "cake            1\n",
       "earrings        1\n",
       "callousness     1\n",
       "cad             1\n",
       "burstyn         1\n",
       "caddyshack      1\n",
       "baiter          1\n",
       "canonically     1\n",
       "cacophony       1\n",
       "butterscotch    1\n",
       "dumbfounded     1\n",
       "backes          1\n",
       "dwell           1\n",
       "               ..\n",
       "mametspeak      1\n",
       "mama            1\n",
       "malnourished    1\n",
       "manned          1\n",
       "mannerist       1\n",
       "marcus          1\n",
       "maoists         1\n",
       "marches         1\n",
       "marched         1\n",
       "march           1\n",
       "marcello        1\n",
       "marceau         1\n",
       "marbled         1\n",
       "marble          1\n",
       "marauders       1\n",
       "mara            1\n",
       "maori           1\n",
       "manwhore        1\n",
       "manny           1\n",
       "manufactures    1\n",
       "manufacture     1\n",
       "manual          1\n",
       "mantello        1\n",
       "mantell         1\n",
       "mansion         1\n",
       "mansell         1\n",
       "manors          1\n",
       "manor           1\n",
       "manoeuvres      1\n",
       "lasers          1\n",
       "dtype: int64"
      ]
     },
     "execution_count": 66,
     "metadata": {},
     "output_type": "execute_result"
    }
   ],
   "source": [
    "# Check that converstion occurred appropriately\n",
    "(X_freq_avg[X_freq_avg.values==1])"
   ]
  },
  {
   "cell_type": "code",
   "execution_count": 67,
   "metadata": {
    "collapsed": false
   },
   "outputs": [],
   "source": [
    "x_hist, F, counts = np.unique(X_freq_avg, return_index=True, return_counts=True)\n",
    "y_hist = np.cumsum(counts)"
   ]
  },
  {
   "cell_type": "code",
   "execution_count": 68,
   "metadata": {
    "collapsed": false
   },
   "outputs": [
    {
     "data": {
      "image/png": "[encoded data removed]",
      "text/plain": [
       "<matplotlib.figure.Figure at 0x512bc780>"
      ]
     },
     "metadata": {},
     "output_type": "display_data"
    }
   ],
   "source": [
    "plt.plot(x_hist,y_hist)\n",
    "plt.xlabel(\"Number of times ocurring in reviews\")\n",
    "plt.ylabel(\"Number of words\")\n",
    "#plt.xlim(1, 10)\n",
    "plt.xscale('log')"
   ]
  },
  {
   "cell_type": "code",
   "execution_count": 69,
   "metadata": {
    "collapsed": true
   },
   "outputs": [],
   "source": [
    "# After word occurrence reaches approx. 1000 reviews, number of words rapily plateaus \n",
    "max_df = 1000\n",
    "\n",
    "# Exclude words which occurr on a small sample of reviews\n",
    "min_df = 5"
   ]
  },
  {
   "cell_type": "markdown",
   "metadata": {},
   "source": [
    "The parameter $\\alpha$ is chosen to be a small value that simply avoids having zeros in the probability computations. This value can sometimes be chosen arbitrarily with domain expertise, but we will use K-fold cross validation. In K-fold cross-validation, we divide the data into $K$ non-overlapping parts. We train on $K-1$ of the folds and test on the remaining fold. We then iterate, so that each fold serves as the test fold exactly once. The function `cv_score` performs the K-fold cross-validation algorithm for us, but we need to pass a function that measures the performance of the algorithm on each fold. "
   ]
  },
  {
   "cell_type": "code",
   "execution_count": 70,
   "metadata": {
    "collapsed": false
   },
   "outputs": [],
   "source": [
    "from sklearn.model_selection import KFold\n",
    "def cv_score(clf, X, y, scorefunc):\n",
    "    result = 0.\n",
    "    nfold = 5\n",
    "    for train, test in KFold(nfold).split(X): # split data into train/test groups, 5 times\n",
    "        clf.fit(X[train], y[train]) # fit the classifier, passed is as clf.\n",
    "        result += scorefunc(clf, X[test], y[test]) # evaluate score function on held-out data\n",
    "    return result / nfold # average"
   ]
  },
  {
   "cell_type": "markdown",
   "metadata": {},
   "source": [
    "We use the log-likelihood as the score here in `scorefunc`. The higher the log-likelihood, the better. Indeed, what we do in `cv_score` above is to implement the cross-validation part of `GridSearchCV`.\n",
    "\n",
    "The custom scoring function `scorefunc` allows us to use different metrics depending on the decision risk we care about (precision, accuracy, profit etc.) directly on the validation set. You will often find people using `roc_auc`, precision, recall, or `F1-score` as the scoring function."
   ]
  },
  {
   "cell_type": "code",
   "execution_count": 71,
   "metadata": {
    "collapsed": false
   },
   "outputs": [],
   "source": [
    "def log_likelihood(clf, x, y):\n",
    "    prob = clf.predict_log_proba(x)\n",
    "    rotten = y == 0\n",
    "    fresh = ~rotten\n",
    "    return prob[rotten, 0].sum() + prob[fresh, 1].sum()"
   ]
  },
  {
   "cell_type": "markdown",
   "metadata": {},
   "source": [
    "We'll cross-validate over the regularization parameter $\\alpha$."
   ]
  },
  {
   "cell_type": "markdown",
   "metadata": {},
   "source": [
    "Let's set up the train and test masks first, and then we can run the cross-validation procedure."
   ]
  },
  {
   "cell_type": "markdown",
   "metadata": {},
   "source": [
    "<div class=\"span5 alert alert-info\">\n",
    "<h3>Exercise Set IV</h3>\n",
    "\n",
    "<p><b>Exercise:</b> What does using the function `log_likelihood` as the score mean? What are we trying to optimize for?</p>\n",
    "\n",
    "<p><b>Exercise:</b> Without writing any code, what do you think would happen if you choose a value of $\\alpha$ that is too high?</p>\n",
    "\n",
    "<p><b>Exercise:</b> Using the skeleton code below, find the best values of the parameter `alpha`, and use the value of `min_df` you chose in the previous exercise set. Use the `cv_score` function above with the `log_likelihood` function for scoring.</p>\n",
    "</div>"
   ]
  },
  {
   "cell_type": "code",
   "execution_count": 72,
   "metadata": {
    "collapsed": false
   },
   "outputs": [
    {
     "name": "stdout",
     "output_type": "stream",
     "text": [
      "(15561, 6174)\n"
     ]
    }
   ],
   "source": [
    "from sklearn.naive_bayes import MultinomialNB\n",
    "\n",
    "#the grid of parameters to search over\n",
    "alphas = [.1, 1, 5, 10, 50]\n",
    "best_min_df = 5 # YOUR TURN: put your value of min_df here.\n",
    "\n",
    "#Find the best value for alpha and min_df, and the best classifier\n",
    "best_alpha = None\n",
    "maxscore=-np.inf\n",
    "\n",
    "#Moved out of loop, not clear why it was in it to begin with\n",
    "vectorizer = CountVectorizer(min_df=best_min_df)       \n",
    "Xthis, ythis, Xthis_cols = make_xy(critics, vectorizer)\n",
    "Xtrainthis = Xthis[mask]\n",
    "ytrainthis = ythis[mask]\n",
    "\n",
    "print Xthis.shape\n",
    "    \n",
    "for alpha in alphas: \n",
    "    GS_score = cv_score(MultinomialNB(alpha = alpha), Xtrainthis, ytrainthis, log_likelihood)\n",
    "    if GS_score > maxscore:\n",
    "        maxscore = GS_score\n",
    "        best_alpha = alpha"
   ]
  },
  {
   "cell_type": "code",
   "execution_count": 73,
   "metadata": {
    "collapsed": false
   },
   "outputs": [
    {
     "name": "stdout",
     "output_type": "stream",
     "text": [
      "alpha: 5\n"
     ]
    }
   ],
   "source": [
    "print(\"alpha: {}\".format(best_alpha))"
   ]
  },
  {
   "cell_type": "markdown",
   "metadata": {},
   "source": [
    "<div class=\"span5 alert alert-info\">\n",
    "<h3>Exercise Set V: Working with the Best Parameters</h3>\n",
    "\n",
    "<p><b>Exercise:</b> Using the best value of  `alpha` you just found, calculate the accuracy on the training and test sets. Is this classifier better? Why (not)?</p>\n",
    "\n",
    "</div>"
   ]
  },
  {
   "cell_type": "code",
   "execution_count": 74,
   "metadata": {
    "collapsed": false
   },
   "outputs": [
    {
     "name": "stdout",
     "output_type": "stream",
     "text": [
      "Accuracy on training data: 0.832446\n",
      "Accuracy on test data:     0.758621\n"
     ]
    }
   ],
   "source": [
    "vectorizer = CountVectorizer(min_df=best_min_df)\n",
    "X, y, X_cols = make_xy(critics, vectorizer)\n",
    "xtrain=X[mask]\n",
    "ytrain=y[mask]\n",
    "xtest=X[~mask]\n",
    "ytest=y[~mask]\n",
    "\n",
    "pd.DataFrame(X_cols).to_csv('./features_original.csv')\n",
    "\n",
    "clf = MultinomialNB(alpha=best_alpha).fit(xtrain, ytrain)\n",
    "\n",
    "#your turn. Print the accuracy on the test and training dataset\n",
    "training_accuracy = clf.score(xtrain, ytrain)\n",
    "test_accuracy = clf.score(xtest, ytest)\n",
    "\n",
    "print(\"Accuracy on training data: {:2f}\".format(training_accuracy))\n",
    "print(\"Accuracy on test data:     {:2f}\".format(test_accuracy))"
   ]
  },
  {
   "cell_type": "code",
   "execution_count": 75,
   "metadata": {
    "collapsed": false
   },
   "outputs": [
    {
     "name": "stdout",
     "output_type": "stream",
     "text": [
      "[[1006  825]\n",
      " [ 302 2536]]\n"
     ]
    }
   ],
   "source": [
    "from sklearn.metrics import confusion_matrix\n",
    "print(confusion_matrix(ytest, clf.predict(xtest)))"
   ]
  },
  {
   "cell_type": "markdown",
   "metadata": {},
   "source": [
    "Classifier is performing approximately the same in-sample as out-of-sample, and out-of-sample performance is the same as the original model but uses a more efficient feature space, so all things considered this model is likely better than the original."
   ]
  },
  {
   "cell_type": "markdown",
   "metadata": {},
   "source": [
    "## Interpretation"
   ]
  },
  {
   "cell_type": "markdown",
   "metadata": {},
   "source": [
    "### What are the strongly predictive features?\n",
    "\n",
    "We use a neat trick to identify strongly predictive features (i.e. words). \n",
    "\n",
    "* first, create a data set such that each row has exactly one feature. This is represented by the identity matrix.\n",
    "* use the trained classifier to make predictions on this matrix\n",
    "* sort the rows by predicted probabilities, and pick the top and bottom $K$ rows"
   ]
  },
  {
   "cell_type": "code",
   "execution_count": 76,
   "metadata": {
    "collapsed": false
   },
   "outputs": [
    {
     "name": "stdout",
     "output_type": "stream",
     "text": [
      "Good words\t     P(fresh | word)\n",
      "('            touching', '0.90')\n",
      "('             delight', '0.89')\n",
      "('         masterpiece', '0.88')\n",
      "('        entertaining', '0.88')\n",
      "('             kubrick', '0.87')\n",
      "('              moving', '0.87')\n",
      "('           beautiful', '0.87')\n",
      "('          remarkable', '0.86')\n",
      "('               witty', '0.86')\n",
      "('              superb', '0.86')\n",
      "Bad words\t     P(fresh | word)\n",
      "('            tiresome', '0.25')\n",
      "('     disappointingly', '0.23')\n",
      "('             unfunny', '0.22')\n",
      "('           pointless', '0.22')\n",
      "('       disappointing', '0.22')\n",
      "('                dull', '0.20')\n",
      "('               bland', '0.19')\n",
      "('          uninspired', '0.17')\n",
      "('       unfortunately', '0.17')\n",
      "('                lame', '0.16')\n"
     ]
    }
   ],
   "source": [
    "words = np.array(vectorizer.get_feature_names())\n",
    "\n",
    "x = np.eye(xtest.shape[1])\n",
    "probs = clf.predict_log_proba(x)[:, 0]\n",
    "ind = np.argsort(probs)\n",
    "\n",
    "good_words = words[ind[:10]]\n",
    "bad_words = words[ind[-10:]]\n",
    "\n",
    "good_prob = probs[ind[:10]]\n",
    "bad_prob = probs[ind[-10:]]\n",
    "\n",
    "print(\"Good words\\t     P(fresh | word)\")\n",
    "for w, p in zip(good_words, good_prob):\n",
    "    print(\"{:>20}\".format(w), \"{:.2f}\".format(1 - np.exp(p)))\n",
    "    \n",
    "print(\"Bad words\\t     P(fresh | word)\")\n",
    "for w, p in zip(bad_words, bad_prob):\n",
    "    print(\"{:>20}\".format(w), \"{:.2f}\".format(1 - np.exp(p)))"
   ]
  },
  {
   "cell_type": "code",
   "execution_count": 77,
   "metadata": {
    "collapsed": false
   },
   "outputs": [
    {
     "name": "stdout",
     "output_type": "stream",
     "text": [
      "Good words\t     P(fresh | word)\n",
      "('              superb', '0.86')\n",
      "('               witty', '0.86')\n",
      "('          remarkable', '0.86')\n",
      "('           beautiful', '0.87')\n",
      "('              moving', '0.87')\n",
      "('             kubrick', '0.87')\n",
      "('        entertaining', '0.88')\n",
      "('         masterpiece', '0.88')\n",
      "('             delight', '0.89')\n",
      "('            touching', '0.90')\n",
      "Bad words\t     P(fresh | word)\n",
      "('                lame', '0.16')\n",
      "('       unfortunately', '0.17')\n",
      "('          uninspired', '0.17')\n",
      "('               bland', '0.19')\n",
      "('                dull', '0.20')\n",
      "('           pointless', '0.22')\n",
      "('       disappointing', '0.22')\n",
      "('             unfunny', '0.22')\n",
      "('     disappointingly', '0.23')\n",
      "('            tiresome', '0.25')\n"
     ]
    }
   ],
   "source": [
    "words = np.array(vectorizer.get_feature_names())\n",
    "\n",
    "x = np.eye(xtest.shape[1])\n",
    "probs = clf.predict_log_proba(x)[:, 1]\n",
    "ind = np.argsort(probs)\n",
    "\n",
    "good_words = words[ind[-10:]]\n",
    "bad_words = words[ind[:10]]\n",
    "\n",
    "good_prob = probs[ind[-10:]]\n",
    "bad_prob = probs[ind[:10]]\n",
    "\n",
    "print(\"Good words\\t     P(fresh | word)\")\n",
    "for w, p in zip(good_words, good_prob):\n",
    "    print(\"{:>20}\".format(w), \"{:.2f}\".format(np.exp(p)))\n",
    "    \n",
    "print(\"Bad words\\t     P(fresh | word)\")\n",
    "for w, p in zip(bad_words, bad_prob):\n",
    "    print(\"{:>20}\".format(w), \"{:.2f}\".format(np.exp(p)))"
   ]
  },
  {
   "cell_type": "markdown",
   "metadata": {},
   "source": [
    "<div class=\"span5 alert alert-info\">\n",
    "<h3>Exercise Set VI</h3>\n",
    "\n",
    "<p><b>Exercise:</b> Why does this method work? What does the probability for each row in the identity matrix represent</p>\n",
    "\n",
    "</div>"
   ]
  },
  {
   "cell_type": "markdown",
   "metadata": {},
   "source": [
    "The probability of of a movie being fresh conditional on a single-word review"
   ]
  },
  {
   "cell_type": "markdown",
   "metadata": {},
   "source": [
    "The above exercise is an example of *feature selection*. There are many other feature selection methods. A list of feature selection methods available in `sklearn` is [here](http://scikit-learn.org/stable/modules/classes.html#module-sklearn.feature_selection). The most common feature selection technique for text mining is the chi-squared $\\left( \\chi^2 \\right)$ [method](http://nlp.stanford.edu/IR-book/html/htmledition/feature-selectionchi2-feature-selection-1.html)."
   ]
  },
  {
   "cell_type": "markdown",
   "metadata": {},
   "source": [
    "### Prediction Errors\n",
    "\n",
    "We can see mis-predictions as well."
   ]
  },
  {
   "cell_type": "code",
   "execution_count": 78,
   "metadata": {
    "collapsed": false
   },
   "outputs": [
    {
     "name": "stdout",
     "output_type": "stream",
     "text": [
      "Mis-predicted Rotten quotes\n",
      "---------------------------\n",
      "It survives today only as an unusually pure example of a typical 50s art-film strategy: the attempt to make the most modern and most popular of art forms acceptable to the intelligentsia by forcing it into an arcane, antique mold.\n",
      "\n",
      "Benefits from a lively lead performance by the miscast Denzel Washington but doesn't come within light years of the book, one of the greatest American autobiographies.\n",
      "\n",
      "For all the pleasure there is in seeing effective, great-looking black women grappling with major life issues on screen, Waiting to Exhale is an uneven piece.\n",
      "\n",
      "Despite some likable performances (Epps is especially winning), the drama in Higher Learning is constricted, hemmed in by Singleton's compulsion to view his characters as walking paradigms of racial and sexual politics.\n",
      "\n",
      "Walken is one of the few undeniably charismatic male villains of recent years; he can generate a snakelike charm that makes his worst characters the most memorable, and here he operates on pure style.\n",
      "\n",
      "Mis-predicted Fresh quotes\n",
      "--------------------------\n",
      "It's a one-joke movie, a funhouse ride, the cinematic equivalent of having a rubber spider thrown in your lap. But it doesn't matter if you reject the wispy script or the plot, which has as much substance as a spider's web; you'll jump every time.\n",
      "\n",
      "Though it's a good half hour too long, this overblown 1993 spin-off of the 60s TV show otherwise adds up to a pretty good suspense thriller.\n",
      "\n",
      "I saw this at a festival and hated it, then sat through it again a year later and decided it wasn't so bad, aside from the god-awful ending.\n",
      "\n",
      "This doesn't usually happen to me, but 15 minutes before the end of Casper I suddenly realized that if I didn't take a deep breath, I was going to start sobbing.\n",
      "\n",
      "The gangland plot is flimsy (bad guy Peter Greene wears too much eyeliner), and the jokes are erratic, but it's a far better showcase for Carrey's comic-from-Uranus talent than Ace Ventura.\n",
      "\n"
     ]
    }
   ],
   "source": [
    "x, y, x_cols = make_xy(critics, vectorizer)\n",
    "\n",
    "prob = clf.predict_proba(x)[:, 0]\n",
    "predict = clf.predict(x)\n",
    "\n",
    "bad_rotten = np.argsort(prob[y == 0])[:5]\n",
    "bad_fresh = np.argsort(prob[y == 1])[-5:]\n",
    "\n",
    "print(\"Mis-predicted Rotten quotes\")\n",
    "print('---------------------------')\n",
    "for row in bad_rotten:\n",
    "    print(critics[y == 0].quote.iloc[row])\n",
    "    print(\"\")\n",
    "\n",
    "print(\"Mis-predicted Fresh quotes\")\n",
    "print('--------------------------')\n",
    "for row in bad_fresh:\n",
    "    print(critics[y == 1].quote.iloc[row])\n",
    "    print(\"\")"
   ]
  },
  {
   "cell_type": "markdown",
   "metadata": {},
   "source": [
    "<div class=\"span5 alert alert-info\">\n",
    "<h3>Exercise Set VII: Predicting the Freshness for a New Review</h3>\n",
    "<br/>\n",
    "<div>\n",
    "<b>Exercise:</b>\n",
    "<ul>\n",
    "<li> Using your best trained classifier, predict the freshness of the following sentence: *'This movie is not remarkable, touching, or superb in any way'*\n",
    "<li> Is the result what you'd expect? Why (not)?\n",
    "</ul>\n",
    "</div>\n",
    "</div>"
   ]
  },
  {
   "cell_type": "code",
   "execution_count": 79,
   "metadata": {
    "collapsed": false
   },
   "outputs": [
    {
     "name": "stdout",
     "output_type": "stream",
     "text": [
      "[[ 0.00693025  0.99306975]]\n",
      "[1]\n"
     ]
    }
   ],
   "source": [
    "#your turn\n",
    "vec = (\"This movie is not remarkable, touching, or superb in any way\")\n",
    "vec_trans = vectorizer.transform([vec])\n",
    "\n",
    "prob = clf.predict_proba(vec_trans)\n",
    "predict = clf.predict(vec_trans)\n",
    "\n",
    "print prob\n",
    "print predict"
   ]
  },
  {
   "cell_type": "markdown",
   "metadata": {},
   "source": [
    "Classifier is predicting that review is fresh. Not surprising as the classifier does not put words into context and the presence of positive words like remarkable, touching and superb will indicate a strongly positive review."
   ]
  },
  {
   "cell_type": "markdown",
   "metadata": {},
   "source": [
    "### Aside: TF-IDF Weighting for Term Importance\n",
    "\n",
    "TF-IDF stands for \n",
    "\n",
    "`Term-Frequency X Inverse Document Frequency`.\n",
    "\n",
    "In the standard `CountVectorizer` model above, we used just the term frequency in a document of words in our vocabulary. In TF-IDF, we weight this term frequency by the inverse of its popularity in all documents. For example, if the word \"movie\" showed up in all the documents, it would not have much predictive value. It could actually be considered a stopword. By weighing its counts by 1 divided by its overall frequency, we downweight it. We can then use this TF-IDF weighted features as inputs to any classifier. **TF-IDF is essentially a measure of term importance, and of how discriminative a word is in a corpus.** There are a variety of nuances involved in computing TF-IDF, mainly involving where to add the smoothing term to avoid division by 0, or log of 0 errors. The formula for TF-IDF in `scikit-learn` differs from that of most textbooks: \n",
    "\n",
    "$$\\mbox{TF-IDF}(t, d) = \\mbox{TF}(t, d)\\times \\mbox{IDF}(t) = n_{td} \\log{\\left( \\frac{\\vert D \\vert}{\\vert d : t \\in d \\vert} + 1 \\right)}$$\n",
    "\n",
    "where $n_{td}$ is the number of times term $t$ occurs in document $d$, $\\vert D \\vert$ is the number of documents, and $\\vert d : t \\in d \\vert$ is the number of documents that contain $t$"
   ]
  },
  {
   "cell_type": "code",
   "execution_count": 80,
   "metadata": {
    "collapsed": true
   },
   "outputs": [],
   "source": [
    "# http://scikit-learn.org/dev/modules/feature_extraction.html#text-feature-extraction\n",
    "# http://scikit-learn.org/dev/modules/classes.html#text-feature-extraction-ref\n",
    "tfidfvectorizer = TfidfVectorizer(min_df=1, stop_words='english')\n",
    "Xtfidf=tfidfvectorizer.fit_transform(critics.quote)"
   ]
  },
  {
   "cell_type": "markdown",
   "metadata": {},
   "source": [
    "<div class=\"span5 alert alert-info\">\n",
    "<h3>Exercise Set VIII: Enrichment</h3>\n",
    "\n",
    "<p>\n",
    "There are several additional things we could try. Try some of these as exercises:\n",
    "<ol>\n",
    "<li> Build a Naive Bayes model where the features are n-grams instead of words. N-grams are phrases containing n words next to each other: a bigram contains 2 words, a trigram contains 3 words, and 6-gram contains 6 words. This is useful because \"not good\" and \"so good\" mean very different things. On the other hand, as n increases, the model does not scale well since the feature set becomes more sparse.\n",
    "<li> Try a model besides Naive Bayes, one that would allow for interactions between words -- for example, a Random Forest classifier.\n",
    "<li> Try adding supplemental features -- information about genre, director, cast, etc.\n",
    "<li> Use word2vec or [Latent Dirichlet Allocation](https://en.wikipedia.org/wiki/Latent_Dirichlet_allocation) to group words into topics and use those topics for prediction.\n",
    "<li> Use TF-IDF weighting instead of word counts.\n",
    "</ol>\n",
    "</p>\n",
    "\n",
    "<b>Exercise:</b> Try a few of these ideas to improve the model (or any other ideas of your own). Implement here and report on the result.\n",
    "</div>"
   ]
  },
  {
   "cell_type": "markdown",
   "metadata": {
    "collapsed": true
   },
   "source": [
    "# 1. N-gram Vectorizer"
   ]
  },
  {
   "cell_type": "code",
   "execution_count": 81,
   "metadata": {
    "collapsed": false
   },
   "outputs": [],
   "source": [
    "def make_xy_n(critics, vectorizer=None, n_gram=(1, 3), min_df=5, tokenizer=None):\n",
    "    #Your code here    \n",
    "    if vectorizer is None:\n",
    "        vectorizer = CountVectorizer(min_df=min_df, ngram_range=n_gram, tokenizer=tokenizer)\n",
    "    X = vectorizer.fit_transform(critics.quote)\n",
    "    X = X.tocsc()  # some versions of sklearn return COO format\n",
    "    y = (critics.fresh == 'fresh').values.astype(np.int)\n",
    "    X_cols = vectorizer.get_feature_names()\n",
    "    return X, y, X_cols\n",
    "\n",
    "X, y, X_cols = make_xy_n(critics, tokenizer=None)\n",
    "X = X.toarray()"
   ]
  },
  {
   "cell_type": "code",
   "execution_count": 82,
   "metadata": {
    "collapsed": false
   },
   "outputs": [
    {
     "name": "stdout",
     "output_type": "stream",
     "text": [
      "(15561L, 14748L)\n"
     ]
    }
   ],
   "source": [
    "print X.shape\n",
    "pd.DataFrame(X_cols).to_csv('./n_gram_features.csv')"
   ]
  },
  {
   "cell_type": "code",
   "execution_count": 83,
   "metadata": {
    "collapsed": false
   },
   "outputs": [
    {
     "name": "stdout",
     "output_type": "stream",
     "text": [
      "Accuracy on training data: 0.855766\n",
      "Accuracy on test data:     0.754980\n"
     ]
    }
   ],
   "source": [
    "clf = MultinomialNB(alpha=best_alpha).fit(X[mask], y[mask])\n",
    "\n",
    "#your turn. Print the accuracy on the test and training dataset\n",
    "training_accuracy = clf.score(X[mask], y[mask])\n",
    "test_accuracy = clf.score(X[~mask], y[~mask])\n",
    "\n",
    "print(\"Accuracy on training data: {:2f}\".format(training_accuracy))\n",
    "print(\"Accuracy on test data:     {:2f}\".format(test_accuracy))"
   ]
  },
  {
   "cell_type": "markdown",
   "metadata": {
    "collapsed": true
   },
   "source": [
    "N-rgrams do not appear to work significantly better than bag of words in this excercise"
   ]
  },
  {
   "cell_type": "markdown",
   "metadata": {
    "collapsed": true
   },
   "source": [
    "# 2. Use word stemming together with ngram generation"
   ]
  },
  {
   "cell_type": "code",
   "execution_count": 84,
   "metadata": {
    "collapsed": false
   },
   "outputs": [],
   "source": [
    "X, y, X_cols = make_xy_n(critics, n_gram=(1, 3), tokenizer=LemmaTokenizer())\n",
    "X = X.toarray()"
   ]
  },
  {
   "cell_type": "code",
   "execution_count": 85,
   "metadata": {
    "collapsed": false
   },
   "outputs": [
    {
     "name": "stdout",
     "output_type": "stream",
     "text": [
      "Accuracy on training data: 0.920951\n",
      "Accuracy on test data:     0.763333\n"
     ]
    }
   ],
   "source": [
    "clf = MultinomialNB(alpha=0.1).fit(X[mask], y[mask])\n",
    "\n",
    "#your turn. Print the accuracy on the test and training dataset\n",
    "training_accuracy = clf.score(X[mask], y[mask])\n",
    "test_accuracy = clf.score(X[~mask], y[~mask])\n",
    "\n",
    "print(\"Accuracy on training data: {:2f}\".format(training_accuracy))\n",
    "print(\"Accuracy on test data:     {:2f}\".format(test_accuracy))"
   ]
  },
  {
   "cell_type": "markdown",
   "metadata": {},
   "source": [
    "# 3. Use special character removal"
   ]
  },
  {
   "cell_type": "code",
   "execution_count": 86,
   "metadata": {
    "collapsed": false
   },
   "outputs": [],
   "source": [
    "critics_f = critics.copy()\n",
    "critics_f.quote = critics_f.quote.str.translate(string.maketrans(\"\",\"\"), string.punctuation.replace(\"'\",\"\"))"
   ]
  },
  {
   "cell_type": "code",
   "execution_count": 87,
   "metadata": {
    "collapsed": false
   },
   "outputs": [],
   "source": [
    "X, y, X_cols = make_xy_n(critics_f, tokenizer=None, n_gram=(1, 3))\n",
    "X = X.toarray()"
   ]
  },
  {
   "cell_type": "code",
   "execution_count": 88,
   "metadata": {
    "collapsed": false
   },
   "outputs": [
    {
     "name": "stdout",
     "output_type": "stream",
     "text": [
      "Accuracy on training data: 0.909934\n",
      "Accuracy on test data:     0.755194\n"
     ]
    }
   ],
   "source": [
    "clf = MultinomialNB(alpha=0.1).fit(X[mask], y[mask])\n",
    "\n",
    "#your turn. Print the accuracy on the test and training dataset\n",
    "training_accuracy = clf.score(X[mask], y[mask])\n",
    "test_accuracy = clf.score(X[~mask], y[~mask])\n",
    "\n",
    "print(\"Accuracy on training data: {:2f}\".format(training_accuracy))\n",
    "print(\"Accuracy on test data:     {:2f}\".format(test_accuracy))"
   ]
  },
  {
   "cell_type": "markdown",
   "metadata": {},
   "source": [
    "# 4. Test Random Forest Classifier"
   ]
  },
  {
   "cell_type": "code",
   "execution_count": 89,
   "metadata": {
    "collapsed": true
   },
   "outputs": [],
   "source": [
    "X, y, X_cols = make_xy_n(critics, n_gram=(1, 3), tokenizer=LemmaTokenizer())\n",
    "X = X.toarray()"
   ]
  },
  {
   "cell_type": "code",
   "execution_count": 90,
   "metadata": {
    "collapsed": false
   },
   "outputs": [
    {
     "name": "stdout",
     "output_type": "stream",
     "text": [
      "Accuracy on training data: 0.990911\n",
      "Accuracy on test data:     0.679803\n"
     ]
    }
   ],
   "source": [
    "clf = RandomForestClassifier().fit(X[mask], y[mask])\n",
    "\n",
    "#your turn. Print the accuracy on the test and training dataset\n",
    "training_accuracy = clf.score(X[mask], y[mask])\n",
    "test_accuracy = clf.score(X[~mask], y[~mask])\n",
    "\n",
    "print(\"Accuracy on training data: {:2f}\".format(training_accuracy))\n",
    "print(\"Accuracy on test data:     {:2f}\".format(test_accuracy))"
   ]
  },
  {
   "cell_type": "code",
   "execution_count": 91,
   "metadata": {
    "collapsed": true
   },
   "outputs": [],
   "source": [
    "# Random forest is significantly overfitting with default parameters, try manual tuning"
   ]
  },
  {
   "cell_type": "code",
   "execution_count": 92,
   "metadata": {
    "collapsed": false
   },
   "outputs": [
    {
     "name": "stderr",
     "output_type": "stream",
     "text": [
      "[Parallel(n_jobs=11)]: Done  20 out of  20 | elapsed:  2.6min remaining:    0.0s\n",
      "[Parallel(n_jobs=11)]: Done  20 out of  20 | elapsed:  2.6min finished\n",
      "[Parallel(n_jobs=11)]: Done  20 out of  20 | elapsed:    0.0s remaining:    0.0s\n",
      "[Parallel(n_jobs=11)]: Done  20 out of  20 | elapsed:    0.0s finished\n"
     ]
    },
    {
     "name": "stdout",
     "output_type": "stream",
     "text": [
      "Accuracy on training data: 0.890470\n",
      "Accuracy on test data:     0.669522\n",
      "Accuracy on OOB data:      0.661954\n"
     ]
    },
    {
     "name": "stderr",
     "output_type": "stream",
     "text": [
      "[Parallel(n_jobs=11)]: Done  20 out of  20 | elapsed:    0.0s remaining:    0.0s\n",
      "[Parallel(n_jobs=11)]: Done  20 out of  20 | elapsed:    0.0s finished\n"
     ]
    }
   ],
   "source": [
    "mod_RFC = RandomForestClassifier(max_features=None,\n",
    "                                 max_depth=15,\n",
    "                                 oob_score=True,\n",
    "                                 n_jobs=11,\n",
    "                                 n_estimators=200,\n",
    "                                 random_state=1,\n",
    "                                verbose=True)\n",
    "\n",
    "clf = mod_RFC.fit(X[mask], y[mask])\n",
    "\n",
    "#your turn. Print the accuracy on the test and training dataset\n",
    "training_accuracy = clf.score(X[mask], y[mask])\n",
    "test_accuracy = clf.score(X[~mask], y[~mask])\n",
    "\n",
    "print(\"Accuracy on training data: {:2f}\".format(training_accuracy))\n",
    "print(\"Accuracy on test data:     {:2f}\".format(test_accuracy))\n",
    "print(\"Accuracy on OOB data:      {:2f}\".format(clf.oob_score_))"
   ]
  },
  {
   "cell_type": "markdown",
   "metadata": {
    "collapsed": true
   },
   "source": [
    "# 5. xGBoost classifier"
   ]
  },
  {
   "cell_type": "code",
   "execution_count": 93,
   "metadata": {
    "collapsed": true
   },
   "outputs": [],
   "source": [
    "X, y, X_cols = make_xy_n(critics, n_gram=(1, 3), tokenizer=LemmaTokenizer())\n",
    "X = X.toarray()"
   ]
  },
  {
   "cell_type": "code",
   "execution_count": 94,
   "metadata": {
    "collapsed": true
   },
   "outputs": [],
   "source": [
    "XGB_classifier = xgb.XGBClassifier(n_jobs=9, objective='binary:logistic', silent=True\n",
    "                                  )"
   ]
  },
  {
   "cell_type": "code",
   "execution_count": 95,
   "metadata": {
    "collapsed": true
   },
   "outputs": [],
   "source": [
    "max_depth_search = [10, 50]\n",
    "n_estimators_search = [100, 500]\n",
    "learning_rate_search = [0.01, 0.5]\n",
    "min_child_weight_search = [1, 10]"
   ]
  },
  {
   "cell_type": "code",
   "execution_count": 96,
   "metadata": {
    "collapsed": false
   },
   "outputs": [],
   "source": [
    "#cv = GridSearchCV(XGB_classifier, {'max_depth': max_depth_search,\n",
    "#                                   'n_estimators': n_estimators_search,\n",
    "#                                   'learning_rate': learning_rate_search,\n",
    "#                                  'min_child_weight': min_child_weight_search},  verbose=5)\n",
    "#cv.fit(X, y)\n",
    "#cv.cv_results_"
   ]
  },
  {
   "cell_type": "code",
   "execution_count": 97,
   "metadata": {
    "collapsed": false
   },
   "outputs": [
    {
     "name": "stdout",
     "output_type": "stream",
     "text": [
      "[0]\tvalidation_0-error:0.370743\n",
      "[20]\tvalidation_0-error:0.358535\n",
      "[40]\tvalidation_0-error:0.354894\n",
      "[60]\tvalidation_0-error:0.353609\n",
      "[80]\tvalidation_0-error:0.350182\n",
      "[100]\tvalidation_0-error:0.345898\n",
      "[120]\tvalidation_0-error:0.342043\n",
      "[140]\tvalidation_0-error:0.340116\n",
      "[160]\tvalidation_0-error:0.335404\n",
      "[180]\tvalidation_0-error:0.33369\n",
      "[200]\tvalidation_0-error:0.330906\n",
      "[220]\tvalidation_0-error:0.326837\n",
      "[240]\tvalidation_0-error:0.325766\n",
      "[260]\tvalidation_0-error:0.324052\n",
      "[280]\tvalidation_0-error:0.322981\n",
      "[300]\tvalidation_0-error:0.319769\n",
      "[320]\tvalidation_0-error:0.319555\n",
      "[340]\tvalidation_0-error:0.318698\n",
      "[360]\tvalidation_0-error:0.318269\n",
      "[380]\tvalidation_0-error:0.316342\n",
      "[400]\tvalidation_0-error:0.314414\n",
      "[420]\tvalidation_0-error:0.313772\n",
      "[440]\tvalidation_0-error:0.312915\n",
      "[460]\tvalidation_0-error:0.310987\n",
      "[480]\tvalidation_0-error:0.309916\n",
      "[499]\tvalidation_0-error:0.30906\n",
      "Accuracy on training data: 0.815828\n",
      "Accuracy on test data:     0.690940\n"
     ]
    }
   ],
   "source": [
    "XGB_class = xgb.XGBClassifier(max_depth=15,\n",
    "                              objective='binary:logistic',\n",
    "                              n_estimators=200,\n",
    "                              min_child_weight=1,\n",
    "                              subsample=0.9,\n",
    "                              n_jobs=11,\n",
    "                              silent=False,\n",
    "                              learning_rate=0.01)\n",
    "\n",
    "clf = XGB_class.fit(X[mask], y[mask], eval_metric='error', verbose=20, eval_set=[(X[~mask], y[~mask])])\n",
    "\n",
    "#your turn. Print the accuracy on the test and training dataset\n",
    "training_accuracy = clf.score(X[mask], y[mask])\n",
    "test_accuracy = clf.score(X[~mask], y[~mask])\n",
    "\n",
    "print(\"Accuracy on training data: {:2f}\".format(training_accuracy))\n",
    "print(\"Accuracy on test data:     {:2f}\".format(test_accuracy))"
   ]
  },
  {
   "cell_type": "markdown",
   "metadata": {},
   "source": [
    "# 6. Use TF-IDF weighting instead of word counts."
   ]
  },
  {
   "cell_type": "code",
   "execution_count": 98,
   "metadata": {
    "collapsed": true
   },
   "outputs": [],
   "source": [
    "X, y, X_cols = make_xy_n(critics, vectorizer=tfidfvectorizer, tokenizer=None)\n",
    "X = X.toarray()"
   ]
  },
  {
   "cell_type": "code",
   "execution_count": 99,
   "metadata": {
    "collapsed": false
   },
   "outputs": [
    {
     "name": "stdout",
     "output_type": "stream",
     "text": [
      "(15561L, 22125L)\n"
     ]
    }
   ],
   "source": [
    "print X.shape"
   ]
  },
  {
   "cell_type": "code",
   "execution_count": 100,
   "metadata": {
    "collapsed": false
   },
   "outputs": [
    {
     "name": "stdout",
     "output_type": "stream",
     "text": [
      "Accuracy on training data: 0.950239\n",
      "Accuracy on test data:     0.751339\n"
     ]
    }
   ],
   "source": [
    "clf = MultinomialNB(alpha=0.1).fit(X[mask], y[mask])\n",
    "\n",
    "#your turn. Print the accuracy on the test and training dataset\n",
    "training_accuracy = clf.score(X[mask], y[mask])\n",
    "test_accuracy = clf.score(X[~mask], y[~mask])\n",
    "\n",
    "print(\"Accuracy on training data: {:2f}\".format(training_accuracy))\n",
    "print(\"Accuracy on test data:     {:2f}\".format(test_accuracy))"
   ]
  },
  {
   "cell_type": "code",
   "execution_count": 101,
   "metadata": {
    "collapsed": false
   },
   "outputs": [
    {
     "data": {
      "text/plain": [
       "geezer             0.219363\n",
       "reunite            0.225549\n",
       "fils               0.226873\n",
       "falk               0.226873\n",
       "curioisity         0.226873\n",
       "pere               0.226873\n",
       "gazzara            0.226873\n",
       "voom               0.228213\n",
       "suzanne            0.229619\n",
       "tobin              0.229619\n",
       "handheld           0.230196\n",
       "wipes              0.230196\n",
       "crane              0.230196\n",
       "coloring           0.230196\n",
       "pans               0.230196\n",
       "marceau            0.231733\n",
       "insignts           0.232003\n",
       "employee           0.232003\n",
       "hanneli            0.232003\n",
       "gies               0.232003\n",
       "miep               0.232003\n",
       "goslar             0.232003\n",
       "ossie              0.233578\n",
       "beetle             0.233793\n",
       "impudence          0.234875\n",
       "bandy              0.234875\n",
       "gambini            0.234875\n",
       "androgynously      0.235571\n",
       "moss               0.235571\n",
       "partnered          0.235571\n",
       "                    ...    \n",
       "kind              60.224784\n",
       "isn               62.747001\n",
       "does              64.080037\n",
       "thriller          66.102049\n",
       "films             67.487353\n",
       "new               68.873676\n",
       "doesn             72.195368\n",
       "makes             73.261972\n",
       "entertaining      73.664665\n",
       "work              76.312024\n",
       "picture           76.688174\n",
       "little            77.783666\n",
       "characters        77.935000\n",
       "way               78.290479\n",
       "great             78.994602\n",
       "action            79.203286\n",
       "make              83.360769\n",
       "fun               85.988238\n",
       "director          89.126641\n",
       "movies            92.856728\n",
       "just              95.067198\n",
       "time             103.319884\n",
       "funny            111.721907\n",
       "best             115.014830\n",
       "story            116.724919\n",
       "comedy           118.511028\n",
       "good             137.879888\n",
       "like             138.590520\n",
       "film             306.724174\n",
       "movie            312.896543\n",
       "dtype: float64"
      ]
     },
     "execution_count": 101,
     "metadata": {},
     "output_type": "execute_result"
    }
   ],
   "source": [
    "pd.DataFrame(X, columns=X_cols).sum().sort_values()"
   ]
  },
  {
   "cell_type": "markdown",
   "metadata": {
    "collapsed": true
   },
   "source": [
    "# Load Word2Vec & Doc2Vec training data"
   ]
  },
  {
   "cell_type": "code",
   "execution_count": 102,
   "metadata": {
    "collapsed": false
   },
   "outputs": [
    {
     "data": {
      "text/html": [
       "<div>\n",
       "<table border=\"1\" class=\"dataframe\">\n",
       "  <thead>\n",
       "    <tr style=\"text-align: right;\">\n",
       "      <th></th>\n",
       "      <th>Unnamed: 0</th>\n",
       "      <th>reviews</th>\n",
       "      <th>sentiment</th>\n",
       "    </tr>\n",
       "  </thead>\n",
       "  <tbody>\n",
       "    <tr>\n",
       "      <th>0</th>\n",
       "      <td>0_2.txt</td>\n",
       "      <td>mr costner drag movie far long necessary aside...</td>\n",
       "      <td>neg</td>\n",
       "    </tr>\n",
       "    <tr>\n",
       "      <th>1</th>\n",
       "      <td>10000_4.txt</td>\n",
       "      <td>example majority action film generic boring 's...</td>\n",
       "      <td>neg</td>\n",
       "    </tr>\n",
       "    <tr>\n",
       "      <th>2</th>\n",
       "      <td>10001_1.txt</td>\n",
       "      <td>first hate moronic rapper could'nt act gun pre...</td>\n",
       "      <td>neg</td>\n",
       "    </tr>\n",
       "    <tr>\n",
       "      <th>3</th>\n",
       "      <td>10002_3.txt</td>\n",
       "      <td>even beatles could write song everyone like al...</td>\n",
       "      <td>neg</td>\n",
       "    </tr>\n",
       "    <tr>\n",
       "      <th>4</th>\n",
       "      <td>10003_3.txt</td>\n",
       "      <td>brass picture movie fitting word really somewh...</td>\n",
       "      <td>neg</td>\n",
       "    </tr>\n",
       "  </tbody>\n",
       "</table>\n",
       "</div>"
      ],
      "text/plain": [
       "    Unnamed: 0                                            reviews sentiment\n",
       "0      0_2.txt  mr costner drag movie far long necessary aside...       neg\n",
       "1  10000_4.txt  example majority action film generic boring 's...       neg\n",
       "2  10001_1.txt  first hate moronic rapper could'nt act gun pre...       neg\n",
       "3  10002_3.txt  even beatles could write song everyone like al...       neg\n",
       "4  10003_3.txt  brass picture movie fitting word really somewh...       neg"
      ]
     },
     "execution_count": 102,
     "metadata": {},
     "output_type": "execute_result"
    }
   ],
   "source": [
    "train_set = pd.read_csv('./train_set.csv')\n",
    "train_set.head()"
   ]
  },
  {
   "cell_type": "code",
   "execution_count": 103,
   "metadata": {
    "collapsed": false
   },
   "outputs": [
    {
     "data": {
      "text/html": [
       "<div>\n",
       "<table border=\"1\" class=\"dataframe\">\n",
       "  <thead>\n",
       "    <tr style=\"text-align: right;\">\n",
       "      <th></th>\n",
       "      <th>Unnamed: 0</th>\n",
       "      <th>reviews</th>\n",
       "      <th>sentiment</th>\n",
       "    </tr>\n",
       "  </thead>\n",
       "  <tbody>\n",
       "    <tr>\n",
       "      <th>0</th>\n",
       "      <td>114709 Derek Adams</td>\n",
       "      <td>ingenious concept design execution could watch...</td>\n",
       "      <td>pos</td>\n",
       "    </tr>\n",
       "    <tr>\n",
       "      <th>1</th>\n",
       "      <td>114709 Richard Corliss</td>\n",
       "      <td>year 's inventive comedy</td>\n",
       "      <td>pos</td>\n",
       "    </tr>\n",
       "    <tr>\n",
       "      <th>2</th>\n",
       "      <td>114709 David Ansen</td>\n",
       "      <td>winning animated feature something everyone ag...</td>\n",
       "      <td>pos</td>\n",
       "    </tr>\n",
       "    <tr>\n",
       "      <th>3</th>\n",
       "      <td>114709 Leonard Klady</td>\n",
       "      <td>film sport provocative appeal story 's every b...</td>\n",
       "      <td>pos</td>\n",
       "    </tr>\n",
       "    <tr>\n",
       "      <th>4</th>\n",
       "      <td>114709 Jonathan Rosenbaum</td>\n",
       "      <td>entertaining computergenerated hyperrealist an...</td>\n",
       "      <td>pos</td>\n",
       "    </tr>\n",
       "  </tbody>\n",
       "</table>\n",
       "</div>"
      ],
      "text/plain": [
       "                  Unnamed: 0                                            reviews sentiment\n",
       "0         114709 Derek Adams  ingenious concept design execution could watch...       pos\n",
       "1     114709 Richard Corliss                           year 's inventive comedy       pos\n",
       "2         114709 David Ansen  winning animated feature something everyone ag...       pos\n",
       "3       114709 Leonard Klady  film sport provocative appeal story 's every b...       pos\n",
       "4  114709 Jonathan Rosenbaum  entertaining computergenerated hyperrealist an...       pos"
      ]
     },
     "execution_count": 103,
     "metadata": {},
     "output_type": "execute_result"
    }
   ],
   "source": [
    "rt_set = pd.read_csv('./rt_set.csv')\n",
    "rt_set.head()"
   ]
  },
  {
   "cell_type": "code",
   "execution_count": 104,
   "metadata": {
    "collapsed": false
   },
   "outputs": [
    {
     "data": {
      "text/html": [
       "<div>\n",
       "<table border=\"1\" class=\"dataframe\">\n",
       "  <thead>\n",
       "    <tr style=\"text-align: right;\">\n",
       "      <th></th>\n",
       "      <th>Unnamed: 0</th>\n",
       "      <th>reviews</th>\n",
       "      <th>sentiment</th>\n",
       "    </tr>\n",
       "  </thead>\n",
       "  <tbody>\n",
       "    <tr>\n",
       "      <th>0</th>\n",
       "      <td>0_2.txt</td>\n",
       "      <td>mr costner drag movie far long necessary aside...</td>\n",
       "      <td>neg</td>\n",
       "    </tr>\n",
       "    <tr>\n",
       "      <th>1</th>\n",
       "      <td>10000_4.txt</td>\n",
       "      <td>example majority action film generic boring 's...</td>\n",
       "      <td>neg</td>\n",
       "    </tr>\n",
       "    <tr>\n",
       "      <th>2</th>\n",
       "      <td>10001_1.txt</td>\n",
       "      <td>first hate moronic rapper could'nt act gun pre...</td>\n",
       "      <td>neg</td>\n",
       "    </tr>\n",
       "    <tr>\n",
       "      <th>3</th>\n",
       "      <td>10002_3.txt</td>\n",
       "      <td>even beatles could write song everyone like al...</td>\n",
       "      <td>neg</td>\n",
       "    </tr>\n",
       "    <tr>\n",
       "      <th>4</th>\n",
       "      <td>10003_3.txt</td>\n",
       "      <td>brass picture movie fitting word really somewh...</td>\n",
       "      <td>neg</td>\n",
       "    </tr>\n",
       "  </tbody>\n",
       "</table>\n",
       "</div>"
      ],
      "text/plain": [
       "    Unnamed: 0                                            reviews sentiment\n",
       "0      0_2.txt  mr costner drag movie far long necessary aside...       neg\n",
       "1  10000_4.txt  example majority action film generic boring 's...       neg\n",
       "2  10001_1.txt  first hate moronic rapper could'nt act gun pre...       neg\n",
       "3  10002_3.txt  even beatles could write song everyone like al...       neg\n",
       "4  10003_3.txt  brass picture movie fitting word really somewh...       neg"
      ]
     },
     "execution_count": 104,
     "metadata": {},
     "output_type": "execute_result"
    }
   ],
   "source": [
    "imdb_set = pd.read_csv('./imdb_set.csv')\n",
    "imdb_set.head()"
   ]
  },
  {
   "cell_type": "code",
   "execution_count": 105,
   "metadata": {
    "collapsed": true
   },
   "outputs": [],
   "source": [
    "# Create train/test split on IMDB daata\n",
    "\n",
    "_, itest = train_test_split(range(imdb_set.shape[0]), train_size=0.7)\n",
    "#mask = np.zeros(critics.shape[0], dtype=np.bool)\n",
    "#mask[itest] = True\n",
    "mask_imdb = np.ones(imdb_set.shape[0], dtype=np.bool)\n",
    "mask_imdb[itest] = False"
   ]
  },
  {
   "cell_type": "markdown",
   "metadata": {},
   "source": [
    "# 7. Word2Vec training"
   ]
  },
  {
   "cell_type": "code",
   "execution_count": 106,
   "metadata": {
    "collapsed": false
   },
   "outputs": [],
   "source": [
    "sentences = W2V_LabeledLineSentence(train_set.reviews)\n",
    "sentences_nolabel = sentences.to_array_nolabel()\n",
    "\n",
    "sentences_rt = W2V_LabeledLineSentence(rt_set.reviews)\n",
    "sentences_rt_nolabel = sentences_rt.to_array_nolabel()\n",
    "\n",
    "sentences_imdb = W2V_LabeledLineSentence(imdb_set.reviews)\n",
    "sentences_imdb_nolabel = sentences_imdb.to_array_nolabel()"
   ]
  },
  {
   "cell_type": "code",
   "execution_count": 107,
   "metadata": {
    "collapsed": false
   },
   "outputs": [],
   "source": [
    "num_features = 200    # Word vector dimensionality                      \n",
    "#min_word_count = 15   # Minimum word count                        \n",
    "num_workers = 12       # Number of threads to run in parallel\n",
    "#context = 15          # Context window size                                                                                    \n",
    "#downsampling = 1e-3   # Downsample setting for frequent words\n",
    "#negative_samp = 10\n",
    "iterations = 100\n",
    "\n",
    "min_word_count=5\n",
    "context=10\n",
    "downsampling=1e-2\n",
    "negative_samp=5"
   ]
  },
  {
   "cell_type": "code",
   "execution_count": 108,
   "metadata": {
    "collapsed": false,
    "scrolled": false
   },
   "outputs": [
    {
     "name": "stderr",
     "output_type": "stream",
     "text": [
      "2017-05-31 21:25:39,444 : INFO : collecting all words and their counts\n",
      "2017-05-31 21:25:39,446 : INFO : PROGRESS: at sentence #0, processed 0 words, keeping 0 word types\n",
      "2017-05-31 21:25:39,582 : INFO : PROGRESS: at sentence #10000, processed 793135 words, keeping 45745 word types\n",
      "2017-05-31 21:25:39,691 : INFO : PROGRESS: at sentence #20000, processed 1572876 words, keeping 65501 word types\n",
      "2017-05-31 21:25:39,803 : INFO : PROGRESS: at sentence #30000, processed 2352289 words, keeping 81416 word types\n",
      "2017-05-31 21:25:39,930 : INFO : PROGRESS: at sentence #40000, processed 3127745 words, keeping 94970 word types\n",
      "2017-05-31 21:25:39,940 : INFO : collected 95681 word types from a corpus of 3173866 raw words and 40561 sentences\n",
      "2017-05-31 21:25:39,940 : INFO : Loading a fresh vocabulary\n",
      "2017-05-31 21:25:40,032 : INFO : min_count=5 retains 25882 unique words (27% of original 95681, drops 69799)\n",
      "2017-05-31 21:25:40,033 : INFO : min_count=5 leaves 3072466 word corpus (96% of original 3173866, drops 101400)\n",
      "2017-05-31 21:25:40,098 : INFO : deleting the raw counts dictionary of 95681 items\n",
      "2017-05-31 21:25:40,104 : INFO : sample=0.01 downsamples 0 most-common words\n",
      "2017-05-31 21:25:40,105 : INFO : downsampling leaves estimated 3072466 word corpus (100.0% of prior 3072466)\n",
      "2017-05-31 21:25:40,108 : INFO : estimated required memory for 25882 words and 200 dimensions: 54352200 bytes\n",
      "2017-05-31 21:25:40,184 : INFO : resetting layer weights\n",
      "2017-05-31 21:25:40,473 : INFO : training model with 12 workers on 25882 vocabulary and 200 features, using sg=0 hs=0 sample=0.01 negative=5 window=10\n",
      "2017-05-31 21:25:40,473 : INFO : expecting 40561 sentences, matching count from corpus used for vocabulary survey\n",
      "2017-05-31 21:25:41,483 : INFO : PROGRESS: at 0.54% examples, 1653660 words/s, in_qsize 0, out_qsize 0\n",
      "2017-05-31 21:25:42,490 : INFO : PROGRESS: at 1.10% examples, 1684562 words/s, in_qsize 0, out_qsize 0\n",
      "2017-05-31 21:25:43,502 : INFO : PROGRESS: at 1.69% examples, 1715527 words/s, in_qsize 0, out_qsize 5\n",
      "2017-05-31 21:25:44,507 : INFO : PROGRESS: at 2.31% examples, 1763506 words/s, in_qsize 0, out_qsize 0\n",
      "2017-05-31 21:25:45,517 : INFO : PROGRESS: at 2.93% examples, 1783498 words/s, in_qsize 0, out_qsize 1\n",
      "2017-05-31 21:25:46,523 : INFO : PROGRESS: at 3.49% examples, 1777569 words/s, in_qsize 0, out_qsize 0\n",
      "2017-05-31 21:25:47,526 : INFO : PROGRESS: at 4.08% examples, 1782023 words/s, in_qsize 0, out_qsize 0\n",
      "2017-05-31 21:25:48,539 : INFO : PROGRESS: at 4.72% examples, 1799111 words/s, in_qsize 0, out_qsize 5\n",
      "2017-05-31 21:25:49,552 : INFO : PROGRESS: at 5.34% examples, 1809311 words/s, in_qsize 0, out_qsize 0\n",
      "2017-05-31 21:25:50,559 : INFO : PROGRESS: at 5.87% examples, 1787759 words/s, in_qsize 0, out_qsize 1\n",
      "2017-05-31 21:25:51,572 : INFO : PROGRESS: at 6.45% examples, 1786571 words/s, in_qsize 0, out_qsize 5\n",
      "2017-05-31 21:25:52,575 : INFO : PROGRESS: at 7.11% examples, 1805624 words/s, in_qsize 0, out_qsize 1\n",
      "2017-05-31 21:25:53,582 : INFO : PROGRESS: at 7.71% examples, 1807831 words/s, in_qsize 0, out_qsize 0\n",
      "2017-05-31 21:25:54,588 : INFO : PROGRESS: at 8.27% examples, 1801278 words/s, in_qsize 0, out_qsize 0\n",
      "2017-05-31 21:25:55,589 : INFO : PROGRESS: at 8.86% examples, 1801434 words/s, in_qsize 0, out_qsize 7\n",
      "2017-05-31 21:25:56,605 : INFO : PROGRESS: at 9.41% examples, 1793932 words/s, in_qsize 0, out_qsize 4\n",
      "2017-05-31 21:25:57,631 : INFO : PROGRESS: at 10.05% examples, 1800898 words/s, in_qsize 0, out_qsize 4\n",
      "2017-05-31 21:25:58,631 : INFO : PROGRESS: at 10.65% examples, 1802634 words/s, in_qsize 0, out_qsize 3\n",
      "2017-05-31 21:25:59,631 : INFO : PROGRESS: at 11.27% examples, 1808702 words/s, in_qsize 0, out_qsize 1\n",
      "2017-05-31 21:26:00,648 : INFO : PROGRESS: at 11.83% examples, 1802260 words/s, in_qsize 0, out_qsize 5\n",
      "2017-05-31 21:26:01,671 : INFO : PROGRESS: at 12.41% examples, 1800030 words/s, in_qsize 0, out_qsize 3\n",
      "2017-05-31 21:26:02,677 : INFO : PROGRESS: at 13.06% examples, 1807503 words/s, in_qsize 0, out_qsize 0\n",
      "2017-05-31 21:26:03,678 : INFO : PROGRESS: at 13.60% examples, 1801499 words/s, in_qsize 0, out_qsize 0\n",
      "2017-05-31 21:26:04,713 : INFO : PROGRESS: at 14.18% examples, 1797980 words/s, in_qsize 0, out_qsize 2\n",
      "2017-05-31 21:26:05,729 : INFO : PROGRESS: at 14.74% examples, 1794174 words/s, in_qsize 0, out_qsize 7\n",
      "2017-05-31 21:26:06,746 : INFO : PROGRESS: at 15.37% examples, 1798786 words/s, in_qsize 0, out_qsize 0\n",
      "2017-05-31 21:26:07,749 : INFO : PROGRESS: at 16.01% examples, 1804159 words/s, in_qsize 0, out_qsize 1\n",
      "2017-05-31 21:26:08,769 : INFO : PROGRESS: at 16.60% examples, 1804701 words/s, in_qsize 0, out_qsize 0\n",
      "2017-05-31 21:26:09,773 : INFO : PROGRESS: at 17.20% examples, 1803959 words/s, in_qsize 0, out_qsize 0\n",
      "2017-05-31 21:26:10,792 : INFO : PROGRESS: at 17.74% examples, 1798686 words/s, in_qsize 15, out_qsize 16\n",
      "2017-05-31 21:26:11,793 : INFO : PROGRESS: at 18.37% examples, 1802572 words/s, in_qsize 0, out_qsize 5\n",
      "2017-05-31 21:26:12,796 : INFO : PROGRESS: at 19.00% examples, 1806725 words/s, in_qsize 0, out_qsize 0\n",
      "2017-05-31 21:26:13,834 : INFO : PROGRESS: at 19.64% examples, 1809236 words/s, in_qsize 0, out_qsize 4\n",
      "2017-05-31 21:26:14,842 : INFO : PROGRESS: at 20.19% examples, 1805880 words/s, in_qsize 0, out_qsize 0\n",
      "2017-05-31 21:26:15,852 : INFO : PROGRESS: at 20.79% examples, 1805820 words/s, in_qsize 0, out_qsize 3\n",
      "2017-05-31 21:26:16,861 : INFO : PROGRESS: at 21.42% examples, 1809106 words/s, in_qsize 0, out_qsize 3\n",
      "2017-05-31 21:26:17,875 : INFO : PROGRESS: at 22.04% examples, 1810598 words/s, in_qsize 0, out_qsize 3\n",
      "2017-05-31 21:26:18,881 : INFO : PROGRESS: at 22.68% examples, 1814460 words/s, in_qsize 0, out_qsize 0\n",
      "2017-05-31 21:26:19,884 : INFO : PROGRESS: at 23.26% examples, 1814016 words/s, in_qsize 0, out_qsize 0\n",
      "2017-05-31 21:26:20,898 : INFO : PROGRESS: at 23.86% examples, 1813732 words/s, in_qsize 0, out_qsize 0\n",
      "2017-05-31 21:26:21,921 : INFO : PROGRESS: at 24.48% examples, 1815228 words/s, in_qsize 0, out_qsize 3\n",
      "2017-05-31 21:26:22,940 : INFO : PROGRESS: at 25.05% examples, 1812850 words/s, in_qsize 0, out_qsize 4\n",
      "2017-05-31 21:26:23,964 : INFO : PROGRESS: at 25.63% examples, 1810766 words/s, in_qsize 0, out_qsize 0\n",
      "2017-05-31 21:26:24,986 : INFO : PROGRESS: at 26.18% examples, 1807815 words/s, in_qsize 0, out_qsize 0\n",
      "2017-05-31 21:26:25,996 : INFO : PROGRESS: at 26.75% examples, 1805902 words/s, in_qsize 0, out_qsize 4\n",
      "2017-05-31 21:26:26,996 : INFO : PROGRESS: at 27.30% examples, 1803350 words/s, in_qsize 0, out_qsize 2\n",
      "2017-05-31 21:26:28,002 : INFO : PROGRESS: at 27.87% examples, 1802020 words/s, in_qsize 0, out_qsize 5\n",
      "2017-05-31 21:26:29,003 : INFO : PROGRESS: at 28.48% examples, 1803776 words/s, in_qsize 0, out_qsize 3\n",
      "2017-05-31 21:26:30,049 : INFO : PROGRESS: at 29.10% examples, 1804470 words/s, in_qsize 0, out_qsize 0\n",
      "2017-05-31 21:26:31,036 : INFO : PROGRESS: at 29.69% examples, 1804367 words/s, in_qsize 0, out_qsize 0\n",
      "2017-05-31 21:26:32,040 : INFO : PROGRESS: at 30.30% examples, 1805895 words/s, in_qsize 0, out_qsize 0\n",
      "2017-05-31 21:26:33,051 : INFO : PROGRESS: at 30.95% examples, 1808653 words/s, in_qsize 0, out_qsize 5\n",
      "2017-05-31 21:26:34,072 : INFO : PROGRESS: at 31.56% examples, 1809667 words/s, in_qsize 0, out_qsize 3\n",
      "2017-05-31 21:26:35,079 : INFO : PROGRESS: at 32.22% examples, 1813266 words/s, in_qsize 0, out_qsize 0\n",
      "2017-05-31 21:26:36,079 : INFO : PROGRESS: at 32.83% examples, 1814071 words/s, in_qsize 0, out_qsize 0\n",
      "2017-05-31 21:26:37,079 : INFO : PROGRESS: at 33.43% examples, 1814925 words/s, in_qsize 0, out_qsize 3\n",
      "2017-05-31 21:26:38,085 : INFO : PROGRESS: at 34.11% examples, 1819376 words/s, in_qsize 0, out_qsize 0\n",
      "2017-05-31 21:26:39,108 : INFO : PROGRESS: at 34.71% examples, 1818935 words/s, in_qsize 0, out_qsize 5\n",
      "2017-05-31 21:26:40,122 : INFO : PROGRESS: at 35.36% examples, 1821977 words/s, in_qsize 0, out_qsize 1\n",
      "2017-05-31 21:26:41,141 : INFO : PROGRESS: at 35.96% examples, 1821485 words/s, in_qsize 0, out_qsize 0\n",
      "2017-05-31 21:26:42,160 : INFO : PROGRESS: at 36.59% examples, 1822687 words/s, in_qsize 0, out_qsize 0\n",
      "2017-05-31 21:26:43,164 : INFO : PROGRESS: at 37.19% examples, 1823006 words/s, in_qsize 0, out_qsize 0\n",
      "2017-05-31 21:26:44,168 : INFO : PROGRESS: at 37.81% examples, 1824138 words/s, in_qsize 0, out_qsize 0\n",
      "2017-05-31 21:26:45,194 : INFO : PROGRESS: at 38.44% examples, 1825064 words/s, in_qsize 0, out_qsize 2\n",
      "2017-05-31 21:26:46,226 : INFO : PROGRESS: at 39.04% examples, 1824710 words/s, in_qsize 0, out_qsize 6\n",
      "2017-05-31 21:26:47,233 : INFO : PROGRESS: at 39.68% examples, 1826419 words/s, in_qsize 0, out_qsize 0\n",
      "2017-05-31 21:26:48,273 : INFO : PROGRESS: at 40.31% examples, 1827709 words/s, in_qsize 9, out_qsize 3\n",
      "2017-05-31 21:26:49,273 : INFO : PROGRESS: at 40.93% examples, 1827789 words/s, in_qsize 0, out_qsize 5\n",
      "2017-05-31 21:26:50,292 : INFO : PROGRESS: at 41.59% examples, 1830490 words/s, in_qsize 0, out_qsize 3\n",
      "2017-05-31 21:26:51,298 : INFO : PROGRESS: at 42.23% examples, 1832205 words/s, in_qsize 0, out_qsize 5\n",
      "2017-05-31 21:26:52,302 : INFO : PROGRESS: at 42.84% examples, 1832782 words/s, in_qsize 0, out_qsize 0\n",
      "2017-05-31 21:26:53,305 : INFO : PROGRESS: at 43.43% examples, 1832434 words/s, in_qsize 0, out_qsize 0\n",
      "2017-05-31 21:26:54,316 : INFO : PROGRESS: at 44.05% examples, 1832981 words/s, in_qsize 0, out_qsize 3\n",
      "2017-05-31 21:26:55,322 : INFO : PROGRESS: at 44.64% examples, 1832602 words/s, in_qsize 0, out_qsize 3\n",
      "2017-05-31 21:26:56,338 : INFO : PROGRESS: at 45.25% examples, 1832975 words/s, in_qsize 0, out_qsize 3\n",
      "2017-05-31 21:26:57,338 : INFO : PROGRESS: at 45.88% examples, 1833860 words/s, in_qsize 0, out_qsize 5\n",
      "2017-05-31 21:26:58,339 : INFO : PROGRESS: at 46.49% examples, 1834809 words/s, in_qsize 0, out_qsize 0\n",
      "2017-05-31 21:26:59,364 : INFO : PROGRESS: at 47.08% examples, 1833768 words/s, in_qsize 0, out_qsize 5\n",
      "2017-05-31 21:27:00,403 : INFO : PROGRESS: at 47.74% examples, 1835624 words/s, in_qsize 0, out_qsize 3\n",
      "2017-05-31 21:27:01,384 : INFO : PROGRESS: at 48.36% examples, 1836639 words/s, in_qsize 0, out_qsize 1\n",
      "2017-05-31 21:27:02,385 : INFO : PROGRESS: at 49.00% examples, 1837968 words/s, in_qsize 0, out_qsize 0\n",
      "2017-05-31 21:27:03,388 : INFO : PROGRESS: at 49.63% examples, 1839422 words/s, in_qsize 0, out_qsize 0\n",
      "2017-05-31 21:27:04,414 : INFO : PROGRESS: at 50.25% examples, 1839626 words/s, in_qsize 0, out_qsize 1\n",
      "2017-05-31 21:27:05,438 : INFO : PROGRESS: at 50.84% examples, 1838593 words/s, in_qsize 0, out_qsize 2\n",
      "2017-05-31 21:27:06,450 : INFO : PROGRESS: at 51.41% examples, 1837529 words/s, in_qsize 0, out_qsize 0\n",
      "2017-05-31 21:27:07,466 : INFO : PROGRESS: at 52.05% examples, 1838576 words/s, in_qsize 0, out_qsize 2\n",
      "2017-05-31 21:27:08,510 : INFO : PROGRESS: at 52.64% examples, 1837870 words/s, in_qsize 0, out_qsize 1\n",
      "2017-05-31 21:27:09,492 : INFO : PROGRESS: at 53.23% examples, 1837506 words/s, in_qsize 0, out_qsize 1\n",
      "2017-05-31 21:27:10,496 : INFO : PROGRESS: at 53.85% examples, 1837915 words/s, in_qsize 0, out_qsize 0\n",
      "2017-05-31 21:27:11,502 : INFO : PROGRESS: at 54.46% examples, 1838490 words/s, in_qsize 0, out_qsize 1\n",
      "2017-05-31 21:27:12,510 : INFO : PROGRESS: at 55.07% examples, 1838669 words/s, in_qsize 0, out_qsize 4\n",
      "2017-05-31 21:27:13,532 : INFO : PROGRESS: at 55.73% examples, 1840247 words/s, in_qsize 0, out_qsize 4\n",
      "2017-05-31 21:27:14,542 : INFO : PROGRESS: at 56.36% examples, 1841095 words/s, in_qsize 0, out_qsize 0\n",
      "2017-05-31 21:27:15,561 : INFO : PROGRESS: at 56.98% examples, 1841203 words/s, in_qsize 0, out_qsize 0\n",
      "2017-05-31 21:27:16,582 : INFO : PROGRESS: at 57.57% examples, 1840703 words/s, in_qsize 0, out_qsize 3\n",
      "2017-05-31 21:27:17,594 : INFO : PROGRESS: at 58.20% examples, 1841295 words/s, in_qsize 0, out_qsize 0\n",
      "2017-05-31 21:27:18,595 : INFO : PROGRESS: at 58.86% examples, 1843250 words/s, in_qsize 0, out_qsize 0\n",
      "2017-05-31 21:27:19,607 : INFO : PROGRESS: at 59.48% examples, 1843831 words/s, in_qsize 0, out_qsize 5\n",
      "2017-05-31 21:27:20,617 : INFO : PROGRESS: at 60.12% examples, 1844675 words/s, in_qsize 0, out_qsize 0\n",
      "2017-05-31 21:27:21,630 : INFO : PROGRESS: at 60.71% examples, 1844245 words/s, in_qsize 0, out_qsize 3\n",
      "2017-05-31 21:27:22,631 : INFO : PROGRESS: at 61.34% examples, 1845242 words/s, in_qsize 0, out_qsize 0\n",
      "2017-05-31 21:27:23,648 : INFO : PROGRESS: at 61.94% examples, 1844753 words/s, in_qsize 0, out_qsize 2\n",
      "2017-05-31 21:27:24,648 : INFO : PROGRESS: at 62.57% examples, 1845659 words/s, in_qsize 0, out_qsize 2\n",
      "2017-05-31 21:27:25,654 : INFO : PROGRESS: at 63.21% examples, 1846512 words/s, in_qsize 0, out_qsize 0\n",
      "2017-05-31 21:27:26,654 : INFO : PROGRESS: at 63.82% examples, 1846845 words/s, in_qsize 0, out_qsize 0\n",
      "2017-05-31 21:27:27,667 : INFO : PROGRESS: at 64.44% examples, 1847145 words/s, in_qsize 0, out_qsize 3\n",
      "2017-05-31 21:27:28,671 : INFO : PROGRESS: at 65.06% examples, 1847678 words/s, in_qsize 0, out_qsize 0\n",
      "2017-05-31 21:27:29,700 : INFO : PROGRESS: at 65.65% examples, 1846973 words/s, in_qsize 0, out_qsize 3\n",
      "2017-05-31 21:27:30,703 : INFO : PROGRESS: at 66.24% examples, 1846615 words/s, in_qsize 0, out_qsize 2\n",
      "2017-05-31 21:27:31,710 : INFO : PROGRESS: at 66.86% examples, 1846719 words/s, in_qsize 0, out_qsize 0\n",
      "2017-05-31 21:27:32,752 : INFO : PROGRESS: at 67.47% examples, 1846614 words/s, in_qsize 0, out_qsize 2\n",
      "2017-05-31 21:27:33,806 : INFO : PROGRESS: at 68.15% examples, 1848035 words/s, in_qsize 0, out_qsize 2\n",
      "2017-05-31 21:27:34,802 : INFO : PROGRESS: at 68.74% examples, 1847362 words/s, in_qsize 0, out_qsize 0\n",
      "2017-05-31 21:27:35,802 : INFO : PROGRESS: at 69.32% examples, 1846951 words/s, in_qsize 0, out_qsize 0\n",
      "2017-05-31 21:27:36,819 : INFO : PROGRESS: at 69.95% examples, 1847254 words/s, in_qsize 0, out_qsize 2\n",
      "2017-05-31 21:27:37,838 : INFO : PROGRESS: at 70.58% examples, 1847912 words/s, in_qsize 0, out_qsize 4\n",
      "2017-05-31 21:27:38,848 : INFO : PROGRESS: at 71.25% examples, 1849494 words/s, in_qsize 0, out_qsize 0\n",
      "2017-05-31 21:27:39,857 : INFO : PROGRESS: at 71.88% examples, 1849959 words/s, in_qsize 0, out_qsize 4\n",
      "2017-05-31 21:27:40,859 : INFO : PROGRESS: at 72.47% examples, 1849860 words/s, in_qsize 0, out_qsize 1\n",
      "2017-05-31 21:27:41,884 : INFO : PROGRESS: at 73.06% examples, 1848976 words/s, in_qsize 0, out_qsize 4\n",
      "2017-05-31 21:27:42,894 : INFO : PROGRESS: at 73.69% examples, 1849704 words/s, in_qsize 0, out_qsize 0\n",
      "2017-05-31 21:27:43,895 : INFO : PROGRESS: at 74.30% examples, 1849775 words/s, in_qsize 0, out_qsize 4\n",
      "2017-05-31 21:27:44,946 : INFO : PROGRESS: at 74.93% examples, 1849608 words/s, in_qsize 0, out_qsize 5\n",
      "2017-05-31 21:27:45,961 : INFO : PROGRESS: at 75.51% examples, 1848858 words/s, in_qsize 0, out_qsize 0\n",
      "2017-05-31 21:27:46,993 : INFO : PROGRESS: at 76.09% examples, 1848195 words/s, in_qsize 0, out_qsize 3\n",
      "2017-05-31 21:27:47,973 : INFO : PROGRESS: at 76.72% examples, 1848844 words/s, in_qsize 0, out_qsize 2\n",
      "2017-05-31 21:27:48,990 : INFO : PROGRESS: at 77.31% examples, 1848473 words/s, in_qsize 0, out_qsize 3\n",
      "2017-05-31 21:27:50,010 : INFO : PROGRESS: at 77.97% examples, 1849481 words/s, in_qsize 0, out_qsize 4\n",
      "2017-05-31 21:27:51,016 : INFO : PROGRESS: at 78.59% examples, 1849958 words/s, in_qsize 0, out_qsize 1\n",
      "2017-05-31 21:27:52,016 : INFO : PROGRESS: at 79.18% examples, 1849593 words/s, in_qsize 0, out_qsize 6\n",
      "2017-05-31 21:27:53,026 : INFO : PROGRESS: at 79.81% examples, 1850066 words/s, in_qsize 0, out_qsize 3\n",
      "2017-05-31 21:27:54,032 : INFO : PROGRESS: at 80.46% examples, 1851159 words/s, in_qsize 0, out_qsize 5\n",
      "2017-05-31 21:27:55,032 : INFO : PROGRESS: at 81.07% examples, 1851166 words/s, in_qsize 0, out_qsize 1\n",
      "2017-05-31 21:27:56,039 : INFO : PROGRESS: at 81.63% examples, 1850102 words/s, in_qsize 0, out_qsize 3\n",
      "2017-05-31 21:27:57,043 : INFO : PROGRESS: at 82.25% examples, 1850471 words/s, in_qsize 0, out_qsize 1\n",
      "2017-05-31 21:27:58,045 : INFO : PROGRESS: at 82.86% examples, 1850561 words/s, in_qsize 0, out_qsize 3\n",
      "2017-05-31 21:27:59,046 : INFO : PROGRESS: at 83.50% examples, 1851538 words/s, in_qsize 0, out_qsize 1\n",
      "2017-05-31 21:28:00,065 : INFO : PROGRESS: at 84.09% examples, 1851078 words/s, in_qsize 1, out_qsize 4\n",
      "2017-05-31 21:28:01,089 : INFO : PROGRESS: at 84.68% examples, 1850363 words/s, in_qsize 0, out_qsize 4\n",
      "2017-05-31 21:28:02,095 : INFO : PROGRESS: at 85.30% examples, 1850862 words/s, in_qsize 0, out_qsize 0\n",
      "2017-05-31 21:28:03,125 : INFO : PROGRESS: at 85.91% examples, 1850733 words/s, in_qsize 0, out_qsize 2\n",
      "2017-05-31 21:28:04,117 : INFO : PROGRESS: at 86.47% examples, 1849803 words/s, in_qsize 0, out_qsize 0\n",
      "2017-05-31 21:28:05,131 : INFO : PROGRESS: at 87.09% examples, 1849967 words/s, in_qsize 0, out_qsize 5\n",
      "2017-05-31 21:28:06,131 : INFO : PROGRESS: at 87.71% examples, 1850255 words/s, in_qsize 0, out_qsize 5\n",
      "2017-05-31 21:28:07,154 : INFO : PROGRESS: at 88.30% examples, 1849947 words/s, in_qsize 24, out_qsize 9\n",
      "2017-05-31 21:28:08,148 : INFO : PROGRESS: at 88.93% examples, 1850216 words/s, in_qsize 0, out_qsize 0\n",
      "2017-05-31 21:28:09,167 : INFO : PROGRESS: at 89.53% examples, 1850055 words/s, in_qsize 0, out_qsize 4\n",
      "2017-05-31 21:28:10,210 : INFO : PROGRESS: at 90.13% examples, 1849662 words/s, in_qsize 0, out_qsize 5\n",
      "2017-05-31 21:28:11,200 : INFO : PROGRESS: at 90.73% examples, 1849629 words/s, in_qsize 0, out_qsize 3\n",
      "2017-05-31 21:28:12,223 : INFO : PROGRESS: at 91.37% examples, 1850134 words/s, in_qsize 0, out_qsize 0\n",
      "2017-05-31 21:28:13,224 : INFO : PROGRESS: at 92.00% examples, 1850514 words/s, in_qsize 0, out_qsize 0\n",
      "2017-05-31 21:28:14,227 : INFO : PROGRESS: at 92.61% examples, 1850747 words/s, in_qsize 0, out_qsize 0\n",
      "2017-05-31 21:28:15,232 : INFO : PROGRESS: at 93.22% examples, 1850774 words/s, in_qsize 0, out_qsize 3\n",
      "2017-05-31 21:28:16,230 : INFO : PROGRESS: at 93.84% examples, 1851163 words/s, in_qsize 0, out_qsize 0\n",
      "2017-05-31 21:28:17,233 : INFO : PROGRESS: at 94.48% examples, 1851996 words/s, in_qsize 0, out_qsize 0\n",
      "2017-05-31 21:28:18,246 : INFO : PROGRESS: at 95.07% examples, 1851443 words/s, in_qsize 0, out_qsize 2\n",
      "2017-05-31 21:28:19,262 : INFO : PROGRESS: at 95.63% examples, 1850539 words/s, in_qsize 0, out_qsize 6\n",
      "2017-05-31 21:28:20,266 : INFO : PROGRESS: at 96.24% examples, 1850614 words/s, in_qsize 0, out_qsize 4\n",
      "2017-05-31 21:28:21,279 : INFO : PROGRESS: at 96.84% examples, 1850245 words/s, in_qsize 0, out_qsize 4\n",
      "2017-05-31 21:28:22,286 : INFO : PROGRESS: at 97.45% examples, 1850547 words/s, in_qsize 0, out_qsize 0\n",
      "2017-05-31 21:28:23,292 : INFO : PROGRESS: at 98.08% examples, 1850969 words/s, in_qsize 0, out_qsize 1\n",
      "2017-05-31 21:28:24,309 : INFO : PROGRESS: at 98.71% examples, 1851306 words/s, in_qsize 0, out_qsize 0\n",
      "2017-05-31 21:28:25,312 : INFO : PROGRESS: at 99.35% examples, 1851983 words/s, in_qsize 0, out_qsize 0\n",
      "2017-05-31 21:28:26,315 : INFO : PROGRESS: at 99.94% examples, 1851679 words/s, in_qsize 0, out_qsize 3\n",
      "2017-05-31 21:28:26,377 : INFO : worker thread finished; awaiting finish of 11 more threads\n",
      "2017-05-31 21:28:26,378 : INFO : worker thread finished; awaiting finish of 10 more threads\n",
      "2017-05-31 21:28:26,378 : INFO : worker thread finished; awaiting finish of 9 more threads\n",
      "2017-05-31 21:28:26,380 : INFO : worker thread finished; awaiting finish of 8 more threads\n",
      "2017-05-31 21:28:26,381 : INFO : worker thread finished; awaiting finish of 7 more threads\n",
      "2017-05-31 21:28:26,381 : INFO : worker thread finished; awaiting finish of 6 more threads\n",
      "2017-05-31 21:28:26,381 : INFO : worker thread finished; awaiting finish of 5 more threads\n",
      "2017-05-31 21:28:26,382 : INFO : worker thread finished; awaiting finish of 4 more threads\n",
      "2017-05-31 21:28:26,384 : INFO : worker thread finished; awaiting finish of 3 more threads\n",
      "2017-05-31 21:28:26,384 : INFO : worker thread finished; awaiting finish of 2 more threads\n",
      "2017-05-31 21:28:26,384 : INFO : worker thread finished; awaiting finish of 1 more threads\n",
      "2017-05-31 21:28:26,387 : INFO : worker thread finished; awaiting finish of 0 more threads\n",
      "2017-05-31 21:28:26,401 : INFO : training on 317386600 raw words (307246600 effective words) took 165.9s, 1851760 effective words/s\n"
     ]
    }
   ],
   "source": [
    "model_w = Word2Vec(sentences.sentences_perm(), workers=num_workers, size=num_features, sg=0, iter=iterations,\n",
    "                            min_count = min_word_count, window = context, sample = downsampling, negative = negative_samp)"
   ]
  },
  {
   "cell_type": "code",
   "execution_count": 133,
   "metadata": {
    "collapsed": false
   },
   "outputs": [
    {
     "data": {
      "text/plain": [
       "[('hilarious', 0.7106019854545593),\n",
       " ('laugh', 0.5042666792869568),\n",
       " ('humorous', 0.47826939821243286),\n",
       " ('amuse', 0.46979302167892456),\n",
       " ('amusing', 0.4506673812866211),\n",
       " ('unfunny', 0.4485419690608978),\n",
       " ('comedy', 0.44124147295951843),\n",
       " ('joke', 0.43678903579711914),\n",
       " ('stupid', 0.4355824589729309),\n",
       " ('annoy', 0.4348660111427307)]"
      ]
     },
     "execution_count": 133,
     "metadata": {},
     "output_type": "execute_result"
    }
   ],
   "source": [
    "model_w.most_similar(\"funny\")"
   ]
  },
  {
   "cell_type": "code",
   "execution_count": 132,
   "metadata": {
    "collapsed": false
   },
   "outputs": [
    {
     "data": {
      "text/plain": [
       "[('awful', 0.7192569971084595),\n",
       " ('terrible', 0.7180032730102539),\n",
       " ('horrible', 0.6840970516204834),\n",
       " ('good', 0.5848822593688965),\n",
       " ('stupid', 0.5742778778076172),\n",
       " ('worst', 0.5472686290740967),\n",
       " ('lousy', 0.545994222164154),\n",
       " ('poor', 0.5389124751091003),\n",
       " ('lame', 0.5254539251327515),\n",
       " ('atrocious', 0.4802522361278534)]"
      ]
     },
     "execution_count": 132,
     "metadata": {},
     "output_type": "execute_result"
    }
   ],
   "source": [
    "model_w.most_similar(\"bad\")"
   ]
  },
  {
   "cell_type": "code",
   "execution_count": 111,
   "metadata": {
    "collapsed": false
   },
   "outputs": [],
   "source": [
    "w2v_vectorizer = TfidfVectorizer(min_df=min_word_count, analyzer=\"word\", token_pattern=\"\\S+\", stop_words=\"english\")\n",
    "w2v_weights = w2v_vectorizer.fit_transform(map(lambda x: str(x), train_set.reviews))"
   ]
  },
  {
   "cell_type": "code",
   "execution_count": 112,
   "metadata": {
    "collapsed": false
   },
   "outputs": [
    {
     "name": "stdout",
     "output_type": "stream",
     "text": [
      "Accuracy on training data: 0.767995\n",
      "Accuracy on test data:     0.755408\n"
     ]
    }
   ],
   "source": [
    "# Build RT review vectors and logistric regression based predictive model, test on RT data\n",
    "y = (rt_set.sentiment == 'pos').values.astype(np.int)\n",
    "\n",
    "X = np.zeros((len(mask), num_features))\n",
    "\n",
    "for i in range(len(mask)):\n",
    "    print '{0}\\r'.format(i),\n",
    "    for item in sentences_rt_nolabel[i]:\n",
    "        if item in model_w.wv.vocab and item in w2v_vectorizer.vocabulary_:\n",
    "            find_index = w2v_vectorizer.vocabulary_[item]\n",
    "            find_weight = w2v_vectorizer.idf_[find_index]\n",
    "            X[i] = X[i] + model_w[item]*find_weight\n",
    "\n",
    "X = MinMaxScaler().fit_transform(X)\n",
    "    \n",
    "clf = LogisticRegression().fit(X[mask], y[mask])\n",
    "\n",
    "training_accuracy = clf.score(X[mask], y[mask])\n",
    "test_accuracy = clf.score(X[~mask], y[~mask])\n",
    "\n",
    "print(\"Accuracy on training data: {:2f}\".format(training_accuracy))\n",
    "print(\"Accuracy on test data:     {:2f}\".format(test_accuracy))"
   ]
  },
  {
   "cell_type": "code",
   "execution_count": 113,
   "metadata": {
    "collapsed": false
   },
   "outputs": [
    {
     "name": "stdout",
     "output_type": "stream",
     "text": [
      "15560\r"
     ]
    }
   ],
   "source": [
    "# Build IMDB review vectors and logistric regression based predictive model, test on RT data\n",
    "y = (imdb_set.sentiment == 'pos').values.astype(np.int)\n",
    "\n",
    "X = np.zeros((len(mask_imdb), num_features))\n",
    "\n",
    "for i in range(len(mask)):\n",
    "    print '{0}\\r'.format(i),\n",
    "    for item in sentences_imdb_nolabel[i]:\n",
    "        if item in model_w.wv.vocab and item in w2v_vectorizer.vocabulary_:\n",
    "            find_index = w2v_vectorizer.vocabulary_[item]\n",
    "            find_weight = w2v_vectorizer.idf_[find_index]\n",
    "            X[i] = X[i] + model_w[item]*find_weight\n",
    "\n",
    "X = MinMaxScaler().fit_transform(X)"
   ]
  },
  {
   "cell_type": "code",
   "execution_count": 114,
   "metadata": {
    "collapsed": false
   },
   "outputs": [
    {
     "name": "stdout",
     "output_type": "stream",
     "text": [
      "Accuracy on training data: 0.912800\n",
      "Accuracy on test data:     0.910667\n"
     ]
    }
   ],
   "source": [
    "clf = LogisticRegression().fit(X[mask_imdb], y[mask_imdb])\n",
    "\n",
    "training_accuracy = clf.score(X[mask_imdb], y[mask_imdb])\n",
    "test_accuracy = clf.score(X[~mask_imdb], y[~mask_imdb])\n",
    "\n",
    "print(\"Accuracy on training data: {:2f}\".format(training_accuracy))\n",
    "print(\"Accuracy on test data:     {:2f}\".format(test_accuracy))"
   ]
  },
  {
   "cell_type": "markdown",
   "metadata": {},
   "source": [
    "# Test N-gram Vectorizer on IMDB data set"
   ]
  },
  {
   "cell_type": "code",
   "execution_count": 115,
   "metadata": {
    "collapsed": true
   },
   "outputs": [],
   "source": [
    "def make_xy_n_imdb(imdb, vectorizer=None, n_gram=(1, 1), min_df=5, tokenizer=None):\n",
    "    #Your code here    \n",
    "    if vectorizer is None:\n",
    "        vectorizer = CountVectorizer(min_df=min_df, ngram_range=n_gram, tokenizer=tokenizer)\n",
    "    X = vectorizer.fit_transform(imdb.reviews)\n",
    "    X = X.tocsc()  # some versions of sklearn return COO format\n",
    "    y = (imdb.sentiment == 'pos').values.astype(np.int)\n",
    "    X_cols = vectorizer.get_feature_names()\n",
    "    return X, y, X_cols"
   ]
  },
  {
   "cell_type": "code",
   "execution_count": 116,
   "metadata": {
    "collapsed": false
   },
   "outputs": [],
   "source": [
    "X, y, X_cols = make_xy_n_imdb(imdb_set, vectorizer=tfidfvectorizer, tokenizer=None)\n",
    "X = X.toarray()"
   ]
  },
  {
   "cell_type": "code",
   "execution_count": 117,
   "metadata": {
    "collapsed": false
   },
   "outputs": [
    {
     "name": "stdout",
     "output_type": "stream",
     "text": [
      "Accuracy on training data: 0.965829\n",
      "Accuracy on test data:     0.868400\n"
     ]
    }
   ],
   "source": [
    "clf = MultinomialNB(alpha=0.1).fit(X[mask_imdb], y[mask_imdb])\n",
    "\n",
    "#your turn. Print the accuracy on the test and training dataset\n",
    "training_accuracy = clf.score(X[mask_imdb], y[mask_imdb])\n",
    "test_accuracy = clf.score(X[~mask_imdb], y[~mask_imdb])\n",
    "\n",
    "print(\"Accuracy on training data: {:2f}\".format(training_accuracy))\n",
    "print(\"Accuracy on test data:     {:2f}\".format(test_accuracy))"
   ]
  },
  {
   "cell_type": "markdown",
   "metadata": {},
   "source": [
    "# 8. Doc2Vec training"
   ]
  },
  {
   "cell_type": "code",
   "execution_count": 118,
   "metadata": {
    "collapsed": true
   },
   "outputs": [],
   "source": [
    "tag_map = {'neg':\"1\",\n",
    "          'pos':\"2\",\n",
    "          'none':\"3\"}\n",
    "\n",
    "tag_map_rev = dict((v,k) for k,v in tag_map.items())"
   ]
  },
  {
   "cell_type": "code",
   "execution_count": 119,
   "metadata": {
    "collapsed": false
   },
   "outputs": [],
   "source": [
    "# Delete paragraph context information for test data\n",
    "# imdb_set.loc[~mask_imdb,'sentiment'] = 'none'"
   ]
  },
  {
   "cell_type": "code",
   "execution_count": 120,
   "metadata": {
    "collapsed": false
   },
   "outputs": [],
   "source": [
    "imdb_set_train = imdb_set[mask_imdb].reset_index().drop('index', 1)\n",
    "imdb_set_test = imdb_set[~mask_imdb].reset_index().drop('index', 1)\n",
    "\n",
    "sentences = D2V_LabeledLineSentence(imdb_set_train)\n",
    "sentences_label = sentences.to_array()\n",
    "\n",
    "sentences_test = D2V_LabeledLineSentence(imdb_set_test)\n",
    "sentences_test_label = sentences_test.to_array()\n",
    "\n",
    "sentences_rt = D2V_LabeledLineSentence(rt_set)\n",
    "sentences_rt_label = sentences_rt.to_array()"
   ]
  },
  {
   "cell_type": "code",
   "execution_count": 144,
   "metadata": {
    "collapsed": true
   },
   "outputs": [],
   "source": [
    "min_word_count=5\n",
    "context=10\n",
    "downsampling=1e-2\n",
    "negative_samp=5"
   ]
  },
  {
   "cell_type": "code",
   "execution_count": 145,
   "metadata": {
    "collapsed": false
   },
   "outputs": [
    {
     "name": "stderr",
     "output_type": "stream",
     "text": [
      "2017-05-31 21:43:16,101 : INFO : collecting all words and their counts\n",
      "2017-05-31 21:43:16,101 : INFO : PROGRESS: at example #0, processed 0 words (0/s), 0 word types, 0 tags\n",
      "2017-05-31 21:43:16,316 : INFO : PROGRESS: at example #10000, processed 1191746 words (5582136/s), 54208 word types, 2 tags\n",
      "2017-05-31 21:43:16,467 : INFO : collected 74834 word types and 2 unique tags from a corpus of 17500 examples and 2091589 words\n",
      "2017-05-31 21:43:16,470 : INFO : Loading a fresh vocabulary\n",
      "2017-05-31 21:43:16,535 : INFO : min_count=5 retains 20649 unique words (27% of original 74834, drops 54185)\n",
      "2017-05-31 21:43:16,536 : INFO : min_count=5 leaves 2011250 word corpus (96% of original 2091589, drops 80339)\n",
      "2017-05-31 21:43:16,579 : INFO : deleting the raw counts dictionary of 74834 items\n",
      "2017-05-31 21:43:16,582 : INFO : sample=0.01 downsamples 0 most-common words\n",
      "2017-05-31 21:43:16,584 : INFO : downsampling leaves estimated 2011250 word corpus (100.0% of prior 2011250)\n",
      "2017-05-31 21:43:16,585 : INFO : estimated required memory for 20649 words and 200 dimensions: 43364900 bytes\n",
      "2017-05-31 21:43:16,641 : INFO : resetting layer weights\n"
     ]
    }
   ],
   "source": [
    "model = Doc2Vec(min_count=min_word_count, dm=0, window=context, size=num_features, sample=downsampling, negative=negative_samp,\n",
    "                workers=num_workers, iter=iterations)\n",
    "model.build_vocab(sentences_label)"
   ]
  },
  {
   "cell_type": "code",
   "execution_count": 146,
   "metadata": {
    "collapsed": false
   },
   "outputs": [
    {
     "name": "stderr",
     "output_type": "stream",
     "text": [
      "2017-05-31 21:43:16,872 : INFO : training model with 12 workers on 20649 vocabulary and 200 features, using sg=1 hs=0 sample=0.01 negative=5 window=10\n",
      "2017-05-31 21:43:17,887 : INFO : PROGRESS: at 0.70% examples, 1410941 words/s, in_qsize 23, out_qsize 1\n",
      "2017-05-31 21:43:18,894 : INFO : PROGRESS: at 1.43% examples, 1440169 words/s, in_qsize 23, out_qsize 0\n",
      "2017-05-31 21:43:19,898 : INFO : PROGRESS: at 2.15% examples, 1441566 words/s, in_qsize 23, out_qsize 0\n",
      "2017-05-31 21:43:20,901 : INFO : PROGRESS: at 2.90% examples, 1462475 words/s, in_qsize 24, out_qsize 0\n",
      "2017-05-31 21:43:21,911 : INFO : PROGRESS: at 3.67% examples, 1480087 words/s, in_qsize 24, out_qsize 0\n",
      "2017-05-31 21:43:22,914 : INFO : PROGRESS: at 4.45% examples, 1494288 words/s, in_qsize 24, out_qsize 0\n",
      "2017-05-31 21:43:23,926 : INFO : PROGRESS: at 5.21% examples, 1499368 words/s, in_qsize 23, out_qsize 0\n",
      "2017-05-31 21:43:24,946 : INFO : PROGRESS: at 5.92% examples, 1488429 words/s, in_qsize 24, out_qsize 0\n",
      "2017-05-31 21:43:25,947 : INFO : PROGRESS: at 6.69% examples, 1498066 words/s, in_qsize 23, out_qsize 0\n",
      "2017-05-31 21:43:26,947 : INFO : PROGRESS: at 7.39% examples, 1488801 words/s, in_qsize 23, out_qsize 0\n",
      "2017-05-31 21:43:27,947 : INFO : PROGRESS: at 8.05% examples, 1474759 words/s, in_qsize 24, out_qsize 0\n",
      "2017-05-31 21:43:28,956 : INFO : PROGRESS: at 8.75% examples, 1470206 words/s, in_qsize 24, out_qsize 0\n",
      "2017-05-31 21:43:29,957 : INFO : PROGRESS: at 9.49% examples, 1472389 words/s, in_qsize 23, out_qsize 0\n",
      "2017-05-31 21:43:30,957 : INFO : PROGRESS: at 10.22% examples, 1471623 words/s, in_qsize 23, out_qsize 0\n",
      "2017-05-31 21:43:31,960 : INFO : PROGRESS: at 10.93% examples, 1470711 words/s, in_qsize 23, out_qsize 0\n",
      "2017-05-31 21:43:32,964 : INFO : PROGRESS: at 11.66% examples, 1470296 words/s, in_qsize 24, out_qsize 0\n",
      "2017-05-31 21:43:33,967 : INFO : PROGRESS: at 12.37% examples, 1467839 words/s, in_qsize 24, out_qsize 0\n",
      "2017-05-31 21:43:34,973 : INFO : PROGRESS: at 13.10% examples, 1468096 words/s, in_qsize 23, out_qsize 1\n",
      "2017-05-31 21:43:35,973 : INFO : PROGRESS: at 13.82% examples, 1468656 words/s, in_qsize 23, out_qsize 0\n",
      "2017-05-31 21:43:37,000 : INFO : PROGRESS: at 14.55% examples, 1466333 words/s, in_qsize 24, out_qsize 2\n",
      "2017-05-31 21:43:38,003 : INFO : PROGRESS: at 15.23% examples, 1461868 words/s, in_qsize 23, out_qsize 0\n",
      "2017-05-31 21:43:39,042 : INFO : PROGRESS: at 15.92% examples, 1457030 words/s, in_qsize 24, out_qsize 0\n",
      "2017-05-31 21:43:40,049 : INFO : PROGRESS: at 16.66% examples, 1458563 words/s, in_qsize 23, out_qsize 0\n",
      "2017-05-31 21:43:41,055 : INFO : PROGRESS: at 17.37% examples, 1457123 words/s, in_qsize 24, out_qsize 0\n",
      "2017-05-31 21:43:42,056 : INFO : PROGRESS: at 18.04% examples, 1453316 words/s, in_qsize 24, out_qsize 0\n",
      "2017-05-31 21:43:43,062 : INFO : PROGRESS: at 18.81% examples, 1457664 words/s, in_qsize 23, out_qsize 0\n",
      "2017-05-31 21:43:44,065 : INFO : PROGRESS: at 19.59% examples, 1462006 words/s, in_qsize 24, out_qsize 0\n",
      "2017-05-31 21:43:45,069 : INFO : PROGRESS: at 20.37% examples, 1465566 words/s, in_qsize 24, out_qsize 0\n",
      "2017-05-31 21:43:46,071 : INFO : PROGRESS: at 21.12% examples, 1467310 words/s, in_qsize 24, out_qsize 0\n",
      "2017-05-31 21:43:47,078 : INFO : PROGRESS: at 21.86% examples, 1468626 words/s, in_qsize 23, out_qsize 0\n",
      "2017-05-31 21:43:48,081 : INFO : PROGRESS: at 22.65% examples, 1472605 words/s, in_qsize 24, out_qsize 0\n",
      "2017-05-31 21:43:49,088 : INFO : PROGRESS: at 23.43% examples, 1475790 words/s, in_qsize 24, out_qsize 0\n",
      "2017-05-31 21:43:50,089 : INFO : PROGRESS: at 24.19% examples, 1477335 words/s, in_qsize 24, out_qsize 0\n",
      "2017-05-31 21:43:51,095 : INFO : PROGRESS: at 24.94% examples, 1478835 words/s, in_qsize 23, out_qsize 0\n",
      "2017-05-31 21:43:52,104 : INFO : PROGRESS: at 25.71% examples, 1480999 words/s, in_qsize 24, out_qsize 0\n",
      "2017-05-31 21:43:53,121 : INFO : PROGRESS: at 26.50% examples, 1483465 words/s, in_qsize 24, out_qsize 0\n",
      "2017-05-31 21:43:54,128 : INFO : PROGRESS: at 27.29% examples, 1485998 words/s, in_qsize 23, out_qsize 0\n",
      "2017-05-31 21:43:55,135 : INFO : PROGRESS: at 28.04% examples, 1487059 words/s, in_qsize 23, out_qsize 0\n",
      "2017-05-31 21:43:56,138 : INFO : PROGRESS: at 28.81% examples, 1489184 words/s, in_qsize 24, out_qsize 0\n",
      "2017-05-31 21:43:57,141 : INFO : PROGRESS: at 29.59% examples, 1490845 words/s, in_qsize 23, out_qsize 0\n",
      "2017-05-31 21:43:58,144 : INFO : PROGRESS: at 30.37% examples, 1492825 words/s, in_qsize 24, out_qsize 0\n",
      "2017-05-31 21:43:59,147 : INFO : PROGRESS: at 31.11% examples, 1492900 words/s, in_qsize 24, out_qsize 0\n",
      "2017-05-31 21:44:00,154 : INFO : PROGRESS: at 31.87% examples, 1494334 words/s, in_qsize 24, out_qsize 0\n",
      "2017-05-31 21:44:01,154 : INFO : PROGRESS: at 32.66% examples, 1496398 words/s, in_qsize 24, out_qsize 0\n",
      "2017-05-31 21:44:02,155 : INFO : PROGRESS: at 33.43% examples, 1497725 words/s, in_qsize 24, out_qsize 0\n",
      "2017-05-31 21:44:03,157 : INFO : PROGRESS: at 34.18% examples, 1498155 words/s, in_qsize 24, out_qsize 0\n",
      "2017-05-31 21:44:04,163 : INFO : PROGRESS: at 34.93% examples, 1498797 words/s, in_qsize 23, out_qsize 0\n",
      "2017-05-31 21:44:05,163 : INFO : PROGRESS: at 35.71% examples, 1500412 words/s, in_qsize 23, out_qsize 0\n",
      "2017-05-31 21:44:06,178 : INFO : PROGRESS: at 36.49% examples, 1501692 words/s, in_qsize 23, out_qsize 1\n",
      "2017-05-31 21:44:07,180 : INFO : PROGRESS: at 37.21% examples, 1500665 words/s, in_qsize 24, out_qsize 0\n",
      "2017-05-31 21:44:08,181 : INFO : PROGRESS: at 37.97% examples, 1501524 words/s, in_qsize 23, out_qsize 0\n",
      "2017-05-31 21:44:09,190 : INFO : PROGRESS: at 38.74% examples, 1502354 words/s, in_qsize 23, out_qsize 0\n",
      "2017-05-31 21:44:10,191 : INFO : PROGRESS: at 39.50% examples, 1503180 words/s, in_qsize 24, out_qsize 0\n",
      "2017-05-31 21:44:11,194 : INFO : PROGRESS: at 40.26% examples, 1503419 words/s, in_qsize 23, out_qsize 0\n",
      "2017-05-31 21:44:12,203 : INFO : PROGRESS: at 40.98% examples, 1502916 words/s, in_qsize 24, out_qsize 0\n",
      "2017-05-31 21:44:13,204 : INFO : PROGRESS: at 41.75% examples, 1503840 words/s, in_qsize 23, out_qsize 0\n",
      "2017-05-31 21:44:14,210 : INFO : PROGRESS: at 42.53% examples, 1504954 words/s, in_qsize 23, out_qsize 0\n",
      "2017-05-31 21:44:15,214 : INFO : PROGRESS: at 43.27% examples, 1504612 words/s, in_qsize 24, out_qsize 0\n",
      "2017-05-31 21:44:16,236 : INFO : PROGRESS: at 44.03% examples, 1504961 words/s, in_qsize 23, out_qsize 0\n",
      "2017-05-31 21:44:17,237 : INFO : PROGRESS: at 44.78% examples, 1505132 words/s, in_qsize 24, out_qsize 0\n",
      "2017-05-31 21:44:18,243 : INFO : PROGRESS: at 45.55% examples, 1505862 words/s, in_qsize 23, out_qsize 0\n",
      "2017-05-31 21:44:19,252 : INFO : PROGRESS: at 46.30% examples, 1505746 words/s, in_qsize 24, out_qsize 0\n",
      "2017-05-31 21:44:20,259 : INFO : PROGRESS: at 47.04% examples, 1505630 words/s, in_qsize 24, out_qsize 0\n",
      "2017-05-31 21:44:21,269 : INFO : PROGRESS: at 47.80% examples, 1506027 words/s, in_qsize 24, out_qsize 0\n",
      "2017-05-31 21:44:22,283 : INFO : PROGRESS: at 48.56% examples, 1506196 words/s, in_qsize 24, out_qsize 0\n",
      "2017-05-31 21:44:23,288 : INFO : PROGRESS: at 49.23% examples, 1503712 words/s, in_qsize 23, out_qsize 0\n",
      "2017-05-31 21:44:24,293 : INFO : PROGRESS: at 49.97% examples, 1503778 words/s, in_qsize 24, out_qsize 0\n",
      "2017-05-31 21:44:25,295 : INFO : PROGRESS: at 50.71% examples, 1503842 words/s, in_qsize 24, out_qsize 0\n",
      "2017-05-31 21:44:26,296 : INFO : PROGRESS: at 51.39% examples, 1501846 words/s, in_qsize 23, out_qsize 0\n",
      "2017-05-31 21:44:27,296 : INFO : PROGRESS: at 52.10% examples, 1500962 words/s, in_qsize 23, out_qsize 1\n",
      "2017-05-31 21:44:28,301 : INFO : PROGRESS: at 52.84% examples, 1501132 words/s, in_qsize 24, out_qsize 0\n",
      "2017-05-31 21:44:29,301 : INFO : PROGRESS: at 53.61% examples, 1501644 words/s, in_qsize 24, out_qsize 0\n",
      "2017-05-31 21:44:30,301 : INFO : PROGRESS: at 54.34% examples, 1501373 words/s, in_qsize 24, out_qsize 0\n",
      "2017-05-31 21:44:31,303 : INFO : PROGRESS: at 54.99% examples, 1498958 words/s, in_qsize 23, out_qsize 0\n",
      "2017-05-31 21:44:32,308 : INFO : PROGRESS: at 55.72% examples, 1498758 words/s, in_qsize 24, out_qsize 0\n",
      "2017-05-31 21:44:33,313 : INFO : PROGRESS: at 56.45% examples, 1498289 words/s, in_qsize 24, out_qsize 0\n",
      "2017-05-31 21:44:34,329 : INFO : PROGRESS: at 57.15% examples, 1497011 words/s, in_qsize 24, out_qsize 0\n",
      "2017-05-31 21:44:35,351 : INFO : PROGRESS: at 57.86% examples, 1495902 words/s, in_qsize 23, out_qsize 0\n",
      "2017-05-31 21:44:36,352 : INFO : PROGRESS: at 58.59% examples, 1495542 words/s, in_qsize 24, out_qsize 0\n",
      "2017-05-31 21:44:37,358 : INFO : PROGRESS: at 59.27% examples, 1494091 words/s, in_qsize 23, out_qsize 0\n",
      "2017-05-31 21:44:38,364 : INFO : PROGRESS: at 59.97% examples, 1492961 words/s, in_qsize 23, out_qsize 0\n",
      "2017-05-31 21:44:39,369 : INFO : PROGRESS: at 60.62% examples, 1490868 words/s, in_qsize 23, out_qsize 0\n",
      "2017-05-31 21:44:40,384 : INFO : PROGRESS: at 61.32% examples, 1489797 words/s, in_qsize 24, out_qsize 0\n",
      "2017-05-31 21:44:41,390 : INFO : PROGRESS: at 62.01% examples, 1488668 words/s, in_qsize 24, out_qsize 0\n",
      "2017-05-31 21:44:42,397 : INFO : PROGRESS: at 62.69% examples, 1487098 words/s, in_qsize 24, out_qsize 0\n",
      "2017-05-31 21:44:43,401 : INFO : PROGRESS: at 63.40% examples, 1486401 words/s, in_qsize 23, out_qsize 0\n",
      "2017-05-31 21:44:44,403 : INFO : PROGRESS: at 64.09% examples, 1485434 words/s, in_qsize 24, out_qsize 0\n",
      "2017-05-31 21:44:45,411 : INFO : PROGRESS: at 64.78% examples, 1484462 words/s, in_qsize 23, out_qsize 0\n",
      "2017-05-31 21:44:46,430 : INFO : PROGRESS: at 65.50% examples, 1483903 words/s, in_qsize 24, out_qsize 0\n",
      "2017-05-31 21:44:47,431 : INFO : PROGRESS: at 66.19% examples, 1482788 words/s, in_qsize 24, out_qsize 0\n",
      "2017-05-31 21:44:48,431 : INFO : PROGRESS: at 66.87% examples, 1481801 words/s, in_qsize 24, out_qsize 0\n",
      "2017-05-31 21:44:49,434 : INFO : PROGRESS: at 67.58% examples, 1481251 words/s, in_qsize 24, out_qsize 0\n",
      "2017-05-31 21:44:50,441 : INFO : PROGRESS: at 68.28% examples, 1480509 words/s, in_qsize 24, out_qsize 1\n",
      "2017-05-31 21:44:51,446 : INFO : PROGRESS: at 68.95% examples, 1479223 words/s, in_qsize 23, out_qsize 0\n",
      "2017-05-31 21:44:52,446 : INFO : PROGRESS: at 69.63% examples, 1478125 words/s, in_qsize 24, out_qsize 0\n",
      "2017-05-31 21:44:53,456 : INFO : PROGRESS: at 70.32% examples, 1477211 words/s, in_qsize 24, out_qsize 0\n",
      "2017-05-31 21:44:54,460 : INFO : PROGRESS: at 70.98% examples, 1475789 words/s, in_qsize 24, out_qsize 0\n",
      "2017-05-31 21:44:55,463 : INFO : PROGRESS: at 71.64% examples, 1474130 words/s, in_qsize 24, out_qsize 0\n",
      "2017-05-31 21:44:56,471 : INFO : PROGRESS: at 72.33% examples, 1473313 words/s, in_qsize 24, out_qsize 0\n",
      "2017-05-31 21:44:57,480 : INFO : PROGRESS: at 72.98% examples, 1471772 words/s, in_qsize 23, out_qsize 0\n",
      "2017-05-31 21:44:58,483 : INFO : PROGRESS: at 73.69% examples, 1471311 words/s, in_qsize 24, out_qsize 0\n",
      "2017-05-31 21:44:59,483 : INFO : PROGRESS: at 74.38% examples, 1470562 words/s, in_qsize 23, out_qsize 0\n",
      "2017-05-31 21:45:00,483 : INFO : PROGRESS: at 75.04% examples, 1469347 words/s, in_qsize 23, out_qsize 0\n",
      "2017-05-31 21:45:01,486 : INFO : PROGRESS: at 75.74% examples, 1468877 words/s, in_qsize 24, out_qsize 0\n",
      "2017-05-31 21:45:02,486 : INFO : PROGRESS: at 76.43% examples, 1468163 words/s, in_qsize 24, out_qsize 0\n",
      "2017-05-31 21:45:03,489 : INFO : PROGRESS: at 77.09% examples, 1466974 words/s, in_qsize 24, out_qsize 0\n",
      "2017-05-31 21:45:04,493 : INFO : PROGRESS: at 77.78% examples, 1466313 words/s, in_qsize 24, out_qsize 0\n",
      "2017-05-31 21:45:05,503 : INFO : PROGRESS: at 78.49% examples, 1465989 words/s, in_qsize 24, out_qsize 0\n",
      "2017-05-31 21:45:06,515 : INFO : PROGRESS: at 79.15% examples, 1464634 words/s, in_qsize 24, out_qsize 0\n",
      "2017-05-31 21:45:07,516 : INFO : PROGRESS: at 79.82% examples, 1463721 words/s, in_qsize 24, out_qsize 0\n",
      "2017-05-31 21:45:08,523 : INFO : PROGRESS: at 80.51% examples, 1463109 words/s, in_qsize 23, out_qsize 0\n",
      "2017-05-31 21:45:09,533 : INFO : PROGRESS: at 81.21% examples, 1462356 words/s, in_qsize 24, out_qsize 0\n",
      "2017-05-31 21:45:10,535 : INFO : PROGRESS: at 81.87% examples, 1461473 words/s, in_qsize 24, out_qsize 0\n",
      "2017-05-31 21:45:11,539 : INFO : PROGRESS: at 82.57% examples, 1460994 words/s, in_qsize 24, out_qsize 0\n",
      "2017-05-31 21:45:12,540 : INFO : PROGRESS: at 83.25% examples, 1460074 words/s, in_qsize 23, out_qsize 0\n",
      "2017-05-31 21:45:13,578 : INFO : PROGRESS: at 83.92% examples, 1458864 words/s, in_qsize 24, out_qsize 0\n",
      "2017-05-31 21:45:14,595 : INFO : PROGRESS: at 84.63% examples, 1458537 words/s, in_qsize 24, out_qsize 0\n",
      "2017-05-31 21:45:15,595 : INFO : PROGRESS: at 85.31% examples, 1457739 words/s, in_qsize 24, out_qsize 0\n",
      "2017-05-31 21:45:16,598 : INFO : PROGRESS: at 85.97% examples, 1456764 words/s, in_qsize 23, out_qsize 1\n",
      "2017-05-31 21:45:17,605 : INFO : PROGRESS: at 86.63% examples, 1455848 words/s, in_qsize 24, out_qsize 0\n",
      "2017-05-31 21:45:18,622 : INFO : PROGRESS: at 87.32% examples, 1455128 words/s, in_qsize 23, out_qsize 0\n",
      "2017-05-31 21:45:19,637 : INFO : PROGRESS: at 87.98% examples, 1454063 words/s, in_qsize 24, out_qsize 0\n",
      "2017-05-31 21:45:20,638 : INFO : PROGRESS: at 88.68% examples, 1453660 words/s, in_qsize 23, out_qsize 0\n",
      "2017-05-31 21:45:21,638 : INFO : PROGRESS: at 89.36% examples, 1453110 words/s, in_qsize 23, out_qsize 0\n",
      "2017-05-31 21:45:22,641 : INFO : PROGRESS: at 90.01% examples, 1452066 words/s, in_qsize 23, out_qsize 0\n",
      "2017-05-31 21:45:23,642 : INFO : PROGRESS: at 90.69% examples, 1451427 words/s, in_qsize 24, out_qsize 0\n",
      "2017-05-31 21:45:24,661 : INFO : PROGRESS: at 91.38% examples, 1450780 words/s, in_qsize 24, out_qsize 0\n",
      "2017-05-31 21:45:25,677 : INFO : PROGRESS: at 92.04% examples, 1449775 words/s, in_qsize 24, out_qsize 0\n",
      "2017-05-31 21:45:26,687 : INFO : PROGRESS: at 92.71% examples, 1449008 words/s, in_qsize 24, out_qsize 0\n",
      "2017-05-31 21:45:27,694 : INFO : PROGRESS: at 93.37% examples, 1447999 words/s, in_qsize 23, out_qsize 1\n",
      "2017-05-31 21:45:28,723 : INFO : PROGRESS: at 94.03% examples, 1446917 words/s, in_qsize 24, out_qsize 0\n",
      "2017-05-31 21:45:29,726 : INFO : PROGRESS: at 94.71% examples, 1446419 words/s, in_qsize 23, out_qsize 1\n",
      "2017-05-31 21:45:30,730 : INFO : PROGRESS: at 95.40% examples, 1445999 words/s, in_qsize 24, out_qsize 0\n",
      "2017-05-31 21:45:31,730 : INFO : PROGRESS: at 96.05% examples, 1445021 words/s, in_qsize 23, out_qsize 0\n",
      "2017-05-31 21:45:32,732 : INFO : PROGRESS: at 96.73% examples, 1444560 words/s, in_qsize 24, out_qsize 0\n",
      "2017-05-31 21:45:33,743 : INFO : PROGRESS: at 97.42% examples, 1444079 words/s, in_qsize 24, out_qsize 0\n",
      "2017-05-31 21:45:34,746 : INFO : PROGRESS: at 98.04% examples, 1442705 words/s, in_qsize 24, out_qsize 0\n",
      "2017-05-31 21:45:35,750 : INFO : PROGRESS: at 98.70% examples, 1441964 words/s, in_qsize 24, out_qsize 0\n",
      "2017-05-31 21:45:36,753 : INFO : PROGRESS: at 99.39% examples, 1441455 words/s, in_qsize 24, out_qsize 0\n",
      "2017-05-31 21:45:37,631 : INFO : worker thread finished; awaiting finish of 11 more threads\n",
      "2017-05-31 21:45:37,660 : INFO : worker thread finished; awaiting finish of 10 more threads\n",
      "2017-05-31 21:45:37,663 : INFO : worker thread finished; awaiting finish of 9 more threads\n",
      "2017-05-31 21:45:37,667 : INFO : worker thread finished; awaiting finish of 8 more threads\n",
      "2017-05-31 21:45:37,671 : INFO : worker thread finished; awaiting finish of 7 more threads\n",
      "2017-05-31 21:45:37,674 : INFO : worker thread finished; awaiting finish of 6 more threads\n",
      "2017-05-31 21:45:37,680 : INFO : worker thread finished; awaiting finish of 5 more threads\n",
      "2017-05-31 21:45:37,681 : INFO : worker thread finished; awaiting finish of 4 more threads\n",
      "2017-05-31 21:45:37,683 : INFO : worker thread finished; awaiting finish of 3 more threads\n",
      "2017-05-31 21:45:37,684 : INFO : worker thread finished; awaiting finish of 2 more threads\n",
      "2017-05-31 21:45:37,684 : INFO : worker thread finished; awaiting finish of 1 more threads\n",
      "2017-05-31 21:45:37,687 : INFO : worker thread finished; awaiting finish of 0 more threads\n",
      "2017-05-31 21:45:37,687 : INFO : training on 209158900 raw words (202875000 effective words) took 140.8s, 1440792 effective words/s\n"
     ]
    },
    {
     "data": {
      "text/plain": [
       "202875000"
      ]
     },
     "execution_count": 146,
     "metadata": {},
     "output_type": "execute_result"
    }
   ],
   "source": [
    "model.train(sentences_label, total_examples=model.corpus_count)"
   ]
  },
  {
   "cell_type": "code",
   "execution_count": 147,
   "metadata": {
    "collapsed": false
   },
   "outputs": [
    {
     "name": "stderr",
     "output_type": "stream",
     "text": [
      "2017-05-31 21:45:37,693 : INFO : precomputing L2-norms of word weight vectors\n"
     ]
    },
    {
     "data": {
      "text/plain": [
       "[('tabloid', 0.27954161167144775),\n",
       " ('edgy', 0.2756078541278839),\n",
       " ('trend', 0.26331138610839844),\n",
       " ('skyrocket', 0.2573910653591156),\n",
       " ('crippled', 0.256989061832428),\n",
       " ('darrell', 0.2514474391937256),\n",
       " ('mancuso', 0.24403980374336243),\n",
       " ('major', 0.24335750937461853),\n",
       " ('phone', 0.24025003612041473),\n",
       " ('aristocrat', 0.2323264479637146)]"
      ]
     },
     "execution_count": 147,
     "metadata": {},
     "output_type": "execute_result"
    }
   ],
   "source": [
    "model.most_similar('funny')"
   ]
  },
  {
   "cell_type": "code",
   "execution_count": 148,
   "metadata": {
    "collapsed": false
   },
   "outputs": [
    {
     "name": "stderr",
     "output_type": "stream",
     "text": [
      "2017-05-31 21:45:37,729 : INFO : precomputing L2-norms of doc weight vectors\n"
     ]
    },
    {
     "name": "stdout",
     "output_type": "stream",
     "text": [
      "Accuracy on train data:     0.823086\n"
     ]
    }
   ],
   "source": [
    "y_pred = map(lambda x: tag_map_rev[model.docvecs.most_similar([model.infer_vector(x.words)],\n",
    "                                                              topn=1)[0][0]], sentences_label)\n",
    "\n",
    "y_actual = map(lambda x: tag_map_rev[x.tags], sentences_label)\n",
    "\n",
    "print(\"Accuracy on train data:     {:2f}\".format(accuracy_score(y_actual, y_pred)))"
   ]
  },
  {
   "cell_type": "code",
   "execution_count": 149,
   "metadata": {
    "collapsed": false
   },
   "outputs": [
    {
     "name": "stdout",
     "output_type": "stream",
     "text": [
      "Accuracy on test data:     0.803467\n"
     ]
    }
   ],
   "source": [
    "y_pred = map(lambda x: tag_map_rev[model.docvecs.most_similar([model.infer_vector(x.words)],\n",
    "                                                              topn=1)[0][0]], sentences_test_label)\n",
    "\n",
    "y_actual = map(lambda x: tag_map_rev[x.tags], sentences_test_label)\n",
    "\n",
    "print(\"Accuracy on test data:     {:2f}\".format(accuracy_score(y_actual, y_pred)))"
   ]
  },
  {
   "cell_type": "code",
   "execution_count": 184,
   "metadata": {
    "collapsed": false
   },
   "outputs": [
    {
     "name": "stdout",
     "output_type": "stream",
     "text": [
      "Train feature constructed: 17499\r"
     ]
    }
   ],
   "source": [
    "# Build IMDB review vectors and logistric regression based predictive model, test on IMDB data\n",
    "y_test = (imdb_set_test.sentiment == 'pos').values.astype(np.int)\n",
    "y_train = (imdb_set_train.sentiment == 'pos').values.astype(np.int)\n",
    "\n",
    "X_test = np.zeros((len(imdb_set_test.sentiment), num_features))\n",
    "X_train = np.zeros((len(imdb_set_train.sentiment), num_features))\n",
    "\n",
    "# Set-up test vector features\n",
    "for i in range(len(imdb_set_test.sentiment)):\n",
    "    print 'Test feature constructed: {0}\\r'.format(i),\n",
    "    X_test[i] = model.infer_vector(sentences_test_label[i].words)\n",
    "    for word in sentences_test_label[i].words:\n",
    "        if word in model.wv.vocab and word in w2v_vectorizer.vocabulary_:\n",
    "            find_index = w2v_vectorizer.vocabulary_[word]\n",
    "            find_weight = w2v_vectorizer.idf_[find_index]\n",
    "            X_test[i] = X_test[i] + model[word]*find_weight\n",
    "    \n",
    "# Set-up train vector features\n",
    "for i in range(len(imdb_set_train.sentiment)):\n",
    "    print 'Train feature constructed: {0}\\r'.format(i),\n",
    "    X_train[i] = model.infer_vector(sentences_label[i].words)\n",
    "    for word in sentences_label[i].words:\n",
    "        if word in model.wv.vocab and word in w2v_vectorizer.vocabulary_:\n",
    "            find_index = w2v_vectorizer.vocabulary_[word]\n",
    "            find_weight = w2v_vectorizer.idf_[find_index]\n",
    "            X_train[i] = X_train[i] + model[word]*find_weight\n",
    "\n",
    "D2V_scaler = MinMaxScaler()\n",
    "    \n",
    "X_train = D2V_scaler.fit_transform(X_train)\n",
    "X_test = D2V_scaler.transform(X_test)"
   ]
  },
  {
   "cell_type": "code",
   "execution_count": 185,
   "metadata": {
    "collapsed": false
   },
   "outputs": [
    {
     "name": "stdout",
     "output_type": "stream",
     "text": [
      "Accuracy on training data: 0.908286\n",
      "Accuracy on test data:     0.871200\n"
     ]
    }
   ],
   "source": [
    "clf = LogisticRegression().fit(X_train, y_train)\n",
    "\n",
    "training_accuracy = clf.score(X_train, y_train)\n",
    "test_accuracy = clf.score(X_test, y_test)\n",
    "\n",
    "print(\"Accuracy on training data: {:2f}\".format(training_accuracy))\n",
    "print(\"Accuracy on test data:     {:2f}\".format(test_accuracy))"
   ]
  },
  {
   "cell_type": "code",
   "execution_count": 186,
   "metadata": {
    "collapsed": false
   },
   "outputs": [
    {
     "name": "stdout",
     "output_type": "stream",
     "text": [
      "RT feature constructed: 15560\r"
     ]
    }
   ],
   "source": [
    "# Build Rotten Tomatoes review vectors and logistric regression based predictive model, test on RT data\n",
    "y_rt = (rt_set.sentiment == 'pos').values.astype(np.int)\n",
    "X_rt = np.zeros((len(rt_set.sentiment), num_features))\n",
    "\n",
    "# Set-up vector features\n",
    "for i in range(len(rt_set.sentiment)):\n",
    "    print 'RT feature constructed: {0}\\r'.format(i),\n",
    "    X_rt[i] = model.infer_vector(sentences_rt_label[i].words)\n",
    "\n",
    "X_rt = D2V_scaler.transform(X_rt)"
   ]
  },
  {
   "cell_type": "code",
   "execution_count": 187,
   "metadata": {
    "collapsed": false
   },
   "outputs": [
    {
     "name": "stdout",
     "output_type": "stream",
     "text": [
      "Accuracy on RT data:     0.695200\n"
     ]
    }
   ],
   "source": [
    "test_accuracy = clf.score(X_rt, y_rt)\n",
    "print(\"Accuracy on RT data:     {:2f}\".format(test_accuracy))"
   ]
  },
  {
   "cell_type": "code",
   "execution_count": 205,
   "metadata": {
    "collapsed": false
   },
   "outputs": [
    {
     "data": {
      "text/plain": [
       "'pos'"
      ]
     },
     "execution_count": 205,
     "metadata": {},
     "output_type": "execute_result"
    }
   ],
   "source": [
    "tag_map_rev[model.docvecs.most_similar([model.infer_vector(['best', 'movie'])],\n",
    "                                                              topn=1)[0][0]]"
   ]
  },
  {
   "cell_type": "code",
   "execution_count": 204,
   "metadata": {
    "collapsed": false
   },
   "outputs": [
    {
     "data": {
      "text/plain": [
       "'neg'"
      ]
     },
     "execution_count": 204,
     "metadata": {},
     "output_type": "execute_result"
    }
   ],
   "source": [
    "tag_map_rev[model.docvecs.most_similar([model.infer_vector(['best', 'movie'])],\n",
    "                                                              topn=1)[0][0]]"
   ]
  }
 ],
 "metadata": {
  "kernelspec": {
   "display_name": "Python 2",
   "language": "python",
   "name": "python2"
  },
  "language_info": {
   "codemirror_mode": {
    "name": "ipython",
    "version": 2
   },
   "file_extension": ".py",
   "mimetype": "text/x-python",
   "name": "python",
   "nbconvert_exporter": "python",
   "pygments_lexer": "ipython2",
   "version": "2.7.13"
  }
 },
 "nbformat": 4,
 "nbformat_minor": 0
}
