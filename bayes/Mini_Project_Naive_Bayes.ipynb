{
 "cells": [
  {
   "cell_type": "markdown",
   "metadata": {},
   "source": [
    "# Basic Text Classification with Naive Bayes\n",
    "***\n",
    "In the mini-project, you'll learn the basics of text analysis using a subset of movie reviews from the rotten tomatoes database. You'll also use a fundamental technique in Bayesian inference, called Naive Bayes. This mini-project is based on [Lab 10 of Harvard's CS109](https://github.com/cs109/2015lab10) class.  Please free to go to the original lab for additional exercises and solutions."
   ]
  },
  {
   "cell_type": "code",
   "execution_count": 1,
   "metadata": {
    "collapsed": false
   },
   "outputs": [
    {
     "name": "stderr",
     "output_type": "stream",
     "text": [
      "C:\\Anaconda2\\lib\\site-packages\\gensim\\utils.py:855: UserWarning: detected Windows; aliasing chunkize to chunkize_serial\n",
      "  warnings.warn(\"detected Windows; aliasing chunkize to chunkize_serial\")\n"
     ]
    }
   ],
   "source": [
    "%matplotlib inline\n",
    "import numpy as np\n",
    "import scipy as sp\n",
    "import matplotlib as mpl\n",
    "import matplotlib.cm as cm\n",
    "import matplotlib.pyplot as plt\n",
    "import pandas as pd\n",
    "import seaborn as sns\n",
    "from six.moves import range\n",
    "\n",
    "# Setup Pandas\n",
    "pd.set_option('display.width', 500)\n",
    "pd.set_option('display.max_columns', 100)\n",
    "pd.set_option('display.notebook_repr_html', True)\n",
    "\n",
    "# Setup Seaborn\n",
    "sns.set_style(\"whitegrid\")\n",
    "sns.set_context(\"poster\")\n",
    "\n",
    "# Setup sklearn\n",
    "from sklearn.model_selection import KFold, train_test_split, GridSearchCV\n",
    "from sklearn.naive_bayes import MultinomialNB\n",
    "from sklearn.ensemble import RandomForestClassifier\n",
    "from sklearn.linear_model import LogisticRegression\n",
    "from sklearn.feature_extraction.text import TfidfVectorizer\n",
    "from sklearn.model_selection import train_test_split\n",
    "from sklearn.preprocessing import MinMaxScaler\n",
    "from sklearn.metrics import accuracy_score\n",
    "\n",
    "# gensim modules\n",
    "from gensim import utils\n",
    "from gensim.models.doc2vec import TaggedDocument\n",
    "from gensim.models import Doc2Vec, Word2Vec\n",
    "\n",
    "# Setup nlkt\n",
    "from nltk import word_tokenize          \n",
    "from nltk.stem import WordNetLemmatizer \n",
    "class LemmaTokenizer(object):\n",
    "    def __init__(self):\n",
    "        self.wnl = WordNetLemmatizer()\n",
    "    def __call__(self, doc):\n",
    "        return [self.wnl.lemmatize(t) for t in word_tokenize(doc)]\n",
    "\n",
    "import string\n",
    "import xgboost as xgb\n",
    "\n",
    "import logging\n",
    "logging.basicConfig(format='%(asctime)s : %(levelname)s : %(message)s', level=logging.INFO)"
   ]
  },
  {
   "cell_type": "code",
   "execution_count": 2,
   "metadata": {
    "collapsed": false
   },
   "outputs": [],
   "source": [
    "class D2V_LabeledLineSentence(object):\n",
    "    def __init__(self, paragraph_array):\n",
    "        self.paragraph_array = paragraph_array\n",
    "        \n",
    "    def __iter__(self):\n",
    "        for review, line in enumerate(self.paragraph_array.reviews):\n",
    "            encoded = str(line).split()\n",
    "            yield TaggedDocument(encoded, tag_map[self.paragraph_array.sentiment[review]])\n",
    "    \n",
    "    def to_array(self):\n",
    "        self.sentences = []\n",
    "        for review, line in enumerate(self.paragraph_array.reviews):\n",
    "            encoded = str(line).split()\n",
    "            self.sentences.append(TaggedDocument(encoded, tag_map[self.paragraph_array.sentiment[review]]))\n",
    "        return self.sentences\n",
    "    \n",
    "    def to_array_nolabel(self):\n",
    "        self.sentences = []\n",
    "        for review, line in enumerate(self.paragraph_array.reviews):\n",
    "            encoded = str(line).split()\n",
    "            self.sentences.append(encoded)\n",
    "        return self.sentences\n",
    "    \n",
    "    def sentences_perm(self):\n",
    "        np.random.shuffle(self.sentences)\n",
    "        return self.sentences"
   ]
  },
  {
   "cell_type": "code",
   "execution_count": 3,
   "metadata": {
    "collapsed": true
   },
   "outputs": [],
   "source": [
    "class W2V_LabeledLineSentence(object):\n",
    "    def __init__(self, paragraph_array):\n",
    "        self.paragraph_array = paragraph_array\n",
    "        \n",
    "    def __iter__(self):\n",
    "        for review, line in enumerate(self.paragraph_array):\n",
    "            encoded = str(line).split()\n",
    "            yield self.sentences.append(encoded)\n",
    "    \n",
    "    def to_array_nolabel(self):\n",
    "        self.sentences = []\n",
    "        for review, line in enumerate(self.paragraph_array):\n",
    "            encoded = str(line).split()\n",
    "            self.sentences.append(encoded)\n",
    "        return self.sentences\n",
    "    \n",
    "    def sentences_perm(self):\n",
    "        np.random.shuffle(self.sentences)\n",
    "        return self.sentences"
   ]
  },
  {
   "cell_type": "markdown",
   "metadata": {},
   "source": [
    "# Table of Contents\n",
    "\n",
    "* [Rotten Tomatoes Dataset](#Rotten-Tomatoes-Dataset)\n",
    "    * [Explore](#Explore)\n",
    "* [The Vector Space Model and a Search Engine](#The-Vector-Space-Model-and-a-Search-Engine)\n",
    "    * [In Code](#In-Code)\n",
    "* [Naive Bayes](#Naive-Bayes)\n",
    "    * [Multinomial Naive Bayes and Other Likelihood Functions](#Multinomial-Naive-Bayes-and-Other-Likelihood-Functions)\n",
    "    * [Picking Hyperparameters for Naive Bayes and Text Maintenance](#Picking-Hyperparameters-for-Naive-Bayes-and-Text-Maintenance)\n",
    "* [Interpretation](#Interpretation)\n"
   ]
  },
  {
   "cell_type": "markdown",
   "metadata": {},
   "source": [
    "## Rotten Tomatoes Dataset"
   ]
  },
  {
   "cell_type": "code",
   "execution_count": 4,
   "metadata": {
    "collapsed": false
   },
   "outputs": [
    {
     "data": {
      "text/html": [
       "<div>\n",
       "<table border=\"1\" class=\"dataframe\">\n",
       "  <thead>\n",
       "    <tr style=\"text-align: right;\">\n",
       "      <th></th>\n",
       "      <th>critic</th>\n",
       "      <th>fresh</th>\n",
       "      <th>imdb</th>\n",
       "      <th>publication</th>\n",
       "      <th>quote</th>\n",
       "      <th>review_date</th>\n",
       "      <th>rtid</th>\n",
       "      <th>title</th>\n",
       "    </tr>\n",
       "  </thead>\n",
       "  <tbody>\n",
       "    <tr>\n",
       "      <th>1</th>\n",
       "      <td>Derek Adams</td>\n",
       "      <td>fresh</td>\n",
       "      <td>114709</td>\n",
       "      <td>Time Out</td>\n",
       "      <td>So ingenious in concept, design and execution ...</td>\n",
       "      <td>2009-10-04</td>\n",
       "      <td>9559</td>\n",
       "      <td>Toy story</td>\n",
       "    </tr>\n",
       "    <tr>\n",
       "      <th>2</th>\n",
       "      <td>Richard Corliss</td>\n",
       "      <td>fresh</td>\n",
       "      <td>114709</td>\n",
       "      <td>TIME Magazine</td>\n",
       "      <td>The year's most inventive comedy.</td>\n",
       "      <td>2008-08-31</td>\n",
       "      <td>9559</td>\n",
       "      <td>Toy story</td>\n",
       "    </tr>\n",
       "    <tr>\n",
       "      <th>3</th>\n",
       "      <td>David Ansen</td>\n",
       "      <td>fresh</td>\n",
       "      <td>114709</td>\n",
       "      <td>Newsweek</td>\n",
       "      <td>A winning animated feature that has something ...</td>\n",
       "      <td>2008-08-18</td>\n",
       "      <td>9559</td>\n",
       "      <td>Toy story</td>\n",
       "    </tr>\n",
       "    <tr>\n",
       "      <th>4</th>\n",
       "      <td>Leonard Klady</td>\n",
       "      <td>fresh</td>\n",
       "      <td>114709</td>\n",
       "      <td>Variety</td>\n",
       "      <td>The film sports a provocative and appealing st...</td>\n",
       "      <td>2008-06-09</td>\n",
       "      <td>9559</td>\n",
       "      <td>Toy story</td>\n",
       "    </tr>\n",
       "    <tr>\n",
       "      <th>5</th>\n",
       "      <td>Jonathan Rosenbaum</td>\n",
       "      <td>fresh</td>\n",
       "      <td>114709</td>\n",
       "      <td>Chicago Reader</td>\n",
       "      <td>An entertaining computer-generated, hyperreali...</td>\n",
       "      <td>2008-03-10</td>\n",
       "      <td>9559</td>\n",
       "      <td>Toy story</td>\n",
       "    </tr>\n",
       "  </tbody>\n",
       "</table>\n",
       "</div>"
      ],
      "text/plain": [
       "               critic  fresh    imdb     publication                                              quote review_date  rtid      title\n",
       "1         Derek Adams  fresh  114709        Time Out  So ingenious in concept, design and execution ...  2009-10-04  9559  Toy story\n",
       "2     Richard Corliss  fresh  114709   TIME Magazine                  The year's most inventive comedy.  2008-08-31  9559  Toy story\n",
       "3         David Ansen  fresh  114709        Newsweek  A winning animated feature that has something ...  2008-08-18  9559  Toy story\n",
       "4       Leonard Klady  fresh  114709         Variety  The film sports a provocative and appealing st...  2008-06-09  9559  Toy story\n",
       "5  Jonathan Rosenbaum  fresh  114709  Chicago Reader  An entertaining computer-generated, hyperreali...  2008-03-10  9559  Toy story"
      ]
     },
     "execution_count": 4,
     "metadata": {},
     "output_type": "execute_result"
    }
   ],
   "source": [
    "critics = pd.read_csv('./critics.csv')\n",
    "#let's drop rows with missing quotes\n",
    "critics = critics[~critics.quote.isnull()]\n",
    "critics.head()"
   ]
  },
  {
   "cell_type": "code",
   "execution_count": 5,
   "metadata": {
    "collapsed": false
   },
   "outputs": [],
   "source": [
    "# Looks like the original code is wrong - was setting the training size to 1 - 0.7 = 0.3\n",
    "_, itest = train_test_split(range(critics.shape[0]), train_size=0.7)\n",
    "#mask = np.zeros(critics.shape[0], dtype=np.bool)\n",
    "#mask[itest] = True\n",
    "mask = np.ones(critics.shape[0], dtype=np.bool)\n",
    "mask[itest] = False"
   ]
  },
  {
   "cell_type": "markdown",
   "metadata": {},
   "source": [
    "### Explore"
   ]
  },
  {
   "cell_type": "code",
   "execution_count": 6,
   "metadata": {
    "collapsed": false
   },
   "outputs": [
    {
     "name": "stdout",
     "output_type": "stream",
     "text": [
      "Number of reviews: 15561\n",
      "Number of critics: 623\n",
      "Number of movies:  1921\n"
     ]
    }
   ],
   "source": [
    "n_reviews = len(critics)\n",
    "n_movies = critics.rtid.unique().size\n",
    "n_critics = critics.critic.unique().size\n",
    "\n",
    "\n",
    "print(\"Number of reviews: {:d}\".format(n_reviews))\n",
    "print(\"Number of critics: {:d}\".format(n_critics))\n",
    "print(\"Number of movies:  {:d}\".format(n_movies))"
   ]
  },
  {
   "cell_type": "code",
   "execution_count": 7,
   "metadata": {
    "collapsed": false
   },
   "outputs": [
    {
     "data": {
      "image/png": "[encoded data removed]",
      "text/plain": [
       "<matplotlib.figure.Figure at 0xf373198>"
      ]
     },
     "metadata": {},
     "output_type": "display_data"
    }
   ],
   "source": [
    "df = critics.copy()\n",
    "df['fresh'] = df.fresh == 'fresh'\n",
    "grp = df.groupby('critic')\n",
    "counts = grp.critic.count()  # number of reviews by each critic\n",
    "means = grp.fresh.mean()     # average freshness for each critic\n",
    "\n",
    "means[counts > 100].hist(bins=10, edgecolor='w', lw=1)\n",
    "plt.xlabel(\"Average Rating per critic\")\n",
    "plt.ylabel(\"Number of Critics\")\n",
    "plt.yticks([0, 2, 4, 6, 8, 10]);"
   ]
  },
  {
   "cell_type": "markdown",
   "metadata": {},
   "source": [
    "<div class=\"span5 alert alert-info\">\n",
    "<h3>Exercise Set I</h3>\n",
    "<br/>\n",
    "<b>Exercise:</b> Look at the histogram above. Tell a story about the average ratings per critic. What shape does the distribution look like? What is interesting about the distribution? What might explain these interesting things?\n",
    "</div>"
   ]
  },
  {
   "cell_type": "markdown",
   "metadata": {},
   "source": [
    "Distribution is cenetered above 0.5 and skewed towards more positive ratings. However the distribution appears almost bimodal, with one distribution (applied to a the smaller sub-population) centered around 0.5 and another distribuiton centered at 65-70% positive ratings. Indicates that reviewers could be categorized between groups which give as many \"fresh\" reviews as not, and others that tend towards more positive reviews than not. Worth investigating whether selection bias exists for the positively biased group (e.g. whether these reviewers seek out movies in genres / with actors that they are more positively disposed to prior to their review)."
   ]
  },
  {
   "cell_type": "markdown",
   "metadata": {},
   "source": [
    "## The Vector Space Model and a Search Engine"
   ]
  },
  {
   "cell_type": "markdown",
   "metadata": {},
   "source": [
    "All the diagrams here are snipped from [*Introduction to Information Retrieval* by Manning et. al.]( http://nlp.stanford.edu/IR-book/) which is a great resource on text processing. For additional information on text mining and natural language processing, see [*Foundations of Statistical Natural Language Processing* by Manning and Schutze](http://nlp.stanford.edu/fsnlp/).\n",
    "\n",
    "Also check out Python packages [`nltk`](http://www.nltk.org/), [`spaCy`](https://spacy.io/), [`pattern`](http://www.clips.ua.ac.be/pattern), and their associated resources. Also see [`word2vec`](https://en.wikipedia.org/wiki/Word2vec).\n",
    "\n",
    "Let us define the vector derived from document $d$ by $\\bar V(d)$. What does this mean? Each document is treated as a vector containing information about the words contained in it. Each vector has the same length and each entry \"slot\" in the vector contains some kind of data about the words that appear in the document such as presence/absence (1/0), count (an integer) or some other statistic. Each vector has the same length because each document shared the same vocabulary across the full collection of documents -- this collection is called a *corpus*.\n",
    "\n",
    "To define the vocabulary, we take a union of all words we have seen in all documents. We then just associate an array index with them. So \"hello\" may be at index 5 and \"world\" at index 99.\n",
    "\n",
    "Suppose we have the following corpus:\n",
    "\n",
    "`A Fox one day spied a beautiful bunch of ripe grapes hanging from a vine trained along the branches of a tree. The grapes seemed ready to burst with juice, and the Fox's mouth watered as he gazed longingly at them.`\n",
    "\n",
    "Suppose we treat each sentence as a document $d$. The vocabulary (often called the *lexicon*) is the following:\n",
    "\n",
    "$V = \\left\\{\\right.$ `a, along, and, as, at, beautiful, branches, bunch, burst, day, fox, fox's, from, gazed, grapes, hanging, he, juice, longingly, mouth, of, one, ready, ripe, seemed, spied, the, them, to, trained, tree, vine, watered, with`$\\left.\\right\\}$\n",
    "\n",
    "Then the document\n",
    "\n",
    "`A Fox one day spied a beautiful bunch of ripe grapes hanging from a vine trained along the branches of a tree`\n",
    "\n",
    "may be represented as the following sparse vector of word counts:\n",
    "\n",
    "$$\\bar V(d) = \\left( 4,1,0,0,0,1,1,1,0,1,1,0,1,0,1,1,0,0,0,0,2,1,0,1,0,0,1,0,0,0,1,1,0,0 \\right)$$\n",
    "\n",
    "or more succinctly as\n",
    "\n",
    "`[(0, 4), (1, 1), (5, 1), (6, 1), (7, 1), (9, 1), (10, 1), (12, 1), (14, 1), (15, 1), (20, 2), (21, 1), (23, 1),`\n",
    "`(26, 1), (30, 1), (31, 1)]`\n",
    "\n",
    "along with a dictionary\n",
    "\n",
    "``\n",
    "{\n",
    "    0: a, 1: along, 5: beautiful, 6: branches, 7: bunch, 9: day, 10: fox, 12: from, 14: grapes, \n",
    "    15: hanging, 19: mouth, 20: of, 21: one, 23: ripe, 24: seemed, 25: spied, 26: the, \n",
    "    30: tree, 31: vine, \n",
    "}\n",
    "``\n",
    "\n",
    "Then, a set of documents becomes, in the usual `sklearn` style, a sparse matrix with rows being sparse arrays representing documents and columns representing the features/words in the vocabulary.\n",
    "\n",
    "Notice that this representation loses the relative ordering of the terms in the document. That is \"cat ate rat\" and \"rat ate cat\" are the same. Thus, this representation is also known as the Bag-Of-Words representation.\n",
    "\n",
    "Here is another example, from the book quoted above, although the matrix is transposed here so that documents are columns:\n",
    "\n",
    "![novel terms](terms.png)\n",
    "\n",
    "Such a matrix is also catted a Term-Document Matrix. Here, the terms being indexed could be stemmed before indexing; for instance, `jealous` and `jealousy` after stemming are the same feature. One could also make use of other \"Natural Language Processing\" transformations in constructing the vocabulary. We could use Lemmatization, which reduces words to lemmas: work, working, worked would all reduce to work. We could remove \"stopwords\" from our vocabulary, such as common words like \"the\". We could look for particular parts of speech, such as adjectives. This is often done in Sentiment Analysis. And so on. It all depends on our application.\n",
    "\n",
    "From the book:\n",
    ">The standard way of quantifying the similarity between two documents $d_1$ and $d_2$  is to compute the cosine similarity of their vector representations $\\bar V(d_1)$ and $\\bar V(d_2)$:\n",
    "\n",
    "$$S_{12} = \\frac{\\bar V(d_1) \\cdot \\bar V(d_2)}{|\\bar V(d_1)| \\times |\\bar V(d_2)|}$$\n",
    "\n",
    "![Vector Space Model](vsm.png)\n",
    "\n",
    "\n",
    ">There is a far more compelling reason to represent documents as vectors: we can also view a query as a vector. Consider the query q = jealous gossip. This query turns into the unit vector $\\bar V(q)$ = (0, 0.707, 0.707) on the three coordinates below. \n",
    "\n",
    "![novel terms](terms2.png)\n",
    "\n",
    ">The key idea now: to assign to each document d a score equal to the dot product:\n",
    "\n",
    "$$\\bar V(q) \\cdot \\bar V(d)$$\n",
    "\n",
    "Then we can use this simple Vector Model as a Search engine."
   ]
  },
  {
   "cell_type": "markdown",
   "metadata": {},
   "source": [
    "### In Code"
   ]
  },
  {
   "cell_type": "code",
   "execution_count": 8,
   "metadata": {
    "collapsed": false
   },
   "outputs": [
    {
     "name": "stdout",
     "output_type": "stream",
     "text": [
      "Original text is\n",
      "Hop on pop\n",
      "Hop off pop\n",
      "Hop Hop hop\n",
      "\n",
      "Transformed text vector is \n",
      "[[1 0 1 1]\n",
      " [1 1 0 1]\n",
      " [3 0 0 0]]\n",
      "\n",
      "Words for each feature:\n",
      "[u'hop', u'off', u'on', u'pop']\n"
     ]
    }
   ],
   "source": [
    "from sklearn.feature_extraction.text import CountVectorizer\n",
    "\n",
    "text = ['Hop on pop', 'Hop off pop', 'Hop Hop hop']\n",
    "print(\"Original text is\\n{}\".format('\\n'.join(text)))\n",
    "\n",
    "vectorizer = CountVectorizer(min_df=0)\n",
    "\n",
    "# call `fit` to build the vocabulary\n",
    "vectorizer.fit(text)\n",
    "\n",
    "# call `transform` to convert text to a bag of words\n",
    "x = vectorizer.transform(text)\n",
    "\n",
    "# CountVectorizer uses a sparse array to save memory, but it's easier in this assignment to \n",
    "# convert back to a \"normal\" numpy array\n",
    "x = x.toarray()\n",
    "\n",
    "print(\"\")\n",
    "print(\"Transformed text vector is \\n{}\".format(x))\n",
    "\n",
    "# `get_feature_names` tracks which word is associated with each column of the transformed x\n",
    "print(\"\")\n",
    "print(\"Words for each feature:\")\n",
    "print(vectorizer.get_feature_names())\n",
    "\n",
    "# Notice that the bag of words treatment doesn't preserve information about the *order* of words, \n",
    "# just their frequency"
   ]
  },
  {
   "cell_type": "code",
   "execution_count": 9,
   "metadata": {
    "collapsed": false
   },
   "outputs": [
    {
     "name": "stdout",
     "output_type": "stream",
     "text": [
      "  (0, 0)\t1\n",
      "  (0, 2)\t1\n",
      "  (0, 3)\t1\n",
      "  (1, 0)\t1\n",
      "  (1, 1)\t1\n",
      "  (1, 3)\t1\n",
      "  (2, 0)\t3\n"
     ]
    }
   ],
   "source": [
    "print vectorizer.transform(text)"
   ]
  },
  {
   "cell_type": "code",
   "execution_count": 10,
   "metadata": {
    "collapsed": false
   },
   "outputs": [],
   "source": [
    "def make_xy(critics, vectorizer=None):\n",
    "    #Your code here    \n",
    "    if vectorizer is None:\n",
    "        vectorizer = CountVectorizer()\n",
    "    X = vectorizer.fit_transform(critics.quote)\n",
    "    X = X.tocsc()  # some versions of sklearn return COO format\n",
    "    y = (critics.fresh == 'fresh').values.astype(np.int)\n",
    "    X_cols = vectorizer.get_feature_names()\n",
    "    return X, y, X_cols\n",
    "X, y, X_cols = make_xy(critics)\n",
    "X = X.toarray()"
   ]
  },
  {
   "cell_type": "markdown",
   "metadata": {},
   "source": [
    "## Naive Bayes"
   ]
  },
  {
   "cell_type": "markdown",
   "metadata": {},
   "source": [
    "From Bayes' Theorem, we have that\n",
    "\n",
    "$$P(c \\vert f) = \\frac{P(c \\cap f)}{P(f)}$$\n",
    "\n",
    "where $c$ represents a *class* or category, and $f$ represents a feature vector, such as $\\bar V(d)$ as above. **We are computing the probability that a document (or whatever we are classifying) belongs to category *c* given the features in the document.** $P(f)$ is really just a normalization constant, so the literature usually writes Bayes' Theorem in context of Naive Bayes as\n",
    "\n",
    "$$P(c \\vert f) \\propto P(f \\vert c) P(c) $$\n",
    "\n",
    "$P(c)$ is called the *prior* and is simply the probability of seeing class $c$. But what is $P(f \\vert c)$? This is the probability that we see feature set $f$ given that this document is actually in class $c$. This is called the *likelihood* and comes from the data. One of the major assumptions of the Naive Bayes model is that the features are *conditionally independent* given the class. While the presence of a particular discriminative word may uniquely identify the document as being part of class $c$ and thus violate general feature independence, conditional independence means that the presence of that term is independent of all the other words that appear *within that class*. This is a very important distinction. Recall that if two events are independent, then:\n",
    "\n",
    "$$P(A \\cap B) = P(A) \\cdot P(B)$$\n",
    "\n",
    "Thus, conditional independence implies\n",
    "\n",
    "$$P(f \\vert c)  = \\prod_i P(f_i | c) $$\n",
    "\n",
    "where $f_i$ is an individual feature (a word in this example).\n",
    "\n",
    "To make a classification, we then choose the class $c$ such that $P(c \\vert f)$ is maximal.\n",
    "\n",
    "There is a small caveat when computing these probabilities. For [floating point underflow](http://nlp.stanford.edu/IR-book/html/htmledition/naive-bayes-text-classification-1.html) we change the product into a sum by going into log space. This is called the LogSumExp trick. So:\n",
    "\n",
    "$$\\log P(f \\vert c)  = \\sum_i \\log P(f_i \\vert c) $$\n",
    "\n",
    "There is another caveat. What if we see a term that didn't exist in the training data? This means that $P(f_i \\vert c) = 0$ for that term, and thus $P(f \\vert c)  = \\prod_i P(f_i | c) = 0$, which doesn't help us at all. Instead of using zeros, we add a small negligible value called $\\alpha$ to each count. This is called Laplace Smoothing.\n",
    "\n",
    "$$P(f_i \\vert c) = \\frac{N_{ic}+\\alpha}{N_c + \\alpha N_i}$$\n",
    "\n",
    "where $N_{ic}$ is the number of times feature $i$ was seen in class $c$, $N_c$ is the number of times class $c$ was seen and $N_i$ is the number of times feature $i$ was seen globally. $\\alpha$ is sometimes called a regularization parameter."
   ]
  },
  {
   "cell_type": "markdown",
   "metadata": {},
   "source": [
    "### Multinomial Naive Bayes and Other Likelihood Functions\n",
    "\n",
    "Since we are modeling word counts, we are using variation of Naive Bayes called Multinomial Naive Bayes. This is because the likelihood function actually takes the form of the multinomial distribution.\n",
    "\n",
    "$$P(f \\vert c) = \\frac{\\left( \\sum_i f_i \\right)!}{\\prod_i f_i!} \\prod_{f_i} P(f_i \\vert c)^{f_i} \\propto \\prod_{i} P(f_i \\vert c)$$\n",
    "\n",
    "where the nasty term out front is absorbed as a normalization constant such that probabilities sum to 1.\n",
    "\n",
    "There are many other variations of Naive Bayes, all which depend on what type of value $f_i$ takes. If $f_i$ is continuous, we may be able to use *Gaussian Naive Bayes*. First compute the mean and variance for each class $c$. Then the likelihood, $P(f \\vert c)$ is given as follows\n",
    "\n",
    "$$P(f_i = v \\vert c) = \\frac{1}{\\sqrt{2\\pi \\sigma^2_c}} e^{- \\frac{\\left( v - \\mu_c \\right)^2}{2 \\sigma^2_c}}$$"
   ]
  },
  {
   "cell_type": "markdown",
   "metadata": {},
   "source": [
    "<div class=\"span5 alert alert-info\">\n",
    "<h3>Exercise Set II</h3>\n",
    "\n",
    "<p><b>Exercise:</b> Implement a simple Naive Bayes classifier:</p>\n",
    "\n",
    "<ol>\n",
    "<li> split the data set into a training and test set\n",
    "<li> Use `scikit-learn`'s `MultinomialNB()` classifier with default parameters.\n",
    "<li> train the classifier over the training set and test on the test set\n",
    "<li> print the accuracy scores for both the training and the test sets\n",
    "</ol>\n",
    "\n",
    "What do you notice? Is this a good classifier? If not, why not?\n",
    "</div>"
   ]
  },
  {
   "cell_type": "code",
   "execution_count": 11,
   "metadata": {
    "collapsed": false
   },
   "outputs": [],
   "source": [
    "# Split data set\n",
    "X_train, X_test, y_train, y_test = train_test_split(X, y, test_size=0.3, random_state=1)"
   ]
  },
  {
   "cell_type": "code",
   "execution_count": 12,
   "metadata": {
    "collapsed": false
   },
   "outputs": [],
   "source": [
    "# Instantiate MultinomialNB classifier\n",
    "Mult_NB = MultinomialNB(alpha = 1)\n",
    "\n",
    "# Fit classifier\n",
    "Mult_NB.fit(X_train, y_train)\n",
    "\n",
    "# Predit score\n",
    "y_pred = Mult_NB.predict(X_test)"
   ]
  },
  {
   "cell_type": "code",
   "execution_count": 13,
   "metadata": {
    "collapsed": false
   },
   "outputs": [
    {
     "name": "stdout",
     "output_type": "stream",
     "text": [
      "0.924623576937\n"
     ]
    }
   ],
   "source": [
    "# Accuracy score on train data\n",
    "print Mult_NB.score(X_train, y_train)"
   ]
  },
  {
   "cell_type": "code",
   "execution_count": 14,
   "metadata": {
    "collapsed": false
   },
   "outputs": [
    {
     "name": "stdout",
     "output_type": "stream",
     "text": [
      "0.768258727779\n"
     ]
    }
   ],
   "source": [
    "# Accuracy score on test data\n",
    "print Mult_NB.score(X_test, y_test)"
   ]
  },
  {
   "cell_type": "markdown",
   "metadata": {},
   "source": [
    "A \"flip of the coin\" algorithm would achieve a score of 0.50. This classifier clealry improves on that, however the difference in perofrmance between applying the fittd model to train data vs. test data is significant. This points to possiblity that the model is over fitted, or that there are words in the test data not present in the train data that are skewing predictions."
   ]
  },
  {
   "cell_type": "markdown",
   "metadata": {},
   "source": [
    "### Picking Hyperparameters for Naive Bayes and Text Maintenance"
   ]
  },
  {
   "cell_type": "markdown",
   "metadata": {},
   "source": [
    "We need to know what value to use for $\\alpha$, and we also need to know which words to include in the vocabulary. As mentioned earlier, some words are obvious stopwords. Other words appear so infrequently that they serve as noise, and other words in addition to stopwords appear so frequently that they may also serve as noise."
   ]
  },
  {
   "cell_type": "markdown",
   "metadata": {},
   "source": [
    "First, let's find an appropriate value for `min_df` for the `CountVectorizer`. `min_df` can be either an integer or a float/decimal. If it is an integer, `min_df` represents the minimum number of documents a word must appear in for it to be included in the vocabulary. If it is a float, it represents the minimum *percentage* of documents a word must appear in to be included in the vocabulary. From the documentation:"
   ]
  },
  {
   "cell_type": "markdown",
   "metadata": {},
   "source": [
    ">min_df: When building the vocabulary ignore terms that have a document frequency strictly lower than the given threshold. This value is also called cut-off in the literature. If float, the parameter represents a proportion of documents, integer absolute counts. This parameter is ignored if vocabulary is not None."
   ]
  },
  {
   "cell_type": "markdown",
   "metadata": {},
   "source": [
    "<div class=\"span5 alert alert-info\">\n",
    "<h3>Exercise Set III</h3>\n",
    "\n",
    "<p><b>Exercise:</b> Construct the cumulative distribution of document frequencies (df). The $x$-axis is a document count $x_i$ and the $y$-axis is the percentage of words that appear less than $x_i$ times. For example, at $x=5$, plot a point representing the percentage or number of words that appear in 5 or fewer documents.</p>\n",
    "\n",
    "<p><b>Exercise:</b> Look for the point at which the curve begins climbing steeply. This may be a good value for `min_df`. If we were interested in also picking `max_df`, we would likely pick the value where the curve starts to plateau. What value did you choose?</p>\n",
    "</div>"
   ]
  },
  {
   "cell_type": "code",
   "execution_count": 15,
   "metadata": {
    "collapsed": false
   },
   "outputs": [
    {
     "data": {
      "text/html": [
       "<div>\n",
       "<table border=\"1\" class=\"dataframe\">\n",
       "  <thead>\n",
       "    <tr style=\"text-align: right;\">\n",
       "      <th></th>\n",
       "      <th>000</th>\n",
       "      <th>0014</th>\n",
       "      <th>007</th>\n",
       "      <th>044</th>\n",
       "      <th>07</th>\n",
       "      <th>10</th>\n",
       "      <th>100</th>\n",
       "      <th>101</th>\n",
       "      <th>102</th>\n",
       "      <th>104</th>\n",
       "      <th>105</th>\n",
       "      <th>108</th>\n",
       "      <th>10th</th>\n",
       "      <th>11</th>\n",
       "      <th>110</th>\n",
       "      <th>112</th>\n",
       "      <th>1138</th>\n",
       "      <th>114</th>\n",
       "      <th>118</th>\n",
       "      <th>11th</th>\n",
       "      <th>12</th>\n",
       "      <th>124</th>\n",
       "      <th>125</th>\n",
       "      <th>128</th>\n",
       "      <th>13</th>\n",
       "      <th>130</th>\n",
       "      <th>131</th>\n",
       "      <th>132</th>\n",
       "      <th>133</th>\n",
       "      <th>134</th>\n",
       "      <th>136</th>\n",
       "      <th>137</th>\n",
       "      <th>13th</th>\n",
       "      <th>14</th>\n",
       "      <th>141</th>\n",
       "      <th>145</th>\n",
       "      <th>15</th>\n",
       "      <th>153</th>\n",
       "      <th>15th</th>\n",
       "      <th>16</th>\n",
       "      <th>160</th>\n",
       "      <th>161</th>\n",
       "      <th>1660s</th>\n",
       "      <th>16mm</th>\n",
       "      <th>16th</th>\n",
       "      <th>17</th>\n",
       "      <th>17th</th>\n",
       "      <th>18</th>\n",
       "      <th>180</th>\n",
       "      <th>185</th>\n",
       "      <th>...</th>\n",
       "      <th>zellweger</th>\n",
       "      <th>zemeckis</th>\n",
       "      <th>zen</th>\n",
       "      <th>zero</th>\n",
       "      <th>zeroes</th>\n",
       "      <th>zest</th>\n",
       "      <th>zestfully</th>\n",
       "      <th>zesty</th>\n",
       "      <th>zeta</th>\n",
       "      <th>zhang</th>\n",
       "      <th>zhivago</th>\n",
       "      <th>ziggurats</th>\n",
       "      <th>zigs</th>\n",
       "      <th>zigzag</th>\n",
       "      <th>zigzags</th>\n",
       "      <th>zillion</th>\n",
       "      <th>zimmer</th>\n",
       "      <th>zing</th>\n",
       "      <th>zinger</th>\n",
       "      <th>zingers</th>\n",
       "      <th>zings</th>\n",
       "      <th>zingy</th>\n",
       "      <th>zinnemann</th>\n",
       "      <th>zinner</th>\n",
       "      <th>zip</th>\n",
       "      <th>zipper</th>\n",
       "      <th>zippo</th>\n",
       "      <th>zippy</th>\n",
       "      <th>zips</th>\n",
       "      <th>zirconium</th>\n",
       "      <th>zoe</th>\n",
       "      <th>zombie</th>\n",
       "      <th>zombies</th>\n",
       "      <th>zombified</th>\n",
       "      <th>zonca</th>\n",
       "      <th>zone</th>\n",
       "      <th>zoning</th>\n",
       "      <th>zoo</th>\n",
       "      <th>zoological</th>\n",
       "      <th>zoom</th>\n",
       "      <th>zooming</th>\n",
       "      <th>zooms</th>\n",
       "      <th>zorro</th>\n",
       "      <th>zorros</th>\n",
       "      <th>zowie</th>\n",
       "      <th>zucker</th>\n",
       "      <th>zweibel</th>\n",
       "      <th>zwick</th>\n",
       "      <th>zzzzzs</th>\n",
       "      <th>zzzzzzzzz</th>\n",
       "    </tr>\n",
       "  </thead>\n",
       "  <tbody>\n",
       "    <tr>\n",
       "      <th>0</th>\n",
       "      <td>0</td>\n",
       "      <td>0</td>\n",
       "      <td>0</td>\n",
       "      <td>0</td>\n",
       "      <td>0</td>\n",
       "      <td>0</td>\n",
       "      <td>0</td>\n",
       "      <td>0</td>\n",
       "      <td>0</td>\n",
       "      <td>0</td>\n",
       "      <td>0</td>\n",
       "      <td>0</td>\n",
       "      <td>0</td>\n",
       "      <td>0</td>\n",
       "      <td>0</td>\n",
       "      <td>0</td>\n",
       "      <td>0</td>\n",
       "      <td>0</td>\n",
       "      <td>0</td>\n",
       "      <td>0</td>\n",
       "      <td>0</td>\n",
       "      <td>0</td>\n",
       "      <td>0</td>\n",
       "      <td>0</td>\n",
       "      <td>0</td>\n",
       "      <td>0</td>\n",
       "      <td>0</td>\n",
       "      <td>0</td>\n",
       "      <td>0</td>\n",
       "      <td>0</td>\n",
       "      <td>0</td>\n",
       "      <td>0</td>\n",
       "      <td>0</td>\n",
       "      <td>0</td>\n",
       "      <td>0</td>\n",
       "      <td>0</td>\n",
       "      <td>0</td>\n",
       "      <td>0</td>\n",
       "      <td>0</td>\n",
       "      <td>0</td>\n",
       "      <td>0</td>\n",
       "      <td>0</td>\n",
       "      <td>0</td>\n",
       "      <td>0</td>\n",
       "      <td>0</td>\n",
       "      <td>0</td>\n",
       "      <td>0</td>\n",
       "      <td>0</td>\n",
       "      <td>0</td>\n",
       "      <td>0</td>\n",
       "      <td>...</td>\n",
       "      <td>0</td>\n",
       "      <td>0</td>\n",
       "      <td>0</td>\n",
       "      <td>0</td>\n",
       "      <td>0</td>\n",
       "      <td>0</td>\n",
       "      <td>0</td>\n",
       "      <td>0</td>\n",
       "      <td>0</td>\n",
       "      <td>0</td>\n",
       "      <td>0</td>\n",
       "      <td>0</td>\n",
       "      <td>0</td>\n",
       "      <td>0</td>\n",
       "      <td>0</td>\n",
       "      <td>0</td>\n",
       "      <td>0</td>\n",
       "      <td>0</td>\n",
       "      <td>0</td>\n",
       "      <td>0</td>\n",
       "      <td>0</td>\n",
       "      <td>0</td>\n",
       "      <td>0</td>\n",
       "      <td>0</td>\n",
       "      <td>0</td>\n",
       "      <td>0</td>\n",
       "      <td>0</td>\n",
       "      <td>0</td>\n",
       "      <td>0</td>\n",
       "      <td>0</td>\n",
       "      <td>0</td>\n",
       "      <td>0</td>\n",
       "      <td>0</td>\n",
       "      <td>0</td>\n",
       "      <td>0</td>\n",
       "      <td>0</td>\n",
       "      <td>0</td>\n",
       "      <td>0</td>\n",
       "      <td>0</td>\n",
       "      <td>0</td>\n",
       "      <td>0</td>\n",
       "      <td>0</td>\n",
       "      <td>0</td>\n",
       "      <td>0</td>\n",
       "      <td>0</td>\n",
       "      <td>0</td>\n",
       "      <td>0</td>\n",
       "      <td>0</td>\n",
       "      <td>0</td>\n",
       "      <td>0</td>\n",
       "    </tr>\n",
       "    <tr>\n",
       "      <th>1</th>\n",
       "      <td>0</td>\n",
       "      <td>0</td>\n",
       "      <td>0</td>\n",
       "      <td>0</td>\n",
       "      <td>0</td>\n",
       "      <td>0</td>\n",
       "      <td>0</td>\n",
       "      <td>0</td>\n",
       "      <td>0</td>\n",
       "      <td>0</td>\n",
       "      <td>0</td>\n",
       "      <td>0</td>\n",
       "      <td>0</td>\n",
       "      <td>0</td>\n",
       "      <td>0</td>\n",
       "      <td>0</td>\n",
       "      <td>0</td>\n",
       "      <td>0</td>\n",
       "      <td>0</td>\n",
       "      <td>0</td>\n",
       "      <td>0</td>\n",
       "      <td>0</td>\n",
       "      <td>0</td>\n",
       "      <td>0</td>\n",
       "      <td>0</td>\n",
       "      <td>0</td>\n",
       "      <td>0</td>\n",
       "      <td>0</td>\n",
       "      <td>0</td>\n",
       "      <td>0</td>\n",
       "      <td>0</td>\n",
       "      <td>0</td>\n",
       "      <td>0</td>\n",
       "      <td>0</td>\n",
       "      <td>0</td>\n",
       "      <td>0</td>\n",
       "      <td>0</td>\n",
       "      <td>0</td>\n",
       "      <td>0</td>\n",
       "      <td>0</td>\n",
       "      <td>0</td>\n",
       "      <td>0</td>\n",
       "      <td>0</td>\n",
       "      <td>0</td>\n",
       "      <td>0</td>\n",
       "      <td>0</td>\n",
       "      <td>0</td>\n",
       "      <td>0</td>\n",
       "      <td>0</td>\n",
       "      <td>0</td>\n",
       "      <td>...</td>\n",
       "      <td>0</td>\n",
       "      <td>0</td>\n",
       "      <td>0</td>\n",
       "      <td>0</td>\n",
       "      <td>0</td>\n",
       "      <td>0</td>\n",
       "      <td>0</td>\n",
       "      <td>0</td>\n",
       "      <td>0</td>\n",
       "      <td>0</td>\n",
       "      <td>0</td>\n",
       "      <td>0</td>\n",
       "      <td>0</td>\n",
       "      <td>0</td>\n",
       "      <td>0</td>\n",
       "      <td>0</td>\n",
       "      <td>0</td>\n",
       "      <td>0</td>\n",
       "      <td>0</td>\n",
       "      <td>0</td>\n",
       "      <td>0</td>\n",
       "      <td>0</td>\n",
       "      <td>0</td>\n",
       "      <td>0</td>\n",
       "      <td>0</td>\n",
       "      <td>0</td>\n",
       "      <td>0</td>\n",
       "      <td>0</td>\n",
       "      <td>0</td>\n",
       "      <td>0</td>\n",
       "      <td>0</td>\n",
       "      <td>0</td>\n",
       "      <td>0</td>\n",
       "      <td>0</td>\n",
       "      <td>0</td>\n",
       "      <td>0</td>\n",
       "      <td>0</td>\n",
       "      <td>0</td>\n",
       "      <td>0</td>\n",
       "      <td>0</td>\n",
       "      <td>0</td>\n",
       "      <td>0</td>\n",
       "      <td>0</td>\n",
       "      <td>0</td>\n",
       "      <td>0</td>\n",
       "      <td>0</td>\n",
       "      <td>0</td>\n",
       "      <td>0</td>\n",
       "      <td>0</td>\n",
       "      <td>0</td>\n",
       "    </tr>\n",
       "    <tr>\n",
       "      <th>2</th>\n",
       "      <td>0</td>\n",
       "      <td>0</td>\n",
       "      <td>0</td>\n",
       "      <td>0</td>\n",
       "      <td>0</td>\n",
       "      <td>0</td>\n",
       "      <td>0</td>\n",
       "      <td>0</td>\n",
       "      <td>0</td>\n",
       "      <td>0</td>\n",
       "      <td>0</td>\n",
       "      <td>0</td>\n",
       "      <td>0</td>\n",
       "      <td>0</td>\n",
       "      <td>0</td>\n",
       "      <td>0</td>\n",
       "      <td>0</td>\n",
       "      <td>0</td>\n",
       "      <td>0</td>\n",
       "      <td>0</td>\n",
       "      <td>0</td>\n",
       "      <td>0</td>\n",
       "      <td>0</td>\n",
       "      <td>0</td>\n",
       "      <td>0</td>\n",
       "      <td>0</td>\n",
       "      <td>0</td>\n",
       "      <td>0</td>\n",
       "      <td>0</td>\n",
       "      <td>0</td>\n",
       "      <td>0</td>\n",
       "      <td>0</td>\n",
       "      <td>0</td>\n",
       "      <td>0</td>\n",
       "      <td>0</td>\n",
       "      <td>0</td>\n",
       "      <td>0</td>\n",
       "      <td>0</td>\n",
       "      <td>0</td>\n",
       "      <td>0</td>\n",
       "      <td>0</td>\n",
       "      <td>0</td>\n",
       "      <td>0</td>\n",
       "      <td>0</td>\n",
       "      <td>0</td>\n",
       "      <td>0</td>\n",
       "      <td>0</td>\n",
       "      <td>0</td>\n",
       "      <td>0</td>\n",
       "      <td>0</td>\n",
       "      <td>...</td>\n",
       "      <td>0</td>\n",
       "      <td>0</td>\n",
       "      <td>0</td>\n",
       "      <td>0</td>\n",
       "      <td>0</td>\n",
       "      <td>0</td>\n",
       "      <td>0</td>\n",
       "      <td>0</td>\n",
       "      <td>0</td>\n",
       "      <td>0</td>\n",
       "      <td>0</td>\n",
       "      <td>0</td>\n",
       "      <td>0</td>\n",
       "      <td>0</td>\n",
       "      <td>0</td>\n",
       "      <td>0</td>\n",
       "      <td>0</td>\n",
       "      <td>0</td>\n",
       "      <td>0</td>\n",
       "      <td>0</td>\n",
       "      <td>0</td>\n",
       "      <td>0</td>\n",
       "      <td>0</td>\n",
       "      <td>0</td>\n",
       "      <td>0</td>\n",
       "      <td>0</td>\n",
       "      <td>0</td>\n",
       "      <td>0</td>\n",
       "      <td>0</td>\n",
       "      <td>0</td>\n",
       "      <td>0</td>\n",
       "      <td>0</td>\n",
       "      <td>0</td>\n",
       "      <td>0</td>\n",
       "      <td>0</td>\n",
       "      <td>0</td>\n",
       "      <td>0</td>\n",
       "      <td>0</td>\n",
       "      <td>0</td>\n",
       "      <td>0</td>\n",
       "      <td>0</td>\n",
       "      <td>0</td>\n",
       "      <td>0</td>\n",
       "      <td>0</td>\n",
       "      <td>0</td>\n",
       "      <td>0</td>\n",
       "      <td>0</td>\n",
       "      <td>0</td>\n",
       "      <td>0</td>\n",
       "      <td>0</td>\n",
       "    </tr>\n",
       "    <tr>\n",
       "      <th>3</th>\n",
       "      <td>0</td>\n",
       "      <td>0</td>\n",
       "      <td>0</td>\n",
       "      <td>0</td>\n",
       "      <td>0</td>\n",
       "      <td>0</td>\n",
       "      <td>0</td>\n",
       "      <td>0</td>\n",
       "      <td>0</td>\n",
       "      <td>0</td>\n",
       "      <td>0</td>\n",
       "      <td>0</td>\n",
       "      <td>0</td>\n",
       "      <td>0</td>\n",
       "      <td>0</td>\n",
       "      <td>0</td>\n",
       "      <td>0</td>\n",
       "      <td>0</td>\n",
       "      <td>0</td>\n",
       "      <td>0</td>\n",
       "      <td>0</td>\n",
       "      <td>0</td>\n",
       "      <td>0</td>\n",
       "      <td>0</td>\n",
       "      <td>0</td>\n",
       "      <td>0</td>\n",
       "      <td>0</td>\n",
       "      <td>0</td>\n",
       "      <td>0</td>\n",
       "      <td>0</td>\n",
       "      <td>0</td>\n",
       "      <td>0</td>\n",
       "      <td>0</td>\n",
       "      <td>0</td>\n",
       "      <td>0</td>\n",
       "      <td>0</td>\n",
       "      <td>0</td>\n",
       "      <td>0</td>\n",
       "      <td>0</td>\n",
       "      <td>0</td>\n",
       "      <td>0</td>\n",
       "      <td>0</td>\n",
       "      <td>0</td>\n",
       "      <td>0</td>\n",
       "      <td>0</td>\n",
       "      <td>0</td>\n",
       "      <td>0</td>\n",
       "      <td>0</td>\n",
       "      <td>0</td>\n",
       "      <td>0</td>\n",
       "      <td>...</td>\n",
       "      <td>0</td>\n",
       "      <td>0</td>\n",
       "      <td>0</td>\n",
       "      <td>0</td>\n",
       "      <td>0</td>\n",
       "      <td>0</td>\n",
       "      <td>0</td>\n",
       "      <td>0</td>\n",
       "      <td>0</td>\n",
       "      <td>0</td>\n",
       "      <td>0</td>\n",
       "      <td>0</td>\n",
       "      <td>0</td>\n",
       "      <td>0</td>\n",
       "      <td>0</td>\n",
       "      <td>0</td>\n",
       "      <td>0</td>\n",
       "      <td>0</td>\n",
       "      <td>0</td>\n",
       "      <td>0</td>\n",
       "      <td>0</td>\n",
       "      <td>0</td>\n",
       "      <td>0</td>\n",
       "      <td>0</td>\n",
       "      <td>0</td>\n",
       "      <td>0</td>\n",
       "      <td>0</td>\n",
       "      <td>0</td>\n",
       "      <td>0</td>\n",
       "      <td>0</td>\n",
       "      <td>0</td>\n",
       "      <td>0</td>\n",
       "      <td>0</td>\n",
       "      <td>0</td>\n",
       "      <td>0</td>\n",
       "      <td>0</td>\n",
       "      <td>0</td>\n",
       "      <td>0</td>\n",
       "      <td>0</td>\n",
       "      <td>0</td>\n",
       "      <td>0</td>\n",
       "      <td>0</td>\n",
       "      <td>0</td>\n",
       "      <td>0</td>\n",
       "      <td>0</td>\n",
       "      <td>0</td>\n",
       "      <td>0</td>\n",
       "      <td>0</td>\n",
       "      <td>0</td>\n",
       "      <td>0</td>\n",
       "    </tr>\n",
       "    <tr>\n",
       "      <th>4</th>\n",
       "      <td>0</td>\n",
       "      <td>0</td>\n",
       "      <td>0</td>\n",
       "      <td>0</td>\n",
       "      <td>0</td>\n",
       "      <td>0</td>\n",
       "      <td>0</td>\n",
       "      <td>0</td>\n",
       "      <td>0</td>\n",
       "      <td>0</td>\n",
       "      <td>0</td>\n",
       "      <td>0</td>\n",
       "      <td>0</td>\n",
       "      <td>0</td>\n",
       "      <td>0</td>\n",
       "      <td>0</td>\n",
       "      <td>0</td>\n",
       "      <td>0</td>\n",
       "      <td>0</td>\n",
       "      <td>0</td>\n",
       "      <td>0</td>\n",
       "      <td>0</td>\n",
       "      <td>0</td>\n",
       "      <td>0</td>\n",
       "      <td>0</td>\n",
       "      <td>0</td>\n",
       "      <td>0</td>\n",
       "      <td>0</td>\n",
       "      <td>0</td>\n",
       "      <td>0</td>\n",
       "      <td>0</td>\n",
       "      <td>0</td>\n",
       "      <td>0</td>\n",
       "      <td>0</td>\n",
       "      <td>0</td>\n",
       "      <td>0</td>\n",
       "      <td>0</td>\n",
       "      <td>0</td>\n",
       "      <td>0</td>\n",
       "      <td>0</td>\n",
       "      <td>0</td>\n",
       "      <td>0</td>\n",
       "      <td>0</td>\n",
       "      <td>0</td>\n",
       "      <td>0</td>\n",
       "      <td>0</td>\n",
       "      <td>0</td>\n",
       "      <td>0</td>\n",
       "      <td>0</td>\n",
       "      <td>0</td>\n",
       "      <td>...</td>\n",
       "      <td>0</td>\n",
       "      <td>0</td>\n",
       "      <td>0</td>\n",
       "      <td>0</td>\n",
       "      <td>0</td>\n",
       "      <td>0</td>\n",
       "      <td>0</td>\n",
       "      <td>0</td>\n",
       "      <td>0</td>\n",
       "      <td>0</td>\n",
       "      <td>0</td>\n",
       "      <td>0</td>\n",
       "      <td>0</td>\n",
       "      <td>0</td>\n",
       "      <td>0</td>\n",
       "      <td>0</td>\n",
       "      <td>0</td>\n",
       "      <td>0</td>\n",
       "      <td>0</td>\n",
       "      <td>0</td>\n",
       "      <td>0</td>\n",
       "      <td>0</td>\n",
       "      <td>0</td>\n",
       "      <td>0</td>\n",
       "      <td>0</td>\n",
       "      <td>0</td>\n",
       "      <td>0</td>\n",
       "      <td>0</td>\n",
       "      <td>0</td>\n",
       "      <td>0</td>\n",
       "      <td>0</td>\n",
       "      <td>0</td>\n",
       "      <td>0</td>\n",
       "      <td>0</td>\n",
       "      <td>0</td>\n",
       "      <td>0</td>\n",
       "      <td>0</td>\n",
       "      <td>0</td>\n",
       "      <td>0</td>\n",
       "      <td>0</td>\n",
       "      <td>0</td>\n",
       "      <td>0</td>\n",
       "      <td>0</td>\n",
       "      <td>0</td>\n",
       "      <td>0</td>\n",
       "      <td>0</td>\n",
       "      <td>0</td>\n",
       "      <td>0</td>\n",
       "      <td>0</td>\n",
       "      <td>0</td>\n",
       "    </tr>\n",
       "  </tbody>\n",
       "</table>\n",
       "<p>5 rows × 22417 columns</p>\n",
       "</div>"
      ],
      "text/plain": [
       "   000  0014  007  044  07  10  100  101  102  104  105  108  10th  11  110  112  1138  114  118  11th  12  124  125  128  13  130  131  132  133  134  136  137  13th  14  141  145  15  153  15th  16  160  161  1660s  16mm  16th  17  17th  18  180  185    ...      zellweger  zemeckis  zen  zero  zeroes  zest  zestfully  zesty  zeta  zhang  zhivago  ziggurats  zigs  zigzag  zigzags  zillion  zimmer  zing  zinger  zingers  zings  zingy  zinnemann  zinner  zip  zipper  zippo  zippy  zips  \\\n",
       "0    0     0    0    0   0   0    0    0    0    0    0    0     0   0    0    0     0    0    0     0   0    0    0    0   0    0    0    0    0    0    0    0     0   0    0    0   0    0     0   0    0    0      0     0     0   0     0   0    0    0    ...              0         0    0     0       0     0          0      0     0      0        0          0     0       0        0        0       0     0       0        0      0      0          0       0    0       0      0      0     0   \n",
       "1    0     0    0    0   0   0    0    0    0    0    0    0     0   0    0    0     0    0    0     0   0    0    0    0   0    0    0    0    0    0    0    0     0   0    0    0   0    0     0   0    0    0      0     0     0   0     0   0    0    0    ...              0         0    0     0       0     0          0      0     0      0        0          0     0       0        0        0       0     0       0        0      0      0          0       0    0       0      0      0     0   \n",
       "2    0     0    0    0   0   0    0    0    0    0    0    0     0   0    0    0     0    0    0     0   0    0    0    0   0    0    0    0    0    0    0    0     0   0    0    0   0    0     0   0    0    0      0     0     0   0     0   0    0    0    ...              0         0    0     0       0     0          0      0     0      0        0          0     0       0        0        0       0     0       0        0      0      0          0       0    0       0      0      0     0   \n",
       "3    0     0    0    0   0   0    0    0    0    0    0    0     0   0    0    0     0    0    0     0   0    0    0    0   0    0    0    0    0    0    0    0     0   0    0    0   0    0     0   0    0    0      0     0     0   0     0   0    0    0    ...              0         0    0     0       0     0          0      0     0      0        0          0     0       0        0        0       0     0       0        0      0      0          0       0    0       0      0      0     0   \n",
       "4    0     0    0    0   0   0    0    0    0    0    0    0     0   0    0    0     0    0    0     0   0    0    0    0   0    0    0    0    0    0    0    0     0   0    0    0   0    0     0   0    0    0      0     0     0   0     0   0    0    0    ...              0         0    0     0       0     0          0      0     0      0        0          0     0       0        0        0       0     0       0        0      0      0          0       0    0       0      0      0     0   \n",
       "\n",
       "   zirconium  zoe  zombie  zombies  zombified  zonca  zone  zoning  zoo  zoological  zoom  zooming  zooms  zorro  zorros  zowie  zucker  zweibel  zwick  zzzzzs  zzzzzzzzz  \n",
       "0          0    0       0        0          0      0     0       0    0           0     0        0      0      0       0      0       0        0      0       0          0  \n",
       "1          0    0       0        0          0      0     0       0    0           0     0        0      0      0       0      0       0        0      0       0          0  \n",
       "2          0    0       0        0          0      0     0       0    0           0     0        0      0      0       0      0       0        0      0       0          0  \n",
       "3          0    0       0        0          0      0     0       0    0           0     0        0      0      0       0      0       0        0      0       0          0  \n",
       "4          0    0       0        0          0      0     0       0    0           0     0        0      0      0       0      0       0        0      0       0          0  \n",
       "\n",
       "[5 rows x 22417 columns]"
      ]
     },
     "execution_count": 15,
     "metadata": {},
     "output_type": "execute_result"
    }
   ],
   "source": [
    "# Your turn.\n",
    "X_freq = pd.DataFrame(data = (X >= 1).astype(int), columns = X_cols)\n",
    "X_freq.head()"
   ]
  },
  {
   "cell_type": "code",
   "execution_count": 16,
   "metadata": {
    "collapsed": false
   },
   "outputs": [
    {
     "data": {
      "text/plain": [
       "the       9502\n",
       "and       7552\n",
       "of        7133\n",
       "is        5120\n",
       "to        4957\n",
       "it        4312\n",
       "in        3672\n",
       "that      3290\n",
       "but       2360\n",
       "with      2359\n",
       "this      2260\n",
       "film      2205\n",
       "movie     2128\n",
       "as        1987\n",
       "for       1966\n",
       "an        1739\n",
       "its       1661\n",
       "be        1319\n",
       "on        1307\n",
       "has       1254\n",
       "one       1234\n",
       "by        1217\n",
       "not       1173\n",
       "are       1064\n",
       "you       1056\n",
       "more      1041\n",
       "all       1011\n",
       "than      1008\n",
       "at         973\n",
       "about      951\n",
       "from       948\n",
       "his        945\n",
       "have       839\n",
       "like       824\n",
       "most       785\n",
       "so         774\n",
       "there      752\n",
       "what       694\n",
       "if         678\n",
       "or         674\n",
       "can        655\n",
       "good       654\n",
       "up         647\n",
       "story      646\n",
       "who        645\n",
       "into       628\n",
       "he         601\n",
       "much       594\n",
       "comedy     582\n",
       "out        579\n",
       "dtype: int64"
      ]
     },
     "execution_count": 16,
     "metadata": {},
     "output_type": "execute_result"
    }
   ],
   "source": [
    "# Check max used words, not normalized by number of documents\n",
    "X_freq_avg = X_freq.sum().sort_values(ascending = False) # / critics.shape[0]\n",
    "X_freq_avg.head(50)"
   ]
  },
  {
   "cell_type": "code",
   "execution_count": 17,
   "metadata": {
    "collapsed": false
   },
   "outputs": [
    {
     "data": {
      "text/plain": [
       "balmy           1\n",
       "earphones       1\n",
       "eberhardt       1\n",
       "dunker          1\n",
       "ducks           1\n",
       "balloons        1\n",
       "edification     1\n",
       "dunston         1\n",
       "bunyans         1\n",
       "duckling        1\n",
       "dunking         1\n",
       "earplugs        1\n",
       "edify           1\n",
       "bahamas         1\n",
       "cajuns          1\n",
       "bunyan          1\n",
       "bailey          1\n",
       "cake            1\n",
       "earrings        1\n",
       "callousness     1\n",
       "cad             1\n",
       "burstyn         1\n",
       "caddyshack      1\n",
       "baiter          1\n",
       "canonically     1\n",
       "cacophony       1\n",
       "butterscotch    1\n",
       "dumbfounded     1\n",
       "backes          1\n",
       "dwell           1\n",
       "               ..\n",
       "mametspeak      1\n",
       "mama            1\n",
       "malnourished    1\n",
       "manned          1\n",
       "mannerist       1\n",
       "marcus          1\n",
       "maoists         1\n",
       "marches         1\n",
       "marched         1\n",
       "march           1\n",
       "marcello        1\n",
       "marceau         1\n",
       "marbled         1\n",
       "marble          1\n",
       "marauders       1\n",
       "mara            1\n",
       "maori           1\n",
       "manwhore        1\n",
       "manny           1\n",
       "manufactures    1\n",
       "manufacture     1\n",
       "manual          1\n",
       "mantello        1\n",
       "mantell         1\n",
       "mansion         1\n",
       "mansell         1\n",
       "manors          1\n",
       "manor           1\n",
       "manoeuvres      1\n",
       "lasers          1\n",
       "dtype: int64"
      ]
     },
     "execution_count": 17,
     "metadata": {},
     "output_type": "execute_result"
    }
   ],
   "source": [
    "# Check that converstion occurred appropriately\n",
    "(X_freq_avg[X_freq_avg.values==1])"
   ]
  },
  {
   "cell_type": "code",
   "execution_count": 18,
   "metadata": {
    "collapsed": false
   },
   "outputs": [],
   "source": [
    "x_hist, F, counts = np.unique(X_freq_avg, return_index=True, return_counts=True)\n",
    "y_hist = np.cumsum(counts)"
   ]
  },
  {
   "cell_type": "code",
   "execution_count": 19,
   "metadata": {
    "collapsed": false
   },
   "outputs": [
    {
     "data": {
      "image/png": "[encoded data removed]",
      "text/plain": [
       "<matplotlib.figure.Figure at 0xf5dfc18>"
      ]
     },
     "metadata": {},
     "output_type": "display_data"
    }
   ],
   "source": [
    "plt.plot(x_hist,y_hist)\n",
    "plt.xlabel(\"Number of times ocurring in reviews\")\n",
    "plt.ylabel(\"Number of words\")\n",
    "#plt.xlim(1, 10)\n",
    "plt.xscale('log')"
   ]
  },
  {
   "cell_type": "code",
   "execution_count": 20,
   "metadata": {
    "collapsed": true
   },
   "outputs": [],
   "source": [
    "# After word occurrence reaches approx. 1000 reviews, number of words rapily plateaus \n",
    "max_df = 1000\n",
    "\n",
    "# Exclude words which occurr on a small sample of reviews\n",
    "min_df = 5"
   ]
  },
  {
   "cell_type": "markdown",
   "metadata": {},
   "source": [
    "The parameter $\\alpha$ is chosen to be a small value that simply avoids having zeros in the probability computations. This value can sometimes be chosen arbitrarily with domain expertise, but we will use K-fold cross validation. In K-fold cross-validation, we divide the data into $K$ non-overlapping parts. We train on $K-1$ of the folds and test on the remaining fold. We then iterate, so that each fold serves as the test fold exactly once. The function `cv_score` performs the K-fold cross-validation algorithm for us, but we need to pass a function that measures the performance of the algorithm on each fold. "
   ]
  },
  {
   "cell_type": "code",
   "execution_count": 21,
   "metadata": {
    "collapsed": false
   },
   "outputs": [],
   "source": [
    "from sklearn.model_selection import KFold\n",
    "def cv_score(clf, X, y, scorefunc):\n",
    "    result = 0.\n",
    "    nfold = 5\n",
    "    for train, test in KFold(nfold).split(X): # split data into train/test groups, 5 times\n",
    "        clf.fit(X[train], y[train]) # fit the classifier, passed is as clf.\n",
    "        result += scorefunc(clf, X[test], y[test]) # evaluate score function on held-out data\n",
    "    return result / nfold # average"
   ]
  },
  {
   "cell_type": "markdown",
   "metadata": {},
   "source": [
    "We use the log-likelihood as the score here in `scorefunc`. The higher the log-likelihood, the better. Indeed, what we do in `cv_score` above is to implement the cross-validation part of `GridSearchCV`.\n",
    "\n",
    "The custom scoring function `scorefunc` allows us to use different metrics depending on the decision risk we care about (precision, accuracy, profit etc.) directly on the validation set. You will often find people using `roc_auc`, precision, recall, or `F1-score` as the scoring function."
   ]
  },
  {
   "cell_type": "code",
   "execution_count": 22,
   "metadata": {
    "collapsed": false
   },
   "outputs": [],
   "source": [
    "def log_likelihood(clf, x, y):\n",
    "    prob = clf.predict_log_proba(x)\n",
    "    rotten = y == 0\n",
    "    fresh = ~rotten\n",
    "    return prob[rotten, 0].sum() + prob[fresh, 1].sum()"
   ]
  },
  {
   "cell_type": "markdown",
   "metadata": {},
   "source": [
    "We'll cross-validate over the regularization parameter $\\alpha$."
   ]
  },
  {
   "cell_type": "markdown",
   "metadata": {},
   "source": [
    "Let's set up the train and test masks first, and then we can run the cross-validation procedure."
   ]
  },
  {
   "cell_type": "markdown",
   "metadata": {},
   "source": [
    "<div class=\"span5 alert alert-info\">\n",
    "<h3>Exercise Set IV</h3>\n",
    "\n",
    "<p><b>Exercise:</b> What does using the function `log_likelihood` as the score mean? What are we trying to optimize for?</p>\n",
    "\n",
    "<p><b>Exercise:</b> Without writing any code, what do you think would happen if you choose a value of $\\alpha$ that is too high?</p>\n",
    "\n",
    "<p><b>Exercise:</b> Using the skeleton code below, find the best values of the parameter `alpha`, and use the value of `min_df` you chose in the previous exercise set. Use the `cv_score` function above with the `log_likelihood` function for scoring.</p>\n",
    "</div>"
   ]
  },
  {
   "cell_type": "code",
   "execution_count": 23,
   "metadata": {
    "collapsed": false
   },
   "outputs": [
    {
     "name": "stdout",
     "output_type": "stream",
     "text": [
      "(15561, 6174)\n"
     ]
    }
   ],
   "source": [
    "from sklearn.naive_bayes import MultinomialNB\n",
    "\n",
    "#the grid of parameters to search over\n",
    "alphas = [.1, 1, 5, 10, 50]\n",
    "best_min_df = 5 # YOUR TURN: put your value of min_df here.\n",
    "\n",
    "#Find the best value for alpha and min_df, and the best classifier\n",
    "best_alpha = None\n",
    "maxscore=-np.inf\n",
    "\n",
    "#Moved out of loop, not clear why it was in it to begin with\n",
    "vectorizer = CountVectorizer(min_df=best_min_df)       \n",
    "Xthis, ythis, Xthis_cols = make_xy(critics, vectorizer)\n",
    "Xtrainthis = Xthis[mask]\n",
    "ytrainthis = ythis[mask]\n",
    "\n",
    "print Xthis.shape\n",
    "    \n",
    "for alpha in alphas: \n",
    "    GS_score = cv_score(MultinomialNB(alpha = alpha), Xtrainthis, ytrainthis, log_likelihood)\n",
    "    if GS_score > maxscore:\n",
    "        maxscore = GS_score\n",
    "        best_alpha = alpha"
   ]
  },
  {
   "cell_type": "code",
   "execution_count": 24,
   "metadata": {
    "collapsed": false
   },
   "outputs": [
    {
     "name": "stdout",
     "output_type": "stream",
     "text": [
      "alpha: 5\n"
     ]
    }
   ],
   "source": [
    "print(\"alpha: {}\".format(best_alpha))"
   ]
  },
  {
   "cell_type": "markdown",
   "metadata": {},
   "source": [
    "<div class=\"span5 alert alert-info\">\n",
    "<h3>Exercise Set V: Working with the Best Parameters</h3>\n",
    "\n",
    "<p><b>Exercise:</b> Using the best value of  `alpha` you just found, calculate the accuracy on the training and test sets. Is this classifier better? Why (not)?</p>\n",
    "\n",
    "</div>"
   ]
  },
  {
   "cell_type": "code",
   "execution_count": 25,
   "metadata": {
    "collapsed": false
   },
   "outputs": [
    {
     "name": "stdout",
     "output_type": "stream",
     "text": [
      "Accuracy on training data: 0.832262\n",
      "Accuracy on test data:     0.761619\n"
     ]
    }
   ],
   "source": [
    "vectorizer = CountVectorizer(min_df=best_min_df)\n",
    "X, y, X_cols = make_xy(critics, vectorizer)\n",
    "xtrain=X[mask]\n",
    "ytrain=y[mask]\n",
    "xtest=X[~mask]\n",
    "ytest=y[~mask]\n",
    "\n",
    "pd.DataFrame(X_cols).to_csv('./features_original.csv')\n",
    "\n",
    "clf = MultinomialNB(alpha=best_alpha).fit(xtrain, ytrain)\n",
    "\n",
    "#your turn. Print the accuracy on the test and training dataset\n",
    "training_accuracy = clf.score(xtrain, ytrain)\n",
    "test_accuracy = clf.score(xtest, ytest)\n",
    "\n",
    "print(\"Accuracy on training data: {:2f}\".format(training_accuracy))\n",
    "print(\"Accuracy on test data:     {:2f}\".format(test_accuracy))"
   ]
  },
  {
   "cell_type": "code",
   "execution_count": 26,
   "metadata": {
    "collapsed": false
   },
   "outputs": [
    {
     "name": "stdout",
     "output_type": "stream",
     "text": [
      "[[ 985  818]\n",
      " [ 295 2571]]\n"
     ]
    }
   ],
   "source": [
    "from sklearn.metrics import confusion_matrix\n",
    "print(confusion_matrix(ytest, clf.predict(xtest)))"
   ]
  },
  {
   "cell_type": "markdown",
   "metadata": {},
   "source": [
    "Classifier is performing approximately the same in-sample as out-of-sample, and out-of-sample performance is the same as the original model but uses a more efficient feature space, so all things considered this model is likely better than the original."
   ]
  },
  {
   "cell_type": "markdown",
   "metadata": {},
   "source": [
    "## Interpretation"
   ]
  },
  {
   "cell_type": "markdown",
   "metadata": {},
   "source": [
    "### What are the strongly predictive features?\n",
    "\n",
    "We use a neat trick to identify strongly predictive features (i.e. words). \n",
    "\n",
    "* first, create a data set such that each row has exactly one feature. This is represented by the identity matrix.\n",
    "* use the trained classifier to make predictions on this matrix\n",
    "* sort the rows by predicted probabilities, and pick the top and bottom $K$ rows"
   ]
  },
  {
   "cell_type": "code",
   "execution_count": 27,
   "metadata": {
    "collapsed": false
   },
   "outputs": [
    {
     "name": "stdout",
     "output_type": "stream",
     "text": [
      "Good words\t     P(fresh | word)\n",
      "('            touching', '0.89')\n",
      "('         masterpiece', '0.89')\n",
      "('             delight', '0.88')\n",
      "('         intelligent', '0.88')\n",
      "('         beautifully', '0.88')\n",
      "('          remarkable', '0.87')\n",
      "('        entertaining', '0.86')\n",
      "('               witty', '0.86')\n",
      "('              moving', '0.86')\n",
      "('            captures', '0.85')\n",
      "Bad words\t     P(fresh | word)\n",
      "('               sadly', '0.22')\n",
      "('             unfunny', '0.20')\n",
      "('       disappointing', '0.20')\n",
      "('          uninspired', '0.20')\n",
      "('      disappointment', '0.19')\n",
      "('           pointless', '0.19')\n",
      "('                dull', '0.18')\n",
      "('                lame', '0.16')\n",
      "('               bland', '0.16')\n",
      "('       unfortunately', '0.13')\n"
     ]
    }
   ],
   "source": [
    "words = np.array(vectorizer.get_feature_names())\n",
    "\n",
    "x = np.eye(xtest.shape[1])\n",
    "probs = clf.predict_log_proba(x)[:, 0]\n",
    "ind = np.argsort(probs)\n",
    "\n",
    "good_words = words[ind[:10]]\n",
    "bad_words = words[ind[-10:]]\n",
    "\n",
    "good_prob = probs[ind[:10]]\n",
    "bad_prob = probs[ind[-10:]]\n",
    "\n",
    "print(\"Good words\\t     P(fresh | word)\")\n",
    "for w, p in zip(good_words, good_prob):\n",
    "    print(\"{:>20}\".format(w), \"{:.2f}\".format(1 - np.exp(p)))\n",
    "    \n",
    "print(\"Bad words\\t     P(fresh | word)\")\n",
    "for w, p in zip(bad_words, bad_prob):\n",
    "    print(\"{:>20}\".format(w), \"{:.2f}\".format(1 - np.exp(p)))"
   ]
  },
  {
   "cell_type": "code",
   "execution_count": 28,
   "metadata": {
    "collapsed": false
   },
   "outputs": [
    {
     "name": "stdout",
     "output_type": "stream",
     "text": [
      "Good words\t     P(fresh | word)\n",
      "('            captures', '0.85')\n",
      "('              moving', '0.86')\n",
      "('               witty', '0.86')\n",
      "('        entertaining', '0.86')\n",
      "('          remarkable', '0.87')\n",
      "('         beautifully', '0.88')\n",
      "('         intelligent', '0.88')\n",
      "('             delight', '0.88')\n",
      "('         masterpiece', '0.89')\n",
      "('            touching', '0.89')\n",
      "Bad words\t     P(fresh | word)\n",
      "('       unfortunately', '0.13')\n",
      "('               bland', '0.16')\n",
      "('                lame', '0.16')\n",
      "('                dull', '0.18')\n",
      "('           pointless', '0.19')\n",
      "('      disappointment', '0.19')\n",
      "('          uninspired', '0.20')\n",
      "('       disappointing', '0.20')\n",
      "('             unfunny', '0.20')\n",
      "('               sadly', '0.22')\n"
     ]
    }
   ],
   "source": [
    "words = np.array(vectorizer.get_feature_names())\n",
    "\n",
    "x = np.eye(xtest.shape[1])\n",
    "probs = clf.predict_log_proba(x)[:, 1]\n",
    "ind = np.argsort(probs)\n",
    "\n",
    "good_words = words[ind[-10:]]\n",
    "bad_words = words[ind[:10]]\n",
    "\n",
    "good_prob = probs[ind[-10:]]\n",
    "bad_prob = probs[ind[:10]]\n",
    "\n",
    "print(\"Good words\\t     P(fresh | word)\")\n",
    "for w, p in zip(good_words, good_prob):\n",
    "    print(\"{:>20}\".format(w), \"{:.2f}\".format(np.exp(p)))\n",
    "    \n",
    "print(\"Bad words\\t     P(fresh | word)\")\n",
    "for w, p in zip(bad_words, bad_prob):\n",
    "    print(\"{:>20}\".format(w), \"{:.2f}\".format(np.exp(p)))"
   ]
  },
  {
   "cell_type": "markdown",
   "metadata": {},
   "source": [
    "<div class=\"span5 alert alert-info\">\n",
    "<h3>Exercise Set VI</h3>\n",
    "\n",
    "<p><b>Exercise:</b> Why does this method work? What does the probability for each row in the identity matrix represent</p>\n",
    "\n",
    "</div>"
   ]
  },
  {
   "cell_type": "markdown",
   "metadata": {},
   "source": [
    "The probability of of a movie being fresh conditional on a single-word review"
   ]
  },
  {
   "cell_type": "markdown",
   "metadata": {},
   "source": [
    "The above exercise is an example of *feature selection*. There are many other feature selection methods. A list of feature selection methods available in `sklearn` is [here](http://scikit-learn.org/stable/modules/classes.html#module-sklearn.feature_selection). The most common feature selection technique for text mining is the chi-squared $\\left( \\chi^2 \\right)$ [method](http://nlp.stanford.edu/IR-book/html/htmledition/feature-selectionchi2-feature-selection-1.html)."
   ]
  },
  {
   "cell_type": "markdown",
   "metadata": {},
   "source": [
    "### Prediction Errors\n",
    "\n",
    "We can see mis-predictions as well."
   ]
  },
  {
   "cell_type": "code",
   "execution_count": 29,
   "metadata": {
    "collapsed": false
   },
   "outputs": [
    {
     "name": "stdout",
     "output_type": "stream",
     "text": [
      "Mis-predicted Rotten quotes\n",
      "---------------------------\n",
      "It survives today only as an unusually pure example of a typical 50s art-film strategy: the attempt to make the most modern and most popular of art forms acceptable to the intelligentsia by forcing it into an arcane, antique mold.\n",
      "\n",
      "It's a sad day when an actor who's totally, beautifully in touch with his dark side finds himself stuck in a movie that's scared of its own shadow.\n",
      "\n",
      "Walken is one of the few undeniably charismatic male villains of recent years; he can generate a snakelike charm that makes his worst characters the most memorable, and here he operates on pure style.\n",
      "\n",
      "If it's to be experienced at all, Return to Paradise is best seen as a lively piece of pulp, not a profound exploration of the vagaries of the human soul.\n",
      "\n",
      "Herzog offers some evidence of Kinski's great human warmth, somewhat more of his rage of unimaginable proportions, and a good demonstration of Kinski's uncanny capacity to corkscrew his way into the frame.\n",
      "\n",
      "Mis-predicted Fresh quotes\n",
      "--------------------------\n",
      "Considering the recent screen standards in book musicals with five numbers for 100 to 110 minutes of running time this Metro Santaclausing of numbers becomes virtually a double-feature filmusical.\n",
      "\n",
      "Though it's a good half hour too long, this overblown 1993 spin-off of the 60s TV show otherwise adds up to a pretty good suspense thriller.\n",
      "\n",
      "Some of the gags don't work, but fewer than in any previous Brooks film that I've seen, and when the jokes are meant to be bad, they are riotously poor. What more can one ask of Mel Brooks?\n",
      "\n",
      "I saw this at a festival and hated it, then sat through it again a year later and decided it wasn't so bad, aside from the god-awful ending.\n",
      "\n",
      "The gangland plot is flimsy (bad guy Peter Greene wears too much eyeliner), and the jokes are erratic, but it's a far better showcase for Carrey's comic-from-Uranus talent than Ace Ventura.\n",
      "\n"
     ]
    }
   ],
   "source": [
    "x, y, x_cols = make_xy(critics, vectorizer)\n",
    "\n",
    "prob = clf.predict_proba(x)[:, 0]\n",
    "predict = clf.predict(x)\n",
    "\n",
    "bad_rotten = np.argsort(prob[y == 0])[:5]\n",
    "bad_fresh = np.argsort(prob[y == 1])[-5:]\n",
    "\n",
    "print(\"Mis-predicted Rotten quotes\")\n",
    "print('---------------------------')\n",
    "for row in bad_rotten:\n",
    "    print(critics[y == 0].quote.iloc[row])\n",
    "    print(\"\")\n",
    "\n",
    "print(\"Mis-predicted Fresh quotes\")\n",
    "print('--------------------------')\n",
    "for row in bad_fresh:\n",
    "    print(critics[y == 1].quote.iloc[row])\n",
    "    print(\"\")"
   ]
  },
  {
   "cell_type": "markdown",
   "metadata": {},
   "source": [
    "<div class=\"span5 alert alert-info\">\n",
    "<h3>Exercise Set VII: Predicting the Freshness for a New Review</h3>\n",
    "<br/>\n",
    "<div>\n",
    "<b>Exercise:</b>\n",
    "<ul>\n",
    "<li> Using your best trained classifier, predict the freshness of the following sentence: *'This movie is not remarkable, touching, or superb in any way'*\n",
    "<li> Is the result what you'd expect? Why (not)?\n",
    "</ul>\n",
    "</div>\n",
    "</div>"
   ]
  },
  {
   "cell_type": "code",
   "execution_count": 30,
   "metadata": {
    "collapsed": false
   },
   "outputs": [
    {
     "name": "stdout",
     "output_type": "stream",
     "text": [
      "[[ 0.00727146  0.99272854]]\n",
      "[1]\n"
     ]
    }
   ],
   "source": [
    "#your turn\n",
    "vec = (\"This movie is not remarkable, touching, or superb in any way\")\n",
    "vec_trans = vectorizer.transform([vec])\n",
    "\n",
    "prob = clf.predict_proba(vec_trans)\n",
    "predict = clf.predict(vec_trans)\n",
    "\n",
    "print prob\n",
    "print predict"
   ]
  },
  {
   "cell_type": "markdown",
   "metadata": {},
   "source": [
    "Classifier is predicting that review is fresh. Not surprising as the classifier does not put words into context and the presence of positive words like remarkable, touching and superb will indicate a strongly positive review."
   ]
  },
  {
   "cell_type": "markdown",
   "metadata": {},
   "source": [
    "### Aside: TF-IDF Weighting for Term Importance\n",
    "\n",
    "TF-IDF stands for \n",
    "\n",
    "`Term-Frequency X Inverse Document Frequency`.\n",
    "\n",
    "In the standard `CountVectorizer` model above, we used just the term frequency in a document of words in our vocabulary. In TF-IDF, we weight this term frequency by the inverse of its popularity in all documents. For example, if the word \"movie\" showed up in all the documents, it would not have much predictive value. It could actually be considered a stopword. By weighing its counts by 1 divided by its overall frequency, we downweight it. We can then use this TF-IDF weighted features as inputs to any classifier. **TF-IDF is essentially a measure of term importance, and of how discriminative a word is in a corpus.** There are a variety of nuances involved in computing TF-IDF, mainly involving where to add the smoothing term to avoid division by 0, or log of 0 errors. The formula for TF-IDF in `scikit-learn` differs from that of most textbooks: \n",
    "\n",
    "$$\\mbox{TF-IDF}(t, d) = \\mbox{TF}(t, d)\\times \\mbox{IDF}(t) = n_{td} \\log{\\left( \\frac{\\vert D \\vert}{\\vert d : t \\in d \\vert} + 1 \\right)}$$\n",
    "\n",
    "where $n_{td}$ is the number of times term $t$ occurs in document $d$, $\\vert D \\vert$ is the number of documents, and $\\vert d : t \\in d \\vert$ is the number of documents that contain $t$"
   ]
  },
  {
   "cell_type": "code",
   "execution_count": 31,
   "metadata": {
    "collapsed": true
   },
   "outputs": [],
   "source": [
    "# http://scikit-learn.org/dev/modules/feature_extraction.html#text-feature-extraction\n",
    "# http://scikit-learn.org/dev/modules/classes.html#text-feature-extraction-ref\n",
    "tfidfvectorizer = TfidfVectorizer(min_df=1, stop_words='english')\n",
    "Xtfidf=tfidfvectorizer.fit_transform(critics.quote)"
   ]
  },
  {
   "cell_type": "markdown",
   "metadata": {},
   "source": [
    "<div class=\"span5 alert alert-info\">\n",
    "<h3>Exercise Set VIII: Enrichment</h3>\n",
    "\n",
    "<p>\n",
    "There are several additional things we could try. Try some of these as exercises:\n",
    "<ol>\n",
    "<li> Build a Naive Bayes model where the features are n-grams instead of words. N-grams are phrases containing n words next to each other: a bigram contains 2 words, a trigram contains 3 words, and 6-gram contains 6 words. This is useful because \"not good\" and \"so good\" mean very different things. On the other hand, as n increases, the model does not scale well since the feature set becomes more sparse.\n",
    "<li> Try a model besides Naive Bayes, one that would allow for interactions between words -- for example, a Random Forest classifier.\n",
    "<li> Try adding supplemental features -- information about genre, director, cast, etc.\n",
    "<li> Use word2vec or [Latent Dirichlet Allocation](https://en.wikipedia.org/wiki/Latent_Dirichlet_allocation) to group words into topics and use those topics for prediction.\n",
    "<li> Use TF-IDF weighting instead of word counts.\n",
    "</ol>\n",
    "</p>\n",
    "\n",
    "<b>Exercise:</b> Try a few of these ideas to improve the model (or any other ideas of your own). Implement here and report on the result.\n",
    "</div>"
   ]
  },
  {
   "cell_type": "markdown",
   "metadata": {
    "collapsed": true
   },
   "source": [
    "# 1. N-gram Vectorizer"
   ]
  },
  {
   "cell_type": "code",
   "execution_count": 32,
   "metadata": {
    "collapsed": false
   },
   "outputs": [],
   "source": [
    "def make_xy_n(critics, vectorizer=None, n_gram=(1, 3), min_df=5, tokenizer=None):\n",
    "    #Your code here    \n",
    "    if vectorizer is None:\n",
    "        vectorizer = CountVectorizer(min_df=min_df, ngram_range=n_gram, tokenizer=tokenizer)\n",
    "    X = vectorizer.fit_transform(critics.quote)\n",
    "    X = X.tocsc()  # some versions of sklearn return COO format\n",
    "    y = (critics.fresh == 'fresh').values.astype(np.int)\n",
    "    X_cols = vectorizer.get_feature_names()\n",
    "    return X, y, X_cols\n",
    "\n",
    "X, y, X_cols = make_xy_n(critics, tokenizer=None)\n",
    "X = X.toarray()"
   ]
  },
  {
   "cell_type": "code",
   "execution_count": 33,
   "metadata": {
    "collapsed": false
   },
   "outputs": [
    {
     "name": "stdout",
     "output_type": "stream",
     "text": [
      "(15561L, 14748L)\n"
     ]
    }
   ],
   "source": [
    "print X.shape\n",
    "pd.DataFrame(X_cols).to_csv('./n_gram_features.csv')"
   ]
  },
  {
   "cell_type": "code",
   "execution_count": 34,
   "metadata": {
    "collapsed": false
   },
   "outputs": [
    {
     "name": "stdout",
     "output_type": "stream",
     "text": [
      "Accuracy on training data: 0.853838\n",
      "Accuracy on test data:     0.760548\n"
     ]
    }
   ],
   "source": [
    "clf = MultinomialNB(alpha=best_alpha).fit(X[mask], y[mask])\n",
    "\n",
    "#your turn. Print the accuracy on the test and training dataset\n",
    "training_accuracy = clf.score(X[mask], y[mask])\n",
    "test_accuracy = clf.score(X[~mask], y[~mask])\n",
    "\n",
    "print(\"Accuracy on training data: {:2f}\".format(training_accuracy))\n",
    "print(\"Accuracy on test data:     {:2f}\".format(test_accuracy))"
   ]
  },
  {
   "cell_type": "markdown",
   "metadata": {
    "collapsed": true
   },
   "source": [
    "N-rgrams do not appear to work significantly better than bag of words in this excercise"
   ]
  },
  {
   "cell_type": "markdown",
   "metadata": {
    "collapsed": true
   },
   "source": [
    "# 2. Use word stemming together with ngram generation"
   ]
  },
  {
   "cell_type": "code",
   "execution_count": 35,
   "metadata": {
    "collapsed": false
   },
   "outputs": [],
   "source": [
    "X, y, X_cols = make_xy_n(critics, n_gram=(1, 3), tokenizer=LemmaTokenizer())\n",
    "X = X.toarray()"
   ]
  },
  {
   "cell_type": "code",
   "execution_count": 36,
   "metadata": {
    "collapsed": false
   },
   "outputs": [
    {
     "name": "stdout",
     "output_type": "stream",
     "text": [
      "Accuracy on training data: 0.915718\n",
      "Accuracy on test data:     0.767188\n"
     ]
    }
   ],
   "source": [
    "clf = MultinomialNB(alpha=0.1).fit(X[mask], y[mask])\n",
    "\n",
    "#your turn. Print the accuracy on the test and training dataset\n",
    "training_accuracy = clf.score(X[mask], y[mask])\n",
    "test_accuracy = clf.score(X[~mask], y[~mask])\n",
    "\n",
    "print(\"Accuracy on training data: {:2f}\".format(training_accuracy))\n",
    "print(\"Accuracy on test data:     {:2f}\".format(test_accuracy))"
   ]
  },
  {
   "cell_type": "markdown",
   "metadata": {},
   "source": [
    "# 3. Use special character removal"
   ]
  },
  {
   "cell_type": "code",
   "execution_count": 37,
   "metadata": {
    "collapsed": false
   },
   "outputs": [],
   "source": [
    "critics_f = critics.copy()\n",
    "critics_f.quote = critics_f.quote.str.translate(string.maketrans(\"\",\"\"), string.punctuation.replace(\"'\",\"\"))"
   ]
  },
  {
   "cell_type": "code",
   "execution_count": 38,
   "metadata": {
    "collapsed": false
   },
   "outputs": [],
   "source": [
    "X, y, X_cols = make_xy_n(critics_f, tokenizer=None, n_gram=(1, 3))\n",
    "X = X.toarray()"
   ]
  },
  {
   "cell_type": "code",
   "execution_count": 39,
   "metadata": {
    "collapsed": false
   },
   "outputs": [
    {
     "name": "stdout",
     "output_type": "stream",
     "text": [
      "Accuracy on training data: 0.909383\n",
      "Accuracy on test data:     0.761191\n"
     ]
    }
   ],
   "source": [
    "clf = MultinomialNB(alpha=0.1).fit(X[mask], y[mask])\n",
    "\n",
    "#your turn. Print the accuracy on the test and training dataset\n",
    "training_accuracy = clf.score(X[mask], y[mask])\n",
    "test_accuracy = clf.score(X[~mask], y[~mask])\n",
    "\n",
    "print(\"Accuracy on training data: {:2f}\".format(training_accuracy))\n",
    "print(\"Accuracy on test data:     {:2f}\".format(test_accuracy))"
   ]
  },
  {
   "cell_type": "markdown",
   "metadata": {},
   "source": [
    "# 4. Test Random Forest Classifier"
   ]
  },
  {
   "cell_type": "code",
   "execution_count": 40,
   "metadata": {
    "collapsed": true
   },
   "outputs": [],
   "source": [
    "X, y, X_cols = make_xy_n(critics, n_gram=(1, 3), tokenizer=LemmaTokenizer())\n",
    "X = X.toarray()"
   ]
  },
  {
   "cell_type": "code",
   "execution_count": 41,
   "metadata": {
    "collapsed": false
   },
   "outputs": [
    {
     "name": "stdout",
     "output_type": "stream",
     "text": [
      "Accuracy on training data: 0.990452\n",
      "Accuracy on test data:     0.688584\n"
     ]
    }
   ],
   "source": [
    "clf = RandomForestClassifier().fit(X[mask], y[mask])\n",
    "\n",
    "#your turn. Print the accuracy on the test and training dataset\n",
    "training_accuracy = clf.score(X[mask], y[mask])\n",
    "test_accuracy = clf.score(X[~mask], y[~mask])\n",
    "\n",
    "print(\"Accuracy on training data: {:2f}\".format(training_accuracy))\n",
    "print(\"Accuracy on test data:     {:2f}\".format(test_accuracy))"
   ]
  },
  {
   "cell_type": "code",
   "execution_count": 42,
   "metadata": {
    "collapsed": true
   },
   "outputs": [],
   "source": [
    "# Random forest is significantly overfitting with default parameters, try manual tuning"
   ]
  },
  {
   "cell_type": "code",
   "execution_count": 43,
   "metadata": {
    "collapsed": false
   },
   "outputs": [
    {
     "name": "stderr",
     "output_type": "stream",
     "text": [
      "[Parallel(n_jobs=11)]: Done  20 out of  20 | elapsed:  2.3min remaining:    0.0s\n",
      "[Parallel(n_jobs=11)]: Done  20 out of  20 | elapsed:  2.3min finished\n",
      "[Parallel(n_jobs=11)]: Done  20 out of  20 | elapsed:    0.0s remaining:    0.0s\n",
      "[Parallel(n_jobs=11)]: Done  20 out of  20 | elapsed:    0.0s finished\n"
     ]
    },
    {
     "name": "stdout",
     "output_type": "stream",
     "text": [
      "Accuracy on training data: 0.893408\n",
      "Accuracy on test data:     0.687942\n",
      "Accuracy on OOB data:      0.660209\n"
     ]
    },
    {
     "name": "stderr",
     "output_type": "stream",
     "text": [
      "[Parallel(n_jobs=11)]: Done  20 out of  20 | elapsed:    0.0s remaining:    0.0s\n",
      "[Parallel(n_jobs=11)]: Done  20 out of  20 | elapsed:    0.0s finished\n"
     ]
    }
   ],
   "source": [
    "mod_RFC = RandomForestClassifier(max_features=None,\n",
    "                                 max_depth=50,\n",
    "                                 oob_score=True,\n",
    "                                 n_jobs=11,\n",
    "                                 n_estimators=20,\n",
    "                                 random_state=1,\n",
    "                                verbose=True)\n",
    "\n",
    "clf = mod_RFC.fit(X[mask], y[mask])\n",
    "\n",
    "#your turn. Print the accuracy on the test and training dataset\n",
    "training_accuracy = clf.score(X[mask], y[mask])\n",
    "test_accuracy = clf.score(X[~mask], y[~mask])\n",
    "\n",
    "print(\"Accuracy on training data: {:2f}\".format(training_accuracy))\n",
    "print(\"Accuracy on test data:     {:2f}\".format(test_accuracy))\n",
    "print(\"Accuracy on OOB data:      {:2f}\".format(clf.oob_score_))"
   ]
  },
  {
   "cell_type": "markdown",
   "metadata": {
    "collapsed": true
   },
   "source": [
    "# 5. xGBoost classifier"
   ]
  },
  {
   "cell_type": "code",
   "execution_count": 44,
   "metadata": {
    "collapsed": true
   },
   "outputs": [],
   "source": [
    "X, y, X_cols = make_xy_n(critics, n_gram=(1, 3), tokenizer=LemmaTokenizer())\n",
    "X = X.toarray()"
   ]
  },
  {
   "cell_type": "code",
   "execution_count": 45,
   "metadata": {
    "collapsed": true
   },
   "outputs": [],
   "source": [
    "XGB_classifier = xgb.XGBClassifier(n_jobs=9, objective='binary:logistic', silent=True\n",
    "                                  )"
   ]
  },
  {
   "cell_type": "code",
   "execution_count": 48,
   "metadata": {
    "collapsed": true
   },
   "outputs": [],
   "source": [
    "max_depth_search = [10, 50]\n",
    "n_estimators_search = [100, 500]\n",
    "learning_rate_search = [0.01, 0.5]\n",
    "min_child_weight_search = [1, 10]"
   ]
  },
  {
   "cell_type": "code",
   "execution_count": 50,
   "metadata": {
    "collapsed": false
   },
   "outputs": [],
   "source": [
    "#cv = GridSearchCV(XGB_classifier, {'max_depth': max_depth_search,\n",
    "#                                   'n_estimators': n_estimators_search,\n",
    "#                                   'learning_rate': learning_rate_search,\n",
    "#                                  'min_child_weight': min_child_weight_search},  verbose=5)\n",
    "#cv.fit(X, y)\n",
    "#cv.cv_results_"
   ]
  },
  {
   "cell_type": "code",
   "execution_count": 59,
   "metadata": {
    "collapsed": false
   },
   "outputs": [
    {
     "name": "stdout",
     "output_type": "stream",
     "text": [
      "[0]\tvalidation_0-error:0.34547\n",
      "[1]\tvalidation_0-error:0.344185\n",
      "[2]\tvalidation_0-error:0.345042\n",
      "[3]\tvalidation_0-error:0.3429\n",
      "[4]\tvalidation_0-error:0.34033\n",
      "[5]\tvalidation_0-error:0.344185\n",
      "[6]\tvalidation_0-error:0.347398\n",
      "[7]\tvalidation_0-error:0.346113\n",
      "[8]\tvalidation_0-error:0.344185\n",
      "[9]\tvalidation_0-error:0.343114\n",
      "[10]\tvalidation_0-error:0.345256\n",
      "[11]\tvalidation_0-error:0.347398\n",
      "[12]\tvalidation_0-error:0.345042\n",
      "[13]\tvalidation_0-error:0.344185\n",
      "[14]\tvalidation_0-error:0.344613\n",
      "[15]\tvalidation_0-error:0.342472\n",
      "[16]\tvalidation_0-error:0.3429\n",
      "[17]\tvalidation_0-error:0.34033\n",
      "[18]\tvalidation_0-error:0.341187\n",
      "[19]\tvalidation_0-error:0.339473\n",
      "[20]\tvalidation_0-error:0.337974\n",
      "[21]\tvalidation_0-error:0.337331\n",
      "[22]\tvalidation_0-error:0.337117\n",
      "[23]\tvalidation_0-error:0.34033\n",
      "[24]\tvalidation_0-error:0.338616\n",
      "[25]\tvalidation_0-error:0.336903\n",
      "[26]\tvalidation_0-error:0.335404\n",
      "[27]\tvalidation_0-error:0.334547\n",
      "[28]\tvalidation_0-error:0.332619\n",
      "[29]\tvalidation_0-error:0.335404\n",
      "[30]\tvalidation_0-error:0.333262\n",
      "[31]\tvalidation_0-error:0.332405\n",
      "[32]\tvalidation_0-error:0.330906\n",
      "[33]\tvalidation_0-error:0.32855\n",
      "[34]\tvalidation_0-error:0.327907\n",
      "[35]\tvalidation_0-error:0.328336\n",
      "[36]\tvalidation_0-error:0.327693\n",
      "[37]\tvalidation_0-error:0.326837\n",
      "[38]\tvalidation_0-error:0.328122\n",
      "[39]\tvalidation_0-error:0.329621\n",
      "[40]\tvalidation_0-error:0.32855\n",
      "[41]\tvalidation_0-error:0.326408\n",
      "[42]\tvalidation_0-error:0.327479\n",
      "[43]\tvalidation_0-error:0.328122\n",
      "[44]\tvalidation_0-error:0.327265\n",
      "[45]\tvalidation_0-error:0.327051\n",
      "[46]\tvalidation_0-error:0.326408\n",
      "[47]\tvalidation_0-error:0.326408\n",
      "[48]\tvalidation_0-error:0.325337\n",
      "[49]\tvalidation_0-error:0.326194\n",
      "[50]\tvalidation_0-error:0.324266\n",
      "[51]\tvalidation_0-error:0.32341\n",
      "[52]\tvalidation_0-error:0.322981\n",
      "[53]\tvalidation_0-error:0.321054\n",
      "[54]\tvalidation_0-error:0.321482\n",
      "[55]\tvalidation_0-error:0.32191\n",
      "[56]\tvalidation_0-error:0.320197\n",
      "[57]\tvalidation_0-error:0.32191\n",
      "[58]\tvalidation_0-error:0.32191\n",
      "[59]\tvalidation_0-error:0.321696\n",
      "[60]\tvalidation_0-error:0.321482\n",
      "[61]\tvalidation_0-error:0.321696\n",
      "[62]\tvalidation_0-error:0.321054\n",
      "[63]\tvalidation_0-error:0.321268\n",
      "[64]\tvalidation_0-error:0.322339\n",
      "[65]\tvalidation_0-error:0.322125\n",
      "[66]\tvalidation_0-error:0.323196\n",
      "[67]\tvalidation_0-error:0.321696\n",
      "[68]\tvalidation_0-error:0.323624\n",
      "[69]\tvalidation_0-error:0.321268\n",
      "[70]\tvalidation_0-error:0.31934\n",
      "[71]\tvalidation_0-error:0.318698\n",
      "[72]\tvalidation_0-error:0.318269\n",
      "[73]\tvalidation_0-error:0.318055\n",
      "[74]\tvalidation_0-error:0.318269\n",
      "[75]\tvalidation_0-error:0.317413\n",
      "[76]\tvalidation_0-error:0.317413\n",
      "[77]\tvalidation_0-error:0.316342\n",
      "[78]\tvalidation_0-error:0.316556\n",
      "[79]\tvalidation_0-error:0.316984\n",
      "[80]\tvalidation_0-error:0.316556\n",
      "[81]\tvalidation_0-error:0.314843\n",
      "[82]\tvalidation_0-error:0.315057\n",
      "[83]\tvalidation_0-error:0.313343\n",
      "[84]\tvalidation_0-error:0.313772\n",
      "[85]\tvalidation_0-error:0.315699\n",
      "[86]\tvalidation_0-error:0.313772\n",
      "[87]\tvalidation_0-error:0.313129\n",
      "[88]\tvalidation_0-error:0.313343\n",
      "[89]\tvalidation_0-error:0.311844\n",
      "[90]\tvalidation_0-error:0.311416\n",
      "[91]\tvalidation_0-error:0.313343\n",
      "[92]\tvalidation_0-error:0.312701\n",
      "[93]\tvalidation_0-error:0.312058\n",
      "[94]\tvalidation_0-error:0.312487\n",
      "[95]\tvalidation_0-error:0.311844\n",
      "[96]\tvalidation_0-error:0.312058\n",
      "[97]\tvalidation_0-error:0.312058\n",
      "[98]\tvalidation_0-error:0.310987\n",
      "[99]\tvalidation_0-error:0.311416\n",
      "[100]\tvalidation_0-error:0.310987\n",
      "[101]\tvalidation_0-error:0.31163\n",
      "[102]\tvalidation_0-error:0.312272\n",
      "[103]\tvalidation_0-error:0.311416\n",
      "[104]\tvalidation_0-error:0.310345\n",
      "[105]\tvalidation_0-error:0.310773\n",
      "[106]\tvalidation_0-error:0.309916\n",
      "[107]\tvalidation_0-error:0.310559\n",
      "[108]\tvalidation_0-error:0.309488\n",
      "[109]\tvalidation_0-error:0.309488\n",
      "[110]\tvalidation_0-error:0.309702\n",
      "[111]\tvalidation_0-error:0.309274\n",
      "[112]\tvalidation_0-error:0.308846\n",
      "[113]\tvalidation_0-error:0.307775\n",
      "[114]\tvalidation_0-error:0.308203\n",
      "[115]\tvalidation_0-error:0.306918\n",
      "[116]\tvalidation_0-error:0.306918\n",
      "[117]\tvalidation_0-error:0.30649\n",
      "[118]\tvalidation_0-error:0.306061\n",
      "[119]\tvalidation_0-error:0.306061\n",
      "[120]\tvalidation_0-error:0.30649\n",
      "[121]\tvalidation_0-error:0.306061\n",
      "[122]\tvalidation_0-error:0.305205\n",
      "[123]\tvalidation_0-error:0.305419\n",
      "[124]\tvalidation_0-error:0.305205\n",
      "[125]\tvalidation_0-error:0.305205\n",
      "[126]\tvalidation_0-error:0.30499\n",
      "[127]\tvalidation_0-error:0.304348\n",
      "[128]\tvalidation_0-error:0.30499\n",
      "[129]\tvalidation_0-error:0.304562\n",
      "[130]\tvalidation_0-error:0.303919\n",
      "[131]\tvalidation_0-error:0.303919\n",
      "[132]\tvalidation_0-error:0.303063\n",
      "[133]\tvalidation_0-error:0.302849\n",
      "[134]\tvalidation_0-error:0.302206\n",
      "[135]\tvalidation_0-error:0.30242\n",
      "[136]\tvalidation_0-error:0.301992\n",
      "[137]\tvalidation_0-error:0.302849\n",
      "[138]\tvalidation_0-error:0.302849\n",
      "[139]\tvalidation_0-error:0.303277\n",
      "[140]\tvalidation_0-error:0.302634\n",
      "[141]\tvalidation_0-error:0.303491\n",
      "[142]\tvalidation_0-error:0.303063\n",
      "[143]\tvalidation_0-error:0.303277\n",
      "[144]\tvalidation_0-error:0.303063\n",
      "[145]\tvalidation_0-error:0.302206\n",
      "[146]\tvalidation_0-error:0.302206\n",
      "[147]\tvalidation_0-error:0.301135\n",
      "[148]\tvalidation_0-error:0.300278\n",
      "[149]\tvalidation_0-error:0.29985\n",
      "[150]\tvalidation_0-error:0.299636\n",
      "[151]\tvalidation_0-error:0.301135\n",
      "[152]\tvalidation_0-error:0.298993\n",
      "[153]\tvalidation_0-error:0.299208\n",
      "[154]\tvalidation_0-error:0.299208\n",
      "[155]\tvalidation_0-error:0.299422\n",
      "[156]\tvalidation_0-error:0.29985\n",
      "[157]\tvalidation_0-error:0.299422\n",
      "[158]\tvalidation_0-error:0.298351\n",
      "[159]\tvalidation_0-error:0.298137\n",
      "[160]\tvalidation_0-error:0.297066\n",
      "[161]\tvalidation_0-error:0.297494\n",
      "[162]\tvalidation_0-error:0.297708\n",
      "[163]\tvalidation_0-error:0.297066\n",
      "[164]\tvalidation_0-error:0.296852\n",
      "[165]\tvalidation_0-error:0.296423\n",
      "[166]\tvalidation_0-error:0.296209\n",
      "[167]\tvalidation_0-error:0.296637\n",
      "[168]\tvalidation_0-error:0.297494\n",
      "[169]\tvalidation_0-error:0.296852\n",
      "[170]\tvalidation_0-error:0.296423\n",
      "[171]\tvalidation_0-error:0.296209\n",
      "[172]\tvalidation_0-error:0.296637\n",
      "[173]\tvalidation_0-error:0.296852\n",
      "[174]\tvalidation_0-error:0.296637\n",
      "[175]\tvalidation_0-error:0.296852\n",
      "[176]\tvalidation_0-error:0.295566\n",
      "[177]\tvalidation_0-error:0.295781\n",
      "[178]\tvalidation_0-error:0.295566\n",
      "[179]\tvalidation_0-error:0.296209\n",
      "[180]\tvalidation_0-error:0.295781\n",
      "[181]\tvalidation_0-error:0.296423\n",
      "[182]\tvalidation_0-error:0.295352\n",
      "[183]\tvalidation_0-error:0.294924\n",
      "[184]\tvalidation_0-error:0.294496\n",
      "[185]\tvalidation_0-error:0.294281\n",
      "[186]\tvalidation_0-error:0.294496\n",
      "[187]\tvalidation_0-error:0.29471\n",
      "[188]\tvalidation_0-error:0.29471\n",
      "[189]\tvalidation_0-error:0.29471\n",
      "[190]\tvalidation_0-error:0.294281\n",
      "[191]\tvalidation_0-error:0.293853\n",
      "[192]\tvalidation_0-error:0.293425\n",
      "[193]\tvalidation_0-error:0.292996\n",
      "[194]\tvalidation_0-error:0.292782\n",
      "[195]\tvalidation_0-error:0.292996\n",
      "[196]\tvalidation_0-error:0.292568\n",
      "[197]\tvalidation_0-error:0.292996\n",
      "[198]\tvalidation_0-error:0.292996\n",
      "[199]\tvalidation_0-error:0.292782\n",
      "[200]\tvalidation_0-error:0.292354\n",
      "[201]\tvalidation_0-error:0.292568\n",
      "[202]\tvalidation_0-error:0.291711\n",
      "[203]\tvalidation_0-error:0.29214\n",
      "[204]\tvalidation_0-error:0.292568\n",
      "[205]\tvalidation_0-error:0.292568\n",
      "[206]\tvalidation_0-error:0.292782\n",
      "[207]\tvalidation_0-error:0.292996\n",
      "[208]\tvalidation_0-error:0.292568\n",
      "[209]\tvalidation_0-error:0.292568\n",
      "[210]\tvalidation_0-error:0.292782\n",
      "[211]\tvalidation_0-error:0.292782\n",
      "[212]\tvalidation_0-error:0.292354\n",
      "[213]\tvalidation_0-error:0.29214\n",
      "[214]\tvalidation_0-error:0.291497\n",
      "[215]\tvalidation_0-error:0.291283\n",
      "[216]\tvalidation_0-error:0.291497\n",
      "[217]\tvalidation_0-error:0.291497\n",
      "[218]\tvalidation_0-error:0.291283\n",
      "[219]\tvalidation_0-error:0.291497\n",
      "[220]\tvalidation_0-error:0.291283\n",
      "[221]\tvalidation_0-error:0.291283\n",
      "[222]\tvalidation_0-error:0.291283\n",
      "[223]\tvalidation_0-error:0.290212\n",
      "[224]\tvalidation_0-error:0.289998\n",
      "[225]\tvalidation_0-error:0.289141\n",
      "[226]\tvalidation_0-error:0.288499\n",
      "[227]\tvalidation_0-error:0.28807\n",
      "[228]\tvalidation_0-error:0.28807\n",
      "[229]\tvalidation_0-error:0.28807\n",
      "[230]\tvalidation_0-error:0.288284\n",
      "[231]\tvalidation_0-error:0.288713\n",
      "[232]\tvalidation_0-error:0.289141\n",
      "[233]\tvalidation_0-error:0.287642\n",
      "[234]\tvalidation_0-error:0.28807\n",
      "[235]\tvalidation_0-error:0.287642\n",
      "[236]\tvalidation_0-error:0.287214\n",
      "[237]\tvalidation_0-error:0.285928\n",
      "[238]\tvalidation_0-error:0.286357\n",
      "[239]\tvalidation_0-error:0.285286\n",
      "[240]\tvalidation_0-error:0.2855\n",
      "[241]\tvalidation_0-error:0.285928\n",
      "[242]\tvalidation_0-error:0.285714\n",
      "[243]\tvalidation_0-error:0.2855\n",
      "[244]\tvalidation_0-error:0.285072\n",
      "[245]\tvalidation_0-error:0.2855\n",
      "[246]\tvalidation_0-error:0.285286\n",
      "[247]\tvalidation_0-error:0.285072\n",
      "[248]\tvalidation_0-error:0.2855\n",
      "[249]\tvalidation_0-error:0.285714\n",
      "[250]\tvalidation_0-error:0.285714\n",
      "[251]\tvalidation_0-error:0.285714\n",
      "[252]\tvalidation_0-error:0.285714\n",
      "[253]\tvalidation_0-error:0.286143\n",
      "[254]\tvalidation_0-error:0.286143\n",
      "[255]\tvalidation_0-error:0.286785\n",
      "[256]\tvalidation_0-error:0.286785\n",
      "[257]\tvalidation_0-error:0.286571\n",
      "[258]\tvalidation_0-error:0.286143\n",
      "[259]\tvalidation_0-error:0.285072\n",
      "[260]\tvalidation_0-error:0.284643\n",
      "[261]\tvalidation_0-error:0.2855\n",
      "[262]\tvalidation_0-error:0.286143\n",
      "[263]\tvalidation_0-error:0.286143\n",
      "[264]\tvalidation_0-error:0.286571\n",
      "[265]\tvalidation_0-error:0.286571\n",
      "[266]\tvalidation_0-error:0.286357\n",
      "[267]\tvalidation_0-error:0.286143\n",
      "[268]\tvalidation_0-error:0.286785\n",
      "[269]\tvalidation_0-error:0.286785\n",
      "[270]\tvalidation_0-error:0.285928\n",
      "[271]\tvalidation_0-error:0.286785\n",
      "[272]\tvalidation_0-error:0.286571\n",
      "[273]\tvalidation_0-error:0.286785\n",
      "[274]\tvalidation_0-error:0.286999\n",
      "[275]\tvalidation_0-error:0.286999\n",
      "[276]\tvalidation_0-error:0.286999\n",
      "[277]\tvalidation_0-error:0.287214\n",
      "[278]\tvalidation_0-error:0.286357\n",
      "[279]\tvalidation_0-error:0.286785\n",
      "[280]\tvalidation_0-error:0.286999\n",
      "[281]\tvalidation_0-error:0.286785\n",
      "[282]\tvalidation_0-error:0.286571\n",
      "[283]\tvalidation_0-error:0.286143\n",
      "[284]\tvalidation_0-error:0.286357\n",
      "[285]\tvalidation_0-error:0.286357\n",
      "[286]\tvalidation_0-error:0.285928\n",
      "[287]\tvalidation_0-error:0.285928\n",
      "[288]\tvalidation_0-error:0.285928\n",
      "[289]\tvalidation_0-error:0.286143\n",
      "[290]\tvalidation_0-error:0.286143\n",
      "[291]\tvalidation_0-error:0.286143\n",
      "[292]\tvalidation_0-error:0.285928\n",
      "[293]\tvalidation_0-error:0.285714\n",
      "[294]\tvalidation_0-error:0.285714\n",
      "[295]\tvalidation_0-error:0.285072\n",
      "[296]\tvalidation_0-error:0.284643\n",
      "[297]\tvalidation_0-error:0.284643\n",
      "[298]\tvalidation_0-error:0.285286\n",
      "[299]\tvalidation_0-error:0.284643\n",
      "[300]\tvalidation_0-error:0.285072\n",
      "[301]\tvalidation_0-error:0.285072\n",
      "[302]\tvalidation_0-error:0.284858\n",
      "[303]\tvalidation_0-error:0.284858\n",
      "[304]\tvalidation_0-error:0.284643\n",
      "[305]\tvalidation_0-error:0.284858\n",
      "[306]\tvalidation_0-error:0.285072\n",
      "[307]\tvalidation_0-error:0.284858\n",
      "[308]\tvalidation_0-error:0.284215\n",
      "[309]\tvalidation_0-error:0.284001\n",
      "[310]\tvalidation_0-error:0.283787\n",
      "[311]\tvalidation_0-error:0.283787\n",
      "[312]\tvalidation_0-error:0.28293\n",
      "[313]\tvalidation_0-error:0.282287\n",
      "[314]\tvalidation_0-error:0.282502\n",
      "[315]\tvalidation_0-error:0.282502\n",
      "[316]\tvalidation_0-error:0.283358\n",
      "[317]\tvalidation_0-error:0.28293\n",
      "[318]\tvalidation_0-error:0.282716\n",
      "[319]\tvalidation_0-error:0.282502\n",
      "[320]\tvalidation_0-error:0.283144\n",
      "[321]\tvalidation_0-error:0.28293\n",
      "[322]\tvalidation_0-error:0.282716\n",
      "[323]\tvalidation_0-error:0.283144\n",
      "[324]\tvalidation_0-error:0.282716\n",
      "[325]\tvalidation_0-error:0.282287\n",
      "[326]\tvalidation_0-error:0.282502\n",
      "[327]\tvalidation_0-error:0.282287\n",
      "[328]\tvalidation_0-error:0.282073\n",
      "[329]\tvalidation_0-error:0.282502\n",
      "[330]\tvalidation_0-error:0.281645\n",
      "[331]\tvalidation_0-error:0.282073\n",
      "[332]\tvalidation_0-error:0.282287\n",
      "[333]\tvalidation_0-error:0.282287\n",
      "[334]\tvalidation_0-error:0.282287\n",
      "[335]\tvalidation_0-error:0.282287\n",
      "[336]\tvalidation_0-error:0.282502\n",
      "[337]\tvalidation_0-error:0.282716\n",
      "[338]\tvalidation_0-error:0.282716\n",
      "[339]\tvalidation_0-error:0.282716\n",
      "[340]\tvalidation_0-error:0.282502\n",
      "[341]\tvalidation_0-error:0.282073\n",
      "[342]\tvalidation_0-error:0.281859\n",
      "[343]\tvalidation_0-error:0.282502\n",
      "[344]\tvalidation_0-error:0.281431\n",
      "[345]\tvalidation_0-error:0.281645\n",
      "[346]\tvalidation_0-error:0.281645\n",
      "[347]\tvalidation_0-error:0.281002\n",
      "[348]\tvalidation_0-error:0.280788\n",
      "[349]\tvalidation_0-error:0.281002\n",
      "[350]\tvalidation_0-error:0.280788\n",
      "[351]\tvalidation_0-error:0.280574\n",
      "[352]\tvalidation_0-error:0.280574\n",
      "[353]\tvalidation_0-error:0.280574\n",
      "[354]\tvalidation_0-error:0.281217\n",
      "[355]\tvalidation_0-error:0.281217\n",
      "[356]\tvalidation_0-error:0.281002\n",
      "[357]\tvalidation_0-error:0.280788\n",
      "[358]\tvalidation_0-error:0.280788\n",
      "[359]\tvalidation_0-error:0.280788\n",
      "[360]\tvalidation_0-error:0.280574\n",
      "[361]\tvalidation_0-error:0.28036\n",
      "[362]\tvalidation_0-error:0.280146\n",
      "[363]\tvalidation_0-error:0.280146\n",
      "[364]\tvalidation_0-error:0.280788\n",
      "[365]\tvalidation_0-error:0.281002\n",
      "[366]\tvalidation_0-error:0.280574\n",
      "[367]\tvalidation_0-error:0.28036\n",
      "[368]\tvalidation_0-error:0.28036\n",
      "[369]\tvalidation_0-error:0.28036\n",
      "[370]\tvalidation_0-error:0.280146\n",
      "[371]\tvalidation_0-error:0.280574\n",
      "[372]\tvalidation_0-error:0.280574\n",
      "[373]\tvalidation_0-error:0.280788\n",
      "[374]\tvalidation_0-error:0.281002\n",
      "[375]\tvalidation_0-error:0.280788\n",
      "[376]\tvalidation_0-error:0.279717\n",
      "[377]\tvalidation_0-error:0.280146\n",
      "[378]\tvalidation_0-error:0.28036\n",
      "[379]\tvalidation_0-error:0.28036\n",
      "[380]\tvalidation_0-error:0.279931\n",
      "[381]\tvalidation_0-error:0.279075\n",
      "[382]\tvalidation_0-error:0.279075\n",
      "[383]\tvalidation_0-error:0.279289\n",
      "[384]\tvalidation_0-error:0.279289\n",
      "[385]\tvalidation_0-error:0.278646\n",
      "[386]\tvalidation_0-error:0.278432\n",
      "[387]\tvalidation_0-error:0.278646\n",
      "[388]\tvalidation_0-error:0.278218\n",
      "[389]\tvalidation_0-error:0.278218\n",
      "[390]\tvalidation_0-error:0.278218\n",
      "[391]\tvalidation_0-error:0.278004\n",
      "[392]\tvalidation_0-error:0.27779\n",
      "[393]\tvalidation_0-error:0.277575\n",
      "[394]\tvalidation_0-error:0.277361\n",
      "[395]\tvalidation_0-error:0.277361\n",
      "[396]\tvalidation_0-error:0.277147\n",
      "[397]\tvalidation_0-error:0.276933\n",
      "[398]\tvalidation_0-error:0.276933\n",
      "[399]\tvalidation_0-error:0.276933\n",
      "[400]\tvalidation_0-error:0.276933\n",
      "[401]\tvalidation_0-error:0.276933\n",
      "[402]\tvalidation_0-error:0.276505\n",
      "[403]\tvalidation_0-error:0.276933\n",
      "[404]\tvalidation_0-error:0.277575\n",
      "[405]\tvalidation_0-error:0.277575\n",
      "[406]\tvalidation_0-error:0.277575\n",
      "[407]\tvalidation_0-error:0.277575\n",
      "[408]\tvalidation_0-error:0.277361\n",
      "[409]\tvalidation_0-error:0.276933\n",
      "[410]\tvalidation_0-error:0.276076\n",
      "[411]\tvalidation_0-error:0.275648\n",
      "[412]\tvalidation_0-error:0.275862\n",
      "[413]\tvalidation_0-error:0.275434\n",
      "[414]\tvalidation_0-error:0.275648\n",
      "[415]\tvalidation_0-error:0.27522\n",
      "[416]\tvalidation_0-error:0.27522\n",
      "[417]\tvalidation_0-error:0.275648\n",
      "[418]\tvalidation_0-error:0.275648\n",
      "[419]\tvalidation_0-error:0.275648\n",
      "[420]\tvalidation_0-error:0.275434\n",
      "[421]\tvalidation_0-error:0.275434\n",
      "[422]\tvalidation_0-error:0.275648\n",
      "[423]\tvalidation_0-error:0.276076\n",
      "[424]\tvalidation_0-error:0.275862\n",
      "[425]\tvalidation_0-error:0.27522\n",
      "[426]\tvalidation_0-error:0.275648\n",
      "[427]\tvalidation_0-error:0.275862\n",
      "[428]\tvalidation_0-error:0.275862\n",
      "[429]\tvalidation_0-error:0.275862\n",
      "[430]\tvalidation_0-error:0.27522\n",
      "[431]\tvalidation_0-error:0.275005\n",
      "[432]\tvalidation_0-error:0.275434\n",
      "[433]\tvalidation_0-error:0.275434\n",
      "[434]\tvalidation_0-error:0.27522\n",
      "[435]\tvalidation_0-error:0.27522\n",
      "[436]\tvalidation_0-error:0.274791\n",
      "[437]\tvalidation_0-error:0.275434\n",
      "[438]\tvalidation_0-error:0.274791\n",
      "[439]\tvalidation_0-error:0.274363\n",
      "[440]\tvalidation_0-error:0.274149\n",
      "[441]\tvalidation_0-error:0.27372\n",
      "[442]\tvalidation_0-error:0.273934\n",
      "[443]\tvalidation_0-error:0.273292\n",
      "[444]\tvalidation_0-error:0.273506\n",
      "[445]\tvalidation_0-error:0.273292\n",
      "[446]\tvalidation_0-error:0.272864\n",
      "[447]\tvalidation_0-error:0.272649\n",
      "[448]\tvalidation_0-error:0.273292\n",
      "[449]\tvalidation_0-error:0.273078\n",
      "[450]\tvalidation_0-error:0.272649\n",
      "[451]\tvalidation_0-error:0.272221\n",
      "[452]\tvalidation_0-error:0.273078\n",
      "[453]\tvalidation_0-error:0.272649\n",
      "[454]\tvalidation_0-error:0.273078\n",
      "[455]\tvalidation_0-error:0.272221\n",
      "[456]\tvalidation_0-error:0.272864\n",
      "[457]\tvalidation_0-error:0.272435\n",
      "[458]\tvalidation_0-error:0.272435\n",
      "[459]\tvalidation_0-error:0.272435\n",
      "[460]\tvalidation_0-error:0.271793\n",
      "[461]\tvalidation_0-error:0.271578\n",
      "[462]\tvalidation_0-error:0.272221\n",
      "[463]\tvalidation_0-error:0.271364\n",
      "[464]\tvalidation_0-error:0.271578\n",
      "[465]\tvalidation_0-error:0.271364\n",
      "[466]\tvalidation_0-error:0.27115\n",
      "[467]\tvalidation_0-error:0.270936\n",
      "[468]\tvalidation_0-error:0.270722\n",
      "[469]\tvalidation_0-error:0.270722\n",
      "[470]\tvalidation_0-error:0.270508\n",
      "[471]\tvalidation_0-error:0.270293\n",
      "[472]\tvalidation_0-error:0.270508\n",
      "[473]\tvalidation_0-error:0.270079\n",
      "[474]\tvalidation_0-error:0.269865\n",
      "[475]\tvalidation_0-error:0.269437\n",
      "[476]\tvalidation_0-error:0.269008\n",
      "[477]\tvalidation_0-error:0.269437\n",
      "[478]\tvalidation_0-error:0.269651\n",
      "[479]\tvalidation_0-error:0.269437\n",
      "[480]\tvalidation_0-error:0.269437\n",
      "[481]\tvalidation_0-error:0.269865\n",
      "[482]\tvalidation_0-error:0.269865\n",
      "[483]\tvalidation_0-error:0.269651\n",
      "[484]\tvalidation_0-error:0.269865\n",
      "[485]\tvalidation_0-error:0.270079\n",
      "[486]\tvalidation_0-error:0.270079\n",
      "[487]\tvalidation_0-error:0.269865\n",
      "[488]\tvalidation_0-error:0.269651\n",
      "[489]\tvalidation_0-error:0.269437\n",
      "[490]\tvalidation_0-error:0.269223\n",
      "[491]\tvalidation_0-error:0.269008\n",
      "[492]\tvalidation_0-error:0.26858\n",
      "[493]\tvalidation_0-error:0.26858\n",
      "[494]\tvalidation_0-error:0.26858\n",
      "[495]\tvalidation_0-error:0.26858\n",
      "[496]\tvalidation_0-error:0.268366\n",
      "[497]\tvalidation_0-error:0.267937\n",
      "[498]\tvalidation_0-error:0.267937\n",
      "[499]\tvalidation_0-error:0.267937\n",
      "Accuracy on training data: 0.947393\n",
      "Accuracy on test data:     0.732063\n"
     ]
    }
   ],
   "source": [
    "XGB_class = xgb.XGBClassifier(max_depth=50,\n",
    "                              objective='binary:logistic',\n",
    "                              n_estimators=500,\n",
    "                              min_child_weight=1,\n",
    "                              n_jobs=11,\n",
    "                              silent=False,\n",
    "                              learning_rate=0.01)\n",
    "\n",
    "clf = XGB_class.fit(X[mask], y[mask], eval_metric='error', verbose=True, eval_set=[(X[~mask], y[~mask])])\n",
    "\n",
    "#your turn. Print the accuracy on the test and training dataset\n",
    "training_accuracy = clf.score(X[mask], y[mask])\n",
    "test_accuracy = clf.score(X[~mask], y[~mask])\n",
    "\n",
    "print(\"Accuracy on training data: {:2f}\".format(training_accuracy))\n",
    "print(\"Accuracy on test data:     {:2f}\".format(test_accuracy))"
   ]
  },
  {
   "cell_type": "markdown",
   "metadata": {},
   "source": [
    "# 6. Use TF-IDF weighting instead of word counts."
   ]
  },
  {
   "cell_type": "code",
   "execution_count": 60,
   "metadata": {
    "collapsed": true
   },
   "outputs": [],
   "source": [
    "X, y, X_cols = make_xy_n(critics, vectorizer=tfidfvectorizer, tokenizer=None)\n",
    "X = X.toarray()"
   ]
  },
  {
   "cell_type": "code",
   "execution_count": 61,
   "metadata": {
    "collapsed": false
   },
   "outputs": [
    {
     "name": "stdout",
     "output_type": "stream",
     "text": [
      "(15561L, 22125L)\n"
     ]
    }
   ],
   "source": [
    "print X.shape"
   ]
  },
  {
   "cell_type": "code",
   "execution_count": 62,
   "metadata": {
    "collapsed": false
   },
   "outputs": [
    {
     "name": "stdout",
     "output_type": "stream",
     "text": [
      "Accuracy on training data: 0.950055\n",
      "Accuracy on test data:     0.743414\n"
     ]
    }
   ],
   "source": [
    "clf = MultinomialNB(alpha=0.1).fit(X[mask], y[mask])\n",
    "\n",
    "#your turn. Print the accuracy on the test and training dataset\n",
    "training_accuracy = clf.score(X[mask], y[mask])\n",
    "test_accuracy = clf.score(X[~mask], y[~mask])\n",
    "\n",
    "print(\"Accuracy on training data: {:2f}\".format(training_accuracy))\n",
    "print(\"Accuracy on test data:     {:2f}\".format(test_accuracy))"
   ]
  },
  {
   "cell_type": "code",
   "execution_count": 63,
   "metadata": {
    "collapsed": false
   },
   "outputs": [
    {
     "data": {
      "text/plain": [
       "geezer             0.219363\n",
       "reunite            0.225549\n",
       "fils               0.226873\n",
       "falk               0.226873\n",
       "curioisity         0.226873\n",
       "pere               0.226873\n",
       "gazzara            0.226873\n",
       "voom               0.228213\n",
       "suzanne            0.229619\n",
       "tobin              0.229619\n",
       "handheld           0.230196\n",
       "wipes              0.230196\n",
       "crane              0.230196\n",
       "coloring           0.230196\n",
       "pans               0.230196\n",
       "marceau            0.231733\n",
       "insignts           0.232003\n",
       "employee           0.232003\n",
       "hanneli            0.232003\n",
       "gies               0.232003\n",
       "miep               0.232003\n",
       "goslar             0.232003\n",
       "ossie              0.233578\n",
       "beetle             0.233793\n",
       "impudence          0.234875\n",
       "bandy              0.234875\n",
       "gambini            0.234875\n",
       "androgynously      0.235571\n",
       "moss               0.235571\n",
       "partnered          0.235571\n",
       "                    ...    \n",
       "kind              60.224784\n",
       "isn               62.747001\n",
       "does              64.080037\n",
       "thriller          66.102049\n",
       "films             67.487353\n",
       "new               68.873676\n",
       "doesn             72.195368\n",
       "makes             73.261972\n",
       "entertaining      73.664665\n",
       "work              76.312024\n",
       "picture           76.688174\n",
       "little            77.783666\n",
       "characters        77.935000\n",
       "way               78.290479\n",
       "great             78.994602\n",
       "action            79.203286\n",
       "make              83.360769\n",
       "fun               85.988238\n",
       "director          89.126641\n",
       "movies            92.856728\n",
       "just              95.067198\n",
       "time             103.319884\n",
       "funny            111.721907\n",
       "best             115.014830\n",
       "story            116.724919\n",
       "comedy           118.511028\n",
       "good             137.879888\n",
       "like             138.590520\n",
       "film             306.724174\n",
       "movie            312.896543\n",
       "dtype: float64"
      ]
     },
     "execution_count": 63,
     "metadata": {},
     "output_type": "execute_result"
    }
   ],
   "source": [
    "pd.DataFrame(X, columns=X_cols).sum().sort_values()"
   ]
  },
  {
   "cell_type": "markdown",
   "metadata": {
    "collapsed": true
   },
   "source": [
    "# Load Word2Vec & Doc2Vec training data"
   ]
  },
  {
   "cell_type": "code",
   "execution_count": 64,
   "metadata": {
    "collapsed": false
   },
   "outputs": [
    {
     "data": {
      "text/html": [
       "<div>\n",
       "<table border=\"1\" class=\"dataframe\">\n",
       "  <thead>\n",
       "    <tr style=\"text-align: right;\">\n",
       "      <th></th>\n",
       "      <th>Unnamed: 0</th>\n",
       "      <th>reviews</th>\n",
       "      <th>sentiment</th>\n",
       "    </tr>\n",
       "  </thead>\n",
       "  <tbody>\n",
       "    <tr>\n",
       "      <th>0</th>\n",
       "      <td>0_2.txt</td>\n",
       "      <td>mr costner dragged movie far longer necessary ...</td>\n",
       "      <td>neg</td>\n",
       "    </tr>\n",
       "    <tr>\n",
       "      <th>1</th>\n",
       "      <td>10000_4.txt</td>\n",
       "      <td>example majority action film generic boring 's...</td>\n",
       "      <td>neg</td>\n",
       "    </tr>\n",
       "    <tr>\n",
       "      <th>2</th>\n",
       "      <td>10001_1.txt</td>\n",
       "      <td>first hate moronic rapper could'nt act gun pre...</td>\n",
       "      <td>neg</td>\n",
       "    </tr>\n",
       "    <tr>\n",
       "      <th>3</th>\n",
       "      <td>10002_3.txt</td>\n",
       "      <td>even beatles could write song everyone liked a...</td>\n",
       "      <td>neg</td>\n",
       "    </tr>\n",
       "    <tr>\n",
       "      <th>4</th>\n",
       "      <td>10003_3.txt</td>\n",
       "      <td>brass picture movie fitting word really somewh...</td>\n",
       "      <td>neg</td>\n",
       "    </tr>\n",
       "  </tbody>\n",
       "</table>\n",
       "</div>"
      ],
      "text/plain": [
       "    Unnamed: 0                                            reviews sentiment\n",
       "0      0_2.txt  mr costner dragged movie far longer necessary ...       neg\n",
       "1  10000_4.txt  example majority action film generic boring 's...       neg\n",
       "2  10001_1.txt  first hate moronic rapper could'nt act gun pre...       neg\n",
       "3  10002_3.txt  even beatles could write song everyone liked a...       neg\n",
       "4  10003_3.txt  brass picture movie fitting word really somewh...       neg"
      ]
     },
     "execution_count": 64,
     "metadata": {},
     "output_type": "execute_result"
    }
   ],
   "source": [
    "train_set = pd.read_csv('./train_set.csv')\n",
    "train_set.head()"
   ]
  },
  {
   "cell_type": "code",
   "execution_count": 65,
   "metadata": {
    "collapsed": false
   },
   "outputs": [
    {
     "data": {
      "text/html": [
       "<div>\n",
       "<table border=\"1\" class=\"dataframe\">\n",
       "  <thead>\n",
       "    <tr style=\"text-align: right;\">\n",
       "      <th></th>\n",
       "      <th>Unnamed: 0</th>\n",
       "      <th>reviews</th>\n",
       "      <th>sentiment</th>\n",
       "    </tr>\n",
       "  </thead>\n",
       "  <tbody>\n",
       "    <tr>\n",
       "      <th>0</th>\n",
       "      <td>114709 Derek Adams</td>\n",
       "      <td>ingenious concept design execution could watch...</td>\n",
       "      <td>pos</td>\n",
       "    </tr>\n",
       "    <tr>\n",
       "      <th>1</th>\n",
       "      <td>114709 Richard Corliss</td>\n",
       "      <td>year 's inventive comedy</td>\n",
       "      <td>pos</td>\n",
       "    </tr>\n",
       "    <tr>\n",
       "      <th>2</th>\n",
       "      <td>114709 David Ansen</td>\n",
       "      <td>winning animated feature something everyone ag...</td>\n",
       "      <td>pos</td>\n",
       "    </tr>\n",
       "    <tr>\n",
       "      <th>3</th>\n",
       "      <td>114709 Leonard Klady</td>\n",
       "      <td>film sport provocative appealing story 's ever...</td>\n",
       "      <td>pos</td>\n",
       "    </tr>\n",
       "    <tr>\n",
       "      <th>4</th>\n",
       "      <td>114709 Jonathan Rosenbaum</td>\n",
       "      <td>entertaining computergenerated hyperrealist an...</td>\n",
       "      <td>pos</td>\n",
       "    </tr>\n",
       "  </tbody>\n",
       "</table>\n",
       "</div>"
      ],
      "text/plain": [
       "                  Unnamed: 0                                            reviews sentiment\n",
       "0         114709 Derek Adams  ingenious concept design execution could watch...       pos\n",
       "1     114709 Richard Corliss                           year 's inventive comedy       pos\n",
       "2         114709 David Ansen  winning animated feature something everyone ag...       pos\n",
       "3       114709 Leonard Klady  film sport provocative appealing story 's ever...       pos\n",
       "4  114709 Jonathan Rosenbaum  entertaining computergenerated hyperrealist an...       pos"
      ]
     },
     "execution_count": 65,
     "metadata": {},
     "output_type": "execute_result"
    }
   ],
   "source": [
    "rt_set = pd.read_csv('./rt_set.csv')\n",
    "rt_set.head()"
   ]
  },
  {
   "cell_type": "code",
   "execution_count": 66,
   "metadata": {
    "collapsed": false
   },
   "outputs": [
    {
     "data": {
      "text/html": [
       "<div>\n",
       "<table border=\"1\" class=\"dataframe\">\n",
       "  <thead>\n",
       "    <tr style=\"text-align: right;\">\n",
       "      <th></th>\n",
       "      <th>Unnamed: 0</th>\n",
       "      <th>reviews</th>\n",
       "      <th>sentiment</th>\n",
       "    </tr>\n",
       "  </thead>\n",
       "  <tbody>\n",
       "    <tr>\n",
       "      <th>0</th>\n",
       "      <td>0_2.txt</td>\n",
       "      <td>mr costner dragged movie far longer necessary ...</td>\n",
       "      <td>neg</td>\n",
       "    </tr>\n",
       "    <tr>\n",
       "      <th>1</th>\n",
       "      <td>10000_4.txt</td>\n",
       "      <td>example majority action film generic boring 's...</td>\n",
       "      <td>neg</td>\n",
       "    </tr>\n",
       "    <tr>\n",
       "      <th>2</th>\n",
       "      <td>10001_1.txt</td>\n",
       "      <td>first hate moronic rapper could'nt act gun pre...</td>\n",
       "      <td>neg</td>\n",
       "    </tr>\n",
       "    <tr>\n",
       "      <th>3</th>\n",
       "      <td>10002_3.txt</td>\n",
       "      <td>even beatles could write song everyone liked a...</td>\n",
       "      <td>neg</td>\n",
       "    </tr>\n",
       "    <tr>\n",
       "      <th>4</th>\n",
       "      <td>10003_3.txt</td>\n",
       "      <td>brass picture movie fitting word really somewh...</td>\n",
       "      <td>neg</td>\n",
       "    </tr>\n",
       "  </tbody>\n",
       "</table>\n",
       "</div>"
      ],
      "text/plain": [
       "    Unnamed: 0                                            reviews sentiment\n",
       "0      0_2.txt  mr costner dragged movie far longer necessary ...       neg\n",
       "1  10000_4.txt  example majority action film generic boring 's...       neg\n",
       "2  10001_1.txt  first hate moronic rapper could'nt act gun pre...       neg\n",
       "3  10002_3.txt  even beatles could write song everyone liked a...       neg\n",
       "4  10003_3.txt  brass picture movie fitting word really somewh...       neg"
      ]
     },
     "execution_count": 66,
     "metadata": {},
     "output_type": "execute_result"
    }
   ],
   "source": [
    "imdb_set = pd.read_csv('./imdb_set.csv')\n",
    "imdb_set.head()"
   ]
  },
  {
   "cell_type": "code",
   "execution_count": 67,
   "metadata": {
    "collapsed": true
   },
   "outputs": [],
   "source": [
    "# Create train/test split on IMDB daata\n",
    "\n",
    "_, itest = train_test_split(range(imdb_set.shape[0]), train_size=0.7)\n",
    "#mask = np.zeros(critics.shape[0], dtype=np.bool)\n",
    "#mask[itest] = True\n",
    "mask_imdb = np.ones(imdb_set.shape[0], dtype=np.bool)\n",
    "mask_imdb[itest] = False"
   ]
  },
  {
   "cell_type": "markdown",
   "metadata": {},
   "source": [
    "# 7. Word2Vec training"
   ]
  },
  {
   "cell_type": "code",
   "execution_count": 68,
   "metadata": {
    "collapsed": false
   },
   "outputs": [],
   "source": [
    "sentences = W2V_LabeledLineSentence(train_set.reviews)\n",
    "sentences_nolabel = sentences.to_array_nolabel()\n",
    "\n",
    "sentences_rt = W2V_LabeledLineSentence(rt_set.reviews)\n",
    "sentences_rt_nolabel = sentences_rt.to_array_nolabel()\n",
    "\n",
    "sentences_imdb = W2V_LabeledLineSentence(imdb_set.reviews)\n",
    "sentences_imdb_nolabel = sentences_imdb.to_array_nolabel()"
   ]
  },
  {
   "cell_type": "code",
   "execution_count": 69,
   "metadata": {
    "collapsed": false
   },
   "outputs": [],
   "source": [
    "num_features = 200    # Word vector dimensionality                      \n",
    "#min_word_count = 15   # Minimum word count                        \n",
    "num_workers = 12       # Number of threads to run in parallel\n",
    "#context = 15          # Context window size                                                                                    \n",
    "#downsampling = 1e-3   # Downsample setting for frequent words\n",
    "#negative_samp = 10\n",
    "iterations = 100\n",
    "\n",
    "min_word_count=5\n",
    "context=10\n",
    "downsampling=1e-2\n",
    "negative_samp=5"
   ]
  },
  {
   "cell_type": "code",
   "execution_count": 70,
   "metadata": {
    "collapsed": false,
    "scrolled": false
   },
   "outputs": [
    {
     "name": "stderr",
     "output_type": "stream",
     "text": [
      "2017-05-28 21:04:25,052 : INFO : collecting all words and their counts\n",
      "2017-05-28 21:04:25,055 : INFO : PROGRESS: at sentence #0, processed 0 words, keeping 0 word types\n",
      "2017-05-28 21:04:25,181 : INFO : PROGRESS: at sentence #10000, processed 770406 words, keeping 47160 word types\n",
      "2017-05-28 21:04:25,303 : INFO : PROGRESS: at sentence #20000, processed 1557918 words, keeping 68021 word types\n",
      "2017-05-28 21:04:25,408 : INFO : PROGRESS: at sentence #30000, processed 2344537 words, keeping 84126 word types\n",
      "2017-05-28 21:04:25,532 : INFO : PROGRESS: at sentence #40000, processed 3133514 words, keeping 98206 word types\n",
      "2017-05-28 21:04:25,543 : INFO : collected 99008 word types from a corpus of 3176855 raw words and 40561 sentences\n",
      "2017-05-28 21:04:25,545 : INFO : Loading a fresh vocabulary\n",
      "2017-05-28 21:04:25,858 : INFO : min_count=5 retains 27956 unique words (28% of original 99008, drops 71052)\n",
      "2017-05-28 21:04:25,858 : INFO : min_count=5 leaves 3072445 word corpus (96% of original 3176855, drops 104410)\n",
      "2017-05-28 21:04:25,921 : INFO : deleting the raw counts dictionary of 99008 items\n",
      "2017-05-28 21:04:25,926 : INFO : sample=0.01 downsamples 0 most-common words\n",
      "2017-05-28 21:04:25,927 : INFO : downsampling leaves estimated 3072445 word corpus (100.0% of prior 3072445)\n",
      "2017-05-28 21:04:25,930 : INFO : estimated required memory for 27956 words and 200 dimensions: 58707600 bytes\n",
      "2017-05-28 21:04:26,006 : INFO : resetting layer weights\n",
      "2017-05-28 21:04:26,331 : INFO : training model with 12 workers on 27956 vocabulary and 200 features, using sg=0 hs=0 sample=0.01 negative=5 window=10\n",
      "2017-05-28 21:04:26,332 : INFO : expecting 40561 sentences, matching count from corpus used for vocabulary survey\n",
      "2017-05-28 21:04:27,351 : INFO : PROGRESS: at 0.58% examples, 1767149 words/s, in_qsize 0, out_qsize 4\n",
      "2017-05-28 21:04:28,358 : INFO : PROGRESS: at 1.22% examples, 1837369 words/s, in_qsize 0, out_qsize 3\n",
      "2017-05-28 21:04:29,374 : INFO : PROGRESS: at 1.77% examples, 1793120 words/s, in_qsize 0, out_qsize 3\n",
      "2017-05-28 21:04:30,392 : INFO : PROGRESS: at 2.36% examples, 1786943 words/s, in_qsize 0, out_qsize 0\n",
      "2017-05-28 21:04:31,401 : INFO : PROGRESS: at 2.91% examples, 1760007 words/s, in_qsize 0, out_qsize 2\n",
      "2017-05-28 21:04:32,411 : INFO : PROGRESS: at 3.51% examples, 1773866 words/s, in_qsize 0, out_qsize 1\n",
      "2017-05-28 21:04:33,407 : INFO : PROGRESS: at 4.05% examples, 1754728 words/s, in_qsize 0, out_qsize 2\n",
      "2017-05-28 21:04:34,426 : INFO : PROGRESS: at 4.62% examples, 1753850 words/s, in_qsize 0, out_qsize 3\n",
      "2017-05-28 21:04:35,437 : INFO : PROGRESS: at 5.24% examples, 1767394 words/s, in_qsize 0, out_qsize 0\n",
      "2017-05-28 21:04:36,470 : INFO : PROGRESS: at 5.83% examples, 1769924 words/s, in_qsize 0, out_qsize 0\n",
      "2017-05-28 21:04:37,493 : INFO : PROGRESS: at 6.38% examples, 1757122 words/s, in_qsize 0, out_qsize 4\n",
      "2017-05-28 21:04:38,528 : INFO : PROGRESS: at 6.96% examples, 1757920 words/s, in_qsize 0, out_qsize 0\n",
      "2017-05-28 21:04:39,513 : INFO : PROGRESS: at 7.54% examples, 1755740 words/s, in_qsize 0, out_qsize 0\n",
      "2017-05-28 21:04:40,559 : INFO : PROGRESS: at 8.13% examples, 1756018 words/s, in_qsize 0, out_qsize 4\n",
      "2017-05-28 21:04:41,559 : INFO : PROGRESS: at 8.69% examples, 1752713 words/s, in_qsize 0, out_qsize 0\n",
      "2017-05-28 21:04:42,591 : INFO : PROGRESS: at 9.26% examples, 1749171 words/s, in_qsize 0, out_qsize 1\n",
      "2017-05-28 21:04:43,601 : INFO : PROGRESS: at 9.86% examples, 1752557 words/s, in_qsize 0, out_qsize 4\n",
      "2017-05-28 21:04:44,615 : INFO : PROGRESS: at 10.49% examples, 1761381 words/s, in_qsize 0, out_qsize 4\n",
      "2017-05-28 21:04:45,618 : INFO : PROGRESS: at 11.09% examples, 1766176 words/s, in_qsize 0, out_qsize 1\n",
      "2017-05-28 21:04:46,650 : INFO : PROGRESS: at 11.66% examples, 1762731 words/s, in_qsize 0, out_qsize 1\n",
      "2017-05-28 21:04:47,647 : INFO : PROGRESS: at 12.31% examples, 1773036 words/s, in_qsize 0, out_qsize 0\n",
      "2017-05-28 21:04:48,681 : INFO : PROGRESS: at 12.96% examples, 1781862 words/s, in_qsize 0, out_qsize 4\n",
      "2017-05-28 21:04:49,683 : INFO : PROGRESS: at 13.56% examples, 1783407 words/s, in_qsize 0, out_qsize 5\n",
      "2017-05-28 21:04:50,686 : INFO : PROGRESS: at 14.16% examples, 1786007 words/s, in_qsize 0, out_qsize 0\n",
      "2017-05-28 21:04:51,716 : INFO : PROGRESS: at 14.77% examples, 1787864 words/s, in_qsize 0, out_qsize 5\n",
      "2017-05-28 21:04:52,726 : INFO : PROGRESS: at 15.38% examples, 1790465 words/s, in_qsize 0, out_qsize 1\n",
      "2017-05-28 21:04:53,733 : INFO : PROGRESS: at 15.96% examples, 1788954 words/s, in_qsize 0, out_qsize 1\n",
      "2017-05-28 21:04:54,750 : INFO : PROGRESS: at 16.53% examples, 1787369 words/s, in_qsize 0, out_qsize 4\n",
      "2017-05-28 21:04:55,753 : INFO : PROGRESS: at 17.14% examples, 1789672 words/s, in_qsize 0, out_qsize 0\n",
      "2017-05-28 21:04:56,773 : INFO : PROGRESS: at 17.76% examples, 1791923 words/s, in_qsize 0, out_qsize 0\n",
      "2017-05-28 21:04:57,805 : INFO : PROGRESS: at 18.41% examples, 1797160 words/s, in_qsize 0, out_qsize 4\n",
      "2017-05-28 21:04:58,832 : INFO : PROGRESS: at 19.03% examples, 1798267 words/s, in_qsize 0, out_qsize 6\n",
      "2017-05-28 21:04:59,848 : INFO : PROGRESS: at 19.70% examples, 1805602 words/s, in_qsize 0, out_qsize 0\n",
      "2017-05-28 21:05:00,867 : INFO : PROGRESS: at 20.32% examples, 1807430 words/s, in_qsize 0, out_qsize 2\n",
      "2017-05-28 21:05:01,884 : INFO : PROGRESS: at 20.94% examples, 1809579 words/s, in_qsize 0, out_qsize 1\n",
      "2017-05-28 21:05:02,884 : INFO : PROGRESS: at 21.51% examples, 1807963 words/s, in_qsize 0, out_qsize 1\n",
      "2017-05-28 21:05:03,887 : INFO : PROGRESS: at 22.14% examples, 1811024 words/s, in_qsize 0, out_qsize 1\n",
      "2017-05-28 21:05:04,894 : INFO : PROGRESS: at 22.73% examples, 1811032 words/s, in_qsize 0, out_qsize 2\n",
      "2017-05-28 21:05:05,933 : INFO : PROGRESS: at 23.37% examples, 1812736 words/s, in_qsize 0, out_qsize 0\n",
      "2017-05-28 21:05:06,936 : INFO : PROGRESS: at 23.99% examples, 1815241 words/s, in_qsize 0, out_qsize 4\n",
      "2017-05-28 21:05:07,966 : INFO : PROGRESS: at 24.62% examples, 1817170 words/s, in_qsize 0, out_qsize 2\n",
      "2017-05-28 21:05:08,976 : INFO : PROGRESS: at 25.22% examples, 1816443 words/s, in_qsize 0, out_qsize 4\n",
      "2017-05-28 21:05:10,012 : INFO : PROGRESS: at 25.82% examples, 1815574 words/s, in_qsize 0, out_qsize 4\n",
      "2017-05-28 21:05:11,023 : INFO : PROGRESS: at 26.47% examples, 1819857 words/s, in_qsize 0, out_qsize 0\n",
      "2017-05-28 21:05:12,065 : INFO : PROGRESS: at 27.08% examples, 1819705 words/s, in_qsize 0, out_qsize 6\n",
      "2017-05-28 21:05:13,068 : INFO : PROGRESS: at 27.67% examples, 1819237 words/s, in_qsize 0, out_qsize 4\n",
      "2017-05-28 21:05:14,084 : INFO : PROGRESS: at 28.33% examples, 1822612 words/s, in_qsize 1, out_qsize 2\n",
      "2017-05-28 21:05:15,085 : INFO : PROGRESS: at 28.89% examples, 1820312 words/s, in_qsize 0, out_qsize 4\n",
      "2017-05-28 21:05:16,099 : INFO : PROGRESS: at 29.45% examples, 1818442 words/s, in_qsize 0, out_qsize 6\n",
      "2017-05-28 21:05:17,101 : INFO : PROGRESS: at 30.06% examples, 1819404 words/s, in_qsize 0, out_qsize 2\n",
      "2017-05-28 21:05:18,101 : INFO : PROGRESS: at 30.70% examples, 1821875 words/s, in_qsize 0, out_qsize 0\n",
      "2017-05-28 21:05:19,118 : INFO : PROGRESS: at 31.28% examples, 1820518 words/s, in_qsize 1, out_qsize 4\n",
      "2017-05-28 21:05:20,137 : INFO : PROGRESS: at 31.92% examples, 1822368 words/s, in_qsize 0, out_qsize 2\n",
      "2017-05-28 21:05:21,150 : INFO : PROGRESS: at 32.51% examples, 1821589 words/s, in_qsize 0, out_qsize 4\n",
      "2017-05-28 21:05:22,171 : INFO : PROGRESS: at 33.15% examples, 1824360 words/s, in_qsize 0, out_qsize 5\n",
      "2017-05-28 21:05:23,183 : INFO : PROGRESS: at 33.81% examples, 1827020 words/s, in_qsize 0, out_qsize 3\n",
      "2017-05-28 21:05:24,200 : INFO : PROGRESS: at 34.42% examples, 1827319 words/s, in_qsize 0, out_qsize 0\n",
      "2017-05-28 21:05:25,214 : INFO : PROGRESS: at 35.01% examples, 1826800 words/s, in_qsize 0, out_qsize 1\n",
      "2017-05-28 21:05:26,203 : INFO : PROGRESS: at 35.61% examples, 1826960 words/s, in_qsize 0, out_qsize 0\n",
      "2017-05-28 21:05:27,219 : INFO : PROGRESS: at 36.21% examples, 1826938 words/s, in_qsize 0, out_qsize 5\n",
      "2017-05-28 21:05:28,210 : INFO : PROGRESS: at 36.82% examples, 1827813 words/s, in_qsize 0, out_qsize 1\n",
      "2017-05-28 21:05:29,226 : INFO : PROGRESS: at 37.41% examples, 1827778 words/s, in_qsize 0, out_qsize 3\n",
      "2017-05-28 21:05:30,226 : INFO : PROGRESS: at 38.03% examples, 1828716 words/s, in_qsize 0, out_qsize 0\n",
      "2017-05-28 21:05:31,250 : INFO : PROGRESS: at 38.62% examples, 1827825 words/s, in_qsize 0, out_qsize 5\n",
      "2017-05-28 21:05:32,243 : INFO : PROGRESS: at 39.22% examples, 1827891 words/s, in_qsize 0, out_qsize 4\n",
      "2017-05-28 21:05:33,250 : INFO : PROGRESS: at 39.84% examples, 1829201 words/s, in_qsize 0, out_qsize 0\n",
      "2017-05-28 21:05:34,282 : INFO : PROGRESS: at 40.45% examples, 1828825 words/s, in_qsize 0, out_qsize 1\n",
      "2017-05-28 21:05:35,288 : INFO : PROGRESS: at 41.05% examples, 1829095 words/s, in_qsize 0, out_qsize 1\n",
      "2017-05-28 21:05:36,302 : INFO : PROGRESS: at 41.67% examples, 1829598 words/s, in_qsize 0, out_qsize 0\n",
      "2017-05-28 21:05:37,303 : INFO : PROGRESS: at 42.26% examples, 1829248 words/s, in_qsize 0, out_qsize 0\n",
      "2017-05-28 21:05:38,322 : INFO : PROGRESS: at 42.86% examples, 1829213 words/s, in_qsize 0, out_qsize 4\n",
      "2017-05-28 21:05:39,335 : INFO : PROGRESS: at 43.49% examples, 1830308 words/s, in_qsize 0, out_qsize 5\n",
      "2017-05-28 21:05:40,339 : INFO : PROGRESS: at 44.12% examples, 1831737 words/s, in_qsize 0, out_qsize 0\n",
      "2017-05-28 21:05:41,349 : INFO : PROGRESS: at 44.74% examples, 1832285 words/s, in_qsize 0, out_qsize 5\n",
      "2017-05-28 21:05:42,342 : INFO : PROGRESS: at 45.39% examples, 1834664 words/s, in_qsize 0, out_qsize 0\n",
      "2017-05-28 21:05:43,351 : INFO : PROGRESS: at 45.94% examples, 1832171 words/s, in_qsize 0, out_qsize 3\n",
      "2017-05-28 21:05:44,407 : INFO : PROGRESS: at 46.57% examples, 1832492 words/s, in_qsize 0, out_qsize 5\n",
      "2017-05-28 21:05:45,418 : INFO : PROGRESS: at 47.16% examples, 1832085 words/s, in_qsize 0, out_qsize 5\n",
      "2017-05-28 21:05:46,444 : INFO : PROGRESS: at 47.76% examples, 1831655 words/s, in_qsize 0, out_qsize 3\n",
      "2017-05-28 21:05:47,466 : INFO : PROGRESS: at 48.37% examples, 1831561 words/s, in_qsize 0, out_qsize 5\n",
      "2017-05-28 21:05:48,486 : INFO : PROGRESS: at 49.01% examples, 1833130 words/s, in_qsize 0, out_qsize 0\n",
      "2017-05-28 21:05:49,484 : INFO : PROGRESS: at 49.65% examples, 1834549 words/s, in_qsize 0, out_qsize 0\n",
      "2017-05-28 21:05:50,505 : INFO : PROGRESS: at 50.29% examples, 1835230 words/s, in_qsize 1, out_qsize 5\n",
      "2017-05-28 21:05:51,517 : INFO : PROGRESS: at 50.88% examples, 1835058 words/s, in_qsize 0, out_qsize 0\n",
      "2017-05-28 21:05:52,533 : INFO : PROGRESS: at 51.50% examples, 1835601 words/s, in_qsize 0, out_qsize 2\n",
      "2017-05-28 21:05:53,536 : INFO : PROGRESS: at 52.14% examples, 1837043 words/s, in_qsize 0, out_qsize 1\n",
      "2017-05-28 21:05:54,552 : INFO : PROGRESS: at 52.74% examples, 1836551 words/s, in_qsize 0, out_qsize 3\n",
      "2017-05-28 21:05:55,585 : INFO : PROGRESS: at 53.37% examples, 1837052 words/s, in_qsize 0, out_qsize 0\n",
      "2017-05-28 21:05:56,601 : INFO : PROGRESS: at 53.96% examples, 1836491 words/s, in_qsize 0, out_qsize 4\n",
      "2017-05-28 21:05:57,632 : INFO : PROGRESS: at 54.57% examples, 1836534 words/s, in_qsize 0, out_qsize 3\n",
      "2017-05-28 21:05:58,651 : INFO : PROGRESS: at 55.23% examples, 1837985 words/s, in_qsize 0, out_qsize 4\n",
      "2017-05-28 21:05:59,651 : INFO : PROGRESS: at 55.83% examples, 1837892 words/s, in_qsize 0, out_qsize 1\n",
      "2017-05-28 21:06:00,684 : INFO : PROGRESS: at 56.43% examples, 1837665 words/s, in_qsize 0, out_qsize 3\n",
      "2017-05-28 21:06:01,700 : INFO : PROGRESS: at 57.07% examples, 1838706 words/s, in_qsize 0, out_qsize 0\n",
      "2017-05-28 21:06:02,700 : INFO : PROGRESS: at 57.69% examples, 1839020 words/s, in_qsize 0, out_qsize 0\n",
      "2017-05-28 21:06:03,717 : INFO : PROGRESS: at 58.31% examples, 1839543 words/s, in_qsize 0, out_qsize 0\n",
      "2017-05-28 21:06:04,766 : INFO : PROGRESS: at 58.90% examples, 1838502 words/s, in_qsize 0, out_qsize 0\n",
      "2017-05-28 21:06:05,786 : INFO : PROGRESS: at 59.52% examples, 1838678 words/s, in_qsize 0, out_qsize 2\n",
      "2017-05-28 21:06:06,802 : INFO : PROGRESS: at 60.13% examples, 1838929 words/s, in_qsize 0, out_qsize 0\n",
      "2017-05-28 21:06:07,802 : INFO : PROGRESS: at 60.76% examples, 1839588 words/s, in_qsize 0, out_qsize 2\n",
      "2017-05-28 21:06:08,802 : INFO : PROGRESS: at 61.35% examples, 1839301 words/s, in_qsize 0, out_qsize 4\n",
      "2017-05-28 21:06:09,832 : INFO : PROGRESS: at 61.99% examples, 1840146 words/s, in_qsize 0, out_qsize 1\n",
      "2017-05-28 21:06:10,835 : INFO : PROGRESS: at 62.57% examples, 1839265 words/s, in_qsize 0, out_qsize 0\n",
      "2017-05-28 21:06:11,851 : INFO : PROGRESS: at 63.21% examples, 1840627 words/s, in_qsize 0, out_qsize 2\n",
      "2017-05-28 21:06:12,857 : INFO : PROGRESS: at 63.83% examples, 1840883 words/s, in_qsize 0, out_qsize 0\n",
      "2017-05-28 21:06:13,898 : INFO : PROGRESS: at 64.46% examples, 1841219 words/s, in_qsize 0, out_qsize 5\n",
      "2017-05-28 21:06:14,901 : INFO : PROGRESS: at 65.11% examples, 1842312 words/s, in_qsize 0, out_qsize 0\n",
      "2017-05-28 21:06:15,907 : INFO : PROGRESS: at 65.68% examples, 1841666 words/s, in_qsize 0, out_qsize 4\n",
      "2017-05-28 21:06:16,915 : INFO : PROGRESS: at 66.28% examples, 1841192 words/s, in_qsize 0, out_qsize 3\n",
      "2017-05-28 21:06:17,951 : INFO : PROGRESS: at 66.86% examples, 1840458 words/s, in_qsize 19, out_qsize 7\n",
      "2017-05-28 21:06:18,956 : INFO : PROGRESS: at 67.45% examples, 1840171 words/s, in_qsize 0, out_qsize 0\n",
      "2017-05-28 21:06:19,943 : INFO : PROGRESS: at 68.08% examples, 1840919 words/s, in_qsize 0, out_qsize 0\n",
      "2017-05-28 21:06:20,969 : INFO : PROGRESS: at 68.70% examples, 1841110 words/s, in_qsize 0, out_qsize 0\n",
      "2017-05-28 21:06:21,986 : INFO : PROGRESS: at 69.32% examples, 1841690 words/s, in_qsize 0, out_qsize 2\n",
      "2017-05-28 21:06:22,989 : INFO : PROGRESS: at 69.94% examples, 1841909 words/s, in_qsize 0, out_qsize 4\n",
      "2017-05-28 21:06:24,002 : INFO : PROGRESS: at 70.57% examples, 1842571 words/s, in_qsize 0, out_qsize 1\n",
      "2017-05-28 21:06:25,005 : INFO : PROGRESS: at 71.18% examples, 1842616 words/s, in_qsize 0, out_qsize 0\n",
      "2017-05-28 21:06:26,036 : INFO : PROGRESS: at 71.81% examples, 1843030 words/s, in_qsize 0, out_qsize 1\n",
      "2017-05-28 21:06:27,051 : INFO : PROGRESS: at 72.46% examples, 1844090 words/s, in_qsize 0, out_qsize 3\n",
      "2017-05-28 21:06:28,069 : INFO : PROGRESS: at 73.09% examples, 1844601 words/s, in_qsize 0, out_qsize 0\n",
      "2017-05-28 21:06:29,069 : INFO : PROGRESS: at 73.69% examples, 1844720 words/s, in_qsize 0, out_qsize 3\n",
      "2017-05-28 21:06:30,086 : INFO : PROGRESS: at 74.32% examples, 1845013 words/s, in_qsize 0, out_qsize 0\n",
      "2017-05-28 21:06:31,092 : INFO : PROGRESS: at 74.93% examples, 1845132 words/s, in_qsize 0, out_qsize 0\n",
      "2017-05-28 21:06:32,108 : INFO : PROGRESS: at 75.54% examples, 1845324 words/s, in_qsize 0, out_qsize 3\n",
      "2017-05-28 21:06:33,134 : INFO : PROGRESS: at 76.15% examples, 1845036 words/s, in_qsize 0, out_qsize 1\n",
      "2017-05-28 21:06:34,135 : INFO : PROGRESS: at 76.71% examples, 1844225 words/s, in_qsize 0, out_qsize 1\n",
      "2017-05-28 21:06:35,137 : INFO : PROGRESS: at 77.34% examples, 1844864 words/s, in_qsize 0, out_qsize 0\n",
      "2017-05-28 21:06:36,151 : INFO : PROGRESS: at 77.92% examples, 1843993 words/s, in_qsize 0, out_qsize 6\n",
      "2017-05-28 21:06:37,154 : INFO : PROGRESS: at 78.55% examples, 1844494 words/s, in_qsize 0, out_qsize 0\n",
      "2017-05-28 21:06:38,181 : INFO : PROGRESS: at 79.15% examples, 1844434 words/s, in_qsize 0, out_qsize 3\n",
      "2017-05-28 21:06:39,168 : INFO : PROGRESS: at 79.80% examples, 1845603 words/s, in_qsize 0, out_qsize 2\n",
      "2017-05-28 21:06:40,184 : INFO : PROGRESS: at 80.44% examples, 1846487 words/s, in_qsize 0, out_qsize 4\n",
      "2017-05-28 21:06:41,183 : INFO : PROGRESS: at 81.11% examples, 1847902 words/s, in_qsize 0, out_qsize 0\n",
      "2017-05-28 21:06:42,184 : INFO : PROGRESS: at 81.69% examples, 1847296 words/s, in_qsize 0, out_qsize 0\n",
      "2017-05-28 21:06:43,229 : INFO : PROGRESS: at 82.29% examples, 1846824 words/s, in_qsize 0, out_qsize 3\n",
      "2017-05-28 21:06:44,253 : INFO : PROGRESS: at 82.90% examples, 1846746 words/s, in_qsize 0, out_qsize 2\n",
      "2017-05-28 21:06:45,253 : INFO : PROGRESS: at 83.53% examples, 1847252 words/s, in_qsize 0, out_qsize 0\n",
      "2017-05-28 21:06:46,312 : INFO : PROGRESS: at 84.16% examples, 1847195 words/s, in_qsize 0, out_qsize 2\n",
      "2017-05-28 21:06:47,319 : INFO : PROGRESS: at 84.80% examples, 1847838 words/s, in_qsize 0, out_qsize 4\n",
      "2017-05-28 21:06:48,338 : INFO : PROGRESS: at 85.44% examples, 1848484 words/s, in_qsize 0, out_qsize 4\n",
      "2017-05-28 21:06:49,342 : INFO : PROGRESS: at 86.01% examples, 1848009 words/s, in_qsize 0, out_qsize 3\n",
      "2017-05-28 21:06:50,332 : INFO : PROGRESS: at 86.64% examples, 1848536 words/s, in_qsize 0, out_qsize 0\n",
      "2017-05-28 21:06:51,378 : INFO : PROGRESS: at 87.25% examples, 1848163 words/s, in_qsize 0, out_qsize 2\n",
      "2017-05-28 21:06:52,385 : INFO : PROGRESS: at 87.87% examples, 1848470 words/s, in_qsize 0, out_qsize 0\n",
      "2017-05-28 21:06:53,401 : INFO : PROGRESS: at 88.48% examples, 1848452 words/s, in_qsize 0, out_qsize 0\n",
      "2017-05-28 21:06:54,403 : INFO : PROGRESS: at 89.10% examples, 1848719 words/s, in_qsize 0, out_qsize 3\n",
      "2017-05-28 21:06:55,405 : INFO : PROGRESS: at 89.75% examples, 1849604 words/s, in_qsize 0, out_qsize 0\n",
      "2017-05-28 21:06:56,403 : INFO : PROGRESS: at 90.40% examples, 1850618 words/s, in_qsize 0, out_qsize 1\n",
      "2017-05-28 21:06:57,434 : INFO : PROGRESS: at 91.04% examples, 1851450 words/s, in_qsize 0, out_qsize 0\n",
      "2017-05-28 21:06:58,414 : INFO : PROGRESS: at 91.65% examples, 1851581 words/s, in_qsize 0, out_qsize 1\n",
      "2017-05-28 21:06:59,418 : INFO : PROGRESS: at 92.26% examples, 1851569 words/s, in_qsize 0, out_qsize 0\n",
      "2017-05-28 21:07:00,437 : INFO : PROGRESS: at 92.84% examples, 1850835 words/s, in_qsize 0, out_qsize 0\n",
      "2017-05-28 21:07:01,454 : INFO : PROGRESS: at 93.46% examples, 1851218 words/s, in_qsize 0, out_qsize 2\n",
      "2017-05-28 21:07:02,454 : INFO : PROGRESS: at 94.08% examples, 1851458 words/s, in_qsize 0, out_qsize 0\n",
      "2017-05-28 21:07:03,467 : INFO : PROGRESS: at 94.69% examples, 1851446 words/s, in_qsize 0, out_qsize 7\n",
      "2017-05-28 21:07:04,484 : INFO : PROGRESS: at 95.34% examples, 1852135 words/s, in_qsize 0, out_qsize 1\n",
      "2017-05-28 21:07:05,487 : INFO : PROGRESS: at 95.96% examples, 1852513 words/s, in_qsize 0, out_qsize 1\n",
      "2017-05-28 21:07:06,487 : INFO : PROGRESS: at 96.59% examples, 1853091 words/s, in_qsize 0, out_qsize 0\n",
      "2017-05-28 21:07:07,486 : INFO : PROGRESS: at 97.18% examples, 1852704 words/s, in_qsize 0, out_qsize 3\n",
      "2017-05-28 21:07:08,503 : INFO : PROGRESS: at 97.82% examples, 1853151 words/s, in_qsize 0, out_qsize 1\n",
      "2017-05-28 21:07:09,517 : INFO : PROGRESS: at 98.44% examples, 1853293 words/s, in_qsize 0, out_qsize 1\n",
      "2017-05-28 21:07:10,525 : INFO : PROGRESS: at 99.05% examples, 1853498 words/s, in_qsize 0, out_qsize 1\n",
      "2017-05-28 21:07:11,552 : INFO : PROGRESS: at 99.67% examples, 1853343 words/s, in_qsize 0, out_qsize 1\n",
      "2017-05-28 21:07:12,039 : INFO : worker thread finished; awaiting finish of 11 more threads\n",
      "2017-05-28 21:07:12,039 : INFO : worker thread finished; awaiting finish of 10 more threads\n",
      "2017-05-28 21:07:12,039 : INFO : worker thread finished; awaiting finish of 9 more threads\n",
      "2017-05-28 21:07:12,078 : INFO : worker thread finished; awaiting finish of 8 more threads\n",
      "2017-05-28 21:07:12,079 : INFO : worker thread finished; awaiting finish of 7 more threads\n",
      "2017-05-28 21:07:12,085 : INFO : worker thread finished; awaiting finish of 6 more threads\n",
      "2017-05-28 21:07:12,085 : INFO : worker thread finished; awaiting finish of 5 more threads\n",
      "2017-05-28 21:07:12,086 : INFO : worker thread finished; awaiting finish of 4 more threads\n",
      "2017-05-28 21:07:12,088 : INFO : worker thread finished; awaiting finish of 3 more threads\n",
      "2017-05-28 21:07:12,089 : INFO : worker thread finished; awaiting finish of 2 more threads\n",
      "2017-05-28 21:07:12,091 : INFO : worker thread finished; awaiting finish of 1 more threads\n",
      "2017-05-28 21:07:12,092 : INFO : worker thread finished; awaiting finish of 0 more threads\n",
      "2017-05-28 21:07:12,094 : INFO : training on 317685500 raw words (307244500 effective words) took 165.8s, 1853587 effective words/s\n"
     ]
    }
   ],
   "source": [
    "model_w = Word2Vec(sentences.sentences_perm(), workers=num_workers, size=num_features, sg=0, iter=iterations,\n",
    "                            min_count = min_word_count, window = context, sample = downsampling, negative = negative_samp)"
   ]
  },
  {
   "cell_type": "code",
   "execution_count": 71,
   "metadata": {
    "collapsed": false
   },
   "outputs": [
    {
     "name": "stderr",
     "output_type": "stream",
     "text": [
      "2017-05-28 21:07:12,099 : INFO : precomputing L2-norms of word weight vectors\n"
     ]
    },
    {
     "data": {
      "text/plain": [
       "[('worse', 0.5235707759857178),\n",
       " ('good', 0.43265101313591003),\n",
       " ('decent', 0.4053780138492584),\n",
       " ('best', 0.39731365442276),\n",
       " ('well', 0.38289302587509155),\n",
       " ('think', 0.37446045875549316),\n",
       " ('improved', 0.3729674220085144),\n",
       " ('expect', 0.37201350927352905),\n",
       " ('like', 0.3713972568511963),\n",
       " ('le', 0.3612131178379059)]"
      ]
     },
     "execution_count": 71,
     "metadata": {},
     "output_type": "execute_result"
    }
   ],
   "source": [
    "model_w.most_similar(\"better\")"
   ]
  },
  {
   "cell_type": "code",
   "execution_count": 72,
   "metadata": {
    "collapsed": false
   },
   "outputs": [
    {
     "data": {
      "text/plain": [
       "[('mean', 0.29219746589660645),\n",
       " ('begging', 0.2907603979110718),\n",
       " ('stank', 0.28159573674201965),\n",
       " ('cuz', 0.27837711572647095),\n",
       " ('asks', 0.26668640971183777),\n",
       " ('need', 0.2583751678466797),\n",
       " ('want', 0.25437304377555847),\n",
       " ('plateau', 0.24520692229270935),\n",
       " ('rajasthan', 0.24316474795341492),\n",
       " ('idiosyncratic', 0.2407030612230301)]"
      ]
     },
     "execution_count": 72,
     "metadata": {},
     "output_type": "execute_result"
    }
   ],
   "source": [
    "model_w.most_similar(\"is\")"
   ]
  },
  {
   "cell_type": "code",
   "execution_count": 73,
   "metadata": {
    "collapsed": false
   },
   "outputs": [],
   "source": [
    "w2v_vectorizer = TfidfVectorizer(min_df=min_word_count, analyzer=\"word\", token_pattern=\"\\S+\", stop_words=\"english\")\n",
    "w2v_weights = w2v_vectorizer.fit_transform(map(lambda x: str(x), train_set.reviews))"
   ]
  },
  {
   "cell_type": "code",
   "execution_count": 74,
   "metadata": {
    "collapsed": false
   },
   "outputs": [
    {
     "name": "stdout",
     "output_type": "stream",
     "text": [
      "Accuracy on training data: 0.772126\n",
      "Accuracy on test data:     0.761405\n"
     ]
    }
   ],
   "source": [
    "# Build RT review vectors and logistric regression based predictive model, test on RT data\n",
    "y = (rt_set.sentiment == 'pos').values.astype(np.int)\n",
    "\n",
    "X = np.zeros((len(mask), num_features))\n",
    "\n",
    "for i in range(len(mask)):\n",
    "    print '{0}\\r'.format(i),\n",
    "    for item in sentences_rt_nolabel[i]:\n",
    "        if item in model_w.wv.vocab and item in w2v_vectorizer.vocabulary_:\n",
    "            find_index = w2v_vectorizer.vocabulary_[item]\n",
    "            find_weight = w2v_vectorizer.idf_[find_index]\n",
    "            X[i] = X[i] + model_w[item]*find_weight\n",
    "\n",
    "X = MinMaxScaler().fit_transform(X)\n",
    "    \n",
    "clf = LogisticRegression().fit(X[mask], y[mask])\n",
    "\n",
    "training_accuracy = clf.score(X[mask], y[mask])\n",
    "test_accuracy = clf.score(X[~mask], y[~mask])\n",
    "\n",
    "print(\"Accuracy on training data: {:2f}\".format(training_accuracy))\n",
    "print(\"Accuracy on test data:     {:2f}\".format(test_accuracy))"
   ]
  },
  {
   "cell_type": "code",
   "execution_count": 75,
   "metadata": {
    "collapsed": false
   },
   "outputs": [
    {
     "name": "stdout",
     "output_type": "stream",
     "text": [
      "15560\r"
     ]
    }
   ],
   "source": [
    "# Build IMDB review vectors and logistric regression based predictive model, test on RT data\n",
    "y = (imdb_set.sentiment == 'pos').values.astype(np.int)\n",
    "\n",
    "X = np.zeros((len(mask_imdb), num_features))\n",
    "\n",
    "for i in range(len(mask)):\n",
    "    print '{0}\\r'.format(i),\n",
    "    for item in sentences_imdb_nolabel[i]:\n",
    "        if item in model_w.wv.vocab and item in w2v_vectorizer.vocabulary_:\n",
    "            find_index = w2v_vectorizer.vocabulary_[item]\n",
    "            find_weight = w2v_vectorizer.idf_[find_index]\n",
    "            X[i] = X[i] + model_w[item]*find_weight\n",
    "\n",
    "X = MinMaxScaler().fit_transform(X)"
   ]
  },
  {
   "cell_type": "code",
   "execution_count": 76,
   "metadata": {
    "collapsed": false
   },
   "outputs": [
    {
     "name": "stdout",
     "output_type": "stream",
     "text": [
      "Accuracy on training data: 0.915429\n",
      "Accuracy on test data:     0.909333\n"
     ]
    }
   ],
   "source": [
    "clf = LogisticRegression().fit(X[mask_imdb], y[mask_imdb])\n",
    "\n",
    "training_accuracy = clf.score(X[mask_imdb], y[mask_imdb])\n",
    "test_accuracy = clf.score(X[~mask_imdb], y[~mask_imdb])\n",
    "\n",
    "print(\"Accuracy on training data: {:2f}\".format(training_accuracy))\n",
    "print(\"Accuracy on test data:     {:2f}\".format(test_accuracy))"
   ]
  },
  {
   "cell_type": "markdown",
   "metadata": {},
   "source": [
    "# Test N-gram Vectorizer on IMDB data set"
   ]
  },
  {
   "cell_type": "code",
   "execution_count": 77,
   "metadata": {
    "collapsed": true
   },
   "outputs": [],
   "source": [
    "def make_xy_n_imdb(imdb, vectorizer=None, n_gram=(1, 1), min_df=5, tokenizer=None):\n",
    "    #Your code here    \n",
    "    if vectorizer is None:\n",
    "        vectorizer = CountVectorizer(min_df=min_df, ngram_range=n_gram, tokenizer=tokenizer)\n",
    "    X = vectorizer.fit_transform(imdb.reviews)\n",
    "    X = X.tocsc()  # some versions of sklearn return COO format\n",
    "    y = (imdb.sentiment == 'pos').values.astype(np.int)\n",
    "    X_cols = vectorizer.get_feature_names()\n",
    "    return X, y, X_cols"
   ]
  },
  {
   "cell_type": "code",
   "execution_count": 78,
   "metadata": {
    "collapsed": false
   },
   "outputs": [],
   "source": [
    "X, y, X_cols = make_xy_n_imdb(imdb_set, vectorizer=tfidfvectorizer, tokenizer=None)\n",
    "X = X.toarray()"
   ]
  },
  {
   "cell_type": "code",
   "execution_count": 79,
   "metadata": {
    "collapsed": false
   },
   "outputs": [
    {
     "name": "stdout",
     "output_type": "stream",
     "text": [
      "Accuracy on training data: 0.967657\n",
      "Accuracy on test data:     0.868000\n"
     ]
    }
   ],
   "source": [
    "clf = MultinomialNB(alpha=0.1).fit(X[mask_imdb], y[mask_imdb])\n",
    "\n",
    "#your turn. Print the accuracy on the test and training dataset\n",
    "training_accuracy = clf.score(X[mask_imdb], y[mask_imdb])\n",
    "test_accuracy = clf.score(X[~mask_imdb], y[~mask_imdb])\n",
    "\n",
    "print(\"Accuracy on training data: {:2f}\".format(training_accuracy))\n",
    "print(\"Accuracy on test data:     {:2f}\".format(test_accuracy))"
   ]
  },
  {
   "cell_type": "markdown",
   "metadata": {},
   "source": [
    "# 8. Doc2Vec training"
   ]
  },
  {
   "cell_type": "code",
   "execution_count": 80,
   "metadata": {
    "collapsed": true
   },
   "outputs": [],
   "source": [
    "tag_map = {'neg':\"1\",\n",
    "          'pos':\"2\",\n",
    "          'none':\"3\"}\n",
    "\n",
    "tag_map_rev = dict((v,k) for k,v in tag_map.items())"
   ]
  },
  {
   "cell_type": "code",
   "execution_count": 81,
   "metadata": {
    "collapsed": false
   },
   "outputs": [],
   "source": [
    "# Delete paragraph context information for test data\n",
    "# imdb_set.loc[~mask_imdb,'sentiment'] = 'none'"
   ]
  },
  {
   "cell_type": "code",
   "execution_count": 82,
   "metadata": {
    "collapsed": false
   },
   "outputs": [],
   "source": [
    "imdb_set_train = imdb_set[mask_imdb].reset_index().drop('index', 1)\n",
    "imdb_set_test = imdb_set[~mask_imdb].reset_index().drop('index', 1)\n",
    "\n",
    "sentences = D2V_LabeledLineSentence(imdb_set_train)\n",
    "sentences_label = sentences.to_array()\n",
    "\n",
    "sentences_test = D2V_LabeledLineSentence(imdb_set_test)\n",
    "sentences_test_label = sentences_test.to_array()\n",
    "\n",
    "sentences_rt = D2V_LabeledLineSentence(rt_set)\n",
    "sentences_rt_label = sentences_rt.to_array()"
   ]
  },
  {
   "cell_type": "code",
   "execution_count": 83,
   "metadata": {
    "collapsed": true
   },
   "outputs": [],
   "source": [
    "min_word_count=5\n",
    "context=10\n",
    "downsampling=1e-2\n",
    "negative_samp=5"
   ]
  },
  {
   "cell_type": "code",
   "execution_count": 84,
   "metadata": {
    "collapsed": false
   },
   "outputs": [
    {
     "name": "stderr",
     "output_type": "stream",
     "text": [
      "2017-05-28 21:12:56,634 : INFO : collecting all words and their counts\n",
      "2017-05-28 21:12:56,634 : INFO : PROGRESS: at example #0, processed 0 words (0/s), 0 word types, 0 tags\n",
      "2017-05-28 21:12:56,825 : INFO : PROGRESS: at example #10000, processed 1188815 words (6496118/s), 56820 word types, 2 tags\n",
      "2017-05-28 21:12:56,954 : INFO : collected 78318 word types and 2 unique tags from a corpus of 17500 examples and 2095285 words\n",
      "2017-05-28 21:12:56,970 : INFO : Loading a fresh vocabulary\n",
      "2017-05-28 21:12:57,053 : INFO : min_count=5 retains 22436 unique words (28% of original 78318, drops 55882)\n",
      "2017-05-28 21:12:57,053 : INFO : min_count=5 leaves 2011494 word corpus (96% of original 2095285, drops 83791)\n",
      "2017-05-28 21:12:57,115 : INFO : deleting the raw counts dictionary of 78318 items\n",
      "2017-05-28 21:12:57,115 : INFO : sample=0.01 downsamples 0 most-common words\n",
      "2017-05-28 21:12:57,115 : INFO : downsampling leaves estimated 2011494 word corpus (100.0% of prior 2011494)\n",
      "2017-05-28 21:12:57,115 : INFO : estimated required memory for 22436 words and 200 dimensions: 47117600 bytes\n",
      "2017-05-28 21:12:57,214 : INFO : resetting layer weights\n"
     ]
    }
   ],
   "source": [
    "model = Doc2Vec(min_count=min_word_count, dm=0, window=context, size=num_features, sample=downsampling, negative=negative_samp,\n",
    "                workers=num_workers, iter=iterations)\n",
    "model.build_vocab(sentences_label)"
   ]
  },
  {
   "cell_type": "code",
   "execution_count": 86,
   "metadata": {
    "collapsed": false
   },
   "outputs": [
    {
     "name": "stderr",
     "output_type": "stream",
     "text": [
      "2017-05-28 21:15:35,779 : INFO : training model with 12 workers on 22436 vocabulary and 200 features, using sg=1 hs=0 sample=0.01 negative=5 window=10\n",
      "2017-05-28 21:15:36,812 : INFO : PROGRESS: at 0.74% examples, 1458406 words/s, in_qsize 23, out_qsize 0\n",
      "2017-05-28 21:15:37,806 : INFO : PROGRESS: at 1.54% examples, 1535561 words/s, in_qsize 24, out_qsize 0\n",
      "2017-05-28 21:15:38,808 : INFO : PROGRESS: at 2.32% examples, 1547576 words/s, in_qsize 24, out_qsize 0\n",
      "2017-05-28 21:15:39,822 : INFO : PROGRESS: at 3.08% examples, 1547400 words/s, in_qsize 23, out_qsize 0\n",
      "2017-05-28 21:15:40,823 : INFO : PROGRESS: at 3.82% examples, 1539179 words/s, in_qsize 24, out_qsize 0\n",
      "2017-05-28 21:15:41,825 : INFO : PROGRESS: at 4.62% examples, 1550417 words/s, in_qsize 24, out_qsize 0\n",
      "2017-05-28 21:15:42,822 : INFO : PROGRESS: at 5.37% examples, 1545374 words/s, in_qsize 23, out_qsize 0\n",
      "2017-05-28 21:15:43,836 : INFO : PROGRESS: at 6.09% examples, 1533455 words/s, in_qsize 23, out_qsize 0\n",
      "2017-05-28 21:15:44,826 : INFO : PROGRESS: at 6.86% examples, 1537252 words/s, in_qsize 23, out_qsize 0\n",
      "2017-05-28 21:15:45,861 : INFO : PROGRESS: at 7.68% examples, 1544980 words/s, in_qsize 24, out_qsize 0\n",
      "2017-05-28 21:15:46,861 : INFO : PROGRESS: at 8.48% examples, 1551551 words/s, in_qsize 24, out_qsize 0\n",
      "2017-05-28 21:15:47,871 : INFO : PROGRESS: at 9.25% examples, 1552228 words/s, in_qsize 24, out_qsize 0\n",
      "2017-05-28 21:15:48,878 : INFO : PROGRESS: at 10.03% examples, 1553073 words/s, in_qsize 23, out_qsize 0\n",
      "2017-05-28 21:15:49,890 : INFO : PROGRESS: at 10.81% examples, 1555709 words/s, in_qsize 23, out_qsize 0\n",
      "2017-05-28 21:15:50,895 : INFO : PROGRESS: at 11.62% examples, 1559007 words/s, in_qsize 24, out_qsize 0\n",
      "2017-05-28 21:15:51,897 : INFO : PROGRESS: at 12.41% examples, 1561803 words/s, in_qsize 23, out_qsize 0\n",
      "2017-05-28 21:15:52,907 : INFO : PROGRESS: at 13.20% examples, 1563446 words/s, in_qsize 23, out_qsize 0\n",
      "2017-05-28 21:15:53,900 : INFO : PROGRESS: at 13.96% examples, 1563309 words/s, in_qsize 24, out_qsize 0\n",
      "2017-05-28 21:15:54,907 : INFO : PROGRESS: at 14.74% examples, 1564188 words/s, in_qsize 23, out_qsize 0\n",
      "2017-05-28 21:15:55,907 : INFO : PROGRESS: at 15.53% examples, 1565509 words/s, in_qsize 23, out_qsize 0\n",
      "2017-05-28 21:15:56,907 : INFO : PROGRESS: at 16.31% examples, 1566227 words/s, in_qsize 24, out_qsize 0\n",
      "2017-05-28 21:15:57,908 : INFO : PROGRESS: at 17.08% examples, 1566264 words/s, in_qsize 23, out_qsize 0\n",
      "2017-05-28 21:15:58,924 : INFO : PROGRESS: at 17.86% examples, 1565321 words/s, in_qsize 23, out_qsize 1\n",
      "2017-05-28 21:15:59,926 : INFO : PROGRESS: at 18.65% examples, 1566697 words/s, in_qsize 23, out_qsize 0\n",
      "2017-05-28 21:16:00,938 : INFO : PROGRESS: at 19.43% examples, 1566677 words/s, in_qsize 24, out_qsize 0\n",
      "2017-05-28 21:16:01,938 : INFO : PROGRESS: at 20.21% examples, 1566526 words/s, in_qsize 24, out_qsize 0\n",
      "2017-05-28 21:16:02,940 : INFO : PROGRESS: at 20.97% examples, 1566350 words/s, in_qsize 23, out_qsize 0\n",
      "2017-05-28 21:16:03,956 : INFO : PROGRESS: at 21.76% examples, 1566698 words/s, in_qsize 23, out_qsize 0\n",
      "2017-05-28 21:16:04,959 : INFO : PROGRESS: at 22.55% examples, 1568043 words/s, in_qsize 24, out_qsize 0\n",
      "2017-05-28 21:16:05,957 : INFO : PROGRESS: at 23.32% examples, 1567471 words/s, in_qsize 23, out_qsize 0\n",
      "2017-05-28 21:16:06,957 : INFO : PROGRESS: at 24.07% examples, 1566368 words/s, in_qsize 23, out_qsize 0\n",
      "2017-05-28 21:16:07,973 : INFO : PROGRESS: at 24.83% examples, 1565390 words/s, in_qsize 24, out_qsize 0\n",
      "2017-05-28 21:16:08,973 : INFO : PROGRESS: at 25.61% examples, 1565497 words/s, in_qsize 23, out_qsize 0\n",
      "2017-05-28 21:16:09,976 : INFO : PROGRESS: at 26.37% examples, 1564633 words/s, in_qsize 23, out_qsize 0\n",
      "2017-05-28 21:16:10,980 : INFO : PROGRESS: at 27.12% examples, 1563197 words/s, in_qsize 24, out_qsize 0\n",
      "2017-05-28 21:16:11,973 : INFO : PROGRESS: at 27.86% examples, 1561903 words/s, in_qsize 23, out_qsize 0\n",
      "2017-05-28 21:16:12,976 : INFO : PROGRESS: at 28.62% examples, 1560566 words/s, in_qsize 23, out_qsize 0\n",
      "2017-05-28 21:16:13,990 : INFO : PROGRESS: at 29.37% examples, 1559494 words/s, in_qsize 24, out_qsize 0\n",
      "2017-05-28 21:16:14,993 : INFO : PROGRESS: at 30.10% examples, 1557650 words/s, in_qsize 23, out_qsize 0\n",
      "2017-05-28 21:16:15,993 : INFO : PROGRESS: at 30.84% examples, 1556257 words/s, in_qsize 24, out_qsize 0\n",
      "2017-05-28 21:16:16,996 : INFO : PROGRESS: at 31.60% examples, 1555613 words/s, in_qsize 24, out_qsize 0\n",
      "2017-05-28 21:16:18,006 : INFO : PROGRESS: at 32.35% examples, 1554222 words/s, in_qsize 23, out_qsize 0\n",
      "2017-05-28 21:16:19,016 : INFO : PROGRESS: at 33.09% examples, 1552893 words/s, in_qsize 24, out_qsize 1\n",
      "2017-05-28 21:16:20,028 : INFO : PROGRESS: at 33.86% examples, 1552575 words/s, in_qsize 24, out_qsize 0\n",
      "2017-05-28 21:16:21,039 : INFO : PROGRESS: at 34.63% examples, 1552300 words/s, in_qsize 23, out_qsize 0\n",
      "2017-05-28 21:16:22,036 : INFO : PROGRESS: at 35.38% examples, 1551661 words/s, in_qsize 24, out_qsize 0\n",
      "2017-05-28 21:16:23,040 : INFO : PROGRESS: at 36.12% examples, 1550689 words/s, in_qsize 23, out_qsize 0\n",
      "2017-05-28 21:16:24,038 : INFO : PROGRESS: at 36.86% examples, 1549828 words/s, in_qsize 23, out_qsize 0\n",
      "2017-05-28 21:16:25,046 : INFO : PROGRESS: at 37.64% examples, 1549853 words/s, in_qsize 24, out_qsize 0\n",
      "2017-05-28 21:16:26,046 : INFO : PROGRESS: at 38.40% examples, 1549652 words/s, in_qsize 24, out_qsize 0\n",
      "2017-05-28 21:16:27,072 : INFO : PROGRESS: at 39.15% examples, 1548426 words/s, in_qsize 24, out_qsize 0\n",
      "2017-05-28 21:16:28,072 : INFO : PROGRESS: at 39.90% examples, 1548074 words/s, in_qsize 23, out_qsize 0\n",
      "2017-05-28 21:16:29,073 : INFO : PROGRESS: at 40.66% examples, 1547764 words/s, in_qsize 23, out_qsize 0\n",
      "2017-05-28 21:16:30,085 : INFO : PROGRESS: at 41.41% examples, 1547119 words/s, in_qsize 24, out_qsize 0\n",
      "2017-05-28 21:16:31,089 : INFO : PROGRESS: at 42.15% examples, 1546222 words/s, in_qsize 24, out_qsize 0\n",
      "2017-05-28 21:16:32,107 : INFO : PROGRESS: at 42.91% examples, 1545934 words/s, in_qsize 24, out_qsize 0\n",
      "2017-05-28 21:16:33,108 : INFO : PROGRESS: at 43.68% examples, 1545699 words/s, in_qsize 24, out_qsize 0\n",
      "2017-05-28 21:16:34,111 : INFO : PROGRESS: at 44.40% examples, 1544342 words/s, in_qsize 23, out_qsize 0\n",
      "2017-05-28 21:16:35,112 : INFO : PROGRESS: at 45.15% examples, 1543572 words/s, in_qsize 24, out_qsize 0\n",
      "2017-05-28 21:16:36,124 : INFO : PROGRESS: at 45.89% examples, 1543116 words/s, in_qsize 24, out_qsize 0\n",
      "2017-05-28 21:16:37,125 : INFO : PROGRESS: at 46.65% examples, 1542824 words/s, in_qsize 24, out_qsize 0\n",
      "2017-05-28 21:16:38,125 : INFO : PROGRESS: at 47.40% examples, 1542276 words/s, in_qsize 23, out_qsize 0\n",
      "2017-05-28 21:16:39,140 : INFO : PROGRESS: at 48.15% examples, 1541634 words/s, in_qsize 23, out_qsize 0\n",
      "2017-05-28 21:16:40,144 : INFO : PROGRESS: at 48.88% examples, 1541003 words/s, in_qsize 24, out_qsize 0\n",
      "2017-05-28 21:16:41,141 : INFO : PROGRESS: at 49.64% examples, 1540772 words/s, in_qsize 23, out_qsize 0\n",
      "2017-05-28 21:16:42,138 : INFO : PROGRESS: at 50.39% examples, 1540522 words/s, in_qsize 23, out_qsize 0\n",
      "2017-05-28 21:16:43,171 : INFO : PROGRESS: at 51.15% examples, 1539774 words/s, in_qsize 23, out_qsize 0\n",
      "2017-05-28 21:16:44,177 : INFO : PROGRESS: at 51.90% examples, 1539515 words/s, in_qsize 24, out_qsize 0\n",
      "2017-05-28 21:16:45,177 : INFO : PROGRESS: at 52.63% examples, 1538703 words/s, in_qsize 23, out_qsize 0\n",
      "2017-05-28 21:16:46,191 : INFO : PROGRESS: at 53.37% examples, 1537826 words/s, in_qsize 23, out_qsize 1\n",
      "2017-05-28 21:16:47,210 : INFO : PROGRESS: at 54.09% examples, 1536404 words/s, in_qsize 24, out_qsize 0\n",
      "2017-05-28 21:16:48,211 : INFO : PROGRESS: at 54.82% examples, 1535505 words/s, in_qsize 24, out_qsize 0\n",
      "2017-05-28 21:16:49,227 : INFO : PROGRESS: at 55.56% examples, 1534862 words/s, in_qsize 24, out_qsize 0\n",
      "2017-05-28 21:16:50,226 : INFO : PROGRESS: at 56.26% examples, 1533281 words/s, in_qsize 23, out_qsize 0\n",
      "2017-05-28 21:16:51,230 : INFO : PROGRESS: at 56.97% examples, 1531874 words/s, in_qsize 24, out_qsize 0\n",
      "2017-05-28 21:16:52,240 : INFO : PROGRESS: at 57.69% examples, 1530982 words/s, in_qsize 23, out_qsize 0\n",
      "2017-05-28 21:16:53,256 : INFO : PROGRESS: at 58.43% examples, 1530128 words/s, in_qsize 23, out_qsize 0\n",
      "2017-05-28 21:16:54,247 : INFO : PROGRESS: at 59.14% examples, 1529050 words/s, in_qsize 23, out_qsize 0\n",
      "2017-05-28 21:16:55,263 : INFO : PROGRESS: at 59.85% examples, 1527871 words/s, in_qsize 24, out_qsize 0\n",
      "2017-05-28 21:16:56,275 : INFO : PROGRESS: at 60.58% examples, 1526914 words/s, in_qsize 24, out_qsize 0\n",
      "2017-05-28 21:16:57,267 : INFO : PROGRESS: at 61.31% examples, 1526304 words/s, in_qsize 24, out_qsize 0\n",
      "2017-05-28 21:16:58,276 : INFO : PROGRESS: at 62.00% examples, 1524852 words/s, in_qsize 24, out_qsize 1\n",
      "2017-05-28 21:16:59,266 : INFO : PROGRESS: at 62.72% examples, 1524029 words/s, in_qsize 24, out_qsize 0\n",
      "2017-05-28 21:17:00,276 : INFO : PROGRESS: at 63.44% examples, 1523370 words/s, in_qsize 24, out_qsize 0\n",
      "2017-05-28 21:17:01,275 : INFO : PROGRESS: at 64.15% examples, 1522137 words/s, in_qsize 23, out_qsize 0\n",
      "2017-05-28 21:17:02,296 : INFO : PROGRESS: at 64.86% examples, 1521173 words/s, in_qsize 23, out_qsize 0\n",
      "2017-05-28 21:17:03,290 : INFO : PROGRESS: at 65.61% examples, 1521099 words/s, in_qsize 20, out_qsize 0\n",
      "2017-05-28 21:17:04,306 : INFO : PROGRESS: at 66.31% examples, 1519813 words/s, in_qsize 23, out_qsize 0\n",
      "2017-05-28 21:17:05,311 : INFO : PROGRESS: at 67.02% examples, 1518820 words/s, in_qsize 23, out_qsize 0\n",
      "2017-05-28 21:17:06,308 : INFO : PROGRESS: at 67.74% examples, 1518038 words/s, in_qsize 23, out_qsize 0\n",
      "2017-05-28 21:17:07,323 : INFO : PROGRESS: at 68.47% examples, 1517491 words/s, in_qsize 23, out_qsize 0\n",
      "2017-05-28 21:17:08,325 : INFO : PROGRESS: at 69.18% examples, 1516713 words/s, in_qsize 24, out_qsize 0\n",
      "2017-05-28 21:17:09,326 : INFO : PROGRESS: at 69.88% examples, 1515657 words/s, in_qsize 24, out_qsize 0\n",
      "2017-05-28 21:17:10,326 : INFO : PROGRESS: at 70.62% examples, 1515341 words/s, in_qsize 23, out_qsize 0\n",
      "2017-05-28 21:17:11,332 : INFO : PROGRESS: at 71.33% examples, 1514538 words/s, in_qsize 23, out_qsize 0\n",
      "2017-05-28 21:17:12,339 : INFO : PROGRESS: at 72.04% examples, 1513743 words/s, in_qsize 23, out_qsize 0\n",
      "2017-05-28 21:17:13,341 : INFO : PROGRESS: at 72.75% examples, 1513138 words/s, in_qsize 23, out_qsize 0\n",
      "2017-05-28 21:17:14,342 : INFO : PROGRESS: at 73.50% examples, 1513005 words/s, in_qsize 24, out_qsize 0\n",
      "2017-05-28 21:17:15,345 : INFO : PROGRESS: at 74.21% examples, 1512057 words/s, in_qsize 23, out_qsize 0\n",
      "2017-05-28 21:17:16,358 : INFO : PROGRESS: at 74.91% examples, 1511326 words/s, in_qsize 24, out_qsize 0\n",
      "2017-05-28 21:17:17,359 : INFO : PROGRESS: at 75.64% examples, 1510761 words/s, in_qsize 24, out_qsize 0\n",
      "2017-05-28 21:17:18,388 : INFO : PROGRESS: at 76.38% examples, 1510246 words/s, in_qsize 24, out_qsize 0\n",
      "2017-05-28 21:17:19,384 : INFO : PROGRESS: at 77.08% examples, 1509595 words/s, in_qsize 24, out_qsize 0\n",
      "2017-05-28 21:17:20,381 : INFO : PROGRESS: at 77.80% examples, 1509005 words/s, in_qsize 23, out_qsize 0\n",
      "2017-05-28 21:17:21,392 : INFO : PROGRESS: at 78.51% examples, 1508312 words/s, in_qsize 24, out_qsize 0\n",
      "2017-05-28 21:17:22,391 : INFO : PROGRESS: at 79.21% examples, 1507352 words/s, in_qsize 23, out_qsize 0\n",
      "2017-05-28 21:17:23,426 : INFO : PROGRESS: at 79.92% examples, 1506330 words/s, in_qsize 24, out_qsize 0\n",
      "2017-05-28 21:17:24,424 : INFO : PROGRESS: at 80.64% examples, 1505950 words/s, in_qsize 24, out_qsize 0\n",
      "2017-05-28 21:17:25,426 : INFO : PROGRESS: at 81.35% examples, 1505296 words/s, in_qsize 23, out_qsize 0\n",
      "2017-05-28 21:17:26,424 : INFO : PROGRESS: at 82.04% examples, 1504266 words/s, in_qsize 23, out_qsize 0\n",
      "2017-05-28 21:17:27,437 : INFO : PROGRESS: at 82.76% examples, 1503796 words/s, in_qsize 24, out_qsize 0\n",
      "2017-05-28 21:17:28,436 : INFO : PROGRESS: at 83.49% examples, 1503556 words/s, in_qsize 24, out_qsize 0\n",
      "2017-05-28 21:17:29,441 : INFO : PROGRESS: at 84.18% examples, 1502628 words/s, in_qsize 23, out_qsize 0\n",
      "2017-05-28 21:17:30,448 : INFO : PROGRESS: at 84.88% examples, 1501801 words/s, in_qsize 24, out_qsize 0\n",
      "2017-05-28 21:17:31,473 : INFO : PROGRESS: at 85.62% examples, 1501533 words/s, in_qsize 23, out_qsize 0\n",
      "2017-05-28 21:17:32,464 : INFO : PROGRESS: at 86.32% examples, 1500811 words/s, in_qsize 24, out_qsize 0\n",
      "2017-05-28 21:17:33,471 : INFO : PROGRESS: at 87.02% examples, 1500155 words/s, in_qsize 24, out_qsize 0\n",
      "2017-05-28 21:17:34,490 : INFO : PROGRESS: at 87.73% examples, 1499574 words/s, in_qsize 24, out_qsize 0\n",
      "2017-05-28 21:17:35,479 : INFO : PROGRESS: at 88.44% examples, 1498964 words/s, in_qsize 24, out_qsize 0\n",
      "2017-05-28 21:17:36,486 : INFO : PROGRESS: at 89.14% examples, 1498322 words/s, in_qsize 24, out_qsize 0\n",
      "2017-05-28 21:17:37,497 : INFO : PROGRESS: at 89.83% examples, 1497498 words/s, in_qsize 24, out_qsize 0\n",
      "2017-05-28 21:17:38,492 : INFO : PROGRESS: at 90.55% examples, 1497179 words/s, in_qsize 24, out_qsize 0\n",
      "2017-05-28 21:17:39,492 : INFO : PROGRESS: at 91.25% examples, 1496438 words/s, in_qsize 23, out_qsize 0\n",
      "2017-05-28 21:17:40,493 : INFO : PROGRESS: at 91.94% examples, 1495605 words/s, in_qsize 23, out_qsize 1\n",
      "2017-05-28 21:17:41,507 : INFO : PROGRESS: at 92.66% examples, 1495275 words/s, in_qsize 24, out_qsize 0\n",
      "2017-05-28 21:17:42,507 : INFO : PROGRESS: at 93.34% examples, 1494426 words/s, in_qsize 24, out_qsize 0\n",
      "2017-05-28 21:17:43,509 : INFO : PROGRESS: at 94.03% examples, 1493618 words/s, in_qsize 23, out_qsize 0\n",
      "2017-05-28 21:17:44,509 : INFO : PROGRESS: at 94.73% examples, 1493102 words/s, in_qsize 23, out_qsize 0\n",
      "2017-05-28 21:17:45,509 : INFO : PROGRESS: at 95.44% examples, 1492539 words/s, in_qsize 24, out_qsize 0\n",
      "2017-05-28 21:17:46,516 : INFO : PROGRESS: at 96.13% examples, 1491799 words/s, in_qsize 24, out_qsize 0\n",
      "2017-05-28 21:17:47,523 : INFO : PROGRESS: at 96.82% examples, 1491148 words/s, in_qsize 24, out_qsize 0\n",
      "2017-05-28 21:17:48,525 : INFO : PROGRESS: at 97.53% examples, 1490762 words/s, in_qsize 24, out_qsize 0\n",
      "2017-05-28 21:17:49,523 : INFO : PROGRESS: at 98.22% examples, 1490026 words/s, in_qsize 24, out_qsize 0\n",
      "2017-05-28 21:17:50,535 : INFO : PROGRESS: at 98.91% examples, 1489390 words/s, in_qsize 24, out_qsize 0\n",
      "2017-05-28 21:17:51,540 : INFO : PROGRESS: at 99.63% examples, 1488892 words/s, in_qsize 24, out_qsize 0\n",
      "2017-05-28 21:17:52,010 : INFO : worker thread finished; awaiting finish of 11 more threads\n",
      "2017-05-28 21:17:52,026 : INFO : worker thread finished; awaiting finish of 10 more threads\n",
      "2017-05-28 21:17:52,032 : INFO : worker thread finished; awaiting finish of 9 more threads\n",
      "2017-05-28 21:17:52,040 : INFO : worker thread finished; awaiting finish of 8 more threads\n",
      "2017-05-28 21:17:52,043 : INFO : worker thread finished; awaiting finish of 7 more threads\n",
      "2017-05-28 21:17:52,059 : INFO : worker thread finished; awaiting finish of 6 more threads\n",
      "2017-05-28 21:17:52,068 : INFO : worker thread finished; awaiting finish of 5 more threads\n",
      "2017-05-28 21:17:52,072 : INFO : worker thread finished; awaiting finish of 4 more threads\n",
      "2017-05-28 21:17:52,075 : INFO : worker thread finished; awaiting finish of 3 more threads\n",
      "2017-05-28 21:17:52,076 : INFO : worker thread finished; awaiting finish of 2 more threads\n",
      "2017-05-28 21:17:52,078 : INFO : worker thread finished; awaiting finish of 1 more threads\n",
      "2017-05-28 21:17:52,078 : INFO : worker thread finished; awaiting finish of 0 more threads\n",
      "2017-05-28 21:17:52,079 : INFO : training on 209528500 raw words (202899400 effective words) took 136.3s, 1488695 effective words/s\n"
     ]
    },
    {
     "data": {
      "text/plain": [
       "202899400"
      ]
     },
     "execution_count": 86,
     "metadata": {},
     "output_type": "execute_result"
    }
   ],
   "source": [
    "model.train(sentences_label, total_examples=model.corpus_count)"
   ]
  },
  {
   "cell_type": "code",
   "execution_count": 87,
   "metadata": {
    "collapsed": false
   },
   "outputs": [
    {
     "name": "stderr",
     "output_type": "stream",
     "text": [
      "2017-05-28 21:17:52,085 : INFO : precomputing L2-norms of word weight vectors\n"
     ]
    },
    {
     "data": {
      "text/plain": [
       "[('inventor', 0.26552850008010864),\n",
       " ('cheapest', 0.2528441846370697),\n",
       " ('faking', 0.2520052492618561),\n",
       " ('questioning', 0.24822178483009338),\n",
       " ('really', 0.24618735909461975),\n",
       " ('prey', 0.23804670572280884),\n",
       " ('peppard', 0.23714053630828857),\n",
       " ('aranda', 0.2353319227695465),\n",
       " ('onesided', 0.23512554168701172),\n",
       " ('sancho', 0.23173880577087402)]"
      ]
     },
     "execution_count": 87,
     "metadata": {},
     "output_type": "execute_result"
    }
   ],
   "source": [
    "model.most_similar('positive')"
   ]
  },
  {
   "cell_type": "code",
   "execution_count": 88,
   "metadata": {
    "collapsed": false
   },
   "outputs": [
    {
     "name": "stderr",
     "output_type": "stream",
     "text": [
      "2017-05-28 21:17:52,121 : INFO : precomputing L2-norms of doc weight vectors\n"
     ]
    },
    {
     "name": "stdout",
     "output_type": "stream",
     "text": [
      "Accuracy on train data:     0.808800\n"
     ]
    }
   ],
   "source": [
    "y_pred = map(lambda x: tag_map_rev[model.docvecs.most_similar([model.infer_vector(x.words)],\n",
    "                                                              topn=1)[0][0]], sentences_label)\n",
    "\n",
    "y_actual = map(lambda x: tag_map_rev[x.tags], sentences_label)\n",
    "\n",
    "print(\"Accuracy on train data:     {:2f}\".format(accuracy_score(y_actual, y_pred)))"
   ]
  },
  {
   "cell_type": "code",
   "execution_count": 89,
   "metadata": {
    "collapsed": false
   },
   "outputs": [
    {
     "name": "stdout",
     "output_type": "stream",
     "text": [
      "Accuracy on test data:     0.787867\n"
     ]
    }
   ],
   "source": [
    "y_pred = map(lambda x: tag_map_rev[model.docvecs.most_similar([model.infer_vector(x.words)],\n",
    "                                                              topn=1)[0][0]], sentences_test_label)\n",
    "\n",
    "y_actual = map(lambda x: tag_map_rev[x.tags], sentences_test_label)\n",
    "\n",
    "print(\"Accuracy on test data:     {:2f}\".format(accuracy_score(y_actual, y_pred)))"
   ]
  },
  {
   "cell_type": "code",
   "execution_count": 90,
   "metadata": {
    "collapsed": false
   },
   "outputs": [
    {
     "name": "stdout",
     "output_type": "stream",
     "text": [
      "Train feature constructed: 17499\r"
     ]
    }
   ],
   "source": [
    "# Build IMDB review vectors and logistric regression based predictive model, test on IMDB data\n",
    "y_test = (imdb_set_test.sentiment == 'pos').values.astype(np.int)\n",
    "y_train = (imdb_set_train.sentiment == 'pos').values.astype(np.int)\n",
    "\n",
    "X_test = np.zeros((len(imdb_set_test.sentiment), num_features))\n",
    "X_train = np.zeros((len(imdb_set_train.sentiment), num_features))\n",
    "\n",
    "# Set-up test vector features\n",
    "for i in range(len(imdb_set_test.sentiment)):\n",
    "    print 'Test feature constructed: {0}\\r'.format(i),\n",
    "    X_test[i] = model.infer_vector(sentences_test_label[i].words)\n",
    "    \n",
    "# Set-up train vector features\n",
    "for i in range(len(imdb_set_train.sentiment)):\n",
    "    print 'Train feature constructed: {0}\\r'.format(i),\n",
    "    X_train[i] = model.infer_vector(sentences_label[i].words)\n",
    "\n",
    "D2V_scaler = MinMaxScaler()\n",
    "    \n",
    "X_train = D2V_scaler.fit_transform(X_train)\n",
    "X_test = D2V_scaler.transform(X_test)"
   ]
  },
  {
   "cell_type": "code",
   "execution_count": 91,
   "metadata": {
    "collapsed": false
   },
   "outputs": [
    {
     "name": "stdout",
     "output_type": "stream",
     "text": [
      "Accuracy on training data: 0.926686\n",
      "Accuracy on test data:     0.879467\n"
     ]
    }
   ],
   "source": [
    "clf = LogisticRegression().fit(X_train, y_train)\n",
    "\n",
    "training_accuracy = clf.score(X_train, y_train)\n",
    "test_accuracy = clf.score(X_test, y_test)\n",
    "\n",
    "print(\"Accuracy on training data: {:2f}\".format(training_accuracy))\n",
    "print(\"Accuracy on test data:     {:2f}\".format(test_accuracy))"
   ]
  },
  {
   "cell_type": "code",
   "execution_count": 92,
   "metadata": {
    "collapsed": false
   },
   "outputs": [
    {
     "name": "stdout",
     "output_type": "stream",
     "text": [
      "RT feature constructed: 15560\r"
     ]
    }
   ],
   "source": [
    "# Build Rotten Tomatoes review vectors and logistric regression based predictive model, test on RT data\n",
    "y_rt = (rt_set.sentiment == 'pos').values.astype(np.int)\n",
    "X_rt = np.zeros((len(rt_set.sentiment), num_features))\n",
    "\n",
    "# Set-up vector features\n",
    "for i in range(len(rt_set.sentiment)):\n",
    "    print 'RT feature constructed: {0}\\r'.format(i),\n",
    "    X_rt[i] = model.infer_vector(sentences_rt_label[i].words)\n",
    "\n",
    "X_rt = D2V_scaler.transform(X_rt)"
   ]
  },
  {
   "cell_type": "code",
   "execution_count": 93,
   "metadata": {
    "collapsed": false
   },
   "outputs": [
    {
     "name": "stdout",
     "output_type": "stream",
     "text": [
      "Accuracy on RT data:     0.688709\n"
     ]
    }
   ],
   "source": [
    "test_accuracy = clf.score(X_rt, y_rt)\n",
    "print(\"Accuracy on RT data:     {:2f}\".format(test_accuracy))"
   ]
  },
  {
   "cell_type": "code",
   "execution_count": null,
   "metadata": {
    "collapsed": true
   },
   "outputs": [],
   "source": []
  },
  {
   "cell_type": "code",
   "execution_count": null,
   "metadata": {
    "collapsed": true
   },
   "outputs": [],
   "source": []
  }
 ],
 "metadata": {
  "kernelspec": {
   "display_name": "Python 2",
   "language": "python",
   "name": "python2"
  },
  "language_info": {
   "codemirror_mode": {
    "name": "ipython",
    "version": 2
   },
   "file_extension": ".py",
   "mimetype": "text/x-python",
   "name": "python",
   "nbconvert_exporter": "python",
   "pygments_lexer": "ipython2",
   "version": "2.7.13"
  }
 },
 "nbformat": 4,
 "nbformat_minor": 0
}
