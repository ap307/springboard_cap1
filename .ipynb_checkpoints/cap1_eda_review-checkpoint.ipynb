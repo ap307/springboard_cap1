{
 "cells": [
  {
   "cell_type": "code",
   "execution_count": 1,
   "metadata": {
    "collapsed": false
   },
   "outputs": [],
   "source": [
    "%matplotlib inline\n",
    "import os.path\n",
    "import sys\n",
    "from inspect import getsourcefile\n",
    "import pandas as pd\n",
    "import numpy as np\n",
    "import matplotlib.pyplot as plt\n",
    "import scipy.stats\n",
    "from sklearn import linear_model, datasets\n",
    "import seaborn as sns\n",
    "import statsmodels.api as sm\n",
    "from sklearn.linear_model import Ridge\n",
    "from sklearn.model_selection import cross_val_score, GridSearchCV, KFold, train_test_split\n",
    "from sklearn.preprocessing import normalize\n",
    "from sklearn.decomposition import PCA\n",
    "\n",
    "# Custom modules\n",
    "from aplib import aplib"
   ]
  },
  {
   "cell_type": "code",
   "execution_count": 2,
   "metadata": {
    "collapsed": true
   },
   "outputs": [],
   "source": [
    "# Customizable function to transform loss data\n",
    "def transform_losses(losses):\n",
    "    return np.log(losses + 200)"
   ]
  },
  {
   "cell_type": "code",
   "execution_count": 3,
   "metadata": {
    "collapsed": false
   },
   "outputs": [
    {
     "data": {
      "text/html": [
       "<div>\n",
       "<table border=\"1\" class=\"dataframe\">\n",
       "  <thead>\n",
       "    <tr style=\"text-align: right;\">\n",
       "      <th></th>\n",
       "      <th>id</th>\n",
       "      <th>cat1</th>\n",
       "      <th>cat2</th>\n",
       "      <th>cat3</th>\n",
       "      <th>cat4</th>\n",
       "      <th>cat5</th>\n",
       "      <th>cat6</th>\n",
       "      <th>cat7</th>\n",
       "      <th>cat8</th>\n",
       "      <th>cat9</th>\n",
       "      <th>...</th>\n",
       "      <th>cont6</th>\n",
       "      <th>cont7</th>\n",
       "      <th>cont8</th>\n",
       "      <th>cont9</th>\n",
       "      <th>cont10</th>\n",
       "      <th>cont11</th>\n",
       "      <th>cont12</th>\n",
       "      <th>cont13</th>\n",
       "      <th>cont14</th>\n",
       "      <th>loss</th>\n",
       "    </tr>\n",
       "  </thead>\n",
       "  <tbody>\n",
       "    <tr>\n",
       "      <th>0</th>\n",
       "      <td>1</td>\n",
       "      <td>A</td>\n",
       "      <td>B</td>\n",
       "      <td>A</td>\n",
       "      <td>B</td>\n",
       "      <td>A</td>\n",
       "      <td>A</td>\n",
       "      <td>A</td>\n",
       "      <td>A</td>\n",
       "      <td>B</td>\n",
       "      <td>...</td>\n",
       "      <td>0.718367</td>\n",
       "      <td>0.335060</td>\n",
       "      <td>0.30260</td>\n",
       "      <td>0.67135</td>\n",
       "      <td>0.83510</td>\n",
       "      <td>0.569745</td>\n",
       "      <td>0.594646</td>\n",
       "      <td>0.822493</td>\n",
       "      <td>0.714843</td>\n",
       "      <td>2213.18</td>\n",
       "    </tr>\n",
       "    <tr>\n",
       "      <th>1</th>\n",
       "      <td>2</td>\n",
       "      <td>A</td>\n",
       "      <td>B</td>\n",
       "      <td>A</td>\n",
       "      <td>A</td>\n",
       "      <td>A</td>\n",
       "      <td>A</td>\n",
       "      <td>A</td>\n",
       "      <td>A</td>\n",
       "      <td>B</td>\n",
       "      <td>...</td>\n",
       "      <td>0.438917</td>\n",
       "      <td>0.436585</td>\n",
       "      <td>0.60087</td>\n",
       "      <td>0.35127</td>\n",
       "      <td>0.43919</td>\n",
       "      <td>0.338312</td>\n",
       "      <td>0.366307</td>\n",
       "      <td>0.611431</td>\n",
       "      <td>0.304496</td>\n",
       "      <td>1283.60</td>\n",
       "    </tr>\n",
       "    <tr>\n",
       "      <th>2</th>\n",
       "      <td>5</td>\n",
       "      <td>A</td>\n",
       "      <td>B</td>\n",
       "      <td>A</td>\n",
       "      <td>A</td>\n",
       "      <td>B</td>\n",
       "      <td>A</td>\n",
       "      <td>A</td>\n",
       "      <td>A</td>\n",
       "      <td>B</td>\n",
       "      <td>...</td>\n",
       "      <td>0.289648</td>\n",
       "      <td>0.315545</td>\n",
       "      <td>0.27320</td>\n",
       "      <td>0.26076</td>\n",
       "      <td>0.32446</td>\n",
       "      <td>0.381398</td>\n",
       "      <td>0.373424</td>\n",
       "      <td>0.195709</td>\n",
       "      <td>0.774425</td>\n",
       "      <td>3005.09</td>\n",
       "    </tr>\n",
       "    <tr>\n",
       "      <th>3</th>\n",
       "      <td>10</td>\n",
       "      <td>B</td>\n",
       "      <td>B</td>\n",
       "      <td>A</td>\n",
       "      <td>B</td>\n",
       "      <td>A</td>\n",
       "      <td>A</td>\n",
       "      <td>A</td>\n",
       "      <td>A</td>\n",
       "      <td>B</td>\n",
       "      <td>...</td>\n",
       "      <td>0.440945</td>\n",
       "      <td>0.391128</td>\n",
       "      <td>0.31796</td>\n",
       "      <td>0.32128</td>\n",
       "      <td>0.44467</td>\n",
       "      <td>0.327915</td>\n",
       "      <td>0.321570</td>\n",
       "      <td>0.605077</td>\n",
       "      <td>0.602642</td>\n",
       "      <td>939.85</td>\n",
       "    </tr>\n",
       "    <tr>\n",
       "      <th>4</th>\n",
       "      <td>11</td>\n",
       "      <td>A</td>\n",
       "      <td>B</td>\n",
       "      <td>A</td>\n",
       "      <td>B</td>\n",
       "      <td>A</td>\n",
       "      <td>A</td>\n",
       "      <td>A</td>\n",
       "      <td>A</td>\n",
       "      <td>B</td>\n",
       "      <td>...</td>\n",
       "      <td>0.178193</td>\n",
       "      <td>0.247408</td>\n",
       "      <td>0.24564</td>\n",
       "      <td>0.22089</td>\n",
       "      <td>0.21230</td>\n",
       "      <td>0.204687</td>\n",
       "      <td>0.202213</td>\n",
       "      <td>0.246011</td>\n",
       "      <td>0.432606</td>\n",
       "      <td>2763.85</td>\n",
       "    </tr>\n",
       "  </tbody>\n",
       "</table>\n",
       "<p>5 rows × 132 columns</p>\n",
       "</div>"
      ],
      "text/plain": [
       "   id cat1 cat2 cat3 cat4 cat5 cat6 cat7 cat8 cat9   ...        cont6  \\\n",
       "0   1    A    B    A    B    A    A    A    A    B   ...     0.718367   \n",
       "1   2    A    B    A    A    A    A    A    A    B   ...     0.438917   \n",
       "2   5    A    B    A    A    B    A    A    A    B   ...     0.289648   \n",
       "3  10    B    B    A    B    A    A    A    A    B   ...     0.440945   \n",
       "4  11    A    B    A    B    A    A    A    A    B   ...     0.178193   \n",
       "\n",
       "      cont7    cont8    cont9   cont10    cont11    cont12    cont13  \\\n",
       "0  0.335060  0.30260  0.67135  0.83510  0.569745  0.594646  0.822493   \n",
       "1  0.436585  0.60087  0.35127  0.43919  0.338312  0.366307  0.611431   \n",
       "2  0.315545  0.27320  0.26076  0.32446  0.381398  0.373424  0.195709   \n",
       "3  0.391128  0.31796  0.32128  0.44467  0.327915  0.321570  0.605077   \n",
       "4  0.247408  0.24564  0.22089  0.21230  0.204687  0.202213  0.246011   \n",
       "\n",
       "     cont14     loss  \n",
       "0  0.714843  2213.18  \n",
       "1  0.304496  1283.60  \n",
       "2  0.774425  3005.09  \n",
       "3  0.602642   939.85  \n",
       "4  0.432606  2763.85  \n",
       "\n",
       "[5 rows x 132 columns]"
      ]
     },
     "execution_count": 3,
     "metadata": {},
     "output_type": "execute_result"
    }
   ],
   "source": [
    "# Import data set\n",
    "train_file_loc = os.path.expanduser(\"~/Documents/springboard_files/springboard_cap1/data/train.csv\")\n",
    "all_data = pd.read_csv(train_file_loc)\n",
    "\n",
    "# Test data provided does not have losses, so use CV to create test sample\n",
    "#test_file_loc = os.path.expanduser(\"~/Documents/springboard_files/springboard_cap1/data/test.csv\")\n",
    "#test_data = pd.read_csv(test_file_loc)\n",
    "\n",
    "# Print sample data\n",
    "all_data.head(5)"
   ]
  },
  {
   "cell_type": "code",
   "execution_count": 4,
   "metadata": {
    "collapsed": false
   },
   "outputs": [],
   "source": [
    "# Load all data\n",
    "#load_rows = 20000\n",
    "load_rows = all_data.shape[0]\n",
    "train_data = all_data.loc[:load_rows-1,:]\n",
    "train_losses = all_data.loc[:load_rows-1,\"loss\"]\n",
    "all_train_losses = all_data.loc[:load_rows-1,\"loss\"]\n",
    "\n",
    "# Create separate DataFrames for continuous and categorical variables\n",
    "cat_var = train_data.iloc[:,1:117]\n",
    "cont_var = train_data.iloc[:,117:-1]\n",
    "\n",
    "# Encode categorical variables, re-join to continuous variables\n",
    "dummy_var = pd.get_dummies(cat_var, drop_first=True)\n",
    "train_data = pd.concat([dummy_var, cont_var], axis=1)\n",
    "all_train_data = pd.concat([dummy_var, cont_var], axis=1)\n",
    "\n",
    "# Load test data\n",
    "#test_load_rows = test_data.shape[0]\n",
    "#test_data = test_data.loc[:test_load_rows-1,:]\n",
    "#test_losses = test_data.loc[:test_load_rows-1,\"loss\"]\n",
    "train_data, test_data, train_losses, test_losses = train_test_split(train_data,\n",
    "                                                                    train_losses,\n",
    "                                                                    test_size=0.1,\n",
    "                                                                    random_state=3)\n",
    "test_load_rows = test_data.shape[0]"
   ]
  },
  {
   "cell_type": "code",
   "execution_count": 5,
   "metadata": {
    "collapsed": true
   },
   "outputs": [],
   "source": [
    "# Split categorical and continuos variables\n",
    "cat_var_list = [col for col in list(train_data) if col.startswith('cat')]\n",
    "cont_var_list = [col for col in list(train_data) if col.startswith('cont')]"
   ]
  },
  {
   "cell_type": "code",
   "execution_count": 6,
   "metadata": {
    "collapsed": false
   },
   "outputs": [
    {
     "name": "stdout",
     "output_type": "stream",
     "text": [
      "-0.0398048871747\n"
     ]
    }
   ],
   "source": [
    "box_cox_losses=True\n",
    "\n",
    "if box_cox_losses==True:\n",
    "    train_losses, box_cox_data_lambda = scipy.stats.boxcox(train_losses, lmbda=None)\n",
    "    test_losses = scipy.stats.boxcox(test_losses, lmbda=box_cox_data_lambda)\n",
    "    all_train_losses = scipy.stats.boxcox(all_train_losses, lmbda=box_cox_data_lambda)\n",
    "    print box_cox_data_lambda"
   ]
  },
  {
   "cell_type": "code",
   "execution_count": null,
   "metadata": {
    "collapsed": false
   },
   "outputs": [],
   "source": [
    "# Check for completenes of data, returns 0 if there are entries for each loss data point\n",
    "if sum(train_data.count(axis=0) != train_losses.size):\n",
    "    print \"Missing data mapped to losses\"\n",
    "else:\n",
    "    print \"No missing data mapped to losses\""
   ]
  },
  {
   "cell_type": "code",
   "execution_count": null,
   "metadata": {
    "collapsed": false
   },
   "outputs": [],
   "source": [
    "# For categorical variables, create dictionary of unique values\n",
    "unique_dict = {}\n",
    "for column in cat_var:\n",
    "    unique_dict[column]=cat_var[column].unique()"
   ]
  },
  {
   "cell_type": "code",
   "execution_count": null,
   "metadata": {
    "collapsed": false
   },
   "outputs": [],
   "source": [
    "# List of distributional forms to explore\n",
    "dist_names = ['norm']#,'lognorm','exponnorm', 'gamma']#, 'beta','norm', 'beta', 'rayleigh', 'norm', 'pareto']\n",
    "\n",
    "# Call function to plot distribution and return fit information\n",
    "figure, dist_info = aplib.fit_plot_distribution(train_losses, dist_names, log_scale=False)\n",
    "print dist_info"
   ]
  },
  {
   "cell_type": "code",
   "execution_count": null,
   "metadata": {
    "collapsed": false,
    "scrolled": true
   },
   "outputs": [],
   "source": [
    "# Plot losses vs. continuous variables\n",
    "fig, axes = plt.subplots(7,2, figsize=(12,24))\n",
    "\n",
    "for counter, col in enumerate(cont_var_list):\n",
    "    axes[counter // 2][counter % 2].scatter(x=train_data[col], y=train_losses)\n",
    "    axes[counter // 2][counter % 2].set_title(col)\n",
    "\n",
    "fig.tight_layout()"
   ]
  },
  {
   "cell_type": "code",
   "execution_count": null,
   "metadata": {
    "collapsed": false
   },
   "outputs": [],
   "source": [
    "# Plot correlation matrix heat map\n",
    "cont_var_wloss = all_data.iloc[:load_rows-1,117:]\n",
    "corr = cont_var_wloss.corr()\n",
    "mask = np.zeros_like(corr, dtype=np.bool)\n",
    "mask[np.triu_indices_from(mask)] = True\n",
    "f, ax = plt.subplots(figsize=(11, 9))\n",
    "cmap = sns.diverging_palette(220, 10, as_cmap=True)\n",
    "\n",
    "ax = sns.heatmap(corr, mask=mask, cmap=cmap,\n",
    "            square=True, xticklabels=True, yticklabels=True,\n",
    "            linewidths=.25, cbar_kws={\"shrink\": .75}, ax=ax)\n",
    "\n",
    "ax.set_xticklabels(ax.get_xticklabels(), rotation = 45)\n",
    "ax.set_yticklabels(ax.get_yticklabels(), rotation = 0)"
   ]
  },
  {
   "cell_type": "code",
   "execution_count": null,
   "metadata": {
    "collapsed": false
   },
   "outputs": [],
   "source": [
    "# Identify variables with a degree of correlatin > threshold (between themselves or vs. loss)\n",
    "\n",
    "threshold = 0.5\n",
    "sig_dict = {}\n",
    "\n",
    "sig_counter = 0\n",
    "for counter1 in range(0, cont_var_wloss.columns.size):\n",
    "    for counter2 in range(counter1 + 1, cont_var_wloss.columns.size):\n",
    "        correl, pval = scipy.stats.pearsonr(cont_var_wloss.iloc[:,counter1], cont_var_wloss.iloc[:,counter2])\n",
    "        if (correl<=-threshold) or (correl>=threshold):\n",
    "            sig_dict[sig_counter] = {(cont_var_wloss.columns[counter1]):(cont_var_wloss.columns[counter2])}\n",
    "            sig_counter += 1\n",
    "\n",
    "sig_dict"
   ]
  },
  {
   "cell_type": "code",
   "execution_count": null,
   "metadata": {
    "collapsed": false
   },
   "outputs": [],
   "source": [
    "# Plot subset of continous variables and loss with a degree of correlation > threshold\n",
    "fig, axes = plt.subplots(int(np.ceil((len(sig_dict)+1)/2)),2, figsize=(12,48))\n",
    "\n",
    "for key, value in sig_dict.iteritems():\n",
    "    title = ('{} vs {}').format(value.items()[0][0],  value.items()[0][1])\n",
    "    axes[key // 2, key % 2].scatter(train_data[value.items()[0][0]], train_data[value.items()[0][1]])\n",
    "    axes[key // 2, key % 2].set_title(title)\n",
    "\n",
    "fig.tight_layout()"
   ]
  },
  {
   "cell_type": "code",
   "execution_count": null,
   "metadata": {
    "collapsed": false
   },
   "outputs": [],
   "source": [
    "# Define cross validation scheme\n",
    "kf_10 = KFold(n_splits=10, shuffle=False, random_state=2)\n",
    "\n",
    "# Transform variables through PCA\n",
    "cv_pca = PCA(whiten=True)\n",
    "\n",
    "# Run through options for alpha parameter\n",
    "regr = Ridge(fit_intercept=True)\n",
    "param_grid = {'alpha': [10, 1000]}\n",
    "ridge_param_eval = GridSearchCV(regr, param_grid, cv=kf_10, scoring='neg_mean_absolute_error')\n",
    "ridge_param_eval.fit(cv_pca.fit_transform(np.array(all_train_data)), np.array(all_train_losses))\n",
    "ridge_param_eval.cv_results_"
   ]
  },
  {
   "cell_type": "code",
   "execution_count": null,
   "metadata": {
    "collapsed": false
   },
   "outputs": [],
   "source": [
    "# Print out optimum parameter\n",
    "opt_param = ridge_param_eval.cv_results_['params'][ridge_param_eval.cv_results_['rank_test_score'].argmin()]\n",
    "print opt_param"
   ]
  },
  {
   "cell_type": "code",
   "execution_count": 7,
   "metadata": {
    "collapsed": true
   },
   "outputs": [],
   "source": [
    "# Optimal regression parameters based on analysis below\n",
    "# For analyses based on PCA where variance of vectors is important, num_pca controls max number of features considered\n",
    "\n",
    "ridge_reg_alpha = 10 #opt_param['alpha']\n",
    "num_pca = []"
   ]
  },
  {
   "cell_type": "code",
   "execution_count": 8,
   "metadata": {
    "collapsed": false
   },
   "outputs": [
    {
     "name": "stdout",
     "output_type": "stream",
     "text": [
      "Train R2: 0.52\n",
      "Train MSE: 0.324\n",
      "Test MAE: 0.326\n"
     ]
    },
    {
     "data": {
      "image/png": "[encoded data removed]",
      "text/plain": [
       "<matplotlib.figure.Figure at 0x10fde8350>"
      ]
     },
     "metadata": {},
     "output_type": "display_data"
    }
   ],
   "source": [
    "# Run all variables through OLS\n",
    "train_R2, train_MABS, test_MABS, test_scatter_plot, \\\n",
    "loss_pred, test_loss_pred = aplib.fit_OLS(losses=train_losses,\n",
    "                                          test_losses=test_losses,\n",
    "                                          X_train=train_data,\n",
    "                                          X_test=test_data,\n",
    "                                          apply_pca=True,\n",
    "                                          ridge_alpha=ridge_reg_alpha)"
   ]
  },
  {
   "cell_type": "code",
   "execution_count": 9,
   "metadata": {
    "collapsed": false
   },
   "outputs": [],
   "source": [
    "def invboxcox(y,ld):\n",
    "    return (ld*y+1)**(1/ld)\n",
    "\n",
    "if box_cox_losses==True:\n",
    "    loss_pred = invboxcox(loss_pred, box_cox_data_lambda)\n",
    "    test_loss_pred = invboxcox(test_loss_pred, box_cox_data_lambda)\n",
    "    test_losses = invboxcox(test_losses, box_cox_data_lambda)\n",
    "    train_losses = invboxcox(train_losses, box_cox_data_lambda)"
   ]
  },
  {
   "cell_type": "code",
   "execution_count": 10,
   "metadata": {
    "collapsed": false
   },
   "outputs": [
    {
     "name": "stdout",
     "output_type": "stream",
     "text": [
      "1252.50440634\n",
      "1249.65768532\n"
     ]
    },
    {
     "data": {
      "text/plain": [
       "<matplotlib.collections.PathCollection at 0x11a211490>"
      ]
     },
     "execution_count": 10,
     "metadata": {},
     "output_type": "execute_result"
    },
    {
     "data": {
      "image/png": "[encoded data removed]",
      "text/plain": [
       "<matplotlib.figure.Figure at 0x1162c5c50>"
      ]
     },
     "metadata": {},
     "output_type": "display_data"
    }
   ],
   "source": [
    "from sklearn.metrics import mean_absolute_error\n",
    "print mean_absolute_error(test_loss_pred, test_losses)\n",
    "print mean_absolute_error(loss_pred, train_losses)\n",
    "plt.scatter(x=loss_pred, y=train_losses)"
   ]
  },
  {
   "cell_type": "code",
   "execution_count": null,
   "metadata": {
    "collapsed": false
   },
   "outputs": [],
   "source": [
    "# For analysis where variance of input data is an important feature does not whiten feature data\n",
    "opt_regr = Ridge(alpha=ridge_reg_alpha)\n",
    "max_factors = 110\n",
    "\n",
    "dummy_var = pd.get_dummies(cat_var, drop_first=True)\n",
    "all_var = pd.concat([dummy_var, cont_var], axis=1)\n",
    "\n",
    "# Identify PCA\n",
    "pca = PCA(whiten=False)\n",
    "all_var = pca.fit_transform(all_var)\n",
    "all_var.shape\n",
    "\n",
    "# Add constant\n",
    "all_var = np.insert(all_var, 0, 1, axis=1)\n",
    "\n",
    "mse = []\n",
    "for i in np.arange(1,max_factors+2):\n",
    "    score = -cross_val_score(opt_regr, all_var[:,:i], \n",
    "                             all_data.loc[:load_rows-1,\"loss\"], \n",
    "                             cv=kf_10, scoring='neg_mean_absolute_error').mean()\n",
    "    mse.append(score)\n",
    "    print 'Up to {0} PCA factors analyzed\\r'.format(i)"
   ]
  },
  {
   "cell_type": "code",
   "execution_count": null,
   "metadata": {
    "collapsed": false
   },
   "outputs": [],
   "source": [
    "import matplotlib.ticker\n",
    "fig,ax = plt.subplots()\n",
    "ax.plot(np.arange(1,max_factors+2), mse[0:])\n",
    "ax.xaxis.set_major_locator(matplotlib.ticker.MaxNLocator(integer=True))\n",
    "ax.set_xlabel(\"Number of PCA factors\")\n",
    "#ax.set_xticks(np.arange(1,max_factors+1))\n",
    "ax.set_ylabel(\"Mean Abasolute Error\")\n",
    "ax.set_title(\"Mean Abasolute Error vs. Number of PCA Factors\")"
   ]
  },
  {
   "cell_type": "code",
   "execution_count": null,
   "metadata": {
    "collapsed": true
   },
   "outputs": [],
   "source": []
  }
 ],
 "metadata": {
  "kernelspec": {
   "display_name": "Python 2",
   "language": "python",
   "name": "python2"
  },
  "language_info": {
   "codemirror_mode": {
    "name": "ipython",
    "version": 2
   },
   "file_extension": ".py",
   "mimetype": "text/x-python",
   "name": "python",
   "nbconvert_exporter": "python",
   "pygments_lexer": "ipython2",
   "version": "2.7.13"
  }
 },
 "nbformat": 4,
 "nbformat_minor": 2
}
