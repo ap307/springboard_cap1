{
 "cells": [
  {
   "cell_type": "code",
   "execution_count": 1,
   "metadata": {
    "collapsed": true
   },
   "outputs": [],
   "source": [
    "import pandas as pd\n",
    "import numpy as np"
   ]
  },
  {
   "cell_type": "code",
   "execution_count": 5,
   "metadata": {},
   "outputs": [
    {
     "data": {
      "text/plain": [
       "2011-01-01 00:00:00    0.193156\n",
       "2011-01-01 01:00:00    1.130152\n",
       "2011-01-01 02:00:00   -0.761611\n",
       "2011-01-01 03:00:00   -0.706531\n",
       "2011-01-01 04:00:00    0.666466\n",
       "2011-01-01 05:00:00   -0.213910\n",
       "2011-01-01 06:00:00   -0.100749\n",
       "2011-01-01 07:00:00   -2.562168\n",
       "2011-01-01 08:00:00    1.901844\n",
       "2011-01-01 09:00:00    0.646660\n",
       "Freq: H, dtype: float64"
      ]
     },
     "execution_count": 5,
     "metadata": {},
     "output_type": "execute_result"
    }
   ],
   "source": [
    "rng = pd.date_range('1/1/2011', periods=72, freq='H')\n",
    "ts = pd.Series(np.random.randn(len(rng)), index=rng)\n",
    "ts.head(10)"
   ]
  },
  {
   "cell_type": "code",
   "execution_count": 11,
   "metadata": {},
   "outputs": [
    {
     "data": {
      "text/plain": [
       "2011-01-01 00:00:00    0.193156\n",
       "2011-01-01 00:45:00    0.193156\n",
       "2011-01-01 01:30:00    1.130152\n",
       "2011-01-01 02:15:00   -0.761611\n",
       "2011-01-01 03:00:00   -0.706531\n",
       "2011-01-01 03:45:00   -0.706531\n",
       "2011-01-01 04:30:00    0.666466\n",
       "2011-01-01 05:15:00   -0.213910\n",
       "2011-01-01 06:00:00   -0.100749\n",
       "2011-01-01 06:45:00   -0.100749\n",
       "Freq: 45T, dtype: float64"
      ]
     },
     "execution_count": 11,
     "metadata": {},
     "output_type": "execute_result"
    }
   ],
   "source": [
    "converted = ts.asfreq('45Min', method='pad')\n",
    "converted.head(10)"
   ]
  },
  {
   "cell_type": "code",
   "execution_count": null,
   "metadata": {
    "collapsed": true
   },
   "outputs": [],
   "source": [
    "# Does asfreq change the # of rows?\n",
    "# Yes if frequency changed to is different from original frequency"
   ]
  },
  {
   "cell_type": "code",
   "execution_count": null,
   "metadata": {
    "collapsed": true
   },
   "outputs": [],
   "source": [
    "# What do the different methods do?\n",
    "# method : {‘backfill’, ‘bfill’, ‘pad’, ‘ffill’, None}\n",
    "# backfill / bfill fill from nearest date in the future, pad / ffill fill from nearest date in the future\n",
    "# if None returns NaN if there is no data for interpolated dates"
   ]
  },
  {
   "cell_type": "code",
   "execution_count": null,
   "metadata": {
    "collapsed": true
   },
   "outputs": [],
   "source": [
    "# Might any of these methods have pitfalls from a logical point of view?\n",
    "# "
   ]
  },
  {
   "cell_type": "code",
   "execution_count": null,
   "metadata": {
    "collapsed": true
   },
   "outputs": [],
   "source": [
    "# What's the difference between going to a higher frequency and a lower frequency?\n",
    "# when using lower frequency entries will not be repeated"
   ]
  },
  {
   "cell_type": "code",
   "execution_count": 14,
   "metadata": {},
   "outputs": [
    {
     "data": {
      "text/plain": [
       "2011-01-01 00:00:00    0.193156\n",
       "2011-01-01 01:30:00   -0.761611\n",
       "2011-01-01 03:00:00   -0.706531\n",
       "2011-01-01 04:30:00   -0.213910\n",
       "2011-01-01 06:00:00   -0.100749\n",
       "2011-01-01 07:30:00    1.901844\n",
       "2011-01-01 09:00:00    0.646660\n",
       "2011-01-01 10:30:00    1.785270\n",
       "2011-01-01 12:00:00   -0.802914\n",
       "2011-01-01 13:30:00   -0.237512\n",
       "Freq: 90T, dtype: float64"
      ]
     },
     "execution_count": 14,
     "metadata": {},
     "output_type": "execute_result"
    }
   ],
   "source": [
    "converted = ts.asfreq('90Min', method = 'bfill')\n",
    "converted.head(10)"
   ]
  },
  {
   "cell_type": "code",
   "execution_count": null,
   "metadata": {
    "collapsed": true
   },
   "outputs": [],
   "source": [
    "# What's different logically about going to a higher frequency vs a lower frequency? \n",
    "# What do you want to do when switching to a lower freqeuncy that is not logical when switching to a higher frequency?"
   ]
  },
  {
   "cell_type": "code",
   "execution_count": 29,
   "metadata": {},
   "outputs": [
    {
     "data": {
      "text/plain": [
       "2011-01-01 00:00:00    1.323308\n",
       "2011-01-01 02:00:00   -1.468142\n",
       "2011-01-01 04:00:00    0.452555\n",
       "2011-01-01 06:00:00   -2.662917\n",
       "2011-01-01 08:00:00    2.548503\n",
       "2011-01-01 10:00:00    2.078374\n",
       "2011-01-01 12:00:00   -0.177225\n",
       "2011-01-01 14:00:00    2.269159\n",
       "2011-01-01 16:00:00    1.085639\n",
       "2011-01-01 18:00:00    0.027994\n",
       "Freq: 2H, dtype: float64"
      ]
     },
     "execution_count": 29,
     "metadata": {},
     "output_type": "execute_result"
    }
   ],
   "source": [
    "ts.resample('2H').sum().head(10)"
   ]
  },
  {
   "cell_type": "code",
   "execution_count": 30,
   "metadata": {},
   "outputs": [
    {
     "data": {
      "text/plain": [
       "2011-01-01 00:00:00    0.193156\n",
       "2011-01-01 00:30:00         NaN\n",
       "2011-01-01 01:00:00    1.130152\n",
       "2011-01-01 01:30:00         NaN\n",
       "2011-01-01 02:00:00   -0.761611\n",
       "2011-01-01 02:30:00         NaN\n",
       "2011-01-01 03:00:00   -0.706531\n",
       "2011-01-01 03:30:00         NaN\n",
       "2011-01-01 04:00:00    0.666466\n",
       "2011-01-01 04:30:00         NaN\n",
       "Freq: 30T, dtype: float64"
      ]
     },
     "execution_count": 30,
     "metadata": {},
     "output_type": "execute_result"
    }
   ],
   "source": [
    "# What if you want to downsample and you don't want to ffill or bfill?\n",
    "ts.resample('30min').sum().head(10)"
   ]
  },
  {
   "cell_type": "code",
   "execution_count": null,
   "metadata": {
    "collapsed": true
   },
   "outputs": [],
   "source": [
    "# What is the difference between .resample() and .asfreq()?\n",
    "# asfreq can only change frequency of time seris, resample can be used with functions manilpuate time series data"
   ]
  },
  {
   "cell_type": "code",
   "execution_count": null,
   "metadata": {
    "collapsed": true
   },
   "outputs": [],
   "source": [
    "# What are some special things you can do with .resample() you can't do with .asfreq()?\n",
    "# interpolate between time series, pickout the last data point in the time series closes to the resampled dates"
   ]
  },
  {
   "cell_type": "code",
   "execution_count": null,
   "metadata": {
    "collapsed": true
   },
   "outputs": [],
   "source": []
  }
 ],
 "metadata": {
  "kernelspec": {
   "display_name": "Python 3",
   "language": "python",
   "name": "python3"
  },
  "language_info": {
   "codemirror_mode": {
    "name": "ipython",
    "version": 3
   },
   "file_extension": ".py",
   "mimetype": "text/x-python",
   "name": "python",
   "nbconvert_exporter": "python",
   "pygments_lexer": "ipython3",
   "version": "3.6.1"
  },
  "widgets": {
   "state": {},
   "version": "1.1.1"
  }
 },
 "nbformat": 4,
 "nbformat_minor": 1
}
